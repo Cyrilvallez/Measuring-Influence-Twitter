{
 "cells": [
  {
   "cell_type": "code",
   "execution_count": 2,
   "metadata": {},
   "outputs": [],
   "source": [
    "using DataFrames\n",
    "\n",
    "include(\"../Engine/Engine.jl\")\n",
    "using .Engine"
   ]
  },
  {
   "cell_type": "code",
   "execution_count": 64,
   "metadata": {},
   "outputs": [],
   "source": [
    "graphs, cascade, df = load_data(\"/Users/cyrilvallez/Desktop/Thesis/Results/COP27_JDD_10_seeds/data.jld2\");"
   ]
  },
  {
   "cell_type": "code",
   "execution_count": 65,
   "metadata": {},
   "outputs": [],
   "source": [
    "graphs2, cascade2,df2 = load_data(\"/Users/cyrilvallez/Desktop/Thesis/Results/Random_JDD_10_seeds/data.jld2\");"
   ]
  },
  {
   "cell_type": "code",
   "execution_count": 33,
   "metadata": {},
   "outputs": [
    {
     "data": {
      "text/plain": [
       "Dict{String, Any} with 5 entries:\n",
       "  \"edge_type\"  => [\"T to T\", \"T to U\", \"U to T\", \"U to U\", \"T to T\", \"T to U\", …\n",
       "  \"proportion\" => [0.504065, 0.0108401, 0.00542005, 0.479675, 0.914754, 0.0, 0.…\n",
       "  \"partition\"  => [\"After COP27\", \"After COP27\", \"After COP27\", \"After COP27\", …\n",
       "  \"count\"      => [186, 4, 2, 177, 279, 0, 1, 25, 136, 17  …  0, 168, 281, 0, 1…\n",
       "  \"prop\"       => [0.00292895, 6.29882e-5, 3.14941e-5, 0.00278723, 0.00305908, …"
      ]
     },
     "execution_count": 33,
     "metadata": {},
     "output_type": "execute_result"
    }
   ],
   "source": [
    "test = combine(groupby(df, \"partition\"), \"actor\" => (x->length(unique(x))^2) => \"count\")\n",
    "\n",
    "edges = edge_types(graphs, df, 0)\n",
    "edges[\"prop\"] = Vector{Float64}(undef, length(edges[\"count\"]))\n",
    "for (i,partition) in enumerate(test.partition)\n",
    "    ind = edges[\"partition\"] .== partition\n",
    "    edges[\"prop\"][ind] = edges[\"count\"][ind] ./ test.count[i]\n",
    "end\n",
    "\n",
    "edges"
   ]
  },
  {
   "cell_type": "code",
   "execution_count": 34,
   "metadata": {},
   "outputs": [],
   "source": [
    "edges2 = edge_types(graphs2, df2, 0)\n",
    "edges2[\"prop\"] = edges2[\"count\"] ./ length(unique(df2.actor))^2;"
   ]
  },
  {
   "cell_type": "code",
   "execution_count": 35,
   "metadata": {},
   "outputs": [
    {
     "data": {
      "text/plain": [
       "Dict{String, Any} with 5 entries:\n",
       "  \"edge_type\"  => [\"T to T\", \"T to U\", \"U to T\", \"U to U\", \"T to T\", \"T to U\", …\n",
       "  \"proportion\" => [0.504065, 0.0108401, 0.00542005, 0.479675, 0.914754, 0.0, 0.…\n",
       "  \"partition\"  => [\"After COP27\", \"After COP27\", \"After COP27\", \"After COP27\", …\n",
       "  \"count\"      => [186, 4, 2, 177, 279, 0, 1, 25, 136, 17  …  50, 7, 48, 0, 33,…\n",
       "  \"prop\"       => [0.00292895, 6.29882e-5, 3.14941e-5, 0.00278723, 0.00305908, …"
      ]
     },
     "execution_count": 35,
     "metadata": {},
     "output_type": "execute_result"
    }
   ],
   "source": [
    "edges = Metrics.combine_dict([edges, edges2])"
   ]
  },
  {
   "cell_type": "code",
   "execution_count": 53,
   "metadata": {},
   "outputs": [
    {
     "data": {
      "text/plain": [
       "find_number (generic function with 1 method)"
      ]
     },
     "execution_count": 53,
     "metadata": {},
     "output_type": "execute_result"
    }
   ],
   "source": [
    "function find_number(actors, actions)\n",
    "\n",
    "    actors_ = unique(actors)\n",
    "    actions_ = unique(actions)\n",
    "\n",
    "    tot = Dict([\"$a\" => 0 for a in actions_])\n",
    "    tot[\"remove\"] = 0\n",
    "    for actor in actors_\n",
    "\n",
    "        indices = findall(actors .== actor)\n",
    "\n",
    "        check = 0\n",
    "        for a in actions_\n",
    "            if any(actions[indices] .== a)\n",
    "                tot[\"$a\"] += 1\n",
    "                check += 1\n",
    "            end\n",
    "        end\n",
    "\n",
    "        if check == length(actions_)\n",
    "            tot[\"remove\"] += 1\n",
    "        end\n",
    "    end\n",
    "\n",
    "    res = Dict()\n",
    "    for a1 in actions_, a2 in actions_\n",
    "        if a1 == a2\n",
    "            res[\"$a1 to $a2\"] = tot[a1] * (tot[a2] - 1)\n",
    "        else\n",
    "            res[\"$a1 to $a2\"] = tot[a1] * tot[a2] - tot[\"remove\"]\n",
    "        end\n",
    "    end\n",
    "    return res\n",
    "\n",
    "end\n"
   ]
  },
  {
   "cell_type": "code",
   "execution_count": 71,
   "metadata": {},
   "outputs": [
    {
     "data": {
      "text/plain": [
       "Dict{String, Any} with 5 entries:\n",
       "  \"edge_type\"  => [\"T to T\", \"T to U\", \"U to T\", \"U to U\", \"T to T\", \"T to U\", …\n",
       "  \"proportion\" => [0.504065, 0.0108401, 0.00542005, 0.479675, 0.914754, 0.0, 0.…\n",
       "  \"partition\"  => [\"After COP27\", \"After COP27\", \"After COP27\", \"After COP27\", …\n",
       "  \"count\"      => [186, 4, 2, 177, 279, 0, 1, 25, 136, 17  …  50, 7, 48, 0, 33,…\n",
       "  \"prop\"       => [0.00325625, 0.000507164, 0.000253582, 0.162534, 0.00327219, …"
      ]
     },
     "execution_count": 71,
     "metadata": {},
     "output_type": "execute_result"
    }
   ],
   "source": [
    "test = combine(groupby(df, \"partition\"), [\"actor\", \"action\"] => find_number => \"count\")\n",
    "\n",
    "edges = edge_types(graphs, df, 0)\n",
    "edges[\"prop\"] = Vector{Float64}(undef, length(edges[\"count\"]))\n",
    "for (i,partition) in enumerate(test.partition)\n",
    "    for type in unique(edges[\"edge_type\"])\n",
    "        ind = edges[\"partition\"] .== partition .&& edges[\"edge_type\"] .== type\n",
    "        edges[\"prop\"][ind] = edges[\"count\"][ind] ./ test.count[i][type]\n",
    "    end\n",
    "end\n",
    "\n",
    "edges2 = edge_types(graphs2, df2, 0)\n",
    "edges2[\"prop\"] = Vector{Float64}(undef, length(edges2[\"count\"]))\n",
    "numbers = find_number(df2.actor, df2.action)\n",
    "for type in unique(edges2[\"edge_type\"])\n",
    "    indx = edges2[\"edge_type\"] .== type\n",
    "    edges2[\"prop\"][indx] = edges2[\"count\"][indx] ./ numbers[type]\n",
    "end\n",
    "\n",
    "\n",
    "edges = Metrics.combine_dict([edges, edges2])"
   ]
  },
  {
   "cell_type": "code",
   "execution_count": 73,
   "metadata": {},
   "outputs": [
    {
     "data": {
      "image/png": "[encoded data removed]",
      "text/plain": [
       "PyPlot.Figure(PyObject <Figure size 640x480 with 1 Axes>)"
      ]
     },
     "metadata": {},
     "output_type": "display_data"
    },
    {
     "data": {
      "text/plain": [
       "PyObject <AxesSubplot: >"
      ]
     },
     "execution_count": 73,
     "metadata": {},
     "output_type": "execute_result"
    }
   ],
   "source": [
    "import Seaborn as sns\n",
    "\n",
    "sns.barplot(edges, x=\"edge_type\", y=\"prop\", hue=\"partition\", hue_order=[\"Before COP27\", \"During COP27\", \"After COP27\", \"Control\"], errorbar=x->(minimum(x), maximum(x)), log=true)"
   ]
  },
  {
   "cell_type": "code",
   "execution_count": 37,
   "metadata": {},
   "outputs": [
    {
     "data": {
      "image/png": "[encoded data removed]",
      "text/plain": [
       "PyPlot.Figure(PyObject <Figure size 640x480 with 1 Axes>)"
      ]
     },
     "metadata": {},
     "output_type": "display_data"
    }
   ],
   "source": [
    "plot_edge_types([graphs, graphs2], [df, df2], [0, 0], hue_order=[\"Before COP27\", \"During COP27\", \"After COP27\", \"Control\"], y=\"count\", log=false, errorbar=x->(minimum(x), maximum(x)));"
   ]
  },
  {
   "cell_type": "code",
   "execution_count": null,
   "metadata": {},
   "outputs": [],
   "source": [
    "data = load_data(\"/Users/cyrilvallez/Desktop/COP27_JDD_10_seeds/data.jld2\");\n",
    "graphs3 = data[\"multiple_influence_graphs\"];"
   ]
  },
  {
   "cell_type": "code",
   "execution_count": null,
   "metadata": {},
   "outputs": [],
   "source": [
    "plot_edge_types([graphs3, graphs2], [df, df2], [0, 0], hue_order=[\"Before COP27\", \"During COP27\", \"After COP27\", \"Control\"], y=\"count\", log=false, errorbar=x->(minimum(x), maximum(x)));"
   ]
  },
  {
   "cell_type": "code",
   "execution_count": null,
   "metadata": {},
   "outputs": [],
   "source": [
    "foo1 = edge_types(graphs, df, 0)\n",
    "foo2 = edge_types(graphs3, df, 0)"
   ]
  },
  {
   "cell_type": "code",
   "execution_count": null,
   "metadata": {},
   "outputs": [],
   "source": [
    "ind1 = foo1[\"edge_type\"] .== \"T to T\" .&& foo1[\"partition\"] .== \"During COP27\"\n",
    "ind2 = foo2[\"edge_type\"] .== \"T to T\" .&& foo2[\"partition\"] .== \"During COP27\"\n",
    "\n",
    "count1 = foo1[\"count\"][ind1]\n",
    "count2 = foo2[\"count\"][ind2]"
   ]
  },
  {
   "cell_type": "code",
   "execution_count": null,
   "metadata": {},
   "outputs": [],
   "source": [
    "count1"
   ]
  },
  {
   "cell_type": "code",
   "execution_count": null,
   "metadata": {},
   "outputs": [],
   "source": []
  },
  {
   "cell_type": "code",
   "execution_count": null,
   "metadata": {},
   "outputs": [],
   "source": []
  },
  {
   "cell_type": "code",
   "execution_count": null,
   "metadata": {},
   "outputs": [],
   "source": []
  },
  {
   "cell_type": "code",
   "execution_count": null,
   "metadata": {},
   "outputs": [],
   "source": []
  },
  {
   "cell_type": "code",
   "execution_count": 5,
   "metadata": {},
   "outputs": [],
   "source": [
    "graphs, cascade, df = load_data(\"/Users/cyrilvallez/Desktop/Thesis/Results/COP27_TE_10_seeds/data.jld2\");"
   ]
  },
  {
   "cell_type": "code",
   "execution_count": 3,
   "metadata": {},
   "outputs": [],
   "source": [
    "graphs2, cascade2, df2 = load_data(\"/Users/cyrilvallez/Desktop/Thesis/Results/Random_TE_10_seeds/data.jld2\");"
   ]
  },
  {
   "cell_type": "code",
   "execution_count": 6,
   "metadata": {},
   "outputs": [
    {
     "data": {
      "image/png": "[encoded data removed]",
      "text/plain": [
       "PyPlot.Figure(PyObject <Figure size 640x480 with 1 Axes>)"
      ]
     },
     "metadata": {},
     "output_type": "display_data"
    }
   ],
   "source": [
    "plot_edge_types([graphs, graphs2], [df, df2], [0, 0], hue_order=[\"Before COP27\", \"During COP27\", \"After COP27\", \"Control\"], y=\"count\", log=false);#, errorbar=x->(minimum(x), maximum(x)));"
   ]
  },
  {
   "cell_type": "code",
   "execution_count": null,
   "metadata": {},
   "outputs": [],
   "source": [
    "edges = edge_types(graphs, df, 0)\n",
    "\n",
    "ind = edges[\"edge_type\"] .== \"T to T\" .&& edges[\"partition\"] .== \"During COP26\"\n",
    "\n",
    "count = edges[\"count\"][ind]"
   ]
  },
  {
   "cell_type": "code",
   "execution_count": 10,
   "metadata": {},
   "outputs": [],
   "source": [
    "graphs, cascades, df = load_data(\"/Users/cyrilvallez/Desktop/Thesis/Results/COP26_TE_NoSurro/data.jld2\")\n",
    "graphs2, cascades2, df2 = load_data(\"/Users/cyrilvallez/Desktop/Thesis/Results/Random_TE_NoSurro/data.jld2\")\n",
    "\n",
    "cuttoffs = collect(0:0.1:1.5)\n",
    "\n",
    "edges = edge_types(graphs, df, cuttoffs[1])\n",
    "edges[\"cuttoff\"] = repeat([cuttoffs[1]], 12)\n",
    "for cuttoff in cuttoffs[2:end]\n",
    "    new_edges = edge_types(graphs, df, cuttoff)\n",
    "    new_edges[\"cuttoff\"] = repeat([cuttoff], 12)\n",
    "    edges = Metrics.combine_dict([edges, new_edges])\n",
    "end\n",
    "# plot_edge_types([graphs, graphs2], [df, df2], [cuttoff, cuttoff], hue_order=[\"Before COP27\", \"During COP27\", \"After COP27\", \"Control\"], y=\"count\", log=false, errorbar=x->(minimum(x), maximum(x)));"
   ]
  },
  {
   "cell_type": "code",
   "execution_count": 12,
   "metadata": {},
   "outputs": [
    {
     "data": {
      "image/png": "[encoded data removed]",
      "text/plain": [
       "PyPlot.Figure(PyObject <Figure size 640x480 with 1 Axes>)"
      ]
     },
     "metadata": {},
     "output_type": "display_data"
    },
    {
     "data": {
      "text/plain": [
       "PyObject <AxesSubplot: xlabel='cuttoff', ylabel='count'>"
      ]
     },
     "execution_count": 12,
     "metadata": {},
     "output_type": "execute_result"
    }
   ],
   "source": [
    "import Seaborn as sns\n",
    "\n",
    "\n",
    "sns.lineplot(data=edges, x=\"cuttoff\", y=\"count\", hue=\"edge_type\")"
   ]
  },
  {
   "cell_type": "code",
   "execution_count": 9,
   "metadata": {},
   "outputs": [
    {
     "data": {
      "text/plain": [
       "12-element Vector{Float64}:\n",
       " 0.0\n",
       " 0.0\n",
       " 0.0\n",
       " 0.0\n",
       " 0.0\n",
       " 0.0\n",
       " 0.0\n",
       " 0.0\n",
       " 0.0\n",
       " 0.0\n",
       " 0.0\n",
       " 0.0"
      ]
     },
     "execution_count": 9,
     "metadata": {},
     "output_type": "execute_result"
    }
   ],
   "source": [
    "graphs, cascades, df = load_data(\"/Users/cyrilvallez/Desktop/Thesis/Results/COP26_TE_NoSurro/data.jld2\")\n",
    "graphs2, cascades2, df2 = load_data(\"/Users/cyrilvallez/Desktop/Thesis/Results/Random_TE_NoSurro/data.jld2\")\n",
    "\n",
    "cuttoffs = collect(0:0.1:1.5)\n",
    "TT = []\n",
    "UU = []\n",
    "UT = []\n",
    "TU = []\n",
    "\n",
    "for cuttoff in cuttoffs\n",
    "    edges = edge_types(graphs, df, cuttoff)\n"
   ]
  },
  {
   "cell_type": "code",
   "execution_count": 13,
   "metadata": {},
   "outputs": [
    {
     "data": {
      "text/plain": [
       "Dict{String, AbstractVector} with 4 entries:\n",
       "  \"edge_type\"  => [\"T to T\", \"T to U\", \"U to T\", \"U to U\", \"T to T\", \"T to U\", …\n",
       "  \"proportion\" => [0.761554, 0.105697, 0.117008, 0.0157409, 0.772579, 0.102394,…\n",
       "  \"partition\"  => [\"After COP26\", \"After COP26\", \"After COP26\", \"After COP26\", …\n",
       "  \"count\"      => [64298, 8924, 9879, 1329, 106643, 14134, 15280, 1978, 150084,…"
      ]
     },
     "execution_count": 13,
     "metadata": {},
     "output_type": "execute_result"
    }
   ],
   "source": [
    "edges = edge_types(graphs, df, cuttoffs[1])"
   ]
  },
  {
   "cell_type": "code",
   "execution_count": 105,
   "metadata": {},
   "outputs": [],
   "source": [
    "graphs, cascades, df = load_data(\"/Users/cyrilvallez/Desktop/Thesis/Results/COP26_TE_NoSurro/data.jld2\")\n",
    "graphs2, cascades2, df2 = load_data(\"/Users/cyrilvallez/Desktop/Thesis/Results/Random_TE_NoSurro/data.jld2\")\n",
    "\n",
    "cuttoffs = collect(0:0.001:0.01)\n",
    "\n",
    "dics = [Vector{Dict}(), Vector{Dict}(), Vector{Dict}(), Vector{Dict}()]\n",
    "for cuttoff in cuttoffs\n",
    "    edges = edge_types(graphs, df, cuttoff)\n",
    "    for (i, edge) in enumerate(sort(unique(edges[\"edge_type\"])))\n",
    "        indices = edges[\"edge_type\"] .== edge\n",
    "        new = Dict()\n",
    "        new[\"cuttoff\"] = [cuttoff, cuttoff, cuttoff]\n",
    "        new[\"proportion\"] = edges[\"proportion\"][indices]\n",
    "        new[\"partition\"] = edges[\"partition\"][indices]\n",
    "        new[\"count\"] = edges[\"count\"][indices]\n",
    "\n",
    "        push!(dics[i], new)\n",
    "    end\n",
    "end\n",
    "\n",
    "combined = [Metrics.combine_dict(dics[i]) for i = 1:4];\n"
   ]
  },
  {
   "cell_type": "code",
   "execution_count": 107,
   "metadata": {},
   "outputs": [
    {
     "data": {
      "image/png": "[encoded data removed]",
      "text/plain": [
       "PyPlot.Figure(PyObject <Figure size 640x480 with 1 Axes>)"
      ]
     },
     "metadata": {},
     "output_type": "display_data"
    },
    {
     "data": {
      "text/plain": [
       "PyObject Text(0.5, 1.0, 'T to T')"
      ]
     },
     "execution_count": 107,
     "metadata": {},
     "output_type": "execute_result"
    }
   ],
   "source": [
    "import PyPlot as plt\n",
    "import Seaborn as sns\n",
    "\n",
    "edges = edge_types(graphs, df, cuttoffs[1])\n",
    "types = sort(unique(edges[\"edge_type\"]))\n",
    "index = 1\n",
    "\n",
    "plt.figure()\n",
    "sns.lineplot(data=combined[index], x=\"cuttoff\", y=\"count\", hue=\"partition\", hue_order=[\"Before COP26\", \"During COP26\", \"After COP26\"])\n",
    "plt.title(types[index])"
   ]
  },
  {
   "cell_type": "code",
   "execution_count": 81,
   "metadata": {},
   "outputs": [],
   "source": [
    "flat = collect(Iterators.flatten(Iterators.flatten(graphs)));"
   ]
  },
  {
   "cell_type": "code",
   "execution_count": 25,
   "metadata": {},
   "outputs": [
    {
     "data": {
      "text/plain": [
       "0.00012148256778590419"
      ]
     },
     "execution_count": 25,
     "metadata": {},
     "output_type": "execute_result"
    }
   ],
   "source": [
    "using StatsBase\n",
    "\n",
    "quantile(flat, 0.9)"
   ]
  },
  {
   "cell_type": "code",
   "execution_count": 88,
   "metadata": {},
   "outputs": [
    {
     "data": {
      "text/plain": [
       "429072"
      ]
     },
     "execution_count": 88,
     "metadata": {},
     "output_type": "execute_result"
    }
   ],
   "source": [
    "sum(flat .!= -1.)"
   ]
  },
  {
   "cell_type": "code",
   "execution_count": 87,
   "metadata": {},
   "outputs": [
    {
     "data": {
      "text/plain": [
       "429072"
      ]
     },
     "execution_count": 87,
     "metadata": {},
     "output_type": "execute_result"
    }
   ],
   "source": [
    "sum(tot)"
   ]
  },
  {
   "cell_type": "code",
   "execution_count": 86,
   "metadata": {},
   "outputs": [
    {
     "data": {
      "text/plain": [
       "3-element Vector{Any}:\n",
       "  92666\n",
       " 148546\n",
       " 187860"
      ]
     },
     "execution_count": 86,
     "metadata": {},
     "output_type": "execute_result"
    }
   ],
   "source": [
    "function find_number(actors, actions)\n",
    "\n",
    "    actors_ = unique(actors)\n",
    "    actions_ = unique(actions)\n",
    "\n",
    "    tot = Dict([\"$a\" => 0 for a in actions_])\n",
    "    tot[\"remove\"] = 0\n",
    "    for actor in actors_\n",
    "\n",
    "        indices = findall(actors .== actor)\n",
    "\n",
    "        check = 0\n",
    "        for a in actions_\n",
    "            if any(actions[indices] .== a)\n",
    "                tot[\"$a\"] += 1\n",
    "                check += 1\n",
    "            end\n",
    "        end\n",
    "\n",
    "        if check == length(actions_)\n",
    "            tot[\"remove\"] += 1\n",
    "        end\n",
    "    end\n",
    "\n",
    "    res = Dict()\n",
    "    for a1 in actions_, a2 in actions_\n",
    "        if a1 == a2\n",
    "            res[\"$a1 to $a2\"] = tot[a1] * (tot[a2] - 1)\n",
    "        else\n",
    "            res[\"$a1 to $a2\"] = tot[a1] * tot[a2] - tot[\"remove\"]\n",
    "        end\n",
    "    end\n",
    "    return res\n",
    "\n",
    "end\n",
    "\n",
    "test = combine(groupby(df, \"partition\", sort=true), [\"actor\", \"action\"] => find_number => \"count\")\n",
    "\n",
    "tot = []\n",
    "for dic in test.count\n",
    "    push!(tot, sum(collect(values(dic))))\n",
    "end\n",
    "\n",
    "tot"
   ]
  },
  {
   "cell_type": "code",
   "execution_count": 90,
   "metadata": {},
   "outputs": [
    {
     "data": {
      "text/plain": [
       "429072-element Vector{Float64}:\n",
       " 0.0\n",
       " 0.013034204704854474\n",
       " 0.0\n",
       " 0.00071725158539782\n",
       " 0.0\n",
       " 0.0027943804689772424\n",
       " 0.0\n",
       " 0.018428734571300114\n",
       " 0.0\n",
       " 0.0017095985547764215\n",
       " 0.0\n",
       " 0.0007172515853978061\n",
       " 0.0\n",
       " ⋮\n",
       " 6.0244720364113915e-5\n",
       " 0.0005568741198075952\n",
       " 0.0350587517109145\n",
       " 0.043039845271086584\n",
       " 0.00036749926815376143\n",
       " 6.0244720364113915e-5\n",
       " 0.0029448482465996234\n",
       " 0.0006853131653382558\n",
       " 6.0244720364113915e-5\n",
       " 0.0001208844470433744\n",
       " 6.0244720364113915e-5\n",
       " 0.00036749926815376143"
      ]
     },
     "execution_count": 90,
     "metadata": {},
     "output_type": "execute_result"
    }
   ],
   "source": [
    "flat = flat[flat .!= -1]"
   ]
  },
  {
   "cell_type": "code",
   "execution_count": 113,
   "metadata": {},
   "outputs": [
    {
     "data": {
      "text/plain": [
       "0.002032430916483337"
      ]
     },
     "execution_count": 113,
     "metadata": {},
     "output_type": "execute_result"
    }
   ],
   "source": [
    "quantile(flat, 0.665)"
   ]
  },
  {
   "cell_type": "code",
   "execution_count": 31,
   "metadata": {},
   "outputs": [
    {
     "data": {
      "text/plain": [
       "1460036"
      ]
     },
     "execution_count": 31,
     "metadata": {},
     "output_type": "execute_result"
    }
   ],
   "source": [
    "354^2*4 + 403^2*4 + 278^2*4"
   ]
  },
  {
   "cell_type": "code",
   "execution_count": 37,
   "metadata": {},
   "outputs": [
    {
     "data": {
      "text/plain": [
       "3332748"
      ]
     },
     "execution_count": 37,
     "metadata": {},
     "output_type": "execute_result"
    }
   ],
   "source": [
    "3*527^2*4"
   ]
  },
  {
   "cell_type": "code",
   "execution_count": 30,
   "metadata": {},
   "outputs": [
    {
     "data": {
      "text/html": [
       "<div class=\"data-frame\"><p>3 rows × 2 columns</p><table class=\"data-frame\"><thead><tr><th></th><th>partition</th><th>count</th></tr><tr><th></th><th title=\"String\">String</th><th title=\"Int64\">Int64</th></tr></thead><tbody><tr><th>1</th><td>Before COP26</td><td>354</td></tr><tr><th>2</th><td>During COP26</td><td>403</td></tr><tr><th>3</th><td>After COP26</td><td>278</td></tr></tbody></table></div>"
      ],
      "text/latex": [
       "\\begin{tabular}{r|cc}\n",
       "\t& partition & count\\\\\n",
       "\t\\hline\n",
       "\t& String & Int64\\\\\n",
       "\t\\hline\n",
       "\t1 & Before COP26 & 354 \\\\\n",
       "\t2 & During COP26 & 403 \\\\\n",
       "\t3 & After COP26 & 278 \\\\\n",
       "\\end{tabular}\n"
      ],
      "text/plain": [
       "\u001b[1m3×2 DataFrame\u001b[0m\n",
       "\u001b[1m Row \u001b[0m│\u001b[1m partition    \u001b[0m\u001b[1m count \u001b[0m\n",
       "\u001b[1m     \u001b[0m│\u001b[90m String       \u001b[0m\u001b[90m Int64 \u001b[0m\n",
       "─────┼─────────────────────\n",
       "   1 │ Before COP26    354\n",
       "   2 │ During COP26    403\n",
       "   3 │ After COP26     278"
      ]
     },
     "execution_count": 30,
     "metadata": {},
     "output_type": "execute_result"
    }
   ],
   "source": [
    "test = combine(groupby(df, \"partition\"), \"actor\" => (x->length(unique(x))) => \"count\")"
   ]
  },
  {
   "cell_type": "code",
   "execution_count": 36,
   "metadata": {},
   "outputs": [
    {
     "data": {
      "text/plain": [
       "(527, 527)"
      ]
     },
     "execution_count": 36,
     "metadata": {},
     "output_type": "execute_result"
    }
   ],
   "source": [
    "size(graphs[1])"
   ]
  },
  {
   "cell_type": "code",
   "execution_count": 42,
   "metadata": {},
   "outputs": [
    {
     "data": {
      "text/plain": [
       "([\"BarackObama\", \"cnnbrk\", \"CNN\", \"nytimes\", \"BBCBreaking\", \"BBCWorld\", \"NatGeo\", \"TheEconomist\", \"Reuters\", \"FoxNews\"  …  \"ssaladg\", \"GlobalNarration\", \"MarcLaurent82\", \"vi15321513\", \"justano12715638\", \"momolovescake1\", \"Dan25134456\", \"twoodruffe15\", \"JFK666666\", \"djg72002\"], [133370649, 64103953, 60449375, 54627938, 51444766, 38851614, 28437707, 27111587, 25632514, 22814424  …  0, 0, 0, 0, 0, 0, 0, 0, 0, 0])"
      ]
     },
     "execution_count": 42,
     "metadata": {},
     "output_type": "execute_result"
    }
   ],
   "source": [
    "function test12(df::DataFrame)\n",
    "\n",
    "\t# Get indices resulting on the unique values of df.\"username\"\n",
    "\tx = df.\"username\"\n",
    "\tindices = unique(i -> x[i], 1:length(x))\n",
    "\t# Get unique usernames and corresponding follower_count\n",
    "\tusers = x[indices]\n",
    "\tfollowers = df.\"follower_count\"[indices]\n",
    "\n",
    "\t# sort the users in desending order of follower_count\n",
    "\tsorting = sortperm(followers, rev=true)\n",
    "\tfollowers = followers[sorting]\n",
    "\tusers = users[sorting]\n",
    "\n",
    "    return users, followers\n",
    "\t# M = length(users)\n",
    "\t# actors = Vector{String}(undef, M)\n",
    "\t# N = 500\n",
    "\t# for i = 1:N\n",
    "\t# \tactors[i] = users[i]\n",
    "\t# end\n",
    "\n",
    "\t# L = 10000\n",
    "\t# N += 1\n",
    "\t# while true\n",
    "\t# \tif N + L <= M\n",
    "\t# \t\tactors[N:(N+L)] .= \"$(followers[N]) to $(followers[N+L]) followers\"\n",
    "\t# \telse\n",
    "\t# \t\tactors[N:end] .= \"$(followers[N]) to $(followers[end]) followers\"\n",
    "\t# \t\tbreak\n",
    "\t# \tend\n",
    "\t# \tN += L\n",
    "\t# end\n",
    "\n",
    "\t# actor_dict = Dict(zip(users, actors))\n",
    "\t# df = transform(df, \"username\" => ByRow(x -> actor_dict[x]) => \"actor\")\n",
    "\t# return df\n",
    "end\n",
    "\n",
    "users, followers = test12(df)\n"
   ]
  },
  {
   "cell_type": "code",
   "execution_count": 47,
   "metadata": {},
   "outputs": [
    {
     "data": {
      "text/plain": [
       "86734.02000000104"
      ]
     },
     "execution_count": 47,
     "metadata": {},
     "output_type": "execute_result"
    }
   ],
   "source": [
    "quantile(followers, 0.99)"
   ]
  },
  {
   "cell_type": "code",
   "execution_count": 50,
   "metadata": {},
   "outputs": [
    {
     "data": {
      "text/plain": [
       "119430"
      ]
     },
     "execution_count": 50,
     "metadata": {},
     "output_type": "execute_result"
    }
   ],
   "source": [
    "followers[2000]"
   ]
  },
  {
   "cell_type": "code",
   "execution_count": null,
   "metadata": {},
   "outputs": [],
   "source": []
  }
 ],
 "metadata": {
  "kernelspec": {
   "display_name": "Julia 1.8.1",
   "language": "julia",
   "name": "julia-1.8"
  },
  "language_info": {
   "file_extension": ".jl",
   "mimetype": "application/julia",
   "name": "julia",
   "version": "1.8.1"
  },
  "orig_nbformat": 4,
  "vscode": {
   "interpreter": {
    "hash": "31f2aee4e71d21fbe5cf8b01ff0e069b9275f58929596ceb00d14d90e3e16cd6"
   }
  }
 },
 "nbformat": 4,
 "nbformat_minor": 2
}
