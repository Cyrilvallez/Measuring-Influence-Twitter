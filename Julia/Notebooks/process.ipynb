{
 "cells": [
  {
   "cell_type": "code",
   "execution_count": null,
   "metadata": {},
   "outputs": [],
   "source": [
    "include(\"../Engine/Engine.jl\")\n",
    "using .Engine\n",
    "\n",
    "using StatsBase, DataFrames\n",
    "using Graphs, SimpleWeightedGraphs\n",
    "import PyPlot as plt\n",
    "import Seaborn as sns\n",
    "import PlotlyJS\n",
    "\n",
    "# Remove usage of latex because it is not installed on the VMs\n",
    "rcParams = plt.PyDict(plt.matplotlib.\"rcParams\")\n",
    "rcParams[\"text.usetex\"] = false\n",
    "rcParams[\"font.family\"] = [\"sans-serif\"]\n",
    "rcParams[\"font.serif\"] = [\"Computer Modern Roman\"];"
   ]
  },
  {
   "cell_type": "markdown",
   "metadata": {},
   "source": [
    "# Load data and compute ranks"
   ]
  },
  {
   "cell_type": "code",
   "execution_count": null,
   "metadata": {},
   "outputs": [],
   "source": [
    "graphs_JDD, cascades_JDD, df_JDD = load_data(RESULT_FOLDER * \"/JDD_all_users/COP26/data.jld2\")\n",
    "graphs2_JDD, cascades2_JDD, df2_JDD = load_data(RESULT_FOLDER * \"/JDD_all_users/Random/data.jld2\");\n",
    "\n",
    "centrality_ranks_JDD = get_centrality_ranks(graphs_JDD, df_JDD, 0, \"Any Edge\")\n",
    "all_centrality_ranks_JDD = get_centrality_ranks_all_edges(graphs_JDD, df_JDD, 0);"
   ]
  },
  {
   "cell_type": "code",
   "execution_count": null,
   "metadata": {},
   "outputs": [],
   "source": [
    "graphs_TE, cascades_TE, df_TE = load_data(RESULT_FOLDER * \"/TE_all_users/COP26/data.jld2\")\n",
    "graphs2_TE, cascades2_TE, df2_TE = load_data(RESULT_FOLDER * \"/TE_all_users/Random/data.jld2\");\n",
    "\n",
    "centrality_ranks_TE = get_centrality_ranks(graphs_TE, df_TE, 0, \"Any Edge\")\n",
    "all_centrality_ranks_TE = get_centrality_ranks_all_edges(graphs_TE, df_TE, 0);"
   ]
  },
  {
   "cell_type": "code",
   "execution_count": null,
   "metadata": {},
   "outputs": [],
   "source": [
    "general_ranks = get_general_ranks(COP26, cop_26_dates);"
   ]
  },
  {
   "cell_type": "code",
   "execution_count": null,
   "metadata": {},
   "outputs": [],
   "source": [
    "corr_JDD_TE = correlation_JDD_TE(all_centrality_ranks_JDD, all_centrality_ranks_TE, 50)\n",
    "show(corr_JDD_TE, allcols=true)"
   ]
  },
  {
   "cell_type": "code",
   "execution_count": null,
   "metadata": {},
   "outputs": [],
   "source": [
    "print(latexify(corr_JDD_TE))"
   ]
  },
  {
   "cell_type": "markdown",
   "metadata": {},
   "source": [
    "# Table general"
   ]
  },
  {
   "cell_type": "code",
   "execution_count": null,
   "metadata": {},
   "outputs": [],
   "source": [
    "general_ranking = find_max_ranks(general_ranks, 10)\n",
    "print(latexify(general_ranking))"
   ]
  },
  {
   "cell_type": "code",
   "execution_count": null,
   "metadata": {},
   "outputs": [],
   "source": [
    "show(general_ranking[3], allcols=true)"
   ]
  },
  {
   "cell_type": "markdown",
   "metadata": {},
   "source": [
    "# Tables JDD"
   ]
  },
  {
   "cell_type": "code",
   "execution_count": null,
   "metadata": {},
   "outputs": [],
   "source": [
    "centrality_ranking_JDD = find_max_ranks(centrality_ranks_JDD, 10)\n",
    "print(latexify(centrality_ranking_JDD))"
   ]
  },
  {
   "cell_type": "code",
   "execution_count": null,
   "metadata": {},
   "outputs": [],
   "source": [
    "show(centrality_ranking_JDD[1], allcols=true)"
   ]
  },
  {
   "cell_type": "code",
   "execution_count": null,
   "metadata": {},
   "outputs": [],
   "source": [
    "all_centrality_ranking_JDD = find_max_ranks(all_centrality_ranks_JDD, 10)\n",
    "print(latexify(all_centrality_ranking_JDD))"
   ]
  },
  {
   "cell_type": "code",
   "execution_count": null,
   "metadata": {},
   "outputs": [],
   "source": [
    "show(all_centrality_ranking_JDD[3], allcols=true)"
   ]
  },
  {
   "cell_type": "markdown",
   "metadata": {},
   "source": [
    "# Tables TE"
   ]
  },
  {
   "cell_type": "code",
   "execution_count": null,
   "metadata": {},
   "outputs": [],
   "source": [
    "centrality_ranking_TE = find_max_ranks(centrality_ranks_TE, 10)\n",
    "print(latexify(centrality_ranking_TE))"
   ]
  },
  {
   "cell_type": "code",
   "execution_count": null,
   "metadata": {},
   "outputs": [],
   "source": [
    "show(centrality_ranking_TE[1], allcols=true)"
   ]
  },
  {
   "cell_type": "code",
   "execution_count": null,
   "metadata": {},
   "outputs": [],
   "source": [
    "all_centrality_ranking_TE = find_max_ranks(all_centrality_ranks_TE, 10)\n",
    "print(latexify(all_centrality_ranking_TE))"
   ]
  },
  {
   "cell_type": "code",
   "execution_count": null,
   "metadata": {},
   "outputs": [],
   "source": [
    "show(all_centrality_ranking_TE[1], allcols=true)"
   ]
  },
  {
   "cell_type": "markdown",
   "metadata": {},
   "source": [
    "# Correlation matrices"
   ]
  },
  {
   "cell_type": "code",
   "execution_count": null,
   "metadata": {},
   "outputs": [],
   "source": [
    "# This is very likely to show warnings because of missing values in the ranks for JDD\n",
    "plot_correlation_matrices(general_ranks, centrality_ranks_JDD, 50, save=true, foldername=PROJECT_FOLDER * \"/Figures/COP26/JDD_all_users/\")"
   ]
  },
  {
   "cell_type": "code",
   "execution_count": null,
   "metadata": {},
   "outputs": [],
   "source": [
    "plot_correlation_matrices(general_ranks, centrality_ranks_TE, 50, save=true, foldername=PROJECT_FOLDER * \"/Figures/COP26/TE_all_users/\")"
   ]
  },
  {
   "cell_type": "markdown",
   "metadata": {},
   "source": [
    "# Edge types"
   ]
  },
  {
   "cell_type": "code",
   "execution_count": null,
   "metadata": {},
   "outputs": [],
   "source": [
    "plot_edge_types([graphs_JDD, graphs2_JDD], [df_JDD, df2_JDD], [0, 0]; y=\"count\", hue_order=[\"Before\", \"During\", \"After\", \"Control\"],\n",
    "    save=true, filename=PROJECT_FOLDER * \"/Figures/COP26/JDD_all_users/edge_type_count.pdf\", log=true)"
   ]
  },
  {
   "cell_type": "code",
   "execution_count": null,
   "metadata": {},
   "outputs": [],
   "source": [
    "plot_edge_types([graphs_TE, graphs2_TE], [df_TE, df2_TE], [0, 0]; y=\"count\", hue_order=[\"Before\", \"During\", \"After\", \"Control\"],\n",
    "    save=true, filename=PROJECT_FOLDER * \"/Figures/COP26/TE_all_users/edge_type_count.pdf\", log=true)"
   ]
  },
  {
   "cell_type": "code",
   "execution_count": null,
   "metadata": {},
   "outputs": [],
   "source": [
    "plot_edge_types([graphs_JDD, graphs2_JDD], [df_JDD, df2_JDD], [0, 0]; y=\"count_normalized\", hue_order=[\"Before\", \"During\", \"After\", \"Control\"],\n",
    "    save=true, filename=PROJECT_FOLDER * \"/Figures/COP26/JDD_all_users/edge_type.pdf\", log=false)"
   ]
  },
  {
   "cell_type": "code",
   "execution_count": null,
   "metadata": {},
   "outputs": [],
   "source": [
    "plot_edge_types([graphs_TE, graphs2_TE], [df_TE, df2_TE], [0, 0]; y=\"count_normalized\", hue_order=[\"Before\", \"During\", \"After\", \"Control\"],\n",
    "    save=true, filename=PROJECT_FOLDER * \"/Figures/COP26/TE_all_users/edge_type.pdf\", log=false)"
   ]
  },
  {
   "cell_type": "markdown",
   "metadata": {},
   "source": [
    "# Cascades reach"
   ]
  },
  {
   "cell_type": "code",
   "execution_count": null,
   "metadata": {},
   "outputs": [],
   "source": [
    "plot_actors_per_level(cascades_JDD, df_JDD, control=cascades2_JDD, save=true, filename=PROJECT_FOLDER * \"/Figures/COP26/JDD_all_users/actor_level.pdf\", inner_spacing=0)"
   ]
  },
  {
   "cell_type": "code",
   "execution_count": null,
   "metadata": {},
   "outputs": [],
   "source": [
    "plot_actors_per_level(cascades_TE, df_TE, control=cascades2_TE, save=true, filename=PROJECT_FOLDER * \"/Figures/COP26/TE_all_users/actor_level.pdf\", inner_spacing=0)"
   ]
  },
  {
   "cell_type": "markdown",
   "metadata": {},
   "source": [
    "# Cascades"
   ]
  },
  {
   "cell_type": "code",
   "execution_count": null,
   "metadata": {},
   "outputs": [],
   "source": [
    "cascades[3]\n",
    "PlotlyJS.plot(plot_cascade_sankey(cascades[3][6], df)...)\n",
    "# PlotlyJS.savefig(PlotlyJS.plot(plot_cascade_sankey(cascades[3][5], df)...), PROJECT_FOLDER * \"/Figures/COP26/TE_all_users/cascade.pdf\")"
   ]
  },
  {
   "cell_type": "code",
   "execution_count": null,
   "metadata": {},
   "outputs": [],
   "source": []
  }
 ],
 "metadata": {
  "kernelspec": {
   "display_name": "Julia 1.8.1",
   "language": "julia",
   "name": "julia-1.8"
  },
  "language_info": {
   "file_extension": ".jl",
   "mimetype": "application/julia",
   "name": "julia",
   "version": "1.8.1"
  },
  "orig_nbformat": 4
 },
 "nbformat": 4,
 "nbformat_minor": 2
}
