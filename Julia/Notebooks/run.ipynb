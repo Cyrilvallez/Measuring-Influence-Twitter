{
 "cells": [
  {
   "cell_type": "code",
   "execution_count": null,
   "metadata": {},
   "outputs": [],
   "source": [
    "using DataFrames, Dates\n",
    "import PlotlyJS, Random\n",
    "Random.seed!(1234)\n",
    "\n",
    "include(\"../Engine/Engine.jl\")\n",
    "using .Engine;"
   ]
  },
  {
   "cell_type": "markdown",
   "metadata": {},
   "source": [
    "## Load the data and format it"
   ]
  },
  {
   "cell_type": "code",
   "execution_count": null,
   "metadata": {},
   "outputs": [],
   "source": [
    "data = load_dataset(COP26);\n",
    "\n",
    "# data = load_dataset(COP27);\n",
    "\n",
    "# data = load_dataset(RandomDays);"
   ]
  },
  {
   "cell_type": "markdown",
   "metadata": {},
   "source": [
    "## Define the partition, actors and actions"
   ]
  },
  {
   "cell_type": "code",
   "execution_count": null,
   "metadata": {},
   "outputs": [],
   "source": [
    "# partition_func = cop_26_dates\n",
    "# action_func = trust_score\n",
    "# actor_func = all_users(by_partition=true, min_tweets=3)\n",
    "\n",
    "\n",
    "partition_func = cop_26_dates\n",
    "action_func = trust_score\n",
    "actor_func = follower_count(by_partition=true, min_tweets=3)\n",
    "\n",
    "\n",
    "# partition_func = no_partition\n",
    "# action_func = trust_score\n",
    "# actor_func = all_users(by_partition=true, min_tweets=3)\n",
    "# actor_func = follower_count(min_tweets=3, actor_number=500, aggregate_size=100000)\n",
    "\n",
    "\n",
    "# partition_func = cop_26_dates\n",
    "# action_func = trust_score\n",
    "# actor_func = IP_scores\n",
    "\n",
    "\n",
    "# partition_func = cop_27_dates\n",
    "# action_func = trust_score\n",
    "# actor_func = follower_count\n",
    "\n",
    "\n",
    "# partition_func = no_partition\n",
    "# action_func = trust_score\n",
    "# actor_func = follower_count"
   ]
  },
  {
   "cell_type": "code",
   "execution_count": null,
   "metadata": {},
   "outputs": [],
   "source": [
    "agents = PreProcessingAgents(partition_func, action_func, actor_func)\n",
    "df = preprocessing(data, agents)\n",
    "partitions, actions, actors = partitions_actions_actors(df);"
   ]
  },
  {
   "cell_type": "markdown",
   "metadata": {},
   "source": [
    "## Statistics on the data"
   ]
  },
  {
   "cell_type": "code",
   "execution_count": null,
   "metadata": {},
   "outputs": [],
   "source": [
    "plot_actor_frequency(df, save=false);"
   ]
  },
  {
   "cell_type": "code",
   "execution_count": null,
   "metadata": {},
   "outputs": [],
   "source": [
    "plot_actor_wordcloud(df, Nactor=300, save=false)"
   ]
  },
  {
   "cell_type": "code",
   "execution_count": null,
   "metadata": {},
   "outputs": [],
   "source": [
    "plot_action_frequency(df, save=false);"
   ]
  },
  {
   "cell_type": "markdown",
   "metadata": {},
   "source": [
    "## Compute influence graph"
   ]
  },
  {
   "cell_type": "code",
   "execution_count": null,
   "metadata": {},
   "outputs": [],
   "source": [
    "hours = 2\n",
    "minutes = 0;"
   ]
  },
  {
   "cell_type": "code",
   "execution_count": null,
   "metadata": {},
   "outputs": [],
   "source": [
    "total_min = hours*60 + minutes\n",
    "\n",
    "cuttoff = 0\n",
    "tsg = TimeSeriesGenerator(Minute(total_min), standardize=false)\n",
    "ig = InfluenceGraphGenerator(SimpleTE, surrogate=nothing)\n",
    "icg = InfluenceCascadeGenerator(WithoutCuttoff)\n",
    "\n",
    "\n",
    "# cuttoff = 0\n",
    "# tsg = TimeSeriesGenerator(Minute(total_min), standardize=false)\n",
    "# ig = InfluenceGraphGenerator(SimpleTE)\n",
    "# icg = InfluenceCascadeGenerator(WithoutCuttoff)\n",
    "\n",
    "\n",
    "\n",
    "# cuttoff = 0\n",
    "# tsg = TimeSeriesGenerator(Minute(total_min), standardize=true)\n",
    "# ig = InfluenceGraphGenerator(JointDistanceDistribution, surrogate=nothing, threshold=0.001)\n",
    "# icg = InfluenceCascadeGenerator(WithoutCuttoff)\n",
    "\n",
    "\n",
    "# cuttoff = 0\n",
    "# tsg = TimeSeriesGenerator(Minute(total_min), standardize=true)\n",
    "# ig = InfluenceGraphGenerator(JointDistanceDistribution, surrogate=nothing, Nsurro=100, threshold=0.001, seed=1234)\n",
    "# icg = InfluenceCascadeGenerator(WithoutCuttoff)"
   ]
  },
  {
   "cell_type": "code",
   "execution_count": null,
   "metadata": {},
   "outputs": [],
   "source": [
    "time_series = observe(df, tsg);"
   ]
  },
  {
   "cell_type": "code",
   "execution_count": null,
   "metadata": {},
   "outputs": [],
   "source": [
    "influence_graphs = observe(time_series, ig); "
   ]
  },
  {
   "cell_type": "markdown",
   "metadata": {},
   "source": [
    "## Compute influence cascade"
   ]
  },
  {
   "cell_type": "code",
   "execution_count": null,
   "metadata": {},
   "outputs": [],
   "source": [
    "influence_cascades = observe.(influence_graphs, Ref(icg))\n",
    "\n",
    "edge_types = [string(n1, \" to \", n2) for n1 in actions for n2 in actions]\n",
    "push!(edge_types, \"Any Edge\");"
   ]
  },
  {
   "cell_type": "markdown",
   "metadata": {},
   "source": [
    "## Plot influence graph"
   ]
  },
  {
   "cell_type": "code",
   "execution_count": null,
   "metadata": {},
   "outputs": [],
   "source": [
    "# partition = \"During COP27\"\n",
    "partition = \"During COP26\"\n",
    "# partition = \"Full dataset\"\n",
    "\n",
    "\n",
    "edge = \"T to T\";"
   ]
  },
  {
   "cell_type": "code",
   "execution_count": null,
   "metadata": {},
   "outputs": [],
   "source": [
    "# partition = \"During COP27\"\n",
    "partition = \"During COP26\"\n",
    "# partition = \"Full dataset\"\n",
    "\n",
    "edge = \"U to U\"\n",
    "\n",
    "\t\n",
    "plot_graph(influence_graphs, df, partition, cuttoff, edge_type=edge, print_node_names=false)"
   ]
  },
  {
   "cell_type": "code",
   "execution_count": null,
   "metadata": {},
   "outputs": [],
   "source": [
    "plot_edge_types(influence_graphs, df, cuttoff, y=\"count\", hue_order=[\"Before COP26\", \"During COP26\", \"After COP26\"], log=false,\n",
    " save=false);"
   ]
  },
  {
   "cell_type": "code",
   "execution_count": null,
   "metadata": {},
   "outputs": [],
   "source": [
    "plot_edge_types(influence_graphs, df, cuttoff, y=\"count_normalized\", hue_order=[\"Before COP26\", \"During COP26\", \"After COP26\"], log=false,\n",
    " save=false);"
   ]
  },
  {
   "cell_type": "markdown",
   "metadata": {},
   "source": [
    "## Plot cascades and statistics"
   ]
  },
  {
   "cell_type": "code",
   "execution_count": null,
   "metadata": {},
   "outputs": [],
   "source": [
    "partition_index = 1\n",
    "influencer_indices = [ic.root for ic in influence_cascades[partition_index]]\n",
    "influencers = sort(actors[influencer_indices])"
   ]
  },
  {
   "cell_type": "code",
   "execution_count": null,
   "metadata": {},
   "outputs": [],
   "source": [
    "if length(influencers) > 0\n",
    "    influencer_node1 = influencers[1]\n",
    "\n",
    "    PlotlyJS.plot(plot_cascade_sankey(influence_cascades[partition_index][findfirst(influencer_node1 .== influencers)], df)...)\n",
    "    # PlotlyJS.savefig(PlotlyJS.plot(plot_cascade_sankey(influence_cascades[partition_index][findfirst(influencer_node1 .== influencers)], df)...), RESULT_FOLDER * \"/cascade.pdf\")\n",
    "end"
   ]
  },
  {
   "cell_type": "code",
   "execution_count": null,
   "metadata": {},
   "outputs": [],
   "source": [
    "plot_actors_per_level(influence_cascades, df, log=false, inner_spacing=0.02, save=false);"
   ]
  },
  {
   "cell_type": "code",
   "execution_count": null,
   "metadata": {},
   "outputs": [],
   "source": []
  }
 ],
 "metadata": {
  "kernelspec": {
   "display_name": "Julia 1.8.1",
   "language": "julia",
   "name": "julia-1.8"
  },
  "language_info": {
   "file_extension": ".jl",
   "mimetype": "application/julia",
   "name": "julia",
   "version": "1.8.1"
  },
  "orig_nbformat": 4,
  "vscode": {
   "interpreter": {
    "hash": "d414a8e85e9c5ccdc8812887eb84d5216e7e6e9c9aa8c61fc7e614ebeebe649a"
   }
  }
 },
 "nbformat": 4,
 "nbformat_minor": 2
}
