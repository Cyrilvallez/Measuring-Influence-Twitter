{
 "cells": [
  {
   "cell_type": "code",
   "execution_count": null,
   "metadata": {},
   "outputs": [],
   "source": [
    "include(\"../Engine/Engine.jl\")\n",
    "using .Engine\n",
    "\n",
    "using StatsBase, DataFrames\n",
    "using Graphs, SimpleWeightedGraphs\n",
    "using DataStructures\n",
    "import PyPlot as plt\n",
    "import Seaborn as sns\n",
    "import PlotlyJS\n",
    "\n",
    "rcParams = plt.PyDict(plt.matplotlib.\"rcParams\")\n",
    "rcParams[\"text.usetex\"] = false\n",
    "rcParams[\"font.family\"] = [\"sans-serif\"]\n",
    "rcParams[\"font.serif\"] = [\"Computer Modern Roman\"];"
   ]
  },
  {
   "cell_type": "code",
   "execution_count": null,
   "metadata": {},
   "outputs": [],
   "source": [
    "graphs_JDD, cascades_JDD, df_JDD = load_data(\"/home/ubuntu/Thesis/Results/JDD_all_users/Skripal/data.jld2\")\n",
    "\n",
    "centrality_ranks_JDD = get_centrality_ranks(graphs_JDD, df_JDD, 0, \"Any Edge\")\n",
    "all_centrality_ranks_JDD = get_centrality_ranks_all_edges(graphs_JDD, df_JDD, 0);"
   ]
  },
  {
   "cell_type": "code",
   "execution_count": null,
   "metadata": {},
   "outputs": [],
   "source": [
    "graphs_TE, cascades_TE, df_TE = load_data(\"/home/ubuntu/Thesis/Results/TE_all_users/Skripal/data.jld2\")\n",
    "\n",
    "centrality_ranks_TE = get_centrality_ranks(graphs_TE, df_TE, 0, \"Any Edge\")\n",
    "all_centrality_ranks_TE = get_centrality_ranks_all_edges(graphs_TE, df_TE, 0);"
   ]
  },
  {
   "cell_type": "code",
   "execution_count": null,
   "metadata": {},
   "outputs": [],
   "source": [
    "# graphs_JDD, cascades_JDD, df_JDD = load_data(\"/home/ubuntu/Thesis/Results/JDD_all_users/Skripal_no_surro/data.jld2\")\n",
    "\n",
    "# centrality_ranks_JDD = get_centrality_ranks(graphs_JDD, df_JDD, 0, \"Any Edge\")\n",
    "# all_centrality_ranks_JDD = get_centrality_ranks_all_edges(graphs_JDD, df_JDD, 0);"
   ]
  },
  {
   "cell_type": "code",
   "execution_count": null,
   "metadata": {},
   "outputs": [],
   "source": [
    "# graphs_TE, cascades_TE, df_TE = load_data(\"/home/ubuntu/Thesis/Results/TE_all_users/Skripal_no_surro/data.jld2\")\n",
    "\n",
    "# centrality_ranks_TE = get_centrality_ranks(graphs_TE, df_TE, 0.04, \"Any Edge\")\n",
    "# all_centrality_ranks_TE = get_centrality_ranks_all_edges(graphs_TE, df_TE, 0.04);"
   ]
  },
  {
   "cell_type": "code",
   "execution_count": null,
   "metadata": {},
   "outputs": [],
   "source": [
    "general_ranks = get_general_ranks(Skripal, skripal_dates);"
   ]
  },
  {
   "cell_type": "code",
   "execution_count": null,
   "metadata": {},
   "outputs": [],
   "source": [
    "corr_JDD_TE = correlation_JDD_TE(all_centrality_ranks_JDD, all_centrality_ranks_TE, 50)\n",
    "show(corr_JDD_TE, allcols=true)"
   ]
  },
  {
   "cell_type": "markdown",
   "metadata": {},
   "source": [
    "# Table general"
   ]
  },
  {
   "cell_type": "code",
   "execution_count": null,
   "metadata": {},
   "outputs": [],
   "source": [
    "general_ranking = find_max_ranks(general_ranks, 10)\n",
    "print(latexify(general_ranking))"
   ]
  },
  {
   "cell_type": "code",
   "execution_count": null,
   "metadata": {},
   "outputs": [],
   "source": [
    "show(general_ranking[3], allcols=true)"
   ]
  },
  {
   "cell_type": "markdown",
   "metadata": {},
   "source": [
    "# Tables JDD"
   ]
  },
  {
   "cell_type": "code",
   "execution_count": null,
   "metadata": {},
   "outputs": [],
   "source": [
    "centrality_ranking_JDD = find_max_ranks(centrality_ranks_JDD, 10)\n",
    "print(latexify(centrality_ranking_JDD))"
   ]
  },
  {
   "cell_type": "code",
   "execution_count": null,
   "metadata": {},
   "outputs": [],
   "source": [
    "show(centrality_ranking_JDD[3], allcols=true)"
   ]
  },
  {
   "cell_type": "code",
   "execution_count": null,
   "metadata": {},
   "outputs": [],
   "source": [
    "all_centrality_ranking_JDD = find_max_ranks(all_centrality_ranks_JDD, 10)\n",
    "print(latexify(all_centrality_ranking_JDD))"
   ]
  },
  {
   "cell_type": "code",
   "execution_count": null,
   "metadata": {},
   "outputs": [],
   "source": [
    "show(all_centrality_ranking_JDD[3], allcols=true)"
   ]
  },
  {
   "cell_type": "markdown",
   "metadata": {},
   "source": [
    "# Tables TE"
   ]
  },
  {
   "cell_type": "code",
   "execution_count": null,
   "metadata": {},
   "outputs": [],
   "source": [
    "centrality_ranking_TE = find_max_ranks(centrality_ranks_TE, 10)\n",
    "print(latexify(centrality_ranking_TE))"
   ]
  },
  {
   "cell_type": "code",
   "execution_count": null,
   "metadata": {},
   "outputs": [],
   "source": [
    "show(centrality_ranking_TE[3], allcols=true)"
   ]
  },
  {
   "cell_type": "code",
   "execution_count": null,
   "metadata": {},
   "outputs": [],
   "source": [
    "all_centrality_ranking_TE = find_max_ranks(all_centrality_ranks_TE, 10)\n",
    "print(latexify(all_centrality_ranking_TE))"
   ]
  },
  {
   "cell_type": "code",
   "execution_count": null,
   "metadata": {},
   "outputs": [],
   "source": [
    "show(all_centrality_ranking_TE[3], allcols=true)"
   ]
  },
  {
   "cell_type": "code",
   "execution_count": null,
   "metadata": {},
   "outputs": [],
   "source": [
    "println(findfirst(ranking1.outdegree_rank .== \"Ian56789\"))\n",
    "println(findfirst(ranking1.betweenness_rank .== \"Ian56789\"))"
   ]
  },
  {
   "cell_type": "code",
   "execution_count": null,
   "metadata": {},
   "outputs": [],
   "source": [
    "general_ranks[1][general_ranks[1].username .== \"Ian56789\", :]"
   ]
  },
  {
   "cell_type": "code",
   "execution_count": null,
   "metadata": {},
   "outputs": [],
   "source": [
    "rankingJDD = find_max_ranks(all_centrality_ranks_JDD, 15)\n",
    "rankingTE = find_max_ranks(all_centrality_ranks_TE, 10);"
   ]
  },
  {
   "cell_type": "code",
   "execution_count": null,
   "metadata": {},
   "outputs": [],
   "source": [
    "show(rankingJDD[1], allcols=true)"
   ]
  },
  {
   "cell_type": "markdown",
   "metadata": {},
   "source": [
    "# Correlation matrices"
   ]
  },
  {
   "cell_type": "code",
   "execution_count": null,
   "metadata": {},
   "outputs": [],
   "source": [
    "plot_correlation_matrices(general_ranks, centrality_ranks_JDD, 50, save=false, foldername=\"/home/ubuntu/Thesis/Figures/Skripal/JDD_all_users/\")"
   ]
  },
  {
   "cell_type": "code",
   "execution_count": null,
   "metadata": {},
   "outputs": [
    {
     "ename": "",
     "evalue": "",
     "output_type": "error",
     "traceback": [
      "\u001b[1;31mThe Kernel crashed while executing code in the the current cell or a previous cell. Please review the code in the cell(s) to identify a possible cause of the failure. Click <a href='https://aka.ms/vscodeJupyterKernelCrash'>here</a> for more info. View Jupyter <a href='command:jupyter.viewOutput'>log</a> for further details."
     ]
    }
   ],
   "source": [
    "plot_correlation_matrices(general_ranks, centrality_ranks_TE, 50, save=false, foldername=\"/home/ubuntu/Thesis/Figures/Skripal/TE_all_users/\")"
   ]
  },
  {
   "cell_type": "markdown",
   "metadata": {},
   "source": [
    "# Edge types"
   ]
  },
  {
   "cell_type": "code",
   "execution_count": null,
   "metadata": {},
   "outputs": [],
   "source": [
    "\"\"\"\n",
    "Plot the different edge types count or proportion, for different partitions and/or datasets.\n",
    "\"\"\"\n",
    "function plot_edge_types2(graphs, dfs, cuttoffs; y::String = \"count\", log::Bool = true, save::Bool = false, filename = nothing, loc=\"best\", kwargs...)\n",
    "\n",
    "    if save && isnothing(filename)\n",
    "        throw(ArgumentError(\"You must provide a filename if you want to save the figure.\"))\n",
    "    end\n",
    "\n",
    "    acceptable_y = [\"count\", \"count_normalized\", \"proportion\"]\n",
    "    if !(y in acceptable_y)\n",
    "        throw(ArgumentError(\"y must be one of $acceptable_y.\"))\n",
    "    end\n",
    "\n",
    "    data = edge_types(graphs, dfs, cuttoffs)\n",
    "\n",
    "    plt.figure()\n",
    "    sns.barplot(data, x=\"edge_type\", y=y, hue=\"partition\", saturation=1, zorder=2; kwargs...)\n",
    "    plt.xlabel(\"Edge type\")\n",
    "    if y == \"count_normalized\"\n",
    "        plt.ylabel(\"Normalized count of edges\")\n",
    "    else\n",
    "        plt.ylabel(uppercasefirst(y) * \" of edges\")\n",
    "    end\n",
    "    plt.legend(loc=loc)\n",
    "    plt.grid(true, which=\"major\", axis=\"y\", zorder=0)\n",
    "    if log\n",
    "        plt.yscale(\"log\")\n",
    "        plt.grid(true, which=\"minor\", axis=\"y\", zorder=0, alpha=0.4)\n",
    "    end\n",
    "    if save\n",
    "        mkpath(dirname(filename))\n",
    "        plt.savefig(filename, bbox_inches=\"tight\", dpi=400)\n",
    "    end\n",
    "    return plt.gcf()\n",
    "\n",
    "end"
   ]
  },
  {
   "cell_type": "code",
   "execution_count": null,
   "metadata": {},
   "outputs": [],
   "source": [
    "plot_edge_types2(graphs_JDD, df_JDD, 0; y=\"count\", hue_order=[\"Before\", \"During\", \"After\"],\n",
    "    save=true, filename=\"/home/ubuntu/Thesis/Figures/Skripal/JDD_all_users/edge_type_count.pdf\", log=true);"
   ]
  },
  {
   "cell_type": "code",
   "execution_count": null,
   "metadata": {},
   "outputs": [],
   "source": [
    "plot_edge_types2(graphs_TE, df_TE, 0; y=\"count\", hue_order=[\"Before\", \"During\", \"After\"],\n",
    "    save=true, filename=\"/home/ubuntu/Thesis/Figures/Skripal/TE_all_users/edge_type_count.pdf\", log=true);"
   ]
  },
  {
   "cell_type": "code",
   "execution_count": null,
   "metadata": {},
   "outputs": [],
   "source": [
    "plot_edge_types2(graphs_JDD, df_JDD, 0; y=\"count_normalized\", hue_order=[\"Before\", \"During\", \"After\"],\n",
    "    save=true, filename=\"/home/ubuntu/Thesis/Figures/Skripal/JDD_all_users/edge_type.pdf\", log=true);"
   ]
  },
  {
   "cell_type": "code",
   "execution_count": null,
   "metadata": {},
   "outputs": [],
   "source": [
    "plot_edge_types2(graphs_TE, df_TE, 0; y=\"count_normalized\", hue_order=[\"Before\", \"During\", \"After\"],\n",
    "    save=true, filename=\"/home/ubuntu/Thesis/Figures/Skripal/TE_all_users/edge_type.pdf\", log=false);"
   ]
  },
  {
   "cell_type": "markdown",
   "metadata": {},
   "source": [
    "# Cascades reach"
   ]
  },
  {
   "cell_type": "code",
   "execution_count": null,
   "metadata": {},
   "outputs": [],
   "source": [
    "plot_actors_per_level(cascades_JDD, df_JDD, save=true, filename=\"/home/ubuntu/Thesis/Figures/Skripal/JDD_all_users/actor_level.pdf\", inner_spacing=0);"
   ]
  },
  {
   "cell_type": "code",
   "execution_count": null,
   "metadata": {},
   "outputs": [],
   "source": [
    "plot_actors_per_level(cascades_TE, df_TE, save=true, filename=\"/home/ubuntu/Thesis/Figures/Skripal/TE_all_users/actor_level.pdf\", inner_spacing=0);"
   ]
  },
  {
   "cell_type": "markdown",
   "metadata": {},
   "source": [
    "# Cascades"
   ]
  },
  {
   "cell_type": "code",
   "execution_count": null,
   "metadata": {},
   "outputs": [],
   "source": [
    "cascades[3]\n",
    "PlotlyJS.plot(plot_cascade_sankey(cascades[3][6], df)...)\n",
    "# PlotlyJS.savefig(PlotlyJS.plot(plot_cascade_sankey(cascades[3][5], df)...), \"/home/ubuntu/Thesis/Figures/Skripal/TE_all_users/cascade.pdf\")"
   ]
  },
  {
   "cell_type": "code",
   "execution_count": null,
   "metadata": {},
   "outputs": [],
   "source": []
  }
 ],
 "metadata": {
  "kernelspec": {
   "display_name": "Julia 1.8.1",
   "language": "julia",
   "name": "julia-1.8"
  },
  "language_info": {
   "file_extension": ".jl",
   "mimetype": "application/julia",
   "name": "julia",
   "version": "1.8.1"
  },
  "orig_nbformat": 4
 },
 "nbformat": 4,
 "nbformat_minor": 2
}
