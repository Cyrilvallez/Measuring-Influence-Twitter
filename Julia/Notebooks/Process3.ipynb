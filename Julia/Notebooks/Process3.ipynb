{
 "cells": [
  {
   "cell_type": "code",
   "execution_count": null,
   "metadata": {},
   "outputs": [],
   "source": [
    "include(\"../Engine/Engine.jl\")\n",
    "using .Engine\n",
    "\n",
    "using StatsBase, DataFrames\n",
    "using Graphs, SimpleWeightedGraphs\n",
    "import PyPlot as plt\n",
    "import Seaborn as sns\n",
    "import PlotlyJS\n",
    "\n",
    "rcParams = plt.PyDict(plt.matplotlib.\"rcParams\")\n",
    "rcParams[\"text.usetex\"] = false\n",
    "rcParams[\"font.family\"] = [\"sans-serif\"]\n",
    "rcParams[\"font.serif\"] = [\"Computer Modern Roman\"];"
   ]
  },
  {
   "cell_type": "code",
   "execution_count": null,
   "metadata": {},
   "outputs": [],
   "source": [
    "graphs_JDD, cascades_JDD, df_JDD = load_data(\"/home/ubuntu/Thesis/Results/JDD_all_users/Skripal/data.jld2\")\n",
    "\n",
    "centrality_ranks_JDD = get_centrality_ranks(graphs_JDD, df_JDD, 0, \"Any Edge\")\n",
    "all_centrality_ranks_JDD = get_centrality_ranks_all_edges(graphs_JDD, df_JDD, 0);"
   ]
  },
  {
   "cell_type": "code",
   "execution_count": null,
   "metadata": {},
   "outputs": [],
   "source": [
    "graphs_TE, cascades_TE, df_TE = load_data(\"/home/ubuntu/Thesis/Results/TE_all_users/Skripal/data.jld2\")\n",
    "\n",
    "centrality_ranks_TE = get_centrality_ranks(graphs_TE, df_TE, 0, \"Any Edge\")\n",
    "all_centrality_ranks_TE = get_centrality_ranks_all_edges(graphs_TE, df_TE, 0);"
   ]
  },
  {
   "cell_type": "code",
   "execution_count": null,
   "metadata": {},
   "outputs": [],
   "source": [
    "general_ranks = get_general_ranks(Skripal, skripal_dates)"
   ]
  },
  {
   "cell_type": "code",
   "execution_count": null,
   "metadata": {},
   "outputs": [],
   "source": [
    "corr_JDD_TE = correlation_JDD_TE(all_centrality_ranks_JDD, all_centrality_ranks_TE, 50)\n",
    "show(corr_JDD_TE, allcols=true)"
   ]
  },
  {
   "cell_type": "code",
   "execution_count": null,
   "metadata": {},
   "outputs": [],
   "source": [
    "print(latexify2(corr_JDD_TE))"
   ]
  },
  {
   "cell_type": "code",
   "execution_count": null,
   "metadata": {},
   "outputs": [],
   "source": [
    "idx = 1\n",
    "\n",
    "ranking1 = find_max_ranks(general_ranks[idx], centrality_ranks_TE[idx])\n",
    "ranking2 = find_max_ranks(all_centrality_ranks_TE[idx]);"
   ]
  },
  {
   "cell_type": "code",
   "execution_count": null,
   "metadata": {},
   "outputs": [],
   "source": [
    "show(ranking1, allcols=true)"
   ]
  },
  {
   "cell_type": "code",
   "execution_count": null,
   "metadata": {},
   "outputs": [],
   "source": [
    "show(ranking2, allcols=true)"
   ]
  },
  {
   "cell_type": "code",
   "execution_count": null,
   "metadata": {},
   "outputs": [],
   "source": [
    "print(latexify(ranking1))"
   ]
  },
  {
   "cell_type": "code",
   "execution_count": null,
   "metadata": {},
   "outputs": [],
   "source": [
    "print(latexify(ranking2))"
   ]
  },
  {
   "cell_type": "code",
   "execution_count": null,
   "metadata": {},
   "outputs": [],
   "source": [
    "plot_correlation_matrices(general_ranks, centrality_ranks_JDD, 50, save=true, foldername=\"/home/ubuntu/Thesis/Figures/JDD_all_users/Skripal/\")"
   ]
  },
  {
   "cell_type": "code",
   "execution_count": null,
   "metadata": {},
   "outputs": [],
   "source": [
    "plot_correlation_matrices(general_ranks, centrality_ranks_TE, 50, save=true, foldername=\"/home/ubuntu/Thesis/Figures/TE_all_users/Skripal/\")"
   ]
  },
  {
   "cell_type": "code",
   "execution_count": null,
   "metadata": {},
   "outputs": [],
   "source": [
    "plot_edge_types(graphs_JDD, df_JDD, 0; y=\"count\", hue_order=[\"Before\", \"During\", \"After\"],\n",
    "    save=true, filename=\"/home/ubuntu/Thesis/Figures/JDD_all_users/Skripal/edge_type_count.pdf\", log=true)"
   ]
  },
  {
   "cell_type": "code",
   "execution_count": null,
   "metadata": {},
   "outputs": [],
   "source": [
    "plot_edge_types(graphs_TE, df_TE, 0; y=\"count\", hue_order=[\"Before\", \"During\", \"After\"],\n",
    "    save=true, filename=\"/home/ubuntu/Thesis/Figures/TE_all_users/Skripal/edge_type_count.pdf\", log=true)"
   ]
  },
  {
   "cell_type": "code",
   "execution_count": null,
   "metadata": {},
   "outputs": [],
   "source": [
    "plot_graph(graphs_JDD, df_JDD, \"During COP26\", 0, edge_type=\"U to U\")"
   ]
  },
  {
   "cell_type": "code",
   "execution_count": null,
   "metadata": {},
   "outputs": [],
   "source": [
    "using DataFrames, Graphs, SimpleWeightedGraphs\n",
    "\n",
    "simplifier = make_simplifier(\"T to T\", 0, [\"U\", \"T\"])\n",
    "graph = SimpleDiGraph(simplifier.(graphs_JDD[3]))\n",
    "outdegrees = outdegree(graph);"
   ]
  },
  {
   "cell_type": "code",
   "execution_count": null,
   "metadata": {},
   "outputs": [],
   "source": [
    "sum(outdegrees .!= 0)"
   ]
  },
  {
   "cell_type": "code",
   "execution_count": null,
   "metadata": {},
   "outputs": [],
   "source": [
    "using GraphPlot\n",
    "gplot(graph, layout=circular_layout)"
   ]
  },
  {
   "cell_type": "code",
   "execution_count": null,
   "metadata": {},
   "outputs": [],
   "source": [
    "plot_edge_types(graphs_TE, df_TE, 0; y=\"count_normalized\", hue_order=[\"Before\", \"During\", \"After\"],\n",
    "    save=true, filename=\"/home/ubuntu/Thesis/Figures/TE_all_users/Skripal/edge_type.pdf\", log=false)\n"
   ]
  },
  {
   "cell_type": "code",
   "execution_count": null,
   "metadata": {},
   "outputs": [],
   "source": [
    "plot_actors_per_level(cascades_JDD, df, save=true, filename=\"/home/ubuntu/Thesis/Figures/JDD_all_users/Skripal/actor_level.pdf\", inner_spacing=0)"
   ]
  },
  {
   "cell_type": "code",
   "execution_count": null,
   "metadata": {},
   "outputs": [],
   "source": [
    "plot_actors_per_level(cascades_TE, df, save=true, filename=\"/home/ubuntu/Thesis/Figures/TE_all_users/Skripal/actor_level.pdf\", inner_spacing=0)"
   ]
  },
  {
   "cell_type": "code",
   "execution_count": null,
   "metadata": {},
   "outputs": [],
   "source": [
    "cascades[3]\n",
    "PlotlyJS.plot(plot_cascade_sankey(cascades[3][6], df)...)\n",
    "# PlotlyJS.savefig(PlotlyJS.plot(plot_cascade_sankey(cascades[3][5], df)...), \"/home/ubuntu/Thesis/Figures/TE_all_users/COP26/cascade.pdf\")"
   ]
  },
  {
   "cell_type": "code",
   "execution_count": null,
   "metadata": {},
   "outputs": [],
   "source": []
  }
 ],
 "metadata": {
  "kernelspec": {
   "display_name": "Julia 1.8.1",
   "language": "julia",
   "name": "julia-1.8"
  },
  "language_info": {
   "file_extension": ".jl",
   "mimetype": "application/julia",
   "name": "julia",
   "version": "1.8.1"
  },
  "orig_nbformat": 4
 },
 "nbformat": 4,
 "nbformat_minor": 2
}
