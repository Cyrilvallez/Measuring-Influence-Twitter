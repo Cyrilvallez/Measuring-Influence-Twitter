{
 "cells": [
  {
   "cell_type": "code",
   "execution_count": null,
   "metadata": {},
   "outputs": [],
   "source": [
    "import Seaborn as sns\n",
    "\n",
    "result = load_data(\"/Users/cyrilvallez/Desktop/Thesis/Results/Find_thresholds/new_test2_TE.jld2\")\n",
    "labels = [\"None\", \"Q(0.5)\", \"Q(0.75)\", \"Q(0.9)\", \"max\", \"2max\", \"4max\"]\n",
    "thresholds = 0:0.1:0.6\n",
    "\n",
    "\n",
    "mean_value = Matrix{Float64}(undef, size(result))\n",
    "for i in eachindex(result)\n",
    "    mean_value[i] = mean(result[i])\n",
    "end\n",
    "\n",
    "if any(mean_value .== 0)\n",
    "    vmin = minimum(mean_value[mean_value .!= 0])*0.5\n",
    "else\n",
    "    vmin = minimum(mean_value)\n",
    "end\n",
    "\n",
    "plt.figure(figsize=[6.4, 4.8].*1.2)\n",
    "sns.heatmap(mean_value, annot=annot, cmap=\"rocket_r\", fmt=\"\", norm=plt.matplotlib.colors.LogNorm(vmin=vmin, clip=true))\n",
    "plt.xlabel(\"Threshold\")\n",
    "plt.ylabel(\"Limit value\")\n",
    "xloc, xlabels = plt.xticks()\n",
    "plt.xticks(xloc, thresholds)\n",
    "yloc, ylabels = plt.yticks()\n",
    "plt.yticks(yloc, labels, rotation=\"horizontal\")\n",
    "plt.gcf();"
   ]
  },
  {
   "cell_type": "code",
   "execution_count": null,
   "metadata": {},
   "outputs": [],
   "source": [
    "import Seaborn as sns\n",
    "\n",
    "result = load_data(\"/Users/cyrilvallez/Desktop/Thesis/Results/Find_thresholds/new_test2_TE.jld2\")\n",
    "labels = [\"None\", \"Q(0.5)\", \"Q(0.75)\", \"Q(0.9)\", \"max\", \"2max\", \"4max\"]\n",
    "thresholds = 0:0.1:0.6\n",
    "\n",
    "\n",
    "mean_value = Matrix{Float64}(undef, size(result))\n",
    "for i in eachindex(result)\n",
    "    mean_value[i] = mean(result[i])\n",
    "end\n",
    "\n",
    "if any(mean_value .== 0)\n",
    "    vmin = minimum(mean_value[mean_value .!= 0])*0.5\n",
    "else\n",
    "    vmin = minimum(mean_value)\n",
    "end\n",
    "\n",
    "plt.figure(figsize=[6.4, 4.8].*1.2)\n",
    "sns.heatmap(mean_value, annot=true, cmap=\"rocket_r\", fmt=\".2g\", norm=plt.matplotlib.colors.LogNorm(vmin=vmin, clip=true))\n",
    "plt.xlabel(\"Threshold\")\n",
    "plt.ylabel(\"Limit value\")\n",
    "xloc, xlabels = plt.xticks()\n",
    "plt.xticks(xloc, thresholds)\n",
    "yloc, ylabels = plt.yticks()\n",
    "plt.yticks(yloc, labels, rotation=\"horizontal\")\n",
    "plt.gcf();"
   ]
  },
  {
   "cell_type": "code",
   "execution_count": null,
   "metadata": {},
   "outputs": [],
   "source": [
    "df = load_dataset(Skripal)"
   ]
  },
  {
   "cell_type": "code",
   "execution_count": 2,
   "metadata": {},
   "outputs": [],
   "source": [
    "using StatsBase\n",
    "include(\"../Engine/Engine.jl\")\n",
    "using .Engine\n",
    "import PyPlot as plt\n",
    "import Seaborn as sns"
   ]
  },
  {
   "cell_type": "code",
   "execution_count": 14,
   "metadata": {},
   "outputs": [],
   "source": [
    "df = load_dataset(Skripal)\n",
    "df = skripal_dates(df);\n",
    "df = trust_score(df);\n",
    "f, _ = IP_scores(by_partition=false)\n",
    "df = f(df);\n",
    "\n",
    "x = df.\"username\"\n",
    "indices = unique(i -> x[i], 1:length(x))\n",
    "# Get unique usernames and corresponding follower_count\n",
    "users = x[indices]\n",
    "I = df.I_score[indices]\n",
    "P = df.P_score[indices]\n",
    "\n",
    "sorting = sortperm(I, rev=true)\n",
    "users = users[sorting]\n",
    "P = P[sorting]\n",
    "I = I[sorting]\n",
    "\n",
    "users[1:20]"
   ]
  },
  {
   "cell_type": "code",
   "execution_count": 11,
   "metadata": {},
   "outputs": [
    {
     "data": {
      "text/html": [
       "<div class=\"data-frame\"><p>3 rows × 2 columns</p><table class=\"data-frame\"><thead><tr><th></th><th>partition</th><th>count</th></tr><tr><th></th><th title=\"String\">String</th><th title=\"Int64\">Int64</th></tr></thead><tbody><tr><th>1</th><td>Before COP26</td><td>952</td></tr><tr><th>2</th><td>During COP26</td><td>1014</td></tr><tr><th>3</th><td>After COP26</td><td>441</td></tr></tbody></table></div>"
      ],
      "text/latex": [
       "\\begin{tabular}{r|cc}\n",
       "\t& partition & count\\\\\n",
       "\t\\hline\n",
       "\t& String & Int64\\\\\n",
       "\t\\hline\n",
       "\t1 & Before COP26 & 952 \\\\\n",
       "\t2 & During COP26 & 1014 \\\\\n",
       "\t3 & After COP26 & 441 \\\\\n",
       "\\end{tabular}\n"
      ],
      "text/plain": [
       "\u001b[1m3×2 DataFrame\u001b[0m\n",
       "\u001b[1m Row \u001b[0m│\u001b[1m partition    \u001b[0m\u001b[1m count \u001b[0m\n",
       "\u001b[1m     \u001b[0m│\u001b[90m String       \u001b[0m\u001b[90m Int64 \u001b[0m\n",
       "─────┼─────────────────────\n",
       "   1 │ Before COP26    952\n",
       "   2 │ During COP26   1014\n",
       "   3 │ After COP26     441"
      ]
     },
     "execution_count": 11,
     "metadata": {},
     "output_type": "execute_result"
    }
   ],
   "source": [
    "df2 = load_dataset(COP26)\n",
    "df2 = cop_26_dates(df2)\n",
    "f, _ = IP_scores(actor_number=\"all_positive\", aggregate_size=100000000)\n",
    "df2 = f(df2)\n",
    "\n",
    "combine(groupby(df2, \"partition\"), \"actor\" => (x->length(unique(x))) => \"count\")"
   ]
  },
  {
   "cell_type": "code",
   "execution_count": 23,
   "metadata": {},
   "outputs": [
    {
     "data": {
      "text/html": [
       "<div class=\"data-frame\"><p>3 rows × 2 columns</p><table class=\"data-frame\"><thead><tr><th></th><th>partition</th><th>count</th></tr><tr><th></th><th title=\"String\">String</th><th title=\"Int64\">Int64</th></tr></thead><tbody><tr><th>1</th><td>Before COP26</td><td>4841</td></tr><tr><th>2</th><td>During COP26</td><td>5508</td></tr><tr><th>3</th><td>After COP26</td><td>2368</td></tr></tbody></table></div>"
      ],
      "text/latex": [
       "\\begin{tabular}{r|cc}\n",
       "\t& partition & count\\\\\n",
       "\t\\hline\n",
       "\t& String & Int64\\\\\n",
       "\t\\hline\n",
       "\t1 & Before COP26 & 4841 \\\\\n",
       "\t2 & During COP26 & 5508 \\\\\n",
       "\t3 & After COP26 & 2368 \\\\\n",
       "\\end{tabular}\n"
      ],
      "text/plain": [
       "\u001b[1m3×2 DataFrame\u001b[0m\n",
       "\u001b[1m Row \u001b[0m│\u001b[1m partition    \u001b[0m\u001b[1m count \u001b[0m\n",
       "\u001b[1m     \u001b[0m│\u001b[90m String       \u001b[0m\u001b[90m Int64 \u001b[0m\n",
       "─────┼─────────────────────\n",
       "   1 │ Before COP26   4841\n",
       "   2 │ During COP26   5508\n",
       "   3 │ After COP26    2368"
      ]
     },
     "execution_count": 23,
     "metadata": {},
     "output_type": "execute_result"
    }
   ],
   "source": [
    "df2 = load_dataset(COP26)\n",
    "df2 = cop_26_dates(df2)\n",
    "f, _ = IP_scores(actor_number=\"all\", aggregate_size=100000000)\n",
    "df2 = f(df2)\n",
    "\n",
    "combine(groupby(df2, \"partition\"), \"actor\" => (x->length(unique(x))) => \"count\")"
   ]
  },
  {
   "cell_type": "code",
   "execution_count": 27,
   "metadata": {},
   "outputs": [
    {
     "data": {
      "text/plain": [
       "5965-element Vector{Float64}:\n",
       " 0.056722024501845054\n",
       " 0.03627213175162406\n",
       " 0.035667320634799576\n",
       " 0.02815227286901304\n",
       " 0.022586439134173044\n",
       " 0.02228551342037563\n",
       " 0.020304109529197343\n",
       " 0.019858284452969905\n",
       " 0.01701881819655281\n",
       " 0.013578912814905999\n",
       " 0.013517665731812132\n",
       " 0.012026848460675737\n",
       " 0.011599367373026498\n",
       " ⋮\n",
       " 0.0\n",
       " 0.0\n",
       " 0.0\n",
       " 0.0\n",
       " 0.0\n",
       " 0.0\n",
       " 0.0\n",
       " 0.0\n",
       " 0.0\n",
       " 0.0\n",
       " 0.0\n",
       " 0.0"
      ]
     },
     "execution_count": 27,
     "metadata": {},
     "output_type": "execute_result"
    }
   ],
   "source": [
    "x = df.\"username\"\n",
    "indices = unique(i -> x[i], 1:length(x))\n",
    "# Get unique usernames and corresponding follower_count\n",
    "users = x[indices]\n",
    "I = df.I_score[indices]\n",
    "P = df.P_score[indices]\n",
    "\n",
    "sorting = sortperm(I, rev=true)\n",
    "users = users[sorting]\n",
    "P = P[sorting]\n",
    "I = I[sorting]"
   ]
  },
  {
   "cell_type": "code",
   "execution_count": null,
   "metadata": {},
   "outputs": [],
   "source": []
  },
  {
   "cell_type": "code",
   "execution_count": 25,
   "metadata": {},
   "outputs": [
    {
     "data": {
      "text/plain": [
       "30388"
      ]
     },
     "execution_count": 25,
     "metadata": {},
     "output_type": "execute_result"
    }
   ],
   "source": [
    "sum(df2.I_score .> 0)"
   ]
  },
  {
   "cell_type": "code",
   "execution_count": 20,
   "metadata": {},
   "outputs": [
    {
     "data": {
      "image/png": "[encoded data removed]",
      "text/plain": [
       "PyPlot.Figure(PyObject <Figure size 640x480 with 1 Axes>)"
      ]
     },
     "metadata": {},
     "output_type": "display_data"
    },
    {
     "data": {
      "text/plain": [
       "([13743.0, 16619.0, 15294.0, 17552.0, 19598.0, 12760.0, 13952.0, 14055.0, 19309.0, 21450.0  …  9688.0, 11761.0, 11502.0, 9856.0, 6889.0, 6576.0, 7479.0, 6910.0, 7665.0, 9291.0], [18918.0, 18918.928570601853, 18919.857141203705, 18920.785711805554, 18921.714282407407, 18922.64285300926, 18923.571423611113, 18924.49999421296, 18925.428564814814, 18926.357135416667  …  18948.64282986111, 18949.571400462963, 18950.499971064815, 18951.428541666664, 18952.357112268517, 18953.28568287037, 18954.214253472222, 18955.14282407407, 18956.071394675924, 18956.999965277777], (PyObject <matplotlib.patches.Rectangle object at 0x36919ceb0>, PyObject <matplotlib.patches.Rectangle object at 0x36919d030>, PyObject <matplotlib.patches.Rectangle object at 0x36919d3f0>, PyObject <matplotlib.patches.Rectangle object at 0x36919d630>, PyObject <matplotlib.patches.Rectangle object at 0x36919d810>, PyObject <matplotlib.patches.Rectangle object at 0x36919d9f0>, PyObject <matplotlib.patches.Rectangle object at 0x36919dbd0>, PyObject <matplotlib.patches.Rectangle object at 0x36919ddb0>, PyObject <matplotlib.patches.Rectangle object at 0x36919df90>, PyObject <matplotlib.patches.Rectangle object at 0x36919e170>, PyObject <matplotlib.patches.Rectangle object at 0x36919e350>, PyObject <matplotlib.patches.Rectangle object at 0x36919e530>, PyObject <matplotlib.patches.Rectangle object at 0x36919e710>, PyObject <matplotlib.patches.Rectangle object at 0x36919e8f0>, PyObject <matplotlib.patches.Rectangle object at 0x36919ead0>, PyObject <matplotlib.patches.Rectangle object at 0x36919ecb0>, PyObject <matplotlib.patches.Rectangle object at 0x36919ee90>, PyObject <matplotlib.patches.Rectangle object at 0x36919f070>, PyObject <matplotlib.patches.Rectangle object at 0x36919f250>, PyObject <matplotlib.patches.Rectangle object at 0x36919f430>, PyObject <matplotlib.patches.Rectangle object at 0x36919f610>, PyObject <matplotlib.patches.Rectangle object at 0x36919f7f0>, PyObject <matplotlib.patches.Rectangle object at 0x36919f9d0>, PyObject <matplotlib.patches.Rectangle object at 0x36919fbb0>, PyObject <matplotlib.patches.Rectangle object at 0x36919fd90>, PyObject <matplotlib.patches.Rectangle object at 0x36919ff70>, PyObject <matplotlib.patches.Rectangle object at 0x3691dc190>, PyObject <matplotlib.patches.Rectangle object at 0x3691dc370>, PyObject <matplotlib.patches.Rectangle object at 0x3691dc550>, PyObject <matplotlib.patches.Rectangle object at 0x3691dc730>, PyObject <matplotlib.patches.Rectangle object at 0x3691dc910>, PyObject <matplotlib.patches.Rectangle object at 0x3691dcaf0>, PyObject <matplotlib.patches.Rectangle object at 0x3691dccd0>, PyObject <matplotlib.patches.Rectangle object at 0x3691dceb0>, PyObject <matplotlib.patches.Rectangle object at 0x3691dd090>, PyObject <matplotlib.patches.Rectangle object at 0x3691dd270>, PyObject <matplotlib.patches.Rectangle object at 0x3691dd450>, PyObject <matplotlib.patches.Rectangle object at 0x3691dd630>, PyObject <matplotlib.patches.Rectangle object at 0x3691dd810>, PyObject <matplotlib.patches.Rectangle object at 0x3691dd9f0>, PyObject <matplotlib.patches.Rectangle object at 0x3691ddbd0>, PyObject <matplotlib.patches.Rectangle object at 0x3691dddb0>))"
      ]
     },
     "execution_count": 20,
     "metadata": {},
     "output_type": "execute_result"
    }
   ],
   "source": [
    "import PyPlot as plt\n",
    "\n",
    "plt.hist(df2.created_at, bins=42)"
   ]
  },
  {
   "cell_type": "markdown",
   "metadata": {},
   "source": [
    "df = co"
   ]
  },
  {
   "cell_type": "code",
   "execution_count": 9,
   "metadata": {},
   "outputs": [
    {
     "data": {
      "image/png": "[encoded data removed]",
      "text/plain": [
       "PyPlot.Figure(PyObject <Figure size 640x480 with 1 Axes>)"
      ]
     },
     "metadata": {},
     "output_type": "display_data"
    },
    {
     "data": {
      "image/png": "[encoded data removed]",
      "text/plain": [
       "PyPlot.Figure(PyObject <Figure size 640x480 with 1 Axes>)"
      ]
     },
     "execution_count": 9,
     "metadata": {},
     "output_type": "execute_result"
    }
   ],
   "source": [
    "plot_action_frequency(df)"
   ]
  },
  {
   "cell_type": "code",
   "execution_count": 21,
   "metadata": {},
   "outputs": [],
   "source": [
    "x = rand(0:1, 200);"
   ]
  },
  {
   "cell_type": "code",
   "execution_count": 22,
   "metadata": {},
   "outputs": [],
   "source": [
    "using CausalityTools\n",
    "import Random\n",
    "Random.seed!(12)\n",
    "\n",
    "surros = []\n",
    "generator = surrogenerator(x, RandomShuffle())\n",
    "for i = 1:100\n",
    "    push!(surros, copy(generator()))\n",
    "end\n",
    "\n",
    "generator = surrogenerator(x, RandomShuffle())\n",
    "for i = 1:100\n",
    "    push!(surros, copy(generator()))\n",
    "end"
   ]
  },
  {
   "cell_type": "code",
   "execution_count": 26,
   "metadata": {},
   "outputs": [
    {
     "data": {
      "text/plain": [
       "true"
      ]
     },
     "execution_count": 26,
     "metadata": {},
     "output_type": "execute_result"
    }
   ],
   "source": [
    "using Dates\n",
    "\n",
    "DateTime(2018, 04, 08, 01, 00, 00) > Date(2018, 04, 8)"
   ]
  },
  {
   "cell_type": "code",
   "execution_count": 23,
   "metadata": {},
   "outputs": [],
   "source": [
    "Random.seed!(12)\n",
    "\n",
    "surros2 = []\n",
    "generator = surrogenerator(x, RandomShuffle())\n",
    "for i = 1:100\n",
    "    push!(surros2, copy(generator()))\n",
    "end\n",
    "\n",
    "generator = surrogenerator(x, RandomShuffle())\n",
    "for i = 1:100\n",
    "    push!(surros2, copy(generator()))\n",
    "end"
   ]
  },
  {
   "cell_type": "code",
   "execution_count": 10,
   "metadata": {},
   "outputs": [],
   "source": [
    "# f1, _ = IP_scores(by_partition=true, actor_number=\"all\")\n",
    "f2, _ = all_users(by_partition=true)\n",
    "\n",
    "# df1 = f1(df)\n",
    "df2 = f2(df);"
   ]
  },
  {
   "cell_type": "code",
   "execution_count": 11,
   "metadata": {},
   "outputs": [
    {
     "data": {
      "text/plain": [
       "1921-element Vector{String}:\n",
       " \"ECOWARRIORSS\"\n",
       " \"SierraClub\"\n",
       " \"MotherJones\"\n",
       " \"MythicVenom22\"\n",
       " \"C_Smart_Climate\"\n",
       " \"TheRealNews\"\n",
       " \"marinccl\"\n",
       " \"EarthAccounting\"\n",
       " \"friends_earth\"\n",
       " \"heather_reams\"\n",
       " \"Giacomo_Cortes\"\n",
       " \"GeogResearch\"\n",
       " \"ClimateHuman\"\n",
       " ⋮\n",
       " \"TedGrunewald\"\n",
       " \"UncleChopperRIP\"\n",
       " \"CarbonCreditRes\"\n",
       " \"DavidVio2\"\n",
       " \"clirater\"\n",
       " \"jtparsons8\"\n",
       " \"jasonrantz\"\n",
       " \"healthierphilly\"\n",
       " \"McbainePsy\"\n",
       " \"BlondieClimate\"\n",
       " \"mrfunnysmart\"\n",
       " \"IrishSchSusty\""
      ]
     },
     "execution_count": 11,
     "metadata": {},
     "output_type": "execute_result"
    }
   ],
   "source": [
    "unique(df2.username)"
   ]
  },
  {
   "cell_type": "code",
   "execution_count": 8,
   "metadata": {},
   "outputs": [
    {
     "data": {
      "text/plain": [
       "true"
      ]
     },
     "execution_count": 8,
     "metadata": {},
     "output_type": "execute_result"
    }
   ],
   "source": [
    "df1[:, Not([\"I_score\", \"P_score\", \"retweet_from\"])] == df2[:, Not([\"tweet_count\", \"retweet_from\"])]"
   ]
  },
  {
   "cell_type": "code",
   "execution_count": 7,
   "metadata": {},
   "outputs": [
    {
     "data": {
      "text/plain": [
       "11-element Vector{String}:\n",
       " \"partition\"\n",
       " \"created_at\"\n",
       " \"effective_category\"\n",
       " \"domain\"\n",
       " \"sentiment\"\n",
       " \"username\"\n",
       " \"follower_count\"\n",
       " \"retweet_from\"\n",
       " \"I_score\"\n",
       " \"P_score\"\n",
       " \"actor\""
      ]
     },
     "execution_count": 7,
     "metadata": {},
     "output_type": "execute_result"
    }
   ],
   "source": [
    "names(df1)"
   ]
  },
  {
   "cell_type": "code",
   "execution_count": 3,
   "metadata": {},
   "outputs": [],
   "source": [
    "f1, _ = IP_scores(by_partition=true, min_tweets=3)\n",
    "df1 = f1(df)\n",
    "df1 = df1[:, Not(\"retweet_from\")]\n",
    "df1 = select(df1, sort(names(df1)));"
   ]
  },
  {
   "cell_type": "code",
   "execution_count": 5,
   "metadata": {},
   "outputs": [
    {
     "data": {
      "text/html": [
       "<div class=\"data-frame\"><p>3 rows × 2 columns</p><table class=\"data-frame\"><thead><tr><th></th><th>partition</th><th>count</th></tr><tr><th></th><th title=\"String\">String</th><th title=\"Int64\">Int64</th></tr></thead><tbody><tr><th>1</th><td>Before COP26</td><td>4841</td></tr><tr><th>2</th><td>During COP26</td><td>5508</td></tr><tr><th>3</th><td>After COP26</td><td>2368</td></tr></tbody></table></div>"
      ],
      "text/latex": [
       "\\begin{tabular}{r|cc}\n",
       "\t& partition & count\\\\\n",
       "\t\\hline\n",
       "\t& String & Int64\\\\\n",
       "\t\\hline\n",
       "\t1 & Before COP26 & 4841 \\\\\n",
       "\t2 & During COP26 & 5508 \\\\\n",
       "\t3 & After COP26 & 2368 \\\\\n",
       "\\end{tabular}\n"
      ],
      "text/plain": [
       "\u001b[1m3×2 DataFrame\u001b[0m\n",
       "\u001b[1m Row \u001b[0m│\u001b[1m partition    \u001b[0m\u001b[1m count \u001b[0m\n",
       "\u001b[1m     \u001b[0m│\u001b[90m String       \u001b[0m\u001b[90m Int64 \u001b[0m\n",
       "─────┼─────────────────────\n",
       "   1 │ Before COP26   4841\n",
       "   2 │ During COP26   5508\n",
       "   3 │ After COP26    2368"
      ]
     },
     "execution_count": 5,
     "metadata": {},
     "output_type": "execute_result"
    }
   ],
   "source": [
    "combine(groupby(df1, \"partition\"), \"username\" => (x->length(unique(x))) => \"count\")"
   ]
  },
  {
   "cell_type": "code",
   "execution_count": 4,
   "metadata": {},
   "outputs": [],
   "source": [
    "f2, _ = IP_scores(by_partition=false, min_tweets=3)\n",
    "\n",
    "dfs = []\n",
    "for partition in unique(df.partition)\n",
    "    push!(dfs, f2(df[df.partition .== partition, :]))\n",
    "end\n",
    "df2 = vcat(dfs...)[:, Not(\"retweet_from\")]\n",
    "df2 = select(df2, sort(names(df2)));"
   ]
  },
  {
   "cell_type": "code",
   "execution_count": 5,
   "metadata": {},
   "outputs": [
    {
     "data": {
      "text/plain": [
       "false"
      ]
     },
     "execution_count": 5,
     "metadata": {},
     "output_type": "execute_result"
    }
   ],
   "source": [
    "df1 == df2"
   ]
  },
  {
   "cell_type": "code",
   "execution_count": null,
   "metadata": {},
   "outputs": [],
   "source": [
    "using BenchmarkTools\n",
    "using CausalityTools\n",
    "\n",
    "igg = InfluenceGraphGenerator(Engine.JointDistanceDistribution, surrogate=nothing)\n",
    "\n",
    "f = (x,y) -> pvalue(jdd(OneSampleTTest, x, y, B=10, D=5, τ=1, μ0=0.0), tail=:right) < 0.001 ? 1 : 0\n",
    "f2 = (x,y) -> igg.causal_function(x,y)\n",
    "\n",
    "x = rand(600)\n",
    "y = rand(600)\n",
    "\n",
    "@btime f2(x,y)"
   ]
  },
  {
   "cell_type": "code",
   "execution_count": null,
   "metadata": {},
   "outputs": [],
   "source": [
    "regex = r\"^AGG[0-9]+:\"\n",
    "a = \"AGG1678934: joeoepzocnjocz    dveonoze^12\"\n",
    "if occursin(regex, a)\n",
    "    print(\"cool\")\n",
    "else\n",
    "    print(\"prout\")\n",
    "end"
   ]
  },
  {
   "cell_type": "code",
   "execution_count": null,
   "metadata": {},
   "outputs": [],
   "source": [
    "df1 = transform(groupby(df1, \"username\"), \"effective_category\" => (x -> sum(x .== \"tweet\")) => \"tweet_count\")\n",
    "df2 = transform(groupby(df2, \"username\"), \"effective_category\" => (x -> sum(x .== \"tweet\")) => \"tweet_count\")\n",
    "df3 = transform(groupby(df3, \"username\"), \"effective_category\" => (x -> sum(x .== \"tweet\")) => \"tweet_count\")"
   ]
  },
  {
   "cell_type": "code",
   "execution_count": null,
   "metadata": {},
   "outputs": [],
   "source": [
    "df1 = df1[df1.tweet_count .>= 3, :]\n",
    "df2 = df2[df2.tweet_count .>= 3, :]\n",
    "df3 = df3[df3.tweet_count .>= 3, :]"
   ]
  },
  {
   "cell_type": "code",
   "execution_count": null,
   "metadata": {},
   "outputs": [],
   "source": [
    "length(unique(df2.username))"
   ]
  },
  {
   "cell_type": "code",
   "execution_count": null,
   "metadata": {},
   "outputs": [],
   "source": [
    "plot_action_frequency(df2)"
   ]
  },
  {
   "cell_type": "code",
   "execution_count": null,
   "metadata": {},
   "outputs": [],
   "source": [
    "length(unique(df2.username))"
   ]
  },
  {
   "cell_type": "code",
   "execution_count": null,
   "metadata": {},
   "outputs": [],
   "source": [
    "tweet_count = combine(groupby(tweeters, \"username\"), \"created_at\" => length => \"count\")\n",
    "tweet_count = tweet_count[tweet_count.count .>= 3, :]\n",
    "nodes = tweet_count.username"
   ]
  },
  {
   "cell_type": "code",
   "execution_count": null,
   "metadata": {},
   "outputs": [],
   "source": [
    "\"GretaThunberg\" in nodes"
   ]
  },
  {
   "cell_type": "code",
   "execution_count": null,
   "metadata": {},
   "outputs": [],
   "source": [
    "using Dates\n",
    "\n",
    "df = load_dataset(COP26)\n",
    "\n",
    "df = df[.~ismissing.(df.\"domain\"), :]\n",
    "if eltype(df.\"created_at\") == String\n",
    "    to_datetime = x -> DateTime(split(x, '.')[1], \"yyyy-mm-ddTHH:MM:SS\")\n",
    "    df.\"created_at\" = to_datetime.(df.\"created_at\")\n",
    "end\n",
    "\n",
    "df = PreProcessing.cop_26_dates(df)\n",
    "df = PreProcessing.trust_score(df)\n",
    "df = transform(groupby(df, \"username\"), \"created_at\" => length => \"count\")\n",
    "\n",
    "tweeters = df[df.effective_category .== \"tweet\", :]\n",
    "retweeters = df[df.effective_category .== \"retweet\", :]\n",
    "\n",
    "bad_df = df[df.action .== \"U\", :]\n",
    "good_df = df[df.action .== \"T\", :]\n",
    "\n",
    "weights, u, v, nodes = PreProcessing.IP_graph(df, min_tweets=3)\n",
    "\n",
    "I, P, residuals = PreProcessing.IP_scores(u, v)\n",
    "\n",
    "# Sort in the order of most influence\n",
    "sorting = sortperm(I, rev=true)\n",
    "nodes = nodes[sorting]\n",
    "I = I[sorting]\n",
    "P = P[sorting]\n",
    "\n",
    "# Extract dataframes of 500 most influentials according to I score\n",
    "isin = (x,y) -> x in y\n",
    "influentials = tweeters[isin.(tweeters.username, Ref(nodes[1:500])), :]\n",
    "foo = combine(groupby(influentials, \"username\"), \"action\" => (x -> sum(x .== \"U\")) => \"U_count\")\n",
    "\n",
    "bad_users = foo.username[foo.U_count .> 0]\n",
    "bad_users_rank = [findall(user .== nodes) for user in bad_users];"
   ]
  },
  {
   "cell_type": "code",
   "execution_count": null,
   "metadata": {},
   "outputs": [],
   "source": [
    "nodes_bad[1:20]"
   ]
  },
  {
   "cell_type": "code",
   "execution_count": null,
   "metadata": {},
   "outputs": [],
   "source": [
    "# I_normal = I\n",
    "# P_normal = P\n",
    "# nodes_normal = nodes\n",
    "\n",
    "test_normal = nodes_normal[I_normal .> 0];"
   ]
  },
  {
   "cell_type": "code",
   "execution_count": null,
   "metadata": {},
   "outputs": [],
   "source": [
    "# I_bad = I\n",
    "# P_bad = P\n",
    "# nodes_bad = nodes\n",
    "\n",
    "test_bad = nodes_bad[I_bad .> 0];"
   ]
  },
  {
   "cell_type": "code",
   "execution_count": null,
   "metadata": {},
   "outputs": [],
   "source": [
    "a = [[1, 2], [3, 4]]"
   ]
  },
  {
   "cell_type": "code",
   "execution_count": null,
   "metadata": {},
   "outputs": [],
   "source": [
    "foo = @view a[1]"
   ]
  },
  {
   "cell_type": "code",
   "execution_count": null,
   "metadata": {},
   "outputs": [],
   "source": [
    "foo2 = a[2]"
   ]
  },
  {
   "cell_type": "code",
   "execution_count": null,
   "metadata": {},
   "outputs": [],
   "source": [
    "foo[1]"
   ]
  },
  {
   "cell_type": "code",
   "execution_count": null,
   "metadata": {},
   "outputs": [],
   "source": [
    "a[1][1] = 2\n",
    "a"
   ]
  },
  {
   "cell_type": "code",
   "execution_count": null,
   "metadata": {},
   "outputs": [],
   "source": [
    "isin = (x,y) -> x in y\n",
    "# sum(isin.(nodes_bad[1:500], Ref(nodes_normal[1:500])))\n",
    "\n",
    "sum(isin.(test_bad, Ref(test_normal))) "
   ]
  },
  {
   "cell_type": "code",
   "execution_count": null,
   "metadata": {},
   "outputs": [],
   "source": [
    "sum(I_normal .> 0)"
   ]
  },
  {
   "cell_type": "code",
   "execution_count": null,
   "metadata": {},
   "outputs": [],
   "source": [
    "(12200 - 500) / 100"
   ]
  },
  {
   "cell_type": "code",
   "execution_count": null,
   "metadata": {},
   "outputs": [],
   "source": [
    "sorting = sortperm(P, rev=true)\n",
    "nodes = nodes[sorting]\n",
    "I = I[sorting]\n",
    "P = P[sorting]"
   ]
  },
  {
   "cell_type": "code",
   "execution_count": null,
   "metadata": {},
   "outputs": [],
   "source": [
    "nodes"
   ]
  },
  {
   "cell_type": "code",
   "execution_count": null,
   "metadata": {},
   "outputs": [],
   "source": [
    "I0 = I .== 0\n",
    "P0 = P .== 0\n",
    "\n",
    "I1 = I .!= 0\n",
    "P1 = P .!= 0;\n",
    "\n",
    "# sort(I0) == sort(P1)"
   ]
  },
  {
   "cell_type": "code",
   "execution_count": null,
   "metadata": {},
   "outputs": [],
   "source": [
    "sum(I1 .&& P0)"
   ]
  },
  {
   "cell_type": "code",
   "execution_count": null,
   "metadata": {},
   "outputs": [],
   "source": [
    "sum(I1 .|| P1) / length(I0)"
   ]
  },
  {
   "cell_type": "code",
   "execution_count": null,
   "metadata": {},
   "outputs": [],
   "source": [
    "I"
   ]
  },
  {
   "cell_type": "code",
   "execution_count": null,
   "metadata": {},
   "outputs": [],
   "source": [
    "nodes"
   ]
  },
  {
   "cell_type": "code",
   "execution_count": null,
   "metadata": {},
   "outputs": [],
   "source": [
    "test = tweeters[tweeters.action .== \"U\", :]\n",
    "test = transform(groupby(test, \"username\"), \"created_at\" => length => \"Ucount\")\n",
    "\n",
    "length(unique(test[test.Ucount .>= 2, \"username\"]))"
   ]
  },
  {
   "cell_type": "code",
   "execution_count": null,
   "metadata": {},
   "outputs": [],
   "source": [
    "nodes[123]"
   ]
  },
  {
   "cell_type": "code",
   "execution_count": null,
   "metadata": {},
   "outputs": [],
   "source": [
    "length(residuals)"
   ]
  },
  {
   "cell_type": "code",
   "execution_count": null,
   "metadata": {},
   "outputs": [],
   "source": [
    "res_ = residuals\n",
    "plt.figure()\n",
    "plt.plot(1:length(res_), res_)\n",
    "plt.yscale(\"log\")\n"
   ]
  },
  {
   "cell_type": "code",
   "execution_count": null,
   "metadata": {},
   "outputs": [],
   "source": [
    "initial_actors = unique(test[ismissing.(test.rt_from), \"username\"])\n",
    "counter = []\n",
    "\n",
    "rts = test[.!ismissing.(test.rt_from), :]\n",
    "# mapping = countmap(rts)\n",
    "# transform(groupby(df, \"username\"), \"created_at\" => length => \"tweet_count\")\n",
    "\n",
    "for (i, a) in enumerate(initial_actors)\n",
    "    indices = findall(rts.rt_from .== a)\n",
    "    push!(counter, rts.username[indices])\n",
    "    # counter[i] = sum(rts.rt_from .== a)\n",
    "end"
   ]
  },
  {
   "cell_type": "code",
   "execution_count": null,
   "metadata": {},
   "outputs": [],
   "source": [
    "N = [length(i) for i in counter]\n",
    "sorting = sortperm(N, rev=true)\n",
    "N = N[sorting]\n",
    "initial_actors = initial_actors[sorting]\n",
    "counter = counter[sorting]"
   ]
  },
  {
   "cell_type": "code",
   "execution_count": null,
   "metadata": {},
   "outputs": [],
   "source": [
    "counter[1]"
   ]
  },
  {
   "cell_type": "code",
   "execution_count": null,
   "metadata": {},
   "outputs": [],
   "source": [
    "initial_actors[1:30]"
   ]
  },
  {
   "cell_type": "code",
   "execution_count": null,
   "metadata": {},
   "outputs": [],
   "source": [
    "initial_actors = unique(test[ismissing.(test.rt_from), \"username\"]);"
   ]
  },
  {
   "cell_type": "code",
   "execution_count": null,
   "metadata": {},
   "outputs": [],
   "source": [
    "using BenchmarkTools\n",
    "\n",
    "counter = []\n",
    "\n",
    "@btime begin\n",
    "    indices = findall(rts.rt_from .== initial_actors[1])\n",
    "    push!(counter, rts.username[indices])\n",
    "end"
   ]
  },
  {
   "cell_type": "code",
   "execution_count": null,
   "metadata": {},
   "outputs": [],
   "source": [
    "# foo = test[test.category .== Ref([\"tweeted\"]), :]\n",
    "# foo = transform(groupby(foo, \"username\"), \"created_at\" => length => \"tweet_count\")\n",
    "# foo = foo[foo.tweet_count .>= 1, :]\n",
    "# length(unique(foo.username))\n",
    "\n",
    "\n",
    "initial_actors = unique(test[.ismissing.(test.rt_from), \"username\"])"
   ]
  },
  {
   "cell_type": "code",
   "execution_count": null,
   "metadata": {},
   "outputs": [],
   "source": [
    "sum(.!ismissing.(test.rt_from))"
   ]
  },
  {
   "cell_type": "code",
   "execution_count": null,
   "metadata": {},
   "outputs": [],
   "source": [
    "foo = test[startswith.(test.text, Ref(\"RT @\")) .&& test.category .!= Ref([\"retweeted\"]), :]"
   ]
  },
  {
   "cell_type": "code",
   "execution_count": null,
   "metadata": {},
   "outputs": [],
   "source": [
    "show(foo, allcols=true)"
   ]
  },
  {
   "cell_type": "code",
   "execution_count": null,
   "metadata": {},
   "outputs": [],
   "source": [
    "find_user(test.text[1])"
   ]
  },
  {
   "cell_type": "code",
   "execution_count": null,
   "metadata": {},
   "outputs": [],
   "source": [
    "length(unique(test.username))"
   ]
  },
  {
   "cell_type": "code",
   "execution_count": null,
   "metadata": {},
   "outputs": [],
   "source": [
    "sum(test.category .== Ref([\"quoted\"]))"
   ]
  },
  {
   "cell_type": "code",
   "execution_count": null,
   "metadata": {},
   "outputs": [],
   "source": [
    "followers[500]"
   ]
  },
  {
   "cell_type": "code",
   "execution_count": null,
   "metadata": {},
   "outputs": [],
   "source": [
    "sum(followers .== 0)"
   ]
  },
  {
   "cell_type": "code",
   "execution_count": null,
   "metadata": {},
   "outputs": [],
   "source": [
    "261259/50\n",
    "\n",
    "## DECREASE BINS LOGARITHMICALLY"
   ]
  },
  {
   "cell_type": "code",
   "execution_count": null,
   "metadata": {},
   "outputs": [],
   "source": [
    "25929^2/520^2*10/60/60"
   ]
  },
  {
   "cell_type": "code",
   "execution_count": null,
   "metadata": {},
   "outputs": [],
   "source": [
    "sum(0 .< followers .< 50)"
   ]
  },
  {
   "cell_type": "code",
   "execution_count": null,
   "metadata": {},
   "outputs": [],
   "source": [
    "sum(followers .== 0)"
   ]
  },
  {
   "cell_type": "code",
   "execution_count": null,
   "metadata": {},
   "outputs": [],
   "source": [
    "sum(followers .> 500000)"
   ]
  },
  {
   "cell_type": "code",
   "execution_count": null,
   "metadata": {},
   "outputs": [],
   "source": [
    "test = collect(1:10)\n",
    "sorting = sortperm(test, rev=true)\n",
    "test[sorting]"
   ]
  },
  {
   "cell_type": "code",
   "execution_count": null,
   "metadata": {},
   "outputs": [],
   "source": []
  },
  {
   "cell_type": "code",
   "execution_count": null,
   "metadata": {},
   "outputs": [],
   "source": []
  }
 ],
 "metadata": {
  "kernelspec": {
   "display_name": "Julia 1.8.1",
   "language": "julia",
   "name": "julia-1.8"
  },
  "language_info": {
   "file_extension": ".jl",
   "mimetype": "application/julia",
   "name": "julia",
   "version": "1.8.1"
  },
  "orig_nbformat": 4,
  "vscode": {
   "interpreter": {
    "hash": "76d3d9ea52ae0f582c7ab8c3bbc7d312c08f3afa3631e827e583225c1557aa69"
   }
  }
 },
 "nbformat": 4,
 "nbformat_minor": 2
}
