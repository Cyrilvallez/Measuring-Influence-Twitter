{
 "cells": [
  {
   "cell_type": "code",
   "execution_count": 1,
   "metadata": {},
   "outputs": [],
   "source": [
    "include(\"../Engine/Engine.jl\")\n",
    "using .Engine\n",
    "\n",
    "using StatsBase, DataFrames\n",
    "import PyPlot as plt\n",
    "import Seaborn as sns"
   ]
  },
  {
   "cell_type": "code",
   "execution_count": 9,
   "metadata": {},
   "outputs": [
    {
     "data": {
      "text/html": [
       "<div class=\"data-frame\"><p>446,408 rows × 6 columns (omitted printing of 1 columns)</p><table class=\"data-frame\"><thead><tr><th></th><th>created_at</th><th>effective_category</th><th>domain</th><th>username</th><th>follower_count</th></tr><tr><th></th><th title=\"Dates.DateTime\">DateTime</th><th title=\"String\">String</th><th title=\"Vector{Any}\">Array…</th><th title=\"String\">String</th><th title=\"Int64\">Int64</th></tr></thead><tbody><tr><th>1</th><td>2018-03-06T23:59:28</td><td>retweet</td><td>[&quot;theguardian.com&quot;]</td><td>Tesscatbird</td><td>979</td></tr><tr><th>2</th><td>2018-03-06T23:59:01</td><td>retweet</td><td>[&quot;theguardian.com&quot;]</td><td>crlulukat</td><td>440</td></tr><tr><th>3</th><td>2018-03-06T23:58:36</td><td>retweet</td><td>[&quot;nbcnews.com&quot;]</td><td>tiffanyclay</td><td>2909</td></tr><tr><th>4</th><td>2018-03-06T23:58:22</td><td>retweet</td><td>[&quot;theguardian.com&quot;]</td><td>KarCranky</td><td>242</td></tr><tr><th>5</th><td>2018-03-06T23:58:22</td><td>retweet</td><td>[&quot;theguardian.com&quot;]</td><td>electricboyo</td><td>1573</td></tr><tr><th>6</th><td>2018-03-06T23:58:11</td><td>retweet</td><td>[&quot;nbcnews.com&quot;]</td><td>rhscsmtms</td><td>1420</td></tr><tr><th>7</th><td>2018-03-06T23:57:59</td><td>retweet</td><td>[&quot;nbcnews.com&quot;]</td><td>AJ_9342</td><td>138</td></tr><tr><th>8</th><td>2018-03-06T23:57:58</td><td>retweet</td><td>[&quot;theguardian.com&quot;]</td><td>unitedMongrels</td><td>1303</td></tr><tr><th>9</th><td>2018-03-06T23:57:34</td><td>retweet</td><td>[&quot;nbcnews.com&quot;]</td><td>SouthFlorida42</td><td>1721</td></tr><tr><th>10</th><td>2018-03-06T23:57:16</td><td>retweet</td><td>[&quot;nbcnews.com&quot;]</td><td>RevFrBobHutchis</td><td>627</td></tr><tr><th>11</th><td>2018-03-06T23:57:13</td><td>retweet</td><td>[&quot;theguardian.com&quot;]</td><td>PlayaSharon</td><td>1598</td></tr><tr><th>12</th><td>2018-03-06T23:57:02</td><td>retweet</td><td>[&quot;nbcnews.com&quot;]</td><td>lizditz</td><td>8414</td></tr><tr><th>13</th><td>2018-03-06T23:57:02</td><td>tweet</td><td>[&quot;theguardian.com&quot;]</td><td>andreariscassi</td><td>15577</td></tr><tr><th>14</th><td>2018-03-06T23:57:01</td><td>retweet</td><td>[&quot;nbcnews.com&quot;]</td><td>Cuprikorn66</td><td>1583</td></tr><tr><th>15</th><td>2018-03-06T23:56:52</td><td>retweet</td><td>[&quot;nbcnews.com&quot;]</td><td>NotJAFO</td><td>834</td></tr><tr><th>16</th><td>2018-03-06T23:56:51</td><td>retweet</td><td>[&quot;theguardian.com&quot;]</td><td>CeleryCaraway</td><td>1254</td></tr><tr><th>17</th><td>2018-03-06T23:56:47</td><td>retweet</td><td>[&quot;theguardian.com&quot;]</td><td>merrill2n</td><td>485</td></tr><tr><th>18</th><td>2018-03-06T23:56:42</td><td>retweet</td><td>[&quot;nbcnews.com&quot;]</td><td>Federelis</td><td>407</td></tr><tr><th>19</th><td>2018-03-06T23:56:24</td><td>retweet</td><td>[&quot;nbcnews.com&quot;]</td><td>Ceo_Leo</td><td>218</td></tr><tr><th>20</th><td>2018-03-06T23:56:23</td><td>retweet</td><td>[&quot;nbcnews.com&quot;]</td><td>fwdcrocblu</td><td>1878</td></tr><tr><th>21</th><td>2018-03-06T23:56:23</td><td>tweet</td><td>[&quot;theguardian.com&quot;]</td><td>the_Dyp</td><td>1430</td></tr><tr><th>22</th><td>2018-03-06T23:56:20</td><td>retweet</td><td>[&quot;theguardian.com&quot;]</td><td>5dodgerfans</td><td>137</td></tr><tr><th>23</th><td>2018-03-06T23:56:16</td><td>retweet</td><td>[&quot;theguardian.com&quot;]</td><td>LenteCurrite</td><td>489</td></tr><tr><th>24</th><td>2018-03-06T23:56:11</td><td>retweet</td><td>[&quot;theguardian.com&quot;]</td><td>LenteCurrite</td><td>489</td></tr><tr><th>25</th><td>2018-03-06T23:56:10</td><td>retweet</td><td>[&quot;theguardian.com&quot;]</td><td>Despisingdespot</td><td>139</td></tr><tr><th>26</th><td>2018-03-06T23:56:02</td><td>retweet</td><td>[&quot;nbcnews.com&quot;]</td><td>jo_revelette</td><td>1242</td></tr><tr><th>27</th><td>2018-03-06T23:56:00</td><td>retweet</td><td>[&quot;nbcnews.com&quot;]</td><td>setislady</td><td>3641</td></tr><tr><th>28</th><td>2018-03-06T23:55:52</td><td>retweet</td><td>[&quot;nbcnews.com&quot;]</td><td>Russbarr</td><td>7155</td></tr><tr><th>29</th><td>2018-03-06T23:55:51</td><td>retweet</td><td>[&quot;nbcnews.com&quot;]</td><td>PumaBare</td><td>4580</td></tr><tr><th>30</th><td>2018-03-06T23:55:50</td><td>retweet</td><td>[&quot;theguardian.com&quot;]</td><td>lroy2737</td><td>136</td></tr><tr><th>&vellip;</th><td>&vellip;</td><td>&vellip;</td><td>&vellip;</td><td>&vellip;</td><td>&vellip;</td></tr></tbody></table></div>"
      ],
      "text/latex": [
       "\\begin{tabular}{r|cccccc}\n",
       "\t& created\\_at & effective\\_category & domain & username & follower\\_count & \\\\\n",
       "\t\\hline\n",
       "\t& DateTime & String & Array… & String & Int64 & \\\\\n",
       "\t\\hline\n",
       "\t1 & 2018-03-06T23:59:28 & retweet & [\"theguardian.com\"] & Tesscatbird & 979 & $\\dots$ \\\\\n",
       "\t2 & 2018-03-06T23:59:01 & retweet & [\"theguardian.com\"] & crlulukat & 440 & $\\dots$ \\\\\n",
       "\t3 & 2018-03-06T23:58:36 & retweet & [\"nbcnews.com\"] & tiffanyclay & 2909 & $\\dots$ \\\\\n",
       "\t4 & 2018-03-06T23:58:22 & retweet & [\"theguardian.com\"] & KarCranky & 242 & $\\dots$ \\\\\n",
       "\t5 & 2018-03-06T23:58:22 & retweet & [\"theguardian.com\"] & electricboyo & 1573 & $\\dots$ \\\\\n",
       "\t6 & 2018-03-06T23:58:11 & retweet & [\"nbcnews.com\"] & rhscsmtms & 1420 & $\\dots$ \\\\\n",
       "\t7 & 2018-03-06T23:57:59 & retweet & [\"nbcnews.com\"] & AJ\\_9342 & 138 & $\\dots$ \\\\\n",
       "\t8 & 2018-03-06T23:57:58 & retweet & [\"theguardian.com\"] & unitedMongrels & 1303 & $\\dots$ \\\\\n",
       "\t9 & 2018-03-06T23:57:34 & retweet & [\"nbcnews.com\"] & SouthFlorida42 & 1721 & $\\dots$ \\\\\n",
       "\t10 & 2018-03-06T23:57:16 & retweet & [\"nbcnews.com\"] & RevFrBobHutchis & 627 & $\\dots$ \\\\\n",
       "\t11 & 2018-03-06T23:57:13 & retweet & [\"theguardian.com\"] & PlayaSharon & 1598 & $\\dots$ \\\\\n",
       "\t12 & 2018-03-06T23:57:02 & retweet & [\"nbcnews.com\"] & lizditz & 8414 & $\\dots$ \\\\\n",
       "\t13 & 2018-03-06T23:57:02 & tweet & [\"theguardian.com\"] & andreariscassi & 15577 & $\\dots$ \\\\\n",
       "\t14 & 2018-03-06T23:57:01 & retweet & [\"nbcnews.com\"] & Cuprikorn66 & 1583 & $\\dots$ \\\\\n",
       "\t15 & 2018-03-06T23:56:52 & retweet & [\"nbcnews.com\"] & NotJAFO & 834 & $\\dots$ \\\\\n",
       "\t16 & 2018-03-06T23:56:51 & retweet & [\"theguardian.com\"] & CeleryCaraway & 1254 & $\\dots$ \\\\\n",
       "\t17 & 2018-03-06T23:56:47 & retweet & [\"theguardian.com\"] & merrill2n & 485 & $\\dots$ \\\\\n",
       "\t18 & 2018-03-06T23:56:42 & retweet & [\"nbcnews.com\"] & Federelis & 407 & $\\dots$ \\\\\n",
       "\t19 & 2018-03-06T23:56:24 & retweet & [\"nbcnews.com\"] & Ceo\\_Leo & 218 & $\\dots$ \\\\\n",
       "\t20 & 2018-03-06T23:56:23 & retweet & [\"nbcnews.com\"] & fwdcrocblu & 1878 & $\\dots$ \\\\\n",
       "\t21 & 2018-03-06T23:56:23 & tweet & [\"theguardian.com\"] & the\\_Dyp & 1430 & $\\dots$ \\\\\n",
       "\t22 & 2018-03-06T23:56:20 & retweet & [\"theguardian.com\"] & 5dodgerfans & 137 & $\\dots$ \\\\\n",
       "\t23 & 2018-03-06T23:56:16 & retweet & [\"theguardian.com\"] & LenteCurrite & 489 & $\\dots$ \\\\\n",
       "\t24 & 2018-03-06T23:56:11 & retweet & [\"theguardian.com\"] & LenteCurrite & 489 & $\\dots$ \\\\\n",
       "\t25 & 2018-03-06T23:56:10 & retweet & [\"theguardian.com\"] & Despisingdespot & 139 & $\\dots$ \\\\\n",
       "\t26 & 2018-03-06T23:56:02 & retweet & [\"nbcnews.com\"] & jo\\_revelette & 1242 & $\\dots$ \\\\\n",
       "\t27 & 2018-03-06T23:56:00 & retweet & [\"nbcnews.com\"] & setislady & 3641 & $\\dots$ \\\\\n",
       "\t28 & 2018-03-06T23:55:52 & retweet & [\"nbcnews.com\"] & Russbarr & 7155 & $\\dots$ \\\\\n",
       "\t29 & 2018-03-06T23:55:51 & retweet & [\"nbcnews.com\"] & PumaBare & 4580 & $\\dots$ \\\\\n",
       "\t30 & 2018-03-06T23:55:50 & retweet & [\"theguardian.com\"] & lroy2737 & 136 & $\\dots$ \\\\\n",
       "\t$\\dots$ & $\\dots$ & $\\dots$ & $\\dots$ & $\\dots$ & $\\dots$ &  \\\\\n",
       "\\end{tabular}\n"
      ],
      "text/plain": [
       "\u001b[1m446408×6 DataFrame\u001b[0m\n",
       "\u001b[1m    Row \u001b[0m│\u001b[1m created_at          \u001b[0m\u001b[1m effective_category \u001b[0m\u001b[1m domain                     \u001b[0m ⋯\n",
       "\u001b[1m        \u001b[0m│\u001b[90m DateTime            \u001b[0m\u001b[90m String             \u001b[0m\u001b[90m Array…                     \u001b[0m ⋯\n",
       "────────┼───────────────────────────────────────────────────────────────────────\n",
       "      1 │ 2018-03-06T23:59:28  retweet             Any[\"theguardian.com\"]      ⋯\n",
       "      2 │ 2018-03-06T23:59:01  retweet             Any[\"theguardian.com\"]\n",
       "      3 │ 2018-03-06T23:58:36  retweet             Any[\"nbcnews.com\"]\n",
       "      4 │ 2018-03-06T23:58:22  retweet             Any[\"theguardian.com\"]\n",
       "      5 │ 2018-03-06T23:58:22  retweet             Any[\"theguardian.com\"]      ⋯\n",
       "      6 │ 2018-03-06T23:58:11  retweet             Any[\"nbcnews.com\"]\n",
       "      7 │ 2018-03-06T23:57:59  retweet             Any[\"nbcnews.com\"]\n",
       "      8 │ 2018-03-06T23:57:58  retweet             Any[\"theguardian.com\"]\n",
       "      9 │ 2018-03-06T23:57:34  retweet             Any[\"nbcnews.com\"]          ⋯\n",
       "     10 │ 2018-03-06T23:57:16  retweet             Any[\"nbcnews.com\"]\n",
       "     11 │ 2018-03-06T23:57:13  retweet             Any[\"theguardian.com\"]\n",
       "   ⋮    │          ⋮                   ⋮                        ⋮              ⋱\n",
       " 446399 │ 2018-04-21T00:08:05  tweet               Any[\"nytimes.com\"]\n",
       " 446400 │ 2018-04-21T00:08:05  tweet               Any[\"nytimes.com\"]          ⋯\n",
       " 446401 │ 2018-04-21T00:08:04  tweet               Any[\"nytimes.com\"]\n",
       " 446402 │ 2018-04-21T00:08:04  tweet               Any[\"nytimes.com\"]\n",
       " 446403 │ 2018-04-21T00:08:03  tweet               Any[\"nytimes.com\"]\n",
       " 446404 │ 2018-04-21T00:06:05  retweet             Any[\"strategic-culture.org\" ⋯\n",
       " 446405 │ 2018-04-21T00:03:22  tweet               Any[\"globalresearch.ca\"]\n",
       " 446406 │ 2018-04-21T00:02:57  tweet               Any[\"nytimes.com\"]\n",
       " 446407 │ 2018-04-21T00:01:41  tweet               Any[\"washingtonpost.com\"]\n",
       " 446408 │ 2018-04-21T00:01:05  tweet               Any[\"strategic-culture.org\" ⋯\n",
       "\u001b[36m                                               4 columns and 446387 rows omitted\u001b[0m"
      ]
     },
     "execution_count": 9,
     "metadata": {},
     "output_type": "execute_result"
    }
   ],
   "source": [
    "folder = \"/Users/cyrilvallez/Desktop/Thesis/Data/Twitter/Skripal_processed_lightweight\"\n",
    "files = [file for file in readdir(folder, join=true) if occursin(\".json\", file)]\n",
    "\n",
    "df1 = vcat([Helpers.load_json(file) for file in files]...)\n",
    "df2 = Helpers.load_json(\"/Users/cyrilvallez/Desktop/Thesis/Data/BrandWatch/Skripal/skripal_clean_lightweight.json\")"
   ]
  },
  {
   "cell_type": "code",
   "execution_count": 15,
   "metadata": {},
   "outputs": [
    {
     "data": {
      "image/png": "[encoded data removed]",
      "text/plain": [
       "PyPlot.Figure(PyObject <Figure size 640x480 with 1 Axes>)"
      ]
     },
     "metadata": {},
     "output_type": "display_data"
    }
   ],
   "source": [
    "plt.figure()\n",
    "plt.hist(df1.created_at, bins=100)\n",
    "xloc, xlabels = plt.xticks()\n",
    "plt.xticks(xloc, xlabels, rotation=\"vertical\");\n"
   ]
  },
  {
   "cell_type": "code",
   "execution_count": 16,
   "metadata": {},
   "outputs": [
    {
     "data": {
      "image/png": "[encoded data removed]",
      "text/plain": [
       "PyPlot.Figure(PyObject <Figure size 640x480 with 1 Axes>)"
      ]
     },
     "metadata": {},
     "output_type": "display_data"
    }
   ],
   "source": [
    "plt.figure()\n",
    "plt.hist(df2.created_at, bins=100)\n",
    "xloc, xlabels = plt.xticks()\n",
    "plt.xticks(xloc, xlabels, rotation=\"vertical\");"
   ]
  },
  {
   "cell_type": "code",
   "execution_count": 19,
   "metadata": {},
   "outputs": [
    {
     "data": {
      "image/png": "[encoded data removed]",
      "text/plain": [
       "PyPlot.Figure(PyObject <Figure size 640x480 with 1 Axes>)"
      ]
     },
     "metadata": {},
     "output_type": "display_data"
    }
   ],
   "source": [
    "df3 = load_dataset(Skripal)\n",
    "df3 = skripal_dates(df3)\n",
    "\n",
    "\n",
    "plt.figure()\n",
    "plt.hist(df3.created_at, bins=100)\n",
    "xloc, xlabels = plt.xticks()\n",
    "plt.xticks(xloc, xlabels, rotation=\"vertical\");"
   ]
  },
  {
   "cell_type": "code",
   "execution_count": 29,
   "metadata": {},
   "outputs": [
    {
     "data": {
      "text/plain": [
       "5-element Vector{Float64}:\n",
       " 0.9\n",
       " 0.135\n",
       " 0.02025\n",
       " 0.0030375\n",
       " 0.000455625"
      ]
     },
     "execution_count": 29,
     "metadata": {},
     "output_type": "execute_result"
    }
   ],
   "source": [
    "[0.9*0.15^i for i = 0:4]"
   ]
  },
  {
   "cell_type": "code",
   "execution_count": 42,
   "metadata": {},
   "outputs": [
    {
     "data": {
      "text/plain": [
       "0.985"
      ]
     },
     "execution_count": 42,
     "metadata": {},
     "output_type": "execute_result"
    }
   ],
   "source": [
    "sum(weights)"
   ]
  },
  {
   "cell_type": "code",
   "execution_count": 67,
   "metadata": {},
   "outputs": [
    {
     "data": {
      "image/png": "[encoded data removed]",
      "text/plain": [
       "PyPlot.Figure(PyObject <Figure size 640x480 with 1 Axes>)"
      ]
     },
     "metadata": {},
     "output_type": "display_data"
    }
   ],
   "source": [
    "using StatsBase\n",
    "\n",
    "weights = AnalyticWeights([0.965, 0.03, 0.003, 0.001, 0.001])\n",
    "b = AnalyticWeights(weights)\n",
    "\n",
    "foo = [sample(0:4, b, 150) for i = 1:10000]\n",
    "test = [sum(a) for a in foo]\n",
    "\n",
    "plt.figure()\n",
    "plt.boxplot(test);"
   ]
  },
  {
   "cell_type": "code",
   "execution_count": 72,
   "metadata": {},
   "outputs": [
    {
     "data": {
      "image/png": "[encoded data removed]",
      "text/plain": [
       "PyPlot.Figure(PyObject <Figure size 640x480 with 1 Axes>)"
      ]
     },
     "metadata": {},
     "output_type": "display_data"
    }
   ],
   "source": [
    "function draw_series(N, M = 150, weights = nothing)\n",
    "    if isnothing(weights)\n",
    "        weights = AnalyticWeights([0.965, 0.03, 0.003, 0.001, 0.001])\n",
    "    end\n",
    "\n",
    "    sample_ = [sample(0:4, weights, M) for i = 1:N]\n",
    "    for i = 1:N\n",
    "        if sum(sample_[i]) < 3\n",
    "            while sum(sample_[i]) < 3\n",
    "                sample_[i] = sample(0:4, weights, M)\n",
    "            end\n",
    "        end\n",
    "    end\n",
    "\n",
    "    return sample_\n",
    "\n",
    "end\n",
    "\n",
    "foo = draw_series(10000)\n",
    "test = [sum(a) for a in foo]\n",
    "\n",
    "plt.figure()\n",
    "plt.boxplot(test);"
   ]
  },
  {
   "cell_type": "code",
   "execution_count": 79,
   "metadata": {},
   "outputs": [
    {
     "data": {
      "text/plain": [
       "138.88888888888889"
      ]
     },
     "execution_count": 79,
     "metadata": {},
     "output_type": "execute_result"
    }
   ],
   "source": [
    "10000*100*2.5e-3/3600*25*8"
   ]
  },
  {
   "cell_type": "code",
   "execution_count": null,
   "metadata": {},
   "outputs": [],
   "source": [
    "import Seaborn as sns\n",
    "\n",
    "result = load_data(\"/Users/cyrilvallez/Desktop/Thesis/Results/Find_thresholds/new_test2_TE.jld2\")\n",
    "labels = [\"None\", \"Q(0.5)\", \"Q(0.75)\", \"Q(0.9)\", \"max\", \"2max\", \"4max\"]\n",
    "thresholds = 0:0.1:0.6\n",
    "\n",
    "\n",
    "mean_value = Matrix{Float64}(undef, size(result))\n",
    "for i in eachindex(result)\n",
    "    mean_value[i] = mean(result[i])\n",
    "end\n",
    "\n",
    "if any(mean_value .== 0)\n",
    "    vmin = minimum(mean_value[mean_value .!= 0])*0.5\n",
    "else\n",
    "    vmin = minimum(mean_value)\n",
    "end\n",
    "\n",
    "plt.figure(figsize=[6.4, 4.8].*1.2)\n",
    "sns.heatmap(mean_value, annot=annot, cmap=\"rocket_r\", fmt=\"\", norm=plt.matplotlib.colors.LogNorm(vmin=vmin, clip=true))\n",
    "plt.xlabel(\"Threshold\")\n",
    "plt.ylabel(\"Limit value\")\n",
    "xloc, xlabels = plt.xticks()\n",
    "plt.xticks(xloc, thresholds)\n",
    "yloc, ylabels = plt.yticks()\n",
    "plt.yticks(yloc, labels, rotation=\"horizontal\")\n",
    "plt.gcf();"
   ]
  },
  {
   "cell_type": "code",
   "execution_count": null,
   "metadata": {},
   "outputs": [],
   "source": [
    "import Seaborn as sns\n",
    "\n",
    "result = load_data(\"/Users/cyrilvallez/Desktop/Thesis/Results/Find_thresholds/new_test2_TE.jld2\")\n",
    "labels = [\"None\", \"Q(0.5)\", \"Q(0.75)\", \"Q(0.9)\", \"max\", \"2max\", \"4max\"]\n",
    "thresholds = 0:0.1:0.6\n",
    "\n",
    "\n",
    "mean_value = Matrix{Float64}(undef, size(result))\n",
    "for i in eachindex(result)\n",
    "    mean_value[i] = mean(result[i])\n",
    "end\n",
    "\n",
    "if any(mean_value .== 0)\n",
    "    vmin = minimum(mean_value[mean_value .!= 0])*0.5\n",
    "else\n",
    "    vmin = minimum(mean_value)\n",
    "end\n",
    "\n",
    "plt.figure(figsize=[6.4, 4.8].*1.2)\n",
    "sns.heatmap(mean_value, annot=true, cmap=\"rocket_r\", fmt=\".2g\", norm=plt.matplotlib.colors.LogNorm(vmin=vmin, clip=true))\n",
    "plt.xlabel(\"Threshold\")\n",
    "plt.ylabel(\"Limit value\")\n",
    "xloc, xlabels = plt.xticks()\n",
    "plt.xticks(xloc, thresholds)\n",
    "yloc, ylabels = plt.yticks()\n",
    "plt.yticks(yloc, labels, rotation=\"horizontal\")\n",
    "plt.gcf();"
   ]
  },
  {
   "cell_type": "code",
   "execution_count": 2,
   "metadata": {},
   "outputs": [],
   "source": [
    "cop26 = load_dataset(COP26)\n",
    "ranks = get_all_ranks(cop26, cop_26_dates)\n",
    "\n",
    "graphs, cascades, df = load_data(\"/home/ubuntu/Thesis/Results/JDD_all_users/COP26/data.jld2\");"
   ]
  },
  {
   "cell_type": "code",
   "execution_count": null,
   "metadata": {},
   "outputs": [],
   "source": [
    "# plt.figure()\n",
    "# sns.heatmap(mean_value, annot=true, cmap=\"rocket_r\")\n",
    "# plt.xlabel(\"Threshold\")\n",
    "# plt.ylabel(\"Limit value\")\n",
    "# xloc, xlabels = plt.xticks()\n",
    "# plt.xticks(xloc, thresholds)\n",
    "# yloc, ylabels = plt.yticks()\n",
    "# plt.yticks(yloc, labels, rotation=\"horizontal\")\n",
    "# plt.savefig(path * \"_TE.pdf\", bbox_inches=\"tight\")\n",
    "# plt.gcf()\n",
    "\n"
   ]
  },
  {
   "cell_type": "code",
   "execution_count": 54,
   "metadata": {},
   "outputs": [
    {
     "data": {
      "text/html": [
       "<div class=\"data-frame\"><p>21 rows × 10 columns (omitted printing of 4 columns)</p><table class=\"data-frame\"><thead><tr><th></th><th>username</th><th>partition</th><th>tweet_count</th><th>follower_count</th><th>retweet_count</th><th>I_score</th></tr><tr><th></th><th title=\"String\">String</th><th title=\"String\">String</th><th title=\"Int64\">Int64</th><th title=\"Int64\">Int64</th><th title=\"Float64\">Float64</th><th title=\"Float64\">Float64</th></tr></thead><tbody><tr><th>1</th><td>imsuresteve</td><td>After COP26</td><td>9</td><td>44</td><td>0.0</td><td>0.0</td></tr><tr><th>2</th><td>MaxKingsleyEh</td><td>After COP26</td><td>4</td><td>5882</td><td>2.0</td><td>0.000474937</td></tr><tr><th>3</th><td>amandalitman</td><td>After COP26</td><td>3</td><td>81222</td><td>35.0</td><td>0.000221963</td></tr><tr><th>4</th><td>Frater_JQS</td><td>After COP26</td><td>4</td><td>263</td><td>0.0</td><td>0.0</td></tr><tr><th>5</th><td>jopan1</td><td>After COP26</td><td>3</td><td>1134</td><td>0.0</td><td>0.0</td></tr><tr><th>6</th><td>ChicagoCouncil</td><td>After COP26</td><td>3</td><td>23779</td><td>0.0</td><td>0.0</td></tr><tr><th>7</th><td>DenisPetit2233</td><td>After COP26</td><td>3</td><td>624</td><td>0.0</td><td>0.0</td></tr><tr><th>8</th><td>SusanLe11666982</td><td>After COP26</td><td>3</td><td>1962</td><td>1.0</td><td>0.0</td></tr><tr><th>9</th><td>kenkelly1</td><td>After COP26</td><td>3</td><td>1926</td><td>0.0</td><td>0.0</td></tr><tr><th>10</th><td>wgibson58</td><td>After COP26</td><td>3</td><td>1304</td><td>1.0</td><td>0.0</td></tr><tr><th>11</th><td>Adaya77</td><td>After COP26</td><td>3</td><td>2638</td><td>3.0</td><td>0.0</td></tr><tr><th>12</th><td>CJPomfret</td><td>After COP26</td><td>3</td><td>1252</td><td>4.0</td><td>0.0</td></tr><tr><th>13</th><td>1val1richy</td><td>After COP26</td><td>3</td><td>356</td><td>0.0</td><td>0.0</td></tr><tr><th>14</th><td>vi15321513</td><td>After COP26</td><td>3</td><td>0</td><td>0.0</td><td>0.0</td></tr><tr><th>15</th><td>CowichanCitizen</td><td>After COP26</td><td>3</td><td>3780</td><td>0.0</td><td>0.0</td></tr><tr><th>16</th><td>LAist</td><td>After COP26</td><td>3</td><td>795883</td><td>0.0</td><td>0.0</td></tr><tr><th>17</th><td>CBCQueensPark</td><td>After COP26</td><td>4</td><td>62461</td><td>436.0</td><td>0.00411915</td></tr><tr><th>18</th><td>Gpw_Bernard_R</td><td>After COP26</td><td>4</td><td>15</td><td>0.0</td><td>0.0</td></tr><tr><th>19</th><td>Help3arth</td><td>After COP26</td><td>3</td><td>48</td><td>0.0</td><td>0.0</td></tr><tr><th>20</th><td>jonmspangler</td><td>After COP26</td><td>3</td><td>1493</td><td>0.0</td><td>0.0</td></tr><tr><th>21</th><td>DanAlbas</td><td>After COP26</td><td>3</td><td>22618</td><td>3.0</td><td>0.0</td></tr></tbody></table></div>"
      ],
      "text/latex": [
       "\\begin{tabular}{r|ccccccc}\n",
       "\t& username & partition & tweet\\_count & follower\\_count & retweet\\_count & I\\_score & \\\\\n",
       "\t\\hline\n",
       "\t& String & String & Int64 & Int64 & Float64 & Float64 & \\\\\n",
       "\t\\hline\n",
       "\t1 & imsuresteve & After COP26 & 9 & 44 & 0.0 & 0.0 & $\\dots$ \\\\\n",
       "\t2 & MaxKingsleyEh & After COP26 & 4 & 5882 & 2.0 & 0.000474937 & $\\dots$ \\\\\n",
       "\t3 & amandalitman & After COP26 & 3 & 81222 & 35.0 & 0.000221963 & $\\dots$ \\\\\n",
       "\t4 & Frater\\_JQS & After COP26 & 4 & 263 & 0.0 & 0.0 & $\\dots$ \\\\\n",
       "\t5 & jopan1 & After COP26 & 3 & 1134 & 0.0 & 0.0 & $\\dots$ \\\\\n",
       "\t6 & ChicagoCouncil & After COP26 & 3 & 23779 & 0.0 & 0.0 & $\\dots$ \\\\\n",
       "\t7 & DenisPetit2233 & After COP26 & 3 & 624 & 0.0 & 0.0 & $\\dots$ \\\\\n",
       "\t8 & SusanLe11666982 & After COP26 & 3 & 1962 & 1.0 & 0.0 & $\\dots$ \\\\\n",
       "\t9 & kenkelly1 & After COP26 & 3 & 1926 & 0.0 & 0.0 & $\\dots$ \\\\\n",
       "\t10 & wgibson58 & After COP26 & 3 & 1304 & 1.0 & 0.0 & $\\dots$ \\\\\n",
       "\t11 & Adaya77 & After COP26 & 3 & 2638 & 3.0 & 0.0 & $\\dots$ \\\\\n",
       "\t12 & CJPomfret & After COP26 & 3 & 1252 & 4.0 & 0.0 & $\\dots$ \\\\\n",
       "\t13 & 1val1richy & After COP26 & 3 & 356 & 0.0 & 0.0 & $\\dots$ \\\\\n",
       "\t14 & vi15321513 & After COP26 & 3 & 0 & 0.0 & 0.0 & $\\dots$ \\\\\n",
       "\t15 & CowichanCitizen & After COP26 & 3 & 3780 & 0.0 & 0.0 & $\\dots$ \\\\\n",
       "\t16 & LAist & After COP26 & 3 & 795883 & 0.0 & 0.0 & $\\dots$ \\\\\n",
       "\t17 & CBCQueensPark & After COP26 & 4 & 62461 & 436.0 & 0.00411915 & $\\dots$ \\\\\n",
       "\t18 & Gpw\\_Bernard\\_R & After COP26 & 4 & 15 & 0.0 & 0.0 & $\\dots$ \\\\\n",
       "\t19 & Help3arth & After COP26 & 3 & 48 & 0.0 & 0.0 & $\\dots$ \\\\\n",
       "\t20 & jonmspangler & After COP26 & 3 & 1493 & 0.0 & 0.0 & $\\dots$ \\\\\n",
       "\t21 & DanAlbas & After COP26 & 3 & 22618 & 3.0 & 0.0 & $\\dots$ \\\\\n",
       "\\end{tabular}\n"
      ],
      "text/plain": [
       "\u001b[1m21×10 DataFrame\u001b[0m\n",
       "\u001b[1m Row \u001b[0m│\u001b[1m username        \u001b[0m\u001b[1m partition   \u001b[0m\u001b[1m tweet_count \u001b[0m\u001b[1m follower_count \u001b[0m\u001b[1m retweet_coun\u001b[0m ⋯\n",
       "\u001b[1m     \u001b[0m│\u001b[90m String          \u001b[0m\u001b[90m String      \u001b[0m\u001b[90m Int64       \u001b[0m\u001b[90m Int64          \u001b[0m\u001b[90m Float64     \u001b[0m ⋯\n",
       "─────┼──────────────────────────────────────────────────────────────────────────\n",
       "   1 │ imsuresteve      After COP26            9              44            0. ⋯\n",
       "   2 │ MaxKingsleyEh    After COP26            4            5882            2.\n",
       "   3 │ amandalitman     After COP26            3           81222           35.\n",
       "   4 │ Frater_JQS       After COP26            4             263            0.\n",
       "   5 │ jopan1           After COP26            3            1134            0. ⋯\n",
       "   6 │ ChicagoCouncil   After COP26            3           23779            0.\n",
       "   7 │ DenisPetit2233   After COP26            3             624            0.\n",
       "   8 │ SusanLe11666982  After COP26            3            1962            1.\n",
       "   9 │ kenkelly1        After COP26            3            1926            0. ⋯\n",
       "  10 │ wgibson58        After COP26            3            1304            1.\n",
       "  11 │ Adaya77          After COP26            3            2638            3.\n",
       "  12 │ CJPomfret        After COP26            3            1252            4.\n",
       "  13 │ 1val1richy       After COP26            3             356            0. ⋯\n",
       "  14 │ vi15321513       After COP26            3               0            0.\n",
       "  15 │ CowichanCitizen  After COP26            3            3780            0.\n",
       "  16 │ LAist            After COP26            3          795883            0.\n",
       "  17 │ CBCQueensPark    After COP26            4           62461          436. ⋯\n",
       "  18 │ Gpw_Bernard_R    After COP26            4              15            0.\n",
       "  19 │ Help3arth        After COP26            3              48            0.\n",
       "  20 │ jonmspangler     After COP26            3            1493            0.\n",
       "  21 │ DanAlbas         After COP26            3           22618            3. ⋯\n",
       "\u001b[36m                                                               6 columns omitted\u001b[0m"
      ]
     },
     "execution_count": 54,
     "metadata": {},
     "output_type": "execute_result"
    }
   ],
   "source": [
    "ranks[end-20:end, :]"
   ]
  },
  {
   "cell_type": "code",
   "execution_count": null,
   "metadata": {},
   "outputs": [],
   "source": [
    "using Graphs, SimpleWeightedGraphs\n",
    "edge_type = \"Any Edge\"\n",
    "N_biggest = 20\n",
    "cuttoff = 0\n",
    "\n",
    "between, between_actors = betweenness_centralities2(graphs, df, cuttoff=cuttoff, edge_type=edge_type)\n",
    "in_, in_actors = indegree_centralities2(graphs, df, cuttoff=cuttoff, edge_type=edge_type)\n",
    "out, out_actors = outdegree_centralities2(graphs, df, cuttoff=cuttoff, edge_type=edge_type)\n",
    "\n",
    "between_actors[3][1:N_biggest]"
   ]
  },
  {
   "cell_type": "code",
   "execution_count": 58,
   "metadata": {},
   "outputs": [
    {
     "data": {
      "text/plain": [
       "20-element Vector{String}:\n",
       " \"TheDisproof\"\n",
       " \"AugustEve2012\"\n",
       " \"drsohailmahmood\"\n",
       " \"klausammann\"\n",
       " \"paulinepark\"\n",
       " \"globaltimesnews\"\n",
       " \"AandNoa\"\n",
       " \"Daily_Record\"\n",
       " \"unherd\"\n",
       " \"EnviroEdgeNews\"\n",
       " \"bdollabills\"\n",
       " \"MSNBC\"\n",
       " \"CTVLethbridge\"\n",
       " \"dI99xlsDGb5hokd\"\n",
       " \"EnvDefenseFund\"\n",
       " \"bpolitics\"\n",
       " \"EcologyAfricaF1\"\n",
       " \"SierraClub\"\n",
       " \"RojoRurba002\"\n",
       " \"theipaper\""
      ]
     },
     "execution_count": 58,
     "metadata": {},
     "output_type": "execute_result"
    }
   ],
   "source": [
    "out_actors[3][1:N_biggest]"
   ]
  },
  {
   "cell_type": "code",
   "execution_count": 65,
   "metadata": {},
   "outputs": [
    {
     "data": {
      "text/html": [
       "<div class=\"data-frame\"><p>4,550 rows × 3 columns</p><table class=\"data-frame\"><thead><tr><th></th><th>username</th><th>tweet_rank</th><th>tweet_count</th></tr><tr><th></th><th title=\"String\">String</th><th title=\"Int64\">Int64</th><th title=\"Int64\">Int64</th></tr></thead><tbody><tr><th>1</th><td>PaulJ996</td><td>1</td><td>76</td></tr><tr><th>2</th><td>SinPegatinaDGT</td><td>2</td><td>49</td></tr><tr><th>3</th><td>GeoffyPJohnston</td><td>3</td><td>47</td></tr><tr><th>4</th><td>JohnNews2u</td><td>4</td><td>46</td></tr><tr><th>5</th><td>APEnvironment1</td><td>5</td><td>42</td></tr><tr><th>6</th><td>KevinMall1</td><td>6</td><td>37</td></tr><tr><th>7</th><td>cookiris14</td><td>7</td><td>31</td></tr><tr><th>8</th><td>EU_Sustain</td><td>8</td><td>24</td></tr><tr><th>9</th><td>at2rty</td><td>9</td><td>24</td></tr><tr><th>10</th><td>DickMackintosh</td><td>10</td><td>24</td></tr><tr><th>11</th><td>VegasVisions</td><td>11</td><td>23</td></tr><tr><th>12</th><td>BlasphemousBan1</td><td>12</td><td>21</td></tr><tr><th>13</th><td>BatcaveSlimer</td><td>13</td><td>20</td></tr><tr><th>14</th><td>bbcmediaaction</td><td>14</td><td>20</td></tr><tr><th>15</th><td>Blue22Dave</td><td>15</td><td>20</td></tr><tr><th>16</th><td>cogwbur</td><td>16</td><td>19</td></tr><tr><th>17</th><td>GCHAlliance</td><td>17</td><td>19</td></tr><tr><th>18</th><td>politicianslyin</td><td>18</td><td>19</td></tr><tr><th>19</th><td>movarsi</td><td>19</td><td>18</td></tr><tr><th>20</th><td>MAshrafHaidari</td><td>20</td><td>18</td></tr><tr><th>21</th><td>FirehoseOfTruth</td><td>21</td><td>18</td></tr><tr><th>22</th><td>bete_n0ire</td><td>22</td><td>18</td></tr><tr><th>23</th><td>gerrjame</td><td>23</td><td>17</td></tr><tr><th>24</th><td>accuweather</td><td>24</td><td>17</td></tr><tr><th>25</th><td>66Chevelle396</td><td>25</td><td>17</td></tr><tr><th>26</th><td>cbcradio</td><td>26</td><td>17</td></tr><tr><th>27</th><td>AlessioDat</td><td>27</td><td>16</td></tr><tr><th>28</th><td>GeoffreyLean</td><td>28</td><td>16</td></tr><tr><th>29</th><td>scotent</td><td>29</td><td>16</td></tr><tr><th>30</th><td>rachcsteele</td><td>30</td><td>16</td></tr><tr><th>&vellip;</th><td>&vellip;</td><td>&vellip;</td><td>&vellip;</td></tr></tbody></table></div>"
      ],
      "text/latex": [
       "\\begin{tabular}{r|ccc}\n",
       "\t& username & tweet\\_rank & tweet\\_count\\\\\n",
       "\t\\hline\n",
       "\t& String & Int64 & Int64\\\\\n",
       "\t\\hline\n",
       "\t1 & PaulJ996 & 1 & 76 \\\\\n",
       "\t2 & SinPegatinaDGT & 2 & 49 \\\\\n",
       "\t3 & GeoffyPJohnston & 3 & 47 \\\\\n",
       "\t4 & JohnNews2u & 4 & 46 \\\\\n",
       "\t5 & APEnvironment1 & 5 & 42 \\\\\n",
       "\t6 & KevinMall1 & 6 & 37 \\\\\n",
       "\t7 & cookiris14 & 7 & 31 \\\\\n",
       "\t8 & EU\\_Sustain & 8 & 24 \\\\\n",
       "\t9 & at2rty & 9 & 24 \\\\\n",
       "\t10 & DickMackintosh & 10 & 24 \\\\\n",
       "\t11 & VegasVisions & 11 & 23 \\\\\n",
       "\t12 & BlasphemousBan1 & 12 & 21 \\\\\n",
       "\t13 & BatcaveSlimer & 13 & 20 \\\\\n",
       "\t14 & bbcmediaaction & 14 & 20 \\\\\n",
       "\t15 & Blue22Dave & 15 & 20 \\\\\n",
       "\t16 & cogwbur & 16 & 19 \\\\\n",
       "\t17 & GCHAlliance & 17 & 19 \\\\\n",
       "\t18 & politicianslyin & 18 & 19 \\\\\n",
       "\t19 & movarsi & 19 & 18 \\\\\n",
       "\t20 & MAshrafHaidari & 20 & 18 \\\\\n",
       "\t21 & FirehoseOfTruth & 21 & 18 \\\\\n",
       "\t22 & bete\\_n0ire & 22 & 18 \\\\\n",
       "\t23 & gerrjame & 23 & 17 \\\\\n",
       "\t24 & accuweather & 24 & 17 \\\\\n",
       "\t25 & 66Chevelle396 & 25 & 17 \\\\\n",
       "\t26 & cbcradio & 26 & 17 \\\\\n",
       "\t27 & AlessioDat & 27 & 16 \\\\\n",
       "\t28 & GeoffreyLean & 28 & 16 \\\\\n",
       "\t29 & scotent & 29 & 16 \\\\\n",
       "\t30 & rachcsteele & 30 & 16 \\\\\n",
       "\t$\\dots$ & $\\dots$ & $\\dots$ & $\\dots$ \\\\\n",
       "\\end{tabular}\n"
      ],
      "text/plain": [
       "\u001b[1m4550×3 DataFrame\u001b[0m\n",
       "\u001b[1m  Row \u001b[0m│\u001b[1m username        \u001b[0m\u001b[1m tweet_rank \u001b[0m\u001b[1m tweet_count \u001b[0m\n",
       "\u001b[1m      \u001b[0m│\u001b[90m String          \u001b[0m\u001b[90m Int64      \u001b[0m\u001b[90m Int64       \u001b[0m\n",
       "──────┼──────────────────────────────────────────\n",
       "    1 │ PaulJ996                  1           76\n",
       "    2 │ SinPegatinaDGT            2           49\n",
       "    3 │ GeoffyPJohnston           3           47\n",
       "    4 │ JohnNews2u                4           46\n",
       "    5 │ APEnvironment1            5           42\n",
       "    6 │ KevinMall1                6           37\n",
       "    7 │ cookiris14                7           31\n",
       "    8 │ EU_Sustain                8           24\n",
       "    9 │ at2rty                    9           24\n",
       "   10 │ DickMackintosh           10           24\n",
       "   11 │ VegasVisions             11           23\n",
       "  ⋮   │        ⋮             ⋮            ⋮\n",
       " 4541 │ PalPreyosi             4541            3\n",
       " 4542 │ jacquie_martin         4542            3\n",
       " 4543 │ surreylive             4543            3\n",
       " 4544 │ Ezeudoone              4544            3\n",
       " 4545 │ Maanda_T               4545            3\n",
       " 4546 │ GTEM                   4546            3\n",
       " 4547 │ xriskology             4547            3\n",
       " 4548 │ keagenj_               4548            3\n",
       " 4549 │ optimistleader         4549            3\n",
       " 4550 │ thee_son               4550            3\n",
       "\u001b[36m                                4529 rows omitted\u001b[0m"
      ]
     },
     "execution_count": 65,
     "metadata": {},
     "output_type": "execute_result"
    }
   ],
   "source": [
    "# ranks.tweet_rank = ordinalrank(ranks.tweet_count, rev=true)\n",
    "foo = ranks[ranks.partition .== \"During COP26\", [\"username\", \"tweet_rank\", \"tweet_count\"]]\n",
    "sort!(foo, :tweet_rank)"
   ]
  },
  {
   "cell_type": "code",
   "execution_count": 2,
   "metadata": {},
   "outputs": [],
   "source": [
    "file1 = \"/home/ubuntu/Thesis/Results/JDD_all_users/COP26-After_COP26/data.jld2\"\n",
    "file2 = \"/home/ubuntu/Thesis/Results/JDD_all_users/COP26-Before_COP26/data.jld2\"\n",
    "file3 = \"/home/ubuntu/Thesis/Results/JDD_all_users/COP26-During_COP26/data.jld2\"\n",
    "\n",
    "df = load_dataset(COP26)\n",
    "\n",
    "# Define partitions, actions and actors\n",
    "partitions = cop_26_dates\n",
    "actions = trust_score\n",
    "actors = all_users(by_partition=true, min_tweets=3)\n",
    "agents = PreProcessingAgents(partitions, actions, actors)\n",
    "\n",
    "df = preprocessing(df, agents)\n",
    "\n",
    "graph1, cascade1, _ = load_data(file1)\n",
    "graph2, cascade2, _ = load_data(file2)\n",
    "graph3, cascade3, _ = load_data(file3)\n",
    "\n",
    "graph1 = graph1[1]\n",
    "cascade1 = cascade1[1]\n",
    "graph2 = graph2[1]\n",
    "cascade2 = cascade2[1]\n",
    "graph3 = graph3[1]\n",
    "cascade3 = cascade3[1]\n",
    "\n",
    "graphs = [graph1, graph2, graph3]\n",
    "cascades = [cascade1, cascade2, cascade3]\n",
    "\n",
    "# mkpath(\"/home/ubuntu/Thesis/Results/JDD_all_users/COP26\")\n",
    "# save_data(graphs, cascades, df, \"/home/ubuntu/Thesis/Results/JDD_all_users/COP26/data.jld2\")"
   ]
  },
  {
   "cell_type": "code",
   "execution_count": null,
   "metadata": {},
   "outputs": [],
   "source": [
    "filename1 = \"/Users/cyrilvallez/Desktop/Thesis/Data/Twitter/Skripal_processed_lightweight\"\n",
    "filename2 = \"/Users/cyrilvallez/Desktop/Thesis/Data/BrandWatch/Skripal/skripal_clean_lightweight.json\"\n",
    "\n",
    "datafiles1 = [file for file in readdir(filename1, join=true) if occursin(\".json\", file)]\n",
    "\n",
    "df1 = vcat([Helpers.load_json(file) for file in datafiles1]...)\n",
    "df3 = Helpers.load_json(filename2)\n",
    "\n",
    "df1 = df1[:, Not(\"sentiment\")]\n",
    "\n",
    "sum_ = 0\n",
    "for i = 1:length(df1[:, 1])\n",
    "    if df1[1,:] in eachrow(df3)\n",
    "        sum_ += 1\n",
    "    end\n",
    "end\n",
    "sum_"
   ]
  },
  {
   "cell_type": "code",
   "execution_count": 16,
   "metadata": {},
   "outputs": [
    {
     "data": {
      "text/plain": [
       "446408-element Vector{Tuple{Any, Any, Real}}:\n",
       " (Languages.English(), Languages.LatinScript(), 1.0)\n",
       " (Languages.English(), Languages.LatinScript(), 1.0)\n",
       " (Languages.English(), Languages.LatinScript(), 1.0)\n",
       " (Languages.English(), Languages.LatinScript(), 1.0)\n",
       " (Languages.Nynorsk(), Languages.LatinScript(), 0.04716981132075473)\n",
       " (Languages.English(), Languages.LatinScript(), 1.0)\n",
       " (Languages.English(), Languages.LatinScript(), 1.0)\n",
       " (Languages.English(), Languages.LatinScript(), 1.0)\n",
       " (Languages.English(), Languages.LatinScript(), 1.0)\n",
       " (Languages.English(), Languages.LatinScript(), 1.0)\n",
       " (Languages.English(), Languages.LatinScript(), 1.0)\n",
       " (Languages.English(), Languages.LatinScript(), 1.0)\n",
       " (Languages.Nynorsk(), Languages.LatinScript(), 0.03861970911225093)\n",
       " ⋮\n",
       " (Languages.English(), Languages.LatinScript(), 1.0)\n",
       " (Languages.English(), Languages.LatinScript(), 1.0)\n",
       " (Languages.English(), Languages.LatinScript(), 1.0)\n",
       " (Languages.English(), Languages.LatinScript(), 1.0)\n",
       " (Languages.English(), Languages.LatinScript(), 1.0)\n",
       " (Languages.English(), Languages.LatinScript(), 0.7300851055679343)\n",
       " (Languages.English(), Languages.LatinScript(), 0.9683497389050161)\n",
       " (Languages.English(), Languages.LatinScript(), 1.0)\n",
       " (Languages.English(), Languages.LatinScript(), 0.7659225885725987)\n",
       " (Languages.English(), Languages.LatinScript(), 1.0)\n",
       " (Languages.English(), Languages.LatinScript(), 1.0)\n",
       " (Languages.English(), Languages.LatinScript(), 1.0)"
      ]
     },
     "execution_count": 16,
     "metadata": {},
     "output_type": "execute_result"
    }
   ],
   "source": [
    "using Languages\n",
    "import CSV\n",
    "using DataFrames\n",
    "\n",
    "detector = LanguageDetector()\n",
    "\n",
    "df2 = Helpers.load_json(\"/Users/cyrilvallez/Desktop/Thesis/Data/BrandWatch/Skripal/skripal_clean.json\")\n",
    "news = CSV.read(\"/Users/cyrilvallez/Desktop/Thesis/Data/newsguard_full_table_clean.csv\", DataFrame)\n",
    "\n",
    "isin = (x,y) -> ismissing(x) ? missing : any([any(elem .== y) for elem in x])\n",
    "mask = isin.(df2.domain, Ref(news.domain))\n",
    "df2 = df2[mask, :]\n",
    "\n",
    "df2.lang = detector.(df2.text)"
   ]
  },
  {
   "cell_type": "code",
   "execution_count": 1,
   "metadata": {},
   "outputs": [],
   "source": [
    "using StatsBase\n",
    "include(\"../Engine/Engine.jl\")\n",
    "using .Engine\n",
    "import PyPlot as plt\n",
    "import Seaborn as sns"
   ]
  },
  {
   "cell_type": "code",
   "execution_count": null,
   "metadata": {},
   "outputs": [],
   "source": [
    "df = load_dataset(Skripal)\n",
    "df = skripal_dates(df);\n",
    "df = trust_score(df);\n",
    "f, _ = IP_scores(by_partition=false)\n",
    "df = f(df);\n",
    "\n",
    "x = df.\"username\"\n",
    "indices = unique(i -> x[i], 1:length(x))\n",
    "# Get unique usernames and corresponding follower_count\n",
    "users = x[indices]\n",
    "I = df.I_score[indices]\n",
    "P = df.P_score[indices]\n",
    "\n",
    "sorting = sortperm(I, rev=true)\n",
    "users = users[sorting]\n",
    "P = P[sorting]\n",
    "I = I[sorting]\n",
    "\n",
    "print(users[1:30])"
   ]
  },
  {
   "cell_type": "code",
   "execution_count": 3,
   "metadata": {},
   "outputs": [
    {
     "name": "stdout",
     "output_type": "stream",
     "text": [
      "[\"CraigMurrayOrg\", \"evolvepolitics\", \"DerbyChrisW\", \"NeilClark66\", \"mfa_russia\", \"Billbrowder\", \"ShoebridgeC\", \"TomLondon6\", \"skwawkbox\", \"kylegriffin1\", \"dgaytandzhieva\", \"MaxBlumenthal\", \"caitoz\", \"haynesdeborah\", \"Harryslaststand\", \"VanessaBeeley\", \"PiersRobinson1\", \"PrisonPlanet\", \"NinaByzantina\", \"MarkSleboda1\", \"MoonofA\", \"FromSteveHowell\", \"georgegalloway\", \"NAJ562\", \"EmbassyofRussia\", \"BBCBreaking\", \"medialens\", \"OffGuardian0\", \"20committee\", \"MarkAmesExiled\"]"
     ]
    }
   ],
   "source": [
    "filename = \"/Users/cyrilvallez/Desktop/Thesis/Data/Twitter/Skripal_processed_lightweight\"\n",
    "files = [file for file in readdir(filename, join=true)]\n",
    "frames = [Helpers.load_json(file) for file in files]\n",
    "df = vcat(frames...)\n",
    "\n",
    "\n",
    "df = skripal_dates(df);\n",
    "df = trust_score(df);\n",
    "f, _ = IP_scores(by_partition=false)\n",
    "df = f(df);\n",
    "\n",
    "x = df.\"username\"\n",
    "indices = unique(i -> x[i], 1:length(x))\n",
    "# Get unique usernames and corresponding follower_count\n",
    "users = x[indices]\n",
    "I = df.I_score[indices]\n",
    "P = df.P_score[indices]\n",
    "\n",
    "sorting = sortperm(I, rev=true)\n",
    "users = users[sorting]\n",
    "P = P[sorting]\n",
    "I = I[sorting]\n",
    "\n",
    "print(users[1:30])"
   ]
  },
  {
   "cell_type": "code",
   "execution_count": 5,
   "metadata": {},
   "outputs": [
    {
     "name": "stdout",
     "output_type": "stream",
     "text": [
      "[\"CraigMurrayOrg\", \"evolvepolitics\", \"DerbyChrisW\", \"NeilClark66\", \"mfa_russia\", \"Billbrowder\", \"ShoebridgeC\", \"TomLondon6\", \"skwawkbox\", \"kylegriffin1\", \"dgaytandzhieva\", \"MaxBlumenthal\", \"caitoz\", \"haynesdeborah\", \"Harryslaststand\", \"VanessaBeeley\", \"PiersRobinson1\", \"PrisonPlanet\", \"NinaByzantina\", \"MarkSleboda1\", \"MoonofA\", \"FromSteveHowell\", \"georgegalloway\", \"NAJ562\", \"EmbassyofRussia\", \"BBCBreaking\", \"medialens\", \"OffGuardian0\", \"20committee\", \"MarkAmesExiled\", \"tnewtondunn\", \"Russ_Warrior\", \"EL4JC\", \"RT_com\", \"MarkGaleotti\", \"21WIRE\", \"RTUKnews\", \"MollyMcKew\", \"RonPaulInstitut\", \"DrDenaGrayson\", \"lukeharding1968\", \"juliaioffe\", \"_irishrepublic\", \"ProfessorsBlogg\", \"RussiaInsider\", \"zerohedge\", \"WarmongerHodges\", \"OliverBullough\", \"UKSkeptic\", \"JohnClarke1960\"]"
     ]
    }
   ],
   "source": [
    "print(users[1:50])"
   ]
  },
  {
   "cell_type": "code",
   "execution_count": 11,
   "metadata": {},
   "outputs": [
    {
     "data": {
      "text/html": [
       "<div class=\"data-frame\"><p>3 rows × 2 columns</p><table class=\"data-frame\"><thead><tr><th></th><th>partition</th><th>count</th></tr><tr><th></th><th title=\"String\">String</th><th title=\"Int64\">Int64</th></tr></thead><tbody><tr><th>1</th><td>Before COP26</td><td>952</td></tr><tr><th>2</th><td>During COP26</td><td>1014</td></tr><tr><th>3</th><td>After COP26</td><td>441</td></tr></tbody></table></div>"
      ],
      "text/latex": [
       "\\begin{tabular}{r|cc}\n",
       "\t& partition & count\\\\\n",
       "\t\\hline\n",
       "\t& String & Int64\\\\\n",
       "\t\\hline\n",
       "\t1 & Before COP26 & 952 \\\\\n",
       "\t2 & During COP26 & 1014 \\\\\n",
       "\t3 & After COP26 & 441 \\\\\n",
       "\\end{tabular}\n"
      ],
      "text/plain": [
       "\u001b[1m3×2 DataFrame\u001b[0m\n",
       "\u001b[1m Row \u001b[0m│\u001b[1m partition    \u001b[0m\u001b[1m count \u001b[0m\n",
       "\u001b[1m     \u001b[0m│\u001b[90m String       \u001b[0m\u001b[90m Int64 \u001b[0m\n",
       "─────┼─────────────────────\n",
       "   1 │ Before COP26    952\n",
       "   2 │ During COP26   1014\n",
       "   3 │ After COP26     441"
      ]
     },
     "execution_count": 11,
     "metadata": {},
     "output_type": "execute_result"
    }
   ],
   "source": [
    "df2 = load_dataset(COP26)\n",
    "df2 = cop_26_dates(df2)\n",
    "f, _ = IP_scores(actor_number=\"all_positive\", aggregate_size=100000000)\n",
    "df2 = f(df2)\n",
    "\n",
    "combine(groupby(df2, \"partition\"), \"actor\" => (x->length(unique(x))) => \"count\")"
   ]
  },
  {
   "cell_type": "code",
   "execution_count": 23,
   "metadata": {},
   "outputs": [
    {
     "data": {
      "text/html": [
       "<div class=\"data-frame\"><p>3 rows × 2 columns</p><table class=\"data-frame\"><thead><tr><th></th><th>partition</th><th>count</th></tr><tr><th></th><th title=\"String\">String</th><th title=\"Int64\">Int64</th></tr></thead><tbody><tr><th>1</th><td>Before COP26</td><td>4841</td></tr><tr><th>2</th><td>During COP26</td><td>5508</td></tr><tr><th>3</th><td>After COP26</td><td>2368</td></tr></tbody></table></div>"
      ],
      "text/latex": [
       "\\begin{tabular}{r|cc}\n",
       "\t& partition & count\\\\\n",
       "\t\\hline\n",
       "\t& String & Int64\\\\\n",
       "\t\\hline\n",
       "\t1 & Before COP26 & 4841 \\\\\n",
       "\t2 & During COP26 & 5508 \\\\\n",
       "\t3 & After COP26 & 2368 \\\\\n",
       "\\end{tabular}\n"
      ],
      "text/plain": [
       "\u001b[1m3×2 DataFrame\u001b[0m\n",
       "\u001b[1m Row \u001b[0m│\u001b[1m partition    \u001b[0m\u001b[1m count \u001b[0m\n",
       "\u001b[1m     \u001b[0m│\u001b[90m String       \u001b[0m\u001b[90m Int64 \u001b[0m\n",
       "─────┼─────────────────────\n",
       "   1 │ Before COP26   4841\n",
       "   2 │ During COP26   5508\n",
       "   3 │ After COP26    2368"
      ]
     },
     "execution_count": 23,
     "metadata": {},
     "output_type": "execute_result"
    }
   ],
   "source": [
    "df2 = load_dataset(COP26)\n",
    "df2 = cop_26_dates(df2)\n",
    "f, _ = IP_scores(actor_number=\"all\", aggregate_size=100000000)\n",
    "df2 = f(df2)\n",
    "\n",
    "combine(groupby(df2, \"partition\"), \"actor\" => (x->length(unique(x))) => \"count\")"
   ]
  },
  {
   "cell_type": "code",
   "execution_count": 27,
   "metadata": {},
   "outputs": [
    {
     "data": {
      "text/plain": [
       "5965-element Vector{Float64}:\n",
       " 0.056722024501845054\n",
       " 0.03627213175162406\n",
       " 0.035667320634799576\n",
       " 0.02815227286901304\n",
       " 0.022586439134173044\n",
       " 0.02228551342037563\n",
       " 0.020304109529197343\n",
       " 0.019858284452969905\n",
       " 0.01701881819655281\n",
       " 0.013578912814905999\n",
       " 0.013517665731812132\n",
       " 0.012026848460675737\n",
       " 0.011599367373026498\n",
       " ⋮\n",
       " 0.0\n",
       " 0.0\n",
       " 0.0\n",
       " 0.0\n",
       " 0.0\n",
       " 0.0\n",
       " 0.0\n",
       " 0.0\n",
       " 0.0\n",
       " 0.0\n",
       " 0.0\n",
       " 0.0"
      ]
     },
     "execution_count": 27,
     "metadata": {},
     "output_type": "execute_result"
    }
   ],
   "source": [
    "x = df.\"username\"\n",
    "indices = unique(i -> x[i], 1:length(x))\n",
    "# Get unique usernames and corresponding follower_count\n",
    "users = x[indices]\n",
    "I = df.I_score[indices]\n",
    "P = df.P_score[indices]\n",
    "\n",
    "sorting = sortperm(I, rev=true)\n",
    "users = users[sorting]\n",
    "P = P[sorting]\n",
    "I = I[sorting]"
   ]
  },
  {
   "cell_type": "code",
   "execution_count": null,
   "metadata": {},
   "outputs": [],
   "source": [
    "x = rand(200)\n",
    "y = rand(200)\n",
    "\n",
    "\n"
   ]
  },
  {
   "cell_type": "code",
   "execution_count": 25,
   "metadata": {},
   "outputs": [
    {
     "data": {
      "text/plain": [
       "30388"
      ]
     },
     "execution_count": 25,
     "metadata": {},
     "output_type": "execute_result"
    }
   ],
   "source": [
    "sum(df2.I_score .> 0)"
   ]
  },
  {
   "cell_type": "code",
   "execution_count": 20,
   "metadata": {},
   "outputs": [
    {
     "data": {
      "image/png": "[encoded data removed]",
      "text/plain": [
       "PyPlot.Figure(PyObject <Figure size 640x480 with 1 Axes>)"
      ]
     },
     "metadata": {},
     "output_type": "display_data"
    },
    {
     "data": {
      "text/plain": [
       "([13743.0, 16619.0, 15294.0, 17552.0, 19598.0, 12760.0, 13952.0, 14055.0, 19309.0, 21450.0  …  9688.0, 11761.0, 11502.0, 9856.0, 6889.0, 6576.0, 7479.0, 6910.0, 7665.0, 9291.0], [18918.0, 18918.928570601853, 18919.857141203705, 18920.785711805554, 18921.714282407407, 18922.64285300926, 18923.571423611113, 18924.49999421296, 18925.428564814814, 18926.357135416667  …  18948.64282986111, 18949.571400462963, 18950.499971064815, 18951.428541666664, 18952.357112268517, 18953.28568287037, 18954.214253472222, 18955.14282407407, 18956.071394675924, 18956.999965277777], (PyObject <matplotlib.patches.Rectangle object at 0x36919ceb0>, PyObject <matplotlib.patches.Rectangle object at 0x36919d030>, PyObject <matplotlib.patches.Rectangle object at 0x36919d3f0>, PyObject <matplotlib.patches.Rectangle object at 0x36919d630>, PyObject <matplotlib.patches.Rectangle object at 0x36919d810>, PyObject <matplotlib.patches.Rectangle object at 0x36919d9f0>, PyObject <matplotlib.patches.Rectangle object at 0x36919dbd0>, PyObject <matplotlib.patches.Rectangle object at 0x36919ddb0>, PyObject <matplotlib.patches.Rectangle object at 0x36919df90>, PyObject <matplotlib.patches.Rectangle object at 0x36919e170>, PyObject <matplotlib.patches.Rectangle object at 0x36919e350>, PyObject <matplotlib.patches.Rectangle object at 0x36919e530>, PyObject <matplotlib.patches.Rectangle object at 0x36919e710>, PyObject <matplotlib.patches.Rectangle object at 0x36919e8f0>, PyObject <matplotlib.patches.Rectangle object at 0x36919ead0>, PyObject <matplotlib.patches.Rectangle object at 0x36919ecb0>, PyObject <matplotlib.patches.Rectangle object at 0x36919ee90>, PyObject <matplotlib.patches.Rectangle object at 0x36919f070>, PyObject <matplotlib.patches.Rectangle object at 0x36919f250>, PyObject <matplotlib.patches.Rectangle object at 0x36919f430>, PyObject <matplotlib.patches.Rectangle object at 0x36919f610>, PyObject <matplotlib.patches.Rectangle object at 0x36919f7f0>, PyObject <matplotlib.patches.Rectangle object at 0x36919f9d0>, PyObject <matplotlib.patches.Rectangle object at 0x36919fbb0>, PyObject <matplotlib.patches.Rectangle object at 0x36919fd90>, PyObject <matplotlib.patches.Rectangle object at 0x36919ff70>, PyObject <matplotlib.patches.Rectangle object at 0x3691dc190>, PyObject <matplotlib.patches.Rectangle object at 0x3691dc370>, PyObject <matplotlib.patches.Rectangle object at 0x3691dc550>, PyObject <matplotlib.patches.Rectangle object at 0x3691dc730>, PyObject <matplotlib.patches.Rectangle object at 0x3691dc910>, PyObject <matplotlib.patches.Rectangle object at 0x3691dcaf0>, PyObject <matplotlib.patches.Rectangle object at 0x3691dccd0>, PyObject <matplotlib.patches.Rectangle object at 0x3691dceb0>, PyObject <matplotlib.patches.Rectangle object at 0x3691dd090>, PyObject <matplotlib.patches.Rectangle object at 0x3691dd270>, PyObject <matplotlib.patches.Rectangle object at 0x3691dd450>, PyObject <matplotlib.patches.Rectangle object at 0x3691dd630>, PyObject <matplotlib.patches.Rectangle object at 0x3691dd810>, PyObject <matplotlib.patches.Rectangle object at 0x3691dd9f0>, PyObject <matplotlib.patches.Rectangle object at 0x3691ddbd0>, PyObject <matplotlib.patches.Rectangle object at 0x3691dddb0>))"
      ]
     },
     "execution_count": 20,
     "metadata": {},
     "output_type": "execute_result"
    }
   ],
   "source": [
    "import PyPlot as plt\n",
    "\n",
    "plt.hist(df2.created_at, bins=42)"
   ]
  },
  {
   "cell_type": "markdown",
   "metadata": {},
   "source": [
    "df = co"
   ]
  },
  {
   "cell_type": "code",
   "execution_count": 9,
   "metadata": {},
   "outputs": [
    {
     "data": {
      "image/png": "[encoded data removed]",
      "text/plain": [
       "PyPlot.Figure(PyObject <Figure size 640x480 with 1 Axes>)"
      ]
     },
     "metadata": {},
     "output_type": "display_data"
    },
    {
     "data": {
      "image/png": "[encoded data removed]",
      "text/plain": [
       "PyPlot.Figure(PyObject <Figure size 640x480 with 1 Axes>)"
      ]
     },
     "execution_count": 9,
     "metadata": {},
     "output_type": "execute_result"
    }
   ],
   "source": [
    "plot_action_frequency(df)"
   ]
  },
  {
   "cell_type": "code",
   "execution_count": 21,
   "metadata": {},
   "outputs": [],
   "source": [
    "x = rand(0:1, 200);"
   ]
  },
  {
   "cell_type": "code",
   "execution_count": 22,
   "metadata": {},
   "outputs": [],
   "source": [
    "using CausalityTools\n",
    "import Random\n",
    "Random.seed!(12)\n",
    "\n",
    "surros = []\n",
    "generator = surrogenerator(x, RandomShuffle())\n",
    "for i = 1:100\n",
    "    push!(surros, copy(generator()))\n",
    "end\n",
    "\n",
    "generator = surrogenerator(x, RandomShuffle())\n",
    "for i = 1:100\n",
    "    push!(surros, copy(generator()))\n",
    "end"
   ]
  },
  {
   "cell_type": "code",
   "execution_count": 26,
   "metadata": {},
   "outputs": [
    {
     "data": {
      "text/plain": [
       "true"
      ]
     },
     "execution_count": 26,
     "metadata": {},
     "output_type": "execute_result"
    }
   ],
   "source": [
    "using Dates\n",
    "\n",
    "DateTime(2018, 04, 08, 01, 00, 00) > Date(2018, 04, 8)"
   ]
  },
  {
   "cell_type": "code",
   "execution_count": 23,
   "metadata": {},
   "outputs": [],
   "source": [
    "Random.seed!(12)\n",
    "\n",
    "surros2 = []\n",
    "generator = surrogenerator(x, RandomShuffle())\n",
    "for i = 1:100\n",
    "    push!(surros2, copy(generator()))\n",
    "end\n",
    "\n",
    "generator = surrogenerator(x, RandomShuffle())\n",
    "for i = 1:100\n",
    "    push!(surros2, copy(generator()))\n",
    "end"
   ]
  },
  {
   "cell_type": "code",
   "execution_count": 10,
   "metadata": {},
   "outputs": [],
   "source": [
    "# f1, _ = IP_scores(by_partition=true, actor_number=\"all\")\n",
    "f2, _ = all_users(by_partition=true)\n",
    "\n",
    "# df1 = f1(df)\n",
    "df2 = f2(df);"
   ]
  },
  {
   "cell_type": "code",
   "execution_count": 11,
   "metadata": {},
   "outputs": [
    {
     "data": {
      "text/plain": [
       "1921-element Vector{String}:\n",
       " \"ECOWARRIORSS\"\n",
       " \"SierraClub\"\n",
       " \"MotherJones\"\n",
       " \"MythicVenom22\"\n",
       " \"C_Smart_Climate\"\n",
       " \"TheRealNews\"\n",
       " \"marinccl\"\n",
       " \"EarthAccounting\"\n",
       " \"friends_earth\"\n",
       " \"heather_reams\"\n",
       " \"Giacomo_Cortes\"\n",
       " \"GeogResearch\"\n",
       " \"ClimateHuman\"\n",
       " ⋮\n",
       " \"TedGrunewald\"\n",
       " \"UncleChopperRIP\"\n",
       " \"CarbonCreditRes\"\n",
       " \"DavidVio2\"\n",
       " \"clirater\"\n",
       " \"jtparsons8\"\n",
       " \"jasonrantz\"\n",
       " \"healthierphilly\"\n",
       " \"McbainePsy\"\n",
       " \"BlondieClimate\"\n",
       " \"mrfunnysmart\"\n",
       " \"IrishSchSusty\""
      ]
     },
     "execution_count": 11,
     "metadata": {},
     "output_type": "execute_result"
    }
   ],
   "source": [
    "unique(df2.username)"
   ]
  },
  {
   "cell_type": "code",
   "execution_count": 8,
   "metadata": {},
   "outputs": [
    {
     "data": {
      "text/plain": [
       "true"
      ]
     },
     "execution_count": 8,
     "metadata": {},
     "output_type": "execute_result"
    }
   ],
   "source": [
    "df1[:, Not([\"I_score\", \"P_score\", \"retweet_from\"])] == df2[:, Not([\"tweet_count\", \"retweet_from\"])]"
   ]
  },
  {
   "cell_type": "code",
   "execution_count": 7,
   "metadata": {},
   "outputs": [
    {
     "data": {
      "text/plain": [
       "11-element Vector{String}:\n",
       " \"partition\"\n",
       " \"created_at\"\n",
       " \"effective_category\"\n",
       " \"domain\"\n",
       " \"sentiment\"\n",
       " \"username\"\n",
       " \"follower_count\"\n",
       " \"retweet_from\"\n",
       " \"I_score\"\n",
       " \"P_score\"\n",
       " \"actor\""
      ]
     },
     "execution_count": 7,
     "metadata": {},
     "output_type": "execute_result"
    }
   ],
   "source": [
    "names(df1)"
   ]
  },
  {
   "cell_type": "code",
   "execution_count": 3,
   "metadata": {},
   "outputs": [],
   "source": [
    "f1, _ = IP_scores(by_partition=true, min_tweets=3)\n",
    "df1 = f1(df)\n",
    "df1 = df1[:, Not(\"retweet_from\")]\n",
    "df1 = select(df1, sort(names(df1)));"
   ]
  },
  {
   "cell_type": "code",
   "execution_count": 5,
   "metadata": {},
   "outputs": [
    {
     "data": {
      "text/html": [
       "<div class=\"data-frame\"><p>3 rows × 2 columns</p><table class=\"data-frame\"><thead><tr><th></th><th>partition</th><th>count</th></tr><tr><th></th><th title=\"String\">String</th><th title=\"Int64\">Int64</th></tr></thead><tbody><tr><th>1</th><td>Before COP26</td><td>4841</td></tr><tr><th>2</th><td>During COP26</td><td>5508</td></tr><tr><th>3</th><td>After COP26</td><td>2368</td></tr></tbody></table></div>"
      ],
      "text/latex": [
       "\\begin{tabular}{r|cc}\n",
       "\t& partition & count\\\\\n",
       "\t\\hline\n",
       "\t& String & Int64\\\\\n",
       "\t\\hline\n",
       "\t1 & Before COP26 & 4841 \\\\\n",
       "\t2 & During COP26 & 5508 \\\\\n",
       "\t3 & After COP26 & 2368 \\\\\n",
       "\\end{tabular}\n"
      ],
      "text/plain": [
       "\u001b[1m3×2 DataFrame\u001b[0m\n",
       "\u001b[1m Row \u001b[0m│\u001b[1m partition    \u001b[0m\u001b[1m count \u001b[0m\n",
       "\u001b[1m     \u001b[0m│\u001b[90m String       \u001b[0m\u001b[90m Int64 \u001b[0m\n",
       "─────┼─────────────────────\n",
       "   1 │ Before COP26   4841\n",
       "   2 │ During COP26   5508\n",
       "   3 │ After COP26    2368"
      ]
     },
     "execution_count": 5,
     "metadata": {},
     "output_type": "execute_result"
    }
   ],
   "source": [
    "combine(groupby(df1, \"partition\"), \"username\" => (x->length(unique(x))) => \"count\")"
   ]
  },
  {
   "cell_type": "code",
   "execution_count": 4,
   "metadata": {},
   "outputs": [],
   "source": [
    "f2, _ = IP_scores(by_partition=false, min_tweets=3)\n",
    "\n",
    "dfs = []\n",
    "for partition in unique(df.partition)\n",
    "    push!(dfs, f2(df[df.partition .== partition, :]))\n",
    "end\n",
    "df2 = vcat(dfs...)[:, Not(\"retweet_from\")]\n",
    "df2 = select(df2, sort(names(df2)));"
   ]
  },
  {
   "cell_type": "code",
   "execution_count": 5,
   "metadata": {},
   "outputs": [
    {
     "data": {
      "text/plain": [
       "false"
      ]
     },
     "execution_count": 5,
     "metadata": {},
     "output_type": "execute_result"
    }
   ],
   "source": [
    "df1 == df2"
   ]
  },
  {
   "cell_type": "code",
   "execution_count": null,
   "metadata": {},
   "outputs": [],
   "source": [
    "using BenchmarkTools\n",
    "using CausalityTools\n",
    "\n",
    "igg = InfluenceGraphGenerator(Engine.JointDistanceDistribution, surrogate=nothing)\n",
    "\n",
    "f = (x,y) -> pvalue(jdd(OneSampleTTest, x, y, B=10, D=5, τ=1, μ0=0.0), tail=:right) < 0.001 ? 1 : 0\n",
    "f2 = (x,y) -> igg.causal_function(x,y)\n",
    "\n",
    "x = rand(600)\n",
    "y = rand(600)\n",
    "\n",
    "@btime f2(x,y)"
   ]
  },
  {
   "cell_type": "code",
   "execution_count": null,
   "metadata": {},
   "outputs": [],
   "source": [
    "regex = r\"^AGG[0-9]+:\"\n",
    "a = \"AGG1678934: joeoepzocnjocz    dveonoze^12\"\n",
    "if occursin(regex, a)\n",
    "    print(\"cool\")\n",
    "else\n",
    "    print(\"prout\")\n",
    "end"
   ]
  },
  {
   "cell_type": "code",
   "execution_count": null,
   "metadata": {},
   "outputs": [],
   "source": [
    "df1 = transform(groupby(df1, \"username\"), \"effective_category\" => (x -> sum(x .== \"tweet\")) => \"tweet_count\")\n",
    "df2 = transform(groupby(df2, \"username\"), \"effective_category\" => (x -> sum(x .== \"tweet\")) => \"tweet_count\")\n",
    "df3 = transform(groupby(df3, \"username\"), \"effective_category\" => (x -> sum(x .== \"tweet\")) => \"tweet_count\")"
   ]
  },
  {
   "cell_type": "code",
   "execution_count": null,
   "metadata": {},
   "outputs": [],
   "source": [
    "df1 = df1[df1.tweet_count .>= 3, :]\n",
    "df2 = df2[df2.tweet_count .>= 3, :]\n",
    "df3 = df3[df3.tweet_count .>= 3, :]"
   ]
  },
  {
   "cell_type": "code",
   "execution_count": null,
   "metadata": {},
   "outputs": [],
   "source": [
    "length(unique(df2.username))"
   ]
  },
  {
   "cell_type": "code",
   "execution_count": null,
   "metadata": {},
   "outputs": [],
   "source": [
    "plot_action_frequency(df2)"
   ]
  },
  {
   "cell_type": "code",
   "execution_count": null,
   "metadata": {},
   "outputs": [],
   "source": [
    "length(unique(df2.username))"
   ]
  },
  {
   "cell_type": "code",
   "execution_count": null,
   "metadata": {},
   "outputs": [],
   "source": [
    "tweet_count = combine(groupby(tweeters, \"username\"), \"created_at\" => length => \"count\")\n",
    "tweet_count = tweet_count[tweet_count.count .>= 3, :]\n",
    "nodes = tweet_count.username"
   ]
  },
  {
   "cell_type": "code",
   "execution_count": null,
   "metadata": {},
   "outputs": [],
   "source": [
    "\"GretaThunberg\" in nodes"
   ]
  },
  {
   "cell_type": "code",
   "execution_count": null,
   "metadata": {},
   "outputs": [],
   "source": [
    "using Dates\n",
    "\n",
    "df = load_dataset(COP26)\n",
    "\n",
    "df = df[.~ismissing.(df.\"domain\"), :]\n",
    "if eltype(df.\"created_at\") == String\n",
    "    to_datetime = x -> DateTime(split(x, '.')[1], \"yyyy-mm-ddTHH:MM:SS\")\n",
    "    df.\"created_at\" = to_datetime.(df.\"created_at\")\n",
    "end\n",
    "\n",
    "df = PreProcessing.cop_26_dates(df)\n",
    "df = PreProcessing.trust_score(df)\n",
    "df = transform(groupby(df, \"username\"), \"created_at\" => length => \"count\")\n",
    "\n",
    "tweeters = df[df.effective_category .== \"tweet\", :]\n",
    "retweeters = df[df.effective_category .== \"retweet\", :]\n",
    "\n",
    "bad_df = df[df.action .== \"U\", :]\n",
    "good_df = df[df.action .== \"T\", :]\n",
    "\n",
    "weights, u, v, nodes = PreProcessing.IP_graph(df, min_tweets=3)\n",
    "\n",
    "I, P, residuals = PreProcessing.IP_scores(u, v)\n",
    "\n",
    "# Sort in the order of most influence\n",
    "sorting = sortperm(I, rev=true)\n",
    "nodes = nodes[sorting]\n",
    "I = I[sorting]\n",
    "P = P[sorting]\n",
    "\n",
    "# Extract dataframes of 500 most influentials according to I score\n",
    "isin = (x,y) -> x in y\n",
    "influentials = tweeters[isin.(tweeters.username, Ref(nodes[1:500])), :]\n",
    "foo = combine(groupby(influentials, \"username\"), \"action\" => (x -> sum(x .== \"U\")) => \"U_count\")\n",
    "\n",
    "bad_users = foo.username[foo.U_count .> 0]\n",
    "bad_users_rank = [findall(user .== nodes) for user in bad_users];"
   ]
  },
  {
   "cell_type": "code",
   "execution_count": null,
   "metadata": {},
   "outputs": [],
   "source": [
    "nodes_bad[1:20]"
   ]
  },
  {
   "cell_type": "code",
   "execution_count": null,
   "metadata": {},
   "outputs": [],
   "source": [
    "# I_normal = I\n",
    "# P_normal = P\n",
    "# nodes_normal = nodes\n",
    "\n",
    "test_normal = nodes_normal[I_normal .> 0];"
   ]
  },
  {
   "cell_type": "code",
   "execution_count": null,
   "metadata": {},
   "outputs": [],
   "source": [
    "# I_bad = I\n",
    "# P_bad = P\n",
    "# nodes_bad = nodes\n",
    "\n",
    "test_bad = nodes_bad[I_bad .> 0];"
   ]
  },
  {
   "cell_type": "code",
   "execution_count": null,
   "metadata": {},
   "outputs": [],
   "source": [
    "a = [[1, 2], [3, 4]]"
   ]
  },
  {
   "cell_type": "code",
   "execution_count": null,
   "metadata": {},
   "outputs": [],
   "source": [
    "foo = @view a[1]"
   ]
  },
  {
   "cell_type": "code",
   "execution_count": null,
   "metadata": {},
   "outputs": [],
   "source": [
    "foo2 = a[2]"
   ]
  },
  {
   "cell_type": "code",
   "execution_count": null,
   "metadata": {},
   "outputs": [],
   "source": [
    "foo[1]"
   ]
  },
  {
   "cell_type": "code",
   "execution_count": null,
   "metadata": {},
   "outputs": [],
   "source": [
    "a[1][1] = 2\n",
    "a"
   ]
  },
  {
   "cell_type": "code",
   "execution_count": null,
   "metadata": {},
   "outputs": [],
   "source": [
    "isin = (x,y) -> x in y\n",
    "# sum(isin.(nodes_bad[1:500], Ref(nodes_normal[1:500])))\n",
    "\n",
    "sum(isin.(test_bad, Ref(test_normal))) "
   ]
  },
  {
   "cell_type": "code",
   "execution_count": null,
   "metadata": {},
   "outputs": [],
   "source": [
    "sum(I_normal .> 0)"
   ]
  },
  {
   "cell_type": "code",
   "execution_count": null,
   "metadata": {},
   "outputs": [],
   "source": [
    "(12200 - 500) / 100"
   ]
  },
  {
   "cell_type": "code",
   "execution_count": null,
   "metadata": {},
   "outputs": [],
   "source": [
    "sorting = sortperm(P, rev=true)\n",
    "nodes = nodes[sorting]\n",
    "I = I[sorting]\n",
    "P = P[sorting]"
   ]
  },
  {
   "cell_type": "code",
   "execution_count": null,
   "metadata": {},
   "outputs": [],
   "source": [
    "nodes"
   ]
  },
  {
   "cell_type": "code",
   "execution_count": null,
   "metadata": {},
   "outputs": [],
   "source": [
    "I0 = I .== 0\n",
    "P0 = P .== 0\n",
    "\n",
    "I1 = I .!= 0\n",
    "P1 = P .!= 0;\n",
    "\n",
    "# sort(I0) == sort(P1)"
   ]
  },
  {
   "cell_type": "code",
   "execution_count": null,
   "metadata": {},
   "outputs": [],
   "source": [
    "sum(I1 .&& P0)"
   ]
  },
  {
   "cell_type": "code",
   "execution_count": null,
   "metadata": {},
   "outputs": [],
   "source": [
    "sum(I1 .|| P1) / length(I0)"
   ]
  },
  {
   "cell_type": "code",
   "execution_count": null,
   "metadata": {},
   "outputs": [],
   "source": [
    "I"
   ]
  },
  {
   "cell_type": "code",
   "execution_count": null,
   "metadata": {},
   "outputs": [],
   "source": [
    "nodes"
   ]
  },
  {
   "cell_type": "code",
   "execution_count": null,
   "metadata": {},
   "outputs": [],
   "source": [
    "test = tweeters[tweeters.action .== \"U\", :]\n",
    "test = transform(groupby(test, \"username\"), \"created_at\" => length => \"Ucount\")\n",
    "\n",
    "length(unique(test[test.Ucount .>= 2, \"username\"]))"
   ]
  },
  {
   "cell_type": "code",
   "execution_count": null,
   "metadata": {},
   "outputs": [],
   "source": [
    "nodes[123]"
   ]
  },
  {
   "cell_type": "code",
   "execution_count": null,
   "metadata": {},
   "outputs": [],
   "source": [
    "length(residuals)"
   ]
  },
  {
   "cell_type": "code",
   "execution_count": null,
   "metadata": {},
   "outputs": [],
   "source": [
    "res_ = residuals\n",
    "plt.figure()\n",
    "plt.plot(1:length(res_), res_)\n",
    "plt.yscale(\"log\")\n"
   ]
  },
  {
   "cell_type": "code",
   "execution_count": null,
   "metadata": {},
   "outputs": [],
   "source": [
    "initial_actors = unique(test[ismissing.(test.rt_from), \"username\"])\n",
    "counter = []\n",
    "\n",
    "rts = test[.!ismissing.(test.rt_from), :]\n",
    "# mapping = countmap(rts)\n",
    "# transform(groupby(df, \"username\"), \"created_at\" => length => \"tweet_count\")\n",
    "\n",
    "for (i, a) in enumerate(initial_actors)\n",
    "    indices = findall(rts.rt_from .== a)\n",
    "    push!(counter, rts.username[indices])\n",
    "    # counter[i] = sum(rts.rt_from .== a)\n",
    "end"
   ]
  },
  {
   "cell_type": "code",
   "execution_count": null,
   "metadata": {},
   "outputs": [],
   "source": [
    "N = [length(i) for i in counter]\n",
    "sorting = sortperm(N, rev=true)\n",
    "N = N[sorting]\n",
    "initial_actors = initial_actors[sorting]\n",
    "counter = counter[sorting]"
   ]
  },
  {
   "cell_type": "code",
   "execution_count": null,
   "metadata": {},
   "outputs": [],
   "source": [
    "counter[1]"
   ]
  },
  {
   "cell_type": "code",
   "execution_count": null,
   "metadata": {},
   "outputs": [],
   "source": [
    "initial_actors[1:30]"
   ]
  },
  {
   "cell_type": "code",
   "execution_count": null,
   "metadata": {},
   "outputs": [],
   "source": [
    "initial_actors = unique(test[ismissing.(test.rt_from), \"username\"]);"
   ]
  },
  {
   "cell_type": "code",
   "execution_count": null,
   "metadata": {},
   "outputs": [],
   "source": [
    "using BenchmarkTools\n",
    "\n",
    "counter = []\n",
    "\n",
    "@btime begin\n",
    "    indices = findall(rts.rt_from .== initial_actors[1])\n",
    "    push!(counter, rts.username[indices])\n",
    "end"
   ]
  },
  {
   "cell_type": "code",
   "execution_count": null,
   "metadata": {},
   "outputs": [],
   "source": [
    "# foo = test[test.category .== Ref([\"tweeted\"]), :]\n",
    "# foo = transform(groupby(foo, \"username\"), \"created_at\" => length => \"tweet_count\")\n",
    "# foo = foo[foo.tweet_count .>= 1, :]\n",
    "# length(unique(foo.username))\n",
    "\n",
    "\n",
    "initial_actors = unique(test[.ismissing.(test.rt_from), \"username\"])"
   ]
  },
  {
   "cell_type": "code",
   "execution_count": null,
   "metadata": {},
   "outputs": [],
   "source": [
    "sum(.!ismissing.(test.rt_from))"
   ]
  },
  {
   "cell_type": "code",
   "execution_count": null,
   "metadata": {},
   "outputs": [],
   "source": [
    "foo = test[startswith.(test.text, Ref(\"RT @\")) .&& test.category .!= Ref([\"retweeted\"]), :]"
   ]
  },
  {
   "cell_type": "code",
   "execution_count": null,
   "metadata": {},
   "outputs": [],
   "source": [
    "show(foo, allcols=true)"
   ]
  },
  {
   "cell_type": "code",
   "execution_count": null,
   "metadata": {},
   "outputs": [],
   "source": [
    "find_user(test.text[1])"
   ]
  },
  {
   "cell_type": "code",
   "execution_count": null,
   "metadata": {},
   "outputs": [],
   "source": [
    "length(unique(test.username))"
   ]
  },
  {
   "cell_type": "code",
   "execution_count": null,
   "metadata": {},
   "outputs": [],
   "source": [
    "sum(test.category .== Ref([\"quoted\"]))"
   ]
  },
  {
   "cell_type": "code",
   "execution_count": null,
   "metadata": {},
   "outputs": [],
   "source": [
    "followers[500]"
   ]
  },
  {
   "cell_type": "code",
   "execution_count": null,
   "metadata": {},
   "outputs": [],
   "source": [
    "sum(followers .== 0)"
   ]
  },
  {
   "cell_type": "code",
   "execution_count": null,
   "metadata": {},
   "outputs": [],
   "source": [
    "261259/50\n",
    "\n",
    "## DECREASE BINS LOGARITHMICALLY"
   ]
  },
  {
   "cell_type": "code",
   "execution_count": null,
   "metadata": {},
   "outputs": [],
   "source": [
    "25929^2/520^2*10/60/60"
   ]
  },
  {
   "cell_type": "code",
   "execution_count": null,
   "metadata": {},
   "outputs": [],
   "source": [
    "sum(0 .< followers .< 50)"
   ]
  },
  {
   "cell_type": "code",
   "execution_count": null,
   "metadata": {},
   "outputs": [],
   "source": [
    "sum(followers .== 0)"
   ]
  },
  {
   "cell_type": "code",
   "execution_count": null,
   "metadata": {},
   "outputs": [],
   "source": [
    "sum(followers .> 500000)"
   ]
  },
  {
   "cell_type": "code",
   "execution_count": null,
   "metadata": {},
   "outputs": [],
   "source": [
    "test = collect(1:10)\n",
    "sorting = sortperm(test, rev=true)\n",
    "test[sorting]"
   ]
  },
  {
   "cell_type": "code",
   "execution_count": null,
   "metadata": {},
   "outputs": [],
   "source": []
  },
  {
   "cell_type": "code",
   "execution_count": null,
   "metadata": {},
   "outputs": [],
   "source": []
  }
 ],
 "metadata": {
  "kernelspec": {
   "display_name": "Julia 1.8.1",
   "language": "julia",
   "name": "julia-1.8"
  },
  "language_info": {
   "file_extension": ".jl",
   "mimetype": "application/julia",
   "name": "julia",
   "version": "1.8.1"
  },
  "orig_nbformat": 4,
  "vscode": {
   "interpreter": {
    "hash": "76d3d9ea52ae0f582c7ab8c3bbc7d312c08f3afa3631e827e583225c1557aa69"
   }
  }
 },
 "nbformat": 4,
 "nbformat_minor": 2
}
