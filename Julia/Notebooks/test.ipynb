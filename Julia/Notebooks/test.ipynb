{
 "cells": [
  {
   "cell_type": "code",
   "execution_count": null,
   "metadata": {},
   "outputs": [],
   "source": [
    "using CausalityTools\n",
    "include(\"../entropy.jl\")\n",
    "using Random\n",
    "using BenchmarkTools\n",
    "\n",
    "rng = MersenneTwister(145)\n",
    "\n",
    "a = rand(rng, 0:10, 100)\n",
    "b = rand(rng, 0:10, 100)\n",
    "\n",
    "est = Kraskov(k=1)\n",
    "\n",
    "print(\"Current method :\")\n",
    "foo = @btime TE(Int.(a .> 0), Int.(b .> 0))\n",
    "println(\"The result is $foo.\\n\")\n",
    "\n",
    "\n",
    "print(\"True transfer entropy :\")\n",
    "a = float.(a)\n",
    "b = float.(b)\n",
    "foo2 = @btime transferentropy(a, b, est)\n",
    "println(\"The result is $foo2.\\n\")\n",
    "\n",
    "print(\"CCM :\")\n",
    "foo3 = @btime crossmap(a, b, 2, 1)\n",
    "println(\"The result is $foo3.\\n\")"
   ]
  },
  {
   "cell_type": "code",
   "execution_count": null,
   "metadata": {},
   "outputs": [],
   "source": [
    "using StatsBase\n",
    "\n",
    "a = [1 1 1 1 0 0]\n",
    "b = [1 1 0 0 0 1]\n",
    "\n",
    "countmap(a)"
   ]
  },
  {
   "cell_type": "code",
   "execution_count": null,
   "metadata": {},
   "outputs": [],
   "source": [
    "foo = [(a[i+1], a[i], b[i]) for i = 1:(length(a)-1)]\n"
   ]
  },
  {
   "cell_type": "code",
   "execution_count": null,
   "metadata": {},
   "outputs": [],
   "source": [
    "proportionmap(foo) "
   ]
  },
  {
   "cell_type": "code",
   "execution_count": null,
   "metadata": {},
   "outputs": [],
   "source": [
    "include(\"../Utils/entropy.jl\")\n",
    "\n",
    "\n",
    "function transfer_entropy(X, Y)\n",
    "\n",
    "    N = length(X)\n",
    "    # configurations = [(Y[i+1], Y[i], X[i]) for i = 1:(N-1)]\n",
    "    configurations = [(Y[i], Y[i-1], X[i-1]) for i = 2:N]\n",
    "    states = proportionmap(configurations)\n",
    "\n",
    "    tot = 0\n",
    "\n",
    "    for state in keys(states)\n",
    "        state_proba = states[state]\n",
    "        # P_Yn_Xn = sum((Y .== state[2]) .& (X .== state[3])) / N\n",
    "        # P_Yn1_Yn = sum((Y[2:end] .== state[1]) .& (Y[1:(end-1)] .== state[2])) / (N - 1)\n",
    "        P_Yn_Xn = sum((Y[2:end] .== state[2]) .& (X[2:end] .== state[3])) / (N-1)\n",
    "        P_Yn1_Yn = sum((Y[2:end] .== state[1]) .& (Y[1:(end-1)] .== state[2])) / (N - 1)\n",
    "        # P_Yn = sum(Y .== state[2]) / N\n",
    "        P_Yn = sum(Y[2:end] .== state[2]) / (N-1)\n",
    "\n",
    "        numerator = state_proba / P_Yn_Xn\n",
    "        denominator = P_Yn1_Yn / P_Yn\n",
    "\n",
    "        tot += state_proba * log(numerator / denominator)\n",
    "\n",
    "    end\n",
    "\n",
    "    return tot\n",
    "\n",
    "end\n",
    "\n",
    "\n",
    "# a = [1 1 1 1 0 0]\n",
    "# b = [1 1 0 0 0 1]\n",
    "\n",
    "# a = rand(0:1, 100)\n",
    "# b = rand(0:1, 100)\n",
    "\n",
    "println(\"TE : $(TE(a,b))\")\n",
    "println(\"new : $(transfer_entropy(a,b))\")"
   ]
  },
  {
   "cell_type": "code",
   "execution_count": null,
   "metadata": {},
   "outputs": [],
   "source": [
    "X, Y = a, b\n",
    "configurations = [(Y[i], Y[i-1], X[i-1]) for i = 2:length(X)]\n",
    "states = proportionmap(configurations)"
   ]
  },
  {
   "cell_type": "code",
   "execution_count": null,
   "metadata": {},
   "outputs": [],
   "source": [
    "using CausalityTools\n",
    "using StatsBase\n",
    "\n",
    "func(x,y) = pvalue(jdd(OneSampleTTest, x, y, B=10, D=5, τ=1, μ0=0.0), tail=:right)\n",
    "\n",
    "a = Vector{Int}(undef, 100)\n",
    "b = Vector{Int}(undef, 100)\n",
    "\n",
    "a[1:2:end] .= 0\n",
    "a[2:2:end] .= 1\n",
    "a[end-10:end] .= 2\n",
    "\n",
    "b[1:2:end] .= 1\n",
    "b[2:2:end] .= 0\n",
    "b[end-10:end] .= 4\n",
    "\n",
    "a = (a .- mean(a)) / std(a)\n",
    "a = (b .- mean(b)) / std(b)\n",
    "\n",
    "a = rand(0:3, 100)\n",
    "b = rand(0:3, 100)\n",
    "\n",
    "func(a,b)"
   ]
  },
  {
   "cell_type": "code",
   "execution_count": null,
   "metadata": {},
   "outputs": [],
   "source": [
    "using Dates\n",
    "# using Revise\n",
    "import PlotlyJS\n",
    "\n",
    "include(\"../Sensors/Sensors.jl\")\n",
    "include(\"../PreProcessing/PreProcessing.jl\")\n",
    "include(\"../Utils/Helpers.jl\")\n",
    "include(\"../Utils/Visualizations.jl\")\n",
    "using .Sensors, .PreProcessing, .Visualizations, .Helpers;\n",
    "\n",
    "datafolder = \"../../Data/Twitter/COP26_processed_lightweight/\"\n",
    "datafiles = [file for file in readdir(datafolder) if occursin(\".json\", file)]\n",
    "frames = [load_json(datafolder * file) for file in datafiles]\n",
    "data = vcat(frames...)\n",
    "\n",
    "data = data[.~ismissing.(data.\"domain\"), :]\n",
    "\n",
    "to_datetime = x -> DateTime(split(x, '.')[1], \"yyyy-mm-ddTHH:MM:SS\")\n",
    "data.\"created_at\" = to_datetime.(data.\"created_at\");"
   ]
  },
  {
   "cell_type": "code",
   "execution_count": null,
   "metadata": {},
   "outputs": [],
   "source": [
    "data.time_bin .= 0"
   ]
  },
  {
   "cell_type": "code",
   "execution_count": null,
   "metadata": {},
   "outputs": [],
   "source": [
    "show(data[:, [3, 4, 5,6]])"
   ]
  },
  {
   "cell_type": "code",
   "execution_count": null,
   "metadata": {},
   "outputs": [],
   "source": [
    "import PyPlot as plt\n",
    "\n",
    "rng = MersenneTwister(145)\n",
    "\n",
    "a = rand(rng, 0:10, 100)\n",
    "b = rand(rng, 0:10, 100)\n",
    "\n",
    "a = float.(a)\n",
    "b = float.(b)\n",
    "\n",
    "Ls = [10:5:50; 60:10:100]\n",
    "\n",
    "@btime begin\n",
    "    test = [crossmap(a[1:L], b[1:L], 2, 1) for L in Ls]\n",
    "    test2 = [crossmap(b[1:L], a[1:L], 2, 1) for L in Ls]\n",
    "end\n",
    "\n",
    "plt.figure()\n",
    "plt.plot(Ls, test, \"b-\", label=\"a to b\")\n",
    "plt.plot(Ls, test2, \"r-\", label=\"b to a\")\n",
    "plt.legend()\n",
    "show(plt.gcf())"
   ]
  },
  {
   "cell_type": "code",
   "execution_count": null,
   "metadata": {},
   "outputs": [],
   "source": [
    "using CausalityTools\n",
    "\n",
    "s_measure()"
   ]
  },
  {
   "cell_type": "code",
   "execution_count": null,
   "metadata": {},
   "outputs": [],
   "source": [
    "using CausalityTools\n",
    "\n",
    "# A two-dimensional Ulam lattice map\n",
    "sys = ulam(2)\n",
    "\n",
    "# Sample 1000 points after discarding 5000 transients\n",
    "orbit = trajectory(sys, 1000, Ttr = 5000)\n",
    "x, y = orbit[:, 1], orbit[:, 2]\n",
    "\n",
    "# 4-dimensional embedding for `x`, 5-dimensional embedding for `y`\n",
    "s_measure(x, y, dx = 4, τx = 3, dy = 5, τy = 1)"
   ]
  },
  {
   "cell_type": "code",
   "execution_count": null,
   "metadata": {},
   "outputs": [],
   "source": [
    "using DelayEmbeddings\n",
    "\n",
    "a = collect(1:100)\n",
    "p = embed(a, 2, 5)"
   ]
  },
  {
   "cell_type": "code",
   "execution_count": null,
   "metadata": {},
   "outputs": [],
   "source": [
    "using Neighborhood\n",
    "\n",
    "a = [0, 1.2, 0.1, 0.8]\n",
    "b = [0, 0, 1.8, 0.8]\n",
    "\n",
    "\n",
    "X = embed(a, 2, 1)\n",
    "Y = embed(b, 2, 1)\n",
    "\n",
    "treeX = searchstructure(KDTree, X, Euclidean())\n",
    "treeY = searchstructure(KDTree, Y, Euclidean())\n",
    "neighborhoodtype, theiler = NeighborNumber(1), Theiler(0)\n",
    "idxs_X = bulkisearch(treeX, X, neighborhoodtype, theiler)\n",
    "idxs_Y = bulkisearch(treeY, Y, neighborhoodtype, theiler)\n",
    "\n",
    "print(idxs_Y)"
   ]
  },
  {
   "cell_type": "code",
   "execution_count": null,
   "metadata": {},
   "outputs": [],
   "source": [
    "using CausalityTools\n",
    "using BenchmarkTools\n",
    "\n",
    "include(\"../Utils/entropy.jl\")\n",
    "\n",
    "x = rand(0:10, 50)\n",
    "y = rand(0:10, 50)\n",
    "\n",
    "@btime s_measure(float(x), float(y), K=3, dx=5, dy=5, τx=1, τy=1)\n",
    "\n",
    "@btime TE(Int.(x .> 0), Int.(y .> 0))"
   ]
  },
  {
   "cell_type": "code",
   "execution_count": null,
   "metadata": {},
   "outputs": [],
   "source": [
    "using HypothesisTests\n",
    "\n",
    "x = rand(0:10, 50)\n",
    "y = rand(0:10, 50)\n",
    "\n",
    "@btime jdd(OneSampleTTest, x, y, B=10, D=2, τ=1)"
   ]
  },
  {
   "cell_type": "code",
   "execution_count": null,
   "metadata": {},
   "outputs": [],
   "source": [
    "source = collect(1:5)\n",
    "target = collect(11:15)\n",
    "\n",
    "D = 2\n",
    "B = 10\n",
    "τs = 1\n",
    "\n",
    "@btime Ex = DelayEmbeddings.embed(source, D, τs)\n",
    "Ey = DelayEmbeddings.embed(target, D, τs)\n",
    "Mx = DelayEmbeddings.Matrix(Ex)\n",
    "My = DelayEmbeddings.Matrix(Ey)"
   ]
  },
  {
   "cell_type": "code",
   "execution_count": null,
   "metadata": {},
   "outputs": [],
   "source": [
    "import DelayEmbeddings\n",
    "\n",
    "source = collect(1:5)\n",
    "target = collect(11:15)\n",
    "\n",
    "D = 2\n",
    "B = 10\n",
    "τ = 1\n",
    "\n",
    "js = ([1 for i = 1:D]...,)\n",
    "τs = (collect(0:-τ:-(D-1)*τ)...,)\n",
    "\n",
    "Ex = DelayEmbeddings.genembed(source, τs, js)\n",
    "Ey = DelayEmbeddings.genembed(target, τs, js)\n",
    "Mx = DelayEmbeddings.Matrix(Ex)\n",
    "My = DelayEmbeddings.Matrix(Ey)"
   ]
  },
  {
   "cell_type": "code",
   "execution_count": null,
   "metadata": {},
   "outputs": [],
   "source": [
    "Matrix(Ex) "
   ]
  },
  {
   "cell_type": "code",
   "execution_count": null,
   "metadata": {},
   "outputs": [],
   "source": [
    "foo = [0 1; 2 0]\n",
    "LinearIndices(foo[foo .> 0])"
   ]
  },
  {
   "cell_type": "code",
   "execution_count": null,
   "metadata": {},
   "outputs": [],
   "source": [
    "My"
   ]
  },
  {
   "cell_type": "code",
   "execution_count": null,
   "metadata": {},
   "outputs": [],
   "source": [
    "Mx"
   ]
  },
  {
   "cell_type": "code",
   "execution_count": null,
   "metadata": {},
   "outputs": [],
   "source": [
    "using Distances\n",
    "\n",
    "pairwise(Euclidean(), Mx, Mx, dims=1)"
   ]
  },
  {
   "cell_type": "code",
   "execution_count": null,
   "metadata": {},
   "outputs": [],
   "source": [
    "Euclidean()([2,1], [3,2])"
   ]
  },
  {
   "cell_type": "code",
   "execution_count": null,
   "metadata": {},
   "outputs": [],
   "source": [
    "using BenchmarkTools\n",
    "using CausalityTools\n",
    "\n",
    "include(\"../Utils/entropy.jl\")\n",
    "\n",
    "B = 10\n",
    "d = 3\n",
    "τ = 1\n",
    "alpha = 0.001\n",
    "\n",
    "K = 3\n",
    "dx = 3\n",
    "dy = 3\n",
    "τx = 1\n",
    "τy = 1\n",
    "\n",
    "cuttoff = 0.5\n",
    "cuttoff2 = 0.01\n",
    "\n",
    "func1(x, y) = pvalue(jdd(OneSampleTTest, x, y, B=B, D=d, τ=τ, μ0=0.0), tail=:right) < alpha ? 1 : 0\n",
    "func2(x, y) = TE(Int.(x .> 0), Int.(y .> 0)) > cuttoff ? 1 : 0\n",
    "func3(x,y) = s_measure(float(x), float(y), K=K, dx=dx, dy=dy, τx=τx, τy=τy) > cuttoff2 ? 1 : 0\n",
    "\n",
    "tot1 = 0\n",
    "tot2 = 0\n",
    "tot3 = 0\n",
    "nans = 0\n",
    "for i = 1:100\n",
    "    x = rand(0:10, 30)\n",
    "    y = rand(0:10, 30)\n",
    "\n",
    "    tot1 += func1(x ,y)\n",
    "    tot2 += func2(x ,y)\n",
    "    tot3 += func3(x ,y)\n",
    "end\n",
    "\n",
    "println(\"jdd : $tot1\")\n",
    "println(\"TE : $tot2\")\n",
    "println(\"s measure : $tot3\")"
   ]
  },
  {
   "cell_type": "code",
   "execution_count": null,
   "metadata": {},
   "outputs": [],
   "source": [
    "using BenchmarkTools\n",
    "using CausalityTools\n",
    "using StatsBase: minimum, maximum, mean, std\n",
    "\n",
    "function standardize(x)\n",
    "    std_ = std(x, dims=1)\n",
    "    return (x .- mean(x, dims=1)) ./ ifelse.(std_ .> 0, std_, ones(size(std_)))\n",
    "end\n",
    "\n",
    "B = 10\n",
    "d = 3\n",
    "τ = 1\n",
    "alpha = 0.001\n",
    "\n",
    "cuttoff = 0.5\n",
    "cuttoff2 = 0.01\n",
    "\n",
    "Nts = 13*24*2\n",
    "\n",
    "func(x, y) = pvalue(jdd(OneSampleTTest, x, y, B=B, D=d, τ=τ, μ0=0.0), tail=:right) < alpha ? 1 : 0\n",
    "\n",
    "tot = 0\n",
    "\n",
    "for i = 1:10000\n",
    "    x = standardize(rand(0:10, Nts))\n",
    "    y = standardize(rand(0:10, Nts))\n",
    "\n",
    "    # x = rand(0:10, Nts)\n",
    "    # y = rand(0:10, Nts)\n",
    "\n",
    "    tot += func(x ,y)\n",
    "end\n",
    "\n",
    "println(\"jdd : $tot\")"
   ]
  },
  {
   "cell_type": "code",
   "execution_count": null,
   "metadata": {},
   "outputs": [],
   "source": [
    "using Dates\n",
    "# using Revise\n",
    "import PlotlyJS\n",
    "\n",
    "include(\"../Sensors/Sensors.jl\")\n",
    "include(\"../PreProcessing/PreProcessing.jl\")\n",
    "include(\"../Utils/Helpers.jl\")\n",
    "include(\"../Utils/Visualizations.jl\")\n",
    "using .Sensors, .PreProcessing, .Visualizations, .Helpers;\n"
   ]
  },
  {
   "cell_type": "code",
   "execution_count": null,
   "metadata": {},
   "outputs": [],
   "source": [
    "a = TimeSeriesGenerator(Minute(12), standardize=true)"
   ]
  },
  {
   "cell_type": "code",
   "execution_count": null,
   "metadata": {},
   "outputs": [],
   "source": [
    "using BenchmarkTools\n",
    "using CausalityTools\n",
    "using StatsBase\n",
    "\n",
    "function normalize(x)\n",
    "    return (x .- mean(x))/std(x)\n",
    "end\n",
    "\n",
    "\n",
    "B = 10\n",
    "d = 3\n",
    "τ = 1\n",
    "alpha = 0.001\n",
    "\n",
    "Nsurr = 50\n",
    "p_value_surr = Vector{Float64}(undef, Nsurr)\n",
    "\n",
    "func(x, y) = pvalue(jdd(OneSampleTTest, x, y, B=B, D=d, τ=τ, μ0=0.0), tail=:right)\n",
    "\n",
    "tot = 0\n",
    "eviter = 0\n",
    "\n",
    "for i = 1:1000\n",
    "    x = rand(0:10, 100)\n",
    "    y = rand(0:10, 100)\n",
    "\n",
    "    p = func(x, y)\n",
    "\n",
    "    if p < alpha\n",
    "\n",
    "        s = surrogenerator(x, RandomShuffle())\n",
    "\n",
    "        for i = 1:Nsurr\n",
    "            p_value_surr[i] = func(s(), y)\n",
    "            # p_value_surr[i] = func(rand(0:10, 100), y)\n",
    "        end\n",
    "\n",
    "        limit = quantile(p_value_surr, 0.01)/4\n",
    "        limit2 = minimum()\n",
    "\n",
    "        if p < limit\n",
    "            tot += 1\n",
    "            println(\"p : $p    limit: $limit     limit2: $(limit2)\")\n",
    "\n",
    "        else\n",
    "            eviter += 1\n",
    "        end\n",
    "\n",
    "    end\n",
    "\n",
    "    #= if p < alpha\n",
    "        tot += 1\n",
    "    end =#\n",
    "\n",
    "end\n",
    "\n",
    "println(\"jdd : $tot\")\n",
    "println(\"We removed : $eviter\")"
   ]
  },
  {
   "cell_type": "code",
   "execution_count": null,
   "metadata": {},
   "outputs": [],
   "source": [
    "println(quantile(p_value_surr, 0.01)/4)\n",
    "println(quantile(p_value_surr, 0.05)/4)\n",
    "confint(OneSampleTTest(p_value_surr), 0.0001)"
   ]
  },
  {
   "cell_type": "code",
   "execution_count": null,
   "metadata": {},
   "outputs": [],
   "source": [
    "x = 1:100\n",
    "y = 101:200\n",
    "\n",
    "p = func(x, y)\n",
    "\n",
    "if p < alpha\n",
    "\n",
    "    s = surrogenerator(x, RandomShuffle())\n",
    "\n",
    "    for i = 1:Nsurr\n",
    "        p_value_surr[i] = func(s(), y)\n",
    "        # p_value_surr[i] = func(rand(0:10, 100), y)\n",
    "    end\n",
    "\n",
    "    limit = minimum(p_value_surr)/2 #quantile(p_value_surr, 0.05)\n",
    "\n",
    "    println(\"p : $p    limit: $limit\")\n",
    "\n",
    "    if p < limit\n",
    "        tot += 1\n",
    "    end\n",
    "\n",
    "end"
   ]
  },
  {
   "cell_type": "code",
   "execution_count": null,
   "metadata": {},
   "outputs": [],
   "source": [
    "import PyPlot as plt\n",
    "using Distributions\n",
    "\n",
    "foo = fit_mle(Normal, p_value_surr)\n",
    "\n",
    "\n",
    "show(plt.hist(p_value_surr, bins=20))\n",
    "plt.plot(0:0.001:0.3, rand(foo, length(0:0.001:0.3)), \"-r\")\n",
    "foo"
   ]
  },
  {
   "cell_type": "code",
   "execution_count": null,
   "metadata": {},
   "outputs": [],
   "source": [
    "float.(p_value_surr)"
   ]
  },
  {
   "cell_type": "code",
   "execution_count": null,
   "metadata": {},
   "outputs": [],
   "source": [
    "d = Normal()\n",
    "x = rand(d, 100)\n",
    "\n"
   ]
  },
  {
   "cell_type": "code",
   "execution_count": null,
   "metadata": {},
   "outputs": [],
   "source": [
    "using CausalityTools\n",
    "\n",
    "a = float([1, 2, 3, [0 for i = 1:99]...])\n",
    "\n",
    "est = VisitationFrequency(RectangularBinning(2.))\n",
    "# est = NaiveKernel(1.8)\n",
    "# est = SymbolicPermutation()\n",
    "probabilities(a, est)"
   ]
  },
  {
   "cell_type": "code",
   "execution_count": null,
   "metadata": {},
   "outputs": [],
   "source": [
    "using CausalityTools\n",
    "\n",
    "a = float([1 for i = 1:100])\n",
    "b = float([1 for i = 1:100])\n",
    "\n",
    "# est = Kraskov(k=3)\n",
    "est = VisitationFrequency(RectangularBinning(10))\n",
    "# est = NaiveKernel(1.8)\n",
    "# est = SymbolicPermutation()\n",
    "# probabilities(a, est)\n",
    "transferentropy(a, b, est)"
   ]
  },
  {
   "cell_type": "code",
   "execution_count": null,
   "metadata": {},
   "outputs": [],
   "source": [
    "include(\"../Utils/entropy.jl\")\n",
    "using StatsBase: mean\n",
    "\n",
    "foo = []\n",
    "for i = 1:10000\n",
    "    a = rand(0:1, 26)\n",
    "    b = rand(0:1, 26)\n",
    "\n",
    "    push!(foo, TE(a, b))\n",
    "end\n",
    "\n",
    "maximum(foo)"
   ]
  },
  {
   "cell_type": "code",
   "execution_count": null,
   "metadata": {},
   "outputs": [],
   "source": [
    "sum(foo .> 0.5)"
   ]
  },
  {
   "cell_type": "code",
   "execution_count": null,
   "metadata": {},
   "outputs": [],
   "source": [
    "using CausalityTools\n",
    "\n",
    "a = collect(1:30)\n",
    "b = collect(51:80)\n",
    "\n",
    "a = [[0 for i in 1:30]..., a...]\n",
    "b = [[0 for i in 1:30]..., b...]\n",
    "\n",
    "B = 10\n",
    "d = 3\n",
    "τ = 5\n",
    "alpha = 0.001\n",
    "\n",
    "func(x,y) = pvalue(jdd(OneSampleTTest, x, y, B=B, D=d, τ=τ, μ0=0.0), tail=:right)\n",
    "func(a, b)"
   ]
  },
  {
   "cell_type": "code",
   "execution_count": null,
   "metadata": {},
   "outputs": [],
   "source": [
    "func2(x, y) = TE(Int.(x .> 0), Int.(y .> 0))\n",
    "\n",
    "nans = 0\n",
    "for i = 1:100\n",
    "    x = rand(0:10, 100)\n",
    "    y = rand(0:10, 100)\n",
    "\n",
    "    isnan(func2(x,y)) ? nans += 1 : nans += 0\n",
    "end\n",
    "\n",
    "nans"
   ]
  },
  {
   "cell_type": "code",
   "execution_count": null,
   "metadata": {},
   "outputs": [],
   "source": [
    "x = rand(0:10, 30)\n",
    "y = rand(0:10, 30)\n",
    "\n",
    "B = 10\n",
    "d = 3\n",
    "τ = 1\n",
    "alpha = 0.001\n",
    "\n",
    "func1(x, y) = pvalue(jdd(OneSampleTTest, x, y, B=B, D=d, τ=τ, μ0=0.0), tail=:right) < alpha ? 1 : 0\n",
    "@btime func1(x,y)"
   ]
  },
  {
   "cell_type": "code",
   "execution_count": null,
   "metadata": {},
   "outputs": [],
   "source": [
    "foo = zeros(3,3)\n",
    "try\n",
    "    a = minimum(foo[foo .> 0])\n",
    "catch\n",
    "    print(\"foo\")\n",
    "end"
   ]
  },
  {
   "cell_type": "code",
   "execution_count": null,
   "metadata": {},
   "outputs": [],
   "source": [
    "est = VisitationFrequency(RectangularBinning(10))\n",
    "\n",
    "n = 1000\n",
    "# Source and target variables\n",
    "s, t = rand(n), rand(n)\n",
    "\n",
    "\n",
    "est = NaiveKernel(0.3)\n",
    "@btime bbnue(s, t, est)"
   ]
  },
  {
   "cell_type": "code",
   "execution_count": null,
   "metadata": {},
   "outputs": [],
   "source": [
    "using CausalityTools\n",
    "\n",
    "a = float([[0 for i = 1:24]..., 1, [0 for i = 1:75]...])\n",
    "b = float([[0 for i = 1:36]..., 1, [0 for i = 1:63]...])\n",
    "\n",
    "a = (a .- mean(a)) / std(a)\n",
    "b = (b .- mean(b)) / std(b)\n",
    "\n",
    "transferentropy(a, b, Kraskov(k=3))"
   ]
  },
  {
   "cell_type": "code",
   "execution_count": null,
   "metadata": {},
   "outputs": [],
   "source": [
    "using Dates\n",
    "\n",
    "start_time = DateTime(2021, 10, 11, 13, 23, 12) \n",
    "end_time = DateTime(2021, 10, 28, 23, 29, 13) \n",
    "time_interval = Day(1)\n",
    "\n",
    "println(floor(start_time, time_interval))\n",
    "println(ceil(end_time, time_interval))"
   ]
  },
  {
   "cell_type": "code",
   "execution_count": null,
   "metadata": {},
   "outputs": [],
   "source": [
    "start_time = DateTime(2021, 10, 11, 13, 23, 12) \n",
    "end_time = DateTime(2021, 10, 28, 23, 29, 13) \n",
    "time_interval = Day(1)\n",
    "\n",
    "function create_time_intervals(start_time::DateTime, end_time::DateTime, time_interval::Period)\n",
    "\n",
    "    # Set beginning and end of interval by rounding\n",
    "    start_time = floor(start_time, time_interval)\n",
    "    end_time = ceil(end_time, time_interval)\n",
    "\n",
    "    intervals = [start_time]\n",
    "    \n",
    "    if end_time - start_time > time_interval\n",
    "        start = start_time\n",
    "        while start + time_interval < end_time\n",
    "            push!(intervals, start + time_interval)\n",
    "            start += time_interval\n",
    "        end\n",
    "    end\n",
    "            \n",
    "    push!(intervals, end_time)\n",
    "    \n",
    "    return intervals\n",
    "\n",
    "\n",
    "end\n",
    "\n",
    "create_time_intervals(start_time, end_time, time_interval)\n",
    "\n",
    "start_time"
   ]
  },
  {
   "cell_type": "code",
   "execution_count": null,
   "metadata": {},
   "outputs": [],
   "source": [
    "Minute <: Period"
   ]
  },
  {
   "cell_type": "code",
   "execution_count": null,
   "metadata": {},
   "outputs": [],
   "source": [
    "using DataFrames\n",
    "using Dates\n",
    "include(\"../Utils/Helpers.jl\")\n",
    "using .Helpers\n",
    "\n",
    "datafolder = \"../../Data/Twitter/COP26_processed_lightweight/\"\n",
    "datafiles = [file for file in readdir(datafolder) if occursin(\".json\", file)]\n",
    "frames = [load_json(datafolder * file) for file in datafiles]\n",
    "data = vcat(frames...)\n",
    "\n",
    "data = data[.~ismissing.(data.\"domain\"), :]\n",
    "\n",
    "to_datetime = x -> DateTime(split(x, '.')[1], \"yyyy-mm-ddTHH:MM:SS\")\n",
    "data.\"created_at\" = to_datetime.(data.\"created_at\");"
   ]
  },
  {
   "cell_type": "code",
   "execution_count": null,
   "metadata": {},
   "outputs": [],
   "source": [
    "start_time = minimum(data.created_at)\n",
    "println(start_time)\n",
    "println(floor(start_time, Minute))"
   ]
  },
  {
   "cell_type": "code",
   "execution_count": null,
   "metadata": {},
   "outputs": [],
   "source": [
    "end_time = maximum(data.created_at)\n",
    "println(end_time)\n",
    "println(ceil(end_time, Minute))"
   ]
  },
  {
   "cell_type": "code",
   "execution_count": null,
   "metadata": {},
   "outputs": [],
   "source": [
    "\n",
    "start_time = minimum(data.created_at)\n",
    "end_time = maximum(data.created_at)\n",
    "time_interval = Hour(5)\n",
    "\n",
    "function create_time_intervals(start_time::DateTime, end_time::DateTime, time_interval::Period)\n",
    "\n",
    "    # Set beginning and end of interval by rounding\n",
    "    start_time = floor(start_time, Minute)\n",
    "    end_time = ceil(end_time, Minute)\n",
    "\n",
    "    intervals = [start_time]\n",
    "    \n",
    "    if end_time - start_time > time_interval\n",
    "        start = start_time\n",
    "        while start + time_interval < end_time\n",
    "            push!(intervals, start + time_interval)\n",
    "            start += time_interval\n",
    "        end\n",
    "    end\n",
    "            \n",
    "    push!(intervals, end_time)\n",
    "    \n",
    "    return intervals\n",
    "\n",
    "\n",
    "end\n",
    "\n",
    "foo = create_time_intervals(start_time, end_time, time_interval)"
   ]
  },
  {
   "cell_type": "code",
   "execution_count": null,
   "metadata": {},
   "outputs": [],
   "source": [
    "length(foo) - 1"
   ]
  },
  {
   "cell_type": "code",
   "execution_count": null,
   "metadata": {},
   "outputs": [],
   "source": [
    "total_min = 5*60\n",
    "\n",
    "clean_dates = x -> floor(x, Dates.Minute(total_min))\n",
    "data.time = clean_dates.(data.\"created_at\")"
   ]
  },
  {
   "cell_type": "code",
   "execution_count": null,
   "metadata": {},
   "outputs": [],
   "source": [
    "a = Vector{Int}(undef, 2)"
   ]
  },
  {
   "cell_type": "code",
   "execution_count": null,
   "metadata": {},
   "outputs": [],
   "source": [
    "isassigned(a, 3)"
   ]
  },
  {
   "cell_type": "code",
   "execution_count": null,
   "metadata": {},
   "outputs": [],
   "source": [
    "using DataFrames\n",
    "using Dates\n",
    "include(\"../Utils/Helpers.jl\")\n",
    "using .Helpers\n",
    "include(\"../Sensors/Sensors.jl\")\n",
    "import .Sensors as sen\n",
    "\n",
    "datafolder = \"../../Data/Twitter/COP26_processed_lightweight/\"\n",
    "datafiles = [file for file in readdir(datafolder) if occursin(\".json\", file)]\n",
    "frames = [load_json(datafolder * file) for file in datafiles]\n",
    "data = vcat(frames...)\n",
    "\n",
    "data = data[.~ismissing.(data.\"domain\"), :]\n",
    "\n",
    "to_datetime = x -> DateTime(split(x, '.')[1], \"yyyy-mm-ddTHH:MM:SS\")\n",
    "data.\"created_at\" = to_datetime.(data.\"created_at\");\n",
    "\n"
   ]
  },
  {
   "cell_type": "code",
   "execution_count": null,
   "metadata": {},
   "outputs": [],
   "source": [
    "foo = x -> floor(x, Minute)\n",
    "time = foo.(data.created_at)"
   ]
  },
  {
   "cell_type": "code",
   "execution_count": null,
   "metadata": {},
   "outputs": [],
   "source": [
    "println(length(unique(time)))\n",
    "println(24*60*39)\n"
   ]
  },
  {
   "cell_type": "code",
   "execution_count": null,
   "metadata": {},
   "outputs": [],
   "source": [
    "13*24/2"
   ]
  },
  {
   "cell_type": "code",
   "execution_count": null,
   "metadata": {},
   "outputs": [],
   "source": [
    "5 ÷ 2"
   ]
  },
  {
   "cell_type": "code",
   "execution_count": null,
   "metadata": {},
   "outputs": [],
   "source": [
    "isodd(3)"
   ]
  },
  {
   "cell_type": "code",
   "execution_count": null,
   "metadata": {},
   "outputs": [],
   "source": [
    "include(\"../Sensors/Sensors.jl\")\n",
    "include(\"../Utils/Visualizations.jl\")\n",
    "using .Visualizations;\n",
    "import PyPlot as plt\n",
    "\n",
    "Nbar = 1\n",
    "x_length = 6\n",
    "width = 0.5\n",
    "spacing = 0.2\n",
    "\n",
    "Y = rand(Nbar, x_length)\n",
    "X, ticks = Visualizations.barplot_layout(Nbar, x_length, width=width, spacing=spacing)\n",
    "\n",
    "plt.figure()\n",
    "for i = 1:Nbar\n",
    "    plt.bar(X[i, :], Y[i, :], width=width, label=\"$i\", zorder=2)\n",
    "end\n",
    "plt.xticks(ticks)\n",
    "show(plt.gcf())"
   ]
  },
  {
   "cell_type": "code",
   "execution_count": null,
   "metadata": {},
   "outputs": [],
   "source": [
    "x = rand(4)\n",
    "[x... [0. for i = 1:3]...]"
   ]
  },
  {
   "cell_type": "code",
   "execution_count": null,
   "metadata": {},
   "outputs": [],
   "source": [
    "using Revise\n",
    "include(\"../Sensors/Sensors.jl\")\n",
    "include(\"../PreProcessing/PreProcessing.jl\")\n",
    "include(\"../Utils/Helpers.jl\")\n",
    "include(\"../Utils/Visualizations.jl\")\n",
    "using .Sensors, .PreProcessing, .Visualizations, .Helpers;\n",
    "\n",
    "a = [0.1 0.2;0.05 0.2]\n",
    "b = [0.8 0.2;0.6 0.1]\n",
    "c = [0.1 0.2;0.2 0]\n",
    "d = [0.9 0.2;0.6 0.7]\n",
    "e = [0 0;0 0]\n",
    "\n",
    "B = SingleInfluenceGraph(undef, 3, 3)\n",
    "\n",
    "B[1,1] = e\n",
    "B[1,2] = b\n",
    "B[1,3] = e\n",
    "B[2,1] = e\n",
    "B[2,2] = e\n",
    "B[2,3] = d\n",
    "B[3,1] = e\n",
    "B[3,2] = e\n",
    "B[3,3] = e\n",
    "\n",
    "cuttoff = 0.5\n",
    "icg = InfluenceCascadeGenerator(cuttoff, false)\n",
    "\n",
    "cascades_A = observe(B, icg)"
   ]
  },
  {
   "cell_type": "code",
   "execution_count": null,
   "metadata": {},
   "outputs": [],
   "source": [
    "B"
   ]
  },
  {
   "cell_type": "code",
   "execution_count": null,
   "metadata": {},
   "outputs": [],
   "source": [
    "include(\"../Sensors/Sensors.jl\")\n",
    "include(\"../PreProcessing/PreProcessing.jl\")\n",
    "include(\"../Utils/Helpers.jl\")\n",
    "include(\"../Utils/Visualizations.jl\")\n",
    "using .Sensors, .PreProcessing, .Visualizations, .Helpers;\n",
    "\n",
    "f = [1.2 0.3 0.; 0.7 0.3 0.3; 0. 0.6 0.]\n",
    "g = [0.3 0.3 0.3; 0.2 0.9 0.8; 0.3 0.9 0.]\n",
    "h = zeros(3,3)\n",
    "\n",
    "C = SingleInfluenceGraph(undef, 4, 4)\n",
    "\n",
    "for i in 1:size(C,1), j in 1:size(C,2)\n",
    "    C[i,j] = h\n",
    "end\n",
    "\n",
    "C[1, 4] = f\n",
    "C[2,1] = g\n",
    "C[3,4] = f\n",
    "C[4,1] = g\n",
    "\n",
    "D = SingleInfluenceGraph(undef, 4, 4)\n",
    "\n",
    "for i in 1:size(C,1), j in 1:size(C,2)\n",
    "    D[i,j] = h\n",
    "end\n",
    "\n",
    "D[1, 2] = f\n",
    "D[1, 4] = f\n",
    "D[2,3] = g\n",
    "D[3,2] = f\n",
    "D[4,2] = g\n",
    "\n",
    "cuttoff = 0.5\n",
    "icg = InfluenceCascadeGenerator(cuttoff, false)\n",
    "\n",
    "cascades = observe(D, icg)\n",
    "println(cascades[1].actor_edges)\n",
    "println(cascades[1].actors_per_level)"
   ]
  },
  {
   "cell_type": "code",
   "execution_count": null,
   "metadata": {},
   "outputs": [],
   "source": [
    "println(cascades[2].actor_edges)\n",
    "println(cascades[2].actors_per_level)"
   ]
  },
  {
   "cell_type": "code",
   "execution_count": null,
   "metadata": {},
   "outputs": [],
   "source": [
    "using DataStructures\n",
    "\n",
    "a = Queue{Int}()\n",
    "\n",
    "enqueue!(a, 2)\n",
    "enqueue!(a, 2)\n",
    "a"
   ]
  },
  {
   "cell_type": "code",
   "execution_count": null,
   "metadata": {},
   "outputs": [],
   "source": [
    "foo = dequeue!(a)"
   ]
  },
  {
   "cell_type": "code",
   "execution_count": null,
   "metadata": {},
   "outputs": [],
   "source": [
    "import Random\n",
    "\n",
    "rng = Random.Xoshiro(123)\n",
    "\n",
    "a = rand(rng, 10, 10)\n",
    "b = rand(rng, 10, 10)"
   ]
  },
  {
   "cell_type": "code",
   "execution_count": null,
   "metadata": {},
   "outputs": [],
   "source": [
    "rng1 = Random.Xoshiro(123)\n",
    "\n",
    "a1 = rand(rng1, 10, 10)\n",
    "b1 = rand(rng1, 10, 10)"
   ]
  },
  {
   "cell_type": "code",
   "execution_count": null,
   "metadata": {},
   "outputs": [],
   "source": [
    "b == b1"
   ]
  },
  {
   "cell_type": "code",
   "execution_count": null,
   "metadata": {},
   "outputs": [],
   "source": [
    "include(\"../Sensors/Sensors.jl\")\n",
    "using .Sensors;\n",
    "import Random\n",
    "\n",
    "rng1 = Random.Xoshiro(123)\n",
    "a = rand(rng1, 10)\n",
    "b = rand(rng1, 10)\n",
    "\n",
    "foo = InfluenceGraphGenerator(JointDistanceDistribution, alpha=0.001)\n",
    "\n",
    "foo.causal_function(a, b)"
   ]
  },
  {
   "cell_type": "code",
   "execution_count": null,
   "metadata": {},
   "outputs": [],
   "source": [
    "include(\"../Sensors/Sensors.jl\")\n",
    "using .Sensors;\n",
    "import Random\n",
    "\n",
    "rng1 = Random.Xoshiro(123)\n",
    "a = rand(rng1, 10)\n",
    "b = rand(rng1, 10)\n",
    "\n",
    "foo = InfluenceGraphGenerator(JointDistanceDistribution, alpha=0.001)\n",
    "\n",
    "foo.causal_function(a, b)"
   ]
  },
  {
   "cell_type": "code",
   "execution_count": null,
   "metadata": {},
   "outputs": [],
   "source": [
    "rng1 = Random.Xoshiro(123)\n",
    "a = rand(rng1, 10)\n",
    "b = rand(rng1, 10)\n",
    "\n",
    "foo = InfluenceGraphGenerator(JointDistanceDistribution, alpha=0.001)\n",
    "\n",
    "foo.causal_function(a, b)"
   ]
  },
  {
   "cell_type": "code",
   "execution_count": null,
   "metadata": {},
   "outputs": [],
   "source": [
    "rng1 = Random.Xoshiro(123)\n",
    "a = rand(rng1, 10)\n",
    "b = rand(rng1, 10)\n",
    "\n",
    "foo = InfluenceGraphGenerator(JointDistanceDistribution, alpha=0.001)\n",
    "\n",
    "\n",
    "foo.causal_function(a, b)"
   ]
  },
  {
   "cell_type": "code",
   "execution_count": null,
   "metadata": {},
   "outputs": [],
   "source": [
    "a = SingleInfluenceGraph(undef, 2, 2)\n",
    "foo1 = [ 1 2; 3 4]\n",
    "foo2_ = [0.1 0.3; 2.1 3.1]\n",
    "foo3 = [0 0; 2 1]\n",
    "foo4 = [0 3; 1 0]\n",
    "a[1, 1] = foo1\n",
    "a[1, 2] = foo2_\n",
    "a[2, 1] = foo3\n",
    "a[2, 2] = foo4\n",
    "\n",
    "N_actions = 2\n",
    "cuttoff = 0.5\n",
    "edge_number = zeros(4)\n",
    "\n",
    "linear_index = 0\n",
    "for i = 1:N_actions, j = 1:N_actions\n",
    "    linear_index += 1\n",
    "    simplifier = x -> (x[i, j] > cuttoff)\n",
    "    edge_number[linear_index] = sum(simplifier.(a))\n",
    "end"
   ]
  },
  {
   "cell_type": "code",
   "execution_count": null,
   "metadata": {},
   "outputs": [],
   "source": [
    "simplifier = x -> (x[1, 1] > cuttoff)\n",
    "sum(simplifier.(a))"
   ]
  },
  {
   "cell_type": "code",
   "execution_count": null,
   "metadata": {},
   "outputs": [],
   "source": [
    "edge_number = Matrix{Float64}(undef, 3, 5)\n",
    "edge_number[1,:] = collect(1:5)\n",
    "edge_number[2,:] = collect(6:10)\n",
    "edge_number[3,:] = collect(11:15)\n",
    "\n",
    "reorder = [2,1,3]\n",
    "edge_number[reorder, :]"
   ]
  },
  {
   "cell_type": "code",
   "execution_count": null,
   "metadata": {},
   "outputs": [],
   "source": [
    "edge_number"
   ]
  },
  {
   "cell_type": "code",
   "execution_count": null,
   "metadata": {},
   "outputs": [],
   "source": [
    "edge_number ./= sum(edge_number, dims=2)"
   ]
  },
  {
   "cell_type": "code",
   "execution_count": null,
   "metadata": {},
   "outputs": [],
   "source": [
    "edge_number[3,:] .* 65"
   ]
  },
  {
   "cell_type": "code",
   "execution_count": null,
   "metadata": {},
   "outputs": [],
   "source": [
    "using DataFrames\n",
    "\n",
    "include(\"../Sensors/Sensors.jl\")\n",
    "include(\"../PreProcessing/PreProcessing.jl\")\n",
    "include(\"../Utils/Helpers.jl\")\n",
    "include(\"../Utils/Visualizations.jl\")\n",
    "using .Sensors, .PreProcessing, .Visualizations, .Helpers;\n",
    "\n",
    "datafolder = \"../../Data/Twitter/Random_days_processed_lightweight/\"\n",
    "datafiles = [file for file in readdir(datafolder) if occursin(\".json\", file)]\n",
    "frames = [load_json(datafolder * file) for file in datafiles]\n",
    "data = vcat(frames...);"
   ]
  },
  {
   "cell_type": "code",
   "execution_count": null,
   "metadata": {},
   "outputs": [],
   "source": [
    "partition_func = no_partition\n",
    "action_func = trust_score\n",
    "actor_func = follower_count\n",
    "\n",
    "agents = PreProcessingAgents(partition_func, action_func, actor_func)\n",
    "df, partitions, actions, actors = preprocessing(data, agents);"
   ]
  },
  {
   "cell_type": "code",
   "execution_count": null,
   "metadata": {},
   "outputs": [],
   "source": [
    "length(df[!,1])"
   ]
  },
  {
   "cell_type": "code",
   "execution_count": null,
   "metadata": {},
   "outputs": [],
   "source": [
    "plot_action_frequency(df, save=false, filename=\"../../Results/action_frequency.pdf\");"
   ]
  },
  {
   "cell_type": "code",
   "execution_count": null,
   "metadata": {},
   "outputs": [],
   "source": [
    "using Dates\n",
    "\n",
    "a = DateTime(2021, 10, 26, 11, 34, 21)\n",
    "b = DateTime(2021, 10, 28, 11, 34, 21)\n",
    "c = DateTime(2021, 09, 11, 10, 23, 11)\n",
    "d = DateTime(2021, 10, 26, 3, 23, 12)\n",
    "e = DateTime(2021, 10, 26, 4, 23, 12)\n",
    "f = DateTime(2021, 10, 28, 2, 34, 21)\n",
    "\n",
    "data = sort([a,b,c,d,e,f])"
   ]
  },
  {
   "cell_type": "code",
   "execution_count": null,
   "metadata": {},
   "outputs": [],
   "source": [
    "using DataFrames\n",
    "\n",
    "foo = DataFrame(Dict(\"created_at\" => data))"
   ]
  },
  {
   "cell_type": "code",
   "execution_count": null,
   "metadata": {},
   "outputs": [],
   "source": [
    "data = foo\n",
    "\n",
    "# Remove possible rows without url domain, and convert string dates to datetimes\n",
    "if eltype(data.\"created_at\") == String\n",
    "    to_datetime = x -> DateTime(split(x, '.')[1], \"yyyy-mm-ddTHH:MM:SS\")\n",
    "    data.\"created_at\" = to_datetime.(data.\"created_at\")\n",
    "end\n",
    "\n",
    "# Shift the random days in the data so that they are consecutive (but we don't touch the time part)\n",
    "days = Date.(data.created_at)\n",
    "unique_days = sort(unique(days))\n",
    "proxy_dates = Vector{DateTime}(undef, length(data.created_at))\n",
    "current_day = minimum(unique_days)\n",
    "\n",
    "for day in unique_days\n",
    "    indices = findall(days .== day)\n",
    "    for ind in indices\n",
    "        proxy_dates[ind] = DateTime(current_day, Time(data.created_at[ind]))\n",
    "    end\n",
    "    current_day += Day(1)\n",
    "end\n",
    "\n",
    "data.created_at = proxy_dates\n",
    "\n",
    "data"
   ]
  },
  {
   "cell_type": "code",
   "execution_count": null,
   "metadata": {},
   "outputs": [],
   "source": [
    "foo = [\"bar\", \"foo\"]\n",
    "\n",
    "print(\"This is a test : $(foo...,)\")"
   ]
  },
  {
   "cell_type": "code",
   "execution_count": null,
   "metadata": {},
   "outputs": [],
   "source": [
    "foo"
   ]
  },
  {
   "cell_type": "code",
   "execution_count": null,
   "metadata": {},
   "outputs": [],
   "source": [
    "N = 189\n",
    "M = 23\n",
    "\n",
    "regex = r\"^[0-9]+ to [0-9]+ followers$\"\n",
    "\n",
    "s = \"$N to $M followers\"\n",
    "s_adv = \"$N to $M follower\""
   ]
  },
  {
   "cell_type": "code",
   "execution_count": null,
   "metadata": {},
   "outputs": [],
   "source": [
    "N = 00045677\n",
    "M = 580789564\n",
    "\n",
    "regex = r\"^[0-9]+ to [0-9]+ followers$\"\n",
    "\n",
    "s = \"$N to $M followers\"\n",
    "s_adv = \" $N o $M followers\"\n",
    "\n",
    "\n",
    "println(\"good test : $(occursin(regex, s))\")\n",
    "println(\"bad test : $(occursin(regex, s_adv))\")"
   ]
  },
  {
   "cell_type": "code",
   "execution_count": null,
   "metadata": {},
   "outputs": [],
   "source": [
    "using Colors\n",
    "\n",
    "typeof(colorant\"white\") <: RGB"
   ]
  },
  {
   "cell_type": "code",
   "execution_count": null,
   "metadata": {},
   "outputs": [],
   "source": [
    "nodefillc = distinguishable_colors(12, colorant\"blue\")"
   ]
  },
  {
   "cell_type": "code",
   "execution_count": null,
   "metadata": {},
   "outputs": [],
   "source": [
    "include(\"../Engine/Engine.jl\")\n",
    "using .Engine\n",
    "\n",
    "using Dates, DataStructures\n",
    "import YAML;"
   ]
  },
  {
   "cell_type": "code",
   "execution_count": null,
   "metadata": {},
   "outputs": [],
   "source": [
    "datafolder = \"../../Data/Twitter/COP26_processed_lightweight/\"\n",
    "datafiles = [file for file in readdir(datafolder) if occursin(\".json\", file)]\n",
    "frames = [load_json(datafolder * file) for file in datafiles]\n",
    "data = vcat(frames...);\n",
    "\n",
    "\n",
    "partition_func = cop_26_dates\n",
    "action_func = trust_score\n",
    "actor_func = follower_count\n",
    "\n",
    "agents = PreProcessingAgents(partition_func, action_func, actor_func)\n",
    "\n",
    "hours = 2\n",
    "minutes = 0\n",
    "total_min = hours*60 + minutes\n",
    "\n",
    "cuttoff = 0.5\n",
    "tsg = TimeSeriesGenerator(Minute(total_min), standardize=true)\n",
    "ig = InfluenceGraphGenerator()\n",
    "icg = InfluenceCascadeGenerator(cuttoff)\n",
    "\n",
    "pipeline = Pipeline(tsg, ig, icg)\n",
    "\n",
    "\n",
    "graphs, cascades = run_experiment(data, agents, pipeline, experiment_name=\"test\");\n",
    "\n",
    "\n",
    "\n"
   ]
  },
  {
   "cell_type": "code",
   "execution_count": null,
   "metadata": {},
   "outputs": [],
   "source": [
    "graphs1, cascades1, agents1, pipeline1 = load_data(\"../../Results/test/data.jld2\");"
   ]
  },
  {
   "cell_type": "code",
   "execution_count": null,
   "metadata": {},
   "outputs": [],
   "source": [
    "graphs == graphs1 && cascades == cascades1 && agents == agents1 && pipeline == pipeline1"
   ]
  },
  {
   "cell_type": "code",
   "execution_count": 1,
   "metadata": {},
   "outputs": [],
   "source": [
    "include(\"../Engine/Engine.jl\")\n",
    "using .Engine\n",
    "\n",
    "import PyPlot as plt\n",
    "import Seaborn as sns"
   ]
  },
  {
   "cell_type": "code",
   "execution_count": 2,
   "metadata": {},
   "outputs": [],
   "source": [
    "\n",
    "graphs, cascade, agents, pipelines = load_data(\"/Users/cyrilvallez/Desktop/Thesis/Results/COP27_JDD_10_seeds/data.jld2\")\n",
    "df = load_dataset(COP27)\n",
    "agents = PreProcessingAgents(cop_27_dates)\n",
    "df, _, _, _ = preprocessing(df, agents);"
   ]
  },
  {
   "cell_type": "code",
   "execution_count": 3,
   "metadata": {},
   "outputs": [],
   "source": [
    "graphs2, cascade2, agents2, pipelines2 = load_data(\"/Users/cyrilvallez/Desktop/Thesis/Results/Random_JDD_10_seeds/data.jld2\")\n",
    "df2 = load_dataset(RandomDays)\n",
    "agents2 = PreProcessingAgents(no_partition)\n",
    "df2, _, _, _ = preprocessing(df2, agents2);"
   ]
  },
  {
   "cell_type": "code",
   "execution_count": 11,
   "metadata": {},
   "outputs": [
    {
     "data": {
      "image/png": "[encoded data removed]",
      "text/plain": [
       "PyPlot.Figure(PyObject <Figure size 640x480 with 1 Axes>)"
      ]
     },
     "metadata": {},
     "output_type": "display_data"
    }
   ],
   "source": [
    "\"\"\"\n",
    "Plot the different edge types count or proportion, for different partitions and/or datasets.\n",
    "\"\"\"\n",
    "function plot_edge_types2(graphs, dfs, cuttoffs; y::String = \"proportion\", log::Bool = true, save::Bool = false, filename = nothing, kwargs...)\n",
    "\n",
    "    if save && isnothing(filename)\n",
    "        throw(ArgumentError(\"You must provide a filename if you want to save the figure.\"))\n",
    "    end\n",
    "\n",
    "    if y != \"count\" && y != \"proportion\"\n",
    "        throw(ArgumentError(\"y must be \\\"count\\\" or \\\"proportion\\\".\"))\n",
    "    end\n",
    "\n",
    "    data = edge_types(graphs, dfs, cuttoffs)\n",
    "\n",
    "    plt.figure()\n",
    "    sns.barplot(data, x=\"edge_type\", y=y, hue=\"partition\", saturation=1, zorder=2; kwargs...)\n",
    "    plt.xlabel(\"Edge type\")\n",
    "    plt.ylabel(uppercasefirst(y) * \" of total number of edges\")\n",
    "    plt.legend()\n",
    "    plt.grid(true, which=\"major\", axis=\"y\", zorder=0)\n",
    "    if log\n",
    "        plt.yscale(\"log\")\n",
    "        plt.grid(true, which=\"minor\", axis=\"y\", zorder=0, alpha=0.4)\n",
    "    end\n",
    "    if save\n",
    "        plt.savefig(filename, bbox_inches=\"tight\", dpi=400)\n",
    "    end\n",
    "    return plt.gcf()\n",
    "\n",
    "end\n",
    "\n",
    "\n",
    "plot_edge_types2([graphs, graphs2], [df, df2], [0, 0], hue_order=[\"Before COP27\", \"During COP27\", \"After COP27\", \"Control\"], log=false, y=\"count\");#, errorbar=x->(minimum(x), maximum(x)))"
   ]
  },
  {
   "cell_type": "code",
   "execution_count": 13,
   "metadata": {},
   "outputs": [
    {
     "data": {
      "text/plain": [
       "1066.6666666666667"
      ]
     },
     "execution_count": 13,
     "metadata": {},
     "output_type": "execute_result"
    }
   ],
   "source": [
    "3200/3"
   ]
  },
  {
   "cell_type": "code",
   "execution_count": null,
   "metadata": {},
   "outputs": [],
   "source": [
    "sns.barplot(foo, x=\"edge_type\", y=\"count\", hue=\"partition\", saturation=1)"
   ]
  },
  {
   "cell_type": "code",
   "execution_count": null,
   "metadata": {},
   "outputs": [],
   "source": [
    "import Seaborn as sns\n",
    "sns.barplot(foo2, x=\"edge_type\", y=\"count\", hue=\"partition\")"
   ]
  },
  {
   "cell_type": "code",
   "execution_count": null,
   "metadata": {},
   "outputs": [],
   "source": [
    "using DataFrames\n",
    "a = Dict(\"x\" => [1,1,2,3], \"y\" => [2,3,4,5])\n",
    "\n",
    "sns.barplot(a, x=\"x\", y=\"y\")"
   ]
  },
  {
   "cell_type": "code",
   "execution_count": null,
   "metadata": {},
   "outputs": [],
   "source": [
    "include(\"../Utils/entropy.jl\")\n"
   ]
  }
 ],
 "metadata": {
  "kernelspec": {
   "display_name": "Julia 1.8.1",
   "language": "julia",
   "name": "julia-1.8"
  },
  "language_info": {
   "file_extension": ".jl",
   "mimetype": "application/julia",
   "name": "julia",
   "version": "1.8.1"
  },
  "orig_nbformat": 4,
  "vscode": {
   "interpreter": {
    "hash": "d414a8e85e9c5ccdc8812887eb84d5216e7e6e9c9aa8c61fc7e614ebeebe649a"
   }
  }
 },
 "nbformat": 4,
 "nbformat_minor": 2
}
