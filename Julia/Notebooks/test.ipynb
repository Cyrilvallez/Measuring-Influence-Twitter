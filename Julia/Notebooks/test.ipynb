{
 "cells": [
  {
   "cell_type": "code",
   "execution_count": null,
   "metadata": {},
   "outputs": [],
   "source": [
    "using CausalityTools\n",
    "include(\"../entropy.jl\")\n",
    "using Random\n",
    "using BenchmarkTools\n",
    "\n",
    "rng = MersenneTwister(145)\n",
    "\n",
    "a = rand(rng, 0:10, 100)\n",
    "b = rand(rng, 0:10, 100)\n",
    "\n",
    "est = Kraskov(k=1)\n",
    "\n",
    "print(\"Current method :\")\n",
    "foo = @btime TE(Int.(a .> 0), Int.(b .> 0))\n",
    "println(\"The result is $foo.\\n\")\n",
    "\n",
    "\n",
    "print(\"True transfer entropy :\")\n",
    "a = float.(a)\n",
    "b = float.(b)\n",
    "foo2 = @btime transferentropy(a, b, est)\n",
    "println(\"The result is $foo2.\\n\")\n",
    "\n",
    "print(\"CCM :\")\n",
    "foo3 = @btime crossmap(a, b, 2, 1)\n",
    "println(\"The result is $foo3.\\n\")"
   ]
  },
  {
   "cell_type": "code",
   "execution_count": null,
   "metadata": {},
   "outputs": [],
   "source": [
    "using StatsBase\n",
    "\n",
    "a = [1 1 1 1 0 0]\n",
    "b = [1 1 0 0 0 1]\n",
    "\n",
    "countmap(a)"
   ]
  },
  {
   "cell_type": "code",
   "execution_count": null,
   "metadata": {},
   "outputs": [],
   "source": [
    "foo = [(a[i+1], a[i], b[i]) for i = 1:(length(a)-1)]\n"
   ]
  },
  {
   "cell_type": "code",
   "execution_count": null,
   "metadata": {},
   "outputs": [],
   "source": [
    "proportionmap(foo) "
   ]
  },
  {
   "cell_type": "code",
   "execution_count": null,
   "metadata": {},
   "outputs": [],
   "source": [
    "include(\"../Utils/entropy.jl\")\n",
    "\n",
    "\n",
    "function transfer_entropy(X, Y)\n",
    "\n",
    "    N = length(X)\n",
    "    # configurations = [(Y[i+1], Y[i], X[i]) for i = 1:(N-1)]\n",
    "    configurations = [(Y[i], Y[i-1], X[i-1]) for i = 2:N]\n",
    "    states = proportionmap(configurations)\n",
    "\n",
    "    tot = 0\n",
    "\n",
    "    for state in keys(states)\n",
    "        state_proba = states[state]\n",
    "        # P_Yn_Xn = sum((Y .== state[2]) .& (X .== state[3])) / N\n",
    "        # P_Yn1_Yn = sum((Y[2:end] .== state[1]) .& (Y[1:(end-1)] .== state[2])) / (N - 1)\n",
    "        P_Yn_Xn = sum((Y[2:end] .== state[2]) .& (X[2:end] .== state[3])) / (N-1)\n",
    "        P_Yn1_Yn = sum((Y[2:end] .== state[1]) .& (Y[1:(end-1)] .== state[2])) / (N - 1)\n",
    "        # P_Yn = sum(Y .== state[2]) / N\n",
    "        P_Yn = sum(Y[2:end] .== state[2]) / (N-1)\n",
    "\n",
    "        numerator = state_proba / P_Yn_Xn\n",
    "        denominator = P_Yn1_Yn / P_Yn\n",
    "\n",
    "        tot += state_proba * log(numerator / denominator)\n",
    "\n",
    "    end\n",
    "\n",
    "    return tot\n",
    "\n",
    "end\n",
    "\n",
    "\n",
    "# a = [1 1 1 1 0 0]\n",
    "# b = [1 1 0 0 0 1]\n",
    "\n",
    "# a = rand(0:1, 100)\n",
    "# b = rand(0:1, 100)\n",
    "\n",
    "println(\"TE : $(TE(a,b))\")\n",
    "println(\"new : $(transfer_entropy(a,b))\")"
   ]
  },
  {
   "cell_type": "code",
   "execution_count": null,
   "metadata": {},
   "outputs": [],
   "source": [
    "X, Y = a, b\n",
    "configurations = [(Y[i], Y[i-1], X[i-1]) for i = 2:length(X)]\n",
    "states = proportionmap(configurations)"
   ]
  },
  {
   "cell_type": "code",
   "execution_count": null,
   "metadata": {},
   "outputs": [],
   "source": [
    "using CausalityTools\n",
    "using StatsBase\n",
    "\n",
    "func(x,y) = pvalue(jdd(OneSampleTTest, x, y, B=10, D=5, τ=1, μ0=0.0), tail=:right)\n",
    "\n",
    "a = Vector{Int}(undef, 100)\n",
    "b = Vector{Int}(undef, 100)\n",
    "\n",
    "a[1:2:end] .= 0\n",
    "a[2:2:end] .= 1\n",
    "a[end-10:end] .= 2\n",
    "\n",
    "b[1:2:end] .= 1\n",
    "b[2:2:end] .= 0\n",
    "b[end-10:end] .= 4\n",
    "\n",
    "a = (a .- mean(a)) / std(a)\n",
    "a = (b .- mean(b)) / std(b)\n",
    "\n",
    "a = rand(0:3, 100)\n",
    "b = rand(0:3, 100)\n",
    "\n",
    "func(a,b)"
   ]
  },
  {
   "cell_type": "code",
   "execution_count": null,
   "metadata": {},
   "outputs": [],
   "source": [
    "using Dates\n",
    "# using Revise\n",
    "import PlotlyJS\n",
    "\n",
    "include(\"../Sensors/Sensors.jl\")\n",
    "include(\"../PreProcessing/PreProcessing.jl\")\n",
    "include(\"../Utils/Helpers.jl\")\n",
    "include(\"../Utils/Visualizations.jl\")\n",
    "using .Sensors, .PreProcessing, .Visualizations, .Helpers;\n",
    "\n",
    "datafolder = \"../../Data/Twitter/COP26_processed_lightweight/\"\n",
    "datafiles = [file for file in readdir(datafolder) if occursin(\".json\", file)]\n",
    "frames = [load_json(datafolder * file) for file in datafiles]\n",
    "data = vcat(frames...)\n",
    "\n",
    "data = data[.~ismissing.(data.\"domain\"), :]\n",
    "\n",
    "to_datetime = x -> DateTime(split(x, '.')[1], \"yyyy-mm-ddTHH:MM:SS\")\n",
    "data.\"created_at\" = to_datetime.(data.\"created_at\");"
   ]
  },
  {
   "cell_type": "code",
   "execution_count": null,
   "metadata": {},
   "outputs": [],
   "source": [
    "data.time_bin .= 0"
   ]
  },
  {
   "cell_type": "code",
   "execution_count": null,
   "metadata": {},
   "outputs": [],
   "source": [
    "show(data[:, [3, 4, 5,6]])"
   ]
  },
  {
   "cell_type": "code",
   "execution_count": null,
   "metadata": {},
   "outputs": [],
   "source": [
    "import PyPlot as plt\n",
    "\n",
    "rng = MersenneTwister(145)\n",
    "\n",
    "a = rand(rng, 0:10, 100)\n",
    "b = rand(rng, 0:10, 100)\n",
    "\n",
    "a = float.(a)\n",
    "b = float.(b)\n",
    "\n",
    "Ls = [10:5:50; 60:10:100]\n",
    "\n",
    "@btime begin\n",
    "    test = [crossmap(a[1:L], b[1:L], 2, 1) for L in Ls]\n",
    "    test2 = [crossmap(b[1:L], a[1:L], 2, 1) for L in Ls]\n",
    "end\n",
    "\n",
    "plt.figure()\n",
    "plt.plot(Ls, test, \"b-\", label=\"a to b\")\n",
    "plt.plot(Ls, test2, \"r-\", label=\"b to a\")\n",
    "plt.legend()\n",
    "show(plt.gcf())"
   ]
  },
  {
   "cell_type": "code",
   "execution_count": null,
   "metadata": {},
   "outputs": [],
   "source": [
    "using CausalityTools\n",
    "\n",
    "s_measure()"
   ]
  },
  {
   "cell_type": "code",
   "execution_count": null,
   "metadata": {},
   "outputs": [],
   "source": [
    "using CausalityTools\n",
    "\n",
    "# A two-dimensional Ulam lattice map\n",
    "sys = ulam(2)\n",
    "\n",
    "# Sample 1000 points after discarding 5000 transients\n",
    "orbit = trajectory(sys, 1000, Ttr = 5000)\n",
    "x, y = orbit[:, 1], orbit[:, 2]\n",
    "\n",
    "# 4-dimensional embedding for `x`, 5-dimensional embedding for `y`\n",
    "s_measure(x, y, dx = 4, τx = 3, dy = 5, τy = 1)"
   ]
  },
  {
   "cell_type": "code",
   "execution_count": null,
   "metadata": {},
   "outputs": [],
   "source": [
    "using DelayEmbeddings\n",
    "\n",
    "a = collect(1:100)\n",
    "p = embed(a, 2, 5)"
   ]
  },
  {
   "cell_type": "code",
   "execution_count": null,
   "metadata": {},
   "outputs": [],
   "source": [
    "using Neighborhood\n",
    "\n",
    "a = [0, 1.2, 0.1, 0.8]\n",
    "b = [0, 0, 1.8, 0.8]\n",
    "\n",
    "\n",
    "X = embed(a, 2, 1)\n",
    "Y = embed(b, 2, 1)\n",
    "\n",
    "treeX = searchstructure(KDTree, X, Euclidean())\n",
    "treeY = searchstructure(KDTree, Y, Euclidean())\n",
    "neighborhoodtype, theiler = NeighborNumber(1), Theiler(0)\n",
    "idxs_X = bulkisearch(treeX, X, neighborhoodtype, theiler)\n",
    "idxs_Y = bulkisearch(treeY, Y, neighborhoodtype, theiler)\n",
    "\n",
    "print(idxs_Y)"
   ]
  },
  {
   "cell_type": "code",
   "execution_count": null,
   "metadata": {},
   "outputs": [],
   "source": [
    "using CausalityTools\n",
    "using BenchmarkTools\n",
    "\n",
    "include(\"../Utils/entropy.jl\")\n",
    "\n",
    "x = rand(0:10, 50)\n",
    "y = rand(0:10, 50)\n",
    "\n",
    "@btime s_measure(float(x), float(y), K=3, dx=5, dy=5, τx=1, τy=1)\n",
    "\n",
    "@btime TE(Int.(x .> 0), Int.(y .> 0))"
   ]
  },
  {
   "cell_type": "code",
   "execution_count": null,
   "metadata": {},
   "outputs": [],
   "source": [
    "using HypothesisTests\n",
    "\n",
    "x = rand(0:10, 50)\n",
    "y = rand(0:10, 50)\n",
    "\n",
    "@btime jdd(OneSampleTTest, x, y, B=10, D=2, τ=1)"
   ]
  },
  {
   "cell_type": "code",
   "execution_count": null,
   "metadata": {},
   "outputs": [],
   "source": [
    "source = collect(1:5)\n",
    "target = collect(11:15)\n",
    "\n",
    "D = 2\n",
    "B = 10\n",
    "τs = 1\n",
    "\n",
    "@btime Ex = DelayEmbeddings.embed(source, D, τs)\n",
    "Ey = DelayEmbeddings.embed(target, D, τs)\n",
    "Mx = DelayEmbeddings.Matrix(Ex)\n",
    "My = DelayEmbeddings.Matrix(Ey)"
   ]
  },
  {
   "cell_type": "code",
   "execution_count": null,
   "metadata": {},
   "outputs": [],
   "source": [
    "import DelayEmbeddings\n",
    "\n",
    "source = collect(1:5)\n",
    "target = collect(11:15)\n",
    "\n",
    "D = 2\n",
    "B = 10\n",
    "τ = 1\n",
    "\n",
    "js = ([1 for i = 1:D]...,)\n",
    "τs = (collect(0:-τ:-(D-1)*τ)...,)\n",
    "\n",
    "Ex = DelayEmbeddings.genembed(source, τs, js)\n",
    "Ey = DelayEmbeddings.genembed(target, τs, js)\n",
    "Mx = DelayEmbeddings.Matrix(Ex)\n",
    "My = DelayEmbeddings.Matrix(Ey)"
   ]
  },
  {
   "cell_type": "code",
   "execution_count": null,
   "metadata": {},
   "outputs": [],
   "source": [
    "Matrix(Ex) "
   ]
  },
  {
   "cell_type": "code",
   "execution_count": null,
   "metadata": {},
   "outputs": [],
   "source": [
    "foo = [0 1; 2 0]\n",
    "LinearIndices(foo[foo .> 0])"
   ]
  },
  {
   "cell_type": "code",
   "execution_count": null,
   "metadata": {},
   "outputs": [],
   "source": [
    "My"
   ]
  },
  {
   "cell_type": "code",
   "execution_count": null,
   "metadata": {},
   "outputs": [],
   "source": [
    "Mx"
   ]
  },
  {
   "cell_type": "code",
   "execution_count": null,
   "metadata": {},
   "outputs": [],
   "source": [
    "using Distances\n",
    "\n",
    "pairwise(Euclidean(), Mx, Mx, dims=1)"
   ]
  },
  {
   "cell_type": "code",
   "execution_count": null,
   "metadata": {},
   "outputs": [],
   "source": [
    "Euclidean()([2,1], [3,2])"
   ]
  },
  {
   "cell_type": "code",
   "execution_count": null,
   "metadata": {},
   "outputs": [],
   "source": [
    "using BenchmarkTools\n",
    "using CausalityTools\n",
    "\n",
    "include(\"../Utils/entropy.jl\")\n",
    "\n",
    "B = 10\n",
    "d = 3\n",
    "τ = 1\n",
    "alpha = 0.001\n",
    "\n",
    "K = 3\n",
    "dx = 3\n",
    "dy = 3\n",
    "τx = 1\n",
    "τy = 1\n",
    "\n",
    "cuttoff = 0.5\n",
    "cuttoff2 = 0.01\n",
    "\n",
    "func1(x, y) = pvalue(jdd(OneSampleTTest, x, y, B=B, D=d, τ=τ, μ0=0.0), tail=:right) < alpha ? 1 : 0\n",
    "func2(x, y) = TE(Int.(x .> 0), Int.(y .> 0)) > cuttoff ? 1 : 0\n",
    "func3(x,y) = s_measure(float(x), float(y), K=K, dx=dx, dy=dy, τx=τx, τy=τy) > cuttoff2 ? 1 : 0\n",
    "\n",
    "tot1 = 0\n",
    "tot2 = 0\n",
    "tot3 = 0\n",
    "nans = 0\n",
    "for i = 1:100\n",
    "    x = rand(0:10, 30)\n",
    "    y = rand(0:10, 30)\n",
    "\n",
    "    tot1 += func1(x ,y)\n",
    "    tot2 += func2(x ,y)\n",
    "    tot3 += func3(x ,y)\n",
    "end\n",
    "\n",
    "println(\"jdd : $tot1\")\n",
    "println(\"TE : $tot2\")\n",
    "println(\"s measure : $tot3\")"
   ]
  },
  {
   "cell_type": "code",
   "execution_count": null,
   "metadata": {},
   "outputs": [],
   "source": [
    "using BenchmarkTools\n",
    "using CausalityTools\n",
    "using StatsBase: minimum, maximum, mean, std\n",
    "\n",
    "function standardize(x)\n",
    "    std_ = std(x, dims=1)\n",
    "    return (x .- mean(x, dims=1)) ./ ifelse.(std_ .> 0, std_, ones(size(std_)))\n",
    "end\n",
    "\n",
    "B = 10\n",
    "d = 3\n",
    "τ = 1\n",
    "alpha = 0.001\n",
    "\n",
    "cuttoff = 0.5\n",
    "cuttoff2 = 0.01\n",
    "\n",
    "Nts = 13*24*2\n",
    "\n",
    "func(x, y) = pvalue(jdd(OneSampleTTest, x, y, B=B, D=d, τ=τ, μ0=0.0), tail=:right) < alpha ? 1 : 0\n",
    "\n",
    "tot = 0\n",
    "\n",
    "for i = 1:10000\n",
    "    x = standardize(rand(0:10, Nts))\n",
    "    y = standardize(rand(0:10, Nts))\n",
    "\n",
    "    # x = rand(0:10, Nts)\n",
    "    # y = rand(0:10, Nts)\n",
    "\n",
    "    tot += func(x ,y)\n",
    "end\n",
    "\n",
    "println(\"jdd : $tot\")"
   ]
  },
  {
   "cell_type": "code",
   "execution_count": null,
   "metadata": {},
   "outputs": [],
   "source": [
    "using Dates\n",
    "# using Revise\n",
    "import PlotlyJS\n",
    "\n",
    "include(\"../Sensors/Sensors.jl\")\n",
    "include(\"../PreProcessing/PreProcessing.jl\")\n",
    "include(\"../Utils/Helpers.jl\")\n",
    "include(\"../Utils/Visualizations.jl\")\n",
    "using .Sensors, .PreProcessing, .Visualizations, .Helpers;\n"
   ]
  },
  {
   "cell_type": "code",
   "execution_count": null,
   "metadata": {},
   "outputs": [],
   "source": [
    "a = TimeSeriesGenerator(Minute(12), standardize=true)"
   ]
  },
  {
   "cell_type": "code",
   "execution_count": null,
   "metadata": {},
   "outputs": [],
   "source": [
    "using BenchmarkTools\n",
    "using CausalityTools\n",
    "using StatsBase\n",
    "\n",
    "function normalize(x)\n",
    "    return (x .- mean(x))/std(x)\n",
    "end\n",
    "\n",
    "\n",
    "B = 10\n",
    "d = 3\n",
    "τ = 1\n",
    "alpha = 0.001\n",
    "\n",
    "Nsurr = 50\n",
    "p_value_surr = Vector{Float64}(undef, Nsurr)\n",
    "\n",
    "func(x, y) = pvalue(jdd(OneSampleTTest, x, y, B=B, D=d, τ=τ, μ0=0.0), tail=:right)\n",
    "\n",
    "tot = 0\n",
    "eviter = 0\n",
    "\n",
    "for i = 1:1000\n",
    "    x = rand(0:10, 100)\n",
    "    y = rand(0:10, 100)\n",
    "\n",
    "    p = func(x, y)\n",
    "\n",
    "    if p < alpha\n",
    "\n",
    "        s = surrogenerator(x, RandomShuffle())\n",
    "\n",
    "        for i = 1:Nsurr\n",
    "            p_value_surr[i] = func(s(), y)\n",
    "            # p_value_surr[i] = func(rand(0:10, 100), y)\n",
    "        end\n",
    "\n",
    "        limit = quantile(p_value_surr, 0.01)/4\n",
    "        limit2 = minimum()\n",
    "\n",
    "        if p < limit\n",
    "            tot += 1\n",
    "            println(\"p : $p    limit: $limit     limit2: $(limit2)\")\n",
    "\n",
    "        else\n",
    "            eviter += 1\n",
    "        end\n",
    "\n",
    "    end\n",
    "\n",
    "    #= if p < alpha\n",
    "        tot += 1\n",
    "    end =#\n",
    "\n",
    "end\n",
    "\n",
    "println(\"jdd : $tot\")\n",
    "println(\"We removed : $eviter\")"
   ]
  },
  {
   "cell_type": "code",
   "execution_count": null,
   "metadata": {},
   "outputs": [],
   "source": [
    "println(quantile(p_value_surr, 0.01)/4)\n",
    "println(quantile(p_value_surr, 0.05)/4)\n",
    "confint(OneSampleTTest(p_value_surr), 0.0001)"
   ]
  },
  {
   "cell_type": "code",
   "execution_count": null,
   "metadata": {},
   "outputs": [],
   "source": [
    "x = 1:100\n",
    "y = 101:200\n",
    "\n",
    "p = func(x, y)\n",
    "\n",
    "if p < alpha\n",
    "\n",
    "    s = surrogenerator(x, RandomShuffle())\n",
    "\n",
    "    for i = 1:Nsurr\n",
    "        p_value_surr[i] = func(s(), y)\n",
    "        # p_value_surr[i] = func(rand(0:10, 100), y)\n",
    "    end\n",
    "\n",
    "    limit = minimum(p_value_surr)/2 #quantile(p_value_surr, 0.05)\n",
    "\n",
    "    println(\"p : $p    limit: $limit\")\n",
    "\n",
    "    if p < limit\n",
    "        tot += 1\n",
    "    end\n",
    "\n",
    "end"
   ]
  },
  {
   "cell_type": "code",
   "execution_count": null,
   "metadata": {},
   "outputs": [],
   "source": [
    "import PyPlot as plt\n",
    "using Distributions\n",
    "\n",
    "foo = fit_mle(Normal, p_value_surr)\n",
    "\n",
    "\n",
    "show(plt.hist(p_value_surr, bins=20))\n",
    "plt.plot(0:0.001:0.3, rand(foo, length(0:0.001:0.3)), \"-r\")\n",
    "foo"
   ]
  },
  {
   "cell_type": "code",
   "execution_count": null,
   "metadata": {},
   "outputs": [],
   "source": [
    "float.(p_value_surr)"
   ]
  },
  {
   "cell_type": "code",
   "execution_count": null,
   "metadata": {},
   "outputs": [],
   "source": [
    "d = Normal()\n",
    "x = rand(d, 100)\n",
    "\n"
   ]
  },
  {
   "cell_type": "code",
   "execution_count": null,
   "metadata": {},
   "outputs": [],
   "source": [
    "using CausalityTools\n",
    "\n",
    "a = float([1, 2, 3, [0 for i = 1:99]...])\n",
    "\n",
    "est = VisitationFrequency(RectangularBinning(2.))\n",
    "# est = NaiveKernel(1.8)\n",
    "# est = SymbolicPermutation()\n",
    "probabilities(a, est)"
   ]
  },
  {
   "cell_type": "code",
   "execution_count": null,
   "metadata": {},
   "outputs": [],
   "source": [
    "using CausalityTools\n",
    "\n",
    "a = float([1 for i = 1:100])\n",
    "b = float([1 for i = 1:100])\n",
    "\n",
    "# est = Kraskov(k=3)\n",
    "est = VisitationFrequency(RectangularBinning(10))\n",
    "# est = NaiveKernel(1.8)\n",
    "# est = SymbolicPermutation()\n",
    "# probabilities(a, est)\n",
    "transferentropy(a, b, est)"
   ]
  },
  {
   "cell_type": "code",
   "execution_count": null,
   "metadata": {},
   "outputs": [],
   "source": [
    "include(\"../Utils/entropy.jl\")\n",
    "using StatsBase: mean\n",
    "\n",
    "foo = []\n",
    "for i = 1:10000\n",
    "    a = rand(0:1, 26)\n",
    "    b = rand(0:1, 26)\n",
    "\n",
    "    push!(foo, TE(a, b))\n",
    "end\n",
    "\n",
    "maximum(foo)"
   ]
  },
  {
   "cell_type": "code",
   "execution_count": null,
   "metadata": {},
   "outputs": [],
   "source": [
    "sum(foo .> 0.5)"
   ]
  },
  {
   "cell_type": "code",
   "execution_count": null,
   "metadata": {},
   "outputs": [],
   "source": [
    "using CausalityTools\n",
    "\n",
    "a = collect(1:30)\n",
    "b = collect(51:80)\n",
    "\n",
    "a = [[0 for i in 1:30]..., a...]\n",
    "b = [[0 for i in 1:30]..., b...]\n",
    "\n",
    "B = 10\n",
    "d = 3\n",
    "τ = 5\n",
    "alpha = 0.001\n",
    "\n",
    "func(x,y) = pvalue(jdd(OneSampleTTest, x, y, B=B, D=d, τ=τ, μ0=0.0), tail=:right)\n",
    "func(a, b)"
   ]
  },
  {
   "cell_type": "code",
   "execution_count": null,
   "metadata": {},
   "outputs": [],
   "source": [
    "func2(x, y) = TE(Int.(x .> 0), Int.(y .> 0))\n",
    "\n",
    "nans = 0\n",
    "for i = 1:100\n",
    "    x = rand(0:10, 100)\n",
    "    y = rand(0:10, 100)\n",
    "\n",
    "    isnan(func2(x,y)) ? nans += 1 : nans += 0\n",
    "end\n",
    "\n",
    "nans"
   ]
  },
  {
   "cell_type": "code",
   "execution_count": null,
   "metadata": {},
   "outputs": [],
   "source": [
    "x = rand(0:10, 30)\n",
    "y = rand(0:10, 30)\n",
    "\n",
    "B = 10\n",
    "d = 3\n",
    "τ = 1\n",
    "alpha = 0.001\n",
    "\n",
    "func1(x, y) = pvalue(jdd(OneSampleTTest, x, y, B=B, D=d, τ=τ, μ0=0.0), tail=:right) < alpha ? 1 : 0\n",
    "@btime func1(x,y)"
   ]
  },
  {
   "cell_type": "code",
   "execution_count": null,
   "metadata": {},
   "outputs": [],
   "source": [
    "foo = zeros(3,3)\n",
    "try\n",
    "    a = minimum(foo[foo .> 0])\n",
    "catch\n",
    "    print(\"foo\")\n",
    "end"
   ]
  },
  {
   "cell_type": "code",
   "execution_count": null,
   "metadata": {},
   "outputs": [],
   "source": [
    "est = VisitationFrequency(RectangularBinning(10))\n",
    "\n",
    "n = 1000\n",
    "# Source and target variables\n",
    "s, t = rand(n), rand(n)\n",
    "\n",
    "\n",
    "est = NaiveKernel(0.3)\n",
    "@btime bbnue(s, t, est)"
   ]
  },
  {
   "cell_type": "code",
   "execution_count": null,
   "metadata": {},
   "outputs": [],
   "source": [
    "using CausalityTools\n",
    "\n",
    "a = float([[0 for i = 1:24]..., 1, [0 for i = 1:75]...])\n",
    "b = float([[0 for i = 1:36]..., 1, [0 for i = 1:63]...])\n",
    "\n",
    "a = (a .- mean(a)) / std(a)\n",
    "b = (b .- mean(b)) / std(b)\n",
    "\n",
    "transferentropy(a, b, Kraskov(k=3))"
   ]
  },
  {
   "cell_type": "code",
   "execution_count": null,
   "metadata": {},
   "outputs": [],
   "source": [
    "using Dates\n",
    "\n",
    "start_time = DateTime(2021, 10, 11, 13, 23, 12) \n",
    "end_time = DateTime(2021, 10, 28, 23, 29, 13) \n",
    "time_interval = Day(1)\n",
    "\n",
    "println(floor(start_time, time_interval))\n",
    "println(ceil(end_time, time_interval))"
   ]
  },
  {
   "cell_type": "code",
   "execution_count": null,
   "metadata": {},
   "outputs": [],
   "source": [
    "start_time = DateTime(2021, 10, 11, 13, 23, 12) \n",
    "end_time = DateTime(2021, 10, 28, 23, 29, 13) \n",
    "time_interval = Day(1)\n",
    "\n",
    "function create_time_intervals(start_time::DateTime, end_time::DateTime, time_interval::Period)\n",
    "\n",
    "    # Set beginning and end of interval by rounding\n",
    "    start_time = floor(start_time, time_interval)\n",
    "    end_time = ceil(end_time, time_interval)\n",
    "\n",
    "    intervals = [start_time]\n",
    "    \n",
    "    if end_time - start_time > time_interval\n",
    "        start = start_time\n",
    "        while start + time_interval < end_time\n",
    "            push!(intervals, start + time_interval)\n",
    "            start += time_interval\n",
    "        end\n",
    "    end\n",
    "            \n",
    "    push!(intervals, end_time)\n",
    "    \n",
    "    return intervals\n",
    "\n",
    "\n",
    "end\n",
    "\n",
    "create_time_intervals(start_time, end_time, time_interval)\n",
    "\n",
    "start_time"
   ]
  },
  {
   "cell_type": "code",
   "execution_count": null,
   "metadata": {},
   "outputs": [],
   "source": [
    "Minute <: Period"
   ]
  },
  {
   "cell_type": "code",
   "execution_count": null,
   "metadata": {},
   "outputs": [],
   "source": [
    "using DataFrames\n",
    "using Dates\n",
    "include(\"../Utils/Helpers.jl\")\n",
    "using .Helpers\n",
    "\n",
    "datafolder = \"../../Data/Twitter/COP26_processed_lightweight/\"\n",
    "datafiles = [file for file in readdir(datafolder) if occursin(\".json\", file)]\n",
    "frames = [load_json(datafolder * file) for file in datafiles]\n",
    "data = vcat(frames...)\n",
    "\n",
    "data = data[.~ismissing.(data.\"domain\"), :]\n",
    "\n",
    "to_datetime = x -> DateTime(split(x, '.')[1], \"yyyy-mm-ddTHH:MM:SS\")\n",
    "data.\"created_at\" = to_datetime.(data.\"created_at\");"
   ]
  },
  {
   "cell_type": "code",
   "execution_count": null,
   "metadata": {},
   "outputs": [],
   "source": [
    "start_time = minimum(data.created_at)\n",
    "println(start_time)\n",
    "println(floor(start_time, Minute))"
   ]
  },
  {
   "cell_type": "code",
   "execution_count": null,
   "metadata": {},
   "outputs": [],
   "source": [
    "end_time = maximum(data.created_at)\n",
    "println(end_time)\n",
    "println(ceil(end_time, Minute))"
   ]
  },
  {
   "cell_type": "code",
   "execution_count": null,
   "metadata": {},
   "outputs": [],
   "source": [
    "\n",
    "start_time = minimum(data.created_at)\n",
    "end_time = maximum(data.created_at)\n",
    "time_interval = Hour(5)\n",
    "\n",
    "function create_time_intervals(start_time::DateTime, end_time::DateTime, time_interval::Period)\n",
    "\n",
    "    # Set beginning and end of interval by rounding\n",
    "    start_time = floor(start_time, Minute)\n",
    "    end_time = ceil(end_time, Minute)\n",
    "\n",
    "    intervals = [start_time]\n",
    "    \n",
    "    if end_time - start_time > time_interval\n",
    "        start = start_time\n",
    "        while start + time_interval < end_time\n",
    "            push!(intervals, start + time_interval)\n",
    "            start += time_interval\n",
    "        end\n",
    "    end\n",
    "            \n",
    "    push!(intervals, end_time)\n",
    "    \n",
    "    return intervals\n",
    "\n",
    "\n",
    "end\n",
    "\n",
    "foo = create_time_intervals(start_time, end_time, time_interval)"
   ]
  },
  {
   "cell_type": "code",
   "execution_count": null,
   "metadata": {},
   "outputs": [],
   "source": [
    "length(foo) - 1"
   ]
  },
  {
   "cell_type": "code",
   "execution_count": null,
   "metadata": {},
   "outputs": [],
   "source": [
    "total_min = 5*60\n",
    "\n",
    "clean_dates = x -> floor(x, Dates.Minute(total_min))\n",
    "data.time = clean_dates.(data.\"created_at\")"
   ]
  },
  {
   "cell_type": "code",
   "execution_count": null,
   "metadata": {},
   "outputs": [],
   "source": [
    "a = Vector{Int}(undef, 2)"
   ]
  },
  {
   "cell_type": "code",
   "execution_count": null,
   "metadata": {},
   "outputs": [],
   "source": [
    "isassigned(a, 3)"
   ]
  },
  {
   "cell_type": "code",
   "execution_count": null,
   "metadata": {},
   "outputs": [],
   "source": [
    "using DataFrames\n",
    "using Dates\n",
    "include(\"../Utils/Helpers.jl\")\n",
    "using .Helpers\n",
    "include(\"../Sensors/Sensors.jl\")\n",
    "import .Sensors as sen\n",
    "\n",
    "datafolder = \"../../Data/Twitter/COP26_processed_lightweight/\"\n",
    "datafiles = [file for file in readdir(datafolder) if occursin(\".json\", file)]\n",
    "frames = [load_json(datafolder * file) for file in datafiles]\n",
    "data = vcat(frames...)\n",
    "\n",
    "data = data[.~ismissing.(data.\"domain\"), :]\n",
    "\n",
    "to_datetime = x -> DateTime(split(x, '.')[1], \"yyyy-mm-ddTHH:MM:SS\")\n",
    "data.\"created_at\" = to_datetime.(data.\"created_at\");\n",
    "\n"
   ]
  },
  {
   "cell_type": "code",
   "execution_count": null,
   "metadata": {},
   "outputs": [],
   "source": [
    "foo = x -> floor(x, Minute)\n",
    "time = foo.(data.created_at)"
   ]
  },
  {
   "cell_type": "code",
   "execution_count": null,
   "metadata": {},
   "outputs": [],
   "source": [
    "println(length(unique(time)))\n",
    "println(24*60*39)\n"
   ]
  },
  {
   "cell_type": "code",
   "execution_count": null,
   "metadata": {},
   "outputs": [],
   "source": [
    "13*24/2"
   ]
  },
  {
   "cell_type": "code",
   "execution_count": null,
   "metadata": {},
   "outputs": [],
   "source": [
    "5 ÷ 2"
   ]
  },
  {
   "cell_type": "code",
   "execution_count": null,
   "metadata": {},
   "outputs": [],
   "source": [
    "isodd(3)"
   ]
  },
  {
   "cell_type": "code",
   "execution_count": null,
   "metadata": {},
   "outputs": [],
   "source": [
    "include(\"../Sensors/Sensors.jl\")\n",
    "include(\"../Utils/Visualizations.jl\")\n",
    "using .Visualizations;\n",
    "import PyPlot as plt\n",
    "\n",
    "Nbar = 1\n",
    "x_length = 6\n",
    "width = 0.5\n",
    "spacing = 0.2\n",
    "\n",
    "Y = rand(Nbar, x_length)\n",
    "X, ticks = Visualizations.barplot_layout(Nbar, x_length, width=width, spacing=spacing)\n",
    "\n",
    "plt.figure()\n",
    "for i = 1:Nbar\n",
    "    plt.bar(X[i, :], Y[i, :], width=width, label=\"$i\", zorder=2)\n",
    "end\n",
    "plt.xticks(ticks)\n",
    "show(plt.gcf())"
   ]
  },
  {
   "cell_type": "code",
   "execution_count": null,
   "metadata": {},
   "outputs": [],
   "source": [
    "x = rand(4)\n",
    "[x... [0. for i = 1:3]...]"
   ]
  },
  {
   "cell_type": "code",
   "execution_count": null,
   "metadata": {},
   "outputs": [],
   "source": [
    "using Revise\n",
    "include(\"../Sensors/Sensors.jl\")\n",
    "include(\"../PreProcessing/PreProcessing.jl\")\n",
    "include(\"../Utils/Helpers.jl\")\n",
    "include(\"../Utils/Visualizations.jl\")\n",
    "using .Sensors, .PreProcessing, .Visualizations, .Helpers;\n",
    "\n",
    "a = [0.1 0.2;0.05 0.2]\n",
    "b = [0.8 0.2;0.6 0.1]\n",
    "c = [0.1 0.2;0.2 0]\n",
    "d = [0.9 0.2;0.6 0.7]\n",
    "e = [0 0;0 0]\n",
    "\n",
    "B = SingleInfluenceGraph(undef, 3, 3)\n",
    "\n",
    "B[1,1] = e\n",
    "B[1,2] = b\n",
    "B[1,3] = e\n",
    "B[2,1] = e\n",
    "B[2,2] = e\n",
    "B[2,3] = d\n",
    "B[3,1] = e\n",
    "B[3,2] = e\n",
    "B[3,3] = e\n",
    "\n",
    "cuttoff = 0.5\n",
    "icg = InfluenceCascadeGenerator(cuttoff, false)\n",
    "\n",
    "cascades_A = observe(B, icg)"
   ]
  },
  {
   "cell_type": "code",
   "execution_count": null,
   "metadata": {},
   "outputs": [],
   "source": [
    "B"
   ]
  },
  {
   "cell_type": "code",
   "execution_count": null,
   "metadata": {},
   "outputs": [],
   "source": [
    "include(\"../Sensors/Sensors.jl\")\n",
    "include(\"../PreProcessing/PreProcessing.jl\")\n",
    "include(\"../Utils/Helpers.jl\")\n",
    "include(\"../Utils/Visualizations.jl\")\n",
    "using .Sensors, .PreProcessing, .Visualizations, .Helpers;\n",
    "\n",
    "f = [1.2 0.3 0.; 0.7 0.3 0.3; 0. 0.6 0.]\n",
    "g = [0.3 0.3 0.3; 0.2 0.9 0.8; 0.3 0.9 0.]\n",
    "h = zeros(3,3)\n",
    "\n",
    "C = SingleInfluenceGraph(undef, 4, 4)\n",
    "\n",
    "for i in 1:size(C,1), j in 1:size(C,2)\n",
    "    C[i,j] = h\n",
    "end\n",
    "\n",
    "C[1, 4] = f\n",
    "C[2,1] = g\n",
    "C[3,4] = f\n",
    "C[4,1] = g\n",
    "\n",
    "D = SingleInfluenceGraph(undef, 4, 4)\n",
    "\n",
    "for i in 1:size(C,1), j in 1:size(C,2)\n",
    "    D[i,j] = h\n",
    "end\n",
    "\n",
    "D[1, 2] = f\n",
    "D[1, 4] = f\n",
    "D[2,3] = g\n",
    "D[3,2] = f\n",
    "D[4,2] = g\n",
    "\n",
    "cuttoff = 0.5\n",
    "icg = InfluenceCascadeGenerator(cuttoff, false)\n",
    "\n",
    "cascades = observe(D, icg)\n",
    "println(cascades[1].actor_edges)\n",
    "println(cascades[1].actors_per_level)"
   ]
  },
  {
   "cell_type": "code",
   "execution_count": null,
   "metadata": {},
   "outputs": [],
   "source": [
    "println(cascades[2].actor_edges)\n",
    "println(cascades[2].actors_per_level)"
   ]
  },
  {
   "cell_type": "code",
   "execution_count": null,
   "metadata": {},
   "outputs": [],
   "source": [
    "using DataStructures\n",
    "\n",
    "a = Queue{Int}()\n",
    "\n",
    "enqueue!(a, 2)\n",
    "enqueue!(a, 2)\n",
    "a"
   ]
  },
  {
   "cell_type": "code",
   "execution_count": null,
   "metadata": {},
   "outputs": [],
   "source": [
    "foo = dequeue!(a)"
   ]
  },
  {
   "cell_type": "code",
   "execution_count": null,
   "metadata": {},
   "outputs": [],
   "source": [
    "import Random\n",
    "\n",
    "rng = Random.Xoshiro(123)\n",
    "\n",
    "a = rand(rng, 10, 10)\n",
    "b = rand(rng, 10, 10)"
   ]
  },
  {
   "cell_type": "code",
   "execution_count": null,
   "metadata": {},
   "outputs": [],
   "source": [
    "rng1 = Random.Xoshiro(123)\n",
    "\n",
    "a1 = rand(rng1, 10, 10)\n",
    "b1 = rand(rng1, 10, 10)"
   ]
  },
  {
   "cell_type": "code",
   "execution_count": null,
   "metadata": {},
   "outputs": [],
   "source": [
    "b == b1"
   ]
  },
  {
   "cell_type": "code",
   "execution_count": null,
   "metadata": {},
   "outputs": [],
   "source": [
    "include(\"../Sensors/Sensors.jl\")\n",
    "using .Sensors;\n",
    "import Random\n",
    "\n",
    "rng1 = Random.Xoshiro(123)\n",
    "a = rand(rng1, 10)\n",
    "b = rand(rng1, 10)\n",
    "\n",
    "foo = InfluenceGraphGenerator(JointDistanceDistribution, alpha=0.001)\n",
    "\n",
    "foo.causal_function(a, b)"
   ]
  },
  {
   "cell_type": "code",
   "execution_count": null,
   "metadata": {},
   "outputs": [],
   "source": [
    "include(\"../Sensors/Sensors.jl\")\n",
    "using .Sensors;\n",
    "import Random\n",
    "\n",
    "rng1 = Random.Xoshiro(123)\n",
    "a = rand(rng1, 10)\n",
    "b = rand(rng1, 10)\n",
    "\n",
    "foo = InfluenceGraphGenerator(JointDistanceDistribution, alpha=0.001)\n",
    "\n",
    "foo.causal_function(a, b)"
   ]
  },
  {
   "cell_type": "code",
   "execution_count": null,
   "metadata": {},
   "outputs": [],
   "source": [
    "rng1 = Random.Xoshiro(123)\n",
    "a = rand(rng1, 10)\n",
    "b = rand(rng1, 10)\n",
    "\n",
    "foo = InfluenceGraphGenerator(JointDistanceDistribution, alpha=0.001)\n",
    "\n",
    "foo.causal_function(a, b)"
   ]
  },
  {
   "cell_type": "code",
   "execution_count": null,
   "metadata": {},
   "outputs": [],
   "source": [
    "rng1 = Random.Xoshiro(123)\n",
    "a = rand(rng1, 10)\n",
    "b = rand(rng1, 10)\n",
    "\n",
    "foo = InfluenceGraphGenerator(JointDistanceDistribution, alpha=0.001)\n",
    "\n",
    "\n",
    "foo.causal_function(a, b)"
   ]
  },
  {
   "cell_type": "code",
   "execution_count": null,
   "metadata": {},
   "outputs": [],
   "source": [
    "a = SingleInfluenceGraph(undef, 2, 2)\n",
    "foo1 = [ 1 2; 3 4]\n",
    "foo2_ = [0.1 0.3; 2.1 3.1]\n",
    "foo3 = [0 0; 2 1]\n",
    "foo4 = [0 3; 1 0]\n",
    "a[1, 1] = foo1\n",
    "a[1, 2] = foo2_\n",
    "a[2, 1] = foo3\n",
    "a[2, 2] = foo4\n",
    "\n",
    "N_actions = 2\n",
    "cuttoff = 0.5\n",
    "edge_number = zeros(4)\n",
    "\n",
    "linear_index = 0\n",
    "for i = 1:N_actions, j = 1:N_actions\n",
    "    linear_index += 1\n",
    "    simplifier = x -> (x[i, j] > cuttoff)\n",
    "    edge_number[linear_index] = sum(simplifier.(a))\n",
    "end"
   ]
  },
  {
   "cell_type": "code",
   "execution_count": null,
   "metadata": {},
   "outputs": [],
   "source": [
    "simplifier = x -> (x[1, 1] > cuttoff)\n",
    "sum(simplifier.(a))"
   ]
  },
  {
   "cell_type": "code",
   "execution_count": null,
   "metadata": {},
   "outputs": [],
   "source": [
    "edge_number = Matrix{Float64}(undef, 3, 5)\n",
    "edge_number[1,:] = collect(1:5)\n",
    "edge_number[2,:] = collect(6:10)\n",
    "edge_number[3,:] = collect(11:15)\n",
    "\n",
    "reorder = [2,1,3]\n",
    "edge_number[reorder, :]"
   ]
  },
  {
   "cell_type": "code",
   "execution_count": null,
   "metadata": {},
   "outputs": [],
   "source": [
    "edge_number"
   ]
  },
  {
   "cell_type": "code",
   "execution_count": null,
   "metadata": {},
   "outputs": [],
   "source": [
    "edge_number ./= sum(edge_number, dims=2)"
   ]
  },
  {
   "cell_type": "code",
   "execution_count": null,
   "metadata": {},
   "outputs": [],
   "source": [
    "edge_number[3,:] .* 65"
   ]
  },
  {
   "cell_type": "code",
   "execution_count": null,
   "metadata": {},
   "outputs": [],
   "source": [
    "using DataFrames\n",
    "\n",
    "include(\"../Sensors/Sensors.jl\")\n",
    "include(\"../PreProcessing/PreProcessing.jl\")\n",
    "include(\"../Utils/Helpers.jl\")\n",
    "include(\"../Utils/Visualizations.jl\")\n",
    "using .Sensors, .PreProcessing, .Visualizations, .Helpers;\n",
    "\n",
    "datafolder = \"../../Data/Twitter/Random_days_processed_lightweight/\"\n",
    "datafiles = [file for file in readdir(datafolder) if occursin(\".json\", file)]\n",
    "frames = [load_json(datafolder * file) for file in datafiles]\n",
    "data = vcat(frames...);"
   ]
  },
  {
   "cell_type": "code",
   "execution_count": null,
   "metadata": {},
   "outputs": [],
   "source": [
    "partition_func = no_partition\n",
    "action_func = trust_score\n",
    "actor_func = follower_count\n",
    "\n",
    "agents = PreProcessingAgents(partition_func, action_func, actor_func)\n",
    "df, partitions, actions, actors = preprocessing(data, agents);"
   ]
  },
  {
   "cell_type": "code",
   "execution_count": null,
   "metadata": {},
   "outputs": [],
   "source": [
    "length(df[!,1])"
   ]
  },
  {
   "cell_type": "code",
   "execution_count": null,
   "metadata": {},
   "outputs": [],
   "source": [
    "plot_action_frequency(df, save=false, filename=\"../../Results/action_frequency.pdf\");"
   ]
  },
  {
   "cell_type": "code",
   "execution_count": null,
   "metadata": {},
   "outputs": [],
   "source": [
    "using Dates\n",
    "\n",
    "a = DateTime(2021, 10, 26, 11, 34, 21)\n",
    "b = DateTime(2021, 10, 28, 11, 34, 21)\n",
    "c = DateTime(2021, 09, 11, 10, 23, 11)\n",
    "d = DateTime(2021, 10, 26, 3, 23, 12)\n",
    "e = DateTime(2021, 10, 26, 4, 23, 12)\n",
    "f = DateTime(2021, 10, 28, 2, 34, 21)\n",
    "\n",
    "data = sort([a,b,c,d,e,f])"
   ]
  },
  {
   "cell_type": "code",
   "execution_count": null,
   "metadata": {},
   "outputs": [],
   "source": [
    "using DataFrames\n",
    "\n",
    "foo = DataFrame(Dict(\"created_at\" => data))"
   ]
  },
  {
   "cell_type": "code",
   "execution_count": null,
   "metadata": {},
   "outputs": [],
   "source": [
    "data = foo\n",
    "\n",
    "# Remove possible rows without url domain, and convert string dates to datetimes\n",
    "if eltype(data.\"created_at\") == String\n",
    "    to_datetime = x -> DateTime(split(x, '.')[1], \"yyyy-mm-ddTHH:MM:SS\")\n",
    "    data.\"created_at\" = to_datetime.(data.\"created_at\")\n",
    "end\n",
    "\n",
    "# Shift the random days in the data so that they are consecutive (but we don't touch the time part)\n",
    "days = Date.(data.created_at)\n",
    "unique_days = sort(unique(days))\n",
    "proxy_dates = Vector{DateTime}(undef, length(data.created_at))\n",
    "current_day = minimum(unique_days)\n",
    "\n",
    "for day in unique_days\n",
    "    indices = findall(days .== day)\n",
    "    for ind in indices\n",
    "        proxy_dates[ind] = DateTime(current_day, Time(data.created_at[ind]))\n",
    "    end\n",
    "    current_day += Day(1)\n",
    "end\n",
    "\n",
    "data.created_at = proxy_dates\n",
    "\n",
    "data"
   ]
  },
  {
   "cell_type": "code",
   "execution_count": null,
   "metadata": {},
   "outputs": [],
   "source": [
    "foo = [\"bar\", \"foo\"]\n",
    "\n",
    "print(\"This is a test : $(foo...,)\")"
   ]
  },
  {
   "cell_type": "code",
   "execution_count": null,
   "metadata": {},
   "outputs": [],
   "source": [
    "foo"
   ]
  },
  {
   "cell_type": "code",
   "execution_count": null,
   "metadata": {},
   "outputs": [],
   "source": [
    "include(\"../Engine/Engine.jl\")\n",
    "using .Engine\n",
    "\n",
    "import PyPlot as plt\n",
    "import Seaborn as sns"
   ]
  },
  {
   "cell_type": "code",
   "execution_count": null,
   "metadata": {},
   "outputs": [],
   "source": [
    "\n",
    "graphs, cascade, df = load_data(\"/Users/cyrilvallez/Desktop/Thesis/Results/COP26_JDD_10_seeds/data.jld2\");"
   ]
  },
  {
   "cell_type": "code",
   "execution_count": null,
   "metadata": {},
   "outputs": [],
   "source": [
    "using Graphs, SimpleWeightedGraphs, GraphPlot\n",
    "\n",
    "actions = sort(unique(df.action))\n",
    "actors = sort(unique(df.actor))\n",
    "partitions = sort(unique(df.partition))\n",
    "\n",
    "simplifier = x -> Int.(x[findfirst(actions .== \"U\"), findfirst(actions .== \"U\")] > 0)\n",
    "adjacencies = [graphs[i][findfirst(partitions .== \"During COP26\")] for i = 1:length(graphs)]\n",
    "U_U_graphs = [simplifier.(graph) for graph in adjacencies]\n",
    "\n",
    "gs = [SimpleDiGraph(g) for g in U_U_graphs]"
   ]
  },
  {
   "cell_type": "code",
   "execution_count": null,
   "metadata": {},
   "outputs": [],
   "source": [
    "plot_graph(adjacencies[9], df, 0; edge_type=\"U to T\")"
   ]
  },
  {
   "cell_type": "code",
   "execution_count": null,
   "metadata": {},
   "outputs": [],
   "source": [
    "adjacencies[3][findfirst(actors .== \"DailyCaller\"), findfirst(actors .== \"RT_com\")]"
   ]
  },
  {
   "cell_type": "code",
   "execution_count": null,
   "metadata": {},
   "outputs": [],
   "source": [
    "# 2nd batch !!\n",
    "graphs2, cascade2,df2 = load_data(\"/Users/cyrilvallez/Desktop/Thesis/Results/Random_10_JDD_test/data.jld2\")"
   ]
  },
  {
   "cell_type": "code",
   "execution_count": null,
   "metadata": {},
   "outputs": [],
   "source": [
    "plot_edge_types([graphs, graphs2], [df, df2], [0, 0], hue_order=[\"Before COP27\", \"During COP27\", \"After COP27\", \"Control\"], y=\"count\", log=false);#, errorbar=x->(minimum(x), maximum(x)))"
   ]
  },
  {
   "cell_type": "code",
   "execution_count": null,
   "metadata": {},
   "outputs": [],
   "source": [
    "foo = edge_types([graphs, graphs2], [df, df2], [0, 0])\n",
    "ind = (foo[\"edge_type\"] .== \"U to T\" .&& foo[\"partition\"] .== \"Control\")\n",
    "foo[\"count\"][ind]"
   ]
  },
  {
   "cell_type": "code",
   "execution_count": null,
   "metadata": {},
   "outputs": [],
   "source": [
    "foo = edge_types([graphs, graphs2], [df, df2], [0, 0])\n",
    "ind = (foo[\"edge_type\"] .== \"T to T\" .&& foo[\"partition\"] .== \"Before COP26\")\n",
    "foo[\"count\"][ind]"
   ]
  },
  {
   "cell_type": "code",
   "execution_count": null,
   "metadata": {},
   "outputs": [],
   "source": [
    "using CausalityTools\n",
    "using Random\n",
    "include(\"../Utils/entropy.jl\")\n",
    "\n",
    "x = rand(1:10, 10)\n",
    "\n",
    "generator = surrogenerator(x, RandomShuffle())\n",
    "y = []\n",
    "for i = 1:10\n",
    "    push!(y, generator())\n",
    "end"
   ]
  },
  {
   "cell_type": "code",
   "execution_count": null,
   "metadata": {},
   "outputs": [],
   "source": [
    "generator = surrogenerator(x, RandomShuffle(), Random.Xoshiro(1234))\n",
    "Nsurro = 10\n",
    "z = rand(1:10, 10)\n",
    "y = Vector(undef, Nsurro)\n",
    "surros = []\n",
    "for i = 1:Nsurro\n",
    "    s = generator()\n",
    "    y[i] = TE(s, z)\n",
    "    push!(surros, copy(s))\n",
    "end"
   ]
  },
  {
   "cell_type": "code",
   "execution_count": null,
   "metadata": {},
   "outputs": [],
   "source": [
    "surros"
   ]
  },
  {
   "cell_type": "code",
   "execution_count": null,
   "metadata": {},
   "outputs": [],
   "source": [
    "foo = edge_types(graphs2, df2, 0)\n",
    "ind1 = foo[\"edge_type\"] .== \"U to T\"\n",
    "ind2 = foo[\"edge_type\"] .== \"T to T\"\n",
    "foo[\"count\"][ind1]"
   ]
  },
  {
   "cell_type": "code",
   "execution_count": null,
   "metadata": {},
   "outputs": [],
   "source": [
    "foo[\"count\"][ind2]"
   ]
  },
  {
   "cell_type": "code",
   "execution_count": null,
   "metadata": {},
   "outputs": [],
   "source": [
    "graphs2, cascade2, agents2, pipelines2 = load_data(\"/Users/cyrilvallez/Desktop/Thesis/Results/Random_10_JDD_test/data.jld2\")\n",
    "df2 = load_dataset(RandomDays)\n",
    "agents2 = PreProcessingAgents(no_partition)\n",
    "df2, _, _, _ = preprocessing(df2, agents2);\n",
    "\n",
    "\n",
    "plot_edge_types(graphs2, df2, 0, log=false, y=\"count\")"
   ]
  },
  {
   "cell_type": "code",
   "execution_count": null,
   "metadata": {},
   "outputs": [],
   "source": [
    "import YAML\n",
    "\n",
    "dic = Dict()"
   ]
  },
  {
   "cell_type": "code",
   "execution_count": null,
   "metadata": {},
   "outputs": [],
   "source": [
    "\n",
    "igg = InfluenceGraphGenerator(JointDistanceDistribution, alpha=1e-5, surrogate=nothing)\n",
    "# igg = InfluenceGraphGenerator(SimpleTE, alpha=1e-4, surrogate=nothing)\n",
    "\n",
    "\n",
    "test = []\n",
    "for i = 1:100000\n",
    "    x = rand(200)\n",
    "    y = rand(200)\n",
    "\n",
    "    measure = igg.causal_function(x, y)\n",
    "    push!(test, measure)\n",
    "\n",
    "end\n",
    "\n",
    "sum(test)"
   ]
  },
  {
   "cell_type": "code",
   "execution_count": null,
   "metadata": {},
   "outputs": [],
   "source": [
    "sum(test)"
   ]
  },
  {
   "cell_type": "code",
   "execution_count": null,
   "metadata": {},
   "outputs": [],
   "source": [
    "igg = InfluenceGraphGenerator(SimpleTE, surrogate=nothing)\n",
    "\n",
    "x = rand(200)\n",
    "y = rand(200)\n",
    "using BenchmarkTools\n",
    "\n",
    "@btime measure = igg.causal_function(x, y)"
   ]
  },
  {
   "cell_type": "code",
   "execution_count": null,
   "metadata": {},
   "outputs": [],
   "source": [
    "igg = InfluenceGraphGenerator(SimpleTE)\n",
    "\n",
    "x = rand(200)\n",
    "y = rand(200)\n",
    "using BenchmarkTools\n",
    "\n",
    "@btime measure = igg.causal_function(x, y)"
   ]
  },
  {
   "cell_type": "code",
   "execution_count": 1,
   "metadata": {},
   "outputs": [],
   "source": [
    "include(\"../Engine/Engine.jl\")\n",
    "using .Engine\n",
    "\n",
    "import PyPlot as plt\n",
    "using PyPlot: @L_str\n",
    "# using LaTeXStrings\n",
    "import Seaborn as sns\n",
    "import Random"
   ]
  },
  {
   "cell_type": "code",
   "execution_count": null,
   "metadata": {},
   "outputs": [],
   "source": [
    "using StatsBase\n",
    "Random.seed!(123)\n",
    "\n",
    "N = 1000\n",
    "N_seeds = 10\n",
    "seeds = sample(1:10000, N_seeds, replace=false)\n",
    "\n",
    "###################################### TE #############################\n",
    "\n",
    "X = [sample([0,1], AnalyticWeights([0.9, 0.1]), 200) for i = 1:N]\n",
    "Y = [sample([0,1], AnalyticWeights([0.9, 0.1]), 200) for i = 1:N]\n",
    "\n",
    "igg = InfluenceGraphGenerator(SimpleTE, surrogate=nothing)\n",
    "\n",
    "res = []\n",
    "for i = 1:N\n",
    "    push!(res, igg.causal_function(X[i], Y[i]))\n",
    "end"
   ]
  },
  {
   "cell_type": "code",
   "execution_count": null,
   "metadata": {},
   "outputs": [],
   "source": [
    "quantile(res, 0.9)"
   ]
  },
  {
   "cell_type": "code",
   "execution_count": null,
   "metadata": {},
   "outputs": [],
   "source": [
    "maximum(res)"
   ]
  },
  {
   "cell_type": "code",
   "execution_count": 42,
   "metadata": {},
   "outputs": [
    {
     "data": {
      "text/plain": [
       "10×6 Matrix{Float64}:\n",
       " 5.39768e-6  0.00061147   0.00766728  0.0160433  0.0312315  0.36907\n",
       " 1.11256e-5  0.000684033  0.00779066  0.0159425  0.0311267  0.30687\n",
       " 3.89053e-5  0.000644292  0.00785012  0.016208   0.0309633  0.245326\n",
       " 4.70558e-6  0.000608072  0.00779555  0.0163204  0.0313779  0.253851\n",
       " 6.84297e-6  0.000610992  0.00781385  0.0162366  0.0309993  0.206672\n",
       " 1.67555e-5  0.000654481  0.0078742   0.0162863  0.0315336  0.149502\n",
       " 1.22541e-5  0.000637275  0.00746932  0.0160356  0.0315039  0.279961\n",
       " 1.16678e-5  0.000623349  0.00757389  0.0161942  0.0313236  0.156692\n",
       " 6.12617e-6  0.000698866  0.00770012  0.0160298  0.0313636  0.172079\n",
       " 1.72489e-5  0.000621509  0.00775665  0.016226   0.0304741  0.178537"
      ]
     },
     "execution_count": 42,
     "metadata": {},
     "output_type": "execute_result"
    }
   ],
   "source": [
    "using StatsBase\n",
    "import Random\n",
    "import PyPlot as plt\n",
    "using CausalityTools\n",
    "\n",
    "Random.seed!(123)\n",
    "\n",
    "N = 10000\n",
    "N_seeds = 10\n",
    "seeds = sample(1:10000, N_seeds, replace=false)\n",
    "# igg = InfluenceGraphGenerator(SimpleTE, surrogate=nothing)\n",
    "func(x, y) = pvalue(jdd(OneSampleTTest, x, y, B=10, D=5, τ=1, μ0=0.0), tail=:right)\n",
    "\n",
    "\n",
    "Q1 = []\n",
    "Q2 = []\n",
    "Q3 = []\n",
    "Q99 = []\n",
    "max_ = []\n",
    "min_ = []\n",
    "\n",
    "for seed in seeds\n",
    "\n",
    "    Random.seed!(seed)\n",
    "\n",
    "    X = [rand(200) for i = 1:N]\n",
    "    Y = [rand(200) for i = 1:N]\n",
    "\n",
    "    res = []\n",
    "    for i = 1:N\n",
    "        # push!(res, igg.causal_function(X[i], Y[i]))\n",
    "        x = Sensors.standardize(X[i])\n",
    "        y = Sensors.standardize(Y[i])\n",
    "        push!(res, func(x, y))\n",
    "    end\n",
    "\n",
    "    push!(Q1, quantile(res, 0.25))\n",
    "    push!(Q2, quantile(res, 0.5))\n",
    "    push!(Q3, quantile(res, 0.75))\n",
    "    push!(Q99, quantile(res, 0.01))\n",
    "    push!(max_, maximum(res))\n",
    "    push!(min_, minimum(res))\n",
    "\n",
    "end\n",
    "\n",
    "boxes = hcat(min_, Q99, Q1, Q2, Q3, max_)\n",
    "\n"
   ]
  },
  {
   "cell_type": "code",
   "execution_count": 43,
   "metadata": {},
   "outputs": [
    {
     "data": {
      "image/png": "[encoded data removed]",
      "text/plain": [
       "PyPlot.Figure(PyObject <Figure size 640x480 with 1 Axes>)"
      ]
     },
     "metadata": {},
     "output_type": "display_data"
    }
   ],
   "source": [
    "plt.figure()\n",
    "plt.boxplot(boxes);\n",
    "plt.yscale(\"log\");"
   ]
  },
  {
   "cell_type": "code",
   "execution_count": null,
   "metadata": {},
   "outputs": [],
   "source": [
    "plt.figure()\n",
    "plt.boxplot(Q1);"
   ]
  },
  {
   "cell_type": "code",
   "execution_count": null,
   "metadata": {},
   "outputs": [],
   "source": [
    "\"\"\"\n",
    "Standardize data, handling the case when one column contains only same value (this happens in our case with vectors of only 0s).\n",
    "\"\"\"\n",
    "function standardize(x)\n",
    "    std_ = std(x, dims=1)\n",
    "    return (x .- mean(x, dims=1)) ./ ifelse.(std_ .> 0, std_, ones(size(std_)))\n",
    "end\n",
    "\n",
    "\n",
    "a = rand(10)"
   ]
  },
  {
   "cell_type": "code",
   "execution_count": null,
   "metadata": {},
   "outputs": [],
   "source": [
    "standardize(a)"
   ]
  },
  {
   "cell_type": "code",
   "execution_count": 198,
   "metadata": {},
   "outputs": [],
   "source": [
    "using PyPlot: @L_str, latexstring\n",
    "using Printf\n",
    "\n",
    "annot = Matrix{String}(undef, size(mean_value))\n",
    "for i in eachindex(annot)\n",
    "    foo = @sprintf(\"%.1e\", mean_value[i])\n",
    "    deci = split(foo, 'e')[1]\n",
    "    power = parse(Int, split(foo, 'e')[2])\n",
    "    power = string(power)\n",
    "    annot[i] = latexstring(deci, \"\\\\cdot 10^{\", power, \"}\")\n",
    "end"
   ]
  },
  {
   "cell_type": "code",
   "execution_count": 200,
   "metadata": {},
   "outputs": [
    {
     "data": {
      "image/png": "[encoded data removed]",
      "text/plain": [
       "PyPlot.Figure(PyObject <Figure size 768x576 with 2 Axes>)"
      ]
     },
     "metadata": {},
     "output_type": "display_data"
    }
   ],
   "source": [
    "import Seaborn as sns\n",
    "\n",
    "result = load_data(\"/Users/cyrilvallez/Desktop/Thesis/Results/Find_thresholds/new_test2_TE.jld2\")\n",
    "labels = [\"None\", \"Q(0.5)\", \"Q(0.75)\", \"Q(0.9)\", \"max\", \"2max\", \"4max\"]\n",
    "thresholds = 0:0.1:0.6\n",
    "\n",
    "\n",
    "mean_value = Matrix{Float64}(undef, size(result))\n",
    "for i in eachindex(result)\n",
    "    mean_value[i] = mean(result[i])\n",
    "end\n",
    "\n",
    "if any(mean_value .== 0)\n",
    "    vmin = minimum(mean_value[mean_value .!= 0])*0.5\n",
    "else\n",
    "    vmin = minimum(mean_value)\n",
    "end\n",
    "\n",
    "plt.figure(figsize=[6.4, 4.8].*1.2)\n",
    "sns.heatmap(mean_value, annot=annot, cmap=\"rocket_r\", fmt=\"\", norm=plt.matplotlib.colors.LogNorm(vmin=vmin, clip=true))\n",
    "plt.xlabel(\"Threshold\")\n",
    "plt.ylabel(\"Limit value\")\n",
    "xloc, xlabels = plt.xticks()\n",
    "plt.xticks(xloc, thresholds)\n",
    "yloc, ylabels = plt.yticks()\n",
    "plt.yticks(yloc, labels, rotation=\"horizontal\")\n",
    "plt.gcf();"
   ]
  },
  {
   "cell_type": "code",
   "execution_count": 202,
   "metadata": {},
   "outputs": [
    {
     "data": {
      "image/png": "[encoded data removed]",
      "text/plain": [
       "PyPlot.Figure(PyObject <Figure size 768x576 with 2 Axes>)"
      ]
     },
     "metadata": {},
     "output_type": "display_data"
    }
   ],
   "source": [
    "import Seaborn as sns\n",
    "\n",
    "result = load_data(\"/Users/cyrilvallez/Desktop/Thesis/Results/Find_thresholds/new_test2_TE.jld2\")\n",
    "labels = [\"None\", \"Q(0.5)\", \"Q(0.75)\", \"Q(0.9)\", \"max\", \"2max\", \"4max\"]\n",
    "thresholds = 0:0.1:0.6\n",
    "\n",
    "\n",
    "mean_value = Matrix{Float64}(undef, size(result))\n",
    "for i in eachindex(result)\n",
    "    mean_value[i] = mean(result[i])\n",
    "end\n",
    "\n",
    "if any(mean_value .== 0)\n",
    "    vmin = minimum(mean_value[mean_value .!= 0])*0.5\n",
    "else\n",
    "    vmin = minimum(mean_value)\n",
    "end\n",
    "\n",
    "plt.figure(figsize=[6.4, 4.8].*1.2)\n",
    "sns.heatmap(mean_value, annot=true, cmap=\"rocket_r\", fmt=\".2g\", norm=plt.matplotlib.colors.LogNorm(vmin=vmin, clip=true))\n",
    "plt.xlabel(\"Threshold\")\n",
    "plt.ylabel(\"Limit value\")\n",
    "xloc, xlabels = plt.xticks()\n",
    "plt.xticks(xloc, thresholds)\n",
    "yloc, ylabels = plt.yticks()\n",
    "plt.yticks(yloc, labels, rotation=\"horizontal\")\n",
    "plt.gcf();"
   ]
  },
  {
   "cell_type": "code",
   "execution_count": 9,
   "metadata": {},
   "outputs": [
    {
     "data": {
      "text/html": [
       "<div class=\"data-frame\"><p>630,101 rows × 4 columns</p><table class=\"data-frame\"><thead><tr><th></th><th>created_at</th><th>domain</th><th>username</th><th>follower_count</th></tr><tr><th></th><th title=\"String\">String</th><th title=\"Vector{Any}\">Array…</th><th title=\"String\">String</th><th title=\"Int64\">Int64</th></tr></thead><tbody><tr><th>1</th><td>2018-03-06T23:59:40.000Z</td><td>[&quot;twitter.com&quot;]</td><td>lindhays</td><td>1176</td></tr><tr><th>2</th><td>2018-03-06T23:59:28.000Z</td><td>[&quot;theguardian.com&quot;]</td><td>Tesscatbird</td><td>979</td></tr><tr><th>3</th><td>2018-03-06T23:59:01.000Z</td><td>[&quot;theguardian.com&quot;]</td><td>crlulukat</td><td>440</td></tr><tr><th>4</th><td>2018-03-06T23:58:36.000Z</td><td>[&quot;nbcnews.com&quot;]</td><td>tiffanyclay</td><td>2909</td></tr><tr><th>5</th><td>2018-03-06T23:58:22.000Z</td><td>[&quot;theguardian.com&quot;]</td><td>KarCranky</td><td>242</td></tr><tr><th>6</th><td>2018-03-06T23:58:22.000Z</td><td>[&quot;theguardian.com&quot;]</td><td>electricboyo</td><td>1573</td></tr><tr><th>7</th><td>2018-03-06T23:58:11.000Z</td><td>[&quot;nbcnews.com&quot;]</td><td>rhscsmtms</td><td>1420</td></tr><tr><th>8</th><td>2018-03-06T23:57:59.000Z</td><td>[&quot;nbcnews.com&quot;]</td><td>AJ_9342</td><td>138</td></tr><tr><th>9</th><td>2018-03-06T23:57:58.000Z</td><td>[&quot;theguardian.com&quot;]</td><td>unitedMongrels</td><td>1303</td></tr><tr><th>10</th><td>2018-03-06T23:57:34.000Z</td><td>[&quot;nbcnews.com&quot;]</td><td>SouthFlorida42</td><td>1721</td></tr><tr><th>11</th><td>2018-03-06T23:57:16.000Z</td><td>[&quot;nbcnews.com&quot;]</td><td>RevFrBobHutchis</td><td>627</td></tr><tr><th>12</th><td>2018-03-06T23:57:13.000Z</td><td>[&quot;theguardian.com&quot;]</td><td>PlayaSharon</td><td>1598</td></tr><tr><th>13</th><td>2018-03-06T23:57:09.000Z</td><td>[&quot;twitter.com&quot;]</td><td>Willybear7</td><td>1961</td></tr><tr><th>14</th><td>2018-03-06T23:57:03.000Z</td><td>[&quot;twitter.com&quot;]</td><td>despage19R</td><td>20</td></tr><tr><th>15</th><td>2018-03-06T23:57:02.000Z</td><td>[&quot;nbcnews.com&quot;]</td><td>lizditz</td><td>8414</td></tr><tr><th>16</th><td>2018-03-06T23:57:02.000Z</td><td>[&quot;theguardian.com&quot;]</td><td>andreariscassi</td><td>15577</td></tr><tr><th>17</th><td>2018-03-06T23:57:01.000Z</td><td>[&quot;nbcnews.com&quot;]</td><td>Cuprikorn66</td><td>1583</td></tr><tr><th>18</th><td>2018-03-06T23:56:52.000Z</td><td>[&quot;nbcnews.com&quot;]</td><td>NotJAFO</td><td>834</td></tr><tr><th>19</th><td>2018-03-06T23:56:51.000Z</td><td>[&quot;theguardian.com&quot;]</td><td>CeleryCaraway</td><td>1254</td></tr><tr><th>20</th><td>2018-03-06T23:56:47.000Z</td><td>[&quot;theguardian.com&quot;]</td><td>merrill2n</td><td>485</td></tr><tr><th>21</th><td>2018-03-06T23:56:42.000Z</td><td>[&quot;nbcnews.com&quot;]</td><td>Federelis</td><td>407</td></tr><tr><th>22</th><td>2018-03-06T23:56:40.000Z</td><td>[&quot;twitter.com&quot;]</td><td>electricboyo</td><td>1573</td></tr><tr><th>23</th><td>2018-03-06T23:56:35.000Z</td><td>[&quot;twitter.com&quot;]</td><td>EleniNumber5</td><td>607</td></tr><tr><th>24</th><td>2018-03-06T23:56:24.000Z</td><td>[&quot;nbcnews.com&quot;]</td><td>Ceo_Leo</td><td>218</td></tr><tr><th>25</th><td>2018-03-06T23:56:23.000Z</td><td>[&quot;nbcnews.com&quot;]</td><td>fwdcrocblu</td><td>1878</td></tr><tr><th>26</th><td>2018-03-06T23:56:23.000Z</td><td>[&quot;theguardian.com&quot;]</td><td>the_Dyp</td><td>1430</td></tr><tr><th>27</th><td>2018-03-06T23:56:20.000Z</td><td>[&quot;theguardian.com&quot;]</td><td>5dodgerfans</td><td>137</td></tr><tr><th>28</th><td>2018-03-06T23:56:16.000Z</td><td>[&quot;theguardian.com&quot;]</td><td>LenteCurrite</td><td>489</td></tr><tr><th>29</th><td>2018-03-06T23:56:11.000Z</td><td>[&quot;theguardian.com&quot;]</td><td>LenteCurrite</td><td>489</td></tr><tr><th>30</th><td>2018-03-06T23:56:10.000Z</td><td>[&quot;theguardian.com&quot;]</td><td>Despisingdespot</td><td>139</td></tr><tr><th>&vellip;</th><td>&vellip;</td><td>&vellip;</td><td>&vellip;</td><td>&vellip;</td></tr></tbody></table></div>"
      ],
      "text/latex": [
       "\\begin{tabular}{r|cccc}\n",
       "\t& created\\_at & domain & username & follower\\_count\\\\\n",
       "\t\\hline\n",
       "\t& String & Array… & String & Int64\\\\\n",
       "\t\\hline\n",
       "\t1 & 2018-03-06T23:59:40.000Z & [\"twitter.com\"] & lindhays & 1176 \\\\\n",
       "\t2 & 2018-03-06T23:59:28.000Z & [\"theguardian.com\"] & Tesscatbird & 979 \\\\\n",
       "\t3 & 2018-03-06T23:59:01.000Z & [\"theguardian.com\"] & crlulukat & 440 \\\\\n",
       "\t4 & 2018-03-06T23:58:36.000Z & [\"nbcnews.com\"] & tiffanyclay & 2909 \\\\\n",
       "\t5 & 2018-03-06T23:58:22.000Z & [\"theguardian.com\"] & KarCranky & 242 \\\\\n",
       "\t6 & 2018-03-06T23:58:22.000Z & [\"theguardian.com\"] & electricboyo & 1573 \\\\\n",
       "\t7 & 2018-03-06T23:58:11.000Z & [\"nbcnews.com\"] & rhscsmtms & 1420 \\\\\n",
       "\t8 & 2018-03-06T23:57:59.000Z & [\"nbcnews.com\"] & AJ\\_9342 & 138 \\\\\n",
       "\t9 & 2018-03-06T23:57:58.000Z & [\"theguardian.com\"] & unitedMongrels & 1303 \\\\\n",
       "\t10 & 2018-03-06T23:57:34.000Z & [\"nbcnews.com\"] & SouthFlorida42 & 1721 \\\\\n",
       "\t11 & 2018-03-06T23:57:16.000Z & [\"nbcnews.com\"] & RevFrBobHutchis & 627 \\\\\n",
       "\t12 & 2018-03-06T23:57:13.000Z & [\"theguardian.com\"] & PlayaSharon & 1598 \\\\\n",
       "\t13 & 2018-03-06T23:57:09.000Z & [\"twitter.com\"] & Willybear7 & 1961 \\\\\n",
       "\t14 & 2018-03-06T23:57:03.000Z & [\"twitter.com\"] & despage19R & 20 \\\\\n",
       "\t15 & 2018-03-06T23:57:02.000Z & [\"nbcnews.com\"] & lizditz & 8414 \\\\\n",
       "\t16 & 2018-03-06T23:57:02.000Z & [\"theguardian.com\"] & andreariscassi & 15577 \\\\\n",
       "\t17 & 2018-03-06T23:57:01.000Z & [\"nbcnews.com\"] & Cuprikorn66 & 1583 \\\\\n",
       "\t18 & 2018-03-06T23:56:52.000Z & [\"nbcnews.com\"] & NotJAFO & 834 \\\\\n",
       "\t19 & 2018-03-06T23:56:51.000Z & [\"theguardian.com\"] & CeleryCaraway & 1254 \\\\\n",
       "\t20 & 2018-03-06T23:56:47.000Z & [\"theguardian.com\"] & merrill2n & 485 \\\\\n",
       "\t21 & 2018-03-06T23:56:42.000Z & [\"nbcnews.com\"] & Federelis & 407 \\\\\n",
       "\t22 & 2018-03-06T23:56:40.000Z & [\"twitter.com\"] & electricboyo & 1573 \\\\\n",
       "\t23 & 2018-03-06T23:56:35.000Z & [\"twitter.com\"] & EleniNumber5 & 607 \\\\\n",
       "\t24 & 2018-03-06T23:56:24.000Z & [\"nbcnews.com\"] & Ceo\\_Leo & 218 \\\\\n",
       "\t25 & 2018-03-06T23:56:23.000Z & [\"nbcnews.com\"] & fwdcrocblu & 1878 \\\\\n",
       "\t26 & 2018-03-06T23:56:23.000Z & [\"theguardian.com\"] & the\\_Dyp & 1430 \\\\\n",
       "\t27 & 2018-03-06T23:56:20.000Z & [\"theguardian.com\"] & 5dodgerfans & 137 \\\\\n",
       "\t28 & 2018-03-06T23:56:16.000Z & [\"theguardian.com\"] & LenteCurrite & 489 \\\\\n",
       "\t29 & 2018-03-06T23:56:11.000Z & [\"theguardian.com\"] & LenteCurrite & 489 \\\\\n",
       "\t30 & 2018-03-06T23:56:10.000Z & [\"theguardian.com\"] & Despisingdespot & 139 \\\\\n",
       "\t$\\dots$ & $\\dots$ & $\\dots$ & $\\dots$ & $\\dots$ \\\\\n",
       "\\end{tabular}\n"
      ],
      "text/plain": [
       "\u001b[1m630101×4 DataFrame\u001b[0m\n",
       "\u001b[1m    Row \u001b[0m│\u001b[1m created_at               \u001b[0m\u001b[1m domain                            \u001b[0m\u001b[1m usernam\u001b[0m ⋯\n",
       "\u001b[1m        \u001b[0m│\u001b[90m String                   \u001b[0m\u001b[90m Array…                            \u001b[0m\u001b[90m String \u001b[0m ⋯\n",
       "────────┼───────────────────────────────────────────────────────────────────────\n",
       "      1 │ 2018-03-06T23:59:40.000Z  Any[\"twitter.com\"]                 lindhay ⋯\n",
       "      2 │ 2018-03-06T23:59:28.000Z  Any[\"theguardian.com\"]             Tesscat\n",
       "      3 │ 2018-03-06T23:59:01.000Z  Any[\"theguardian.com\"]             crluluk\n",
       "      4 │ 2018-03-06T23:58:36.000Z  Any[\"nbcnews.com\"]                 tiffany\n",
       "      5 │ 2018-03-06T23:58:22.000Z  Any[\"theguardian.com\"]             KarCran ⋯\n",
       "      6 │ 2018-03-06T23:58:22.000Z  Any[\"theguardian.com\"]             electri\n",
       "      7 │ 2018-03-06T23:58:11.000Z  Any[\"nbcnews.com\"]                 rhscsmt\n",
       "      8 │ 2018-03-06T23:57:59.000Z  Any[\"nbcnews.com\"]                 AJ_9342\n",
       "      9 │ 2018-03-06T23:57:58.000Z  Any[\"theguardian.com\"]             unitedM ⋯\n",
       "     10 │ 2018-03-06T23:57:34.000Z  Any[\"nbcnews.com\"]                 SouthFl\n",
       "     11 │ 2018-03-06T23:57:16.000Z  Any[\"nbcnews.com\"]                 RevFrBo\n",
       "   ⋮    │            ⋮                              ⋮                          ⋱\n",
       " 630092 │ 2018-04-21T00:07:55.000Z  Any[\"wordpress.com\"]               wildhor\n",
       " 630093 │ 2018-04-21T00:07:14.000Z  Any[\"twitter.com\"]                 pegasus ⋯\n",
       " 630094 │ 2018-04-21T00:06:42.000Z  Any[\"youtube.com\"]                 Paulnew\n",
       " 630095 │ 2018-04-21T00:06:05.000Z  Any[\"strategic-culture.org\"]       kay4198\n",
       " 630096 │ 2018-04-21T00:03:22.000Z  Any[\"globalresearch.ca\"]           npnikk\n",
       " 630097 │ 2018-04-21T00:02:57.000Z  Any[\"nytimes.com\"]                 danilin ⋯\n",
       " 630098 │ 2018-04-21T00:02:04.000Z  Any[\"georgetown.edu\", \"twitter.c…  arenda\n",
       " 630099 │ 2018-04-21T00:01:41.000Z  Any[\"washingtonpost.com\"]          NewsDin\n",
       " 630100 │ 2018-04-21T00:01:05.000Z  Any[\"strategic-culture.org\"]       Strateg\n",
       " 630101 │ 2018-04-21T00:00:17.000Z  Any[\"sodrugestvo.info\"]            sodruge ⋯\n",
       "\u001b[36m                                               2 columns and 630080 rows omitted\u001b[0m"
      ]
     },
     "execution_count": 9,
     "metadata": {},
     "output_type": "execute_result"
    }
   ],
   "source": [
    "df = load_dataset(Skripal)"
   ]
  },
  {
   "cell_type": "code",
   "execution_count": 10,
   "metadata": {},
   "outputs": [
    {
     "data": {
      "text/plain": [
       "630101-element Vector{DateTime}:\n",
       " 2018-03-06T23:59:40\n",
       " 2018-03-06T23:59:28\n",
       " 2018-03-06T23:59:01\n",
       " 2018-03-06T23:58:36\n",
       " 2018-03-06T23:58:22\n",
       " 2018-03-06T23:58:22\n",
       " 2018-03-06T23:58:11\n",
       " 2018-03-06T23:57:59\n",
       " 2018-03-06T23:57:58\n",
       " 2018-03-06T23:57:34\n",
       " 2018-03-06T23:57:16\n",
       " 2018-03-06T23:57:13\n",
       " 2018-03-06T23:57:09\n",
       " ⋮\n",
       " 2018-04-21T00:08:04\n",
       " 2018-04-21T00:08:03\n",
       " 2018-04-21T00:07:55\n",
       " 2018-04-21T00:07:14\n",
       " 2018-04-21T00:06:42\n",
       " 2018-04-21T00:06:05\n",
       " 2018-04-21T00:03:22\n",
       " 2018-04-21T00:02:57\n",
       " 2018-04-21T00:02:04\n",
       " 2018-04-21T00:01:41\n",
       " 2018-04-21T00:01:05\n",
       " 2018-04-21T00:00:17"
      ]
     },
     "execution_count": 10,
     "metadata": {},
     "output_type": "execute_result"
    }
   ],
   "source": [
    "using Dates\n",
    "to_datetime = x -> DateTime(split(x, '.')[1], \"yyyy-mm-ddTHH:MM:SS\")\n",
    "df.\"created_at\" = to_datetime.(df.\"created_at\")"
   ]
  },
  {
   "cell_type": "code",
   "execution_count": 12,
   "metadata": {},
   "outputs": [
    {
     "data": {
      "text/html": [
       "<div class=\"data-frame\"><p>630,101 rows × 4 columns</p><table class=\"data-frame\"><thead><tr><th></th><th>created_at</th><th>domain</th><th>username</th><th>follower_count</th></tr><tr><th></th><th title=\"DateTime\">DateTime</th><th title=\"Vector{Any}\">Array…</th><th title=\"String\">String</th><th title=\"Int64\">Int64</th></tr></thead><tbody><tr><th>1</th><td>2018-04-10T08:50:55</td><td>[&quot;cnn.com&quot;]</td><td>cnnbrk</td><td>54691069</td></tr><tr><th>2</th><td>2018-04-10T08:47:05</td><td>[&quot;cnn.com&quot;]</td><td>cnnbrk</td><td>54690835</td></tr><tr><th>3</th><td>2018-04-06T13:32:18</td><td>[&quot;cnn.com&quot;]</td><td>cnnbrk</td><td>54646891</td></tr><tr><th>4</th><td>2018-03-28T20:49:37</td><td>[&quot;cnn.com&quot;]</td><td>cnnbrk</td><td>54543668</td></tr><tr><th>5</th><td>2018-03-08T19:50:50</td><td>[&quot;cnn.com&quot;]</td><td>cnnbrk</td><td>54321499</td></tr><tr><th>6</th><td>2018-03-07T18:15:56</td><td>[&quot;cnn.com&quot;]</td><td>cnnbrk</td><td>54307069</td></tr><tr><th>7</th><td>2018-04-17T18:31:08</td><td>[&quot;nytimes.com&quot;]</td><td>nytimes</td><td>41840651</td></tr><tr><th>8</th><td>2018-04-14T07:17:05</td><td>[&quot;nytimes.com&quot;]</td><td>nytimes</td><td>41788883</td></tr><tr><th>9</th><td>2018-04-10T08:49:33</td><td>[&quot;nytimes.com&quot;]</td><td>nytimes</td><td>41723015</td></tr><tr><th>10</th><td>2018-04-08T06:29:24</td><td>[&quot;nytimes.com&quot;]</td><td>nytimes</td><td>41696414</td></tr><tr><th>11</th><td>2018-04-06T14:00:22</td><td>[&quot;nytimes.com&quot;]</td><td>nytimes</td><td>41678440</td></tr><tr><th>12</th><td>2018-04-06T07:17:04</td><td>[&quot;nytimes.com&quot;]</td><td>nytimes</td><td>41675231</td></tr><tr><th>13</th><td>2018-04-04T09:15:08</td><td>[&quot;nytimes.com&quot;]</td><td>nytimes</td><td>41649493</td></tr><tr><th>14</th><td>2018-04-02T00:14:30</td><td>[&quot;nytimes.com&quot;]</td><td>nytimes</td><td>41621928</td></tr><tr><th>15</th><td>2018-03-29T08:45:03</td><td>[&quot;nytimes.com&quot;]</td><td>nytimes</td><td>41582777</td></tr><tr><th>16</th><td>2018-03-29T03:47:00</td><td>[&quot;nytimes.com&quot;]</td><td>nytimes</td><td>41581169</td></tr><tr><th>17</th><td>2018-03-26T14:16:04</td><td>[&quot;nytimes.com&quot;]</td><td>nytimes</td><td>41550197</td></tr><tr><th>18</th><td>2018-03-21T09:14:05</td><td>[&quot;nytimes.com&quot;]</td><td>nytimes</td><td>41484805</td></tr><tr><th>19</th><td>2018-03-14T11:30:05</td><td>[&quot;nytimes.com&quot;]</td><td>nytimes</td><td>41393630</td></tr><tr><th>20</th><td>2018-03-13T09:16:06</td><td>[&quot;nytimes.com&quot;]</td><td>nytimes</td><td>41377229</td></tr><tr><th>21</th><td>2018-03-10T07:20:28</td><td>[&quot;nytimes.com&quot;]</td><td>nytimes</td><td>41345370</td></tr><tr><th>22</th><td>2018-03-10T09:36:02</td><td>[&quot;nytimes.com&quot;]</td><td>nytimes</td><td>41345330</td></tr><tr><th>23</th><td>2018-03-08T16:08:07</td><td>[&quot;nytimes.com&quot;]</td><td>nytimes</td><td>41337470</td></tr><tr><th>24</th><td>2018-03-07T11:00:26</td><td>[&quot;nytimes.com&quot;]</td><td>nytimes</td><td>41321272</td></tr><tr><th>25</th><td>2018-03-06T17:55:27</td><td>[&quot;nytimes.com&quot;]</td><td>nytimes</td><td>41312026</td></tr><tr><th>26</th><td>2018-04-12T07:43:06</td><td>[&quot;cnn.com&quot;]</td><td>CNN</td><td>40085552</td></tr><tr><th>27</th><td>2018-04-10T08:38:13</td><td>[&quot;cnn.com&quot;]</td><td>CNN</td><td>40051969</td></tr><tr><th>28</th><td>2018-04-06T13:10:06</td><td>[&quot;cnn.com&quot;]</td><td>CNN</td><td>40004089</td></tr><tr><th>29</th><td>2018-04-06T10:51:22</td><td>[&quot;cnn.com&quot;]</td><td>CNN</td><td>40002895</td></tr><tr><th>30</th><td>2018-04-04T00:13:56</td><td>[&quot;cnn.com&quot;, &quot;snappytv.com&quot;]</td><td>CNN</td><td>39970266</td></tr><tr><th>&vellip;</th><td>&vellip;</td><td>&vellip;</td><td>&vellip;</td><td>&vellip;</td></tr></tbody></table></div>"
      ],
      "text/latex": [
       "\\begin{tabular}{r|cccc}\n",
       "\t& created\\_at & domain & username & follower\\_count\\\\\n",
       "\t\\hline\n",
       "\t& DateTime & Array… & String & Int64\\\\\n",
       "\t\\hline\n",
       "\t1 & 2018-04-10T08:50:55 & [\"cnn.com\"] & cnnbrk & 54691069 \\\\\n",
       "\t2 & 2018-04-10T08:47:05 & [\"cnn.com\"] & cnnbrk & 54690835 \\\\\n",
       "\t3 & 2018-04-06T13:32:18 & [\"cnn.com\"] & cnnbrk & 54646891 \\\\\n",
       "\t4 & 2018-03-28T20:49:37 & [\"cnn.com\"] & cnnbrk & 54543668 \\\\\n",
       "\t5 & 2018-03-08T19:50:50 & [\"cnn.com\"] & cnnbrk & 54321499 \\\\\n",
       "\t6 & 2018-03-07T18:15:56 & [\"cnn.com\"] & cnnbrk & 54307069 \\\\\n",
       "\t7 & 2018-04-17T18:31:08 & [\"nytimes.com\"] & nytimes & 41840651 \\\\\n",
       "\t8 & 2018-04-14T07:17:05 & [\"nytimes.com\"] & nytimes & 41788883 \\\\\n",
       "\t9 & 2018-04-10T08:49:33 & [\"nytimes.com\"] & nytimes & 41723015 \\\\\n",
       "\t10 & 2018-04-08T06:29:24 & [\"nytimes.com\"] & nytimes & 41696414 \\\\\n",
       "\t11 & 2018-04-06T14:00:22 & [\"nytimes.com\"] & nytimes & 41678440 \\\\\n",
       "\t12 & 2018-04-06T07:17:04 & [\"nytimes.com\"] & nytimes & 41675231 \\\\\n",
       "\t13 & 2018-04-04T09:15:08 & [\"nytimes.com\"] & nytimes & 41649493 \\\\\n",
       "\t14 & 2018-04-02T00:14:30 & [\"nytimes.com\"] & nytimes & 41621928 \\\\\n",
       "\t15 & 2018-03-29T08:45:03 & [\"nytimes.com\"] & nytimes & 41582777 \\\\\n",
       "\t16 & 2018-03-29T03:47:00 & [\"nytimes.com\"] & nytimes & 41581169 \\\\\n",
       "\t17 & 2018-03-26T14:16:04 & [\"nytimes.com\"] & nytimes & 41550197 \\\\\n",
       "\t18 & 2018-03-21T09:14:05 & [\"nytimes.com\"] & nytimes & 41484805 \\\\\n",
       "\t19 & 2018-03-14T11:30:05 & [\"nytimes.com\"] & nytimes & 41393630 \\\\\n",
       "\t20 & 2018-03-13T09:16:06 & [\"nytimes.com\"] & nytimes & 41377229 \\\\\n",
       "\t21 & 2018-03-10T07:20:28 & [\"nytimes.com\"] & nytimes & 41345370 \\\\\n",
       "\t22 & 2018-03-10T09:36:02 & [\"nytimes.com\"] & nytimes & 41345330 \\\\\n",
       "\t23 & 2018-03-08T16:08:07 & [\"nytimes.com\"] & nytimes & 41337470 \\\\\n",
       "\t24 & 2018-03-07T11:00:26 & [\"nytimes.com\"] & nytimes & 41321272 \\\\\n",
       "\t25 & 2018-03-06T17:55:27 & [\"nytimes.com\"] & nytimes & 41312026 \\\\\n",
       "\t26 & 2018-04-12T07:43:06 & [\"cnn.com\"] & CNN & 40085552 \\\\\n",
       "\t27 & 2018-04-10T08:38:13 & [\"cnn.com\"] & CNN & 40051969 \\\\\n",
       "\t28 & 2018-04-06T13:10:06 & [\"cnn.com\"] & CNN & 40004089 \\\\\n",
       "\t29 & 2018-04-06T10:51:22 & [\"cnn.com\"] & CNN & 40002895 \\\\\n",
       "\t30 & 2018-04-04T00:13:56 & [\"cnn.com\", \"snappytv.com\"] & CNN & 39970266 \\\\\n",
       "\t$\\dots$ & $\\dots$ & $\\dots$ & $\\dots$ & $\\dots$ \\\\\n",
       "\\end{tabular}\n"
      ],
      "text/plain": [
       "\u001b[1m630101×4 DataFrame\u001b[0m\n",
       "\u001b[1m    Row \u001b[0m│\u001b[1m created_at          \u001b[0m\u001b[1m domain                      \u001b[0m\u001b[1m username        \u001b[0m\u001b[1m f\u001b[0m ⋯\n",
       "\u001b[1m        \u001b[0m│\u001b[90m DateTime            \u001b[0m\u001b[90m Array…                      \u001b[0m\u001b[90m String          \u001b[0m\u001b[90m I\u001b[0m ⋯\n",
       "────────┼───────────────────────────────────────────────────────────────────────\n",
       "      1 │ 2018-04-10T08:50:55  Any[\"cnn.com\"]               cnnbrk             ⋯\n",
       "      2 │ 2018-04-10T08:47:05  Any[\"cnn.com\"]               cnnbrk\n",
       "      3 │ 2018-04-06T13:32:18  Any[\"cnn.com\"]               cnnbrk\n",
       "      4 │ 2018-03-28T20:49:37  Any[\"cnn.com\"]               cnnbrk\n",
       "      5 │ 2018-03-08T19:50:50  Any[\"cnn.com\"]               cnnbrk             ⋯\n",
       "      6 │ 2018-03-07T18:15:56  Any[\"cnn.com\"]               cnnbrk\n",
       "      7 │ 2018-04-17T18:31:08  Any[\"nytimes.com\"]           nytimes\n",
       "      8 │ 2018-04-14T07:17:05  Any[\"nytimes.com\"]           nytimes\n",
       "      9 │ 2018-04-10T08:49:33  Any[\"nytimes.com\"]           nytimes            ⋯\n",
       "     10 │ 2018-04-08T06:29:24  Any[\"nytimes.com\"]           nytimes\n",
       "     11 │ 2018-04-06T14:00:22  Any[\"nytimes.com\"]           nytimes\n",
       "   ⋮    │          ⋮                        ⋮                      ⋮           ⋱\n",
       " 630092 │ 2018-04-21T14:40:04  Any[\"themoscowtimes.com\"]    WaleedKabeer2\n",
       " 630093 │ 2018-04-21T11:39:16  Any[\"twitter.com\"]           Autumnlight0       ⋯\n",
       " 630094 │ 2018-04-21T11:36:59  Any[\"telegraph.co.uk\"]       goyas11\n",
       " 630095 │ 2018-04-21T05:36:21  Any[\"cbsnews.com\"]           rodgebone\n",
       " 630096 │ 2018-04-21T01:44:55  Any[\"instagram.com\"]         ankushmittal224\n",
       " 630097 │ 2018-04-21T00:12:42  Any[\"nytimes.com\"]           oPhfm8O7sRzkfaa    ⋯\n",
       " 630098 │ 2018-04-21T00:09:19  Any[\"nytimes.com\"]           ikR85P7ZGMr2Smw\n",
       " 630099 │ 2018-04-21T00:08:26  Any[\"nytimes.com\"]           o5kCvTHujlv1yuY\n",
       " 630100 │ 2018-04-21T00:08:25  Any[\"nytimes.com\"]           jeanchronis\n",
       " 630101 │ 2018-04-21T00:08:15  Any[\"nytimes.com\"]           sophierampling8    ⋯\n",
       "\u001b[36m                                                1 column and 630080 rows omitted\u001b[0m"
      ]
     },
     "execution_count": 12,
     "metadata": {},
     "output_type": "execute_result"
    }
   ],
   "source": [
    "sort!(df, :follower_count, rev=true)"
   ]
  },
  {
   "cell_type": "code",
   "execution_count": 17,
   "metadata": {},
   "outputs": [
    {
     "data": {
      "text/plain": [
       "2018-03-01T14:15:34"
      ]
     },
     "execution_count": 17,
     "metadata": {},
     "output_type": "execute_result"
    }
   ],
   "source": [
    "minimum(df.created_at)"
   ]
  },
  {
   "cell_type": "code",
   "execution_count": 18,
   "metadata": {},
   "outputs": [
    {
     "data": {
      "text/plain": [
       "2018-04-29T23:57:41"
      ]
     },
     "execution_count": 18,
     "metadata": {},
     "output_type": "execute_result"
    }
   ],
   "source": [
    "maximum(df.created_at)"
   ]
  },
  {
   "cell_type": "code",
   "execution_count": 26,
   "metadata": {},
   "outputs": [
    {
     "data": {
      "text/plain": [
       "2018-03-18T00:00:00"
      ]
     },
     "execution_count": 26,
     "metadata": {},
     "output_type": "execute_result"
    }
   ],
   "source": [
    "decide = x -> x < Date(2018, 03, 18)\n",
    "\n",
    "a = DateTime(2018, 03, 18, 00, 00, 01)\n",
    "b = DateTime(2018, 03, 17, 23, 59, 59)\n",
    "c = DateTime(2018, 03, 18, 00, 00, 00)"
   ]
  },
  {
   "cell_type": "code",
   "execution_count": 27,
   "metadata": {},
   "outputs": [
    {
     "data": {
      "text/plain": [
       "false"
      ]
     },
     "execution_count": 27,
     "metadata": {},
     "output_type": "execute_result"
    }
   ],
   "source": [
    "decide(c)"
   ]
  },
  {
   "cell_type": "code",
   "execution_count": null,
   "metadata": {},
   "outputs": [],
   "source": []
  }
 ],
 "metadata": {
  "kernelspec": {
   "display_name": "Julia 1.8.1",
   "language": "julia",
   "name": "julia-1.8"
  },
  "language_info": {
   "file_extension": ".jl",
   "mimetype": "application/julia",
   "name": "julia",
   "version": "1.8.1"
  },
  "orig_nbformat": 4,
  "vscode": {
   "interpreter": {
    "hash": "76d3d9ea52ae0f582c7ab8c3bbc7d312c08f3afa3631e827e583225c1557aa69"
   }
  }
 },
 "nbformat": 4,
 "nbformat_minor": 2
}
