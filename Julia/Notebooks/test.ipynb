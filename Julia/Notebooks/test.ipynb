{
 "cells": [
  {
   "cell_type": "code",
   "execution_count": 2,
   "metadata": {},
   "outputs": [],
   "source": [
    "include(\"../Engine/Engine.jl\")\n",
    "using .Engine\n",
    "\n",
    "using StatsBase, DataFrames\n",
    "import PyPlot as plt\n",
    "import Seaborn as sns"
   ]
  },
  {
   "cell_type": "code",
   "execution_count": null,
   "metadata": {},
   "outputs": [],
   "source": [
    "df = load_dataset(Skripal)\n",
    "df = skripal_dates(df)\n",
    "df = df[df.partition .== \"During campaign\", :]\n",
    "\n",
    "w, u, v, nodes = PreProcessing.compute_IP_graph(df)\n",
    "I, P, res = PreProcessing.compute_IP_scores(u, v)\n",
    "\n",
    "plt.figure()\n",
    "plt.plot(1:length(res), res)\n",
    "plt.xlabel(\"Iteration\")\n",
    "plt.ylabel(\"Residual\")\n",
    "plt.yscale(\"log\")\n",
    "plt.grid()\n",
    "# plt.savefig(\"/Users/cyrilvallez/Desktop/Thesis/Figures/residual.pdf\", bbox_inches=\"tight\")"
   ]
  },
  {
   "cell_type": "code",
   "execution_count": 3,
   "metadata": {},
   "outputs": [
    {
     "data": {
      "text/html": [
       "<div class=\"data-frame\"><p>65,446 rows × 10 columns (omitted printing of 6 columns)</p><table class=\"data-frame\"><thead><tr><th></th><th>partition</th><th>created_at</th><th>effective_category</th><th>domain</th></tr><tr><th></th><th title=\"String\">String</th><th title=\"Dates.DateTime\">DateTime</th><th title=\"String\">String</th><th title=\"Vector{Any}\">Array…</th></tr></thead><tbody><tr><th>1</th><td>Before campaign</td><td>2018-03-06T23:54:20</td><td>tweet</td><td>[&quot;dailymail.co.uk&quot;]</td></tr><tr><th>2</th><td>Before campaign</td><td>2018-03-06T23:48:38</td><td>tweet</td><td>[&quot;standard.co.uk&quot;]</td></tr><tr><th>3</th><td>Before campaign</td><td>2018-03-06T23:45:44</td><td>tweet</td><td>[&quot;nbcnews.com&quot;]</td></tr><tr><th>4</th><td>Before campaign</td><td>2018-03-06T23:45:16</td><td>tweet</td><td>[&quot;aljazeera.com&quot;]</td></tr><tr><th>5</th><td>Before campaign</td><td>2018-03-06T23:45:00</td><td>tweet</td><td>[&quot;nbcnews.com&quot;]</td></tr><tr><th>6</th><td>Before campaign</td><td>2018-03-06T23:44:13</td><td>tweet</td><td>[&quot;bbc.co.uk&quot;]</td></tr><tr><th>7</th><td>Before campaign</td><td>2018-03-06T23:40:57</td><td>tweet</td><td>[&quot;independent.co.uk&quot;]</td></tr><tr><th>8</th><td>Before campaign</td><td>2018-03-06T23:40:08</td><td>tweet</td><td>[&quot;businessinsider.com&quot;]</td></tr><tr><th>9</th><td>Before campaign</td><td>2018-03-06T23:38:04</td><td>tweet</td><td>[&quot;economist.com&quot;]</td></tr><tr><th>10</th><td>Before campaign</td><td>2018-03-06T23:36:42</td><td>tweet</td><td>[&quot;theguardian.com&quot;]</td></tr><tr><th>11</th><td>Before campaign</td><td>2018-03-06T23:36:19</td><td>tweet</td><td>[&quot;theguardian.com&quot;]</td></tr><tr><th>12</th><td>Before campaign</td><td>2018-03-06T23:35:11</td><td>tweet</td><td>[&quot;nytimes.com&quot;]</td></tr><tr><th>13</th><td>Before campaign</td><td>2018-03-06T23:35:06</td><td>tweet</td><td>[&quot;standard.co.uk&quot;]</td></tr><tr><th>14</th><td>Before campaign</td><td>2018-03-06T23:32:43</td><td>tweet</td><td>[&quot;economist.com&quot;]</td></tr><tr><th>15</th><td>Before campaign</td><td>2018-03-06T23:32:22</td><td>tweet</td><td>[&quot;bbc.com&quot;]</td></tr><tr><th>16</th><td>Before campaign</td><td>2018-03-06T23:29:38</td><td>tweet</td><td>[&quot;theguardian.com&quot;]</td></tr><tr><th>17</th><td>Before campaign</td><td>2018-03-06T23:29:34</td><td>tweet</td><td>[&quot;theguardian.com&quot;]</td></tr><tr><th>18</th><td>Before campaign</td><td>2018-03-06T23:26:28</td><td>tweet</td><td>[&quot;standard.co.uk&quot;]</td></tr><tr><th>19</th><td>Before campaign</td><td>2018-03-06T23:26:06</td><td>tweet</td><td>[&quot;economist.com&quot;]</td></tr><tr><th>20</th><td>Before campaign</td><td>2018-03-06T23:25:00</td><td>tweet</td><td>[&quot;theguardian.com&quot;]</td></tr><tr><th>21</th><td>Before campaign</td><td>2018-03-06T23:23:35</td><td>tweet</td><td>[&quot;businessinsider.com&quot;]</td></tr><tr><th>22</th><td>Before campaign</td><td>2018-03-06T23:15:40</td><td>tweet</td><td>[&quot;theguardian.com&quot;]</td></tr><tr><th>23</th><td>Before campaign</td><td>2018-03-06T23:10:57</td><td>tweet</td><td>[&quot;craigmurray.org.uk&quot;]</td></tr><tr><th>24</th><td>Before campaign</td><td>2018-03-06T23:05:42</td><td>tweet</td><td>[&quot;independent.co.uk&quot;]</td></tr><tr><th>25</th><td>Before campaign</td><td>2018-03-06T23:04:34</td><td>tweet</td><td>[&quot;independent.co.uk&quot;]</td></tr><tr><th>26</th><td>Before campaign</td><td>2018-03-06T23:04:01</td><td>tweet</td><td>[&quot;theguardian.com&quot;]</td></tr><tr><th>27</th><td>Before campaign</td><td>2018-03-06T23:02:51</td><td>tweet</td><td>[&quot;standard.co.uk&quot;]</td></tr><tr><th>28</th><td>Before campaign</td><td>2018-03-06T23:02:43</td><td>tweet</td><td>[&quot;theguardian.com&quot;]</td></tr><tr><th>29</th><td>Before campaign</td><td>2018-03-06T23:01:09</td><td>tweet</td><td>[&quot;rt.com&quot;]</td></tr><tr><th>30</th><td>Before campaign</td><td>2018-03-06T23:01:05</td><td>tweet</td><td>[&quot;theguardian.com&quot;]</td></tr><tr><th>&vellip;</th><td>&vellip;</td><td>&vellip;</td><td>&vellip;</td><td>&vellip;</td></tr></tbody></table></div>"
      ],
      "text/latex": [
       "\\begin{tabular}{r|ccccc}\n",
       "\t& partition & created\\_at & effective\\_category & domain & \\\\\n",
       "\t\\hline\n",
       "\t& String & DateTime & String & Array… & \\\\\n",
       "\t\\hline\n",
       "\t1 & Before campaign & 2018-03-06T23:54:20 & tweet & [\"dailymail.co.uk\"] & $\\dots$ \\\\\n",
       "\t2 & Before campaign & 2018-03-06T23:48:38 & tweet & [\"standard.co.uk\"] & $\\dots$ \\\\\n",
       "\t3 & Before campaign & 2018-03-06T23:45:44 & tweet & [\"nbcnews.com\"] & $\\dots$ \\\\\n",
       "\t4 & Before campaign & 2018-03-06T23:45:16 & tweet & [\"aljazeera.com\"] & $\\dots$ \\\\\n",
       "\t5 & Before campaign & 2018-03-06T23:45:00 & tweet & [\"nbcnews.com\"] & $\\dots$ \\\\\n",
       "\t6 & Before campaign & 2018-03-06T23:44:13 & tweet & [\"bbc.co.uk\"] & $\\dots$ \\\\\n",
       "\t7 & Before campaign & 2018-03-06T23:40:57 & tweet & [\"independent.co.uk\"] & $\\dots$ \\\\\n",
       "\t8 & Before campaign & 2018-03-06T23:40:08 & tweet & [\"businessinsider.com\"] & $\\dots$ \\\\\n",
       "\t9 & Before campaign & 2018-03-06T23:38:04 & tweet & [\"economist.com\"] & $\\dots$ \\\\\n",
       "\t10 & Before campaign & 2018-03-06T23:36:42 & tweet & [\"theguardian.com\"] & $\\dots$ \\\\\n",
       "\t11 & Before campaign & 2018-03-06T23:36:19 & tweet & [\"theguardian.com\"] & $\\dots$ \\\\\n",
       "\t12 & Before campaign & 2018-03-06T23:35:11 & tweet & [\"nytimes.com\"] & $\\dots$ \\\\\n",
       "\t13 & Before campaign & 2018-03-06T23:35:06 & tweet & [\"standard.co.uk\"] & $\\dots$ \\\\\n",
       "\t14 & Before campaign & 2018-03-06T23:32:43 & tweet & [\"economist.com\"] & $\\dots$ \\\\\n",
       "\t15 & Before campaign & 2018-03-06T23:32:22 & tweet & [\"bbc.com\"] & $\\dots$ \\\\\n",
       "\t16 & Before campaign & 2018-03-06T23:29:38 & tweet & [\"theguardian.com\"] & $\\dots$ \\\\\n",
       "\t17 & Before campaign & 2018-03-06T23:29:34 & tweet & [\"theguardian.com\"] & $\\dots$ \\\\\n",
       "\t18 & Before campaign & 2018-03-06T23:26:28 & tweet & [\"standard.co.uk\"] & $\\dots$ \\\\\n",
       "\t19 & Before campaign & 2018-03-06T23:26:06 & tweet & [\"economist.com\"] & $\\dots$ \\\\\n",
       "\t20 & Before campaign & 2018-03-06T23:25:00 & tweet & [\"theguardian.com\"] & $\\dots$ \\\\\n",
       "\t21 & Before campaign & 2018-03-06T23:23:35 & tweet & [\"businessinsider.com\"] & $\\dots$ \\\\\n",
       "\t22 & Before campaign & 2018-03-06T23:15:40 & tweet & [\"theguardian.com\"] & $\\dots$ \\\\\n",
       "\t23 & Before campaign & 2018-03-06T23:10:57 & tweet & [\"craigmurray.org.uk\"] & $\\dots$ \\\\\n",
       "\t24 & Before campaign & 2018-03-06T23:05:42 & tweet & [\"independent.co.uk\"] & $\\dots$ \\\\\n",
       "\t25 & Before campaign & 2018-03-06T23:04:34 & tweet & [\"independent.co.uk\"] & $\\dots$ \\\\\n",
       "\t26 & Before campaign & 2018-03-06T23:04:01 & tweet & [\"theguardian.com\"] & $\\dots$ \\\\\n",
       "\t27 & Before campaign & 2018-03-06T23:02:51 & tweet & [\"standard.co.uk\"] & $\\dots$ \\\\\n",
       "\t28 & Before campaign & 2018-03-06T23:02:43 & tweet & [\"theguardian.com\"] & $\\dots$ \\\\\n",
       "\t29 & Before campaign & 2018-03-06T23:01:09 & tweet & [\"rt.com\"] & $\\dots$ \\\\\n",
       "\t30 & Before campaign & 2018-03-06T23:01:05 & tweet & [\"theguardian.com\"] & $\\dots$ \\\\\n",
       "\t$\\dots$ & $\\dots$ & $\\dots$ & $\\dots$ & $\\dots$ &  \\\\\n",
       "\\end{tabular}\n"
      ],
      "text/plain": [
       "\u001b[1m65446×10 DataFrame\u001b[0m\n",
       "\u001b[1m   Row \u001b[0m│\u001b[1m partition       \u001b[0m\u001b[1m created_at          \u001b[0m\u001b[1m effective_category \u001b[0m\u001b[1m domain     \u001b[0m ⋯\n",
       "\u001b[1m       \u001b[0m│\u001b[90m String          \u001b[0m\u001b[90m DateTime            \u001b[0m\u001b[90m String             \u001b[0m\u001b[90m Array…     \u001b[0m ⋯\n",
       "───────┼────────────────────────────────────────────────────────────────────────\n",
       "     1 │ Before campaign  2018-03-06T23:54:20  tweet               Any[\"dailym ⋯\n",
       "     2 │ Before campaign  2018-03-06T23:48:38  tweet               Any[\"standa\n",
       "     3 │ Before campaign  2018-03-06T23:45:44  tweet               Any[\"nbcnew\n",
       "     4 │ Before campaign  2018-03-06T23:45:16  tweet               Any[\"aljaze\n",
       "     5 │ Before campaign  2018-03-06T23:45:00  tweet               Any[\"nbcnew ⋯\n",
       "     6 │ Before campaign  2018-03-06T23:44:13  tweet               Any[\"bbc.co\n",
       "     7 │ Before campaign  2018-03-06T23:40:57  tweet               Any[\"indepe\n",
       "     8 │ Before campaign  2018-03-06T23:40:08  tweet               Any[\"busine\n",
       "     9 │ Before campaign  2018-03-06T23:38:04  tweet               Any[\"econom ⋯\n",
       "    10 │ Before campaign  2018-03-06T23:36:42  tweet               Any[\"thegua\n",
       "    11 │ Before campaign  2018-03-06T23:36:19  tweet               Any[\"thegua\n",
       "   ⋮   │        ⋮                  ⋮                   ⋮                       ⋱\n",
       " 65437 │ After campaign   2018-04-12T00:20:00  tweet               Any[\"expres\n",
       " 65438 │ After campaign   2018-04-12T00:16:47  tweet               Any[\"skwawk ⋯\n",
       " 65439 │ After campaign   2018-04-12T00:16:19  tweet               Any[\"standa\n",
       " 65440 │ After campaign   2018-04-12T00:15:00  tweet               Any[\"expres\n",
       " 65441 │ After campaign   2018-04-12T00:10:56  tweet               Any[\"craigm\n",
       " 65442 │ After campaign   2018-04-12T00:07:04  tweet               Any[\"bbc.co ⋯\n",
       " 65443 │ After campaign   2018-04-12T00:06:21  tweet               Any[\"sputni\n",
       " 65444 │ After campaign   2018-04-12T00:05:02  tweet               Any[\"dailys\n",
       " 65445 │ After campaign   2018-04-12T00:04:13  tweet               Any[\"craigm\n",
       " 65446 │ After campaign   2018-04-12T00:03:49  tweet               Any[\"rte.ie ⋯\n",
       "\u001b[36m                                                7 columns and 65425 rows omitted\u001b[0m"
      ]
     },
     "execution_count": 3,
     "metadata": {},
     "output_type": "execute_result"
    }
   ],
   "source": [
    "df = load_dataset(Skripal)\n",
    "df = skripal_dates(df)\n",
    "df = trust_score(df)\n",
    "f, _ = all_users()\n",
    "df = f(df)"
   ]
  },
  {
   "cell_type": "code",
   "execution_count": 7,
   "metadata": {},
   "outputs": [
    {
     "data": {
      "text/plain": [
       "Dict{Any, Int64} with 5 entries:\n",
       "  \"tass.com\"          => 2\n",
       "  \"rt.com\"            => 14\n",
       "  \"pravdareport.com\"  => 1\n",
       "  \"globalresearch.ca\" => 1\n",
       "  \"sputniknews.com\"   => 14"
      ]
     },
     "execution_count": 7,
     "metadata": {},
     "output_type": "execute_result"
    }
   ],
   "source": [
    "# domains = collect(Iterators.flatten(df[df.username .== \"ShoebridgeC\", :domain]))\n",
    "domains = collect(Iterators.flatten(df[df.username .== \"newsroll\", :domain]))\n",
    "foo = countmap(domains)"
   ]
  },
  {
   "cell_type": "code",
   "execution_count": null,
   "metadata": {},
   "outputs": [],
   "source": [
    "print()"
   ]
  },
  {
   "cell_type": "code",
   "execution_count": null,
   "metadata": {},
   "outputs": [],
   "source": [
    "df_before = df[df.partition .== \"Before campaign\", :]\n",
    "df_before = df_before[df_before.action .== \"U\", :]\n",
    "df_during = df[df.partition .== \"During campaign\", :]\n",
    "df_during = df_during[df_during.action .== \"U\", :]\n",
    "df_after = df[df.partition .== \"After campaign\", :]\n",
    "df_after = df_after[df_after.action .== \"U\", :]\n",
    "\n",
    "users_TE_before = [\"peterpobjecky\", \"DontDenyThe\", \"JJorbyn\", \"wherepond\", \"shabbirh\", \"BeeAHoney_\", \"JuliaPolan\", \"PakamamaniRenew\", \"TheUrbanNewz\", \"londonfredd\"]\n",
    "df_TE_before = df_before[in.(df_before.username, Ref(users_TE_before)), :]\n",
    "\n",
    "users_JDD_during = [\"RT_com\", \"newsroll\", \"JJorbyn\", \"ferozwala\", \"paris_2015\", \"tonybrooklyn5\", \"QueensIceZ\", \"RLSRUSSIANNEWS\", \"dwilliam9940\", \"lisa_alba\"]\n",
    "df_JDD_during = df_during[in.(df_during.username, Ref(users_JDD_during)), :]\n",
    "users_TE_during = [\"TheRealYoG\", \"ferozwala\", \"BuggerLePanda\", \"ProfessorsBlogg\", \"Arfatweet\", \"NecktopP\", \"OldRightie\", \"RTUKnews\", \"ali9l9\", \"zerohedge\"]\n",
    "df_TE_during = df_during[in.(df_during.username, Ref(users_TE_during)), :]\n",
    "\n",
    "users_JDD_after = [\"JudeJack\", \"HillestadNils\", \"SQUADDICTS\", \"starandsixpence\", \"newsbloktwit\", \"flyer4life\", \"jarfizo1\", \"DJSiri\", \"Mr_Nick_Nasty\", \"TacticalFM\"]\n",
    "df_JDD_after = df_after[in.(df_after.username, Ref(users_JDD_after)), :]\n",
    "users_TE_after = [\"Pline999\", \"Revoche\", \"SnakeTera\", \"infidelchloe\", \"charlievictor16\", \"Char_lotte777\", \"LordGamblore\", \"iccjock06\", \"StephaniePetri1\", \"TheUrbanNewz\"]\n",
    "df_TE_after = df_after[in.(df_after.username, Ref(users_TE_after)), :]\n",
    "\n",
    "\n",
    "dfs = [df_before, nothing, df_TE_before, df_during, df_JDD_during, df_TE_during, df_after, df_JDD_after, df_TE_after]\n",
    "distributions = []\n",
    "for df in dfs\n",
    "    push!(distributions, find_distribution(df, \"rt.com\"))\n",
    "end\n",
    "\n",
    "palette = [\"tab:blue\", \"tab:blue\", \"tab:blue\", \"tab:orange\", \"tab:orange\", \"tab:orange\", \"tab:green\", \"tab:green\", \"tab:green\"]\n",
    "plt.figure(figsize=(15,5))\n",
    "sns.violinplot(distributions, width=1., cut=0, scale=\"width\", palette=palette, gridsize=10000)\n",
    "# plt.yscale(\"log\")"
   ]
  },
  {
   "cell_type": "code",
   "execution_count": null,
   "metadata": {},
   "outputs": [],
   "source": [
    "function find_distribution(df, domain)\n",
    "\n",
    "    if df == nothing\n",
    "        return []\n",
    "    end\n",
    "    dis = combine(groupby(df, \"username\"), \"domain\" => (x -> sum(collect(Iterators.flatten(x)) .== domain)) => \"distribution\")\n",
    "    return dis.distribution\n",
    "\n",
    "end"
   ]
  },
  {
   "cell_type": "code",
   "execution_count": null,
   "metadata": {},
   "outputs": [],
   "source": [
    "df_during = df[df.partition .== \"During campaign\", :];\n",
    "df_during = df_during[df_during.action .== \"U\", :]\n",
    "\n",
    "\n",
    "domains = collect(Iterators.flatten(df_during.domain))\n",
    "count = countmap(domains)\n",
    "prop = proportionmap(domains)\n",
    "\n",
    "users_JDD = [\"RT_com\", \"newsroll\", \"JJorbyn\", \"ferozwala\", \"paris_2015\", \"tonybrooklyn5\", \"QueensIceZ\", \"RLSRUSSIANNEWS\", \"dwilliam9940\", \"lisa_alba\"]\n",
    "df_JDD = df_during[in.(df_during.username, Ref(users_JDD)), :]\n",
    "domains_JDD = collect(Iterators.flatten(df_JDD.domain))\n",
    "count_JDD = countmap(domains_JDD)\n",
    "prop_JDD = proportionmap(domains_JDD)\n",
    "\n",
    "\n",
    "users_TE = [\"TheRealYoG\", \"ferozwala\", \"BuggerLePanda\", \"ProfessorsBlogg\", \"Arfatweet\", \"NecktopP\", \"OldRightie\", \"RTUKnews\", \"ali9l9\", \"zerohedge\"]\n",
    "df_TE = df_during[in.(df_during.username, Ref(users_TE)), :]\n",
    "domains_TE = collect(Iterators.flatten(df_TE.domain))\n",
    "count_TE = countmap(domains_TE)\n",
    "prop_TE = proportionmap(domains_TE)\n",
    "\n",
    "if !(length(unique(df_JDD.username)) == 10)\n",
    "    print(\"issue JDD\")\n",
    "end\n",
    "if !(length(unique(df_TE.username)) == 10)\n",
    "    print(\"issue TE\")\n",
    "end\n",
    "\n",
    "println(\"rt :\")\n",
    "println(\"All : $(count[\"rt.com\"] / length(unique(df_during.username)))\")\n",
    "println(\"JDD : $(count_JDD[\"rt.com\"] / length(unique(df_JDD.username)))\")\n",
    "println(\"TE : $(count_TE[\"rt.com\"] / length(unique(df_TE.username)))\")\n",
    "\n",
    "println(\"\")\n",
    "println(\"sputnik :\")\n",
    "println(\"All : $(count[\"sputniknews.com\"] / length(unique(df_during.username)))\")\n",
    "println(\"JDD : $(count_JDD[\"sputniknews.com\"] / length(unique(df_JDD.username)))\")\n",
    "println(\"TE : $(count_TE[\"sputniknews.com\"] / length(unique(df_TE.username)))\")"
   ]
  },
  {
   "cell_type": "code",
   "execution_count": null,
   "metadata": {},
   "outputs": [],
   "source": [
    "df_before = df[df.partition .== \"Before campaign\", :];\n",
    "df_before = df_before[df_before.action .== \"U\", :]\n",
    "\n",
    "\n",
    "domains = collect(Iterators.flatten(df_before.domain))\n",
    "count = countmap(domains)\n",
    "prop = proportionmap(domains)\n",
    "\n",
    "\n",
    "users_TE = [\"peterpobjecky\", \"DontDenyThe\", \"JJorbyn\", \"wherepond\", \"shabbirh\", \"BeeAHoney_\", \"JuliaPolan\", \"PakamamaniRenew\", \"TheUrbanNewz\", \"londonfredd\"]\n",
    "df_TE = df_before[in.(df_before.username, Ref(users_TE)), :]\n",
    "domains_TE = collect(Iterators.flatten(df_TE.domain))\n",
    "count_TE = countmap(domains_TE)\n",
    "prop_TE = proportionmap(domains_TE)\n",
    "\n",
    "if !(length(unique(df_TE.username)) == 10)\n",
    "    print(\"issue TE\")\n",
    "end\n",
    "\n",
    "println(\"rt :\")\n",
    "println(\"All : $(count[\"rt.com\"] / length(unique(df_during.username)))\")\n",
    "println(\"TE : $(count_TE[\"rt.com\"] / length(unique(df_TE.username)))\")\n",
    "\n",
    "println(\"\")\n",
    "println(\"sputnik :\")\n",
    "println(\"All : $(count[\"sputniknews.com\"] / length(unique(df_during.username)))\")\n",
    "println(\"TE : $(count_TE[\"sputniknews.com\"] / length(unique(df_TE.username)))\")"
   ]
  },
  {
   "cell_type": "code",
   "execution_count": null,
   "metadata": {},
   "outputs": [],
   "source": [
    "df_after = df[df.partition .== \"After campaign\", :];\n",
    "df_after = df_after[df_after.action .== \"U\", :]\n",
    "\n",
    "\n",
    "domains = collect(Iterators.flatten(df_after.domain))\n",
    "count = countmap(domains)\n",
    "prop = proportionmap(domains)\n",
    "\n",
    "users_JDD = [\"JudeJack\", \"HillestadNils\", \"SQUADDICTS\", \"starandsixpence\", \"newsbloktwit\", \"flyer4life\", \"jarfizo1\", \"DJSiri\", \"Mr_Nick_Nasty\", \"TacticalFM\"]\n",
    "df_JDD = df_after[in.(df_after.username, Ref(users_JDD)), :]\n",
    "domains_JDD = collect(Iterators.flatten(df_JDD.domain))\n",
    "count_JDD = countmap(domains_JDD)\n",
    "prop_JDD = proportionmap(domains_JDD)\n",
    "\n",
    "\n",
    "users_TE = [\"Pline999\", \"Revoche\", \"SnakeTera\", \"infidelchloe\", \"charlievictor16\", \"Char_lotte777\", \"LordGamblore\", \"iccjock06\", \"StephaniePetri1\", \"TheUrbanNewz\"]\n",
    "df_TE = df_after[in.(df_after.username, Ref(users_TE)), :]\n",
    "domains_TE = collect(Iterators.flatten(df_TE.domain))\n",
    "count_TE = countmap(domains_TE)\n",
    "prop_TE = proportionmap(domains_TE)\n",
    "\n",
    "if !(length(unique(df_JDD.username)) == 10)\n",
    "    print(\"issue JDD\")\n",
    "end\n",
    "if !(length(unique(df_TE.username)) == 10)\n",
    "    print(\"issue TE\")\n",
    "end\n",
    "\n",
    "println(\"rt :\")\n",
    "println(\"All : $(count[\"rt.com\"] / length(unique(df_during.username)))\")\n",
    "println(\"JDD : $(count_JDD[\"rt.com\"] / length(unique(df_JDD.username)))\")\n",
    "println(\"TE : $(count_TE[\"rt.com\"] / length(unique(df_TE.username)))\")\n",
    "\n",
    "println(\"\")\n",
    "println(\"sputnik :\")\n",
    "println(\"All : $(count[\"sputniknews.com\"] / length(unique(df_after.username)))\")\n",
    "println(\"JDD : $(count_JDD[\"sputniknews.com\"] / length(unique(df_JDD.username)))\")\n",
    "println(\"TE : $(count_TE[\"sputniknews.com\"] / length(unique(df_TE.username)))\")"
   ]
  },
  {
   "cell_type": "code",
   "execution_count": null,
   "metadata": {},
   "outputs": [],
   "source": [
    "df = load_dataset(RandomDays)\n",
    "df = no_partition(df)\n",
    "df = trust_score(df)\n",
    "f, _ = all_users()\n",
    "df = f(df)\n",
    "\n",
    "df = unique(df, :username)\n",
    "\n",
    "plot_actor_wordcloud(df, save=true, filename=\"../../Figures/Datasets/Random_all_users/wordcloud.svg\")"
   ]
  },
  {
   "cell_type": "code",
   "execution_count": 5,
   "metadata": {},
   "outputs": [
    {
     "data": {
      "image/png": "[encoded data removed]",
      "text/plain": [
       "PyPlot.Figure(PyObject <Figure size 640x480 with 1 Axes>)"
      ]
     },
     "metadata": {},
     "output_type": "display_data"
    },
    {
     "data": {
      "image/png": "[encoded data removed]",
      "text/plain": [
       "PyPlot.Figure(PyObject <Figure size 640x480 with 1 Axes>)"
      ]
     },
     "metadata": {},
     "output_type": "display_data"
    }
   ],
   "source": [
    "df = load_dataset(COP27)\n",
    "df = cop_27_dates(df)\n",
    "df = trust_score(df)\n",
    "f, _ = all_users()\n",
    "df = f(df)\n",
    "\n",
    "\n",
    "plot_action_frequency(df, save=true, filename=\"../../Figures/COP27/Dataset/action_frequency.pdf\")\n",
    "plot_actor_frequency(df, save=true, filename=\"../../Figures/COP27/Dataset/actor_frequency.pdf\");"
   ]
  },
  {
   "cell_type": "code",
   "execution_count": null,
   "metadata": {},
   "outputs": [],
   "source": [
    "df = load_dataset(RandomDays)\n",
    "df = no_partition(df)\n",
    "df = trust_score(df)\n",
    "f, _ = all_users()\n",
    "df = f(df)\n",
    "\n",
    "\n",
    "plot_actor_frequency(df, save=false, filename=\"../../Figures/Random/Dataset/actor_frequency.pdf\")\n",
    "ax = plt.gca()\n",
    "ax.set_xticks([1], [\"\"])\n",
    "plt.xlabel(\"RandomDays dataset\")\n",
    "plt.savefig(\"../../Figures/Random/Dataset/actor_frequency.pdf\", bbox_inches=\"tight\")\n",
    "\n",
    "\n",
    "plot_action_frequency(df, save=false, filename=\"../../Figures/Random/Dataset/actor_frequency.pdf\")\n",
    "ax = plt.gca()\n",
    "ax.get_legend().remove()\n",
    "plt.savefig(\"../../Figures/Random/Dataset/action_frequency.pdf\", bbox_inches=\"tight\")"
   ]
  },
  {
   "cell_type": "code",
   "execution_count": null,
   "metadata": {},
   "outputs": [],
   "source": [
    "df = load_dataset(Skripal)\n",
    "df = skripal_dates(df)\n",
    "df = trust_score(df)\n",
    "f, _ = IP_scores()\n",
    "\n",
    "df1 = df[df.action .== \"U\", :]\n",
    "df2 = df[df.action .== \"T\", :]\n",
    "\n",
    "df1 = f(df1)\n",
    "df2 = f(df2)\n",
    "\n",
    "\n",
    "partitions = sort(unique(df.partition))\n",
    "dfs_U = []\n",
    "dfs_T = []\n",
    "\n",
    "for partition in partitions\n",
    "    useful1 = df1[df1.partition .== partition, :]\n",
    "    useful1 = unique(useful1, :username)[:, [\"username\", \"partition\", \"I_score\", \"P_score\"]]\n",
    "    useful1.\"I score_rank\" = ordinalrank(useful1.I_score, rev=true)\n",
    "    sort!(useful1, \"I score_rank\")\n",
    "    push!(dfs_U, useful1)\n",
    "\n",
    "    useful2 = df2[df2.partition .== partition, :]\n",
    "    useful2 = unique(useful2, :username)[:, [\"username\", \"partition\", \"I_score\", \"P_score\"]]\n",
    "    useful2.\"I score_rank\" = ordinalrank(useful2.I_score, rev=true)\n",
    "    sort!(useful2, \"I score_rank\")\n",
    "    push!(dfs_T, useful2)\n",
    "end"
   ]
  },
  {
   "cell_type": "code",
   "execution_count": null,
   "metadata": {},
   "outputs": [],
   "source": [
    "dfs_U[3]"
   ]
  },
  {
   "cell_type": "code",
   "execution_count": null,
   "metadata": {},
   "outputs": [],
   "source": [
    "dfs_T[3]"
   ]
  },
  {
   "cell_type": "code",
   "execution_count": null,
   "metadata": {},
   "outputs": [],
   "source": [
    "include(\"../Engine/Engine.jl\")\n",
    "using .Engine\n",
    "\n",
    "using StatsBase, DataFrames\n",
    "import PyPlot as plt\n",
    "import Seaborn as sns"
   ]
  },
  {
   "cell_type": "code",
   "execution_count": null,
   "metadata": {},
   "outputs": [],
   "source": [
    "igg = InfluenceGraphGenerator(JointDistanceDistribution, threshold=1, limit=\"x->minimum(x)/4\")\n",
    "\n",
    "tot = 0\n",
    "for i = 1:1000\n",
    "    # x = rand(0:1, 150)\n",
    "    # y = rand(0:1, 150)\n",
    "\n",
    "    x = sample(0:1, AnalyticWeights([0.9, 0.1]), 150)\n",
    "    y = sample(0:1, AnalyticWeights([0.9, 0.1]), 150)\n",
    "\n",
    "    x = Sensors.standardize(x)\n",
    "    y = Sensors.standardize(y)\n",
    "    tot += igg.causal_function(x,y)\n",
    "end\n",
    "\n",
    "tot"
   ]
  },
  {
   "cell_type": "code",
   "execution_count": null,
   "metadata": {},
   "outputs": [],
   "source": [
    "using ArgParse, StatsBase\n",
    "import Random\n",
    "Random.seed!(1)\n",
    "\n",
    "\n",
    "# function draw_series(N, M = 150, min_ = 3, weights = nothing)\n",
    "#     if isnothing(weights)\n",
    "#         weights = AnalyticWeights([0.96, 0.03, 0.003, 0.001, 0.001])\n",
    "#     end\n",
    "\n",
    "#     sample_ = [sample(0:4, weights, M) for i = 1:N]\n",
    "#     for i = 1:N\n",
    "#         if sum(sample_[i]) < min_\n",
    "#             while sum(sample_[i]) < min_\n",
    "#                 sample_[i] = sample(0:4, weights, M)\n",
    "#             end\n",
    "#         end\n",
    "#     end\n",
    "\n",
    "#     return sample_\n",
    "\n",
    "# end\n",
    "\n",
    "function draw_series(N, M = 150, min_ = 3, weights = nothing)\n",
    "\n",
    "    if isnothing(weights)\n",
    "        weights = AnalyticWeights([0.96, 0.03, 0.003, 0.001, 0.001])\n",
    "    end\n",
    "\n",
    "    sample_ = [sample(0:1, AnalyticWeights([0.9, 0.1]), M) for i = 1:N]\n",
    "    for i = 1:N\n",
    "        if sum(sample_[i]) < min_\n",
    "            while sum(sample_[i]) < min_\n",
    "                sample_[i] = sample(0:1, AnalyticWeights([0.9, 0.1]), M)\n",
    "            end\n",
    "        end\n",
    "    end\n",
    "\n",
    "    return sample_\n",
    "    \n",
    "end\n",
    "\n",
    "\n",
    "N = 10\n",
    "N_redo_all = 5\n",
    "N_redo_surro = 5\n",
    "\n",
    "thresholds2 = [1, 1e-1, 5e-2, 1e-2, 5e-3, 1e-3, 5e-4, 1e-4]\n",
    "limits2 = [\"x->1000000\", \"x->quantile(x, 0.5)\", \"x->quantile(x, 0.25)\", \"x->quantile(x, 0.1)\", \"x->quantile(x, 0)\", \"x->quantile(x, 0)/2\", \"x->quantile(x, 0)/4\", \"x->quantile(x, 0)/6\"]\n",
    "\n",
    "result2 = Matrix{Matrix{Float64}}(undef, length(limits2), length(thresholds2))\n",
    "for i in eachindex(result2)\n",
    "    result2[i] = Matrix{Float64}(undef, N_redo_all, N_redo_surro)\n",
    "end\n",
    "\n",
    "# Random seeds\n",
    "seeds_all = sample(1:10000, N_redo_all, replace=false)\n",
    "seeds_surro = sample(1:10000, N_redo_surro, replace=false)\n",
    "\n",
    "function run(result2)\n",
    "    for (k, seed_all) in enumerate(seeds_all)\n",
    "\n",
    "        Random.seed!(seed_all)\n",
    "        X = draw_series(N)\n",
    "        Y = draw_series(N)\n",
    "\n",
    "        for (l, seed_surro) in enumerate(seeds_surro)\n",
    "\n",
    "            for (i, limit) in enumerate(limits2)\n",
    "                for (j, threshold) in enumerate(thresholds2)\n",
    "\n",
    "                    Random.seed!(seed_surro)\n",
    "                    igg = InfluenceGraphGenerator(JointDistanceDistribution, threshold=threshold, limit=limit)\n",
    "                    tot = 0\n",
    "\n",
    "                    for idx = 1:N\n",
    "                        x = Sensors.standardize(X[idx])\n",
    "                        y = Sensors.standardize(Y[idx])\n",
    "                        a = igg.causal_function(x, y)\n",
    "                        # try\n",
    "                        #     if igg.causal_function(x, y) == 1\n",
    "                        #         tot += 1\n",
    "                        #     end  \n",
    "                        # catch\n",
    "                        #     Foo1 = x\n",
    "                        #     Foo2 = y\n",
    "                        #     # tot += igg.causal_function(x, y)\n",
    "                        #     # return Foo1, Foo2, limit, threshold\n",
    "                        # end\n",
    "                    end\n",
    "\n",
    "                    result2[i,j][k,l] = tot/N\n",
    "\n",
    "                end\n",
    "            end\n",
    "\n",
    "        end\n",
    "\n",
    "    end\n",
    "\n",
    "    return result2\n",
    "\n",
    "end\n",
    "\n",
    "Foo1 = nothing\n",
    "Foo2 = nothing\n",
    "T = nothing\n",
    "L = nothing\n",
    "\n",
    "for (k, seed_all) in enumerate(seeds_all)\n",
    "\n",
    "    Random.seed!(seed_all)\n",
    "    X = draw_series(N)\n",
    "    Y = draw_series(N)\n",
    "\n",
    "    for (l, seed_surro) in enumerate(seeds_surro)\n",
    "\n",
    "        for (i, limit) in enumerate(limits2)\n",
    "            for (j, threshold) in enumerate(thresholds2)\n",
    "\n",
    "                Random.seed!(seed_surro)\n",
    "                igg = InfluenceGraphGenerator(JointDistanceDistribution, threshold=threshold, limit=limit)\n",
    "                tot = 0\n",
    "\n",
    "                for idx = 1:N\n",
    "                    x = Sensors.standardize(X[idx])\n",
    "                    y = Sensors.standardize(Y[idx])\n",
    "                    # a = igg.causal_function(x, y)\n",
    "                    try\n",
    "                        if igg.causal_function(x, y) == 1\n",
    "                            tot += 1\n",
    "                        end  \n",
    "                    catch\n",
    "                        Foo1 = x\n",
    "                        Foo2 = y\n",
    "                        L = limit\n",
    "                        T = threshold\n",
    "                        @goto fdp\n",
    "                        # tot += igg.causal_function(x, y)\n",
    "                        # return Foo1, Foo2, limit, threshold\n",
    "                    end\n",
    "                end\n",
    "\n",
    "                result2[i,j][k,l] = tot/N\n",
    "\n",
    "            end\n",
    "        end\n",
    "\n",
    "    end\n",
    "    @label fdp\n",
    "end\n",
    "\n",
    "\n",
    "# a, b, L, T = run(result2)\n"
   ]
  },
  {
   "cell_type": "code",
   "execution_count": null,
   "metadata": {},
   "outputs": [],
   "source": [
    "igg = InfluenceGraphGenerator(JointDistanceDistribution, threshold=10000, limit=\"x->minimum(x)/4\")\n",
    "igg.causal_function(Foo1, Foo2)"
   ]
  },
  {
   "cell_type": "code",
   "execution_count": null,
   "metadata": {},
   "outputs": [],
   "source": []
  },
  {
   "cell_type": "code",
   "execution_count": null,
   "metadata": {},
   "outputs": [],
   "source": [
    "using Distances\n",
    "\n",
    "measure(x,y) = jdd(x, y, distance_metric=SqEuclidean(), B=10, D=5, τ=1)\n",
    "\n",
    "x = Foo1\n",
    "y = Foo2\n",
    "A = nothing\n",
    "B = nothing\n",
    "\n",
    "generator = surrogenerator(x, RandomShuffle())\n",
    "surro_values = Vector(undef, 100)\n",
    "for i = 1:100\n",
    "    x = generator()\n",
    "    surro_values[i] = measure(x, y)\n",
    "    # if isnan(surro_values[i])\n",
    "        # A = copy(x)\n",
    "        # B = copy(y)\n",
    "    # end\n",
    "end"
   ]
  },
  {
   "cell_type": "code",
   "execution_count": null,
   "metadata": {},
   "outputs": [],
   "source": [
    "ttests = OneSampleTTest.(surro_values)\n",
    "pvals = pvalue.(ttests, tail=:right)\n",
    "\n",
    "indices = findall(isnan.(pvals))"
   ]
  },
  {
   "cell_type": "code",
   "execution_count": null,
   "metadata": {},
   "outputs": [],
   "source": [
    "# ttests[indices[6]]\n",
    "surro_values[indices[10]]"
   ]
  },
  {
   "cell_type": "code",
   "execution_count": null,
   "metadata": {},
   "outputs": [],
   "source": [
    "t = OneSampleTTest([1,1,1,1,1,1,1], 1)\n",
    "# pvalue(t)"
   ]
  },
  {
   "cell_type": "code",
   "execution_count": null,
   "metadata": {},
   "outputs": [],
   "source": [
    "filter()"
   ]
  },
  {
   "cell_type": "code",
   "execution_count": null,
   "metadata": {},
   "outputs": [],
   "source": [
    "Vector{Int64} <: AbstractVector{T} where T<:Real"
   ]
  },
  {
   "cell_type": "code",
   "execution_count": null,
   "metadata": {},
   "outputs": [],
   "source": [
    "surro_values"
   ]
  },
  {
   "cell_type": "code",
   "execution_count": null,
   "metadata": {},
   "outputs": [],
   "source": [
    "sum(isnan.(surro_values))"
   ]
  },
  {
   "cell_type": "code",
   "execution_count": null,
   "metadata": {},
   "outputs": [],
   "source": [
    "measure(A,B)"
   ]
  },
  {
   "cell_type": "code",
   "execution_count": null,
   "metadata": {},
   "outputs": [],
   "source": [
    "print(A)"
   ]
  },
  {
   "cell_type": "code",
   "execution_count": null,
   "metadata": {},
   "outputs": [],
   "source": [
    "using Distances: Euclidean\n",
    "using Distances: pairwise\n",
    "using DelayEmbeddings: genembed\n",
    "using HypothesisTests\n",
    "\n",
    "js = ([1 for i = 1:5]...,)\n",
    "τs = (collect(0:-1:-(5-1)*1)...,)\n",
    "Ex = genembed(A, τs, js)\n",
    "Ey = genembed(B, τs, js)\n",
    "Dx = pairwise(Euclidean(), Ex.data)\n",
    "Dy = pairwise(Euclidean(), Ey.data)\n",
    "\n",
    "fDx = filter(dx -> dx .> 0, Dx)\n",
    "fDy = filter(dy -> dy .> 0, Dy)\n",
    "Dx_min, Dx_max = minimum(fDx), maximum(fDx)\n",
    "Dy_min, Dy_max = minimum(fDy), maximum(fDy)\n",
    "\n",
    "normDx = rank_transformation(vec(Dx)) ./ length(Dx)\n",
    "normDy = rank_transformation(vec(Dy)) ./ length(Dy)"
   ]
  },
  {
   "cell_type": "code",
   "execution_count": null,
   "metadata": {},
   "outputs": [],
   "source": [
    "Dx"
   ]
  },
  {
   "cell_type": "code",
   "execution_count": null,
   "metadata": {},
   "outputs": [],
   "source": [
    "Dx_max"
   ]
  },
  {
   "cell_type": "code",
   "execution_count": null,
   "metadata": {},
   "outputs": [],
   "source": [
    "igg = InfluenceGraphGenerator(JointDistanceDistribution, threshold=T, limit=L)\n",
    "igg.causal_function(Foo1, Foo2)"
   ]
  },
  {
   "cell_type": "code",
   "execution_count": null,
   "metadata": {},
   "outputs": [],
   "source": []
  },
  {
   "cell_type": "code",
   "execution_count": null,
   "metadata": {},
   "outputs": [],
   "source": [
    "folder = \"/Users/cyrilvallez/Desktop/Thesis/Data/Twitter/Skripal_processed_lightweight\"\n",
    "files = [file for file in readdir(folder, join=true) if occursin(\".json\", file)]\n",
    "\n",
    "df1 = vcat([Helpers.load_json(file) for file in files]...)\n",
    "df2 = Helpers.load_json(\"/Users/cyrilvallez/Desktop/Thesis/Data/BrandWatch/Skripal/skripal_clean_lightweight.json\")"
   ]
  },
  {
   "cell_type": "code",
   "execution_count": null,
   "metadata": {},
   "outputs": [],
   "source": [
    "plt.figure()\n",
    "plt.hist(df1.created_at, bins=100)\n",
    "xloc, xlabels = plt.xticks()\n",
    "plt.xticks(xloc, xlabels, rotation=\"vertical\");\n"
   ]
  },
  {
   "cell_type": "code",
   "execution_count": null,
   "metadata": {},
   "outputs": [],
   "source": [
    "plt.figure()\n",
    "plt.hist(df2.created_at, bins=100)\n",
    "xloc, xlabels = plt.xticks()\n",
    "plt.xticks(xloc, xlabels, rotation=\"vertical\");"
   ]
  },
  {
   "cell_type": "code",
   "execution_count": null,
   "metadata": {},
   "outputs": [],
   "source": [
    "df3 = load_dataset(Skripal)\n",
    "df3 = skripal_dates(df3)\n",
    "\n",
    "\n",
    "plt.figure()\n",
    "plt.hist(df3.created_at, bins=100)\n",
    "xloc, xlabels = plt.xticks()\n",
    "plt.xticks(xloc, xlabels, rotation=\"vertical\");"
   ]
  },
  {
   "cell_type": "code",
   "execution_count": null,
   "metadata": {},
   "outputs": [],
   "source": [
    "[0.9*0.15^i for i = 0:4]"
   ]
  },
  {
   "cell_type": "code",
   "execution_count": null,
   "metadata": {},
   "outputs": [],
   "source": [
    "sum(weights)"
   ]
  },
  {
   "cell_type": "code",
   "execution_count": null,
   "metadata": {},
   "outputs": [],
   "source": [
    "using StatsBase\n",
    "\n",
    "weights = AnalyticWeights([0.965, 0.03, 0.003, 0.001, 0.001])\n",
    "b = AnalyticWeights(weights)\n",
    "\n",
    "foo = [sample(0:4, b, 150) for i = 1:10000]\n",
    "test = [sum(a) for a in foo]\n",
    "\n",
    "plt.figure()\n",
    "plt.boxplot(test);"
   ]
  },
  {
   "cell_type": "code",
   "execution_count": null,
   "metadata": {},
   "outputs": [],
   "source": [
    "function draw_series(N, M = 150, weights = nothing)\n",
    "    if isnothing(weights)\n",
    "        weights = AnalyticWeights([0.965, 0.03, 0.003, 0.001, 0.001])\n",
    "    end\n",
    "\n",
    "    sample_ = [sample(0:4, weights, M) for i = 1:N]\n",
    "    for i = 1:N\n",
    "        if sum(sample_[i]) < 3\n",
    "            while sum(sample_[i]) < 3\n",
    "                sample_[i] = sample(0:4, weights, M)\n",
    "            end\n",
    "        end\n",
    "    end\n",
    "\n",
    "    return sample_\n",
    "\n",
    "end\n",
    "\n",
    "foo = draw_series(10000)\n",
    "test = [sum(a) for a in foo]\n",
    "\n",
    "plt.figure()\n",
    "plt.boxplot(test);"
   ]
  },
  {
   "cell_type": "code",
   "execution_count": null,
   "metadata": {},
   "outputs": [],
   "source": [
    "10000*100*2.5e-3/3600*25*8"
   ]
  },
  {
   "cell_type": "code",
   "execution_count": null,
   "metadata": {},
   "outputs": [],
   "source": [
    "df = load_dataset(Skripal)"
   ]
  },
  {
   "cell_type": "code",
   "execution_count": null,
   "metadata": {},
   "outputs": [],
   "source": [
    "df = load_dataset(Skripal)\n",
    "df = skripal_dates(df)\n",
    "df = trust_score(df)\n",
    "f, _ = all_users()\n",
    "df = f(df)\n",
    "\n",
    "plot_action_frequency(df, save=true, log=false, filename=\"../../Figures/Datasets/Skripal_all_users/action_frequency.pdf\");"
   ]
  },
  {
   "cell_type": "code",
   "execution_count": null,
   "metadata": {},
   "outputs": [],
   "source": [
    "\n",
    "\n",
    "df = skripal_dates(df)\n",
    "f, _ = all_users()\n",
    "df = f(df)\n",
    "\n",
    "combine(groupby(df, \"partition\"), \"username\" => (x->length(unique(x))) => \"count\")"
   ]
  },
  {
   "cell_type": "code",
   "execution_count": null,
   "metadata": {},
   "outputs": [],
   "source": [
    "using PyPlot: @L_str\n",
    "\n",
    "result = load_data(\"/Users/cyrilvallez/Desktop/Thesis/Results/Find_thresholds/N_1000_JDD.jld2\")\n",
    "labels = [\"None\", \"Q(0.5)\", \"Q(0.25)\", \"Q(0.1)\", \"min\", \"min/2\", \"min/4\", \"min/6\"]\n",
    "thresholds = [1, 1e-1, 5e-2, 1e-2, 5e-3, 1e-3, 5e-4, 1e-4]\n",
    "\n",
    "\n",
    "mean_value = Matrix{Float64}(undef, size(result))\n",
    "for i in eachindex(result)\n",
    "    mean_value[i] = mean(result[i])\n",
    "end\n",
    "\n",
    "if any(mean_value .== 0)\n",
    "    vmin = minimum(mean_value[mean_value .!= 0])*0.5\n",
    "else\n",
    "    vmin = minimum(mean_value)\n",
    "end\n",
    "\n",
    "plt.figure(figsize=[6.4, 4.8])\n",
    "sns.heatmap(mean_value, annot=true, cmap=\"rocket_r\", norm=plt.matplotlib.colors.LogNorm(vmin=vmin, clip=true))\n",
    "plt.xlabel(\"p-value\")\n",
    "plt.ylabel(L\"S(\\cdot)\")\n",
    "xloc, xlabels = plt.xticks()\n",
    "plt.xticks(xloc, thresholds)\n",
    "yloc, ylabels = plt.yticks()\n",
    "plt.yticks(yloc, labels, rotation=\"horizontal\")\n",
    "xloc, xlabels = plt.xticks()\n",
    "plt.xticks(xloc, [\"1.0\", \"1e-1\", \"5e-2\", \"1e-2\", \"5e-3\", \"1e-3\", \"5e-4\", \"1e-4\"])\n",
    "plt.savefig(\"/Users/cyrilvallez/Desktop/Thesis/Figures/Thresholds/N_1000_JDD.pdf\", bbox_inches=\"tight\")\n",
    "plt.gcf();"
   ]
  },
  {
   "cell_type": "code",
   "execution_count": null,
   "metadata": {},
   "outputs": [],
   "source": [
    "import Seaborn as sns\n",
    "\n",
    "result = load_data(\"/Users/cyrilvallez/Desktop/Thesis/Results/Find_thresholds/new_test2_TE.jld2\")\n",
    "labels = [\"None\", \"Q(0.5)\", \"Q(0.75)\", \"Q(0.9)\", \"max\", \"2max\", \"4max\"]\n",
    "thresholds = 0:0.1:0.6\n",
    "\n",
    "\n",
    "mean_value = Matrix{Float64}(undef, size(result))\n",
    "for i in eachindex(result)\n",
    "    mean_value[i] = mean(result[i])\n",
    "end\n",
    "\n",
    "if any(mean_value .== 0)\n",
    "    vmin = minimum(mean_value[mean_value .!= 0])*0.5\n",
    "else\n",
    "    vmin = minimum(mean_value)\n",
    "end\n",
    "\n",
    "plt.figure(figsize=[6.4, 4.8].*1.2)\n",
    "sns.heatmap(mean_value, annot=true, cmap=\"rocket_r\", fmt=\".2g\", norm=plt.matplotlib.colors.LogNorm(vmin=vmin, clip=true))\n",
    "plt.xlabel(\"Threshold\")\n",
    "plt.ylabel(\"Limit value\")\n",
    "xloc, xlabels = plt.xticks()\n",
    "plt.xticks(xloc, thresholds)\n",
    "yloc, ylabels = plt.yticks()\n",
    "plt.yticks(yloc, labels, rotation=\"horizontal\")\n",
    "plt.gcf();"
   ]
  },
  {
   "cell_type": "code",
   "execution_count": null,
   "metadata": {},
   "outputs": [],
   "source": [
    "cop26 = load_dataset(COP26)\n",
    "ranks = get_all_ranks(cop26, cop_26_dates)\n",
    "\n",
    "graphs, cascades, df = load_data(\"/home/ubuntu/Thesis/Results/JDD_all_users/COP26/data.jld2\");"
   ]
  },
  {
   "cell_type": "code",
   "execution_count": null,
   "metadata": {},
   "outputs": [],
   "source": [
    "# plt.figure()\n",
    "# sns.heatmap(mean_value, annot=true, cmap=\"rocket_r\")\n",
    "# plt.xlabel(\"Threshold\")\n",
    "# plt.ylabel(\"Limit value\")\n",
    "# xloc, xlabels = plt.xticks()\n",
    "# plt.xticks(xloc, thresholds)\n",
    "# yloc, ylabels = plt.yticks()\n",
    "# plt.yticks(yloc, labels, rotation=\"horizontal\")\n",
    "# plt.savefig(path * \"_TE.pdf\", bbox_inches=\"tight\")\n",
    "# plt.gcf()\n",
    "\n"
   ]
  },
  {
   "cell_type": "code",
   "execution_count": null,
   "metadata": {},
   "outputs": [],
   "source": [
    "ranks[end-20:end, :]"
   ]
  },
  {
   "cell_type": "code",
   "execution_count": null,
   "metadata": {},
   "outputs": [],
   "source": [
    "using Graphs, SimpleWeightedGraphs\n",
    "edge_type = \"Any Edge\"\n",
    "N_biggest = 20\n",
    "cuttoff = 0\n",
    "\n",
    "between, between_actors = betweenness_centralities2(graphs, df, cuttoff=cuttoff, edge_type=edge_type)\n",
    "in_, in_actors = indegree_centralities2(graphs, df, cuttoff=cuttoff, edge_type=edge_type)\n",
    "out, out_actors = outdegree_centralities2(graphs, df, cuttoff=cuttoff, edge_type=edge_type)\n",
    "\n",
    "between_actors[3][1:N_biggest]"
   ]
  },
  {
   "cell_type": "code",
   "execution_count": null,
   "metadata": {},
   "outputs": [],
   "source": [
    "out_actors[3][1:N_biggest]"
   ]
  },
  {
   "cell_type": "code",
   "execution_count": null,
   "metadata": {},
   "outputs": [],
   "source": [
    "# ranks.tweet_rank = ordinalrank(ranks.tweet_count, rev=true)\n",
    "foo = ranks[ranks.partition .== \"During COP26\", [\"username\", \"tweet_rank\", \"tweet_count\"]]\n",
    "sort!(foo, :tweet_rank)"
   ]
  },
  {
   "cell_type": "code",
   "execution_count": null,
   "metadata": {},
   "outputs": [],
   "source": [
    "file1 = \"/home/ubuntu/Thesis/Results/JDD_all_users/COP26-After_COP26/data.jld2\"\n",
    "file2 = \"/home/ubuntu/Thesis/Results/JDD_all_users/COP26-Before_COP26/data.jld2\"\n",
    "file3 = \"/home/ubuntu/Thesis/Results/JDD_all_users/COP26-During_COP26/data.jld2\"\n",
    "\n",
    "df = load_dataset(COP26)\n",
    "\n",
    "# Define partitions, actions and actors\n",
    "partitions = cop_26_dates\n",
    "actions = trust_score\n",
    "actors = all_users(by_partition=true, min_tweets=3)\n",
    "agents = PreProcessingAgents(partitions, actions, actors)\n",
    "\n",
    "df = preprocessing(df, agents)\n",
    "\n",
    "graph1, cascade1, _ = load_data(file1)\n",
    "graph2, cascade2, _ = load_data(file2)\n",
    "graph3, cascade3, _ = load_data(file3)\n",
    "\n",
    "graph1 = graph1[1]\n",
    "cascade1 = cascade1[1]\n",
    "graph2 = graph2[1]\n",
    "cascade2 = cascade2[1]\n",
    "graph3 = graph3[1]\n",
    "cascade3 = cascade3[1]\n",
    "\n",
    "graphs = [graph1, graph2, graph3]\n",
    "cascades = [cascade1, cascade2, cascade3]\n",
    "\n",
    "# mkpath(\"/home/ubuntu/Thesis/Results/JDD_all_users/COP26\")\n",
    "# save_data(graphs, cascades, df, \"/home/ubuntu/Thesis/Results/JDD_all_users/COP26/data.jld2\")"
   ]
  },
  {
   "cell_type": "code",
   "execution_count": null,
   "metadata": {},
   "outputs": [],
   "source": [
    "filename1 = \"/Users/cyrilvallez/Desktop/Thesis/Data/Twitter/Skripal_processed_lightweight\"\n",
    "filename2 = \"/Users/cyrilvallez/Desktop/Thesis/Data/BrandWatch/Skripal/skripal_clean_lightweight.json\"\n",
    "\n",
    "datafiles1 = [file for file in readdir(filename1, join=true) if occursin(\".json\", file)]\n",
    "\n",
    "df1 = vcat([Helpers.load_json(file) for file in datafiles1]...)\n",
    "df3 = Helpers.load_json(filename2)\n",
    "\n",
    "df1 = df1[:, Not(\"sentiment\")]\n",
    "\n",
    "sum_ = 0\n",
    "for i = 1:length(df1[:, 1])\n",
    "    if df1[1,:] in eachrow(df3)\n",
    "        sum_ += 1\n",
    "    end\n",
    "end\n",
    "sum_"
   ]
  },
  {
   "cell_type": "code",
   "execution_count": null,
   "metadata": {},
   "outputs": [],
   "source": [
    "using Languages\n",
    "import CSV\n",
    "using DataFrames\n",
    "\n",
    "detector = LanguageDetector()\n",
    "\n",
    "df2 = Helpers.load_json(\"/Users/cyrilvallez/Desktop/Thesis/Data/BrandWatch/Skripal/skripal_clean.json\")\n",
    "news = CSV.read(\"/Users/cyrilvallez/Desktop/Thesis/Data/newsguard_full_table_clean.csv\", DataFrame)\n",
    "\n",
    "isin = (x,y) -> ismissing(x) ? missing : any([any(elem .== y) for elem in x])\n",
    "mask = isin.(df2.domain, Ref(news.domain))\n",
    "df2 = df2[mask, :]\n",
    "\n",
    "df2.lang = detector.(df2.text)"
   ]
  },
  {
   "cell_type": "code",
   "execution_count": null,
   "metadata": {},
   "outputs": [],
   "source": [
    "using StatsBase\n",
    "include(\"../Engine/Engine.jl\")\n",
    "using .Engine\n",
    "import PyPlot as plt\n",
    "import Seaborn as sns"
   ]
  },
  {
   "cell_type": "code",
   "execution_count": null,
   "metadata": {},
   "outputs": [],
   "source": [
    "df = load_dataset(Skripal)\n",
    "df = skripal_dates(df);\n",
    "df = trust_score(df);\n",
    "f, _ = IP_scores(by_partition=false)\n",
    "df = f(df);\n",
    "\n",
    "x = df.\"username\"\n",
    "indices = unique(i -> x[i], 1:length(x))\n",
    "# Get unique usernames and corresponding follower_count\n",
    "users = x[indices]\n",
    "I = df.I_score[indices]\n",
    "P = df.P_score[indices]\n",
    "\n",
    "sorting = sortperm(I, rev=true)\n",
    "users = users[sorting]\n",
    "P = P[sorting]\n",
    "I = I[sorting]\n",
    "\n",
    "print(users[1:30])"
   ]
  },
  {
   "cell_type": "code",
   "execution_count": null,
   "metadata": {},
   "outputs": [],
   "source": [
    "filename = \"/Users/cyrilvallez/Desktop/Thesis/Data/Twitter/Skripal_processed_lightweight\"\n",
    "files = [file for file in readdir(filename, join=true)]\n",
    "frames = [Helpers.load_json(file) for file in files]\n",
    "df = vcat(frames...)\n",
    "\n",
    "\n",
    "df = skripal_dates(df);\n",
    "df = trust_score(df);\n",
    "f, _ = IP_scores(by_partition=false)\n",
    "df = f(df);\n",
    "\n",
    "x = df.\"username\"\n",
    "indices = unique(i -> x[i], 1:length(x))\n",
    "# Get unique usernames and corresponding follower_count\n",
    "users = x[indices]\n",
    "I = df.I_score[indices]\n",
    "P = df.P_score[indices]\n",
    "\n",
    "sorting = sortperm(I, rev=true)\n",
    "users = users[sorting]\n",
    "P = P[sorting]\n",
    "I = I[sorting]\n",
    "\n",
    "print(users[1:30])"
   ]
  },
  {
   "cell_type": "code",
   "execution_count": null,
   "metadata": {},
   "outputs": [],
   "source": [
    "print(users[1:50])"
   ]
  },
  {
   "cell_type": "code",
   "execution_count": null,
   "metadata": {},
   "outputs": [],
   "source": [
    "df2 = load_dataset(COP26)\n",
    "df2 = cop_26_dates(df2)\n",
    "f, _ = IP_scores(actor_number=\"all_positive\", aggregate_size=100000000)\n",
    "df2 = f(df2)\n",
    "\n",
    "combine(groupby(df2, \"partition\"), \"actor\" => (x->length(unique(x))) => \"count\")"
   ]
  },
  {
   "cell_type": "code",
   "execution_count": null,
   "metadata": {},
   "outputs": [],
   "source": [
    "df2 = load_dataset(COP26)\n",
    "df2 = cop_26_dates(df2)\n",
    "f, _ = IP_scores(actor_number=\"all\", aggregate_size=100000000)\n",
    "df2 = f(df2)\n",
    "\n",
    "combine(groupby(df2, \"partition\"), \"actor\" => (x->length(unique(x))) => \"count\")"
   ]
  },
  {
   "cell_type": "code",
   "execution_count": null,
   "metadata": {},
   "outputs": [],
   "source": [
    "x = df.\"username\"\n",
    "indices = unique(i -> x[i], 1:length(x))\n",
    "# Get unique usernames and corresponding follower_count\n",
    "users = x[indices]\n",
    "I = df.I_score[indices]\n",
    "P = df.P_score[indices]\n",
    "\n",
    "sorting = sortperm(I, rev=true)\n",
    "users = users[sorting]\n",
    "P = P[sorting]\n",
    "I = I[sorting]"
   ]
  },
  {
   "cell_type": "code",
   "execution_count": null,
   "metadata": {},
   "outputs": [],
   "source": [
    "x = rand(200)\n",
    "y = rand(200)\n",
    "\n",
    "\n"
   ]
  },
  {
   "cell_type": "code",
   "execution_count": null,
   "metadata": {},
   "outputs": [],
   "source": [
    "sum(df2.I_score .> 0)"
   ]
  },
  {
   "cell_type": "code",
   "execution_count": null,
   "metadata": {},
   "outputs": [],
   "source": [
    "import PyPlot as plt\n",
    "\n",
    "plt.hist(df2.created_at, bins=42)"
   ]
  },
  {
   "cell_type": "markdown",
   "metadata": {},
   "source": [
    "df = co"
   ]
  },
  {
   "cell_type": "code",
   "execution_count": null,
   "metadata": {},
   "outputs": [],
   "source": [
    "plot_action_frequency(df)"
   ]
  },
  {
   "cell_type": "code",
   "execution_count": null,
   "metadata": {},
   "outputs": [],
   "source": [
    "x = rand(0:1, 200);"
   ]
  },
  {
   "cell_type": "code",
   "execution_count": null,
   "metadata": {},
   "outputs": [],
   "source": [
    "using CausalityTools\n",
    "import Random\n",
    "Random.seed!(12)\n",
    "\n",
    "surros = []\n",
    "generator = surrogenerator(x, RandomShuffle())\n",
    "for i = 1:100\n",
    "    push!(surros, copy(generator()))\n",
    "end\n",
    "\n",
    "generator = surrogenerator(x, RandomShuffle())\n",
    "for i = 1:100\n",
    "    push!(surros, copy(generator()))\n",
    "end"
   ]
  },
  {
   "cell_type": "code",
   "execution_count": null,
   "metadata": {},
   "outputs": [],
   "source": [
    "using Dates\n",
    "\n",
    "DateTime(2018, 04, 08, 01, 00, 00) > Date(2018, 04, 8)"
   ]
  },
  {
   "cell_type": "code",
   "execution_count": null,
   "metadata": {},
   "outputs": [],
   "source": [
    "Random.seed!(12)\n",
    "\n",
    "surros2 = []\n",
    "generator = surrogenerator(x, RandomShuffle())\n",
    "for i = 1:100\n",
    "    push!(surros2, copy(generator()))\n",
    "end\n",
    "\n",
    "generator = surrogenerator(x, RandomShuffle())\n",
    "for i = 1:100\n",
    "    push!(surros2, copy(generator()))\n",
    "end"
   ]
  },
  {
   "cell_type": "code",
   "execution_count": null,
   "metadata": {},
   "outputs": [],
   "source": [
    "# f1, _ = IP_scores(by_partition=true, actor_number=\"all\")\n",
    "f2, _ = all_users(by_partition=true)\n",
    "\n",
    "# df1 = f1(df)\n",
    "df2 = f2(df);"
   ]
  },
  {
   "cell_type": "code",
   "execution_count": null,
   "metadata": {},
   "outputs": [],
   "source": [
    "unique(df2.username)"
   ]
  },
  {
   "cell_type": "code",
   "execution_count": null,
   "metadata": {},
   "outputs": [],
   "source": [
    "df1[:, Not([\"I_score\", \"P_score\", \"retweet_from\"])] == df2[:, Not([\"tweet_count\", \"retweet_from\"])]"
   ]
  },
  {
   "cell_type": "code",
   "execution_count": null,
   "metadata": {},
   "outputs": [],
   "source": [
    "names(df1)"
   ]
  },
  {
   "cell_type": "code",
   "execution_count": null,
   "metadata": {},
   "outputs": [],
   "source": [
    "f1, _ = IP_scores(by_partition=true, min_tweets=3)\n",
    "df1 = f1(df)\n",
    "df1 = df1[:, Not(\"retweet_from\")]\n",
    "df1 = select(df1, sort(names(df1)));"
   ]
  },
  {
   "cell_type": "code",
   "execution_count": null,
   "metadata": {},
   "outputs": [],
   "source": [
    "combine(groupby(df1, \"partition\"), \"username\" => (x->length(unique(x))) => \"count\")"
   ]
  },
  {
   "cell_type": "code",
   "execution_count": null,
   "metadata": {},
   "outputs": [],
   "source": [
    "f2, _ = IP_scores(by_partition=false, min_tweets=3)\n",
    "\n",
    "dfs = []\n",
    "for partition in unique(df.partition)\n",
    "    push!(dfs, f2(df[df.partition .== partition, :]))\n",
    "end\n",
    "df2 = vcat(dfs...)[:, Not(\"retweet_from\")]\n",
    "df2 = select(df2, sort(names(df2)));"
   ]
  },
  {
   "cell_type": "code",
   "execution_count": null,
   "metadata": {},
   "outputs": [],
   "source": [
    "df1 == df2"
   ]
  },
  {
   "cell_type": "code",
   "execution_count": null,
   "metadata": {},
   "outputs": [],
   "source": [
    "using BenchmarkTools\n",
    "using CausalityTools\n",
    "\n",
    "igg = InfluenceGraphGenerator(Engine.JointDistanceDistribution, surrogate=nothing)\n",
    "\n",
    "f = (x,y) -> pvalue(jdd(OneSampleTTest, x, y, B=10, D=5, τ=1, μ0=0.0), tail=:right) < 0.001 ? 1 : 0\n",
    "f2 = (x,y) -> igg.causal_function(x,y)\n",
    "\n",
    "x = rand(600)\n",
    "y = rand(600)\n",
    "\n",
    "@btime f2(x,y)"
   ]
  },
  {
   "cell_type": "code",
   "execution_count": null,
   "metadata": {},
   "outputs": [],
   "source": [
    "regex = r\"^AGG[0-9]+:\"\n",
    "a = \"AGG1678934: joeoepzocnjocz    dveonoze^12\"\n",
    "if occursin(regex, a)\n",
    "    print(\"cool\")\n",
    "else\n",
    "    print(\"prout\")\n",
    "end"
   ]
  },
  {
   "cell_type": "code",
   "execution_count": null,
   "metadata": {},
   "outputs": [],
   "source": [
    "df1 = transform(groupby(df1, \"username\"), \"effective_category\" => (x -> sum(x .== \"tweet\")) => \"tweet_count\")\n",
    "df2 = transform(groupby(df2, \"username\"), \"effective_category\" => (x -> sum(x .== \"tweet\")) => \"tweet_count\")\n",
    "df3 = transform(groupby(df3, \"username\"), \"effective_category\" => (x -> sum(x .== \"tweet\")) => \"tweet_count\")"
   ]
  },
  {
   "cell_type": "code",
   "execution_count": null,
   "metadata": {},
   "outputs": [],
   "source": [
    "df1 = df1[df1.tweet_count .>= 3, :]\n",
    "df2 = df2[df2.tweet_count .>= 3, :]\n",
    "df3 = df3[df3.tweet_count .>= 3, :]"
   ]
  },
  {
   "cell_type": "code",
   "execution_count": null,
   "metadata": {},
   "outputs": [],
   "source": [
    "length(unique(df2.username))"
   ]
  },
  {
   "cell_type": "code",
   "execution_count": null,
   "metadata": {},
   "outputs": [],
   "source": [
    "plot_action_frequency(df2)"
   ]
  },
  {
   "cell_type": "code",
   "execution_count": null,
   "metadata": {},
   "outputs": [],
   "source": [
    "length(unique(df2.username))"
   ]
  },
  {
   "cell_type": "code",
   "execution_count": null,
   "metadata": {},
   "outputs": [],
   "source": [
    "tweet_count = combine(groupby(tweeters, \"username\"), \"created_at\" => length => \"count\")\n",
    "tweet_count = tweet_count[tweet_count.count .>= 3, :]\n",
    "nodes = tweet_count.username"
   ]
  },
  {
   "cell_type": "code",
   "execution_count": null,
   "metadata": {},
   "outputs": [],
   "source": [
    "\"GretaThunberg\" in nodes"
   ]
  },
  {
   "cell_type": "code",
   "execution_count": null,
   "metadata": {},
   "outputs": [],
   "source": [
    "using Dates\n",
    "\n",
    "df = load_dataset(COP26)\n",
    "\n",
    "df = df[.~ismissing.(df.\"domain\"), :]\n",
    "if eltype(df.\"created_at\") == String\n",
    "    to_datetime = x -> DateTime(split(x, '.')[1], \"yyyy-mm-ddTHH:MM:SS\")\n",
    "    df.\"created_at\" = to_datetime.(df.\"created_at\")\n",
    "end\n",
    "\n",
    "df = PreProcessing.cop_26_dates(df)\n",
    "df = PreProcessing.trust_score(df)\n",
    "df = transform(groupby(df, \"username\"), \"created_at\" => length => \"count\")\n",
    "\n",
    "tweeters = df[df.effective_category .== \"tweet\", :]\n",
    "retweeters = df[df.effective_category .== \"retweet\", :]\n",
    "\n",
    "bad_df = df[df.action .== \"U\", :]\n",
    "good_df = df[df.action .== \"T\", :]\n",
    "\n",
    "weights, u, v, nodes = PreProcessing.IP_graph(df, min_tweets=3)\n",
    "\n",
    "I, P, residuals = PreProcessing.IP_scores(u, v)\n",
    "\n",
    "# Sort in the order of most influence\n",
    "sorting = sortperm(I, rev=true)\n",
    "nodes = nodes[sorting]\n",
    "I = I[sorting]\n",
    "P = P[sorting]\n",
    "\n",
    "# Extract dataframes of 500 most influentials according to I score\n",
    "isin = (x,y) -> x in y\n",
    "influentials = tweeters[isin.(tweeters.username, Ref(nodes[1:500])), :]\n",
    "foo = combine(groupby(influentials, \"username\"), \"action\" => (x -> sum(x .== \"U\")) => \"U_count\")\n",
    "\n",
    "bad_users = foo.username[foo.U_count .> 0]\n",
    "bad_users_rank = [findall(user .== nodes) for user in bad_users];"
   ]
  },
  {
   "cell_type": "code",
   "execution_count": null,
   "metadata": {},
   "outputs": [],
   "source": [
    "nodes_bad[1:20]"
   ]
  },
  {
   "cell_type": "code",
   "execution_count": null,
   "metadata": {},
   "outputs": [],
   "source": [
    "# I_normal = I\n",
    "# P_normal = P\n",
    "# nodes_normal = nodes\n",
    "\n",
    "test_normal = nodes_normal[I_normal .> 0];"
   ]
  },
  {
   "cell_type": "code",
   "execution_count": null,
   "metadata": {},
   "outputs": [],
   "source": [
    "# I_bad = I\n",
    "# P_bad = P\n",
    "# nodes_bad = nodes\n",
    "\n",
    "test_bad = nodes_bad[I_bad .> 0];"
   ]
  },
  {
   "cell_type": "code",
   "execution_count": null,
   "metadata": {},
   "outputs": [],
   "source": [
    "a = [[1, 2], [3, 4]]"
   ]
  },
  {
   "cell_type": "code",
   "execution_count": null,
   "metadata": {},
   "outputs": [],
   "source": [
    "foo = @view a[1]"
   ]
  },
  {
   "cell_type": "code",
   "execution_count": null,
   "metadata": {},
   "outputs": [],
   "source": [
    "foo2 = a[2]"
   ]
  },
  {
   "cell_type": "code",
   "execution_count": null,
   "metadata": {},
   "outputs": [],
   "source": [
    "foo[1]"
   ]
  },
  {
   "cell_type": "code",
   "execution_count": null,
   "metadata": {},
   "outputs": [],
   "source": [
    "a[1][1] = 2\n",
    "a"
   ]
  },
  {
   "cell_type": "code",
   "execution_count": null,
   "metadata": {},
   "outputs": [],
   "source": [
    "isin = (x,y) -> x in y\n",
    "# sum(isin.(nodes_bad[1:500], Ref(nodes_normal[1:500])))\n",
    "\n",
    "sum(isin.(test_bad, Ref(test_normal))) "
   ]
  },
  {
   "cell_type": "code",
   "execution_count": null,
   "metadata": {},
   "outputs": [],
   "source": [
    "sum(I_normal .> 0)"
   ]
  },
  {
   "cell_type": "code",
   "execution_count": null,
   "metadata": {},
   "outputs": [],
   "source": [
    "(12200 - 500) / 100"
   ]
  },
  {
   "cell_type": "code",
   "execution_count": null,
   "metadata": {},
   "outputs": [],
   "source": [
    "sorting = sortperm(P, rev=true)\n",
    "nodes = nodes[sorting]\n",
    "I = I[sorting]\n",
    "P = P[sorting]"
   ]
  },
  {
   "cell_type": "code",
   "execution_count": null,
   "metadata": {},
   "outputs": [],
   "source": [
    "nodes"
   ]
  },
  {
   "cell_type": "code",
   "execution_count": null,
   "metadata": {},
   "outputs": [],
   "source": [
    "I0 = I .== 0\n",
    "P0 = P .== 0\n",
    "\n",
    "I1 = I .!= 0\n",
    "P1 = P .!= 0;\n",
    "\n",
    "# sort(I0) == sort(P1)"
   ]
  },
  {
   "cell_type": "code",
   "execution_count": null,
   "metadata": {},
   "outputs": [],
   "source": [
    "sum(I1 .&& P0)"
   ]
  },
  {
   "cell_type": "code",
   "execution_count": null,
   "metadata": {},
   "outputs": [],
   "source": [
    "sum(I1 .|| P1) / length(I0)"
   ]
  },
  {
   "cell_type": "code",
   "execution_count": null,
   "metadata": {},
   "outputs": [],
   "source": [
    "I"
   ]
  },
  {
   "cell_type": "code",
   "execution_count": null,
   "metadata": {},
   "outputs": [],
   "source": [
    "nodes"
   ]
  },
  {
   "cell_type": "code",
   "execution_count": null,
   "metadata": {},
   "outputs": [],
   "source": [
    "test = tweeters[tweeters.action .== \"U\", :]\n",
    "test = transform(groupby(test, \"username\"), \"created_at\" => length => \"Ucount\")\n",
    "\n",
    "length(unique(test[test.Ucount .>= 2, \"username\"]))"
   ]
  },
  {
   "cell_type": "code",
   "execution_count": null,
   "metadata": {},
   "outputs": [],
   "source": [
    "nodes[123]"
   ]
  },
  {
   "cell_type": "code",
   "execution_count": null,
   "metadata": {},
   "outputs": [],
   "source": [
    "length(residuals)"
   ]
  },
  {
   "cell_type": "code",
   "execution_count": null,
   "metadata": {},
   "outputs": [],
   "source": [
    "res_ = residuals\n",
    "plt.figure()\n",
    "plt.plot(1:length(res_), res_)\n",
    "plt.yscale(\"log\")\n"
   ]
  },
  {
   "cell_type": "code",
   "execution_count": null,
   "metadata": {},
   "outputs": [],
   "source": [
    "initial_actors = unique(test[ismissing.(test.rt_from), \"username\"])\n",
    "counter = []\n",
    "\n",
    "rts = test[.!ismissing.(test.rt_from), :]\n",
    "# mapping = countmap(rts)\n",
    "# transform(groupby(df, \"username\"), \"created_at\" => length => \"tweet_count\")\n",
    "\n",
    "for (i, a) in enumerate(initial_actors)\n",
    "    indices = findall(rts.rt_from .== a)\n",
    "    push!(counter, rts.username[indices])\n",
    "    # counter[i] = sum(rts.rt_from .== a)\n",
    "end"
   ]
  },
  {
   "cell_type": "code",
   "execution_count": null,
   "metadata": {},
   "outputs": [],
   "source": [
    "N = [length(i) for i in counter]\n",
    "sorting = sortperm(N, rev=true)\n",
    "N = N[sorting]\n",
    "initial_actors = initial_actors[sorting]\n",
    "counter = counter[sorting]"
   ]
  },
  {
   "cell_type": "code",
   "execution_count": null,
   "metadata": {},
   "outputs": [],
   "source": [
    "counter[1]"
   ]
  },
  {
   "cell_type": "code",
   "execution_count": null,
   "metadata": {},
   "outputs": [],
   "source": [
    "initial_actors[1:30]"
   ]
  },
  {
   "cell_type": "code",
   "execution_count": null,
   "metadata": {},
   "outputs": [],
   "source": [
    "initial_actors = unique(test[ismissing.(test.rt_from), \"username\"]);"
   ]
  },
  {
   "cell_type": "code",
   "execution_count": null,
   "metadata": {},
   "outputs": [],
   "source": [
    "using BenchmarkTools\n",
    "\n",
    "counter = []\n",
    "\n",
    "@btime begin\n",
    "    indices = findall(rts.rt_from .== initial_actors[1])\n",
    "    push!(counter, rts.username[indices])\n",
    "end"
   ]
  },
  {
   "cell_type": "code",
   "execution_count": null,
   "metadata": {},
   "outputs": [],
   "source": [
    "# foo = test[test.category .== Ref([\"tweeted\"]), :]\n",
    "# foo = transform(groupby(foo, \"username\"), \"created_at\" => length => \"tweet_count\")\n",
    "# foo = foo[foo.tweet_count .>= 1, :]\n",
    "# length(unique(foo.username))\n",
    "\n",
    "\n",
    "initial_actors = unique(test[.ismissing.(test.rt_from), \"username\"])"
   ]
  },
  {
   "cell_type": "code",
   "execution_count": null,
   "metadata": {},
   "outputs": [],
   "source": [
    "sum(.!ismissing.(test.rt_from))"
   ]
  },
  {
   "cell_type": "code",
   "execution_count": null,
   "metadata": {},
   "outputs": [],
   "source": [
    "foo = test[startswith.(test.text, Ref(\"RT @\")) .&& test.category .!= Ref([\"retweeted\"]), :]"
   ]
  },
  {
   "cell_type": "code",
   "execution_count": null,
   "metadata": {},
   "outputs": [],
   "source": [
    "show(foo, allcols=true)"
   ]
  },
  {
   "cell_type": "code",
   "execution_count": null,
   "metadata": {},
   "outputs": [],
   "source": [
    "find_user(test.text[1])"
   ]
  },
  {
   "cell_type": "code",
   "execution_count": null,
   "metadata": {},
   "outputs": [],
   "source": [
    "length(unique(test.username))"
   ]
  },
  {
   "cell_type": "code",
   "execution_count": null,
   "metadata": {},
   "outputs": [],
   "source": [
    "sum(test.category .== Ref([\"quoted\"]))"
   ]
  },
  {
   "cell_type": "code",
   "execution_count": null,
   "metadata": {},
   "outputs": [],
   "source": [
    "followers[500]"
   ]
  },
  {
   "cell_type": "code",
   "execution_count": null,
   "metadata": {},
   "outputs": [],
   "source": [
    "sum(followers .== 0)"
   ]
  },
  {
   "cell_type": "code",
   "execution_count": null,
   "metadata": {},
   "outputs": [],
   "source": [
    "261259/50\n",
    "\n",
    "## DECREASE BINS LOGARITHMICALLY"
   ]
  },
  {
   "cell_type": "code",
   "execution_count": null,
   "metadata": {},
   "outputs": [],
   "source": [
    "25929^2/520^2*10/60/60"
   ]
  },
  {
   "cell_type": "code",
   "execution_count": null,
   "metadata": {},
   "outputs": [],
   "source": [
    "sum(0 .< followers .< 50)"
   ]
  },
  {
   "cell_type": "code",
   "execution_count": null,
   "metadata": {},
   "outputs": [],
   "source": [
    "sum(followers .== 0)"
   ]
  },
  {
   "cell_type": "code",
   "execution_count": null,
   "metadata": {},
   "outputs": [],
   "source": [
    "sum(followers .> 500000)"
   ]
  },
  {
   "cell_type": "code",
   "execution_count": null,
   "metadata": {},
   "outputs": [],
   "source": [
    "test = collect(1:10)\n",
    "sorting = sortperm(test, rev=true)\n",
    "test[sorting]"
   ]
  },
  {
   "cell_type": "code",
   "execution_count": null,
   "metadata": {},
   "outputs": [],
   "source": []
  },
  {
   "cell_type": "code",
   "execution_count": null,
   "metadata": {},
   "outputs": [],
   "source": []
  }
 ],
 "metadata": {
  "kernelspec": {
   "display_name": "Julia 1.8.1",
   "language": "julia",
   "name": "julia-1.8"
  },
  "language_info": {
   "file_extension": ".jl",
   "mimetype": "application/julia",
   "name": "julia",
   "version": "1.8.1"
  },
  "orig_nbformat": 4,
  "vscode": {
   "interpreter": {
    "hash": "76d3d9ea52ae0f582c7ab8c3bbc7d312c08f3afa3631e827e583225c1557aa69"
   }
  }
 },
 "nbformat": 4,
 "nbformat_minor": 2
}
