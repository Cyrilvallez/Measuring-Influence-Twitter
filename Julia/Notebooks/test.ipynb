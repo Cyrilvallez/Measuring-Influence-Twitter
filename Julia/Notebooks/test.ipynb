{
 "cells": [
  {
   "cell_type": "code",
   "execution_count": null,
   "metadata": {},
   "outputs": [],
   "source": [
    "using CausalityTools\n",
    "include(\"../entropy.jl\")\n",
    "using Random\n",
    "using BenchmarkTools\n",
    "\n",
    "rng = MersenneTwister(145)\n",
    "\n",
    "a = rand(rng, 0:10, 100)\n",
    "b = rand(rng, 0:10, 100)\n",
    "\n",
    "est = Kraskov(k=1)\n",
    "\n",
    "print(\"Current method :\")\n",
    "foo = @btime TE(Int.(a .> 0), Int.(b .> 0))\n",
    "println(\"The result is $foo.\\n\")\n",
    "\n",
    "\n",
    "print(\"True transfer entropy :\")\n",
    "a = float.(a)\n",
    "b = float.(b)\n",
    "foo2 = @btime transferentropy(a, b, est)\n",
    "println(\"The result is $foo2.\\n\")\n",
    "\n",
    "print(\"CCM :\")\n",
    "foo3 = @btime crossmap(a, b, 2, 1)\n",
    "println(\"The result is $foo3.\\n\")"
   ]
  },
  {
   "cell_type": "code",
   "execution_count": 5,
   "metadata": {},
   "outputs": [
    {
     "data": {
      "text/plain": [
       "Dict{Int64, Int64} with 2 entries:\n",
       "  0 => 2\n",
       "  1 => 4"
      ]
     },
     "execution_count": 5,
     "metadata": {},
     "output_type": "execute_result"
    }
   ],
   "source": [
    "using StatsBase\n",
    "\n",
    "a = [1 1 1 1 0 0]\n",
    "b = [1 1 0 0 0 1]\n",
    "\n",
    "countmap(a)"
   ]
  },
  {
   "cell_type": "code",
   "execution_count": 8,
   "metadata": {},
   "outputs": [
    {
     "data": {
      "text/plain": [
       "5-element Vector{Tuple{Int64, Int64, Int64}}:\n",
       " (1, 1, 1)\n",
       " (1, 1, 1)\n",
       " (1, 1, 0)\n",
       " (0, 1, 0)\n",
       " (0, 0, 0)"
      ]
     },
     "execution_count": 8,
     "metadata": {},
     "output_type": "execute_result"
    }
   ],
   "source": [
    "foo = [(a[i+1], a[i], b[i]) for i = 1:(length(a)-1)]\n"
   ]
  },
  {
   "cell_type": "code",
   "execution_count": 12,
   "metadata": {},
   "outputs": [
    {
     "data": {
      "text/plain": [
       "Dict{Tuple{Int64, Int64, Int64}, Float64} with 4 entries:\n",
       "  (0, 0, 0) => 0.2\n",
       "  (1, 1, 1) => 0.4\n",
       "  (1, 1, 0) => 0.2\n",
       "  (0, 1, 0) => 0.2"
      ]
     },
     "execution_count": 12,
     "metadata": {},
     "output_type": "execute_result"
    }
   ],
   "source": [
    "proportionmap(foo) "
   ]
  },
  {
   "cell_type": "code",
   "execution_count": 32,
   "metadata": {},
   "outputs": [
    {
     "name": "stdout",
     "output_type": "stream",
     "text": [
      "TE : 0.01723375678579247\n",
      "new : 0.005963880456791892\n"
     ]
    }
   ],
   "source": [
    "include(\"../Utils/entropy.jl\")\n",
    "\n",
    "\n",
    "function transfer_entropy(X, Y)\n",
    "\n",
    "    N = length(X)\n",
    "    # configurations = [(Y[i+1], Y[i], X[i]) for i = 1:(N-1)]\n",
    "    configurations = [(Y[i], Y[i-1], X[i-1]) for i = 2:N]\n",
    "    states = proportionmap(configurations)\n",
    "\n",
    "    tot = 0\n",
    "\n",
    "    for state in keys(states)\n",
    "        state_proba = states[state]\n",
    "        # P_Yn_Xn = sum((Y .== state[2]) .& (X .== state[3])) / N\n",
    "        # P_Yn1_Yn = sum((Y[2:end] .== state[1]) .& (Y[1:(end-1)] .== state[2])) / (N - 1)\n",
    "        P_Yn_Xn = sum((Y[2:end] .== state[2]) .& (X[2:end] .== state[3])) / (N-1)\n",
    "        P_Yn1_Yn = sum((Y[2:end] .== state[1]) .& (Y[1:(end-1)] .== state[2])) / (N - 1)\n",
    "        # P_Yn = sum(Y .== state[2]) / N\n",
    "        P_Yn = sum(Y[2:end] .== state[2]) / (N-1)\n",
    "\n",
    "        numerator = state_proba / P_Yn_Xn\n",
    "        denominator = P_Yn1_Yn / P_Yn\n",
    "\n",
    "        tot += state_proba * log(numerator / denominator)\n",
    "\n",
    "    end\n",
    "\n",
    "    return tot\n",
    "\n",
    "end\n",
    "\n",
    "\n",
    "# a = [1 1 1 1 0 0]\n",
    "# b = [1 1 0 0 0 1]\n",
    "\n",
    "# a = rand(0:1, 100)\n",
    "# b = rand(0:1, 100)\n",
    "\n",
    "println(\"TE : $(TE(a,b))\")\n",
    "println(\"new : $(transfer_entropy(a,b))\")"
   ]
  },
  {
   "cell_type": "code",
   "execution_count": 30,
   "metadata": {},
   "outputs": [
    {
     "data": {
      "text/plain": [
       "Dict{Tuple{Int64, Int64, Int64}, Float64} with 8 entries:\n",
       "  (0, 0, 0) => 0.0606061\n",
       "  (1, 1, 1) => 0.272727\n",
       "  (1, 1, 0) => 0.191919\n",
       "  (0, 1, 1) => 0.141414\n",
       "  (0, 1, 0) => 0.0606061\n",
       "  (1, 0, 1) => 0.131313\n",
       "  (0, 0, 1) => 0.0707071\n",
       "  (1, 0, 0) => 0.0707071"
      ]
     },
     "execution_count": 30,
     "metadata": {},
     "output_type": "execute_result"
    }
   ],
   "source": [
    "X, Y = a, b\n",
    "configurations = [(Y[i], Y[i-1], X[i-1]) for i = 2:length(X)]\n",
    "states = proportionmap(configurations)"
   ]
  },
  {
   "cell_type": "code",
   "execution_count": 68,
   "metadata": {},
   "outputs": [
    {
     "data": {
      "text/plain": [
       "0.0019527583546592735"
      ]
     },
     "execution_count": 68,
     "metadata": {},
     "output_type": "execute_result"
    }
   ],
   "source": [
    "using CausalityTools\n",
    "using StatsBase\n",
    "\n",
    "func(x,y) = pvalue(jdd(OneSampleTTest, x, y, B=10, D=5, τ=1, μ0=0.0), tail=:right)\n",
    "\n",
    "a = Vector{Int}(undef, 100)\n",
    "b = Vector{Int}(undef, 100)\n",
    "\n",
    "a[1:2:end] .= 0\n",
    "a[2:2:end] .= 1\n",
    "a[end-10:end] .= 2\n",
    "\n",
    "b[1:2:end] .= 1\n",
    "b[2:2:end] .= 0\n",
    "b[end-10:end] .= 4\n",
    "\n",
    "a = (a .- mean(a)) / std(a)\n",
    "a = (b .- mean(b)) / std(b)\n",
    "\n",
    "a = rand(0:3, 100)\n",
    "b = rand(0:3, 100)\n",
    "\n",
    "func(a,b)"
   ]
  },
  {
   "cell_type": "code",
   "execution_count": 1,
   "metadata": {},
   "outputs": [
    {
     "data": {
      "application/vnd.webio.node+json": {
       "children": [],
       "instanceArgs": {
        "namespace": "html",
        "tag": "div"
       },
       "nodeType": "DOM",
       "props": {},
       "type": "node"
      },
      "text/html": [
       "<div style=\"padding: 1em; background-color: #f8d6da; border: 1px solid #f5c6cb; font-weight: bold;\">\n",
       "<p>The WebIO Jupyter extension was not detected. See the\n",
       "<a href=\"https://juliagizmos.github.io/WebIO.jl/latest/providers/ijulia/\" target=\"_blank\">\n",
       "    WebIO Jupyter integration documentation\n",
       "</a>\n",
       "for more information.\n",
       "</div>\n"
      ],
      "text/plain": [
       "WebIO._IJuliaInit()"
      ]
     },
     "metadata": {},
     "output_type": "display_data"
    }
   ],
   "source": [
    "using Dates\n",
    "# using Revise\n",
    "import PlotlyJS\n",
    "\n",
    "include(\"../Sensors/Sensors.jl\")\n",
    "include(\"../PreProcessing/PreProcessing.jl\")\n",
    "include(\"../Utils/Helpers.jl\")\n",
    "include(\"../Utils/Visualizations.jl\")\n",
    "using .Sensors, .PreProcessing, .Visualizations, .Helpers;\n",
    "\n",
    "datafolder = \"../../Data/Twitter/COP26_processed_lightweight/\"\n",
    "datafiles = [file for file in readdir(datafolder) if occursin(\".json\", file)]\n",
    "frames = [load_json(datafolder * file) for file in datafiles]\n",
    "data = vcat(frames...)\n",
    "\n",
    "data = data[.~ismissing.(data.\"domain\"), :]\n",
    "\n",
    "to_datetime = x -> DateTime(split(x, '.')[1], \"yyyy-mm-ddTHH:MM:SS\")\n",
    "data.\"created_at\" = to_datetime.(data.\"created_at\");"
   ]
  },
  {
   "cell_type": "code",
   "execution_count": 2,
   "metadata": {},
   "outputs": [
    {
     "data": {
      "text/plain": [
       "690286-element Vector{Int64}:\n",
       " 0\n",
       " 0\n",
       " 0\n",
       " 0\n",
       " 0\n",
       " 0\n",
       " 0\n",
       " 0\n",
       " 0\n",
       " 0\n",
       " 0\n",
       " 0\n",
       " 0\n",
       " ⋮\n",
       " 0\n",
       " 0\n",
       " 0\n",
       " 0\n",
       " 0\n",
       " 0\n",
       " 0\n",
       " 0\n",
       " 0\n",
       " 0\n",
       " 0\n",
       " 0"
      ]
     },
     "execution_count": 2,
     "metadata": {},
     "output_type": "execute_result"
    }
   ],
   "source": [
    "data.time_bin .= 0"
   ]
  },
  {
   "cell_type": "code",
   "execution_count": 8,
   "metadata": {},
   "outputs": [
    {
     "name": "stdout",
     "output_type": "stream",
     "text": [
      "\u001b[1m690286×4 DataFrame\u001b[0m\n",
      "\u001b[1m    Row \u001b[0m│\u001b[1m sentiment \u001b[0m\u001b[1m username        \u001b[0m\u001b[1m follower_count \u001b[0m\u001b[1m time_bin \u001b[0m\n",
      "\u001b[1m        \u001b[0m│\u001b[90m String    \u001b[0m\u001b[90m String          \u001b[0m\u001b[90m Int64          \u001b[0m\u001b[90m Int64    \u001b[0m\n",
      "────────┼──────────────────────────────────────────────────────\n",
      "      1 │ negative   jeff_lizard                 179         0\n",
      "      2 │ positive   Debatthebeach_            19635         0\n",
      "      3 │ positive   mrmintslice                1411         0\n",
      "      4 │ negative   lee_knuth                   438         0\n",
      "      5 │ positive   Damsteegt                   672         0\n",
      "      6 │ negative   Stephen67843639            1324         0\n",
      "      7 │ neutral    kathleen_rebel               67         0\n",
      "      8 │ positive   VincentBeaure10             172         0\n",
      "      9 │ positive   007rgmweddings              491         0\n",
      "     10 │ negative   Ludicris131                9009         0\n",
      "     11 │ negative   Vikkik88                   3008         0\n",
      "   ⋮    │     ⋮             ⋮               ⋮            ⋮\n",
      " 690277 │ neutral    SallieT77303451            2148         0\n",
      " 690278 │ negative   MajamboKE                   136         0\n",
      " 690279 │ positive   BlackBond711                257         0\n",
      " 690280 │ neutral    sewellchan                49747         0\n",
      " 690281 │ negative   mathsavage                 1187         0\n",
      " 690282 │ positive   BlueLineNorCal             2131         0\n",
      " 690283 │ negative   herbivore_club            57527         0\n",
      " 690284 │ neutral    TexasTribune             317144         0\n",
      " 690285 │ positive   SciMelb                   11704         0\n",
      " 690286 │ negative   PaulEDawson               70391         0\n",
      "\u001b[36m                                            690265 rows omitted\u001b[0m"
     ]
    }
   ],
   "source": [
    "show(data[:, [3, 4, 5,6]])"
   ]
  },
  {
   "cell_type": "code",
   "execution_count": null,
   "metadata": {},
   "outputs": [],
   "source": [
    "import PyPlot as plt\n",
    "\n",
    "rng = MersenneTwister(145)\n",
    "\n",
    "a = rand(rng, 0:10, 100)\n",
    "b = rand(rng, 0:10, 100)\n",
    "\n",
    "a = float.(a)\n",
    "b = float.(b)\n",
    "\n",
    "Ls = [10:5:50; 60:10:100]\n",
    "\n",
    "@btime begin\n",
    "    test = [crossmap(a[1:L], b[1:L], 2, 1) for L in Ls]\n",
    "    test2 = [crossmap(b[1:L], a[1:L], 2, 1) for L in Ls]\n",
    "end\n",
    "\n",
    "plt.figure()\n",
    "plt.plot(Ls, test, \"b-\", label=\"a to b\")\n",
    "plt.plot(Ls, test2, \"r-\", label=\"b to a\")\n",
    "plt.legend()\n",
    "show(plt.gcf())"
   ]
  },
  {
   "cell_type": "code",
   "execution_count": null,
   "metadata": {},
   "outputs": [],
   "source": [
    "using CausalityTools\n",
    "\n",
    "s_measure()"
   ]
  },
  {
   "cell_type": "code",
   "execution_count": null,
   "metadata": {},
   "outputs": [],
   "source": [
    "using CausalityTools\n",
    "\n",
    "# A two-dimensional Ulam lattice map\n",
    "sys = ulam(2)\n",
    "\n",
    "# Sample 1000 points after discarding 5000 transients\n",
    "orbit = trajectory(sys, 1000, Ttr = 5000)\n",
    "x, y = orbit[:, 1], orbit[:, 2]\n",
    "\n",
    "# 4-dimensional embedding for `x`, 5-dimensional embedding for `y`\n",
    "s_measure(x, y, dx = 4, τx = 3, dy = 5, τy = 1)"
   ]
  },
  {
   "cell_type": "code",
   "execution_count": null,
   "metadata": {},
   "outputs": [],
   "source": [
    "using DelayEmbeddings\n",
    "\n",
    "a = collect(1:100)\n",
    "p = embed(a, 2, 5)"
   ]
  },
  {
   "cell_type": "code",
   "execution_count": null,
   "metadata": {},
   "outputs": [],
   "source": [
    "using Neighborhood\n",
    "\n",
    "a = [0, 1.2, 0.1, 0.8]\n",
    "b = [0, 0, 1.8, 0.8]\n",
    "\n",
    "\n",
    "X = embed(a, 2, 1)\n",
    "Y = embed(b, 2, 1)\n",
    "\n",
    "treeX = searchstructure(KDTree, X, Euclidean())\n",
    "treeY = searchstructure(KDTree, Y, Euclidean())\n",
    "neighborhoodtype, theiler = NeighborNumber(1), Theiler(0)\n",
    "idxs_X = bulkisearch(treeX, X, neighborhoodtype, theiler)\n",
    "idxs_Y = bulkisearch(treeY, Y, neighborhoodtype, theiler)\n",
    "\n",
    "print(idxs_Y)"
   ]
  },
  {
   "cell_type": "code",
   "execution_count": null,
   "metadata": {},
   "outputs": [],
   "source": [
    "using CausalityTools\n",
    "using BenchmarkTools\n",
    "\n",
    "include(\"../Utils/entropy.jl\")\n",
    "\n",
    "x = rand(0:10, 50)\n",
    "y = rand(0:10, 50)\n",
    "\n",
    "@btime s_measure(float(x), float(y), K=3, dx=5, dy=5, τx=1, τy=1)\n",
    "\n",
    "@btime TE(Int.(x .> 0), Int.(y .> 0))"
   ]
  },
  {
   "cell_type": "code",
   "execution_count": null,
   "metadata": {},
   "outputs": [],
   "source": [
    "using HypothesisTests\n",
    "\n",
    "x = rand(0:10, 50)\n",
    "y = rand(0:10, 50)\n",
    "\n",
    "@btime jdd(OneSampleTTest, x, y, B=10, D=2, τ=1)"
   ]
  },
  {
   "cell_type": "code",
   "execution_count": null,
   "metadata": {},
   "outputs": [],
   "source": [
    "source = collect(1:5)\n",
    "target = collect(11:15)\n",
    "\n",
    "D = 2\n",
    "B = 10\n",
    "τs = 1\n",
    "\n",
    "@btime Ex = DelayEmbeddings.embed(source, D, τs)\n",
    "Ey = DelayEmbeddings.embed(target, D, τs)\n",
    "Mx = DelayEmbeddings.Matrix(Ex)\n",
    "My = DelayEmbeddings.Matrix(Ey)"
   ]
  },
  {
   "cell_type": "code",
   "execution_count": null,
   "metadata": {},
   "outputs": [],
   "source": [
    "import DelayEmbeddings\n",
    "\n",
    "source = collect(1:5)\n",
    "target = collect(11:15)\n",
    "\n",
    "D = 2\n",
    "B = 10\n",
    "τ = 1\n",
    "\n",
    "js = ([1 for i = 1:D]...,)\n",
    "τs = (collect(0:-τ:-(D-1)*τ)...,)\n",
    "\n",
    "Ex = DelayEmbeddings.genembed(source, τs, js)\n",
    "Ey = DelayEmbeddings.genembed(target, τs, js)\n",
    "Mx = DelayEmbeddings.Matrix(Ex)\n",
    "My = DelayEmbeddings.Matrix(Ey)"
   ]
  },
  {
   "cell_type": "code",
   "execution_count": null,
   "metadata": {},
   "outputs": [],
   "source": [
    "Matrix(Ex) "
   ]
  },
  {
   "cell_type": "code",
   "execution_count": null,
   "metadata": {},
   "outputs": [],
   "source": [
    "foo = [0 1; 2 0]\n",
    "LinearIndices(foo[foo .> 0])"
   ]
  },
  {
   "cell_type": "code",
   "execution_count": null,
   "metadata": {},
   "outputs": [],
   "source": [
    "My"
   ]
  },
  {
   "cell_type": "code",
   "execution_count": null,
   "metadata": {},
   "outputs": [],
   "source": [
    "Mx"
   ]
  },
  {
   "cell_type": "code",
   "execution_count": null,
   "metadata": {},
   "outputs": [],
   "source": [
    "using Distances\n",
    "\n",
    "pairwise(Euclidean(), Mx, Mx, dims=1)"
   ]
  },
  {
   "cell_type": "code",
   "execution_count": null,
   "metadata": {},
   "outputs": [],
   "source": [
    "Euclidean()([2,1], [3,2])"
   ]
  },
  {
   "cell_type": "code",
   "execution_count": null,
   "metadata": {},
   "outputs": [],
   "source": [
    "using BenchmarkTools\n",
    "using CausalityTools\n",
    "\n",
    "include(\"../Utils/entropy.jl\")\n",
    "\n",
    "B = 10\n",
    "d = 3\n",
    "τ = 1\n",
    "alpha = 0.001\n",
    "\n",
    "K = 3\n",
    "dx = 3\n",
    "dy = 3\n",
    "τx = 1\n",
    "τy = 1\n",
    "\n",
    "cuttoff = 0.5\n",
    "cuttoff2 = 0.01\n",
    "\n",
    "func1(x, y) = pvalue(jdd(OneSampleTTest, x, y, B=B, D=d, τ=τ, μ0=0.0), tail=:right) < alpha ? 1 : 0\n",
    "func2(x, y) = TE(Int.(x .> 0), Int.(y .> 0)) > cuttoff ? 1 : 0\n",
    "func3(x,y) = s_measure(float(x), float(y), K=K, dx=dx, dy=dy, τx=τx, τy=τy) > cuttoff2 ? 1 : 0\n",
    "\n",
    "tot1 = 0\n",
    "tot2 = 0\n",
    "tot3 = 0\n",
    "nans = 0\n",
    "for i = 1:100\n",
    "    x = rand(0:10, 30)\n",
    "    y = rand(0:10, 30)\n",
    "\n",
    "    tot1 += func1(x ,y)\n",
    "    tot2 += func2(x ,y)\n",
    "    tot3 += func3(x ,y)\n",
    "end\n",
    "\n",
    "println(\"jdd : $tot1\")\n",
    "println(\"TE : $tot2\")\n",
    "println(\"s measure : $tot3\")"
   ]
  },
  {
   "cell_type": "code",
   "execution_count": 56,
   "metadata": {},
   "outputs": [
    {
     "name": "stdout",
     "output_type": "stream",
     "text": [
      "jdd : 15\n"
     ]
    }
   ],
   "source": [
    "using BenchmarkTools\n",
    "using CausalityTools\n",
    "using StatsBase: minimum, maximum, mean, std\n",
    "\n",
    "function standardize(x)\n",
    "    std_ = std(x, dims=1)\n",
    "    return (x .- mean(x, dims=1)) ./ ifelse.(std_ .> 0, std_, ones(size(std_)))\n",
    "end\n",
    "\n",
    "B = 10\n",
    "d = 3\n",
    "τ = 1\n",
    "alpha = 0.001\n",
    "\n",
    "cuttoff = 0.5\n",
    "cuttoff2 = 0.01\n",
    "\n",
    "Nts = 13*24*2\n",
    "\n",
    "func(x, y) = pvalue(jdd(OneSampleTTest, x, y, B=B, D=d, τ=τ, μ0=0.0), tail=:right) < alpha ? 1 : 0\n",
    "\n",
    "tot = 0\n",
    "\n",
    "for i = 1:10000\n",
    "    x = standardize(rand(0:10, Nts))\n",
    "    y = standardize(rand(0:10, Nts))\n",
    "\n",
    "    # x = rand(0:10, Nts)\n",
    "    # y = rand(0:10, Nts)\n",
    "\n",
    "    tot += func(x ,y)\n",
    "end\n",
    "\n",
    "println(\"jdd : $tot\")"
   ]
  },
  {
   "cell_type": "code",
   "execution_count": 1,
   "metadata": {},
   "outputs": [
    {
     "data": {
      "application/vnd.webio.node+json": {
       "children": [],
       "instanceArgs": {
        "namespace": "html",
        "tag": "div"
       },
       "nodeType": "DOM",
       "props": {},
       "type": "node"
      },
      "text/html": [
       "<div style=\"padding: 1em; background-color: #f8d6da; border: 1px solid #f5c6cb; font-weight: bold;\">\n",
       "<p>The WebIO Jupyter extension was not detected. See the\n",
       "<a href=\"https://juliagizmos.github.io/WebIO.jl/latest/providers/ijulia/\" target=\"_blank\">\n",
       "    WebIO Jupyter integration documentation\n",
       "</a>\n",
       "for more information.\n",
       "</div>\n"
      ],
      "text/plain": [
       "WebIO._IJuliaInit()"
      ]
     },
     "metadata": {},
     "output_type": "display_data"
    }
   ],
   "source": [
    "using Dates\n",
    "# using Revise\n",
    "import PlotlyJS\n",
    "\n",
    "include(\"../Sensors/Sensors.jl\")\n",
    "include(\"../PreProcessing/PreProcessing.jl\")\n",
    "include(\"../Utils/Helpers.jl\")\n",
    "include(\"../Utils/Visualizations.jl\")\n",
    "using .Sensors, .PreProcessing, .Visualizations, .Helpers;\n"
   ]
  },
  {
   "cell_type": "code",
   "execution_count": 2,
   "metadata": {},
   "outputs": [
    {
     "ename": "LoadError",
     "evalue": "MethodError: no method matching TimeSeriesGenerator(::Minute; standardize=true)\n\u001b[0mClosest candidates are:\n\u001b[0m  TimeSeriesGenerator(::Period) at ~/Desktop/Thesis/Julia/Sensors/timeseries.jl:16\u001b[91m got unsupported keyword argument \"standardize\"\u001b[39m\n\u001b[0m  TimeSeriesGenerator(::Period, \u001b[91m::Union{String, Symbol}\u001b[39m, \u001b[91m::Union{String, Symbol}\u001b[39m, \u001b[91m::Union{String, Symbol}\u001b[39m, \u001b[91m::Union{String, Symbol}\u001b[39m, \u001b[91m::Bool\u001b[39m) at ~/Desktop/Thesis/Julia/Sensors/timeseries.jl:8\u001b[91m got unsupported keyword argument \"standardize\"\u001b[39m\n\u001b[0m  TimeSeriesGenerator(::Period, \u001b[91m::Bool\u001b[39m) at ~/Desktop/Thesis/Julia/Sensors/timeseries.jl:16\u001b[91m got unsupported keyword argument \"standardize\"\u001b[39m\n\u001b[0m  ...",
     "output_type": "error",
     "traceback": [
      "MethodError: no method matching TimeSeriesGenerator(::Minute; standardize=true)\n\u001b[0mClosest candidates are:\n\u001b[0m  TimeSeriesGenerator(::Period) at ~/Desktop/Thesis/Julia/Sensors/timeseries.jl:16\u001b[91m got unsupported keyword argument \"standardize\"\u001b[39m\n\u001b[0m  TimeSeriesGenerator(::Period, \u001b[91m::Union{String, Symbol}\u001b[39m, \u001b[91m::Union{String, Symbol}\u001b[39m, \u001b[91m::Union{String, Symbol}\u001b[39m, \u001b[91m::Union{String, Symbol}\u001b[39m, \u001b[91m::Bool\u001b[39m) at ~/Desktop/Thesis/Julia/Sensors/timeseries.jl:8\u001b[91m got unsupported keyword argument \"standardize\"\u001b[39m\n\u001b[0m  TimeSeriesGenerator(::Period, \u001b[91m::Bool\u001b[39m) at ~/Desktop/Thesis/Julia/Sensors/timeseries.jl:16\u001b[91m got unsupported keyword argument \"standardize\"\u001b[39m\n\u001b[0m  ...",
      "",
      "Stacktrace:",
      " [1] top-level scope",
      "   @ In[2]:1",
      " [2] eval",
      "   @ ./boot.jl:368 [inlined]",
      " [3] include_string(mapexpr::typeof(REPL.softscope), mod::Module, code::String, filename::String)",
      "   @ Base ./loading.jl:1428"
     ]
    }
   ],
   "source": [
    "a = TimeSeriesGenerator(Minute(12), standardize=true)"
   ]
  },
  {
   "cell_type": "code",
   "execution_count": null,
   "metadata": {},
   "outputs": [],
   "source": [
    "using BenchmarkTools\n",
    "using CausalityTools\n",
    "using StatsBase\n",
    "\n",
    "function normalize(x)\n",
    "    return (x .- mean(x))/std(x)\n",
    "end\n",
    "\n",
    "\n",
    "B = 10\n",
    "d = 3\n",
    "τ = 1\n",
    "alpha = 0.001\n",
    "\n",
    "Nsurr = 50\n",
    "p_value_surr = Vector{Float64}(undef, Nsurr)\n",
    "\n",
    "func(x, y) = pvalue(jdd(OneSampleTTest, x, y, B=B, D=d, τ=τ, μ0=0.0), tail=:right)\n",
    "\n",
    "tot = 0\n",
    "eviter = 0\n",
    "\n",
    "for i = 1:1000\n",
    "    x = rand(0:10, 100)\n",
    "    y = rand(0:10, 100)\n",
    "\n",
    "    p = func(x, y)\n",
    "\n",
    "    if p < alpha\n",
    "\n",
    "        s = surrogenerator(x, RandomShuffle())\n",
    "\n",
    "        for i = 1:Nsurr\n",
    "            p_value_surr[i] = func(s(), y)\n",
    "            # p_value_surr[i] = func(rand(0:10, 100), y)\n",
    "        end\n",
    "\n",
    "        limit = quantile(p_value_surr, 0.01)/4\n",
    "        limit2 = minimum()\n",
    "\n",
    "        if p < limit\n",
    "            tot += 1\n",
    "            println(\"p : $p    limit: $limit     limit2: $(limit2)\")\n",
    "\n",
    "        else\n",
    "            eviter += 1\n",
    "        end\n",
    "\n",
    "    end\n",
    "\n",
    "    #= if p < alpha\n",
    "        tot += 1\n",
    "    end =#\n",
    "\n",
    "end\n",
    "\n",
    "println(\"jdd : $tot\")\n",
    "println(\"We removed : $eviter\")"
   ]
  },
  {
   "cell_type": "code",
   "execution_count": null,
   "metadata": {},
   "outputs": [],
   "source": [
    "println(quantile(p_value_surr, 0.01)/4)\n",
    "println(quantile(p_value_surr, 0.05)/4)\n",
    "confint(OneSampleTTest(p_value_surr), 0.0001)"
   ]
  },
  {
   "cell_type": "code",
   "execution_count": null,
   "metadata": {},
   "outputs": [],
   "source": [
    "x = 1:100\n",
    "y = 101:200\n",
    "\n",
    "p = func(x, y)\n",
    "\n",
    "if p < alpha\n",
    "\n",
    "    s = surrogenerator(x, RandomShuffle())\n",
    "\n",
    "    for i = 1:Nsurr\n",
    "        p_value_surr[i] = func(s(), y)\n",
    "        # p_value_surr[i] = func(rand(0:10, 100), y)\n",
    "    end\n",
    "\n",
    "    limit = minimum(p_value_surr)/2 #quantile(p_value_surr, 0.05)\n",
    "\n",
    "    println(\"p : $p    limit: $limit\")\n",
    "\n",
    "    if p < limit\n",
    "        tot += 1\n",
    "    end\n",
    "\n",
    "end"
   ]
  },
  {
   "cell_type": "code",
   "execution_count": null,
   "metadata": {},
   "outputs": [],
   "source": [
    "import PyPlot as plt\n",
    "using Distributions\n",
    "\n",
    "foo = fit_mle(Normal, p_value_surr)\n",
    "\n",
    "\n",
    "show(plt.hist(p_value_surr, bins=20))\n",
    "plt.plot(0:0.001:0.3, rand(foo, length(0:0.001:0.3)), \"-r\")\n",
    "foo"
   ]
  },
  {
   "cell_type": "code",
   "execution_count": null,
   "metadata": {},
   "outputs": [],
   "source": [
    "float.(p_value_surr)"
   ]
  },
  {
   "cell_type": "code",
   "execution_count": null,
   "metadata": {},
   "outputs": [],
   "source": [
    "d = Normal()\n",
    "x = rand(d, 100)\n",
    "\n"
   ]
  },
  {
   "cell_type": "code",
   "execution_count": 17,
   "metadata": {},
   "outputs": [
    {
     "ename": "LoadError",
     "evalue": "MethodError: no method matching probabilities(::Vector{Float64}, ::VisitationFrequency{RectangularBinning{Float64}})\n\u001b[0mClosest candidates are:\n\u001b[0m  probabilities(::AbstractVector{T}, \u001b[91m::SymbolicPermutation\u001b[39m) where T<:Real at ~/.julia/packages/Entropies/oqn2O/src/symbolic/SymbolicPermutation.jl:292\n\u001b[0m  probabilities(::AbstractVector{T}, \u001b[91m::SymbolicWeightedPermutation\u001b[39m) where T<:Real at ~/.julia/packages/Entropies/oqn2O/src/symbolic/SymbolicWeightedPermutation.jl:34\n\u001b[0m  probabilities(::AbstractVector{T}, \u001b[91m::SymbolicAmplitudeAwarePermutation\u001b[39m) where T<:Real at ~/.julia/packages/Entropies/oqn2O/src/symbolic/SymbolicAmplitudeAware.jl:40\n\u001b[0m  ...",
     "output_type": "error",
     "traceback": [
      "MethodError: no method matching probabilities(::Vector{Float64}, ::VisitationFrequency{RectangularBinning{Float64}})\n\u001b[0mClosest candidates are:\n\u001b[0m  probabilities(::AbstractVector{T}, \u001b[91m::SymbolicPermutation\u001b[39m) where T<:Real at ~/.julia/packages/Entropies/oqn2O/src/symbolic/SymbolicPermutation.jl:292\n\u001b[0m  probabilities(::AbstractVector{T}, \u001b[91m::SymbolicWeightedPermutation\u001b[39m) where T<:Real at ~/.julia/packages/Entropies/oqn2O/src/symbolic/SymbolicWeightedPermutation.jl:34\n\u001b[0m  probabilities(::AbstractVector{T}, \u001b[91m::SymbolicAmplitudeAwarePermutation\u001b[39m) where T<:Real at ~/.julia/packages/Entropies/oqn2O/src/symbolic/SymbolicAmplitudeAware.jl:40\n\u001b[0m  ...",
      "",
      "Stacktrace:",
      " [1] top-level scope",
      "   @ In[17]:8",
      " [2] eval",
      "   @ ./boot.jl:368 [inlined]",
      " [3] include_string(mapexpr::typeof(REPL.softscope), mod::Module, code::String, filename::String)",
      "   @ Base ./loading.jl:1428"
     ]
    }
   ],
   "source": [
    "using CausalityTools\n",
    "\n",
    "a = float([1, 2, 3, [0 for i = 1:99]...])\n",
    "\n",
    "est = VisitationFrequency(RectangularBinning(2.))\n",
    "# est = NaiveKernel(1.8)\n",
    "# est = SymbolicPermutation()\n",
    "probabilities(a, est)"
   ]
  },
  {
   "cell_type": "code",
   "execution_count": 22,
   "metadata": {},
   "outputs": [
    {
     "ename": "LoadError",
     "evalue": "InexactError: trunc(Int64, NaN)",
     "output_type": "error",
     "traceback": [
      "InexactError: trunc(Int64, NaN)",
      "",
      "Stacktrace:",
      "  [1] trunc",
      "    @ ./float.jl:781 [inlined]",
      "  [2] floor",
      "    @ ./float.jl:357 [inlined]",
      "  [3] newf",
      "    @ ~/.julia/packages/StaticArrays/x7lS0/src/broadcast.jl:185 [inlined]",
      "  [4] macro expansion",
      "    @ ~/.julia/packages/StaticArrays/x7lS0/src/broadcast.jl:140 [inlined]",
      "  [5] __broadcast",
      "    @ ~/.julia/packages/StaticArrays/x7lS0/src/broadcast.jl:128 [inlined]",
      "  [6] _broadcast",
      "    @ ~/.julia/packages/StaticArrays/x7lS0/src/broadcast.jl:124 [inlined]",
      "  [7] copy",
      "    @ ~/.julia/packages/StaticArrays/x7lS0/src/broadcast.jl:62 [inlined]",
      "  [8] materialize",
      "    @ ./broadcast.jl:860 [inlined]",
      "  [9] (::Entropies.var\"#49#50\"{StaticArraysCore.SVector{2, Float64}, StaticArraysCore.SVector{2, Float64}})(point::StaticArraysCore.SVector{2, Float64})",
      "    @ Entropies ~/.julia/packages/Entropies/oqn2O/src/binning_based/rectangular/histogram_estimation.jl:46",
      " [10] iterate",
      "    @ ./generator.jl:47 [inlined]",
      " [11] collect(itr::Base.Generator{Dataset{2, Float64}, Entropies.var\"#49#50\"{StaticArraysCore.SVector{2, Float64}, StaticArraysCore.SVector{2, Float64}}})",
      "    @ Base ./array.jl:787",
      " [12] map",
      "    @ ./abstractarray.jl:2961 [inlined]",
      " [13] _non0hist(data::Dataset{2, Float64}, ϵ::RectangularBinning{Int64})",
      "    @ Entropies ~/.julia/packages/Entropies/oqn2O/src/binning_based/rectangular/histogram_estimation.jl:46",
      " [14] probabilities",
      "    @ ~/.julia/packages/Entropies/oqn2O/src/binning_based/rectangular/VisitationFrequency.jl:27 [inlined]",
      " [15] #genentropy#6",
      "    @ ~/.julia/packages/Entropies/oqn2O/src/core.jl:160 [inlined]",
      " [16] _transferentropy(joint::Dataset{3, Float64}, ST::Dataset{2, Float64}, T𝒯::Dataset{2, Float64}, T::Dataset{1, Float64}, est::VisitationFrequency{RectangularBinning{Int64}}; base::Int64, q::Int64)",
      "    @ TransferEntropy ~/.julia/packages/TransferEntropy/EOdWQ/src/transferentropy/interface.jl:223",
      " [17] transferentropy(s::Vector{Float64}, t::Vector{Float64}, est::VisitationFrequency{RectangularBinning{Int64}}; base::Int64, q::Int64, τT::Int64, τS::Int64, η𝒯::Int64, dT::Int64, dS::Int64, d𝒯::Int64)",
      "    @ TransferEntropy ~/.julia/packages/TransferEntropy/EOdWQ/src/transferentropy/interface.jl:202",
      " [18] transferentropy(s::Vector{Float64}, t::Vector{Float64}, est::VisitationFrequency{RectangularBinning{Int64}})",
      "    @ TransferEntropy ~/.julia/packages/TransferEntropy/EOdWQ/src/transferentropy/interface.jl:196",
      " [19] top-level scope",
      "    @ In[22]:11",
      " [20] eval",
      "    @ ./boot.jl:368 [inlined]",
      " [21] include_string(mapexpr::typeof(REPL.softscope), mod::Module, code::String, filename::String)",
      "    @ Base ./loading.jl:1428"
     ]
    }
   ],
   "source": [
    "using CausalityTools\n",
    "\n",
    "a = float([1 for i = 1:100])\n",
    "b = float([1 for i = 1:100])\n",
    "\n",
    "# est = Kraskov(k=3)\n",
    "est = VisitationFrequency(RectangularBinning(10))\n",
    "# est = NaiveKernel(1.8)\n",
    "# est = SymbolicPermutation()\n",
    "# probabilities(a, est)\n",
    "transferentropy(a, b, est)"
   ]
  },
  {
   "cell_type": "code",
   "execution_count": 53,
   "metadata": {},
   "outputs": [
    {
     "data": {
      "text/plain": [
       "NaN"
      ]
     },
     "execution_count": 53,
     "metadata": {},
     "output_type": "execute_result"
    }
   ],
   "source": [
    "include(\"../Utils/entropy.jl\")\n",
    "using StatsBase: mean\n",
    "\n",
    "foo = []\n",
    "for i = 1:10000\n",
    "    a = rand(0:1, 26)\n",
    "    b = rand(0:1, 26)\n",
    "\n",
    "    push!(foo, TE(a, b))\n",
    "end\n",
    "\n",
    "maximum(foo)"
   ]
  },
  {
   "cell_type": "code",
   "execution_count": 55,
   "metadata": {},
   "outputs": [
    {
     "data": {
      "text/plain": [
       "43"
      ]
     },
     "execution_count": 55,
     "metadata": {},
     "output_type": "execute_result"
    }
   ],
   "source": [
    "sum(foo .> 0.5)"
   ]
  },
  {
   "cell_type": "code",
   "execution_count": null,
   "metadata": {},
   "outputs": [],
   "source": [
    "using CausalityTools\n",
    "\n",
    "a = collect(1:30)\n",
    "b = collect(51:80)\n",
    "\n",
    "a = [[0 for i in 1:30]..., a...]\n",
    "b = [[0 for i in 1:30]..., b...]\n",
    "\n",
    "B = 10\n",
    "d = 3\n",
    "τ = 5\n",
    "alpha = 0.001\n",
    "\n",
    "func(x,y) = pvalue(jdd(OneSampleTTest, x, y, B=B, D=d, τ=τ, μ0=0.0), tail=:right)\n",
    "func(a, b)"
   ]
  },
  {
   "cell_type": "code",
   "execution_count": null,
   "metadata": {},
   "outputs": [],
   "source": [
    "func2(x, y) = TE(Int.(x .> 0), Int.(y .> 0))\n",
    "\n",
    "nans = 0\n",
    "for i = 1:100\n",
    "    x = rand(0:10, 100)\n",
    "    y = rand(0:10, 100)\n",
    "\n",
    "    isnan(func2(x,y)) ? nans += 1 : nans += 0\n",
    "end\n",
    "\n",
    "nans"
   ]
  },
  {
   "cell_type": "code",
   "execution_count": null,
   "metadata": {},
   "outputs": [],
   "source": [
    "x = rand(0:10, 30)\n",
    "y = rand(0:10, 30)\n",
    "\n",
    "B = 10\n",
    "d = 3\n",
    "τ = 1\n",
    "alpha = 0.001\n",
    "\n",
    "func1(x, y) = pvalue(jdd(OneSampleTTest, x, y, B=B, D=d, τ=τ, μ0=0.0), tail=:right) < alpha ? 1 : 0\n",
    "@btime func1(x,y)"
   ]
  },
  {
   "cell_type": "code",
   "execution_count": null,
   "metadata": {},
   "outputs": [],
   "source": [
    "foo = zeros(3,3)\n",
    "try\n",
    "    a = minimum(foo[foo .> 0])\n",
    "catch\n",
    "    print(\"foo\")\n",
    "end"
   ]
  },
  {
   "cell_type": "code",
   "execution_count": null,
   "metadata": {},
   "outputs": [],
   "source": [
    "est = VisitationFrequency(RectangularBinning(10))\n",
    "\n",
    "n = 1000\n",
    "# Source and target variables\n",
    "s, t = rand(n), rand(n)\n",
    "\n",
    "\n",
    "est = NaiveKernel(0.3)\n",
    "@btime bbnue(s, t, est)"
   ]
  },
  {
   "cell_type": "code",
   "execution_count": null,
   "metadata": {},
   "outputs": [],
   "source": [
    "using CausalityTools\n",
    "\n",
    "a = float([[0 for i = 1:24]..., 1, [0 for i = 1:75]...])\n",
    "b = float([[0 for i = 1:36]..., 1, [0 for i = 1:63]...])\n",
    "\n",
    "a = (a .- mean(a)) / std(a)\n",
    "b = (b .- mean(b)) / std(b)\n",
    "\n",
    "transferentropy(a, b, Kraskov(k=3))"
   ]
  },
  {
   "cell_type": "code",
   "execution_count": null,
   "metadata": {},
   "outputs": [],
   "source": [
    "using Dates\n",
    "\n",
    "start_time = DateTime(2021, 10, 11, 13, 23, 12) \n",
    "end_time = DateTime(2021, 10, 28, 23, 29, 13) \n",
    "time_interval = Day(1)\n",
    "\n",
    "println(floor(start_time, time_interval))\n",
    "println(ceil(end_time, time_interval))"
   ]
  },
  {
   "cell_type": "code",
   "execution_count": null,
   "metadata": {},
   "outputs": [],
   "source": [
    "start_time = DateTime(2021, 10, 11, 13, 23, 12) \n",
    "end_time = DateTime(2021, 10, 28, 23, 29, 13) \n",
    "time_interval = Day(1)\n",
    "\n",
    "function create_time_intervals(start_time::DateTime, end_time::DateTime, time_interval::Period)\n",
    "\n",
    "    # Set beginning and end of interval by rounding\n",
    "    start_time = floor(start_time, time_interval)\n",
    "    end_time = ceil(end_time, time_interval)\n",
    "\n",
    "    intervals = [start_time]\n",
    "    \n",
    "    if end_time - start_time > time_interval\n",
    "        start = start_time\n",
    "        while start + time_interval < end_time\n",
    "            push!(intervals, start + time_interval)\n",
    "            start += time_interval\n",
    "        end\n",
    "    end\n",
    "            \n",
    "    push!(intervals, end_time)\n",
    "    \n",
    "    return intervals\n",
    "\n",
    "\n",
    "end\n",
    "\n",
    "create_time_intervals(start_time, end_time, time_interval)\n",
    "\n",
    "start_time"
   ]
  },
  {
   "cell_type": "code",
   "execution_count": null,
   "metadata": {},
   "outputs": [],
   "source": [
    "Minute <: Period"
   ]
  },
  {
   "cell_type": "code",
   "execution_count": null,
   "metadata": {},
   "outputs": [],
   "source": [
    "using DataFrames\n",
    "using Dates\n",
    "include(\"../Utils/Helpers.jl\")\n",
    "using .Helpers\n",
    "\n",
    "datafolder = \"../../Data/Twitter/COP26_processed_lightweight/\"\n",
    "datafiles = [file for file in readdir(datafolder) if occursin(\".json\", file)]\n",
    "frames = [load_json(datafolder * file) for file in datafiles]\n",
    "data = vcat(frames...)\n",
    "\n",
    "data = data[.~ismissing.(data.\"domain\"), :]\n",
    "\n",
    "to_datetime = x -> DateTime(split(x, '.')[1], \"yyyy-mm-ddTHH:MM:SS\")\n",
    "data.\"created_at\" = to_datetime.(data.\"created_at\");"
   ]
  },
  {
   "cell_type": "code",
   "execution_count": null,
   "metadata": {},
   "outputs": [],
   "source": [
    "start_time = minimum(data.created_at)\n",
    "println(start_time)\n",
    "println(floor(start_time, Minute))"
   ]
  },
  {
   "cell_type": "code",
   "execution_count": null,
   "metadata": {},
   "outputs": [],
   "source": [
    "end_time = maximum(data.created_at)\n",
    "println(end_time)\n",
    "println(ceil(end_time, Minute))"
   ]
  },
  {
   "cell_type": "code",
   "execution_count": null,
   "metadata": {},
   "outputs": [],
   "source": [
    "\n",
    "start_time = minimum(data.created_at)\n",
    "end_time = maximum(data.created_at)\n",
    "time_interval = Hour(5)\n",
    "\n",
    "function create_time_intervals(start_time::DateTime, end_time::DateTime, time_interval::Period)\n",
    "\n",
    "    # Set beginning and end of interval by rounding\n",
    "    start_time = floor(start_time, Minute)\n",
    "    end_time = ceil(end_time, Minute)\n",
    "\n",
    "    intervals = [start_time]\n",
    "    \n",
    "    if end_time - start_time > time_interval\n",
    "        start = start_time\n",
    "        while start + time_interval < end_time\n",
    "            push!(intervals, start + time_interval)\n",
    "            start += time_interval\n",
    "        end\n",
    "    end\n",
    "            \n",
    "    push!(intervals, end_time)\n",
    "    \n",
    "    return intervals\n",
    "\n",
    "\n",
    "end\n",
    "\n",
    "foo = create_time_intervals(start_time, end_time, time_interval)"
   ]
  },
  {
   "cell_type": "code",
   "execution_count": null,
   "metadata": {},
   "outputs": [],
   "source": [
    "length(foo) - 1"
   ]
  },
  {
   "cell_type": "code",
   "execution_count": null,
   "metadata": {},
   "outputs": [],
   "source": [
    "total_min = 5*60\n",
    "\n",
    "clean_dates = x -> floor(x, Dates.Minute(total_min))\n",
    "data.time = clean_dates.(data.\"created_at\")"
   ]
  },
  {
   "cell_type": "code",
   "execution_count": null,
   "metadata": {},
   "outputs": [],
   "source": [
    "a = Vector{Int}(undef, 2)"
   ]
  },
  {
   "cell_type": "code",
   "execution_count": null,
   "metadata": {},
   "outputs": [],
   "source": [
    "isassigned(a, 3)"
   ]
  },
  {
   "cell_type": "code",
   "execution_count": null,
   "metadata": {},
   "outputs": [],
   "source": [
    "using DataFrames\n",
    "using Dates\n",
    "include(\"../Utils/Helpers.jl\")\n",
    "using .Helpers\n",
    "include(\"../Sensors/Sensors.jl\")\n",
    "import .Sensors as sen\n",
    "\n",
    "datafolder = \"../../Data/Twitter/COP26_processed_lightweight/\"\n",
    "datafiles = [file for file in readdir(datafolder) if occursin(\".json\", file)]\n",
    "frames = [load_json(datafolder * file) for file in datafiles]\n",
    "data = vcat(frames...)\n",
    "\n",
    "data = data[.~ismissing.(data.\"domain\"), :]\n",
    "\n",
    "to_datetime = x -> DateTime(split(x, '.')[1], \"yyyy-mm-ddTHH:MM:SS\")\n",
    "data.\"created_at\" = to_datetime.(data.\"created_at\");\n",
    "\n"
   ]
  },
  {
   "cell_type": "code",
   "execution_count": null,
   "metadata": {},
   "outputs": [],
   "source": [
    "foo = x -> floor(x, Minute)\n",
    "time = foo.(data.created_at)"
   ]
  },
  {
   "cell_type": "code",
   "execution_count": null,
   "metadata": {},
   "outputs": [],
   "source": [
    "println(length(unique(time)))\n",
    "println(24*60*39)\n"
   ]
  },
  {
   "cell_type": "code",
   "execution_count": null,
   "metadata": {},
   "outputs": [],
   "source": [
    "13*24/2"
   ]
  },
  {
   "cell_type": "code",
   "execution_count": 5,
   "metadata": {},
   "outputs": [
    {
     "data": {
      "text/plain": [
       "2"
      ]
     },
     "execution_count": 5,
     "metadata": {},
     "output_type": "execute_result"
    }
   ],
   "source": [
    "5 ÷ 2"
   ]
  },
  {
   "cell_type": "code",
   "execution_count": 3,
   "metadata": {},
   "outputs": [
    {
     "data": {
      "text/plain": [
       "true"
      ]
     },
     "execution_count": 3,
     "metadata": {},
     "output_type": "execute_result"
    }
   ],
   "source": [
    "isodd(3)"
   ]
  },
  {
   "cell_type": "code",
   "execution_count": 27,
   "metadata": {},
   "outputs": [
    {
     "name": "stdout",
     "output_type": "stream",
     "text": [
      "PyPlot.Figure(PyObject <Figure size 640x480 with 1 Axes>)"
     ]
    },
    {
     "name": "stderr",
     "output_type": "stream",
     "text": [
      "WARNING: replacing module Sensors.\n",
      "WARNING: replacing module Visualizations.\n"
     ]
    },
    {
     "data": {
      "image/png": "[encoded data removed]",
      "text/plain": [
       "PyPlot.Figure(PyObject <Figure size 640x480 with 1 Axes>)"
      ]
     },
     "metadata": {},
     "output_type": "display_data"
    }
   ],
   "source": [
    "include(\"../Sensors/Sensors.jl\")\n",
    "include(\"../Utils/Visualizations.jl\")\n",
    "using .Visualizations;\n",
    "import PyPlot as plt\n",
    "\n",
    "Nbar = 1\n",
    "x_length = 6\n",
    "width = 0.5\n",
    "spacing = 0.2\n",
    "\n",
    "Y = rand(Nbar, x_length)\n",
    "X, ticks = Visualizations.barplot_layout(Nbar, x_length, width=width, spacing=spacing)\n",
    "\n",
    "plt.figure()\n",
    "for i = 1:Nbar\n",
    "    plt.bar(X[i, :], Y[i, :], width=width, label=\"$i\", zorder=2)\n",
    "end\n",
    "plt.xticks(ticks)\n",
    "show(plt.gcf())"
   ]
  },
  {
   "cell_type": "code",
   "execution_count": 30,
   "metadata": {},
   "outputs": [
    {
     "data": {
      "text/plain": [
       "1×7 Matrix{Float64}:\n",
       " 0.535588  0.496839  0.296448  0.322843  0.0  0.0  0.0"
      ]
     },
     "execution_count": 30,
     "metadata": {},
     "output_type": "execute_result"
    }
   ],
   "source": [
    "x = rand(4)\n",
    "[x... [0. for i = 1:3]...]"
   ]
  },
  {
   "cell_type": "code",
   "execution_count": 17,
   "metadata": {},
   "outputs": [
    {
     "name": "stderr",
     "output_type": "stream",
     "text": [
      "WARNING: replacing module Sensors.\n",
      "WARNING: replacing module PreProcessing.\n",
      "WARNING: replacing module Helpers.\n",
      "WARNING: replacing module Visualizations.\n",
      "WARNING: using Sensors.JointDistanceDistribution in module Main conflicts with an existing identifier.\n",
      "WARNING: using Sensors.InfluenceCascadeGenerator in module Main conflicts with an existing identifier.\n",
      "WARNING: using Sensors.TransferEntropy in module Main conflicts with an existing identifier.\n",
      "WARNING: using Sensors.InfluenceGraphGenerator in module Main conflicts with an existing identifier.\n",
      "WARNING: using Sensors.observe in module Main conflicts with an existing identifier.\n",
      "WARNING: using Sensors.WithoutCuttoff in module Main conflicts with an existing identifier.\n",
      "WARNING: using Sensors.SMeasure in module Main conflicts with an existing identifier.\n",
      "WARNING: using Sensors.TimeSeriesGenerator in module Main conflicts with an existing identifier.\n"
     ]
    },
    {
     "data": {
      "text/plain": [
       "1-element Vector{InfluenceCascade}:\n",
       " InfluenceCascade(OrderedDict{AbstractString, Matrix}(\"0 => 1\" => [0.8 0.0; 0.6 0.0], \"1 => 2\" => [0.9 0.0; 0.6 0.7]), OrderedDict{AbstractString, Vector{Tuple{Int64, Int64}}}(\"0 => 1\" => [(1, 2)], \"1 => 2\" => [(2, 3)]), [1, 1, 1], 1, false)"
      ]
     },
     "execution_count": 17,
     "metadata": {},
     "output_type": "execute_result"
    }
   ],
   "source": [
    "using Revise\n",
    "include(\"../Sensors/Sensors.jl\")\n",
    "include(\"../PreProcessing/PreProcessing.jl\")\n",
    "include(\"../Utils/Helpers.jl\")\n",
    "include(\"../Utils/Visualizations.jl\")\n",
    "using .Sensors, .PreProcessing, .Visualizations, .Helpers;\n",
    "\n",
    "a = [0.1 0.2;0.05 0.2]\n",
    "b = [0.8 0.2;0.6 0.1]\n",
    "c = [0.1 0.2;0.2 0]\n",
    "d = [0.9 0.2;0.6 0.7]\n",
    "e = [0 0;0 0]\n",
    "\n",
    "B = Matrix{Matrix{Float64}}(undef, 3, 3)\n",
    "\n",
    "B[1,1] = e\n",
    "B[1,2] = b\n",
    "B[1,3] = e\n",
    "B[2,1] = e\n",
    "B[2,2] = e\n",
    "B[2,3] = d\n",
    "B[3,1] = e\n",
    "B[3,2] = e\n",
    "B[3,3] = e\n",
    "\n",
    "cuttoff = 0.5\n",
    "icg = InfluenceCascadeGenerator(cuttoff, false)\n",
    "\n",
    "cascades_A = observe(B, icg)"
   ]
  },
  {
   "cell_type": "code",
   "execution_count": 16,
   "metadata": {},
   "outputs": [
    {
     "data": {
      "text/plain": [
       "3×3 Matrix{Matrix{Float64}}:\n",
       " [0.0 0.0; 0.0 0.0]  [0.8 0.2; 0.6 0.1]  [0.0 0.0; 0.0 0.0]\n",
       " [0.0 0.0; 0.0 0.0]  [0.0 0.0; 0.0 0.0]  [0.9 0.2; 0.6 0.7]\n",
       " [0.0 0.0; 0.0 0.0]  [0.0 0.0; 0.0 0.0]  [0.0 0.0; 0.0 0.0]"
      ]
     },
     "execution_count": 16,
     "metadata": {},
     "output_type": "execute_result"
    }
   ],
   "source": [
    "B"
   ]
  },
  {
   "cell_type": "code",
   "execution_count": 28,
   "metadata": {},
   "outputs": [
    {
     "name": "stdout",
     "output_type": "stream",
     "text": [
      "OrderedDict{AbstractString, Vector{Tuple{Int64, Int64}}}(\"0 => 1\" => [(1, 2), (1, 4)], \"1 => 2\" => [(2, 3), (4, 2)], \"2 => 3\" => [(3, 2)])\n",
      "[1, 2, 2, 1]\n"
     ]
    },
    {
     "name": "stderr",
     "output_type": "stream",
     "text": [
      "WARNING: replacing module Sensors.\n",
      "WARNING: replacing module PreProcessing.\n",
      "WARNING: replacing module Helpers.\n",
      "WARNING: replacing module Visualizations.\n",
      "WARNING: using Sensors.JointDistanceDistribution in module Main conflicts with an existing identifier.\n",
      "WARNING: using Sensors.InfluenceCascadeGenerator in module Main conflicts with an existing identifier.\n",
      "WARNING: using Sensors.TransferEntropy in module Main conflicts with an existing identifier.\n",
      "WARNING: using Sensors.InfluenceGraphGenerator in module Main conflicts with an existing identifier.\n",
      "WARNING: using Sensors.observe in module Main conflicts with an existing identifier.\n",
      "WARNING: using Sensors.WithoutCuttoff in module Main conflicts with an existing identifier.\n",
      "WARNING: using Sensors.SMeasure in module Main conflicts with an existing identifier.\n",
      "WARNING: using Sensors.TimeSeriesGenerator in module Main conflicts with an existing identifier.\n"
     ]
    }
   ],
   "source": [
    "include(\"../Sensors/Sensors.jl\")\n",
    "include(\"../PreProcessing/PreProcessing.jl\")\n",
    "include(\"../Utils/Helpers.jl\")\n",
    "include(\"../Utils/Visualizations.jl\")\n",
    "using .Sensors, .PreProcessing, .Visualizations, .Helpers;\n",
    "\n",
    "f = [1.2 0.3 0.; 0.7 0.3 0.3; 0. 0.6 0.]\n",
    "g = [0.3 0.3 0.3; 0.2 0.9 0.8; 0.3 0.9 0.]\n",
    "h = zeros(3,3)\n",
    "\n",
    "C = Matrix{Matrix{Float64}}(undef, 4, 4)\n",
    "\n",
    "for i in 1:size(C,1), j in 1:size(C,2)\n",
    "    C[i,j] = h\n",
    "end\n",
    "\n",
    "C[1, 4] = f\n",
    "C[2,1] = g\n",
    "C[3,4] = f\n",
    "C[4,1] = g\n",
    "\n",
    "D = Matrix{Matrix{Float64}}(undef, 4, 4)\n",
    "\n",
    "for i in 1:size(C,1), j in 1:size(C,2)\n",
    "    D[i,j] = h\n",
    "end\n",
    "\n",
    "D[1, 2] = f\n",
    "D[1, 4] = f\n",
    "D[2,3] = g\n",
    "D[3,2] = f\n",
    "D[4,2] = g\n",
    "\n",
    "cuttoff = 0.5\n",
    "icg = InfluenceCascadeGenerator(cuttoff, false)\n",
    "\n",
    "cascades = observe(D, icg)\n",
    "println(cascades[1].actor_edges)\n",
    "println(cascades[1].actors_per_level)"
   ]
  },
  {
   "cell_type": "code",
   "execution_count": 26,
   "metadata": {},
   "outputs": [
    {
     "name": "stdout",
     "output_type": "stream",
     "text": [
      "OrderedDict{AbstractString, Vector{Tuple{Int64, Int64}}}(\"0 => 1\" => [(3, 4)], \"1 => 2\" => [(4, 1)], \"2 => 3\" => [(1, 4)])\n",
      "[1, 1, 1, 1]\n"
     ]
    }
   ],
   "source": [
    "println(cascades[2].actor_edges)\n",
    "println(cascades[2].actors_per_level)"
   ]
  },
  {
   "cell_type": "code",
   "execution_count": 32,
   "metadata": {},
   "outputs": [
    {
     "data": {
      "text/plain": [
       "Queue{Int64}(Deque [[2, 2]])"
      ]
     },
     "execution_count": 32,
     "metadata": {},
     "output_type": "execute_result"
    }
   ],
   "source": [
    "using DataStructures\n",
    "\n",
    "a = Queue{Int}()\n",
    "\n",
    "enqueue!(a, 2)\n",
    "enqueue!(a, 2)\n",
    "a"
   ]
  },
  {
   "cell_type": "code",
   "execution_count": 30,
   "metadata": {},
   "outputs": [
    {
     "data": {
      "text/plain": [
       "2"
      ]
     },
     "execution_count": 30,
     "metadata": {},
     "output_type": "execute_result"
    }
   ],
   "source": [
    "foo = dequeue!(a)"
   ]
  },
  {
   "cell_type": "code",
   "execution_count": 2,
   "metadata": {},
   "outputs": [
    {
     "data": {
      "text/plain": [
       "10×10 Matrix{Float64}:\n",
       " 0.954159   0.705747  0.656091  0.732299  …  0.865221  0.923886  0.501787\n",
       " 0.845895   0.991961  0.492297  0.439982     0.228402  0.546804  0.940805\n",
       " 0.586749   0.740841  0.100781  0.960804     0.197021  0.460865  0.496143\n",
       " 0.121813   0.229042  0.878875  0.299572     0.32906   0.702991  0.597685\n",
       " 0.137766   0.96917   0.590084  0.639659     0.985006  0.284711  0.129922\n",
       " 0.0508083  0.540529  0.765927  0.660925  …  0.486825  0.301949  0.407486\n",
       " 0.38644    0.639715  0.310826  0.357289     0.915104  0.712624  0.541886\n",
       " 0.846458   0.227688  0.018445  0.45545      0.741824  0.459458  0.776189\n",
       " 0.123538   0.267809  0.160885  0.519318     0.386815  0.619829  0.0716803\n",
       " 0.74002    0.83098   0.605897  0.17096      0.920633  0.292777  0.932684"
      ]
     },
     "execution_count": 2,
     "metadata": {},
     "output_type": "execute_result"
    }
   ],
   "source": [
    "import Random\n",
    "\n",
    "rng = Random.Xoshiro(123)\n",
    "\n",
    "a = rand(rng, 10, 10)\n",
    "b = rand(rng, 10, 10)"
   ]
  },
  {
   "cell_type": "code",
   "execution_count": 3,
   "metadata": {},
   "outputs": [
    {
     "data": {
      "text/plain": [
       "10×10 Matrix{Float64}:\n",
       " 0.954159   0.705747  0.656091  0.732299  …  0.865221  0.923886  0.501787\n",
       " 0.845895   0.991961  0.492297  0.439982     0.228402  0.546804  0.940805\n",
       " 0.586749   0.740841  0.100781  0.960804     0.197021  0.460865  0.496143\n",
       " 0.121813   0.229042  0.878875  0.299572     0.32906   0.702991  0.597685\n",
       " 0.137766   0.96917   0.590084  0.639659     0.985006  0.284711  0.129922\n",
       " 0.0508083  0.540529  0.765927  0.660925  …  0.486825  0.301949  0.407486\n",
       " 0.38644    0.639715  0.310826  0.357289     0.915104  0.712624  0.541886\n",
       " 0.846458   0.227688  0.018445  0.45545      0.741824  0.459458  0.776189\n",
       " 0.123538   0.267809  0.160885  0.519318     0.386815  0.619829  0.0716803\n",
       " 0.74002    0.83098   0.605897  0.17096      0.920633  0.292777  0.932684"
      ]
     },
     "execution_count": 3,
     "metadata": {},
     "output_type": "execute_result"
    }
   ],
   "source": [
    "rng1 = Random.Xoshiro(123)\n",
    "\n",
    "a1 = rand(rng1, 10, 10)\n",
    "b1 = rand(rng1, 10, 10)"
   ]
  },
  {
   "cell_type": "code",
   "execution_count": 5,
   "metadata": {},
   "outputs": [
    {
     "data": {
      "text/plain": [
       "true"
      ]
     },
     "execution_count": 5,
     "metadata": {},
     "output_type": "execute_result"
    }
   ],
   "source": [
    "b == b1"
   ]
  },
  {
   "cell_type": "code",
   "execution_count": 1,
   "metadata": {},
   "outputs": [
    {
     "data": {
      "text/plain": [
       "0.3482130328525459"
      ]
     },
     "execution_count": 1,
     "metadata": {},
     "output_type": "execute_result"
    }
   ],
   "source": [
    "include(\"../Sensors/Sensors.jl\")\n",
    "using .Sensors;\n",
    "import Random\n",
    "\n",
    "rng1 = Random.Xoshiro(123)\n",
    "a = rand(rng1, 10)\n",
    "b = rand(rng1, 10)\n",
    "\n",
    "foo = InfluenceGraphGenerator(JointDistanceDistribution, alpha=0.001)\n",
    "\n",
    "foo.causal_function(a, b)"
   ]
  },
  {
   "cell_type": "code",
   "execution_count": 1,
   "metadata": {},
   "outputs": [
    {
     "data": {
      "text/plain": [
       "0.3482130328525459"
      ]
     },
     "execution_count": 1,
     "metadata": {},
     "output_type": "execute_result"
    }
   ],
   "source": [
    "include(\"../Sensors/Sensors.jl\")\n",
    "using .Sensors;\n",
    "import Random\n",
    "\n",
    "rng1 = Random.Xoshiro(123)\n",
    "a = rand(rng1, 10)\n",
    "b = rand(rng1, 10)\n",
    "\n",
    "foo = InfluenceGraphGenerator(JointDistanceDistribution, alpha=0.001)\n",
    "\n",
    "foo.causal_function(a, b)"
   ]
  },
  {
   "cell_type": "code",
   "execution_count": 2,
   "metadata": {},
   "outputs": [
    {
     "data": {
      "text/plain": [
       "0.3482130328525459"
      ]
     },
     "execution_count": 2,
     "metadata": {},
     "output_type": "execute_result"
    }
   ],
   "source": [
    "rng1 = Random.Xoshiro(123)\n",
    "a = rand(rng1, 10)\n",
    "b = rand(rng1, 10)\n",
    "\n",
    "foo = InfluenceGraphGenerator(JointDistanceDistribution, alpha=0.001)\n",
    "\n",
    "foo.causal_function(a, b)"
   ]
  },
  {
   "cell_type": "code",
   "execution_count": 4,
   "metadata": {},
   "outputs": [
    {
     "data": {
      "text/plain": [
       "0.3482130328525459"
      ]
     },
     "execution_count": 4,
     "metadata": {},
     "output_type": "execute_result"
    }
   ],
   "source": [
    "rng1 = Random.Xoshiro(123)\n",
    "a = rand(rng1, 10)\n",
    "b = rand(rng1, 10)\n",
    "\n",
    "foo = InfluenceGraphGenerator(JointDistanceDistribution, alpha=0.001)\n",
    "\n",
    "\n",
    "foo.causal_function(a, b)"
   ]
  },
  {
   "cell_type": "code",
   "execution_count": 16,
   "metadata": {},
   "outputs": [],
   "source": [
    "a = Matrix{Matrix{Float64}}(undef, 2, 2)\n",
    "foo1 = [ 1 2; 3 4]\n",
    "foo2_ = [0.1 0.3; 2.1 3.1]\n",
    "foo3 = [0 0; 2 1]\n",
    "foo4 = [0 3; 1 0]\n",
    "a[1, 1] = foo1\n",
    "a[1, 2] = foo2_\n",
    "a[2, 1] = foo3\n",
    "a[2, 2] = foo4\n",
    "\n",
    "N_actions = 2\n",
    "cuttoff = 0.5\n",
    "edge_number = zeros(4)\n",
    "\n",
    "linear_index = 0\n",
    "for i = 1:N_actions, j = 1:N_actions\n",
    "    linear_index += 1\n",
    "    simplifier = x -> (x[i, j] > cuttoff)\n",
    "    edge_number[linear_index] = sum(simplifier.(a))\n",
    "end"
   ]
  },
  {
   "cell_type": "code",
   "execution_count": 20,
   "metadata": {},
   "outputs": [
    {
     "data": {
      "text/plain": [
       "1"
      ]
     },
     "execution_count": 20,
     "metadata": {},
     "output_type": "execute_result"
    }
   ],
   "source": [
    "simplifier = x -> (x[1, 1] > cuttoff)\n",
    "sum(simplifier.(a))"
   ]
  },
  {
   "cell_type": "code",
   "execution_count": 38,
   "metadata": {},
   "outputs": [
    {
     "data": {
      "text/plain": [
       "3×5 Matrix{Float64}:\n",
       "  6.0   7.0   8.0   9.0  10.0\n",
       "  1.0   2.0   3.0   4.0   5.0\n",
       " 11.0  12.0  13.0  14.0  15.0"
      ]
     },
     "execution_count": 38,
     "metadata": {},
     "output_type": "execute_result"
    }
   ],
   "source": [
    "edge_number = Matrix{Float64}(undef, 3, 5)\n",
    "edge_number[1,:] = collect(1:5)\n",
    "edge_number[2,:] = collect(6:10)\n",
    "edge_number[3,:] = collect(11:15)\n",
    "\n",
    "reorder = [2,1,3]\n",
    "edge_number[reorder, :]"
   ]
  },
  {
   "cell_type": "code",
   "execution_count": 26,
   "metadata": {},
   "outputs": [
    {
     "data": {
      "text/plain": [
       "3×5 Matrix{Int64}:\n",
       "  1   2   3   4   5\n",
       "  6   7   8   9  10\n",
       " 11  12  13  14  15"
      ]
     },
     "execution_count": 26,
     "metadata": {},
     "output_type": "execute_result"
    }
   ],
   "source": [
    "edge_number"
   ]
  },
  {
   "cell_type": "code",
   "execution_count": 39,
   "metadata": {},
   "outputs": [
    {
     "data": {
      "text/plain": [
       "3×5 Matrix{Float64}:\n",
       " 0.0666667  0.133333  0.2  0.266667  0.333333\n",
       " 0.15       0.175     0.2  0.225     0.25\n",
       " 0.169231   0.184615  0.2  0.215385  0.230769"
      ]
     },
     "execution_count": 39,
     "metadata": {},
     "output_type": "execute_result"
    }
   ],
   "source": [
    "edge_number ./= sum(edge_number, dims=2)"
   ]
  },
  {
   "cell_type": "code",
   "execution_count": 43,
   "metadata": {},
   "outputs": [
    {
     "data": {
      "text/plain": [
       "5-element Vector{Float64}:\n",
       " 11.0\n",
       " 12.0\n",
       " 13.0\n",
       " 14.0\n",
       " 15.0"
      ]
     },
     "execution_count": 43,
     "metadata": {},
     "output_type": "execute_result"
    }
   ],
   "source": [
    "edge_number[3,:] .* 65"
   ]
  },
  {
   "cell_type": "code",
   "execution_count": 36,
   "metadata": {},
   "outputs": [
    {
     "data": {
      "text/plain": [
       "3×5 Matrix{Int64}:\n",
       "  1   2   3   4   5\n",
       "  6   7   8   9  10\n",
       " 11  12  13  14  15"
      ]
     },
     "execution_count": 36,
     "metadata": {},
     "output_type": "execute_result"
    }
   ],
   "source": [
    "edge_number"
   ]
  },
  {
   "cell_type": "code",
   "execution_count": 44,
   "metadata": {},
   "outputs": [
    {
     "data": {
      "text/plain": [
       "3-element Vector{String}:\n",
       " \"test givsaiu\"\n",
       " \"test bp^\"\n",
       " \"test bhbipp\""
      ]
     },
     "execution_count": 44,
     "metadata": {},
     "output_type": "execute_result"
    }
   ],
   "source": [
    "\"test \" .* [\"givsaiu\", \"bp^\", \"bhbipp\"]"
   ]
  },
  {
   "cell_type": "code",
   "execution_count": 48,
   "metadata": {},
   "outputs": [
    {
     "data": {
      "text/plain": [
       "1-element Vector{SubString{String}}:\n",
       " \"test\""
      ]
     },
     "execution_count": 48,
     "metadata": {},
     "output_type": "execute_result"
    }
   ],
   "source": [
    "split(\"test\", '/')"
   ]
  },
  {
   "cell_type": "code",
   "execution_count": 55,
   "metadata": {},
   "outputs": [
    {
     "data": {
      "text/plain": [
       "foo (generic function with 2 methods)"
      ]
     },
     "execution_count": 55,
     "metadata": {},
     "output_type": "execute_result"
    }
   ],
   "source": [
    "function foo()\n",
    "    replace(\"test_56\", '_' => ' ')\n",
    "    plot_name = uppercase(\"actor frequency\")\n",
    "    @warn \"The plot of $plot_name will not be saved because this would overwrite it.\"\n",
    "end"
   ]
  },
  {
   "cell_type": "code",
   "execution_count": 60,
   "metadata": {},
   "outputs": [],
   "source": [
    "using Logging\n",
    "with_logger(foo, NullLogger())"
   ]
  },
  {
   "cell_type": "code",
   "execution_count": 63,
   "metadata": {},
   "outputs": [
    {
     "data": {
      "text/plain": [
       "f (generic function with 1 method)"
      ]
     },
     "execution_count": 63,
     "metadata": {},
     "output_type": "execute_result"
    }
   ],
   "source": [
    "f() = 2*2"
   ]
  },
  {
   "cell_type": "code",
   "execution_count": null,
   "metadata": {},
   "outputs": [],
   "source": []
  }
 ],
 "metadata": {
  "kernelspec": {
   "display_name": "Julia 1.8.1",
   "language": "julia",
   "name": "julia-1.8"
  },
  "language_info": {
   "file_extension": ".jl",
   "mimetype": "application/julia",
   "name": "julia",
   "version": "1.8.1"
  },
  "orig_nbformat": 4,
  "vscode": {
   "interpreter": {
    "hash": "d414a8e85e9c5ccdc8812887eb84d5216e7e6e9c9aa8c61fc7e614ebeebe649a"
   }
  }
 },
 "nbformat": 4,
 "nbformat_minor": 2
}
