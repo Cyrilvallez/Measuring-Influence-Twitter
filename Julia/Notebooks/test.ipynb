{
 "cells": [
  {
   "cell_type": "code",
   "execution_count": null,
   "metadata": {},
   "outputs": [],
   "source": [
    "using CausalityTools\n",
    "include(\"../entropy.jl\")\n",
    "using Random\n",
    "using BenchmarkTools\n",
    "\n",
    "rng = MersenneTwister(145)\n",
    "\n",
    "a = rand(rng, 0:10, 100)\n",
    "b = rand(rng, 0:10, 100)\n",
    "\n",
    "est = Kraskov(k=1)\n",
    "\n",
    "print(\"Current method :\")\n",
    "foo = @btime TE(Int.(a .> 0), Int.(b .> 0))\n",
    "println(\"The result is $foo.\\n\")\n",
    "\n",
    "\n",
    "print(\"True transfer entropy :\")\n",
    "a = float.(a)\n",
    "b = float.(b)\n",
    "foo2 = @btime transferentropy(a, b, est)\n",
    "println(\"The result is $foo2.\\n\")\n",
    "\n",
    "print(\"CCM :\")\n",
    "foo3 = @btime crossmap(a, b, 2, 1)\n",
    "println(\"The result is $foo3.\\n\")"
   ]
  },
  {
   "cell_type": "code",
   "execution_count": null,
   "metadata": {},
   "outputs": [],
   "source": [
    "import PyPlot as plt\n",
    "\n",
    "rng = MersenneTwister(145)\n",
    "\n",
    "a = rand(rng, 0:10, 100)\n",
    "b = rand(rng, 0:10, 100)\n",
    "\n",
    "a = float.(a)\n",
    "b = float.(b)\n",
    "\n",
    "Ls = [10:5:50; 60:10:100]\n",
    "\n",
    "@btime begin\n",
    "    test = [crossmap(a[1:L], b[1:L], 2, 1) for L in Ls]\n",
    "    test2 = [crossmap(b[1:L], a[1:L], 2, 1) for L in Ls]\n",
    "end\n",
    "\n",
    "plt.figure()\n",
    "plt.plot(Ls, test, \"b-\", label=\"a to b\")\n",
    "plt.plot(Ls, test2, \"r-\", label=\"b to a\")\n",
    "plt.legend()\n",
    "show(plt.gcf())"
   ]
  },
  {
   "cell_type": "code",
   "execution_count": null,
   "metadata": {},
   "outputs": [],
   "source": [
    "using CausalityTools\n",
    "\n",
    "s_measure()"
   ]
  },
  {
   "cell_type": "code",
   "execution_count": 14,
   "metadata": {},
   "outputs": [
    {
     "ename": "MethodError",
     "evalue": "MethodError: no method matching s_measure(::Vector{Float64}, ::Vector{Float64}; dx=4, τx=3, my=5, τy=1)\nClosest candidates are:\n  s_measure(::AbstractVector{T}, ::AbstractVector{T}; K, dx, dy, τx, τy, metric, tree_metric) where T at ~/.julia/packages/CausalityTools/Zxxnz/src/SMeasure/smeasure.jl:140 got unsupported keyword argument \"my\"\n  s_measure(!Matched::DelayEmbeddings.AbstractDataset{D}, ::AbstractVector{T}; K, dy, τy, metric, tree_metric) where {D, T} at ~/.julia/packages/CausalityTools/Zxxnz/src/SMeasure/smeasure.jl:155 got unsupported keyword arguments \"dx\", \"τx\", \"my\"\n  s_measure(::AbstractVector{T}, !Matched::DelayEmbeddings.AbstractDataset{D}; K, dx, τx, metric, tree_metric) where {D, T} at ~/.julia/packages/CausalityTools/Zxxnz/src/SMeasure/smeasure.jl:163 got unsupported keyword arguments \"my\", \"τy\"",
     "output_type": "error",
     "traceback": [
      "MethodError: no method matching s_measure(::Vector{Float64}, ::Vector{Float64}; dx=4, τx=3, my=5, τy=1)\n",
      "Closest candidates are:\n",
      "  s_measure(::AbstractVector{T}, ::AbstractVector{T}; K, dx, dy, τx, τy, metric, tree_metric) where T at ~/.julia/packages/CausalityTools/Zxxnz/src/SMeasure/smeasure.jl:140 got unsupported keyword argument \"my\"\n",
      "  s_measure(!Matched::DelayEmbeddings.AbstractDataset{D}, ::AbstractVector{T}; K, dy, τy, metric, tree_metric) where {D, T} at ~/.julia/packages/CausalityTools/Zxxnz/src/SMeasure/smeasure.jl:155 got unsupported keyword arguments \"dx\", \"τx\", \"my\"\n",
      "  s_measure(::AbstractVector{T}, !Matched::DelayEmbeddings.AbstractDataset{D}; K, dx, τx, metric, tree_metric) where {D, T} at ~/.julia/packages/CausalityTools/Zxxnz/src/SMeasure/smeasure.jl:163 got unsupported keyword arguments \"my\", \"τy\"\n",
      "\n",
      "Stacktrace:\n",
      "  [1] kwerr(::NamedTuple{(:dx, :τx, :my, :τy), NTuple{4, Int64}}, ::Function, ::Vector{Float64}, ::Vector{Float64})\n",
      "    @ Base ./error.jl:165\n",
      "  [2] top-level scope\n",
      "    @ ~/Desktop/Thesis/Julia/Notebooks/test.ipynb:11\n",
      "  [3] eval\n",
      "    @ ./boot.jl:368 [inlined]\n",
      "  [4] include_string(mapexpr::typeof(REPL.softscope), mod::Module, code::String, filename::String)\n",
      "    @ Base ./loading.jl:1428\n",
      "  [5] #invokelatest#2\n",
      "    @ ./essentials.jl:729 [inlined]\n",
      "  [6] invokelatest\n",
      "    @ ./essentials.jl:726 [inlined]\n",
      "  [7] (::VSCodeServer.var\"#164#165\"{VSCodeServer.NotebookRunCellArguments, String})()\n",
      "    @ VSCodeServer ~/.vscode/extensions/julialang.language-julia-1.6.24/scripts/packages/VSCodeServer/src/serve_notebook.jl:19\n",
      "  [8] withpath(f::VSCodeServer.var\"#164#165\"{VSCodeServer.NotebookRunCellArguments, String}, path::String)\n",
      "    @ VSCodeServer ~/.vscode/extensions/julialang.language-julia-1.6.24/scripts/packages/VSCodeServer/src/repl.jl:184\n",
      "  [9] notebook_runcell_request(conn::VSCodeServer.JSONRPC.JSONRPCEndpoint{Base.PipeEndpoint, Base.PipeEndpoint}, params::VSCodeServer.NotebookRunCellArguments)\n",
      "    @ VSCodeServer ~/.vscode/extensions/julialang.language-julia-1.6.24/scripts/packages/VSCodeServer/src/serve_notebook.jl:13\n",
      " [10] dispatch_msg(x::VSCodeServer.JSONRPC.JSONRPCEndpoint{Base.PipeEndpoint, Base.PipeEndpoint}, dispatcher::VSCodeServer.JSONRPC.MsgDispatcher, msg::Dict{String, Any})\n",
      "    @ VSCodeServer.JSONRPC ~/.vscode/extensions/julialang.language-julia-1.6.24/scripts/packages/JSONRPC/src/typed.jl:67\n",
      " [11] serve_notebook(pipename::String, outputchannel_logger::Base.CoreLogging.SimpleLogger; crashreporting_pipename::String)\n",
      "    @ VSCodeServer ~/.vscode/extensions/julialang.language-julia-1.6.24/scripts/packages/VSCodeServer/src/serve_notebook.jl:136\n",
      " [12] top-level scope\n",
      "    @ ~/.vscode/extensions/julialang.language-julia-1.6.24/scripts/notebook/notebook.jl:32\n",
      " [13] include(mod::Module, _path::String)\n",
      "    @ Base ./Base.jl:419\n",
      " [14] exec_options(opts::Base.JLOptions)\n",
      "    @ Base ./client.jl:303\n",
      " [15] _start()\n",
      "    @ Base ./client.jl:522"
     ]
    }
   ],
   "source": [
    "using CausalityTools\n",
    "\n",
    "# A two-dimensional Ulam lattice map\n",
    "sys = ulam(2)\n",
    "\n",
    "# Sample 1000 points after discarding 5000 transients\n",
    "orbit = trajectory(sys, 1000, Ttr = 5000)\n",
    "x, y = orbit[:, 1], orbit[:, 2]\n",
    "\n",
    "# 4-dimensional embedding for `x`, 5-dimensional embedding for `y`\n",
    "s_measure(x, y, dx = 4, τx = 3, dy = 5, τy = 1)"
   ]
  },
  {
   "cell_type": "code",
   "execution_count": 23,
   "metadata": {},
   "outputs": [
    {
     "data": {
      "text/plain": [
       "2-dimensional Dataset{Int64} with 95 points\n",
       "  1    6\n",
       "  2    7\n",
       "  3    8\n",
       "  4    9\n",
       "  5   10\n",
       "  6   11\n",
       "  7   12\n",
       "  8   13\n",
       "  9   14\n",
       " 10   15\n",
       "  ⋮  \n",
       " 87   92\n",
       " 88   93\n",
       " 89   94\n",
       " 90   95\n",
       " 91   96\n",
       " 92   97\n",
       " 93   98\n",
       " 94   99\n",
       " 95  100"
      ]
     },
     "metadata": {},
     "output_type": "display_data"
    }
   ],
   "source": [
    "using DelayEmbeddings\n",
    "\n",
    "a = collect(1:100)\n",
    "p = embed(a, 2, 5)"
   ]
  },
  {
   "cell_type": "code",
   "execution_count": 26,
   "metadata": {},
   "outputs": [
    {
     "ename": "LoadError",
     "evalue": "UndefVarError: embed not defined",
     "output_type": "error",
     "traceback": [
      "UndefVarError: embed not defined",
      "",
      "Stacktrace:",
      " [1] top-level scope",
      "   @ In[26]:7",
      " [2] eval",
      "   @ ./boot.jl:368 [inlined]",
      " [3] include_string(mapexpr::typeof(REPL.softscope), mod::Module, code::String, filename::String)",
      "   @ Base ./loading.jl:1428"
     ]
    }
   ],
   "source": [
    "using Neighborhood\n",
    "\n",
    "a = [0, 1.2, 0.1, 0.8]\n",
    "b = [0, 0, 1.8, 0.8]\n",
    "\n",
    "\n",
    "X = embed(a, 2, 1)\n",
    "Y = embed(b, 2, 1)\n",
    "\n",
    "treeX = searchstructure(KDTree, X, Euclidean())\n",
    "treeY = searchstructure(KDTree, Y, Euclidean())\n",
    "neighborhoodtype, theiler = NeighborNumber(1), Theiler(0)\n",
    "idxs_X = bulkisearch(treeX, X, neighborhoodtype, theiler)\n",
    "idxs_Y = bulkisearch(treeY, Y, neighborhoodtype, theiler)\n",
    "\n",
    "print(idxs_Y)"
   ]
  },
  {
   "cell_type": "code",
   "execution_count": 15,
   "metadata": {},
   "outputs": [
    {
     "data": {
      "text/plain": [
       "true"
      ]
     },
     "execution_count": 15,
     "metadata": {},
     "output_type": "execute_result"
    }
   ],
   "source": [
    "Vector{Int64} <: AbstractArray"
   ]
  },
  {
   "cell_type": "code",
   "execution_count": 30,
   "metadata": {},
   "outputs": [
    {
     "data": {
      "text/plain": [
       "get_T (generic function with 2 methods)"
      ]
     },
     "execution_count": 30,
     "metadata": {},
     "output_type": "execute_result"
    }
   ],
   "source": [
    "using NearestNeighbors\n",
    "\n",
    "get_T(::Type{T}) where {T <: AbstractFloat} = T\n",
    "get_T(::T) where {T} = Float64\n"
   ]
  },
  {
   "cell_type": "code",
   "execution_count": 34,
   "metadata": {},
   "outputs": [
    {
     "ename": "LoadError",
     "evalue": "InexactError: Int64(Inf)",
     "output_type": "error",
     "traceback": [
      "InexactError: Int64(Inf)",
      "",
      "Stacktrace:",
      " [1] Int64",
      "   @ ./float.jl:788 [inlined]",
      " [2] convert",
      "   @ ./number.jl:7 [inlined]",
      " [3] fill!(dest::Vector{Int64}, x::Float64)",
      "   @ Base ./array.jl:351",
      " [4] top-level scope",
      "   @ In[34]:5",
      " [5] eval",
      "   @ ./boot.jl:368 [inlined]",
      " [6] include_string(mapexpr::typeof(REPL.softscope), mod::Module, code::String, filename::String)",
      "   @ Base ./loading.jl:1428"
     ]
    }
   ],
   "source": [
    "a = rand(1:10, 10)\n",
    "\n",
    "foo = typemax(get_T(Int))\n",
    "\n",
    "fill!(a, foo)"
   ]
  },
  {
   "cell_type": "code",
   "execution_count": 38,
   "metadata": {},
   "outputs": [
    {
     "name": "stdout",
     "output_type": "stream",
     "text": [
      "  38.222 ns (1 allocation: 144 bytes)\n"
     ]
    },
    {
     "data": {
      "text/plain": [
       "10-element Vector{Float64}:\n",
       "  3.0\n",
       " 10.0\n",
       "  1.0\n",
       "  1.0\n",
       "  9.0\n",
       "  3.0\n",
       "  4.0\n",
       "  3.0\n",
       "  5.0\n",
       "  5.0"
      ]
     },
     "execution_count": 38,
     "metadata": {},
     "output_type": "execute_result"
    }
   ],
   "source": [
    "using BenchmarkTools\n",
    "\n",
    "@btime float(a)"
   ]
  },
  {
   "cell_type": "code",
   "execution_count": 27,
   "metadata": {},
   "outputs": [
    {
     "ename": "LoadError",
     "evalue": "InexactError: Int64(Inf)",
     "output_type": "error",
     "traceback": [
      "InexactError: Int64(Inf)",
      "",
      "Stacktrace:",
      "  [1] Int64",
      "    @ ./float.jl:788 [inlined]",
      "  [2] convert",
      "    @ ./number.jl:7 [inlined]",
      "  [3] fill!(dest::Vector{Int64}, x::Float64)",
      "    @ Base ./array.jl:351",
      "  [4] knn_point!(tree::KDTree{StaticArraysCore.SVector{2, Int64}, Euclidean, Int64}, point::StaticArraysCore.SVector{2, Int64}, sortres::Bool, dist::Vector{Int64}, idx::Vector{Int64}, skip::Neighborhood.var\"#34#37\"{Theiler{Nothing}, Int64})",
      "    @ NearestNeighbors ~/.julia/packages/NearestNeighbors/8gDgr/src/knn.jl:31",
      "  [5] #bulksearch#31",
      "    @ ~/.julia/packages/Neighborhood/xbpTX/src/kdtree.jl:69 [inlined]",
      "  [6] bulksearch",
      "    @ ~/.julia/packages/Neighborhood/xbpTX/src/kdtree.jl:62 [inlined]",
      "  [7] #bulkisearch#15",
      "    @ ~/.julia/packages/Neighborhood/xbpTX/src/api.jl:152 [inlined]",
      "  [8] bulkisearch",
      "    @ ~/.julia/packages/Neighborhood/xbpTX/src/api.jl:152 [inlined]",
      "  [9] #bulkisearch#25",
      "    @ ~/.julia/packages/DelayEmbeddings/yBNbA/src/datasets/neighborhoods.jl:15 [inlined]",
      " [10] bulkisearch",
      "    @ ~/.julia/packages/DelayEmbeddings/yBNbA/src/datasets/neighborhoods.jl:15 [inlined]",
      " [11] s_measure(x::Dataset{2, Int64}, y::Dataset{2, Int64}; K::Int64, metric::Distances.SqEuclidean, tree_metric::Euclidean, theiler_window::Int64)",
      "    @ CausalityTools.SMeasure ~/.julia/packages/CausalityTools/Zxxnz/src/SMeasure/smeasure.jl:120",
      " [12] s_measure(x::Vector{Int64}, y::Vector{Int64}; K::Int64, dx::Int64, dy::Int64, τx::Int64, τy::Int64, metric::Distances.SqEuclidean, tree_metric::Euclidean)",
      "    @ CausalityTools.SMeasure ~/.julia/packages/CausalityTools/Zxxnz/src/SMeasure/smeasure.jl:148",
      " [13] s_measure(x::Vector{Int64}, y::Vector{Int64})",
      "    @ CausalityTools.SMeasure ~/.julia/packages/CausalityTools/Zxxnz/src/SMeasure/smeasure.jl:140",
      " [14] top-level scope",
      "    @ In[27]:6",
      " [15] eval",
      "    @ ./boot.jl:368 [inlined]",
      " [16] include_string(mapexpr::typeof(REPL.softscope), mod::Module, code::String, filename::String)",
      "    @ Base ./loading.jl:1428"
     ]
    }
   ],
   "source": [
    "using CausalityTools\n",
    "a = collect(1:10)\n",
    "b = rand(1:10, 10)\n",
    "\n",
    "# s_measure(float.(a), float.(b))\n",
    "s_measure(a, b)"
   ]
  },
  {
   "cell_type": "code",
   "execution_count": 22,
   "metadata": {},
   "outputs": [
    {
     "ename": "LoadError",
     "evalue": "MethodError: no method matching KDTree(::Matrix{Int64}, ::Euclidean)\n\u001b[0mClosest candidates are:\n\u001b[0m  KDTree(\u001b[91m::AbstractVecOrMat{T}\u001b[39m, ::M; leafsize, storedata, reorder, reorderbuffer) where {T<:AbstractFloat, M<:Union{Chebyshev, Cityblock, Euclidean, Minkowski, WeightedCityblock, WeightedEuclidean, WeightedMinkowski}} at ~/.julia/packages/NearestNeighbors/8gDgr/src/kd_tree.jl:85\n\u001b[0m  KDTree(\u001b[91m::AbstractVector{V}\u001b[39m, ::M; leafsize, storedata, reorder, reorderbuffer) where {V<:AbstractArray, M<:Union{Chebyshev, Cityblock, Euclidean, Minkowski, WeightedCityblock, WeightedEuclidean, WeightedMinkowski}} at ~/.julia/packages/NearestNeighbors/8gDgr/src/kd_tree.jl:27\n\u001b[0m  KDTree(\u001b[91m::DelayEmbeddings.AbstractDataset\u001b[39m, ::Distances.Metric; kwargs...) at ~/.julia/packages/DelayEmbeddings/yBNbA/src/datasets/neighborhoods.jl:9",
     "output_type": "error",
     "traceback": [
      "MethodError: no method matching KDTree(::Matrix{Int64}, ::Euclidean)\n\u001b[0mClosest candidates are:\n\u001b[0m  KDTree(\u001b[91m::AbstractVecOrMat{T}\u001b[39m, ::M; leafsize, storedata, reorder, reorderbuffer) where {T<:AbstractFloat, M<:Union{Chebyshev, Cityblock, Euclidean, Minkowski, WeightedCityblock, WeightedEuclidean, WeightedMinkowski}} at ~/.julia/packages/NearestNeighbors/8gDgr/src/kd_tree.jl:85\n\u001b[0m  KDTree(\u001b[91m::AbstractVector{V}\u001b[39m, ::M; leafsize, storedata, reorder, reorderbuffer) where {V<:AbstractArray, M<:Union{Chebyshev, Cityblock, Euclidean, Minkowski, WeightedCityblock, WeightedEuclidean, WeightedMinkowski}} at ~/.julia/packages/NearestNeighbors/8gDgr/src/kd_tree.jl:27\n\u001b[0m  KDTree(\u001b[91m::DelayEmbeddings.AbstractDataset\u001b[39m, ::Distances.Metric; kwargs...) at ~/.julia/packages/DelayEmbeddings/yBNbA/src/datasets/neighborhoods.jl:9",
      "",
      "Stacktrace:",
      " [1] searchstructure(::Type{KDTree}, data::Matrix{Int64}, metric::Euclidean; kwargs::Base.Pairs{Symbol, Union{}, Tuple{}, NamedTuple{(), Tuple{}}})",
      "   @ Neighborhood ~/.julia/packages/Neighborhood/xbpTX/src/kdtree.jl:10",
      " [2] searchstructure(::Type{KDTree}, data::Matrix{Int64}, metric::Euclidean)",
      "   @ Neighborhood ~/.julia/packages/Neighborhood/xbpTX/src/kdtree.jl:9",
      " [3] top-level scope",
      "   @ In[22]:6",
      " [4] eval",
      "   @ ./boot.jl:368 [inlined]",
      " [5] include_string(mapexpr::typeof(REPL.softscope), mod::Module, code::String, filename::String)",
      "   @ Base ./loading.jl:1428"
     ]
    }
   ],
   "source": [
    "using Neighborhood\n",
    "\n",
    "a = rand(1:10, 10, 5)\n",
    "typeof(a)\n",
    "\n",
    "treeX = searchstructure(KDTree, a, Euclidean())"
   ]
  },
  {
   "cell_type": "code",
   "execution_count": 20,
   "metadata": {},
   "outputs": [
    {
     "data": {
      "text/plain": [
       "true"
      ]
     },
     "execution_count": 20,
     "metadata": {},
     "output_type": "execute_result"
    }
   ],
   "source": [
    "Matrix{Int64} <: AbstractVecOrMat"
   ]
  },
  {
   "cell_type": "code",
   "execution_count": 23,
   "metadata": {},
   "outputs": [
    {
     "ename": "LoadError",
     "evalue": "MethodError: no method matching KDTree(::Matrix{Int64})\n\u001b[0mClosest candidates are:\n\u001b[0m  KDTree(\u001b[91m::Vector{V}\u001b[39m, \u001b[91m::NearestNeighbors.HyperRectangle{T}\u001b[39m, \u001b[91m::Vector{Int64}\u001b[39m, \u001b[91m::M\u001b[39m, \u001b[91m::Array{NearestNeighbors.KDNode{T}, 1}\u001b[39m, \u001b[91m::NearestNeighbors.TreeData\u001b[39m, \u001b[91m::Bool\u001b[39m) where {V<:(AbstractVector), M<:Union{Chebyshev, Cityblock, Euclidean, Minkowski, WeightedCityblock, WeightedEuclidean, WeightedMinkowski}, T} at ~/.julia/packages/NearestNeighbors/8gDgr/src/kd_tree.jl:11\n\u001b[0m  KDTree(\u001b[91m::AbstractVecOrMat{T}\u001b[39m) where T<:AbstractFloat at ~/.julia/packages/NearestNeighbors/8gDgr/src/kd_tree.jl:85\n\u001b[0m  KDTree(\u001b[91m::AbstractVecOrMat{T}\u001b[39m, \u001b[91m::M\u001b[39m; leafsize, storedata, reorder, reorderbuffer) where {T<:AbstractFloat, M<:Union{Chebyshev, Cityblock, Euclidean, Minkowski, WeightedCityblock, WeightedEuclidean, WeightedMinkowski}} at ~/.julia/packages/NearestNeighbors/8gDgr/src/kd_tree.jl:85\n\u001b[0m  ...",
     "output_type": "error",
     "traceback": [
      "MethodError: no method matching KDTree(::Matrix{Int64})\n\u001b[0mClosest candidates are:\n\u001b[0m  KDTree(\u001b[91m::Vector{V}\u001b[39m, \u001b[91m::NearestNeighbors.HyperRectangle{T}\u001b[39m, \u001b[91m::Vector{Int64}\u001b[39m, \u001b[91m::M\u001b[39m, \u001b[91m::Array{NearestNeighbors.KDNode{T}, 1}\u001b[39m, \u001b[91m::NearestNeighbors.TreeData\u001b[39m, \u001b[91m::Bool\u001b[39m) where {V<:(AbstractVector), M<:Union{Chebyshev, Cityblock, Euclidean, Minkowski, WeightedCityblock, WeightedEuclidean, WeightedMinkowski}, T} at ~/.julia/packages/NearestNeighbors/8gDgr/src/kd_tree.jl:11\n\u001b[0m  KDTree(\u001b[91m::AbstractVecOrMat{T}\u001b[39m) where T<:AbstractFloat at ~/.julia/packages/NearestNeighbors/8gDgr/src/kd_tree.jl:85\n\u001b[0m  KDTree(\u001b[91m::AbstractVecOrMat{T}\u001b[39m, \u001b[91m::M\u001b[39m; leafsize, storedata, reorder, reorderbuffer) where {T<:AbstractFloat, M<:Union{Chebyshev, Cityblock, Euclidean, Minkowski, WeightedCityblock, WeightedEuclidean, WeightedMinkowski}} at ~/.julia/packages/NearestNeighbors/8gDgr/src/kd_tree.jl:85\n\u001b[0m  ...",
      "",
      "Stacktrace:",
      " [1] top-level scope",
      "   @ In[23]:3",
      " [2] eval",
      "   @ ./boot.jl:368 [inlined]",
      " [3] include_string(mapexpr::typeof(REPL.softscope), mod::Module, code::String, filename::String)",
      "   @ Base ./loading.jl:1428"
     ]
    }
   ],
   "source": [
    "using NearestNeighbors\n",
    "\n",
    "KDTree(a)"
   ]
  },
  {
   "cell_type": "code",
   "execution_count": 24,
   "metadata": {},
   "outputs": [
    {
     "data": {
      "text/plain": [
       "false"
      ]
     },
     "execution_count": 24,
     "metadata": {},
     "output_type": "execute_result"
    }
   ],
   "source": [
    "Int64 <: AbstractFloat"
   ]
  },
  {
   "cell_type": "code",
   "execution_count": 25,
   "metadata": {},
   "outputs": [
    {
     "data": {
      "text/plain": [
       "Int64"
      ]
     },
     "execution_count": 25,
     "metadata": {},
     "output_type": "execute_result"
    }
   ],
   "source": [
    "eltype(a)"
   ]
  },
  {
   "cell_type": "code",
   "execution_count": null,
   "metadata": {},
   "outputs": [],
   "source": []
  }
 ],
 "metadata": {
  "kernelspec": {
   "display_name": "Julia 1.8.1",
   "language": "julia",
   "name": "julia-1.8"
  },
  "language_info": {
   "file_extension": ".jl",
   "mimetype": "application/julia",
   "name": "julia",
   "version": "1.8.1"
  },
  "orig_nbformat": 4,
  "vscode": {
   "interpreter": {
    "hash": "d414a8e85e9c5ccdc8812887eb84d5216e7e6e9c9aa8c61fc7e614ebeebe649a"
   }
  }
 },
 "nbformat": 4,
 "nbformat_minor": 2
}
