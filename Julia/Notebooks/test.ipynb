{
 "cells": [
  {
   "cell_type": "code",
   "execution_count": 11,
   "metadata": {},
   "outputs": [],
   "source": [
    "using CausalityTools\n",
    "include(\"../Utils/entropy.jl\")\n",
    "using Random\n",
    "using BenchmarkTools\n",
    "\n",
    "rng = MersenneTwister(145)\n",
    "\n",
    "a = rand(rng, 0:10, 100)\n",
    "b = rand(rng, 0:10, 100)\n",
    "\n",
    "est = Kraskov(k=1)\n",
    "\n",
    "print(\"Current method :\")\n",
    "foo = @btime TE(Int.(a .> 0), Int.(b .> 0))\n",
    "println(\"The result is $foo.\\n\")\n",
    "\n",
    "\n",
    "print(\"True transfer entropy :\")\n",
    "a = float.(a)\n",
    "b = float.(b)\n",
    "foo2 = @btime transferentropy(a, b, est)\n",
    "println(\"The result is $foo2.\\n\")\n",
    "\n",
    "print(\"CCM :\")\n",
    "foo3 = @btime crossmap(a, b, 2, 1)\n",
    "println(\"The result is $foo3.\\n\")"
   ]
  },
  {
   "cell_type": "code",
   "execution_count": null,
   "metadata": {},
   "outputs": [],
   "source": [
    "import PyPlot as plt\n",
    "\n",
    "rng = MersenneTwister(145)\n",
    "\n",
    "a = rand(rng, 0:10, 100)\n",
    "b = rand(rng, 0:10, 100)\n",
    "\n",
    "a = float.(a)\n",
    "b = float.(b)\n",
    "\n",
    "Ls = [10:5:50; 60:10:100]\n",
    "\n",
    "begin\n",
    "    test = [crossmap(a[1:L], b[1:L], 2, 1) for L in Ls]\n",
    "    test2 = [crossmap(b[1:L], a[1:L], 2, 1) for L in Ls]\n",
    "end\n",
    "\n",
    "plt.figure()\n",
    "plt.plot(Ls, test, \"b-\", label=\"a to b\")\n",
    "plt.plot(Ls, test2, \"r-\", label=\"b to a\")\n",
    "plt.legend()\n",
    "show(plt.gcf())"
   ]
  },
  {
   "cell_type": "code",
   "execution_count": null,
   "metadata": {},
   "outputs": [],
   "source": [
    "using BenchmarkTools\n",
    "using CausalityTools\n",
    "using StatsBase: minimum, maximum, mean, std\n",
    "\n",
    "function standardize(x)\n",
    "    std_ = std(x, dims=1)\n",
    "    return (x .- mean(x, dims=1)) ./ ifelse.(std_ .> 0, std_, ones(size(std_)))\n",
    "end\n",
    "\n",
    "B = 10\n",
    "d = 3\n",
    "τ = 1\n",
    "alpha = 0.001\n",
    "\n",
    "cuttoff = 0.5\n",
    "cuttoff2 = 0.01\n",
    "\n",
    "Nts = 13*24*2\n",
    "\n",
    "func(x, y) = pvalue(jdd(OneSampleTTest, x, y, B=B, D=d, τ=τ, μ0=0.0), tail=:right) < alpha ? 1 : 0\n",
    "\n",
    "tot = 0\n",
    "\n",
    "for i = 1:10000\n",
    "    x = standardize(rand(0:10, Nts))\n",
    "    y = standardize(rand(0:10, Nts))\n",
    "\n",
    "    # x = rand(0:10, Nts)\n",
    "    # y = rand(0:10, Nts)\n",
    "\n",
    "    tot += func(x ,y)\n",
    "end\n",
    "\n",
    "println(\"jdd : $tot\")"
   ]
  },
  {
   "cell_type": "code",
   "execution_count": null,
   "metadata": {},
   "outputs": [],
   "source": [
    "using PyPlot: @L_str, latexstring\n",
    "using Printf\n",
    "\n",
    "annot = Matrix{String}(undef, size(mean_value))\n",
    "for i in eachindex(annot)\n",
    "    foo = @sprintf(\"%.1e\", mean_value[i])\n",
    "    deci = split(foo, 'e')[1]\n",
    "    power = parse(Int, split(foo, 'e')[2])\n",
    "    power = string(power)\n",
    "    annot[i] = latexstring(deci, \"\\\\cdot 10^{\", power, \"}\")\n",
    "end"
   ]
  },
  {
   "cell_type": "code",
   "execution_count": null,
   "metadata": {},
   "outputs": [],
   "source": [
    "import Seaborn as sns\n",
    "\n",
    "result = load_data(\"/Users/cyrilvallez/Desktop/Thesis/Results/Find_thresholds/new_test2_TE.jld2\")\n",
    "labels = [\"None\", \"Q(0.5)\", \"Q(0.75)\", \"Q(0.9)\", \"max\", \"2max\", \"4max\"]\n",
    "thresholds = 0:0.1:0.6\n",
    "\n",
    "\n",
    "mean_value = Matrix{Float64}(undef, size(result))\n",
    "for i in eachindex(result)\n",
    "    mean_value[i] = mean(result[i])\n",
    "end\n",
    "\n",
    "if any(mean_value .== 0)\n",
    "    vmin = minimum(mean_value[mean_value .!= 0])*0.5\n",
    "else\n",
    "    vmin = minimum(mean_value)\n",
    "end\n",
    "\n",
    "plt.figure(figsize=[6.4, 4.8].*1.2)\n",
    "sns.heatmap(mean_value, annot=annot, cmap=\"rocket_r\", fmt=\"\", norm=plt.matplotlib.colors.LogNorm(vmin=vmin, clip=true))\n",
    "plt.xlabel(\"Threshold\")\n",
    "plt.ylabel(\"Limit value\")\n",
    "xloc, xlabels = plt.xticks()\n",
    "plt.xticks(xloc, thresholds)\n",
    "yloc, ylabels = plt.yticks()\n",
    "plt.yticks(yloc, labels, rotation=\"horizontal\")\n",
    "plt.gcf();"
   ]
  },
  {
   "cell_type": "code",
   "execution_count": null,
   "metadata": {},
   "outputs": [],
   "source": [
    "import Seaborn as sns\n",
    "\n",
    "result = load_data(\"/Users/cyrilvallez/Desktop/Thesis/Results/Find_thresholds/new_test2_TE.jld2\")\n",
    "labels = [\"None\", \"Q(0.5)\", \"Q(0.75)\", \"Q(0.9)\", \"max\", \"2max\", \"4max\"]\n",
    "thresholds = 0:0.1:0.6\n",
    "\n",
    "\n",
    "mean_value = Matrix{Float64}(undef, size(result))\n",
    "for i in eachindex(result)\n",
    "    mean_value[i] = mean(result[i])\n",
    "end\n",
    "\n",
    "if any(mean_value .== 0)\n",
    "    vmin = minimum(mean_value[mean_value .!= 0])*0.5\n",
    "else\n",
    "    vmin = minimum(mean_value)\n",
    "end\n",
    "\n",
    "plt.figure(figsize=[6.4, 4.8].*1.2)\n",
    "sns.heatmap(mean_value, annot=true, cmap=\"rocket_r\", fmt=\".2g\", norm=plt.matplotlib.colors.LogNorm(vmin=vmin, clip=true))\n",
    "plt.xlabel(\"Threshold\")\n",
    "plt.ylabel(\"Limit value\")\n",
    "xloc, xlabels = plt.xticks()\n",
    "plt.xticks(xloc, thresholds)\n",
    "yloc, ylabels = plt.yticks()\n",
    "plt.yticks(yloc, labels, rotation=\"horizontal\")\n",
    "plt.gcf();"
   ]
  },
  {
   "cell_type": "code",
   "execution_count": null,
   "metadata": {},
   "outputs": [],
   "source": [
    "df = load_dataset(Skripal)"
   ]
  },
  {
   "cell_type": "code",
   "execution_count": null,
   "metadata": {},
   "outputs": [],
   "source": [
    "using Dates\n",
    "to_datetime = x -> DateTime(split(x, '.')[1], \"yyyy-mm-ddTHH:MM:SS\")\n",
    "df.\"created_at\" = to_datetime.(df.\"created_at\")"
   ]
  },
  {
   "cell_type": "code",
   "execution_count": null,
   "metadata": {},
   "outputs": [],
   "source": [
    "sort!(df, :follower_count, rev=true)"
   ]
  },
  {
   "cell_type": "code",
   "execution_count": null,
   "metadata": {},
   "outputs": [],
   "source": [
    "minimum(df.created_at)"
   ]
  },
  {
   "cell_type": "code",
   "execution_count": null,
   "metadata": {},
   "outputs": [],
   "source": [
    "maximum(df.created_at)"
   ]
  },
  {
   "cell_type": "code",
   "execution_count": null,
   "metadata": {},
   "outputs": [],
   "source": [
    "decide = x -> x < Date(2018, 03, 18)\n",
    "\n",
    "a = DateTime(2018, 03, 18, 00, 00, 01)\n",
    "b = DateTime(2018, 03, 17, 23, 59, 59)\n",
    "c = DateTime(2018, 03, 18, 00, 00, 00)"
   ]
  },
  {
   "cell_type": "code",
   "execution_count": null,
   "metadata": {},
   "outputs": [],
   "source": [
    "using StatsBase\n",
    "include(\"../Engine/Engine.jl\")\n",
    "using .Engine\n",
    "import PyPlot as plt\n",
    "import Seaborn as sns"
   ]
  },
  {
   "cell_type": "code",
   "execution_count": null,
   "metadata": {},
   "outputs": [],
   "source": [
    "filename = \"/Users/cyrilvallez/Desktop/Thesis/Results/Find_thresholds/N_1000_JDD.jld2\"\n",
    "\n",
    "result2 = load_data(filename)"
   ]
  },
  {
   "cell_type": "code",
   "execution_count": null,
   "metadata": {},
   "outputs": [],
   "source": [
    "thresholds2 = [1, 1e-1, 5e-2, 1e-2, 5e-3, 1e-3, 5e-4, 1e-4]\n",
    "labels2 = [\"None\", \"Q(0.5)\", \"Q(0.25)\", \"Q(0.1)\", \"min\", \"min/2\", \"min/4\", \"min/6\"]\n",
    "\n",
    "mean_value2 = Matrix{Float64}(undef, size(result2))\n",
    "for i in eachindex(result2)\n",
    "    mean_value2[i] = mean(result2[i])\n",
    "end\n",
    "\n",
    "# Set vmin a little lower than minimum, so that 0 appears on a color scale lower than minimum when using clip=true\n",
    "if any(mean_value2 .== 0)\n",
    "    vmin = minimum(mean_value2[mean_value2 .!= 0])/2\n",
    "else\n",
    "    vmin = minimum(mean_value2)\n",
    "end\n",
    "\n",
    "plt.figure(figsize=[6.4, 4.8].*1.2)\n",
    "sns.heatmap(mean_value2, annot=true, cmap=\"rocket_r\", norm=plt.matplotlib.colors.LogNorm(vmin=vmin, clip=true))\n",
    "plt.xlabel(\"p-value\")\n",
    "plt.ylabel(\"Limit value\")\n",
    "xloc, xlabels = plt.xticks()\n",
    "plt.xticks(xloc, thresholds2)\n",
    "yloc, ylabels = plt.yticks()\n",
    "plt.yticks(yloc, labels2, rotation=\"horizontal\")\n",
    "plt.savefig(\"/Users/cyrilvallez/Desktop/Thesis/Results/Find_thresholds/N_1000_JDD.pdf\", bbox_inches=\"tight\")\n",
    "plt.gcf();"
   ]
  },
  {
   "cell_type": "code",
   "execution_count": null,
   "metadata": {},
   "outputs": [],
   "source": [
    "limit = x -> maximum(x)*2\n",
    "# limit = RandomShuffle()\n",
    "show(limit)"
   ]
  },
  {
   "cell_type": "code",
   "execution_count": null,
   "metadata": {},
   "outputs": [],
   "source": [
    "foo = eval(Meta.parse(\"x -> maximum(x)*2\"))\n",
    "foo2 = eval(Meta.parse(\"x -> maximum(x)\"))"
   ]
  },
  {
   "cell_type": "code",
   "execution_count": null,
   "metadata": {},
   "outputs": [],
   "source": [
    "parse(Function, \"x->maximum(x)*2\")"
   ]
  },
  {
   "cell_type": "code",
   "execution_count": null,
   "metadata": {},
   "outputs": [],
   "source": [
    "using DataFrames\n",
    "include(\"../Engine/Engine.jl\")\n",
    "using .Engine\n",
    "\n",
    "datafolder = \"/Users/cyrilvallez/Desktop/Thesis/Data/Twitter/COP26_processed\"\n",
    "datafiles = [file for file in readdir(datafolder, join=true) if occursin(\".json\", file)]\n",
    "# frames = [Helpers.load_json(file) for file in datafiles]\n",
    "# data = vcat(frames...)"
   ]
  },
  {
   "cell_type": "code",
   "execution_count": null,
   "metadata": {},
   "outputs": [],
   "source": [
    "frames = [Helpers.load_json(file) for file in datafiles]\n",
    "# data = vcat(frames...)"
   ]
  },
  {
   "cell_type": "code",
   "execution_count": null,
   "metadata": {},
   "outputs": [],
   "source": [
    "igg = InfluenceGraphGenerator(SimpleTE, threshold=0.01)"
   ]
  },
  {
   "cell_type": "code",
   "execution_count": null,
   "metadata": {},
   "outputs": [],
   "source": [
    "\"\"\"\n",
    "Standardize data, handling the case when one column contains only same value (this happens in our case with vectors of only 0s).\n",
    "\"\"\"\n",
    "function standardize(x)\n",
    "    std_ = std(x, dims=1)\n",
    "    return (x .- mean(x, dims=1)) ./ ifelse.(std_ .> 0, std_, ones(size(std_)))\n",
    "end"
   ]
  },
  {
   "cell_type": "code",
   "execution_count": null,
   "metadata": {},
   "outputs": [],
   "source": [
    "using StatsBase\n",
    "# x = sample([0,1], AnalyticWeights([0.9, 0.1]), 200)\n",
    "# x = sample([0,1], AnalyticWeights([0.5, 0.5]), 200)\n",
    "x = rand(200)\n",
    "y = zeros(size(x))\n",
    "y[1] = 0.5*x[1] + 2*x[2]\n",
    "y[end] = 0.5*x[end] + 2*x[end-1]\n",
    "for i = 2:length(y)-1\n",
    "    y[i] = 0.5*x[i] + 2*x[i-1] + 2*x[i+1]\n",
    "end\n",
    "# y .+= 0.1 .* rand(200)"
   ]
  },
  {
   "cell_type": "code",
   "execution_count": null,
   "metadata": {},
   "outputs": [],
   "source": [
    "plt.figure()\n",
    "plt.scatter(x, y);"
   ]
  },
  {
   "cell_type": "code",
   "execution_count": null,
   "metadata": {},
   "outputs": [],
   "source": [
    "using DataFrames\n",
    "include(\"../Engine/Engine.jl\")\n",
    "using .Engine\n",
    "using StatsBase: mean, minimum, maximum, quantile, std"
   ]
  },
  {
   "cell_type": "code",
   "execution_count": null,
   "metadata": {},
   "outputs": [],
   "source": [
    "igg = InfluenceGraphGenerator(JointDistanceDistribution, surrogate=nothing)\n",
    "\n",
    "N = 10000\n",
    "distribution = []\n",
    "for i = 1:N\n",
    "    x = rand(200)\n",
    "    y = rand(200)\n",
    "    x = standardize(x)\n",
    "    y = standardize(y)\n",
    "\n",
    "    push!(distribution, igg.causal_function(x, y))\n",
    "end\n",
    "\n",
    "quantile(distribution, 0.5)"
   ]
  },
  {
   "cell_type": "code",
   "execution_count": null,
   "metadata": {},
   "outputs": [],
   "source": [
    "x = rand(200)\n",
    "igg.causal_function(x, x)"
   ]
  },
  {
   "cell_type": "code",
   "execution_count": null,
   "metadata": {},
   "outputs": [],
   "source": [
    "quantile(distribution, 0.05)"
   ]
  },
  {
   "cell_type": "code",
   "execution_count": null,
   "metadata": {},
   "outputs": [],
   "source": [
    "igg = InfluenceGraphGenerator(SimpleTE, threshold=-1)\n",
    "\n",
    "x = rand(0:1, 200)\n",
    "y = rand(0:1, 200)\n",
    "\n",
    "@btime igg.causal_function(x,y)"
   ]
  },
  {
   "cell_type": "code",
   "execution_count": null,
   "metadata": {},
   "outputs": [],
   "source": [
    "2000/520^2"
   ]
  },
  {
   "cell_type": "code",
   "execution_count": null,
   "metadata": {},
   "outputs": [],
   "source": [
    "a = [\"a\", \"b\", \"c\"]\n",
    "b = [1, 2, 3]\n",
    "\n",
    "Dict(a .=> b)"
   ]
  },
  {
   "cell_type": "code",
   "execution_count": null,
   "metadata": {},
   "outputs": [],
   "source": [
    "1.851*1e-3*(12000^2*0.007)/60/60"
   ]
  },
  {
   "cell_type": "code",
   "execution_count": null,
   "metadata": {},
   "outputs": [],
   "source": [
    "igg = InfluenceGraphGenerator(SimpleTE, threshold=0.06)\n",
    "\n",
    "N = 100\n",
    "distribution = []\n",
    "for i = 1:N\n",
    "    # x = sample([0,1], AnalyticWeights([0.9, 0.1]), 200)\n",
    "    # x = rand(0:10, 200)\n",
    "    x = sample(0:10, AnalyticWeights(vcat(0.5, [0.5/10 for i = 1:10]...)), 200)\n",
    "    # y = sample([0,1], AnalyticWeights([0.5, 0.5]), 200)\n",
    "    y = zeros(size(x))\n",
    "    y[1] = 0.5*x[1] + 2*x[2]\n",
    "    y[end] = 0.5*x[end] + 2*x[end-1]\n",
    "    for i = 2:length(y)-1\n",
    "        y[i] = 0.5*x[i] + 2*x[i-1] + 2*x[i+1]\n",
    "    end\n",
    "\n",
    "    push!(distribution, igg.causal_function(x, y))\n",
    "end\n",
    "\n",
    "sum(distribution)"
   ]
  },
  {
   "cell_type": "code",
   "execution_count": null,
   "metadata": {},
   "outputs": [],
   "source": []
  },
  {
   "cell_type": "code",
   "execution_count": null,
   "metadata": {},
   "outputs": [],
   "source": [
    "using PyPlot: @L_str\n",
    "\n",
    "negatives = load_data(\"/Users/cyrilvallez/Desktop/Thesis/Results/Find_thresholds/N_1000_TE.jld2\")\n",
    "positives = load_data(\"/Users/cyrilvallez/Desktop/Thesis/Results/Find_thresholds_2/N_10_TE.jld2\")\n",
    "\n",
    "labels = [\"None\", \"Q(0.5)\", \"Q(0.75)\", \"Q(0.9)\", L\"\\max\", L\"2\\cdot \\max\", L\"4\\cdot \\max\"]\n",
    "\n",
    "mean_positives = Matrix{Float64}(undef, size(positives))\n",
    "for i in eachindex(positives)\n",
    "    mean_positives[i] = mean(positives[i])\n",
    "end\n",
    "\n",
    "mean_negatives = Matrix{Float64}(undef, size(negatives))\n",
    "for i in eachindex(negatives)\n",
    "    mean_negatives[i] = mean(negatives[i])\n",
    "end\n",
    "\n",
    "plt.figure()\n",
    "for i = 1:size(positives)[1]\n",
    "    plt.plot(mean_negatives[:, i], mean_positives[:, i], label=labels[i])\n",
    "end\n",
    "plt.plot(0:0.001:1, 0:0.001:1, label=L\"y=x\", linestyle=\"--\")\n",
    "plt.xlabel(\"FPR\")\n",
    "plt.ylabel(\"TPR\")\n",
    "plt.legend()\n",
    "plt.grid()\n",
    "plt.xscale(\"log\")\n",
    "plt.gcf();"
   ]
  },
  {
   "cell_type": "code",
   "execution_count": null,
   "metadata": {},
   "outputs": [],
   "source": []
  },
  {
   "cell_type": "code",
   "execution_count": null,
   "metadata": {},
   "outputs": [],
   "source": []
  },
  {
   "cell_type": "code",
   "execution_count": null,
   "metadata": {},
   "outputs": [],
   "source": []
  },
  {
   "cell_type": "code",
   "execution_count": null,
   "metadata": {},
   "outputs": [],
   "source": [
    "negatives = load_data(\"/Users/cyrilvallez/Desktop/Thesis/Results/Find_thresholds/N_1000_JDD.jld2\")\n",
    "positives = load_data(\"/Users/cyrilvallez/Desktop/Thesis/Results/Find_thresholds_2/N_10_JDD.jld2\")\n",
    "\n",
    "labels = [\"None\", \"Q(0.5)\", \"Q(0.25)\", \"Q(0.1)\", \"min\", \"min/2\", \"min/4\", \"min/6\"]\n",
    "\n",
    "mean_positives = Matrix{Float64}(undef, size(positives))\n",
    "for i in eachindex(positives)\n",
    "    mean_positives[i] = mean(positives[i])\n",
    "end\n",
    "\n",
    "mean_negatives = Matrix{Float64}(undef, size(negatives))\n",
    "for i in eachindex(negatives)\n",
    "    mean_negatives[i] = mean(negatives[i])\n",
    "end\n",
    "\n",
    "plt.figure()\n",
    "for i = 1:size(positives)[1]\n",
    "    plt.plot(mean_negatives[:, i], mean_positives[:, i], label=labels[i])\n",
    "end\n",
    "plt.plot(0:0.001:1, 0:0.001:1, label=L\"y=x\", linestyle=\"--\")\n",
    "plt.xlabel(\"FPR\")\n",
    "plt.ylabel(\"TPR\")\n",
    "plt.legend()\n",
    "plt.grid()\n",
    "plt.xscale(\"log\")\n",
    "plt.gcf();"
   ]
  },
  {
   "cell_type": "code",
   "execution_count": null,
   "metadata": {},
   "outputs": [],
   "source": []
  },
  {
   "cell_type": "code",
   "execution_count": null,
   "metadata": {},
   "outputs": [],
   "source": []
  },
  {
   "cell_type": "code",
   "execution_count": null,
   "metadata": {},
   "outputs": [],
   "source": []
  },
  {
   "cell_type": "code",
   "execution_count": null,
   "metadata": {},
   "outputs": [],
   "source": [
    "df = Helpers.load_json(\"/Users/cyrilvallez/Desktop/Thesis/Data/Twitter/COP26_processed/2021-10-18T00-00_to_2021-10-22T00-00.json\")"
   ]
  },
  {
   "cell_type": "code",
   "execution_count": null,
   "metadata": {},
   "outputs": [],
   "source": [
    "show(df, allcols=true)"
   ]
  },
  {
   "cell_type": "code",
   "execution_count": null,
   "metadata": {},
   "outputs": [],
   "source": [
    "unique(df.category)"
   ]
  },
  {
   "cell_type": "code",
   "execution_count": null,
   "metadata": {},
   "outputs": [],
   "source": [
    "foo = df[df.category .== Ref([\"retweeted\"]), :]"
   ]
  },
  {
   "cell_type": "code",
   "execution_count": null,
   "metadata": {},
   "outputs": [],
   "source": [
    "sum(startswith.(foo.text, Ref(\"RT\")))"
   ]
  },
  {
   "cell_type": "code",
   "execution_count": null,
   "metadata": {},
   "outputs": [],
   "source": [
    "test = foo[.!startswith.(foo.text, Ref(\"RT\")), :]"
   ]
  },
  {
   "cell_type": "code",
   "execution_count": null,
   "metadata": {},
   "outputs": [],
   "source": [
    "test.text[18]"
   ]
  },
  {
   "cell_type": "code",
   "execution_count": null,
   "metadata": {},
   "outputs": [],
   "source": [
    "test.original_text[2]"
   ]
  },
  {
   "cell_type": "code",
   "execution_count": null,
   "metadata": {},
   "outputs": [],
   "source": [
    "a = [1 1 1; 2 2 2; 3 3 3]\n",
    "b = [2 2 2; 2 2 2; 2 2 2]\n",
    "\n",
    "a ./ b"
   ]
  },
  {
   "cell_type": "code",
   "execution_count": null,
   "metadata": {},
   "outputs": [],
   "source": []
  },
  {
   "cell_type": "code",
   "execution_count": null,
   "metadata": {},
   "outputs": [],
   "source": []
  },
  {
   "cell_type": "code",
   "execution_count": null,
   "metadata": {},
   "outputs": [],
   "source": [
    "a = Matrix{Matrix}(undef, 2, 2)\n",
    "b = Matrix{Matrix}(undef, 2, 2)\n",
    "a[1, 1] = [1 2; 3 4]\n",
    "a[1, 2] = [0 0; 1 2]\n",
    "a[2, 1] = [1 1; 1 1]\n",
    "a[2, 2] = [0 0; 1 0]\n",
    "\n",
    "b[1, 1] = [0 1; 2 5]\n",
    "b[1, 2] = [0 0; 0 0]\n",
    "b[2, 1] = [-1 0; 2 3]\n",
    "b[2, 2] = [1 3; 1 0]"
   ]
  },
  {
   "cell_type": "code",
   "execution_count": null,
   "metadata": {},
   "outputs": [],
   "source": [
    "c = Matrix{Matrix}(undef, 2, 2)\n",
    "d = Matrix{Matrix}(undef, 2, 2)\n",
    "\n",
    "c[1, 1] = rand(1:4, 2, 2)\n",
    "c[1, 2] = rand(1:4, 2, 2)\n",
    "c[2, 1] = rand(1:4, 2, 2)\n",
    "c[2, 2] = rand(1:4, 2, 2)\n",
    "\n",
    "d[1, 1] = rand(1:4, 2, 2)\n",
    "d[1, 2] = rand(1:4, 2, 2)\n",
    "d[2, 1] = rand(1:4, 2, 2)\n",
    "d[2, 2] = rand(1:4, 2, 2)"
   ]
  },
  {
   "cell_type": "code",
   "execution_count": null,
   "metadata": {},
   "outputs": [],
   "source": [
    "e = Matrix{Matrix}(undef, 2, 2)\n",
    "f = Matrix{Matrix}(undef, 2, 2)\n",
    "\n",
    "e[1, 1] = rand(1:4, 2, 2)\n",
    "e[1, 2] = rand(1:4, 2, 2)\n",
    "e[2, 1] = rand(1:4, 2, 2)\n",
    "e[2, 2] = rand(1:4, 2, 2)\n",
    "\n",
    "f[1, 1] = rand(1:4, 2, 2)\n",
    "f[1, 2] = rand(1:4, 2, 2)\n",
    "f[2, 1] = rand(1:4, 2, 2)\n",
    "f[2, 2] = rand(1:4, 2, 2)"
   ]
  },
  {
   "cell_type": "code",
   "execution_count": null,
   "metadata": {},
   "outputs": [],
   "source": [
    "foo1 = [a, b, c]\n",
    "foo2 = [d, e, f]"
   ]
  },
  {
   "cell_type": "code",
   "execution_count": null,
   "metadata": {},
   "outputs": [],
   "source": [
    "foo = [foo1, foo2]"
   ]
  },
  {
   "cell_type": "code",
   "execution_count": null,
   "metadata": {},
   "outputs": [],
   "source": [
    "total = sum(foo)"
   ]
  },
  {
   "cell_type": "code",
   "execution_count": null,
   "metadata": {},
   "outputs": [],
   "source": [
    "c .+ f"
   ]
  },
  {
   "cell_type": "code",
   "execution_count": null,
   "metadata": {},
   "outputs": [],
   "source": [
    "for i = 1:length(total)\n",
    "    f = x -> ifelse.(x .<= 2, -2, x)\n",
    "    indices = (total[i] .<= 2) .<= 2\n",
    "    total[i][indices] = -1\n",
    "    # broadcast()\n",
    "end"
   ]
  },
  {
   "cell_type": "code",
   "execution_count": null,
   "metadata": {},
   "outputs": [],
   "source": [
    "x = [0 0 2; 1 1 4; 3 0 5]\n",
    "ifelse.(x .<= 2, -2, x)"
   ]
  },
  {
   "cell_type": "code",
   "execution_count": null,
   "metadata": {},
   "outputs": [],
   "source": [
    "total[1]"
   ]
  },
  {
   "cell_type": "code",
   "execution_count": null,
   "metadata": {},
   "outputs": [],
   "source": [
    "map!.(x -> ifelse(x < 2, -2, x), total[1], total[1])"
   ]
  },
  {
   "cell_type": "code",
   "execution_count": null,
   "metadata": {},
   "outputs": [],
   "source": [
    "total[1]"
   ]
  },
  {
   "cell_type": "code",
   "execution_count": null,
   "metadata": {},
   "outputs": [],
   "source": [
    "total[1]"
   ]
  },
  {
   "cell_type": "code",
   "execution_count": null,
   "metadata": {},
   "outputs": [],
   "source": [
    "include(\"../Engine/Engine.jl\")\n",
    "using .Engine\n",
    "\n",
    "using DataFrames, StatsBase\n",
    "using BenchmarkTools\n",
    "import PyPlot as plt\n",
    "import Seaborn as sns"
   ]
  },
  {
   "cell_type": "code",
   "execution_count": null,
   "metadata": {},
   "outputs": [],
   "source": [
    "df3[df3.username .== \"GretaThunberg\", :]"
   ]
  },
  {
   "cell_type": "code",
   "execution_count": null,
   "metadata": {},
   "outputs": [],
   "source": [
    "df = load_dataset(COP26)\n",
    "df = cop_26_dates(df)\n",
    "df = trust_score(df)"
   ]
  },
  {
   "cell_type": "code",
   "execution_count": null,
   "metadata": {},
   "outputs": [],
   "source": [
    "for partition in partitions\n",
    "    "
   ]
  },
  {
   "cell_type": "code",
   "execution_count": null,
   "metadata": {},
   "outputs": [],
   "source": [
    "df1 = df[df.partition .== \"Before COP26\", :]\n",
    "df2 = df[df.partition .== \"During COP26\", :]\n",
    "df3 = df[df.partition .== \"After COP26\", :]"
   ]
  },
  {
   "cell_type": "code",
   "execution_count": null,
   "metadata": {},
   "outputs": [],
   "source": [
    "weights, u, v, nodes = PreProcessing.compute_IP_graph(df2)\n",
    "I, P, residuals = PreProcessing.compute_IP_scores(u, v)\n",
    "\n",
    "sorting = sortperm(I, rev=true)\n",
    "I = I[sorting]\n",
    "nodes = nodes[sorting]\n",
    "P = P[sorting]"
   ]
  },
  {
   "cell_type": "code",
   "execution_count": null,
   "metadata": {},
   "outputs": [],
   "source": [
    "using BenchmarkTools\n",
    "\n",
    "a = rand(0:1, 200)\n",
    "b = rand(0:1, 200)\n",
    "\n",
    "@btime iszero(a) || iszero(b)"
   ]
  },
  {
   "cell_type": "code",
   "execution_count": 1,
   "metadata": {},
   "outputs": [],
   "source": [
    "include(\"../Engine/Engine.jl\")\n",
    "using ..Engine"
   ]
  },
  {
   "cell_type": "code",
   "execution_count": 5,
   "metadata": {},
   "outputs": [
    {
     "name": "stdout",
     "output_type": "stream",
     "text": [
      "  11.092 ms (79 allocations: 27.56 MiB)\n"
     ]
    },
    {
     "data": {
      "text/plain": [
       "0"
      ]
     },
     "execution_count": 5,
     "metadata": {},
     "output_type": "execute_result"
    }
   ],
   "source": [
    "using BenchmarkTools\n",
    "using CausalityTools\n",
    "\n",
    "igg = InfluenceGraphGenerator(Engine.JointDistanceDistribution, surrogate=nothing)\n",
    "\n",
    "f = (x,y) -> pvalue(jdd(OneSampleTTest, x, y, B=10, D=5, τ=1, μ0=0.0), tail=:right) < 0.001 ? 1 : 0\n",
    "f2 = (x,y) -> igg.causal_function(x,y)\n",
    "\n",
    "x = rand(600)\n",
    "y = rand(600)\n",
    "\n",
    "@btime f2(x,y)"
   ]
  },
  {
   "cell_type": "code",
   "execution_count": null,
   "metadata": {},
   "outputs": [],
   "source": [
    "regex = r\"^AGG[0-9]+:\"\n",
    "a = \"AGG1678934: joeoepzocnjocz    dveonoze^12\"\n",
    "if occursin(regex, a)\n",
    "    print(\"cool\")\n",
    "else\n",
    "    print(\"prout\")\n",
    "end"
   ]
  },
  {
   "cell_type": "code",
   "execution_count": null,
   "metadata": {},
   "outputs": [],
   "source": [
    "df1 = transform(groupby(df1, \"username\"), \"effective_category\" => (x -> sum(x .== \"tweet\")) => \"tweet_count\")\n",
    "df2 = transform(groupby(df2, \"username\"), \"effective_category\" => (x -> sum(x .== \"tweet\")) => \"tweet_count\")\n",
    "df3 = transform(groupby(df3, \"username\"), \"effective_category\" => (x -> sum(x .== \"tweet\")) => \"tweet_count\")"
   ]
  },
  {
   "cell_type": "code",
   "execution_count": null,
   "metadata": {},
   "outputs": [],
   "source": [
    "df1 = df1[df1.tweet_count .>= 3, :]\n",
    "df2 = df2[df2.tweet_count .>= 3, :]\n",
    "df3 = df3[df3.tweet_count .>= 3, :]"
   ]
  },
  {
   "cell_type": "code",
   "execution_count": null,
   "metadata": {},
   "outputs": [],
   "source": [
    "length(unique(df2.username))"
   ]
  },
  {
   "cell_type": "code",
   "execution_count": null,
   "metadata": {},
   "outputs": [],
   "source": [
    "plot_action_frequency(df2)"
   ]
  },
  {
   "cell_type": "code",
   "execution_count": null,
   "metadata": {},
   "outputs": [],
   "source": [
    "length(unique(df2.username))"
   ]
  },
  {
   "cell_type": "code",
   "execution_count": null,
   "metadata": {},
   "outputs": [],
   "source": [
    "tweet_count = combine(groupby(tweeters, \"username\"), \"created_at\" => length => \"count\")\n",
    "tweet_count = tweet_count[tweet_count.count .>= 3, :]\n",
    "nodes = tweet_count.username"
   ]
  },
  {
   "cell_type": "code",
   "execution_count": null,
   "metadata": {},
   "outputs": [],
   "source": [
    "\"GretaThunberg\" in nodes"
   ]
  },
  {
   "cell_type": "code",
   "execution_count": null,
   "metadata": {},
   "outputs": [],
   "source": [
    "using Dates\n",
    "\n",
    "df = load_dataset(COP26)\n",
    "\n",
    "df = df[.~ismissing.(df.\"domain\"), :]\n",
    "if eltype(df.\"created_at\") == String\n",
    "    to_datetime = x -> DateTime(split(x, '.')[1], \"yyyy-mm-ddTHH:MM:SS\")\n",
    "    df.\"created_at\" = to_datetime.(df.\"created_at\")\n",
    "end\n",
    "\n",
    "df = PreProcessing.cop_26_dates(df)\n",
    "df = PreProcessing.trust_score(df)\n",
    "df = transform(groupby(df, \"username\"), \"created_at\" => length => \"count\")\n",
    "\n",
    "tweeters = df[df.effective_category .== \"tweet\", :]\n",
    "retweeters = df[df.effective_category .== \"retweet\", :]\n",
    "\n",
    "bad_df = df[df.action .== \"U\", :]\n",
    "good_df = df[df.action .== \"T\", :]\n",
    "\n",
    "weights, u, v, nodes = PreProcessing.IP_graph(df, min_tweets=3)\n",
    "\n",
    "I, P, residuals = PreProcessing.IP_scores(u, v)\n",
    "\n",
    "# Sort in the order of most influence\n",
    "sorting = sortperm(I, rev=true)\n",
    "nodes = nodes[sorting]\n",
    "I = I[sorting]\n",
    "P = P[sorting]\n",
    "\n",
    "# Extract dataframes of 500 most influentials according to I score\n",
    "isin = (x,y) -> x in y\n",
    "influentials = tweeters[isin.(tweeters.username, Ref(nodes[1:500])), :]\n",
    "foo = combine(groupby(influentials, \"username\"), \"action\" => (x -> sum(x .== \"U\")) => \"U_count\")\n",
    "\n",
    "bad_users = foo.username[foo.U_count .> 0]\n",
    "bad_users_rank = [findall(user .== nodes) for user in bad_users];"
   ]
  },
  {
   "cell_type": "code",
   "execution_count": null,
   "metadata": {},
   "outputs": [],
   "source": [
    "nodes_bad[1:20]"
   ]
  },
  {
   "cell_type": "code",
   "execution_count": null,
   "metadata": {},
   "outputs": [],
   "source": [
    "# I_normal = I\n",
    "# P_normal = P\n",
    "# nodes_normal = nodes\n",
    "\n",
    "test_normal = nodes_normal[I_normal .> 0];"
   ]
  },
  {
   "cell_type": "code",
   "execution_count": null,
   "metadata": {},
   "outputs": [],
   "source": [
    "# I_bad = I\n",
    "# P_bad = P\n",
    "# nodes_bad = nodes\n",
    "\n",
    "test_bad = nodes_bad[I_bad .> 0];"
   ]
  },
  {
   "cell_type": "code",
   "execution_count": null,
   "metadata": {},
   "outputs": [],
   "source": [
    "a = [[1, 2], [3, 4]]"
   ]
  },
  {
   "cell_type": "code",
   "execution_count": null,
   "metadata": {},
   "outputs": [],
   "source": [
    "foo = @view a[1]"
   ]
  },
  {
   "cell_type": "code",
   "execution_count": null,
   "metadata": {},
   "outputs": [],
   "source": [
    "foo2 = a[2]"
   ]
  },
  {
   "cell_type": "code",
   "execution_count": null,
   "metadata": {},
   "outputs": [],
   "source": [
    "foo[1]"
   ]
  },
  {
   "cell_type": "code",
   "execution_count": null,
   "metadata": {},
   "outputs": [],
   "source": [
    "a[1][1] = 2\n",
    "a"
   ]
  },
  {
   "cell_type": "code",
   "execution_count": null,
   "metadata": {},
   "outputs": [],
   "source": [
    "isin = (x,y) -> x in y\n",
    "# sum(isin.(nodes_bad[1:500], Ref(nodes_normal[1:500])))\n",
    "\n",
    "sum(isin.(test_bad, Ref(test_normal))) "
   ]
  },
  {
   "cell_type": "code",
   "execution_count": null,
   "metadata": {},
   "outputs": [],
   "source": [
    "sum(I_normal .> 0)"
   ]
  },
  {
   "cell_type": "code",
   "execution_count": null,
   "metadata": {},
   "outputs": [],
   "source": [
    "(12200 - 500) / 100"
   ]
  },
  {
   "cell_type": "code",
   "execution_count": null,
   "metadata": {},
   "outputs": [],
   "source": [
    "sorting = sortperm(P, rev=true)\n",
    "nodes = nodes[sorting]\n",
    "I = I[sorting]\n",
    "P = P[sorting]"
   ]
  },
  {
   "cell_type": "code",
   "execution_count": null,
   "metadata": {},
   "outputs": [],
   "source": [
    "nodes"
   ]
  },
  {
   "cell_type": "code",
   "execution_count": null,
   "metadata": {},
   "outputs": [],
   "source": [
    "I0 = I .== 0\n",
    "P0 = P .== 0\n",
    "\n",
    "I1 = I .!= 0\n",
    "P1 = P .!= 0;\n",
    "\n",
    "# sort(I0) == sort(P1)"
   ]
  },
  {
   "cell_type": "code",
   "execution_count": null,
   "metadata": {},
   "outputs": [],
   "source": [
    "sum(I1 .&& P0)"
   ]
  },
  {
   "cell_type": "code",
   "execution_count": null,
   "metadata": {},
   "outputs": [],
   "source": [
    "sum(I1 .|| P1) / length(I0)"
   ]
  },
  {
   "cell_type": "code",
   "execution_count": null,
   "metadata": {},
   "outputs": [],
   "source": [
    "I"
   ]
  },
  {
   "cell_type": "code",
   "execution_count": null,
   "metadata": {},
   "outputs": [],
   "source": [
    "nodes"
   ]
  },
  {
   "cell_type": "code",
   "execution_count": null,
   "metadata": {},
   "outputs": [],
   "source": [
    "test = tweeters[tweeters.action .== \"U\", :]\n",
    "test = transform(groupby(test, \"username\"), \"created_at\" => length => \"Ucount\")\n",
    "\n",
    "length(unique(test[test.Ucount .>= 2, \"username\"]))"
   ]
  },
  {
   "cell_type": "code",
   "execution_count": null,
   "metadata": {},
   "outputs": [],
   "source": [
    "nodes[123]"
   ]
  },
  {
   "cell_type": "code",
   "execution_count": null,
   "metadata": {},
   "outputs": [],
   "source": [
    "length(residuals)"
   ]
  },
  {
   "cell_type": "code",
   "execution_count": null,
   "metadata": {},
   "outputs": [],
   "source": [
    "res_ = residuals\n",
    "plt.figure()\n",
    "plt.plot(1:length(res_), res_)\n",
    "plt.yscale(\"log\")\n"
   ]
  },
  {
   "cell_type": "code",
   "execution_count": null,
   "metadata": {},
   "outputs": [],
   "source": [
    "initial_actors = unique(test[ismissing.(test.rt_from), \"username\"])\n",
    "counter = []\n",
    "\n",
    "rts = test[.!ismissing.(test.rt_from), :]\n",
    "# mapping = countmap(rts)\n",
    "# transform(groupby(df, \"username\"), \"created_at\" => length => \"tweet_count\")\n",
    "\n",
    "for (i, a) in enumerate(initial_actors)\n",
    "    indices = findall(rts.rt_from .== a)\n",
    "    push!(counter, rts.username[indices])\n",
    "    # counter[i] = sum(rts.rt_from .== a)\n",
    "end"
   ]
  },
  {
   "cell_type": "code",
   "execution_count": null,
   "metadata": {},
   "outputs": [],
   "source": [
    "N = [length(i) for i in counter]\n",
    "sorting = sortperm(N, rev=true)\n",
    "N = N[sorting]\n",
    "initial_actors = initial_actors[sorting]\n",
    "counter = counter[sorting]"
   ]
  },
  {
   "cell_type": "code",
   "execution_count": null,
   "metadata": {},
   "outputs": [],
   "source": [
    "counter[1]"
   ]
  },
  {
   "cell_type": "code",
   "execution_count": null,
   "metadata": {},
   "outputs": [],
   "source": [
    "initial_actors[1:30]"
   ]
  },
  {
   "cell_type": "code",
   "execution_count": null,
   "metadata": {},
   "outputs": [],
   "source": [
    "initial_actors = unique(test[ismissing.(test.rt_from), \"username\"]);"
   ]
  },
  {
   "cell_type": "code",
   "execution_count": null,
   "metadata": {},
   "outputs": [],
   "source": [
    "using BenchmarkTools\n",
    "\n",
    "counter = []\n",
    "\n",
    "@btime begin\n",
    "    indices = findall(rts.rt_from .== initial_actors[1])\n",
    "    push!(counter, rts.username[indices])\n",
    "end"
   ]
  },
  {
   "cell_type": "code",
   "execution_count": null,
   "metadata": {},
   "outputs": [],
   "source": [
    "# foo = test[test.category .== Ref([\"tweeted\"]), :]\n",
    "# foo = transform(groupby(foo, \"username\"), \"created_at\" => length => \"tweet_count\")\n",
    "# foo = foo[foo.tweet_count .>= 1, :]\n",
    "# length(unique(foo.username))\n",
    "\n",
    "\n",
    "initial_actors = unique(test[.ismissing.(test.rt_from), \"username\"])"
   ]
  },
  {
   "cell_type": "code",
   "execution_count": null,
   "metadata": {},
   "outputs": [],
   "source": [
    "sum(.!ismissing.(test.rt_from))"
   ]
  },
  {
   "cell_type": "code",
   "execution_count": null,
   "metadata": {},
   "outputs": [],
   "source": [
    "foo = test[startswith.(test.text, Ref(\"RT @\")) .&& test.category .!= Ref([\"retweeted\"]), :]"
   ]
  },
  {
   "cell_type": "code",
   "execution_count": null,
   "metadata": {},
   "outputs": [],
   "source": [
    "show(foo, allcols=true)"
   ]
  },
  {
   "cell_type": "code",
   "execution_count": null,
   "metadata": {},
   "outputs": [],
   "source": [
    "find_user(test.text[1])"
   ]
  },
  {
   "cell_type": "code",
   "execution_count": null,
   "metadata": {},
   "outputs": [],
   "source": [
    "length(unique(test.username))"
   ]
  },
  {
   "cell_type": "code",
   "execution_count": null,
   "metadata": {},
   "outputs": [],
   "source": [
    "sum(test.category .== Ref([\"quoted\"]))"
   ]
  },
  {
   "cell_type": "code",
   "execution_count": null,
   "metadata": {},
   "outputs": [],
   "source": [
    "followers[500]"
   ]
  },
  {
   "cell_type": "code",
   "execution_count": null,
   "metadata": {},
   "outputs": [],
   "source": [
    "sum(followers .== 0)"
   ]
  },
  {
   "cell_type": "code",
   "execution_count": null,
   "metadata": {},
   "outputs": [],
   "source": [
    "261259/50\n",
    "\n",
    "## DECREASE BINS LOGARITHMICALLY"
   ]
  },
  {
   "cell_type": "code",
   "execution_count": null,
   "metadata": {},
   "outputs": [],
   "source": [
    "25929^2/520^2*10/60/60"
   ]
  },
  {
   "cell_type": "code",
   "execution_count": null,
   "metadata": {},
   "outputs": [],
   "source": [
    "sum(0 .< followers .< 50)"
   ]
  },
  {
   "cell_type": "code",
   "execution_count": null,
   "metadata": {},
   "outputs": [],
   "source": [
    "sum(followers .== 0)"
   ]
  },
  {
   "cell_type": "code",
   "execution_count": null,
   "metadata": {},
   "outputs": [],
   "source": [
    "sum(followers .> 500000)"
   ]
  },
  {
   "cell_type": "code",
   "execution_count": null,
   "metadata": {},
   "outputs": [],
   "source": [
    "test = collect(1:10)\n",
    "sorting = sortperm(test, rev=true)\n",
    "test[sorting]"
   ]
  },
  {
   "cell_type": "code",
   "execution_count": null,
   "metadata": {},
   "outputs": [],
   "source": []
  }
 ],
 "metadata": {
  "kernelspec": {
   "display_name": "Julia 1.8.1",
   "language": "julia",
   "name": "julia-1.8"
  },
  "language_info": {
   "file_extension": ".jl",
   "mimetype": "application/julia",
   "name": "julia",
   "version": "1.8.1"
  },
  "orig_nbformat": 4,
  "vscode": {
   "interpreter": {
    "hash": "d414a8e85e9c5ccdc8812887eb84d5216e7e6e9c9aa8c61fc7e614ebeebe649a"
   }
  }
 },
 "nbformat": 4,
 "nbformat_minor": 2
}
