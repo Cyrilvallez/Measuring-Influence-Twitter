{
 "cells": [
  {
   "cell_type": "code",
   "execution_count": null,
   "metadata": {},
   "outputs": [],
   "source": [
    "using CausalityTools\n",
    "include(\"../entropy.jl\")\n",
    "using Random\n",
    "using BenchmarkTools\n",
    "\n",
    "rng = MersenneTwister(145)\n",
    "\n",
    "a = rand(rng, 0:10, 100)\n",
    "b = rand(rng, 0:10, 100)\n",
    "\n",
    "est = Kraskov(k=1)\n",
    "\n",
    "print(\"Current method :\")\n",
    "foo = @btime TE(Int.(a .> 0), Int.(b .> 0))\n",
    "println(\"The result is $foo.\\n\")\n",
    "\n",
    "\n",
    "print(\"True transfer entropy :\")\n",
    "a = float.(a)\n",
    "b = float.(b)\n",
    "foo2 = @btime transferentropy(a, b, est)\n",
    "println(\"The result is $foo2.\\n\")\n",
    "\n",
    "print(\"CCM :\")\n",
    "foo3 = @btime crossmap(a, b, 2, 1)\n",
    "println(\"The result is $foo3.\\n\")"
   ]
  },
  {
   "cell_type": "code",
   "execution_count": null,
   "metadata": {},
   "outputs": [],
   "source": [
    "import PyPlot as plt\n",
    "\n",
    "rng = MersenneTwister(145)\n",
    "\n",
    "a = rand(rng, 0:10, 100)\n",
    "b = rand(rng, 0:10, 100)\n",
    "\n",
    "a = float.(a)\n",
    "b = float.(b)\n",
    "\n",
    "Ls = [10:5:50; 60:10:100]\n",
    "\n",
    "@btime begin\n",
    "    test = [crossmap(a[1:L], b[1:L], 2, 1) for L in Ls]\n",
    "    test2 = [crossmap(b[1:L], a[1:L], 2, 1) for L in Ls]\n",
    "end\n",
    "\n",
    "plt.figure()\n",
    "plt.plot(Ls, test, \"b-\", label=\"a to b\")\n",
    "plt.plot(Ls, test2, \"r-\", label=\"b to a\")\n",
    "plt.legend()\n",
    "show(plt.gcf())"
   ]
  },
  {
   "cell_type": "code",
   "execution_count": null,
   "metadata": {},
   "outputs": [],
   "source": [
    "using CausalityTools\n",
    "\n",
    "s_measure()"
   ]
  },
  {
   "cell_type": "code",
   "execution_count": 14,
   "metadata": {},
   "outputs": [
    {
     "ename": "MethodError",
     "evalue": "MethodError: no method matching s_measure(::Vector{Float64}, ::Vector{Float64}; dx=4, τx=3, my=5, τy=1)\nClosest candidates are:\n  s_measure(::AbstractVector{T}, ::AbstractVector{T}; K, dx, dy, τx, τy, metric, tree_metric) where T at ~/.julia/packages/CausalityTools/Zxxnz/src/SMeasure/smeasure.jl:140 got unsupported keyword argument \"my\"\n  s_measure(!Matched::DelayEmbeddings.AbstractDataset{D}, ::AbstractVector{T}; K, dy, τy, metric, tree_metric) where {D, T} at ~/.julia/packages/CausalityTools/Zxxnz/src/SMeasure/smeasure.jl:155 got unsupported keyword arguments \"dx\", \"τx\", \"my\"\n  s_measure(::AbstractVector{T}, !Matched::DelayEmbeddings.AbstractDataset{D}; K, dx, τx, metric, tree_metric) where {D, T} at ~/.julia/packages/CausalityTools/Zxxnz/src/SMeasure/smeasure.jl:163 got unsupported keyword arguments \"my\", \"τy\"",
     "output_type": "error",
     "traceback": [
      "MethodError: no method matching s_measure(::Vector{Float64}, ::Vector{Float64}; dx=4, τx=3, my=5, τy=1)\n",
      "Closest candidates are:\n",
      "  s_measure(::AbstractVector{T}, ::AbstractVector{T}; K, dx, dy, τx, τy, metric, tree_metric) where T at ~/.julia/packages/CausalityTools/Zxxnz/src/SMeasure/smeasure.jl:140 got unsupported keyword argument \"my\"\n",
      "  s_measure(!Matched::DelayEmbeddings.AbstractDataset{D}, ::AbstractVector{T}; K, dy, τy, metric, tree_metric) where {D, T} at ~/.julia/packages/CausalityTools/Zxxnz/src/SMeasure/smeasure.jl:155 got unsupported keyword arguments \"dx\", \"τx\", \"my\"\n",
      "  s_measure(::AbstractVector{T}, !Matched::DelayEmbeddings.AbstractDataset{D}; K, dx, τx, metric, tree_metric) where {D, T} at ~/.julia/packages/CausalityTools/Zxxnz/src/SMeasure/smeasure.jl:163 got unsupported keyword arguments \"my\", \"τy\"\n",
      "\n",
      "Stacktrace:\n",
      "  [1] kwerr(::NamedTuple{(:dx, :τx, :my, :τy), NTuple{4, Int64}}, ::Function, ::Vector{Float64}, ::Vector{Float64})\n",
      "    @ Base ./error.jl:165\n",
      "  [2] top-level scope\n",
      "    @ ~/Desktop/Thesis/Julia/Notebooks/test.ipynb:11\n",
      "  [3] eval\n",
      "    @ ./boot.jl:368 [inlined]\n",
      "  [4] include_string(mapexpr::typeof(REPL.softscope), mod::Module, code::String, filename::String)\n",
      "    @ Base ./loading.jl:1428\n",
      "  [5] #invokelatest#2\n",
      "    @ ./essentials.jl:729 [inlined]\n",
      "  [6] invokelatest\n",
      "    @ ./essentials.jl:726 [inlined]\n",
      "  [7] (::VSCodeServer.var\"#164#165\"{VSCodeServer.NotebookRunCellArguments, String})()\n",
      "    @ VSCodeServer ~/.vscode/extensions/julialang.language-julia-1.6.24/scripts/packages/VSCodeServer/src/serve_notebook.jl:19\n",
      "  [8] withpath(f::VSCodeServer.var\"#164#165\"{VSCodeServer.NotebookRunCellArguments, String}, path::String)\n",
      "    @ VSCodeServer ~/.vscode/extensions/julialang.language-julia-1.6.24/scripts/packages/VSCodeServer/src/repl.jl:184\n",
      "  [9] notebook_runcell_request(conn::VSCodeServer.JSONRPC.JSONRPCEndpoint{Base.PipeEndpoint, Base.PipeEndpoint}, params::VSCodeServer.NotebookRunCellArguments)\n",
      "    @ VSCodeServer ~/.vscode/extensions/julialang.language-julia-1.6.24/scripts/packages/VSCodeServer/src/serve_notebook.jl:13\n",
      " [10] dispatch_msg(x::VSCodeServer.JSONRPC.JSONRPCEndpoint{Base.PipeEndpoint, Base.PipeEndpoint}, dispatcher::VSCodeServer.JSONRPC.MsgDispatcher, msg::Dict{String, Any})\n",
      "    @ VSCodeServer.JSONRPC ~/.vscode/extensions/julialang.language-julia-1.6.24/scripts/packages/JSONRPC/src/typed.jl:67\n",
      " [11] serve_notebook(pipename::String, outputchannel_logger::Base.CoreLogging.SimpleLogger; crashreporting_pipename::String)\n",
      "    @ VSCodeServer ~/.vscode/extensions/julialang.language-julia-1.6.24/scripts/packages/VSCodeServer/src/serve_notebook.jl:136\n",
      " [12] top-level scope\n",
      "    @ ~/.vscode/extensions/julialang.language-julia-1.6.24/scripts/notebook/notebook.jl:32\n",
      " [13] include(mod::Module, _path::String)\n",
      "    @ Base ./Base.jl:419\n",
      " [14] exec_options(opts::Base.JLOptions)\n",
      "    @ Base ./client.jl:303\n",
      " [15] _start()\n",
      "    @ Base ./client.jl:522"
     ]
    }
   ],
   "source": [
    "using CausalityTools\n",
    "\n",
    "# A two-dimensional Ulam lattice map\n",
    "sys = ulam(2)\n",
    "\n",
    "# Sample 1000 points after discarding 5000 transients\n",
    "orbit = trajectory(sys, 1000, Ttr = 5000)\n",
    "x, y = orbit[:, 1], orbit[:, 2]\n",
    "\n",
    "# 4-dimensional embedding for `x`, 5-dimensional embedding for `y`\n",
    "s_measure(x, y, dx = 4, τx = 3, dy = 5, τy = 1)"
   ]
  },
  {
   "cell_type": "code",
   "execution_count": 23,
   "metadata": {},
   "outputs": [
    {
     "data": {
      "text/plain": [
       "2-dimensional Dataset{Int64} with 95 points\n",
       "  1    6\n",
       "  2    7\n",
       "  3    8\n",
       "  4    9\n",
       "  5   10\n",
       "  6   11\n",
       "  7   12\n",
       "  8   13\n",
       "  9   14\n",
       " 10   15\n",
       "  ⋮  \n",
       " 87   92\n",
       " 88   93\n",
       " 89   94\n",
       " 90   95\n",
       " 91   96\n",
       " 92   97\n",
       " 93   98\n",
       " 94   99\n",
       " 95  100"
      ]
     },
     "metadata": {},
     "output_type": "display_data"
    }
   ],
   "source": [
    "using DelayEmbeddings\n",
    "\n",
    "a = collect(1:100)\n",
    "p = embed(a, 2, 5)"
   ]
  },
  {
   "cell_type": "code",
   "execution_count": 26,
   "metadata": {},
   "outputs": [
    {
     "ename": "LoadError",
     "evalue": "UndefVarError: embed not defined",
     "output_type": "error",
     "traceback": [
      "UndefVarError: embed not defined",
      "",
      "Stacktrace:",
      " [1] top-level scope",
      "   @ In[26]:7",
      " [2] eval",
      "   @ ./boot.jl:368 [inlined]",
      " [3] include_string(mapexpr::typeof(REPL.softscope), mod::Module, code::String, filename::String)",
      "   @ Base ./loading.jl:1428"
     ]
    }
   ],
   "source": [
    "using Neighborhood\n",
    "\n",
    "a = [0, 1.2, 0.1, 0.8]\n",
    "b = [0, 0, 1.8, 0.8]\n",
    "\n",
    "\n",
    "X = embed(a, 2, 1)\n",
    "Y = embed(b, 2, 1)\n",
    "\n",
    "treeX = searchstructure(KDTree, X, Euclidean())\n",
    "treeY = searchstructure(KDTree, Y, Euclidean())\n",
    "neighborhoodtype, theiler = NeighborNumber(1), Theiler(0)\n",
    "idxs_X = bulkisearch(treeX, X, neighborhoodtype, theiler)\n",
    "idxs_Y = bulkisearch(treeY, Y, neighborhoodtype, theiler)\n",
    "\n",
    "print(idxs_Y)"
   ]
  },
  {
   "cell_type": "code",
   "execution_count": 3,
   "metadata": {},
   "outputs": [
    {
     "name": "stdout",
     "output_type": "stream",
     "text": [
      "  39.459 μs (689 allocations: 48.64 KiB)\n",
      "  1.271 μs (11 allocations: 1.23 KiB)\n"
     ]
    },
    {
     "data": {
      "text/plain": [
       "NaN"
      ]
     },
     "execution_count": 3,
     "metadata": {},
     "output_type": "execute_result"
    }
   ],
   "source": [
    "using CausalityTools\n",
    "using BenchmarkTools\n",
    "\n",
    "include(\"../Utils/entropy.jl\")\n",
    "\n",
    "x = rand(0:10, 50)\n",
    "y = rand(0:10, 50)\n",
    "\n",
    "@btime s_measure(float(x), float(y), K=3, dx=5, dy=5, τx=1, τy=1)\n",
    "\n",
    "@btime TE(Int.(x .> 0), Int.(y .> 0))"
   ]
  },
  {
   "cell_type": "code",
   "execution_count": 11,
   "metadata": {},
   "outputs": [
    {
     "name": "stdout",
     "output_type": "stream",
     "text": [
      "  58.584 μs (65 allocations: 222.17 KiB)\n"
     ]
    },
    {
     "data": {
      "text/plain": [
       "One sample t-test\n",
       "-----------------\n",
       "Population details:\n",
       "    parameter of interest:   Mean\n",
       "    value under h_0:         0.0\n",
       "    point estimate:          0.275\n",
       "    95% confidence interval: (-0.0137, 0.5637)\n",
       "\n",
       "Test summary:\n",
       "    outcome with 95% confidence: fail to reject h_0\n",
       "    two-sided p-value:           0.0596\n",
       "\n",
       "Details:\n",
       "    number of observations:   10\n",
       "    t-statistic:              2.1547879226714413\n",
       "    degrees of freedom:       9\n",
       "    empirical standard error: 0.12762276839711598\n"
      ]
     },
     "execution_count": 11,
     "metadata": {},
     "output_type": "execute_result"
    }
   ],
   "source": [
    "using HypothesisTests\n",
    "\n",
    "x = rand(0:10, 50)\n",
    "y = rand(0:10, 50)\n",
    "\n",
    "@btime jdd(OneSampleTTest, x, y, B=10, D=2, τ=1)"
   ]
  },
  {
   "cell_type": "code",
   "execution_count": 36,
   "metadata": {},
   "outputs": [
    {
     "name": "stdout",
     "output_type": "stream",
     "text": [
      "  890.733 ns (7 allocations: 304 bytes)\n"
     ]
    },
    {
     "data": {
      "text/plain": [
       "4×2 Matrix{Int64}:\n",
       " 11  12\n",
       " 12  13\n",
       " 13  14\n",
       " 14  15"
      ]
     },
     "execution_count": 36,
     "metadata": {},
     "output_type": "execute_result"
    }
   ],
   "source": [
    "source = collect(1:5)\n",
    "target = collect(11:15)\n",
    "\n",
    "D = 2\n",
    "B = 10\n",
    "τs = 1\n",
    "\n",
    "@btime Ex = DelayEmbeddings.embed(source, D, τs)\n",
    "Ey = DelayEmbeddings.embed(target, D, τs)\n",
    "Mx = DelayEmbeddings.Matrix(Ex)\n",
    "My = DelayEmbeddings.Matrix(Ey)"
   ]
  },
  {
   "cell_type": "code",
   "execution_count": 23,
   "metadata": {},
   "outputs": [
    {
     "data": {
      "text/plain": [
       "4×2 Matrix{Int64}:\n",
       " 12  11\n",
       " 13  12\n",
       " 14  13\n",
       " 15  14"
      ]
     },
     "execution_count": 23,
     "metadata": {},
     "output_type": "execute_result"
    }
   ],
   "source": [
    "import DelayEmbeddings\n",
    "\n",
    "source = collect(1:5)\n",
    "target = collect(11:15)\n",
    "\n",
    "D = 2\n",
    "B = 10\n",
    "τ = 1\n",
    "\n",
    "js = ([1 for i = 1:D]...,)\n",
    "τs = (collect(0:-τ:-(D-1)*τ)...,)\n",
    "\n",
    "Ex = DelayEmbeddings.genembed(source, τs, js)\n",
    "Ey = DelayEmbeddings.genembed(target, τs, js)\n",
    "Mx = DelayEmbeddings.Matrix(Ex)\n",
    "My = DelayEmbeddings.Matrix(Ey)"
   ]
  },
  {
   "cell_type": "code",
   "execution_count": 27,
   "metadata": {},
   "outputs": [
    {
     "data": {
      "text/plain": [
       "4×2 Matrix{Int64}:\n",
       " 2  1\n",
       " 3  2\n",
       " 4  3\n",
       " 5  4"
      ]
     },
     "execution_count": 27,
     "metadata": {},
     "output_type": "execute_result"
    }
   ],
   "source": [
    "Matrix(Ex) "
   ]
  },
  {
   "cell_type": "code",
   "execution_count": 33,
   "metadata": {},
   "outputs": [
    {
     "data": {
      "text/plain": [
       "2-element LinearIndices{1, Tuple{Base.OneTo{Int64}}}:\n",
       " 1\n",
       " 2"
      ]
     },
     "execution_count": 33,
     "metadata": {},
     "output_type": "execute_result"
    }
   ],
   "source": [
    "foo = [0 1; 2 0]\n",
    "LinearIndices(foo[foo .> 0])"
   ]
  },
  {
   "cell_type": "code",
   "execution_count": 24,
   "metadata": {},
   "outputs": [
    {
     "data": {
      "text/plain": [
       "4×2 Matrix{Int64}:\n",
       " 12  11\n",
       " 13  12\n",
       " 14  13\n",
       " 15  14"
      ]
     },
     "execution_count": 24,
     "metadata": {},
     "output_type": "execute_result"
    }
   ],
   "source": [
    "My"
   ]
  },
  {
   "cell_type": "code",
   "execution_count": 19,
   "metadata": {},
   "outputs": [
    {
     "data": {
      "text/plain": [
       "4×2 Matrix{Int64}:\n",
       " 2  1\n",
       " 3  2\n",
       " 4  3\n",
       " 5  4"
      ]
     },
     "execution_count": 19,
     "metadata": {},
     "output_type": "execute_result"
    }
   ],
   "source": [
    "Mx"
   ]
  },
  {
   "cell_type": "code",
   "execution_count": 21,
   "metadata": {},
   "outputs": [
    {
     "data": {
      "text/plain": [
       "4×4 Matrix{Float64}:\n",
       " 0.0      1.41421  2.82843  4.24264\n",
       " 1.41421  0.0      1.41421  2.82843\n",
       " 2.82843  1.41421  0.0      1.41421\n",
       " 4.24264  2.82843  1.41421  0.0"
      ]
     },
     "execution_count": 21,
     "metadata": {},
     "output_type": "execute_result"
    }
   ],
   "source": [
    "using Distances\n",
    "\n",
    "pairwise(Euclidean(), Mx, Mx, dims=1)"
   ]
  },
  {
   "cell_type": "code",
   "execution_count": 23,
   "metadata": {},
   "outputs": [
    {
     "data": {
      "text/plain": [
       "1.4142135623730951"
      ]
     },
     "execution_count": 23,
     "metadata": {},
     "output_type": "execute_result"
    }
   ],
   "source": [
    "Euclidean()([2,1], [3,2])"
   ]
  },
  {
   "cell_type": "code",
   "execution_count": 35,
   "metadata": {},
   "outputs": [
    {
     "name": "stdout",
     "output_type": "stream",
     "text": [
      "jdd : 5\n",
      "TE : 0\n",
      "s measure : 100\n"
     ]
    }
   ],
   "source": [
    "using BenchmarkTools\n",
    "using CausalityTools\n",
    "\n",
    "include(\"../Utils/entropy.jl\")\n",
    "\n",
    "B = 10\n",
    "d = 3\n",
    "τ = 1\n",
    "alpha = 0.001\n",
    "\n",
    "K = 3\n",
    "dx = 3\n",
    "dy = 3\n",
    "τx = 1\n",
    "τy = 1\n",
    "\n",
    "cuttoff = 0.5\n",
    "cuttoff2 = 0.01\n",
    "\n",
    "func1(x, y) = pvalue(jdd(OneSampleTTest, x, y, B=B, D=d, τ=τ, μ0=0.0), tail=:right) < alpha ? 1 : 0\n",
    "func2(x, y) = TE(Int.(x .> 0), Int.(y .> 0)) > cuttoff ? 1 : 0\n",
    "func3(x,y) = s_measure(float(x), float(y), K=K, dx=dx, dy=dy, τx=τx, τy=τy) > cuttoff2 ? 1 : 0\n",
    "\n",
    "tot1 = 0\n",
    "tot2 = 0\n",
    "tot3 = 0\n",
    "nans = 0\n",
    "for i = 1:100\n",
    "    x = rand(0:10, 30)\n",
    "    y = rand(0:10, 30)\n",
    "\n",
    "    tot1 += func1(x ,y)\n",
    "    tot2 += func2(x ,y)\n",
    "    tot3 += func3(x ,y)\n",
    "end\n",
    "\n",
    "println(\"jdd : $tot1\")\n",
    "println(\"TE : $tot2\")\n",
    "println(\"s measure : $tot3\")"
   ]
  },
  {
   "cell_type": "code",
   "execution_count": 63,
   "metadata": {},
   "outputs": [
    {
     "name": "stdout",
     "output_type": "stream",
     "text": [
      "jdd : 0\n"
     ]
    }
   ],
   "source": [
    "using BenchmarkTools\n",
    "using CausalityTools\n",
    "\n",
    "B = 10\n",
    "d = 3\n",
    "τ = 1\n",
    "alpha = 0.001\n",
    "\n",
    "cuttoff = 0.5\n",
    "cuttoff2 = 0.01\n",
    "\n",
    "func(x, y) = pvalue(jdd(OneSampleTTest, x, y, B=B, D=d, τ=τ, μ0=0.0), tail=:right) < alpha ? 1 : 0\n",
    "\n",
    "tot = 0\n",
    "\n",
    "for i = 1:1000\n",
    "    x = rand(0:10, 1000)\n",
    "    y = rand(0:10, 1000)\n",
    "\n",
    "    tot += func(x ,y)\n",
    "end\n",
    "\n",
    "println(\"jdd : $tot\")"
   ]
  },
  {
   "cell_type": "code",
   "execution_count": 209,
   "metadata": {},
   "outputs": [
    {
     "name": "stdout",
     "output_type": "stream",
     "text": [
      "p : 0.00032785446214250144    limit: 0.0007147071949659619     limit2: 0.02716158683825249\n",
      "p : 0.0005640059239774532    limit: 0.0007056421044315651     limit2: 0.025838711872565562\n",
      "p : 0.0002734664819900032    limit: 0.00040544296586519663     limit2: 0.033272985497052265\n",
      "p : 0.00047965514956183715    limit: 0.000534832540712606     limit2: 0.024908326774016862\n",
      "jdd : 4\n",
      "We removed : 5\n"
     ]
    }
   ],
   "source": [
    "using BenchmarkTools\n",
    "using CausalityTools\n",
    "using StatsBase\n",
    "\n",
    "function normalize(x)\n",
    "    return (x .- mean(x))/std(x)\n",
    "end\n",
    "\n",
    "\n",
    "B = 10\n",
    "d = 3\n",
    "τ = 1\n",
    "alpha = 0.001\n",
    "\n",
    "Nsurr = 50\n",
    "p_value_surr = Vector{Float64}(undef, Nsurr)\n",
    "\n",
    "func(x, y) = pvalue(jdd(OneSampleTTest, x, y, B=B, D=d, τ=τ, μ0=0.0), tail=:right)\n",
    "\n",
    "tot = 0\n",
    "eviter = 0\n",
    "\n",
    "for i = 1:1000\n",
    "    x = rand(0:10, 100)\n",
    "    y = rand(0:10, 100)\n",
    "\n",
    "    p = func(x, y)\n",
    "\n",
    "    if p < alpha\n",
    "\n",
    "        s = surrogenerator(x, RandomShuffle())\n",
    "\n",
    "        for i = 1:Nsurr\n",
    "            p_value_surr[i] = func(s(), y)\n",
    "            # p_value_surr[i] = func(rand(0:10, 100), y)\n",
    "        end\n",
    "\n",
    "        limit = quantile(p_value_surr, 0.01)/4\n",
    "        limit2 = minimum()\n",
    "\n",
    "        if p < limit\n",
    "            tot += 1\n",
    "            println(\"p : $p    limit: $limit     limit2: $(limit2)\")\n",
    "\n",
    "        else\n",
    "            eviter += 1\n",
    "        end\n",
    "\n",
    "    end\n",
    "\n",
    "    #= if p < alpha\n",
    "        tot += 1\n",
    "    end =#\n",
    "\n",
    "end\n",
    "\n",
    "println(\"jdd : $tot\")\n",
    "println(\"We removed : $eviter\")"
   ]
  },
  {
   "cell_type": "code",
   "execution_count": 211,
   "metadata": {},
   "outputs": [
    {
     "name": "stdout",
     "output_type": "stream",
     "text": [
      "0.000534832540712606\n",
      "0.0008535608798262756\n"
     ]
    },
    {
     "data": {
      "text/plain": [
       "(0.015519488438222168, 0.05124801846058763)"
      ]
     },
     "execution_count": 211,
     "metadata": {},
     "output_type": "execute_result"
    }
   ],
   "source": [
    "println(quantile(p_value_surr, 0.01)/4)\n",
    "println(quantile(p_value_surr, 0.05)/4)\n",
    "confint(OneSampleTTest(p_value_surr), 0.0001)"
   ]
  },
  {
   "cell_type": "code",
   "execution_count": 186,
   "metadata": {},
   "outputs": [
    {
     "name": "stdout",
     "output_type": "stream",
     "text": [
      "p : 9.127474287418247e-19    limit: 0.05988142748262146\n"
     ]
    },
    {
     "data": {
      "text/plain": [
       "7"
      ]
     },
     "execution_count": 186,
     "metadata": {},
     "output_type": "execute_result"
    }
   ],
   "source": [
    "x = 1:100\n",
    "y = 101:200\n",
    "\n",
    "p = func(x, y)\n",
    "\n",
    "if p < alpha\n",
    "\n",
    "    s = surrogenerator(x, RandomShuffle())\n",
    "\n",
    "    for i = 1:Nsurr\n",
    "        p_value_surr[i] = func(s(), y)\n",
    "        # p_value_surr[i] = func(rand(0:10, 100), y)\n",
    "    end\n",
    "\n",
    "    limit = minimum(p_value_surr)/2 #quantile(p_value_surr, 0.05)\n",
    "\n",
    "    println(\"p : $p    limit: $limit\")\n",
    "\n",
    "    if p < limit\n",
    "        tot += 1\n",
    "    end\n",
    "\n",
    "end"
   ]
  },
  {
   "cell_type": "code",
   "execution_count": 193,
   "metadata": {},
   "outputs": [
    {
     "name": "stdout",
     "output_type": "stream",
     "text": [
      "([1.0, 1.0, 2.0, 1.0, 1.0, 1.0, 3.0, 3.0, 5.0, 2.0, 3.0, 2.0, 2.0, 3.0, 4.0, 1.0, 2.0, 3.0, 6.0, 4.0], [0.008610910984738948, 0.01670874568645315, 0.024806580388167347, 0.03290441508988155, 0.04100224979159575, 0.04910008449330995, 0.057197919195024156, 0.06529575389673835, 0.07339358859845255, 0.08149142330016675, 0.08958925800188094, 0.09768709270359514, 0.10578492740530936, 0.11388276210702356, 0.12198059680873775, 0.13007843151045195, 0.13817626621216617, 0.14627410091388038, 0.15437193561559456, 0.16246977031730878, 0.17056760501902296], (PyObject <matplotlib.patches.Rectangle object at 0x2b06e65c0>, PyObject <matplotlib.patches.Rectangle object at 0x2b06e4610>, PyObject <matplotlib.patches.Rectangle object at 0x2b05c96f0>, PyObject <matplotlib.patches.Rectangle object at 0x2b05ca8c0>, PyObject <matplotlib.patches.Rectangle object at 0x2b05c9c00>, PyObject <matplotlib.patches.Rectangle object at 0x2b05c8cd0>, PyObject <matplotlib.patches.Rectangle object at 0x2b05c92d0>, PyObject <matplotlib.patches.Rectangle object at 0x2b05cb400>, PyObject <matplotlib.patches.Rectangle object at 0x2b05cb2b0>, PyObject <matplotlib.patches.Rectangle object at 0x2b05cbe20>, PyObject <matplotlib.patches.Rectangle object at 0x2b05cbd60>, PyObject <matplotlib.patches.Rectangle object at 0x2b05c9b40>, PyObject <matplotlib.patches.Rectangle object at 0x2b05cb910>, PyObject <matplotlib.patches.Rectangle object at 0x2b05c9840>, PyObject <matplotlib.patches.Rectangle object at 0x2b05c9540>, PyObject <matplotlib.patches.Rectangle object at 0x2b05c87f0>, PyObject <matplotlib.patches.Rectangle object at 0x2b05cbb20>, PyObject <matplotlib.patches.Rectangle object at 0x2b05cba60>, PyObject <matplotlib.patches.Rectangle object at 0x2b05c8160>, PyObject <matplotlib.patches.Rectangle object at 0x2b05c81f0>))"
     ]
    },
    {
     "data": {
      "image/png": "[encoded data removed]",
      "text/plain": [
       "PyPlot.Figure(PyObject <Figure size 640x480 with 1 Axes>)"
      ]
     },
     "metadata": {},
     "output_type": "display_data"
    },
    {
     "data": {
      "text/plain": [
       "Normal{Float64}(μ=0.10464798000976253, σ=0.04431662600719932)"
      ]
     },
     "execution_count": 193,
     "metadata": {},
     "output_type": "execute_result"
    }
   ],
   "source": [
    "import PyPlot as plt\n",
    "using Distributions\n",
    "\n",
    "foo = fit_mle(Normal, p_value_surr)\n",
    "\n",
    "\n",
    "show(plt.hist(p_value_surr, bins=20))\n",
    "plt.plot(0:0.001:0.3, rand(foo, length(0:0.001:0.3)), \"-r\")\n",
    "foo"
   ]
  },
  {
   "cell_type": "code",
   "execution_count": 180,
   "metadata": {},
   "outputs": [
    {
     "data": {
      "text/plain": [
       "50-element Vector{Float64}:\n",
       " 0.08895896762770654\n",
       " 0.15376642740478572\n",
       " 0.09974603267157996\n",
       " 0.16296447686590748\n",
       " 0.1415791128370667\n",
       " 0.0823715570605691\n",
       " 0.1651237983664177\n",
       " 0.043597631186268894\n",
       " 0.06934667087168953\n",
       " 0.08404808453391846\n",
       " 0.10838825964149638\n",
       " 0.07977758680804285\n",
       " 0.1642121901940383\n",
       " ⋮\n",
       " 0.15802224095081452\n",
       " 0.01912171857224068\n",
       " 0.05627225017622281\n",
       " 0.14280975208519017\n",
       " 0.16939226640523722\n",
       " 0.07245043771911297\n",
       " 0.06504430831159581\n",
       " 0.10907300458377739\n",
       " 0.16828733381368038\n",
       " 0.0759373863710036\n",
       " 0.16144006667136968\n",
       " 0.07613458798156238"
      ]
     },
     "execution_count": 180,
     "metadata": {},
     "output_type": "execute_result"
    }
   ],
   "source": [
    "float.(p_value_surr)"
   ]
  },
  {
   "cell_type": "code",
   "execution_count": 176,
   "metadata": {},
   "outputs": [
    {
     "data": {
      "text/plain": [
       "100-element Vector{Float64}:\n",
       "  0.05960113260616646\n",
       "  0.5086185664432574\n",
       "  1.3171255655621763\n",
       "  0.669803941409575\n",
       " -0.7832187282838059\n",
       "  0.47011587639402225\n",
       "  0.5096273115410052\n",
       "  0.7184981780011926\n",
       " -0.43850664593136063\n",
       " -2.0209077133500566\n",
       " -1.5739272342375747\n",
       " -0.3881130744563902\n",
       "  0.29100716232952767\n",
       "  ⋮\n",
       "  0.9389135549033801\n",
       " -1.0355942318960945\n",
       "  0.7547671178886021\n",
       "  0.4191717431855258\n",
       " -1.1515016379163747\n",
       " -1.0099598651165378\n",
       "  1.958103132817978\n",
       " -0.9281265450220242\n",
       "  0.04096772832744455\n",
       " -1.4977583546530575\n",
       " -0.8509162508239447\n",
       " -0.9072917744552235"
      ]
     },
     "execution_count": 176,
     "metadata": {},
     "output_type": "execute_result"
    }
   ],
   "source": [
    "d = Normal()\n",
    "x = rand(d, 100)\n",
    "\n"
   ]
  },
  {
   "cell_type": "code",
   "execution_count": 131,
   "metadata": {},
   "outputs": [
    {
     "data": {
      "text/plain": [
       "0.004982735549558252"
      ]
     },
     "execution_count": 131,
     "metadata": {},
     "output_type": "execute_result"
    }
   ],
   "source": [
    "mean(p_value_surr) - std(p_value_surr)"
   ]
  },
  {
   "cell_type": "code",
   "execution_count": 14,
   "metadata": {},
   "outputs": [
    {
     "data": {
      "text/plain": [
       "8.465778128597038e-6"
      ]
     },
     "execution_count": 14,
     "metadata": {},
     "output_type": "execute_result"
    }
   ],
   "source": [
    "using CausalityTools\n",
    "\n",
    "a = collect(1:30)\n",
    "b = collect(51:80)\n",
    "\n",
    "a = [[0 for i in 1:30]..., a...]\n",
    "b = [[0 for i in 1:30]..., b...]\n",
    "\n",
    "B = 10\n",
    "d = 3\n",
    "τ = 5\n",
    "alpha = 0.001\n",
    "\n",
    "func(x,y) = pvalue(jdd(OneSampleTTest, x, y, B=B, D=d, τ=τ, μ0=0.0), tail=:right)\n",
    "func(a, b)"
   ]
  },
  {
   "cell_type": "code",
   "execution_count": 82,
   "metadata": {},
   "outputs": [
    {
     "data": {
      "text/plain": [
       "100"
      ]
     },
     "execution_count": 82,
     "metadata": {},
     "output_type": "execute_result"
    }
   ],
   "source": [
    "func2(x, y) = TE(Int.(x .> 0), Int.(y .> 0))\n",
    "\n",
    "nans = 0\n",
    "for i = 1:100\n",
    "    x = rand(0:10, 100)\n",
    "    y = rand(0:10, 100)\n",
    "\n",
    "    isnan(func2(x,y)) ? nans += 1 : nans += 0\n",
    "end\n",
    "\n",
    "nans"
   ]
  },
  {
   "cell_type": "code",
   "execution_count": 3,
   "metadata": {},
   "outputs": [
    {
     "ename": "LoadError",
     "evalue": "LoadError: UndefVarError: @btime not defined\nin expression starting at In[3]:10",
     "output_type": "error",
     "traceback": [
      "LoadError: UndefVarError: @btime not defined\nin expression starting at In[3]:10",
      "",
      "Stacktrace:",
      " [1] top-level scope",
      "   @ :0",
      " [2] eval",
      "   @ ./boot.jl:368 [inlined]",
      " [3] include_string(mapexpr::typeof(REPL.softscope), mod::Module, code::String, filename::String)",
      "   @ Base ./loading.jl:1428"
     ]
    }
   ],
   "source": [
    "x = rand(0:10, 30)\n",
    "y = rand(0:10, 30)\n",
    "\n",
    "B = 10\n",
    "d = 3\n",
    "τ = 1\n",
    "alpha = 0.001\n",
    "\n",
    "func1(x, y) = pvalue(jdd(OneSampleTTest, x, y, B=B, D=d, τ=τ, μ0=0.0), tail=:right) < alpha ? 1 : 0\n",
    "@btime func1(x,y)"
   ]
  },
  {
   "cell_type": "code",
   "execution_count": 20,
   "metadata": {},
   "outputs": [
    {
     "name": "stdout",
     "output_type": "stream",
     "text": [
      "foo"
     ]
    }
   ],
   "source": [
    "foo = zeros(3,3)\n",
    "try\n",
    "    a = minimum(foo[foo .> 0])\n",
    "catch\n",
    "    print(\"foo\")\n",
    "end"
   ]
  },
  {
   "cell_type": "code",
   "execution_count": 67,
   "metadata": {},
   "outputs": [
    {
     "name": "stdout",
     "output_type": "stream",
     "text": [
      "  338.373 ms (426459 allocations: 671.50 MiB)\n"
     ]
    },
    {
     "data": {
      "text/plain": [
       "(0.0, Int64[], Int64[], 1:1, 2:2, Int64[])"
      ]
     },
     "execution_count": 67,
     "metadata": {},
     "output_type": "execute_result"
    }
   ],
   "source": [
    "est = VisitationFrequency(RectangularBinning(10))\n",
    "\n",
    "n = 1000\n",
    "# Source and target variables\n",
    "s, t = rand(n), rand(n)\n",
    "\n",
    "\n",
    "est = NaiveKernel(0.3)\n",
    "@btime bbnue(s, t, est)"
   ]
  },
  {
   "cell_type": "code",
   "execution_count": 21,
   "metadata": {},
   "outputs": [
    {
     "data": {
      "text/plain": [
       "NaN"
      ]
     },
     "execution_count": 21,
     "metadata": {},
     "output_type": "execute_result"
    }
   ],
   "source": [
    "using CausalityTools\n",
    "\n",
    "a = float([[0 for i = 1:24]..., 1, [0 for i = 1:75]...])\n",
    "b = float([[0 for i = 1:36]..., 1, [0 for i = 1:63]...])\n",
    "\n",
    "a = (a .- mean(a)) / std(a)\n",
    "b = (b .- mean(b)) / std(b)\n",
    "\n",
    "transferentropy(a, b, Kraskov(k=3))"
   ]
  },
  {
   "cell_type": "code",
   "execution_count": 49,
   "metadata": {},
   "outputs": [
    {
     "name": "stdout",
     "output_type": "stream",
     "text": [
      "2021-10-11T00:00:00\n",
      "2021-10-29T00:00:00\n"
     ]
    }
   ],
   "source": [
    "using Dates\n",
    "\n",
    "start_time = DateTime(2021, 10, 11, 13, 23, 12) \n",
    "end_time = DateTime(2021, 10, 28, 23, 29, 13) \n",
    "time_interval = Day(1)\n",
    "\n",
    "println(floor(start_time, time_interval))\n",
    "println(ceil(end_time, time_interval))"
   ]
  },
  {
   "cell_type": "code",
   "execution_count": 53,
   "metadata": {},
   "outputs": [
    {
     "data": {
      "text/plain": [
       "2021-10-11T13:23:12"
      ]
     },
     "execution_count": 53,
     "metadata": {},
     "output_type": "execute_result"
    }
   ],
   "source": [
    "start_time = DateTime(2021, 10, 11, 13, 23, 12) \n",
    "end_time = DateTime(2021, 10, 28, 23, 29, 13) \n",
    "time_interval = Day(1)\n",
    "\n",
    "function create_time_intervals(start_time::DateTime, end_time::DateTime, time_interval::Period)\n",
    "\n",
    "    # Set beginning and end of interval by rounding\n",
    "    start_time = floor(start_time, time_interval)\n",
    "    end_time = ceil(end_time, time_interval)\n",
    "\n",
    "    intervals = [start_time]\n",
    "    \n",
    "    if end_time - start_time > time_interval\n",
    "        start = start_time\n",
    "        while start + time_interval < end_time\n",
    "            push!(intervals, start + time_interval)\n",
    "            start += time_interval\n",
    "        end\n",
    "    end\n",
    "            \n",
    "    push!(intervals, end_time)\n",
    "    \n",
    "    return intervals\n",
    "\n",
    "\n",
    "end\n",
    "\n",
    "create_time_intervals(start_time, end_time, time_interval)\n",
    "\n",
    "start_time"
   ]
  },
  {
   "cell_type": "code",
   "execution_count": 42,
   "metadata": {},
   "outputs": [
    {
     "data": {
      "text/plain": [
       "true"
      ]
     },
     "execution_count": 42,
     "metadata": {},
     "output_type": "execute_result"
    }
   ],
   "source": [
    "Minute <: Period"
   ]
  },
  {
   "cell_type": "code",
   "execution_count": 5,
   "metadata": {},
   "outputs": [
    {
     "name": "stderr",
     "output_type": "stream",
     "text": [
      "WARNING: replacing module Helpers.\n",
      "WARNING: using Helpers.load_json in module Main conflicts with an existing identifier.\n"
     ]
    }
   ],
   "source": [
    "using DataFrames\n",
    "using Dates\n",
    "include(\"../Utils/Helpers.jl\")\n",
    "using .Helpers\n",
    "\n",
    "datafolder = \"../../Data/Twitter/COP26_processed_lightweight/\"\n",
    "datafiles = [file for file in readdir(datafolder) if occursin(\".json\", file)]\n",
    "frames = [load_json(datafolder * file) for file in datafiles]\n",
    "data = vcat(frames...)\n",
    "\n",
    "data = data[.~ismissing.(data.\"domain\"), :]\n",
    "\n",
    "to_datetime = x -> DateTime(split(x, '.')[1], \"yyyy-mm-ddTHH:MM:SS\")\n",
    "data.\"created_at\" = to_datetime.(data.\"created_at\");"
   ]
  },
  {
   "cell_type": "code",
   "execution_count": 61,
   "metadata": {},
   "outputs": [
    {
     "name": "stdout",
     "output_type": "stream",
     "text": [
      "2021-10-18T00:00:00\n",
      "2021-10-18T00:00:00\n"
     ]
    }
   ],
   "source": [
    "start_time = minimum(data.created_at)\n",
    "println(start_time)\n",
    "println(floor(start_time, Minute))"
   ]
  },
  {
   "cell_type": "code",
   "execution_count": 62,
   "metadata": {},
   "outputs": [
    {
     "name": "stdout",
     "output_type": "stream",
     "text": [
      "2021-11-25T23:59:57\n",
      "2021-11-26T00:00:00\n"
     ]
    }
   ],
   "source": [
    "end_time = maximum(data.created_at)\n",
    "println(end_time)\n",
    "println(ceil(end_time, Minute))"
   ]
  },
  {
   "cell_type": "code",
   "execution_count": 8,
   "metadata": {},
   "outputs": [
    {
     "data": {
      "text/plain": [
       "189-element Vector{DateTime}:\n",
       " 2021-10-18T00:00:00\n",
       " 2021-10-18T05:00:00\n",
       " 2021-10-18T10:00:00\n",
       " 2021-10-18T15:00:00\n",
       " 2021-10-18T20:00:00\n",
       " 2021-10-19T01:00:00\n",
       " 2021-10-19T06:00:00\n",
       " 2021-10-19T11:00:00\n",
       " 2021-10-19T16:00:00\n",
       " 2021-10-19T21:00:00\n",
       " 2021-10-20T02:00:00\n",
       " 2021-10-20T07:00:00\n",
       " 2021-10-20T12:00:00\n",
       " ⋮\n",
       " 2021-11-23T21:00:00\n",
       " 2021-11-24T02:00:00\n",
       " 2021-11-24T07:00:00\n",
       " 2021-11-24T12:00:00\n",
       " 2021-11-24T17:00:00\n",
       " 2021-11-24T22:00:00\n",
       " 2021-11-25T03:00:00\n",
       " 2021-11-25T08:00:00\n",
       " 2021-11-25T13:00:00\n",
       " 2021-11-25T18:00:00\n",
       " 2021-11-25T23:00:00\n",
       " 2021-11-26T00:00:00"
      ]
     },
     "execution_count": 8,
     "metadata": {},
     "output_type": "execute_result"
    }
   ],
   "source": [
    "\n",
    "start_time = minimum(data.created_at)\n",
    "end_time = maximum(data.created_at)\n",
    "time_interval = Hour(5)\n",
    "\n",
    "function create_time_intervals(start_time::DateTime, end_time::DateTime, time_interval::Period)\n",
    "\n",
    "    # Set beginning and end of interval by rounding\n",
    "    start_time = floor(start_time, Minute)\n",
    "    end_time = ceil(end_time, Minute)\n",
    "\n",
    "    intervals = [start_time]\n",
    "    \n",
    "    if end_time - start_time > time_interval\n",
    "        start = start_time\n",
    "        while start + time_interval < end_time\n",
    "            push!(intervals, start + time_interval)\n",
    "            start += time_interval\n",
    "        end\n",
    "    end\n",
    "            \n",
    "    push!(intervals, end_time)\n",
    "    \n",
    "    return intervals\n",
    "\n",
    "\n",
    "end\n",
    "\n",
    "foo = create_time_intervals(start_time, end_time, time_interval)"
   ]
  },
  {
   "cell_type": "code",
   "execution_count": 9,
   "metadata": {},
   "outputs": [
    {
     "data": {
      "text/plain": [
       "188"
      ]
     },
     "execution_count": 9,
     "metadata": {},
     "output_type": "execute_result"
    }
   ],
   "source": [
    "length(foo) - 1"
   ]
  },
  {
   "cell_type": "code",
   "execution_count": 12,
   "metadata": {},
   "outputs": [
    {
     "data": {
      "text/plain": [
       "690286-element Vector{DateTime}:\n",
       " 2021-10-21T19:00:00\n",
       " 2021-10-21T19:00:00\n",
       " 2021-10-21T19:00:00\n",
       " 2021-10-21T19:00:00\n",
       " 2021-10-21T19:00:00\n",
       " 2021-10-21T19:00:00\n",
       " 2021-10-21T19:00:00\n",
       " 2021-10-21T19:00:00\n",
       " 2021-10-21T19:00:00\n",
       " 2021-10-21T19:00:00\n",
       " 2021-10-21T19:00:00\n",
       " 2021-10-21T19:00:00\n",
       " 2021-10-21T19:00:00\n",
       " ⋮\n",
       " 2021-11-24T23:00:00\n",
       " 2021-11-24T23:00:00\n",
       " 2021-11-24T23:00:00\n",
       " 2021-11-24T23:00:00\n",
       " 2021-11-24T23:00:00\n",
       " 2021-11-24T23:00:00\n",
       " 2021-11-24T23:00:00\n",
       " 2021-11-24T23:00:00\n",
       " 2021-11-24T23:00:00\n",
       " 2021-11-24T23:00:00\n",
       " 2021-11-24T23:00:00\n",
       " 2021-11-24T23:00:00"
      ]
     },
     "execution_count": 12,
     "metadata": {},
     "output_type": "execute_result"
    }
   ],
   "source": [
    "total_min = 5*60\n",
    "\n",
    "clean_dates = x -> floor(x, Dates.Minute(total_min))\n",
    "data.time = clean_dates.(data.\"created_at\")"
   ]
  },
  {
   "cell_type": "code",
   "execution_count": 33,
   "metadata": {},
   "outputs": [
    {
     "data": {
      "text/plain": [
       "2-element Vector{Int64}:\n",
       " 6186669424\n",
       " 6186669520"
      ]
     },
     "execution_count": 33,
     "metadata": {},
     "output_type": "execute_result"
    }
   ],
   "source": [
    "a = Vector{Int}(undef, 2)"
   ]
  },
  {
   "cell_type": "code",
   "execution_count": 29,
   "metadata": {},
   "outputs": [
    {
     "data": {
      "text/plain": [
       "false"
      ]
     },
     "execution_count": 29,
     "metadata": {},
     "output_type": "execute_result"
    }
   ],
   "source": [
    "isassigned(a, 3)"
   ]
  },
  {
   "cell_type": "code",
   "execution_count": 17,
   "metadata": {},
   "outputs": [
    {
     "name": "stderr",
     "output_type": "stream",
     "text": [
      "WARNING: replacing module Helpers.\n",
      "WARNING: using Helpers.load_json in module Main conflicts with an existing identifier.\n",
      "WARNING: replacing module Sensors.\n"
     ]
    }
   ],
   "source": [
    "using DataFrames\n",
    "using Dates\n",
    "include(\"../Utils/Helpers.jl\")\n",
    "using .Helpers\n",
    "include(\"../Sensors/Sensors.jl\")\n",
    "import .Sensors as sen\n",
    "\n",
    "datafolder = \"../../Data/Twitter/COP26_processed_lightweight/\"\n",
    "datafiles = [file for file in readdir(datafolder) if occursin(\".json\", file)]\n",
    "frames = [load_json(datafolder * file) for file in datafiles]\n",
    "data = vcat(frames...)\n",
    "\n",
    "data = data[.~ismissing.(data.\"domain\"), :]\n",
    "\n",
    "to_datetime = x -> DateTime(split(x, '.')[1], \"yyyy-mm-ddTHH:MM:SS\")\n",
    "data.\"created_at\" = to_datetime.(data.\"created_at\");\n",
    "\n"
   ]
  },
  {
   "cell_type": "code",
   "execution_count": 19,
   "metadata": {},
   "outputs": [
    {
     "data": {
      "text/plain": [
       "690286-element Vector{DateTime}:\n",
       " 2021-10-21T23:59:00\n",
       " 2021-10-21T23:59:00\n",
       " 2021-10-21T23:59:00\n",
       " 2021-10-21T23:59:00\n",
       " 2021-10-21T23:59:00\n",
       " 2021-10-21T23:59:00\n",
       " 2021-10-21T23:59:00\n",
       " 2021-10-21T23:59:00\n",
       " 2021-10-21T23:59:00\n",
       " 2021-10-21T23:59:00\n",
       " 2021-10-21T23:59:00\n",
       " 2021-10-21T23:59:00\n",
       " 2021-10-21T23:59:00\n",
       " ⋮\n",
       " 2021-11-25T00:00:00\n",
       " 2021-11-25T00:00:00\n",
       " 2021-11-25T00:00:00\n",
       " 2021-11-25T00:00:00\n",
       " 2021-11-25T00:00:00\n",
       " 2021-11-25T00:00:00\n",
       " 2021-11-25T00:00:00\n",
       " 2021-11-25T00:00:00\n",
       " 2021-11-25T00:00:00\n",
       " 2021-11-25T00:00:00\n",
       " 2021-11-25T00:00:00\n",
       " 2021-11-25T00:00:00"
      ]
     },
     "execution_count": 19,
     "metadata": {},
     "output_type": "execute_result"
    }
   ],
   "source": [
    "foo = x -> floor(x, Minute)\n",
    "time = foo.(data.created_at)"
   ]
  },
  {
   "cell_type": "code",
   "execution_count": 21,
   "metadata": {},
   "outputs": [
    {
     "name": "stdout",
     "output_type": "stream",
     "text": [
      "55966\n",
      "56160\n"
     ]
    }
   ],
   "source": [
    "println(length(unique(time)))\n",
    "println(24*60*39)\n"
   ]
  },
  {
   "cell_type": "code",
   "execution_count": 25,
   "metadata": {},
   "outputs": [
    {
     "data": {
      "text/plain": [
       "156.0"
      ]
     },
     "execution_count": 25,
     "metadata": {},
     "output_type": "execute_result"
    }
   ],
   "source": [
    "13*24/2"
   ]
  },
  {
   "cell_type": "code",
   "execution_count": null,
   "metadata": {},
   "outputs": [],
   "source": []
  }
 ],
 "metadata": {
  "kernelspec": {
   "display_name": "Julia 1.8.1",
   "language": "julia",
   "name": "julia-1.8"
  },
  "language_info": {
   "file_extension": ".jl",
   "mimetype": "application/julia",
   "name": "julia",
   "version": "1.8.1"
  },
  "orig_nbformat": 4,
  "vscode": {
   "interpreter": {
    "hash": "d414a8e85e9c5ccdc8812887eb84d5216e7e6e9c9aa8c61fc7e614ebeebe649a"
   }
  }
 },
 "nbformat": 4,
 "nbformat_minor": 2
}
