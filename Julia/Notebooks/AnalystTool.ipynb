{
 "cells": [
  {
   "cell_type": "code",
   "execution_count": null,
   "metadata": {},
   "outputs": [],
   "source": [
    "using Dates\n",
    "# using Revise\n",
    "import PlotlyJS\n",
    "\n",
    "include(\"../Sensors/Sensors.jl\")\n",
    "include(\"../PreProcessing/PreProcessing.jl\")\n",
    "include(\"../Utils/Helpers.jl\")\n",
    "include(\"../Utils/Visualizations.jl\")\n",
    "using .Sensors, .PreProcessing, .Visualizations, .Helpers;"
   ]
  },
  {
   "cell_type": "markdown",
   "metadata": {},
   "source": [
    "## Load the data and format it"
   ]
  },
  {
   "cell_type": "code",
   "execution_count": null,
   "metadata": {},
   "outputs": [],
   "source": [
    "#= datafolder = \"../../Data/Twitter/\"\n",
    "datafile = datafolder * \"all_links_processed.json\"\n",
    "data = load_json(datafile) =#\n",
    "\n",
    "datafolder = \"../../Data/Twitter/COP26_processed_lightweight/\"\n",
    "datafiles = [file for file in readdir(datafolder) if occursin(\".json\", file)]\n",
    "frames = [load_json(datafolder * file) for file in datafiles]\n",
    "data = vcat(frames...)\n",
    "\n",
    "data = data[.~ismissing.(data.\"domain\"), :]\n",
    "\n",
    "to_datetime = x -> DateTime(split(x, '.')[1], \"yyyy-mm-ddTHH:MM:SS\")\n",
    "data.\"created_at\" = to_datetime.(data.\"created_at\");"
   ]
  },
  {
   "cell_type": "markdown",
   "metadata": {},
   "source": [
    "## Define the partition, actors and actions"
   ]
  },
  {
   "cell_type": "code",
   "execution_count": null,
   "metadata": {},
   "outputs": [],
   "source": [
    "part_fun = cop_26_dates\n",
    "actor_fun = follower_count\n",
    "action_fun = trust_score\n",
    "\n",
    "df = data |> part_fun |> action_fun |> actor_fun\n",
    "\n",
    "actions = sort(unique(df.action))\n",
    "actors = sort(unique(df.actor))\n",
    "partitions = sort(unique(df.partition));"
   ]
  },
  {
   "cell_type": "markdown",
   "metadata": {},
   "source": [
    "## Statistics on the data"
   ]
  },
  {
   "cell_type": "code",
   "execution_count": null,
   "metadata": {},
   "outputs": [],
   "source": [
    "show(plot_actor_frequency(df, save=false, filename=\"../../Results/actor_frequency.pdf\"))"
   ]
  },
  {
   "cell_type": "code",
   "execution_count": null,
   "metadata": {},
   "outputs": [],
   "source": [
    "plot_actor_wordcloud(df, Nactor=300, save=false, filename=\"../../Results/actor_wordcloud.svg\")"
   ]
  },
  {
   "cell_type": "code",
   "execution_count": null,
   "metadata": {},
   "outputs": [],
   "source": [
    "show(plot_action_frequency(df, save=false, filename=\"../../Results/action_frequency.pdf\"))"
   ]
  },
  {
   "cell_type": "markdown",
   "metadata": {},
   "source": [
    "## Compute influence graph"
   ]
  },
  {
   "cell_type": "code",
   "execution_count": null,
   "metadata": {},
   "outputs": [],
   "source": [
    "hours = 2\n",
    "minutes = 0;"
   ]
  },
  {
   "cell_type": "code",
   "execution_count": null,
   "metadata": {},
   "outputs": [],
   "source": [
    "total_min = hours*60 + minutes\n",
    "\n",
    "tsg = TimeSeriesGenerator(Minute(total_min), standardize=false)\n",
    "\n",
    "ig = InfluenceGraphGenerator()\n",
    "# ig = InfluenceGraphGenerator(SMeasure)\n",
    "# ig = InfluenceGraphGenerator(JointDistanceDistribution, Nsurro=100, alpha=0.001, seed=1234)\n",
    "# ig = InfluenceGraphGenerator(TransferEntropy)\n",
    "\n",
    "cuttoff = 0.5\n",
    "# icg = InfluenceCascadeGenerator(cuttoff)\n",
    "icg = InfluenceCascadeGenerator(WithoutCuttoff)\n",
    "# icg = InfluenceCascadeGenerator(cuttoff)"
   ]
  },
  {
   "cell_type": "code",
   "execution_count": null,
   "metadata": {},
   "outputs": [],
   "source": [
    "time_series = observe(df, tsg)\n",
    "influence_graphs = observe(time_series, ig);"
   ]
  },
  {
   "cell_type": "markdown",
   "metadata": {},
   "source": [
    "## Compute influence cascade"
   ]
  },
  {
   "cell_type": "code",
   "execution_count": null,
   "metadata": {},
   "outputs": [],
   "source": [
    "influence_cascades = observe.(influence_graphs, Ref(icg))\n",
    "\n",
    "edge_types = [string(n1, \" to \", n2) for n1 in actions for n2 in actions]\n",
    "push!(edge_types, \"Any Edge\");"
   ]
  },
  {
   "cell_type": "markdown",
   "metadata": {},
   "source": [
    "## Plot influence graph"
   ]
  },
  {
   "cell_type": "code",
   "execution_count": null,
   "metadata": {},
   "outputs": [],
   "source": [
    "partition = \"During COP26\"\n",
    "edge = \"Any Edge\";"
   ]
  },
  {
   "cell_type": "code",
   "execution_count": null,
   "metadata": {},
   "outputs": [],
   "source": [
    "simplifier = make_simplifier(edge, cuttoff, edge_types)\n",
    "partition_index = (1:length(partitions))[findfirst(partition .== partitions)]\n",
    "\t\n",
    "# In this case we plot the graph on a world map\n",
    "if actor_fun == country\n",
    "\tPlotlyJS.plot(map_plot(df)...)\n",
    "# In this case we plot a simple graph of the actors\n",
    "else\n",
    "\tplot_graph(influence_graphs[partition_index], df, simplifier)\n",
    "end"
   ]
  },
  {
   "cell_type": "markdown",
   "metadata": {},
   "source": [
    "## Plot cascades and statistics"
   ]
  },
  {
   "cell_type": "code",
   "execution_count": null,
   "metadata": {},
   "outputs": [],
   "source": [
    "partition_index = 3\n",
    "influencer_indices = [ic.root for ic in influence_cascades[partition_index]]\n",
    "influencers = sort(actors[influencer_indices])"
   ]
  },
  {
   "cell_type": "code",
   "execution_count": null,
   "metadata": {},
   "outputs": [],
   "source": [
    "influencer_node1 = influencers[4]\n",
    "\n",
    "PlotlyJS.plot(plot_cascade_sankey(influence_cascades[partition_index][findfirst(influencer_node1 .== influencers)], df)...)\n",
    "# PlotlyJS.savefig(PlotlyJS.plot(plot_cascade_sankey(influence_cascades[partition_index][findfirst(influencer_node1 .== influencers)], df)...), \"../../Results/cascade.pdf\")"
   ]
  },
  {
   "cell_type": "code",
   "execution_count": null,
   "metadata": {},
   "outputs": [],
   "source": [
    "show(plot_actors_per_level(influence_cascades, df, log=false))"
   ]
  },
  {
   "cell_type": "code",
   "execution_count": null,
   "metadata": {},
   "outputs": [],
   "source": [
    "show(plot_actors_per_level(influence_cascades, df, save=false, filename=\"../../Results/mean_actor_cascade.pdf\", log=true, inner_spacing=0.02, reorder=[2, 3, 1]))"
   ]
  },
  {
   "cell_type": "code",
   "execution_count": null,
   "metadata": {},
   "outputs": [],
   "source": []
  }
 ],
 "metadata": {
  "kernelspec": {
   "display_name": "Julia 1.8.1",
   "language": "julia",
   "name": "julia-1.8"
  },
  "language_info": {
   "file_extension": ".jl",
   "mimetype": "application/julia",
   "name": "julia",
   "version": "1.8.1"
  },
  "orig_nbformat": 4,
  "vscode": {
   "interpreter": {
    "hash": "d414a8e85e9c5ccdc8812887eb84d5216e7e6e9c9aa8c61fc7e614ebeebe649a"
   }
  }
 },
 "nbformat": 4,
 "nbformat_minor": 2
}
