{
 "cells": [
  {
   "cell_type": "code",
   "execution_count": 1,
   "metadata": {},
   "outputs": [
    {
     "data": {
      "application/vnd.webio.node+json": {
       "children": [],
       "instanceArgs": {
        "namespace": "html",
        "tag": "div"
       },
       "nodeType": "DOM",
       "props": {},
       "type": "node"
      },
      "text/html": [
       "<div style=\"padding: 1em; background-color: #f8d6da; border: 1px solid #f5c6cb; font-weight: bold;\">\n",
       "<p>The WebIO Jupyter extension was not detected. See the\n",
       "<a href=\"https://juliagizmos.github.io/WebIO.jl/latest/providers/ijulia/\" target=\"_blank\">\n",
       "    WebIO Jupyter integration documentation\n",
       "</a>\n",
       "for more information.\n",
       "</div>\n"
      ],
      "text/plain": [
       "WebIO._IJuliaInit()"
      ]
     },
     "metadata": {},
     "output_type": "display_data"
    }
   ],
   "source": [
    "include(\"../Engine/Engine.jl\")\n",
    "using .Engine\n",
    "\n",
    "using StatsBase, DataFrames\n",
    "using Graphs, SimpleWeightedGraphs\n",
    "import PyPlot as plt\n",
    "import Seaborn as sns\n",
    "import PlotlyJS\n",
    "\n",
    "rcParams = plt.PyDict(plt.matplotlib.\"rcParams\")\n",
    "rcParams[\"text.usetex\"] = false\n",
    "rcParams[\"font.family\"] = [\"sans-serif\"]\n",
    "rcParams[\"font.serif\"] = [\"Computer Modern Roman\"];"
   ]
  },
  {
   "cell_type": "code",
   "execution_count": 2,
   "metadata": {},
   "outputs": [],
   "source": [
    "graphs_JDD, cascades_JDD, df_JDD = load_data(\"/home/ubuntu/Thesis/Results/JDD_all_users/COP26/data.jld2\")\n",
    "graphs2_JDD, cascades2_JDD, df2_JDD = load_data(\"/home/ubuntu/Thesis/Results/JDD_all_users/Random/data.jld2\");\n",
    "\n",
    "centrality_ranks_JDD = get_centrality_ranks(graphs_JDD, df_JDD, 0, \"Any Edge\")\n",
    "all_centrality_ranks_JDD = get_centrality_ranks_all_edges(graphs_JDD, df_JDD, 0);\n",
    "\n",
    "graphs_JDD = nothing\n",
    "GC.gc()"
   ]
  },
  {
   "cell_type": "code",
   "execution_count": 3,
   "metadata": {},
   "outputs": [],
   "source": [
    "GC.gc()"
   ]
  },
  {
   "cell_type": "code",
   "execution_count": 4,
   "metadata": {},
   "outputs": [],
   "source": [
    "graphs_TE, cascades_TE, df_TE = load_data(\"/home/ubuntu/Thesis/Results/TE_all_users/COP26/data.jld2\")\n",
    "graphs2_TE, cascades2_TE, df2_TE = load_data(\"/home/ubuntu/Thesis/Results/TE_all_users/Random/data.jld2\");\n",
    "\n",
    "centrality_ranks_TE = get_centrality_ranks(graphs_TE, df_TE, 0, \"Any Edge\")\n",
    "all_centrality_ranks_TE = get_centrality_ranks_all_edges(graphs_TE, df_TE, 0);\n",
    "\n",
    "graphs_TE = nothing\n",
    "GC.gc()"
   ]
  },
  {
   "cell_type": "code",
   "execution_count": 5,
   "metadata": {},
   "outputs": [],
   "source": [
    "GC.gc()"
   ]
  },
  {
   "cell_type": "code",
   "execution_count": 6,
   "metadata": {},
   "outputs": [
    {
     "data": {
      "text/plain": [
       "3-element Vector{Any}:\n",
       " \u001b[1m3620×11 DataFrame\u001b[0m\n",
       "\u001b[1m  Row \u001b[0m│\u001b[1m username        \u001b[0m\u001b[1m partition   \u001b[0m\u001b[1m tweet_count \u001b[0m\u001b[1m follower_count \u001b[0m\u001b[1m retweet_cou\u001b[0m ⋯\n",
       "\u001b[1m      \u001b[0m│\u001b[90m String          \u001b[0m\u001b[90m String      \u001b[0m\u001b[90m Int64       \u001b[0m\u001b[90m Int64          \u001b[0m\u001b[90m Float64    \u001b[0m ⋯\n",
       "──────┼─────────────────────────────────────────────────────────────────────────\n",
       "    1 │ 0briang          After COP26            9              13            0 ⋯\n",
       "    2 │ 100CoNeutral     After COP26           11             215            3\n",
       "    3 │ 103blinddog      After COP26            6            3273            0\n",
       "    4 │ 10FathomLine     After COP26            3             694            3\n",
       "    5 │ 10News           After COP26            3          187452            3 ⋯\n",
       "    6 │ 10NewsCoronel    After COP26            3           14012            2\n",
       "    7 │ 10TV             After COP26            3          358076            5\n",
       "    8 │ 123_INFO_USA     After COP26            4             291            0\n",
       "    9 │ 13013B           After COP26            6             541            1 ⋯\n",
       "   10 │ 13SciDave        After COP26            9            2348            2\n",
       "   11 │ 1776DEFEATS1984  After COP26            5            2901            0\n",
       "  ⋮   │        ⋮              ⋮            ⋮             ⋮               ⋮     ⋱\n",
       " 3611 │ yorknewstimes    After COP26            4            2573            0\n",
       " 3612 │ yorkshirepost    After COP26            7          203486            3 ⋯\n",
       " 3613 │ youseepeeYYC     After COP26            8           11193           25\n",
       " 3614 │ yportbill        After COP26           10             206            1\n",
       " 3615 │ zaailor          After COP26            3              51            0\n",
       " 3616 │ zakir_kibria     After COP26            3             217            0 ⋯\n",
       " 3617 │ zaswadosaze      After COP26            6            3719            0\n",
       " 3618 │ zg4ever          After COP26           15           24200            6\n",
       " 3619 │ zpravy_24        After COP26            3             196            0\n",
       " 3620 │ zyiteblog        After COP26           20            1754            0 ⋯\n",
       "\u001b[36m                                                 7 columns and 3599 rows omitted\u001b[0m\n",
       " \u001b[1m6578×11 DataFrame\u001b[0m\n",
       "\u001b[1m  Row \u001b[0m│\u001b[1m username        \u001b[0m\u001b[1m partition    \u001b[0m\u001b[1m tweet_count \u001b[0m\u001b[1m follower_count \u001b[0m\u001b[1m retweet_co\u001b[0m ⋯\n",
       "\u001b[1m      \u001b[0m│\u001b[90m String          \u001b[0m\u001b[90m String       \u001b[0m\u001b[90m Int64       \u001b[0m\u001b[90m Int64          \u001b[0m\u001b[90m Float64   \u001b[0m ⋯\n",
       "──────┼─────────────────────────────────────────────────────────────────────────\n",
       "    1 │ 0briang          Before COP26            9              13             ⋯\n",
       "    2 │ 100glitterstars  Before COP26            5            2899\n",
       "    3 │ 10FathomLine     Before COP26            5             694\n",
       "    4 │ 10News           Before COP26            3          187452\n",
       "    5 │ 10TV             Before COP26            5          358076             ⋯\n",
       "    6 │ 10TampaBay       Before COP26            4          178656\n",
       "    7 │ 118              Before COP26            3            3819\n",
       "    8 │ 123_INFO_USA     Before COP26            4             291\n",
       "    9 │ 12MileGeo        Before COP26            6             574             ⋯\n",
       "   10 │ 12NewsNow        Before COP26            6           47272\n",
       "   11 │ 13NewsNow        Before COP26            3          146660\n",
       "  ⋮   │        ⋮              ⋮             ⋮             ⋮               ⋮    ⋱\n",
       " 6569 │ zaswadosaze      Before COP26            3            3719\n",
       " 6570 │ zemblanity00     Before COP26            9            1436             ⋯\n",
       " 6571 │ zeroc_official   Before COP26            4            2544\n",
       " 6572 │ zerohedge        Before COP26            4         1514595          45\n",
       " 6573 │ zg4ever          Before COP26           38           24200           2\n",
       " 6574 │ zhang_heqing     Before COP26            6          282968           1 ⋯\n",
       " 6575 │ zinggy1          Before COP26            8             120\n",
       " 6576 │ zoocoup          Before COP26            5             610\n",
       " 6577 │ zpravy_24        Before COP26           41             196\n",
       " 6578 │ zyiteblog        Before COP26           56            1754             ⋯\n",
       "\u001b[36m                                                 7 columns and 6557 rows omitted\u001b[0m\n",
       " \u001b[1m8351×11 DataFrame\u001b[0m\n",
       "\u001b[1m  Row \u001b[0m│\u001b[1m username        \u001b[0m\u001b[1m partition    \u001b[0m\u001b[1m tweet_count \u001b[0m\u001b[1m follower_count \u001b[0m\u001b[1m retweet_co\u001b[0m ⋯\n",
       "\u001b[1m      \u001b[0m│\u001b[90m String          \u001b[0m\u001b[90m String       \u001b[0m\u001b[90m Int64       \u001b[0m\u001b[90m Int64          \u001b[0m\u001b[90m Float64   \u001b[0m ⋯\n",
       "──────┼─────────────────────────────────────────────────────────────────────────\n",
       "    1 │ 01SunStrategy    During COP26            6            1558             ⋯\n",
       "    2 │ 0briang          During COP26           12              13\n",
       "    3 │ 0k_____________  During COP26            3               0\n",
       "    4 │ 100CoNeutral     During COP26           12             215\n",
       "    5 │ 100glitterstars  During COP26            7            2899             ⋯\n",
       "    6 │ 10FathomLine     During COP26            3             694\n",
       "    7 │ 10TV             During COP26            5          358076\n",
       "    8 │ 10TampaBay       During COP26            5          178656\n",
       "    9 │ 111publishing    During COP26            7           16372             ⋯\n",
       "   10 │ 118              During COP26           10            3819\n",
       "   11 │ 11AliveNews      During COP26            4          425892\n",
       "  ⋮   │        ⋮              ⋮             ⋮             ⋮               ⋮    ⋱\n",
       " 8342 │ zinggy1          During COP26            6             120\n",
       " 8343 │ ziontree         During COP26            4           23144          38 ⋯\n",
       " 8344 │ zohaibrafiq83    During COP26            3             323\n",
       " 8345 │ zoolooy          During COP26            3            2132\n",
       " 8346 │ zoomberiq        During COP26            3             195\n",
       " 8347 │ zpnine           During COP26            9            2740             ⋯\n",
       " 8348 │ zpravy_24        During COP26           37             196\n",
       " 8349 │ zuluzim909       During COP26            3             708\n",
       " 8350 │ zunaidkhanusia   During COP26            3              67\n",
       " 8351 │ zyiteblog        During COP26           62            1754             ⋯\n",
       "\u001b[36m                                                 7 columns and 8330 rows omitted\u001b[0m"
      ]
     },
     "execution_count": 6,
     "metadata": {},
     "output_type": "execute_result"
    }
   ],
   "source": [
    "general_ranks = get_general_ranks(COP26, cop_26_dates)"
   ]
  },
  {
   "cell_type": "code",
   "execution_count": null,
   "metadata": {},
   "outputs": [],
   "source": [
    "corr_JDD_TE = correlation_JDD_TE(all_centrality_ranks_JDD, all_centrality_ranks_TE)\n",
    "show(corr_JDD_TE, allcols=true)"
   ]
  },
  {
   "cell_type": "code",
   "execution_count": null,
   "metadata": {},
   "outputs": [],
   "source": [
    "print(latexify2(foo))"
   ]
  },
  {
   "cell_type": "code",
   "execution_count": null,
   "metadata": {},
   "outputs": [],
   "source": [
    "idx = 1\n",
    "\n",
    "ranking1 = find_max_ranks(general_ranks[idx], centrality_ranks_TE[idx])\n",
    "ranking2 = find_max_ranks(all_centrality_ranks_TE[idx]);"
   ]
  },
  {
   "cell_type": "code",
   "execution_count": null,
   "metadata": {},
   "outputs": [],
   "source": [
    "show(ranking1, allcols=true)"
   ]
  },
  {
   "cell_type": "code",
   "execution_count": null,
   "metadata": {},
   "outputs": [],
   "source": [
    "show(ranking2, allcols=true)"
   ]
  },
  {
   "cell_type": "code",
   "execution_count": null,
   "metadata": {},
   "outputs": [],
   "source": [
    "print(latexify(ranking1))"
   ]
  },
  {
   "cell_type": "code",
   "execution_count": null,
   "metadata": {},
   "outputs": [],
   "source": [
    "print(latexify(ranking2))"
   ]
  },
  {
   "cell_type": "code",
   "execution_count": null,
   "metadata": {},
   "outputs": [],
   "source": [
    "plot_correlation_matrices(general_ranks, centrality_ranks, 50, save=true, foldername=\"/home/ubuntu/Thesis/Figures/TE_all_users/COP26/\")"
   ]
  },
  {
   "cell_type": "code",
   "execution_count": null,
   "metadata": {},
   "outputs": [],
   "source": [
    "edge_type = \"Any Edge\"\n",
    "N_biggest = 20\n",
    "cuttoff = 0\n",
    "\n",
    "between, between_actors = betweenness_centralities(graphs, df, cuttoff=cuttoff, edge_type=edge_type)\n",
    "in_, in_actors = indegree_centralities(graphs, df, cuttoff=cuttoff, edge_type=edge_type)\n",
    "out, out_actors = outdegree_centralities(graphs, df, cuttoff=cuttoff, edge_type=edge_type)\n",
    "\n",
    "between_actors[3][1:N_biggest]"
   ]
  },
  {
   "cell_type": "code",
   "execution_count": null,
   "metadata": {},
   "outputs": [],
   "source": [
    "plot_edge_types([graphs, graphs2], [df, df2], [0,0]; y=\"count_normalized\", hue_order=[\"Before\", \"During\", \"After\", \"Control\"],\n",
    "    save=true, filename=\"/home/ubuntu/Thesis/Figures/TE_all_users/COP26/edge_type.pdf\", log=false)\n"
   ]
  },
  {
   "cell_type": "code",
   "execution_count": null,
   "metadata": {},
   "outputs": [],
   "source": [
    "plot_actors_per_level(cascades, df, control=cascades2, save=true, filename=\"/home/ubuntu/Thesis/Figures/TE_all_users/COP26/actor_level.pdf\", inner_spacing=0)\n"
   ]
  },
  {
   "cell_type": "code",
   "execution_count": null,
   "metadata": {},
   "outputs": [],
   "source": [
    "cascades[3]\n",
    "PlotlyJS.plot(plot_cascade_sankey(cascades[3][6], df)...)\n",
    "# PlotlyJS.savefig(PlotlyJS.plot(plot_cascade_sankey(cascades[3][5], df)...), \"/home/ubuntu/Thesis/Figures/TE_all_users/COP26/cascade.pdf\")"
   ]
  },
  {
   "cell_type": "code",
   "execution_count": null,
   "metadata": {},
   "outputs": [],
   "source": []
  }
 ],
 "metadata": {
  "kernelspec": {
   "display_name": "Julia 1.8.1",
   "language": "julia",
   "name": "julia-1.8"
  },
  "language_info": {
   "file_extension": ".jl",
   "mimetype": "application/julia",
   "name": "julia",
   "version": "1.8.1"
  },
  "orig_nbformat": 4
 },
 "nbformat": 4,
 "nbformat_minor": 2
}
