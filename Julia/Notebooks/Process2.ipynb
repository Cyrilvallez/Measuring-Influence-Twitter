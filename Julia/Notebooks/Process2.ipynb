{
 "cells": [
  {
   "cell_type": "code",
   "execution_count": 1,
   "metadata": {},
   "outputs": [
    {
     "data": {
      "application/vnd.webio.node+json": {
       "children": [],
       "instanceArgs": {
        "namespace": "html",
        "tag": "div"
       },
       "nodeType": "DOM",
       "props": {},
       "type": "node"
      },
      "text/html": [
       "<div style=\"padding: 1em; background-color: #f8d6da; border: 1px solid #f5c6cb; font-weight: bold;\">\n",
       "<p>The WebIO Jupyter extension was not detected. See the\n",
       "<a href=\"https://juliagizmos.github.io/WebIO.jl/latest/providers/ijulia/\" target=\"_blank\">\n",
       "    WebIO Jupyter integration documentation\n",
       "</a>\n",
       "for more information.\n",
       "</div>\n"
      ],
      "text/plain": [
       "WebIO._IJuliaInit()"
      ]
     },
     "metadata": {},
     "output_type": "display_data"
    },
    {
     "data": {
      "text/plain": [
       "false"
      ]
     },
     "execution_count": 1,
     "metadata": {},
     "output_type": "execute_result"
    }
   ],
   "source": [
    "include(\"../Engine/Engine.jl\")\n",
    "using .Engine\n",
    "\n",
    "using StatsBase, DataFrames\n",
    "using Graphs, SimpleWeightedGraphs\n",
    "import PyPlot as plt\n",
    "import Seaborn as sns\n",
    "import PlotlyJS\n",
    "\n",
    "rcParams = plt.PyDict(plt.matplotlib.\"rcParams\")\n",
    "rcParams[\"text.usetex\"] = false"
   ]
  },
  {
   "cell_type": "code",
   "execution_count": 2,
   "metadata": {},
   "outputs": [],
   "source": [
    "cop26 = load_dataset(COP26)\n",
    "ranks = get_all_ranks(cop26, cop_26_dates)\n",
    "\n",
    "graphs, cascades, df = load_data(\"/home/ubuntu/Thesis/Results/JDD_all_users/COP26/data.jld2\")\n",
    "graphs2, cascades2, df2 = load_data(\"/home/ubuntu/Thesis/Results/JDD_all_users/Random/data.jld2\");"
   ]
  },
  {
   "cell_type": "code",
   "execution_count": null,
   "metadata": {},
   "outputs": [],
   "source": [
    "ranks = get_all_ranks(COP26, cop_26_dates)"
   ]
  },
  {
   "cell_type": "code",
   "execution_count": null,
   "metadata": {},
   "outputs": [],
   "source": [
    "ranks2 = get_centrality_ranks(graphs, df, 0, \"Any Edge\")"
   ]
  },
  {
   "cell_type": "code",
   "execution_count": null,
   "metadata": {},
   "outputs": [],
   "source": [
    "function correlation_matrices(ranks, centrality_ranks, N = 50)\n",
    "\n",
    "    if length(ranks) != length(centrality_ranks)\n",
    "        throw(ArgumentError(\"Number of partition mismatch.\"))\n",
    "    end\n",
    "\n",
    "    output = []\n",
    "    labels = []\n",
    "\n",
    "    for (r1, r2) in zip(ranks, centrality_ranks)\n",
    "        partition = r1.partition[1]\n",
    "        if r1.username != r2.username\n",
    "            throw(ArgumentError(\"Both do not contain the same usernames.\"))\n",
    "        end\n",
    "        tot = innerjoin(r1, r2, on=:username)\n",
    "\n",
    "        cols = [name for name in names(tot) if occursin(\"rank\", name)]\n",
    "        labels_ = [split(col, '_')[1] for col in cols]\n",
    "        corr_matrix = zeros(length(cols), length(cols))\n",
    "\n",
    "        for (i, col1) in enumerate(cols)\n",
    "            sorting = sortperm(tot[!, col1])\n",
    "            users1 = tot.username[sorting][1:N]\n",
    "            # Should be 1:N\n",
    "            rank1 = tot[!, col1][sorting][1:N]\n",
    "            if rank1 != collect(1:N)\n",
    "                throw(ArgumentError(\"error\"))\n",
    "            end\n",
    "            \n",
    "            for (j, col2) in enumerate(cols)\n",
    "\n",
    "                # indices = [findfirst(user .== tot.username) for user in users1]\n",
    "                # users2 = tot.username[indices]\n",
    "                # rank2 = tot[!, col2][indices]\n",
    "                # corr_matrix[i,j] = corspearman(rank1, rank2)\n",
    "                sorting = sortperm(tot[!, col2])\n",
    "                users2 = tot.username[sorting][1:N]\n",
    "                corr_matrix[i,j] = length(intersect(users1, users2)) / length(users1)\n",
    "\n",
    "            end\n",
    "        end\n",
    "\n",
    "        push!(output, corr_matrix)\n",
    "        push!(labels, labels_)\n",
    "\n",
    "    end\n",
    "\n",
    "    return output, labels\n",
    "\n",
    "end\n",
    "\n",
    "out, labels = correlation_matrices(ranks, ranks2, 50)\n",
    "\n",
    "plt.figure()\n",
    "sns.heatmap(out[3], annot=true, cmap=\"rocket\")\n",
    "xloc, xlabels = plt.xticks()\n",
    "plt.xticks(xloc, labels[1], rotation=\"vertical\")\n",
    "yloc, ylabels = plt.yticks()\n",
    "plt.yticks(yloc, labels[1], rotation=\"horizontal\")\n",
    "# plt.savefig(\"/home/ubuntu/Thesis/Figures/JDD_all_users/COP26/heatmap3.pdf\", bbox_inches=\"tight\")\n",
    "plt.gcf()\n"
   ]
  },
  {
   "cell_type": "code",
   "execution_count": null,
   "metadata": {},
   "outputs": [],
   "source": [
    "edge_type = \"Any Edge\"\n",
    "N_biggest = 20\n",
    "cuttoff = 0\n",
    "\n",
    "between, between_actors = betweenness_centralities(graphs, df, cuttoff=cuttoff, edge_type=edge_type)\n",
    "in_, in_actors = indegree_centralities(graphs, df, cuttoff=cuttoff, edge_type=edge_type)\n",
    "out, out_actors = outdegree_centralities(graphs, df, cuttoff=cuttoff, edge_type=edge_type)\n",
    "\n",
    "between_actors[3][1:N_biggest]"
   ]
  },
  {
   "cell_type": "code",
   "execution_count": null,
   "metadata": {},
   "outputs": [],
   "source": [
    "plot_edge_types([graphs, graphs2], [df, df2], [0,0]; y=\"count_normalized\", hue_order=[\"Before COP26\", \"During COP26\", \"After COP26\", \"Control\"],\n",
    " save=true, filename=\"/home/ubuntu/Thesis/Figures/JDD_all_users/COP26/edge_type.pdf\", log=true)"
   ]
  },
  {
   "cell_type": "code",
   "execution_count": null,
   "metadata": {},
   "outputs": [],
   "source": [
    "plot_actors_per_level(cascades, df, control=cascades2, save=true, filename=\"/home/ubuntu/Thesis/Figures/JDD_all_users/COP26/actor_level.pdf\", inner_spacing=0)"
   ]
  },
  {
   "cell_type": "code",
   "execution_count": 36,
   "metadata": {},
   "outputs": [
    {
     "data": {
      "text/plain": [
       "\"/home/ubuntu/Thesis/Figures/JDD_all_users/COP26/cascade.pdf\""
      ]
     },
     "execution_count": 36,
     "metadata": {},
     "output_type": "execute_result"
    }
   ],
   "source": [
    "cascades[3]\n",
    "PlotlyJS.plot(plot_cascade_sankey(cascades[3][5], df)...)\n",
    "# PlotlyJS.savefig(PlotlyJS.plot(plot_cascade_sankey(cascades[3][5], df)...), \"/home/ubuntu/Thesis/Figures/JDD_all_users/COP26/cascade.pdf\")"
   ]
  },
  {
   "cell_type": "code",
   "execution_count": null,
   "metadata": {},
   "outputs": [],
   "source": []
  }
 ],
 "metadata": {
  "kernelspec": {
   "display_name": "Julia 1.8.1",
   "language": "julia",
   "name": "julia-1.8"
  },
  "language_info": {
   "file_extension": ".jl",
   "mimetype": "application/julia",
   "name": "julia",
   "version": "1.8.1"
  },
  "orig_nbformat": 4
 },
 "nbformat": 4,
 "nbformat_minor": 2
}
