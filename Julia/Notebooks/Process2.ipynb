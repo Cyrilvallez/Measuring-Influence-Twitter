{
 "cells": [
  {
   "cell_type": "code",
   "execution_count": null,
   "metadata": {},
   "outputs": [],
   "source": [
    "include(\"../Engine/Engine.jl\")\n",
    "using .Engine\n",
    "\n",
    "using StatsBase, DataFrames\n",
    "using Graphs, SimpleWeightedGraphs\n",
    "import PyPlot as plt\n",
    "import Seaborn as sns\n",
    "import PlotlyJS\n",
    "\n",
    "rcParams = plt.PyDict(plt.matplotlib.\"rcParams\")\n",
    "rcParams[\"text.usetex\"] = false"
   ]
  },
  {
   "cell_type": "code",
   "execution_count": null,
   "metadata": {},
   "outputs": [],
   "source": [
    "cop26 = load_dataset(COP26)\n",
    "ranks = get_all_ranks(cop26, cop_26_dates)\n",
    "\n",
    "graphs, cascades, df = load_data(\"/home/ubuntu/Thesis/Results/JDD_all_users/COP26/data.jld2\")\n",
    "graphs2, cascades2, df2 = load_data(\"/home/ubuntu/Thesis/Results/JDD_all_users/Random/data.jld2\");"
   ]
  },
  {
   "cell_type": "code",
   "execution_count": null,
   "metadata": {},
   "outputs": [],
   "source": [
    "edge_type = \"Any Edge\"\n",
    "N_biggest = 20\n",
    "cuttoff = 0\n",
    "\n",
    "between, between_actors = betweenness_centralities(graphs, df, cuttoff=cuttoff, edge_type=edge_type)\n",
    "in_, in_actors = indegree_centralities(graphs, df, cuttoff=cuttoff, edge_type=edge_type)\n",
    "out, out_actors = outdegree_centralities(graphs, df, cuttoff=cuttoff, edge_type=edge_type)\n",
    "\n",
    "between_actors[3][1:N_biggest]"
   ]
  },
  {
   "cell_type": "code",
   "execution_count": null,
   "metadata": {},
   "outputs": [],
   "source": [
    "plot_edge_types([graphs, graphs2], [df, df2], [0,0]; y=\"count_normalized\", hue_order=[\"Before COP26\", \"During COP26\", \"After COP26\", \"Control\"], save=true, filename=\"/home/ubuntu/Thesis/test.png\", log=true)"
   ]
  },
  {
   "cell_type": "code",
   "execution_count": null,
   "metadata": {},
   "outputs": [],
   "source": [
    "plot_actors_per_level(cascades, df, control=cascades2)"
   ]
  },
  {
   "cell_type": "code",
   "execution_count": null,
   "metadata": {},
   "outputs": [],
   "source": [
    "cascades[3]\n",
    "PlotlyJS.plot(plot_cascade_sankey(cascades[3][5], df)...)\n",
    "# PlotlyJS.savefig(PlotlyJS.plot(plot_cascade_sankey(cascades[3][5], df)...), \"/home/ubuntu/Thesis/foo.png\")"
   ]
  }
 ],
 "metadata": {
  "kernelspec": {
   "display_name": "Julia 1.8.1",
   "language": "julia",
   "name": "julia-1.8"
  },
  "language_info": {
   "file_extension": ".jl",
   "mimetype": "application/julia",
   "name": "julia",
   "version": "1.8.1"
  },
  "orig_nbformat": 4
 },
 "nbformat": 4,
 "nbformat_minor": 2
}
