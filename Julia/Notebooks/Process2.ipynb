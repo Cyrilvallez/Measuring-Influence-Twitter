{
 "cells": [
  {
   "cell_type": "code",
   "execution_count": 1,
   "metadata": {},
   "outputs": [
    {
     "data": {
      "application/vnd.webio.node+json": {
       "children": [],
       "instanceArgs": {
        "namespace": "html",
        "tag": "div"
       },
       "nodeType": "DOM",
       "props": {},
       "type": "node"
      },
      "text/html": [
       "<div style=\"padding: 1em; background-color: #f8d6da; border: 1px solid #f5c6cb; font-weight: bold;\">\n",
       "<p>The WebIO Jupyter extension was not detected. See the\n",
       "<a href=\"https://juliagizmos.github.io/WebIO.jl/latest/providers/ijulia/\" target=\"_blank\">\n",
       "    WebIO Jupyter integration documentation\n",
       "</a>\n",
       "for more information.\n",
       "</div>\n"
      ],
      "text/plain": [
       "WebIO._IJuliaInit()"
      ]
     },
     "metadata": {},
     "output_type": "display_data"
    }
   ],
   "source": [
    "include(\"../Engine/Engine.jl\")\n",
    "using .Engine\n",
    "\n",
    "using StatsBase, DataFrames\n",
    "using Graphs, SimpleWeightedGraphs\n",
    "using Latexify\n",
    "import PyPlot as plt\n",
    "import Seaborn as sns\n",
    "import PlotlyJS\n",
    "\n",
    "rcParams = plt.PyDict(plt.matplotlib.\"rcParams\")\n",
    "rcParams[\"text.usetex\"] = false\n",
    "rcParams[\"font.family\"] = [\"sans-serif\"]\n",
    "rcParams[\"font.serif\"] = [\"Computer Modern Roman\"];"
   ]
  },
  {
   "cell_type": "code",
   "execution_count": 2,
   "metadata": {},
   "outputs": [],
   "source": [
    "graphs, cascades, df = load_data(\"/home/ubuntu/Thesis/Results/JDD_all_users/COP26/data.jld2\")\n",
    "graphs2, cascades2, df2 = load_data(\"/home/ubuntu/Thesis/Results/JDD_all_users/Random/data.jld2\");"
   ]
  },
  {
   "cell_type": "code",
   "execution_count": 4,
   "metadata": {},
   "outputs": [],
   "source": [
    "general_ranks = Metrics.get_general_ranks(COP26, cop_26_dates)\n",
    "centrality_ranks = get_centrality_ranks(graphs, df, 0, \"Any Edge\");"
   ]
  },
  {
   "cell_type": "code",
   "execution_count": null,
   "metadata": {},
   "outputs": [],
   "source": [
    "idx = 3\n",
    "ranking = find_max_ranks(general_ranks[idx], centrality_ranks[idx])\n",
    "show(ranking, allcols=true)\n",
    "\n",
    "a = latexify(ranking, env=:array)\n",
    "print(a)"
   ]
  },
  {
   "cell_type": "code",
   "execution_count": null,
   "metadata": {},
   "outputs": [],
   "source": [
    "plot_correlation_matrices(general_ranks, centrality_ranks, 50, save=true, foldername=\"/home/ubuntu/Thesis/Figures/JDD_all_users/COP26/\")"
   ]
  },
  {
   "cell_type": "code",
   "execution_count": null,
   "metadata": {},
   "outputs": [],
   "source": [
    "edge_type = \"Any Edge\"\n",
    "N_biggest = 20\n",
    "cuttoff = 0\n",
    "\n",
    "between, between_actors = betweenness_centralities(graphs, df, cuttoff=cuttoff, edge_type=edge_type)\n",
    "in_, in_actors = indegree_centralities(graphs, df, cuttoff=cuttoff, edge_type=edge_type)\n",
    "out, out_actors = outdegree_centralities(graphs, df, cuttoff=cuttoff, edge_type=edge_type)\n",
    "\n",
    "between_actors[3][1:N_biggest]"
   ]
  },
  {
   "cell_type": "code",
   "execution_count": null,
   "metadata": {},
   "outputs": [],
   "source": [
    "plot_edge_types([graphs, graphs2], [df, df2], [0,0]; y=\"count_normalized\", hue_order=[\"Before\", \"During\", \"After\", \"Control\"],\n",
    "    save=true, filename=\"/home/ubuntu/Thesis/Figures/JDD_all_users/COP26/edge_type.pdf\", log=true)\n"
   ]
  },
  {
   "cell_type": "code",
   "execution_count": null,
   "metadata": {},
   "outputs": [],
   "source": [
    "plot_actors_per_level(cascades, df, control=cascades2, save=true, filename=\"/home/ubuntu/Thesis/Figures/JDD_all_users/COP26/actor_level.pdf\", inner_spacing=0)\n"
   ]
  },
  {
   "cell_type": "code",
   "execution_count": null,
   "metadata": {},
   "outputs": [],
   "source": [
    "cascades[3]\n",
    "PlotlyJS.plot(plot_cascade_sankey(cascades[3][5], df)...)\n",
    "# PlotlyJS.savefig(PlotlyJS.plot(plot_cascade_sankey(cascades[3][5], df)...), \"/home/ubuntu/Thesis/Figures/JDD_all_users/COP26/cascade.pdf\")"
   ]
  },
  {
   "cell_type": "code",
   "execution_count": null,
   "metadata": {},
   "outputs": [],
   "source": []
  }
 ],
 "metadata": {
  "kernelspec": {
   "display_name": "Julia 1.8.1",
   "language": "julia",
   "name": "julia-1.8"
  },
  "language_info": {
   "file_extension": ".jl",
   "mimetype": "application/julia",
   "name": "julia",
   "version": "1.8.1"
  },
  "orig_nbformat": 4
 },
 "nbformat": 4,
 "nbformat_minor": 2
}
