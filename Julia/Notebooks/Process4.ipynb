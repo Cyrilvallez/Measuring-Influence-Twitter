{
 "cells": [
  {
   "cell_type": "code",
   "execution_count": 1,
   "metadata": {},
   "outputs": [
    {
     "data": {
      "application/vnd.webio.node+json": {
       "children": [],
       "instanceArgs": {
        "namespace": "html",
        "tag": "div"
       },
       "nodeType": "DOM",
       "props": {},
       "type": "node"
      },
      "text/html": [
       "<div style=\"padding: 1em; background-color: #f8d6da; border: 1px solid #f5c6cb; font-weight: bold;\">\n",
       "<p>The WebIO Jupyter extension was not detected. See the\n",
       "<a href=\"https://juliagizmos.github.io/WebIO.jl/latest/providers/ijulia/\" target=\"_blank\">\n",
       "    WebIO Jupyter integration documentation\n",
       "</a>\n",
       "for more information.\n",
       "</div>\n"
      ],
      "text/plain": [
       "WebIO._IJuliaInit()"
      ]
     },
     "metadata": {},
     "output_type": "display_data"
    }
   ],
   "source": [
    "include(\"../Engine/Engine.jl\")\n",
    "using .Engine\n",
    "\n",
    "using StatsBase, DataFrames\n",
    "using Graphs, SimpleWeightedGraphs\n",
    "import PyPlot as plt\n",
    "import Seaborn as sns\n",
    "import PlotlyJS\n",
    "\n",
    "rcParams = plt.PyDict(plt.matplotlib.\"rcParams\")\n",
    "rcParams[\"text.usetex\"] = false\n",
    "rcParams[\"font.family\"] = [\"sans-serif\"]\n",
    "rcParams[\"font.serif\"] = [\"Computer Modern Roman\"];"
   ]
  },
  {
   "cell_type": "code",
   "execution_count": 2,
   "metadata": {},
   "outputs": [],
   "source": [
    "graphs_JDD, cascades_JDD, df_JDD = load_data(\"/home/ubuntu/Thesis/Results/JDD_all_users/COP27/data.jld2\")\n",
    "graphs2_JDD, cascades2_JDD, df2_JDD = load_data(\"/home/ubuntu/Thesis/Results/JDD_all_users/Random/data.jld2\");\n",
    "\n",
    "centrality_ranks_JDD = get_centrality_ranks(graphs_JDD, df_JDD, 0, \"Any Edge\")\n",
    "all_centrality_ranks_JDD = get_centrality_ranks_all_edges(graphs_JDD, df_JDD, 0);"
   ]
  },
  {
   "cell_type": "code",
   "execution_count": 3,
   "metadata": {},
   "outputs": [],
   "source": [
    "graphs_TE, cascades_TE, df_TE = load_data(\"/home/ubuntu/Thesis/Results/TE_all_users/COP27/data.jld2\")\n",
    "graphs2_TE, cascades2_TE, df2_TE = load_data(\"/home/ubuntu/Thesis/Results/TE_all_users/Random/data.jld2\");\n",
    "\n",
    "centrality_ranks_TE = get_centrality_ranks(graphs_TE, df_TE, 0, \"Any Edge\")\n",
    "all_centrality_ranks_TE = get_centrality_ranks_all_edges(graphs_TE, df_TE, 0);"
   ]
  },
  {
   "cell_type": "code",
   "execution_count": 4,
   "metadata": {},
   "outputs": [],
   "source": [
    "general_ranks = get_general_ranks(COP27, cop_27_dates);"
   ]
  },
  {
   "cell_type": "code",
   "execution_count": 7,
   "metadata": {},
   "outputs": [
    {
     "name": "stdout",
     "output_type": "stream",
     "text": [
      "\u001b[1m3×9 DataFrame\u001b[0m\n",
      "\u001b[1m Row \u001b[0m│\u001b[1m partition    \u001b[0m\u001b[1m betweenness_rank_T_to_T \u001b[0m\u001b[1m betweenness_rank_T_to_U \u001b[0m\u001b[1m betweenness_rank_U_to_T \u001b[0m\u001b[1m betweenness_rank_U_to_U \u001b[0m\u001b[1m outdegree_rank_T_to_T \u001b[0m\u001b[1m outdegree_rank_T_to_U \u001b[0m\u001b[1m outdegree_rank_U_to_T \u001b[0m\u001b[1m outdegree_rank_U_to_U \u001b[0m\n",
      "\u001b[1m     \u001b[0m│\u001b[90m Any          \u001b[0m\u001b[90m Any                     \u001b[0m\u001b[90m Any                     \u001b[0m\u001b[90m Any                     \u001b[0m\u001b[90m Any                     \u001b[0m\u001b[90m Any                   \u001b[0m\u001b[90m Any                   \u001b[0m\u001b[90m Any                   \u001b[0m\u001b[90m Any                   \u001b[0m\n",
      "─────┼──────────────────────────────────────────────────────────────────────────────────────────────────────────────────────────────────────────────────────────────────────────────────────────────────────────────\n",
      "   1 │ Before COP27  -                        -                        -                        -                        -                      -                      -                      -\n",
      "   2 │ During COP27  -                        -                        -                        -                        0.12                   -                      -                      -\n",
      "   3 │ After COP27   -                        -                        -                        -                        -                      -                      -                      -"
     ]
    }
   ],
   "source": [
    "corr_JDD_TE = correlation_JDD_TE(all_centrality_ranks_JDD, all_centrality_ranks_TE, 50)\n",
    "show(corr_JDD_TE, allcols=true)"
   ]
  },
  {
   "cell_type": "code",
   "execution_count": null,
   "metadata": {},
   "outputs": [],
   "source": [
    "print(Helpers._latexify2(corr_JDD_TE))"
   ]
  },
  {
   "cell_type": "code",
   "execution_count": null,
   "metadata": {},
   "outputs": [],
   "source": [
    "print(latexify(corr_JDD_TE))"
   ]
  },
  {
   "cell_type": "markdown",
   "metadata": {},
   "source": [
    "# Table general"
   ]
  },
  {
   "cell_type": "code",
   "execution_count": null,
   "metadata": {},
   "outputs": [],
   "source": [
    "general_ranking = find_max_ranks(general_ranks, 10)\n",
    "print(latexify(general_ranking))"
   ]
  },
  {
   "cell_type": "code",
   "execution_count": 6,
   "metadata": {},
   "outputs": [
    {
     "name": "stdout",
     "output_type": "stream",
     "text": [
      "\u001b[1m10×5 DataFrame\u001b[0m\n",
      "\u001b[1m Row \u001b[0m│\u001b[1m partition   \u001b[0m\u001b[1m tweet_rank      \u001b[0m\u001b[1m follower_rank  \u001b[0m\u001b[1m retweet_rank    \u001b[0m\u001b[1m I score_rank    \u001b[0m\n",
      "\u001b[1m     \u001b[0m│\u001b[90m String      \u001b[0m\u001b[90m String          \u001b[0m\u001b[90m String         \u001b[0m\u001b[90m String          \u001b[0m\u001b[90m String          \u001b[0m\n",
      "─────┼────────────────────────────────────────────────────────────────────────────────\n",
      "   1 │ After COP27  great_thunberg   CNN             JunkScience      CarolineLucas\n",
      "   2 │ After COP27  PhydellaLL       nytimes         nytimes          SierraClub\n",
      "   3 │ After COP27  UncleChopperRIP  NatGeo          BjornLomborg     dwallacewells\n",
      "   4 │ After COP27  TopClimateNews   TheEconomist    CarolineLucas    BjornLomborg\n",
      "   5 │ After COP27  indy_climate     Reuters         toadmeister      ProfBillMcGuire\n",
      "   6 │ After COP27  Outside1791      WSJ             ECOWARRIORSS     DocsEnvAus\n",
      "   7 │ After COP27  BlasphemousBan1  washingtonpost  business         LobbyForClimate\n",
      "   8 │ After COP27  Independent      TIME            NewYorker        ProfTerryHughes\n",
      "   9 │ After COP27  matt_syk34       Forbes          UNClimateSummit  BrentToderian\n",
      "  10 │ After COP27  br00t4c          AP              BrentToderian    surfinhambone"
     ]
    }
   ],
   "source": [
    "show(general_ranking[3], allcols=true)"
   ]
  },
  {
   "cell_type": "markdown",
   "metadata": {},
   "source": [
    "# Tables JDD"
   ]
  },
  {
   "cell_type": "code",
   "execution_count": 8,
   "metadata": {},
   "outputs": [
    {
     "name": "stdout",
     "output_type": "stream",
     "text": [
      "\\begin{table}[H]\n",
      "\\centering\n",
      "\\resizebox{\\textwidth}{!}{%\n",
      "\\begin{tabular}{|cc|c|cc|c|cc|}\n",
      "\\cline{1-2} \\cline{4-5} \\cline{7-8}\n",
      "\\multicolumn{2}{|c|}{Before} & \\multirow{10}{*}{} & \\multicolumn{2}{c|}{During} & \\multirow{10}{*}{} & \\multicolumn{2}{c|}{After} \\\\ \\cline{1-2} \\cline{4-5} \\cline{7-8}\n",
      "\\multicolumn{1}{|c|}{outdegree} & betweenness &  & \\multicolumn{1}{|c|}{outdegree} & betweenness &  & \\multicolumn{1}{|c|}{outdegree} & betweenness \\\\ \\cline{1-2} \\cline{4-5} \\cline{7-8}\n",
      "\\multicolumn{1}{|c|}{BurningClock} & BurningClock &  & \\multicolumn{1}{c|}{auto\\_news\\_feed} & Vastuullisuus &  & \\multicolumn{1}{c|}{SafetyPinDaily} & PhydellaLL \\\\\n",
      "\\multicolumn{1}{|c|}{Reuters} & HBreen2 &  & \\multicolumn{1}{c|}{Vastuullisuus} & auto\\_news\\_feed &  & \\multicolumn{1}{c|}{jftaveira1993} & ECOWARRIORSS \\\\\n",
      "\\multicolumn{1}{|c|}{HBreen2} & guardian &  & \\multicolumn{1}{c|}{ECIU\\_UK} & jftaveira1993 &  & \\multicolumn{1}{c|}{DrBobBullard} & BullardCenter \\\\\n",
      "\\multicolumn{1}{|c|}{axios} & tdzarnick &  & \\multicolumn{1}{c|}{Telegraph} & PoliticsKulture &  & \\multicolumn{1}{c|}{AP\\_Climate} & FriendsOScience \\\\\n",
      "\\multicolumn{1}{|c|}{WashTimes} & EarthAccounting &  & \\multicolumn{1}{c|}{Daily\\_Express} & dicklibertyshow &  & \\multicolumn{1}{c|}{TIME} & - \\\\\n",
      "\\multicolumn{1}{|c|}{ConversationEDU} & EveningStandard &  & \\multicolumn{1}{c|}{PoliticsKulture} & TheEconomist &  & \\multicolumn{1}{c|}{indy\\_climate} & - \\\\\n",
      "\\multicolumn{1}{|c|}{tdzarnick} & IEyeOfTheStorm &  & \\multicolumn{1}{c|}{TheEconomist} & Telegraph &  & \\multicolumn{1}{c|}{PhydellaLL} & - \\\\\n",
      "\\multicolumn{1}{|c|}{guardian} & PoliticsKulture &  & \\multicolumn{1}{c|}{TheCanaryUK} & BurningClock &  & \\multicolumn{1}{c|}{k\\_\\_ei} & - \\\\\n",
      "\\multicolumn{1}{|c|}{EarthAccounting} & indy\\_climate &  & \\multicolumn{1}{c|}{BurningClock} & Daily\\_Express &  & \\multicolumn{1}{c|}{BullardCenter} & - \\\\\n",
      "\\multicolumn{1}{|c|}{EveningStandard} & LordGittins &  & \\multicolumn{1}{c|}{dicklibertyshow} & rpujolvives &  & \\multicolumn{1}{c|}{CCLSVN} & - \\\\ \\cline{1-2} \\cline{4-5} \\cline{7-8}\n",
      "\\end{tabular}%\n",
      "}\n",
      "\\caption{}\n",
      "\\label{tab:}\n",
      "\\end{table}\n"
     ]
    }
   ],
   "source": [
    "centrality_ranking_JDD = find_max_ranks(centrality_ranks_JDD, 10)\n",
    "print(latexify(centrality_ranking_JDD))"
   ]
  },
  {
   "cell_type": "code",
   "execution_count": null,
   "metadata": {},
   "outputs": [],
   "source": [
    "show(centrality_ranking_JDD[1], allcols=true)"
   ]
  },
  {
   "cell_type": "code",
   "execution_count": 9,
   "metadata": {},
   "outputs": [
    {
     "name": "stdout",
     "output_type": "stream",
     "text": [
      "\\begin{table}[H]\n",
      "\\centering\n",
      "\\resizebox{\\textwidth}{!}{%\n",
      "\\begin{tabular}{cccccccc}\n",
      "\\hline\n",
      "\\multicolumn{8}{|c|}{Before} \\\\ \\hline\n",
      "\\multicolumn{1}{|c|}{betweenness T-T} & \\multicolumn{1}{c|}{betweenness T-U} & \\multicolumn{1}{c|}{betweenness U-T} & \\multicolumn{1}{c|}{betweenness U-U} & \\multicolumn{1}{c|}{outdegree T-T} & \\multicolumn{1}{c|}{outdegree T-U} & \\multicolumn{1}{c|}{outdegree U-T} & \\multicolumn{1}{c|}{outdegree U-U} \\\\ \\hline\n",
      "\\multicolumn{1}{|c|}{HBreen2} & \\multicolumn{1}{c|}{BurningClock} & \\multicolumn{1}{c|}{-} & \\multicolumn{1}{c|}{-} & \\multicolumn{1}{c|}{BurningClock} & \\multicolumn{1}{c|}{Reuters} & \\multicolumn{1}{c|}{-} & \\multicolumn{1}{c|}{-} \\\\ \n",
      "\\multicolumn{1}{|c|}{tdzarnick} & \\multicolumn{1}{c|}{-} & \\multicolumn{1}{c|}{-} & \\multicolumn{1}{c|}{-} & \\multicolumn{1}{c|}{Reuters} & \\multicolumn{1}{c|}{BurningClock} & \\multicolumn{1}{c|}{-} & \\multicolumn{1}{c|}{-} \\\\ \n",
      "\\multicolumn{1}{|c|}{guardian} & \\multicolumn{1}{c|}{-} & \\multicolumn{1}{c|}{-} & \\multicolumn{1}{c|}{-} & \\multicolumn{1}{c|}{HBreen2} & \\multicolumn{1}{c|}{HBreen2} & \\multicolumn{1}{c|}{-} & \\multicolumn{1}{c|}{-} \\\\ \n",
      "\\multicolumn{1}{|c|}{EarthAccounting} & \\multicolumn{1}{c|}{-} & \\multicolumn{1}{c|}{-} & \\multicolumn{1}{c|}{-} & \\multicolumn{1}{c|}{axios} & \\multicolumn{1}{c|}{guardian} & \\multicolumn{1}{c|}{-} & \\multicolumn{1}{c|}{-} \\\\ \n",
      "\\multicolumn{1}{|c|}{EveningStandard} & \\multicolumn{1}{c|}{-} & \\multicolumn{1}{c|}{-} & \\multicolumn{1}{c|}{-} & \\multicolumn{1}{c|}{WashTimes} & \\multicolumn{1}{c|}{axios} & \\multicolumn{1}{c|}{-} & \\multicolumn{1}{c|}{-} \\\\ \n",
      "\\multicolumn{1}{|c|}{IEyeOfTheStorm} & \\multicolumn{1}{c|}{-} & \\multicolumn{1}{c|}{-} & \\multicolumn{1}{c|}{-} & \\multicolumn{1}{c|}{ConversationEDU} & \\multicolumn{1}{c|}{ConversationEDU} & \\multicolumn{1}{c|}{-} & \\multicolumn{1}{c|}{-} \\\\ \n",
      "\\multicolumn{1}{|c|}{indy\\_climate} & \\multicolumn{1}{c|}{-} & \\multicolumn{1}{c|}{-} & \\multicolumn{1}{c|}{-} & \\multicolumn{1}{c|}{tdzarnick} & \\multicolumn{1}{c|}{EveningStandard} & \\multicolumn{1}{c|}{-} & \\multicolumn{1}{c|}{-} \\\\ \n",
      "\\multicolumn{1}{|c|}{LordGittins} & \\multicolumn{1}{c|}{-} & \\multicolumn{1}{c|}{-} & \\multicolumn{1}{c|}{-} & \\multicolumn{1}{c|}{guardian} & \\multicolumn{1}{c|}{ScotNational} & \\multicolumn{1}{c|}{-} & \\multicolumn{1}{c|}{-} \\\\ \n",
      "\\multicolumn{1}{|c|}{PoliticsKulture} & \\multicolumn{1}{c|}{-} & \\multicolumn{1}{c|}{-} & \\multicolumn{1}{c|}{-} & \\multicolumn{1}{c|}{EarthAccounting} & \\multicolumn{1}{c|}{WashTimes} & \\multicolumn{1}{c|}{-} & \\multicolumn{1}{c|}{-} \\\\ \n",
      "\\multicolumn{1}{|c|}{bullshitjobs} & \\multicolumn{1}{c|}{-} & \\multicolumn{1}{c|}{-} & \\multicolumn{1}{c|}{-} & \\multicolumn{1}{c|}{EveningStandard} & \\multicolumn{1}{c|}{bullshitjobs} & \\multicolumn{1}{c|}{-} & \\multicolumn{1}{c|}{-} \\\\ \\hline\n",
      "\\multicolumn{8}{c}{} \\\\ \\hline\n",
      "\\multicolumn{8}{|c|}{During} \\\\ \\hline\n",
      "\\multicolumn{1}{|c|}{betweenness T-T} & \\multicolumn{1}{c|}{betweenness T-U} & \\multicolumn{1}{c|}{betweenness U-T} & \\multicolumn{1}{c|}{betweenness U-U} & \\multicolumn{1}{c|}{outdegree T-T} & \\multicolumn{1}{c|}{outdegree T-U} & \\multicolumn{1}{c|}{outdegree U-T} & \\multicolumn{1}{c|}{outdegree U-U} \\\\ \\hline\n",
      "\\multicolumn{1}{|c|}{Vastuullisuus} & \\multicolumn{1}{c|}{PoliticsKulture} & \\multicolumn{1}{c|}{-} & \\multicolumn{1}{c|}{-} & \\multicolumn{1}{c|}{auto\\_news\\_feed} & \\multicolumn{1}{c|}{auto\\_news\\_feed} & \\multicolumn{1}{c|}{ArabNewsBiz} & \\multicolumn{1}{c|}{ArabNewsBiz} \\\\ \n",
      "\\multicolumn{1}{|c|}{auto\\_news\\_feed} & \\multicolumn{1}{c|}{rpujolvives} & \\multicolumn{1}{c|}{-} & \\multicolumn{1}{c|}{-} & \\multicolumn{1}{c|}{Vastuullisuus} & \\multicolumn{1}{c|}{Telegraph} & \\multicolumn{1}{c|}{-} & \\multicolumn{1}{c|}{-} \\\\ \n",
      "\\multicolumn{1}{|c|}{jftaveira1993} & \\multicolumn{1}{c|}{-} & \\multicolumn{1}{c|}{-} & \\multicolumn{1}{c|}{-} & \\multicolumn{1}{c|}{ECIU\\_UK} & \\multicolumn{1}{c|}{Vastuullisuus} & \\multicolumn{1}{c|}{-} & \\multicolumn{1}{c|}{-} \\\\ \n",
      "\\multicolumn{1}{|c|}{dicklibertyshow} & \\multicolumn{1}{c|}{-} & \\multicolumn{1}{c|}{-} & \\multicolumn{1}{c|}{-} & \\multicolumn{1}{c|}{Daily\\_Express} & \\multicolumn{1}{c|}{TheCanaryUK} & \\multicolumn{1}{c|}{-} & \\multicolumn{1}{c|}{-} \\\\ \n",
      "\\multicolumn{1}{|c|}{TheEconomist} & \\multicolumn{1}{c|}{-} & \\multicolumn{1}{c|}{-} & \\multicolumn{1}{c|}{-} & \\multicolumn{1}{c|}{PoliticsKulture} & \\multicolumn{1}{c|}{TopClimateNews} & \\multicolumn{1}{c|}{-} & \\multicolumn{1}{c|}{-} \\\\ \n",
      "\\multicolumn{1}{|c|}{BurningClock} & \\multicolumn{1}{c|}{-} & \\multicolumn{1}{c|}{-} & \\multicolumn{1}{c|}{-} & \\multicolumn{1}{c|}{Telegraph} & \\multicolumn{1}{c|}{ECIU\\_UK} & \\multicolumn{1}{c|}{-} & \\multicolumn{1}{c|}{-} \\\\ \n",
      "\\multicolumn{1}{|c|}{Daily\\_Express} & \\multicolumn{1}{c|}{-} & \\multicolumn{1}{c|}{-} & \\multicolumn{1}{c|}{-} & \\multicolumn{1}{c|}{TheEconomist} & \\multicolumn{1}{c|}{Daily\\_Express} & \\multicolumn{1}{c|}{-} & \\multicolumn{1}{c|}{-} \\\\ \n",
      "\\multicolumn{1}{|c|}{PoliticsKulture} & \\multicolumn{1}{c|}{-} & \\multicolumn{1}{c|}{-} & \\multicolumn{1}{c|}{-} & \\multicolumn{1}{c|}{TheCanaryUK} & \\multicolumn{1}{c|}{TheEconomist} & \\multicolumn{1}{c|}{-} & \\multicolumn{1}{c|}{-} \\\\ \n",
      "\\multicolumn{1}{|c|}{Telegraph} & \\multicolumn{1}{c|}{-} & \\multicolumn{1}{c|}{-} & \\multicolumn{1}{c|}{-} & \\multicolumn{1}{c|}{BurningClock} & \\multicolumn{1}{c|}{dicklibertyshow} & \\multicolumn{1}{c|}{-} & \\multicolumn{1}{c|}{-} \\\\ \n",
      "\\multicolumn{1}{|c|}{NahidAlaei} & \\multicolumn{1}{c|}{-} & \\multicolumn{1}{c|}{-} & \\multicolumn{1}{c|}{-} & \\multicolumn{1}{c|}{dicklibertyshow} & \\multicolumn{1}{c|}{PoliticsKulture} & \\multicolumn{1}{c|}{-} & \\multicolumn{1}{c|}{-} \\\\ \\hline\n",
      "\\multicolumn{8}{c}{} \\\\ \\hline\n",
      "\\multicolumn{8}{|c|}{After} \\\\ \\hline\n",
      "\\multicolumn{1}{|c|}{betweenness T-T} & \\multicolumn{1}{c|}{betweenness T-U} & \\multicolumn{1}{c|}{betweenness U-T} & \\multicolumn{1}{c|}{betweenness U-U} & \\multicolumn{1}{c|}{outdegree T-T} & \\multicolumn{1}{c|}{outdegree T-U} & \\multicolumn{1}{c|}{outdegree U-T} & \\multicolumn{1}{c|}{outdegree U-U} \\\\ \\hline\n",
      "\\multicolumn{1}{|c|}{BullardCenter} & \\multicolumn{1}{c|}{-} & \\multicolumn{1}{c|}{-} & \\multicolumn{1}{c|}{-} & \\multicolumn{1}{c|}{SafetyPinDaily} & \\multicolumn{1}{c|}{SafetyPinDaily} & \\multicolumn{1}{c|}{FriendsOScience} & \\multicolumn{1}{c|}{-} \\\\ \n",
      "\\multicolumn{1}{|c|}{PhydellaLL} & \\multicolumn{1}{c|}{-} & \\multicolumn{1}{c|}{-} & \\multicolumn{1}{c|}{-} & \\multicolumn{1}{c|}{jftaveira1993} & \\multicolumn{1}{c|}{PhydellaLL} & \\multicolumn{1}{c|}{-} & \\multicolumn{1}{c|}{-} \\\\ \n",
      "\\multicolumn{1}{|c|}{-} & \\multicolumn{1}{c|}{-} & \\multicolumn{1}{c|}{-} & \\multicolumn{1}{c|}{-} & \\multicolumn{1}{c|}{DrBobBullard} & \\multicolumn{1}{c|}{jftaveira1993} & \\multicolumn{1}{c|}{-} & \\multicolumn{1}{c|}{-} \\\\ \n",
      "\\multicolumn{1}{|c|}{-} & \\multicolumn{1}{c|}{-} & \\multicolumn{1}{c|}{-} & \\multicolumn{1}{c|}{-} & \\multicolumn{1}{c|}{AP\\_Climate} & \\multicolumn{1}{c|}{AP\\_Climate} & \\multicolumn{1}{c|}{-} & \\multicolumn{1}{c|}{-} \\\\ \n",
      "\\multicolumn{1}{|c|}{-} & \\multicolumn{1}{c|}{-} & \\multicolumn{1}{c|}{-} & \\multicolumn{1}{c|}{-} & \\multicolumn{1}{c|}{TIME} & \\multicolumn{1}{c|}{TIME} & \\multicolumn{1}{c|}{-} & \\multicolumn{1}{c|}{-} \\\\ \n",
      "\\multicolumn{1}{|c|}{-} & \\multicolumn{1}{c|}{-} & \\multicolumn{1}{c|}{-} & \\multicolumn{1}{c|}{-} & \\multicolumn{1}{c|}{indy\\_climate} & \\multicolumn{1}{c|}{indy\\_climate} & \\multicolumn{1}{c|}{-} & \\multicolumn{1}{c|}{-} \\\\ \n",
      "\\multicolumn{1}{|c|}{-} & \\multicolumn{1}{c|}{-} & \\multicolumn{1}{c|}{-} & \\multicolumn{1}{c|}{-} & \\multicolumn{1}{c|}{k\\_\\_ei} & \\multicolumn{1}{c|}{BullardCenter} & \\multicolumn{1}{c|}{-} & \\multicolumn{1}{c|}{-} \\\\ \n",
      "\\multicolumn{1}{|c|}{-} & \\multicolumn{1}{c|}{-} & \\multicolumn{1}{c|}{-} & \\multicolumn{1}{c|}{-} & \\multicolumn{1}{c|}{BullardCenter} & \\multicolumn{1}{c|}{DrBobBullard} & \\multicolumn{1}{c|}{-} & \\multicolumn{1}{c|}{-} \\\\ \n",
      "\\multicolumn{1}{|c|}{-} & \\multicolumn{1}{c|}{-} & \\multicolumn{1}{c|}{-} & \\multicolumn{1}{c|}{-} & \\multicolumn{1}{c|}{CCLSVN} & \\multicolumn{1}{c|}{AandNoa} & \\multicolumn{1}{c|}{-} & \\multicolumn{1}{c|}{-} \\\\ \n",
      "\\multicolumn{1}{|c|}{-} & \\multicolumn{1}{c|}{-} & \\multicolumn{1}{c|}{-} & \\multicolumn{1}{c|}{-} & \\multicolumn{1}{c|}{GlobalUnion3} & \\multicolumn{1}{c|}{CCLSVN} & \\multicolumn{1}{c|}{-} & \\multicolumn{1}{c|}{-} \\\\ \\hline\n",
      "\\end{tabular}%\n",
      "}\n",
      "\\caption{}\n",
      "\\label{tab:}\n",
      "\\end{table}\n"
     ]
    }
   ],
   "source": [
    "all_centrality_ranking_JDD = find_max_ranks(all_centrality_ranks_JDD, 10)\n",
    "print(latexify(all_centrality_ranking_JDD))"
   ]
  },
  {
   "cell_type": "code",
   "execution_count": null,
   "metadata": {},
   "outputs": [],
   "source": [
    "show(all_centrality_ranking_JDD[3], allcols=true)"
   ]
  },
  {
   "cell_type": "markdown",
   "metadata": {},
   "source": [
    "# Tables TE"
   ]
  },
  {
   "cell_type": "code",
   "execution_count": 10,
   "metadata": {},
   "outputs": [
    {
     "name": "stdout",
     "output_type": "stream",
     "text": [
      "\\begin{table}[H]\n",
      "\\centering\n",
      "\\resizebox{\\textwidth}{!}{%\n",
      "\\begin{tabular}{|cc|c|cc|c|cc|}\n",
      "\\cline{1-2} \\cline{4-5} \\cline{7-8}\n",
      "\\multicolumn{2}{|c|}{Before} & \\multirow{10}{*}{} & \\multicolumn{2}{c|}{During} & \\multirow{10}{*}{} & \\multicolumn{2}{c|}{After} \\\\ \\cline{1-2} \\cline{4-5} \\cline{7-8}\n",
      "\\multicolumn{1}{|c|}{outdegree} & betweenness &  & \\multicolumn{1}{|c|}{outdegree} & betweenness &  & \\multicolumn{1}{|c|}{outdegree} & betweenness \\\\ \\cline{1-2} \\cline{4-5} \\cline{7-8}\n",
      "\\multicolumn{1}{|c|}{RobotChange} & RobotChange &  & \\multicolumn{1}{c|}{RobotChange} & RobotChange &  & \\multicolumn{1}{c|}{CAROL11959252} & RobotChange \\\\\n",
      "\\multicolumn{1}{|c|}{Surly01} & Reuters &  & \\multicolumn{1}{c|}{empyreanprotoc1} & TopClimateNews &  & \\multicolumn{1}{c|}{RobotChange} & TopClimateNews \\\\\n",
      "\\multicolumn{1}{|c|}{ECIU\\_UK} & TopClimateNews &  & \\multicolumn{1}{c|}{bernieT36} & empyreanprotoc1 &  & \\multicolumn{1}{c|}{empyreanprotoc1} & empyreanprotoc1 \\\\\n",
      "\\multicolumn{1}{|c|}{7adair} & Surly01 &  & \\multicolumn{1}{c|}{GlobalUnion3} & GlobalUnion3 &  & \\multicolumn{1}{c|}{EIA\\_News} & BizSustainably \\\\\n",
      "\\multicolumn{1}{|c|}{newscientist} & GISP\\_Tweets &  & \\multicolumn{1}{c|}{TopClimateNews} & joincurby &  & \\multicolumn{1}{c|}{TopClimateNews} & ClubAdaptation \\\\\n",
      "\\multicolumn{1}{|c|}{margreis9} & GlobalUnion3 &  & \\multicolumn{1}{c|}{SocMedBoost} & FreshElecSolar &  & \\multicolumn{1}{c|}{BizSustainably} & foodandwater \\\\\n",
      "\\multicolumn{1}{|c|}{riv39525750} & brenda\\_spiller &  & \\multicolumn{1}{c|}{JunkScience} & Surly01 &  & \\multicolumn{1}{c|}{maxboykoff} & CAROL11959252 \\\\\n",
      "\\multicolumn{1}{|c|}{mommom\\_dayton} & ecobearwitness &  & \\multicolumn{1}{c|}{AltayErgun} & Robert76907841 &  & \\multicolumn{1}{c|}{brave0nft} & danspena \\\\\n",
      "\\multicolumn{1}{|c|}{GISP\\_Tweets} & AlexWitzleben &  & \\multicolumn{1}{c|}{anamafalda1992} & danspena &  & \\multicolumn{1}{c|}{BMDD10} & GlobalUnion3 \\\\\n",
      "\\multicolumn{1}{|c|}{Reuters} & HBreen2 &  & \\multicolumn{1}{c|}{FreshElecSolar} & JunkScience &  & \\multicolumn{1}{c|}{BernThemAll} & ecobearwitness \\\\ \\cline{1-2} \\cline{4-5} \\cline{7-8}\n",
      "\\end{tabular}%\n",
      "}\n",
      "\\caption{}\n",
      "\\label{tab:}\n",
      "\\end{table}\n"
     ]
    }
   ],
   "source": [
    "centrality_ranking_TE = find_max_ranks(centrality_ranks_TE, 10)\n",
    "print(latexify(centrality_ranking_TE))"
   ]
  },
  {
   "cell_type": "code",
   "execution_count": null,
   "metadata": {},
   "outputs": [],
   "source": [
    "show(centrality_ranking_TE[1], allcols=true)"
   ]
  },
  {
   "cell_type": "code",
   "execution_count": 11,
   "metadata": {},
   "outputs": [
    {
     "name": "stdout",
     "output_type": "stream",
     "text": [
      "\\begin{table}[H]\n",
      "\\centering\n",
      "\\resizebox{\\textwidth}{!}{%\n",
      "\\begin{tabular}{cccccccc}\n",
      "\\hline\n",
      "\\multicolumn{8}{|c|}{Before} \\\\ \\hline\n",
      "\\multicolumn{1}{|c|}{betweenness T-T} & \\multicolumn{1}{c|}{betweenness T-U} & \\multicolumn{1}{c|}{betweenness U-T} & \\multicolumn{1}{c|}{betweenness U-U} & \\multicolumn{1}{c|}{outdegree T-T} & \\multicolumn{1}{c|}{outdegree T-U} & \\multicolumn{1}{c|}{outdegree U-T} & \\multicolumn{1}{c|}{outdegree U-U} \\\\ \\hline\n",
      "\\multicolumn{1}{|c|}{RobotChange} & \\multicolumn{1}{c|}{AnitaTr47909916} & \\multicolumn{1}{c|}{DclareDiane} & \\multicolumn{1}{c|}{WordpeckerUSA} & \\multicolumn{1}{c|}{RobotChange} & \\multicolumn{1}{c|}{TheAusInstitute} & \\multicolumn{1}{c|}{EvrekaCo} & \\multicolumn{1}{c|}{Libertas3127} \\\\ \n",
      "\\multicolumn{1}{|c|}{Surly01} & \\multicolumn{1}{c|}{rdgresident} & \\multicolumn{1}{c|}{sagcast452} & \\multicolumn{1}{c|}{Libertas3127} & \\multicolumn{1}{c|}{Surly01} & \\multicolumn{1}{c|}{Breakingviews} & \\multicolumn{1}{c|}{TheConWom} & \\multicolumn{1}{c|}{GoogeliArt} \\\\ \n",
      "\\multicolumn{1}{|c|}{Reuters} & \\multicolumn{1}{c|}{WeLnever} & \\multicolumn{1}{c|}{cleverativity} & \\multicolumn{1}{c|}{pablothehat} & \\multicolumn{1}{c|}{7adair} & \\multicolumn{1}{c|}{FranklinB51} & \\multicolumn{1}{c|}{SputnikInt} & \\multicolumn{1}{c|}{WordpeckerUSA} \\\\ \n",
      "\\multicolumn{1}{|c|}{TopClimateNews} & \\multicolumn{1}{c|}{RA40489851} & \\multicolumn{1}{c|}{brenda\\_spiller} & \\multicolumn{1}{c|}{SocMedBoost} & \\multicolumn{1}{c|}{ECIU\\_UK} & \\multicolumn{1}{c|}{VenusianAndroid} & \\multicolumn{1}{c|}{Tel22730304} & \\multicolumn{1}{c|}{buffaloon} \\\\ \n",
      "\\multicolumn{1}{|c|}{GlobalUnion3} & \\multicolumn{1}{c|}{ILuvCO2} & \\multicolumn{1}{c|}{sovereigntyeire} & \\multicolumn{1}{c|}{plentyus} & \\multicolumn{1}{c|}{margreis9} & \\multicolumn{1}{c|}{hannah\\_poetin} & \\multicolumn{1}{c|}{Terry93632337} & \\multicolumn{1}{c|}{CGTNGraphics} \\\\ \n",
      "\\multicolumn{1}{|c|}{GISP\\_Tweets} & \\multicolumn{1}{c|}{Unionbuster} & \\multicolumn{1}{c|}{johnaddams2022} & \\multicolumn{1}{c|}{Adyb82176144} & \\multicolumn{1}{c|}{newscientist} & \\multicolumn{1}{c|}{katereggadennis} & \\multicolumn{1}{c|}{billm9} & \\multicolumn{1}{c|}{CarbonBubble} \\\\ \n",
      "\\multicolumn{1}{|c|}{danspena} & \\multicolumn{1}{c|}{Hokahey10} & \\multicolumn{1}{c|}{Carol38553} & \\multicolumn{1}{c|}{EnviroEdgeNews} & \\multicolumn{1}{c|}{GISP\\_Tweets} & \\multicolumn{1}{c|}{AntoniaJuhasz} & \\multicolumn{1}{c|}{stockypig} & \\multicolumn{1}{c|}{SocMedBoost} \\\\ \n",
      "\\multicolumn{1}{|c|}{joincurby} & \\multicolumn{1}{c|}{MC\\_00\\_} & \\multicolumn{1}{c|}{Mikeoflondon} & \\multicolumn{1}{c|}{CGTNEurope} & \\multicolumn{1}{c|}{mommom\\_dayton} & \\multicolumn{1}{c|}{ScotNational} & \\multicolumn{1}{c|}{JavierC10170911} & \\multicolumn{1}{c|}{latimeralder} \\\\ \n",
      "\\multicolumn{1}{|c|}{AAClearinghouse} & \\multicolumn{1}{c|}{Zayphar} & \\multicolumn{1}{c|}{FriendsOScience} & \\multicolumn{1}{c|}{Hedenberg} & \\multicolumn{1}{c|}{seekhopeact} & \\multicolumn{1}{c|}{artworksplus} & \\multicolumn{1}{c|}{MsLisaWilliams} & \\multicolumn{1}{c|}{sagcast452} \\\\ \n",
      "\\multicolumn{1}{|c|}{indy\\_climate} & \\multicolumn{1}{c|}{abraxas1954} & \\multicolumn{1}{c|}{CestAlain} & \\multicolumn{1}{c|}{suehen4941} & \\multicolumn{1}{c|}{ClimateRadio} & \\multicolumn{1}{c|}{rosahhmaria1} & \\multicolumn{1}{c|}{latimeralder} & \\multicolumn{1}{c|}{sharonkgilbert} \\\\ \\hline\n",
      "\\multicolumn{8}{c}{} \\\\ \\hline\n",
      "\\multicolumn{8}{|c|}{During} \\\\ \\hline\n",
      "\\multicolumn{1}{|c|}{betweenness T-T} & \\multicolumn{1}{c|}{betweenness T-U} & \\multicolumn{1}{c|}{betweenness U-T} & \\multicolumn{1}{c|}{betweenness U-U} & \\multicolumn{1}{c|}{outdegree T-T} & \\multicolumn{1}{c|}{outdegree T-U} & \\multicolumn{1}{c|}{outdegree U-T} & \\multicolumn{1}{c|}{outdegree U-U} \\\\ \\hline\n",
      "\\multicolumn{1}{|c|}{RobotChange} & \\multicolumn{1}{c|}{TaraYarla} & \\multicolumn{1}{c|}{psworldwide2023} & \\multicolumn{1}{c|}{AsliBasakYildiz} & \\multicolumn{1}{c|}{RobotChange} & \\multicolumn{1}{c|}{AmyMacKinnon} & \\multicolumn{1}{c|}{MsLisaWilliams} & \\multicolumn{1}{c|}{AsliBasakYildiz} \\\\ \n",
      "\\multicolumn{1}{|c|}{TopClimateNews} & \\multicolumn{1}{c|}{GarretLebois} & \\multicolumn{1}{c|}{DclareDiane} & \\multicolumn{1}{c|}{eampact} & \\multicolumn{1}{c|}{bernieT36} & \\multicolumn{1}{c|}{fourzeesmom} & \\multicolumn{1}{c|}{ArabNewsBiz} & \\multicolumn{1}{c|}{BillSparow1} \\\\ \n",
      "\\multicolumn{1}{|c|}{GlobalUnion3} & \\multicolumn{1}{c|}{AsliBasakYildiz} & \\multicolumn{1}{c|}{empyreanprotoc1} & \\multicolumn{1}{c|}{MarkoGreen80} & \\multicolumn{1}{c|}{GlobalUnion3} & \\multicolumn{1}{c|}{tess\\_woolfenden} & \\multicolumn{1}{c|}{PatriciaHoldin2} & \\multicolumn{1}{c|}{FunnyGu31492803} \\\\ \n",
      "\\multicolumn{1}{|c|}{joincurby} & \\multicolumn{1}{c|}{bobhillbrain} & \\multicolumn{1}{c|}{coastriskcanada} & \\multicolumn{1}{c|}{SANDALIOCARMONA} & \\multicolumn{1}{c|}{empyreanprotoc1} & \\multicolumn{1}{c|}{LBCNews} & \\multicolumn{1}{c|}{Opportu727272} & \\multicolumn{1}{c|}{cappelletti\\_n8} \\\\ \n",
      "\\multicolumn{1}{|c|}{FreshElecSolar} & \\multicolumn{1}{c|}{psworldwide2023} & \\multicolumn{1}{c|}{bluwndzdancing} & \\multicolumn{1}{c|}{GraviolaDOTfi} & \\multicolumn{1}{c|}{SocMedBoost} & \\multicolumn{1}{c|}{ZSchneeweiss} & \\multicolumn{1}{c|}{MelanieAlex62} & \\multicolumn{1}{c|}{MarkoGreen80} \\\\ \n",
      "\\multicolumn{1}{|c|}{empyreanprotoc1} & \\multicolumn{1}{c|}{NewaiGreen} & \\multicolumn{1}{c|}{BigScuba99} & \\multicolumn{1}{c|}{FFF\\_Jour} & \\multicolumn{1}{c|}{AltayErgun} & \\multicolumn{1}{c|}{andy\\_webbo} & \\multicolumn{1}{c|}{WayneGabler} & \\multicolumn{1}{c|}{MelanieAlex62} \\\\ \n",
      "\\multicolumn{1}{|c|}{danspena} & \\multicolumn{1}{c|}{cappelletti\\_n8} & \\multicolumn{1}{c|}{AsliBasakYildiz} & \\multicolumn{1}{c|}{Michael27174882} & \\multicolumn{1}{c|}{TopClimateNews} & \\multicolumn{1}{c|}{dw\\_environment} & \\multicolumn{1}{c|}{empyreanprotoc1} & \\multicolumn{1}{c|}{Michael27174882} \\\\ \n",
      "\\multicolumn{1}{|c|}{Robert76907841} & \\multicolumn{1}{c|}{CX3PSocial} & \\multicolumn{1}{c|}{SyedaShabanaAsh} & \\multicolumn{1}{c|}{Opportu727272} & \\multicolumn{1}{c|}{JunkScience} & \\multicolumn{1}{c|}{heather09353201} & \\multicolumn{1}{c|}{AsliBasakYildiz} & \\multicolumn{1}{c|}{kcjw33} \\\\ \n",
      "\\multicolumn{1}{|c|}{drogon\\_dracarys} & \\multicolumn{1}{c|}{Hotel14f} & \\multicolumn{1}{c|}{gupdiver} & \\multicolumn{1}{c|}{RossSilverstar} & \\multicolumn{1}{c|}{anamafalda1992} & \\multicolumn{1}{c|}{Andy\\_Olsen} & \\multicolumn{1}{c|}{GrabienMedia} & \\multicolumn{1}{c|}{CCGevirtz} \\\\ \n",
      "\\multicolumn{1}{|c|}{MrMatthewTodd} & \\multicolumn{1}{c|}{BigScuba99} & \\multicolumn{1}{c|}{bobhillbrain} & \\multicolumn{1}{c|}{InkICan} & \\multicolumn{1}{c|}{FreshElecSolar} & \\multicolumn{1}{c|}{ClimateTreaty} & \\multicolumn{1}{c|}{arabnews} & \\multicolumn{1}{c|}{Confederate2014} \\\\ \\hline\n",
      "\\multicolumn{8}{c}{} \\\\ \\hline\n",
      "\\multicolumn{8}{|c|}{After} \\\\ \\hline\n",
      "\\multicolumn{1}{|c|}{betweenness T-T} & \\multicolumn{1}{c|}{betweenness T-U} & \\multicolumn{1}{c|}{betweenness U-T} & \\multicolumn{1}{c|}{betweenness U-U} & \\multicolumn{1}{c|}{outdegree T-T} & \\multicolumn{1}{c|}{outdegree T-U} & \\multicolumn{1}{c|}{outdegree U-T} & \\multicolumn{1}{c|}{outdegree U-U} \\\\ \\hline\n",
      "\\multicolumn{1}{|c|}{RobotChange} & \\multicolumn{1}{c|}{yportbill} & \\multicolumn{1}{c|}{yportbill} & \\multicolumn{1}{c|}{queenb\\_wiov} & \\multicolumn{1}{c|}{CAROL11959252} & \\multicolumn{1}{c|}{Construonetwork} & \\multicolumn{1}{c|}{brave0nft} & \\multicolumn{1}{c|}{cappelletti\\_n8} \\\\ \n",
      "\\multicolumn{1}{|c|}{TopClimateNews} & \\multicolumn{1}{c|}{Bob12151959Bob} & \\multicolumn{1}{c|}{FloridaIssues} & \\multicolumn{1}{c|}{Gjallarhornet} & \\multicolumn{1}{c|}{RobotChange} & \\multicolumn{1}{c|}{HeatherAnne524} & \\multicolumn{1}{c|}{OrwellsRevenge} & \\multicolumn{1}{c|}{UsBurning} \\\\ \n",
      "\\multicolumn{1}{|c|}{ClubAdaptation} & \\multicolumn{1}{c|}{brenda\\_spiller} & \\multicolumn{1}{c|}{Bigmoe16574013} & \\multicolumn{1}{c|}{NoahJamesBangs} & \\multicolumn{1}{c|}{empyreanprotoc1} & \\multicolumn{1}{c|}{leonpui\\_} & \\multicolumn{1}{c|}{KieckCarl} & \\multicolumn{1}{c|}{Bob12151959Bob} \\\\ \n",
      "\\multicolumn{1}{|c|}{foodandwater} & \\multicolumn{1}{c|}{empyreanprotoc1} & \\multicolumn{1}{c|}{\\_financiallaws} & \\multicolumn{1}{c|}{Thorne75658284} & \\multicolumn{1}{c|}{BizSustainably} & \\multicolumn{1}{c|}{CAROL11959252} & \\multicolumn{1}{c|}{arizman2} & \\multicolumn{1}{c|}{Dlw20161950} \\\\ \n",
      "\\multicolumn{1}{|c|}{BizSustainably} & \\multicolumn{1}{c|}{RealKSridharan} & \\multicolumn{1}{c|}{realTuckFrumper} & \\multicolumn{1}{c|}{MelanesianWomen} & \\multicolumn{1}{c|}{EIA\\_News} & \\multicolumn{1}{c|}{CleanAirUK} & \\multicolumn{1}{c|}{FriendsOScience} & \\multicolumn{1}{c|}{Thorne75658284} \\\\ \n",
      "\\multicolumn{1}{|c|}{danspena} & \\multicolumn{1}{c|}{AlanDix44633097} & \\multicolumn{1}{c|}{RealKSridharan} & \\multicolumn{1}{c|}{mannpersonalas1} & \\multicolumn{1}{c|}{natty4bumpo} & \\multicolumn{1}{c|}{Franco931723205} & \\multicolumn{1}{c|}{ntesdorf} & \\multicolumn{1}{c|}{jujuone12} \\\\ \n",
      "\\multicolumn{1}{|c|}{empyreanprotoc1} & \\multicolumn{1}{c|}{Taslim\\_Reza1} & \\multicolumn{1}{c|}{gc22gc} & \\multicolumn{1}{c|}{Bob12151959Bob} & \\multicolumn{1}{c|}{BMDD10} & \\multicolumn{1}{c|}{Sophiakeijzer} & \\multicolumn{1}{c|}{peta} & \\multicolumn{1}{c|}{worldnetdaily} \\\\ \n",
      "\\multicolumn{1}{|c|}{GlobalUnion3} & \\multicolumn{1}{c|}{\\_OfficialECI} & \\multicolumn{1}{c|}{Juliett59778255} & \\multicolumn{1}{c|}{Chris\\_1791} & \\multicolumn{1}{c|}{BernThemAll} & \\multicolumn{1}{c|}{Taslim\\_Reza1} & \\multicolumn{1}{c|}{cgtnamerica} & \\multicolumn{1}{c|}{Bigmoe16574013} \\\\ \n",
      "\\multicolumn{1}{|c|}{PhydellaLL} & \\multicolumn{1}{c|}{heather\\_cynical} & \\multicolumn{1}{c|}{OrwellsRevenge} & \\multicolumn{1}{c|}{LarryNeufeldSK} & \\multicolumn{1}{c|}{CaplanComms} & \\multicolumn{1}{c|}{ZimmerMar68} & \\multicolumn{1}{c|}{BruceNo40418166} & \\multicolumn{1}{c|}{CaffeineGuy1} \\\\ \n",
      "\\multicolumn{1}{|c|}{CleanAirMoms} & \\multicolumn{1}{c|}{EarthAccounting} & \\multicolumn{1}{c|}{TopClimateNews} & \\multicolumn{1}{c|}{AllthingsWW2Kg} & \\multicolumn{1}{c|}{TopClimateNews} & \\multicolumn{1}{c|}{cambskeptics} & \\multicolumn{1}{c|}{mikekirbyone} & \\multicolumn{1}{c|}{ClimateSt} \\\\ \\hline\n",
      "\\end{tabular}%\n",
      "}\n",
      "\\caption{}\n",
      "\\label{tab:}\n",
      "\\end{table}\n"
     ]
    }
   ],
   "source": [
    "all_centrality_ranking_TE = find_max_ranks(all_centrality_ranks_TE, 10)\n",
    "print(latexify(all_centrality_ranking_TE))"
   ]
  },
  {
   "cell_type": "code",
   "execution_count": null,
   "metadata": {},
   "outputs": [],
   "source": [
    "show(all_centrality_ranking_TE[1], allcols=true)"
   ]
  },
  {
   "cell_type": "markdown",
   "metadata": {},
   "source": [
    "# Correlation matrices"
   ]
  },
  {
   "cell_type": "code",
   "execution_count": null,
   "metadata": {},
   "outputs": [],
   "source": [
    "plot_correlation_matrices(general_ranks, centrality_ranks_JDD, 50, save=true, foldername=\"/home/ubuntu/Thesis/Figures/COP27/JDD_all_users/\");"
   ]
  },
  {
   "cell_type": "code",
   "execution_count": null,
   "metadata": {},
   "outputs": [],
   "source": [
    "plot_correlation_matrices(general_ranks, centrality_ranks_TE, 50, save=true, foldername=\"/home/ubuntu/Thesis/Figures/COP27/TE_all_users/\");"
   ]
  },
  {
   "cell_type": "markdown",
   "metadata": {},
   "source": [
    "# Edge types"
   ]
  },
  {
   "cell_type": "code",
   "execution_count": null,
   "metadata": {},
   "outputs": [],
   "source": [
    "plot_edge_types([graphs_JDD, graphs2_JDD], [df_JDD, df2_JDD], [0, 0]; y=\"count\", hue_order=[\"Before\", \"During\", \"After\", \"Control\"],\n",
    "    save=true, filename=\"/home/ubuntu/Thesis/Figures/COP27/JDD_all_users/edge_type_count.pdf\", log=true);"
   ]
  },
  {
   "cell_type": "code",
   "execution_count": null,
   "metadata": {},
   "outputs": [],
   "source": [
    "plot_edge_types([graphs_TE, graphs2_TE], [df_TE, df2_TE], [0, 0]; y=\"count\", hue_order=[\"Before\", \"During\", \"After\", \"Control\"],\n",
    "    save=true, filename=\"/home/ubuntu/Thesis/Figures/COP27/TE_all_users/edge_type_count.pdf\", log=true);"
   ]
  },
  {
   "cell_type": "code",
   "execution_count": null,
   "metadata": {},
   "outputs": [],
   "source": [
    "plot_edge_types([graphs_JDD, graphs2_JDD], [df_JDD, df2_JDD], [0, 0]; y=\"count_normalized\", hue_order=[\"Before\", \"During\", \"After\", \"Control\"],\n",
    "    save=true, filename=\"/home/ubuntu/Thesis/Figures/COP27/JDD_all_users/edge_type.pdf\", log=false);"
   ]
  },
  {
   "cell_type": "code",
   "execution_count": null,
   "metadata": {},
   "outputs": [],
   "source": [
    "plot_edge_types([graphs_TE, graphs2_TE], [df_TE, df2_TE], [0, 0]; y=\"count_normalized\", hue_order=[\"Before\", \"During\", \"After\", \"Control\"],\n",
    "    save=true, filename=\"/home/ubuntu/Thesis/Figures/COP27/TE_all_users/edge_type.pdf\", log=false);"
   ]
  },
  {
   "cell_type": "markdown",
   "metadata": {},
   "source": [
    "# Cascades reach"
   ]
  },
  {
   "cell_type": "code",
   "execution_count": null,
   "metadata": {},
   "outputs": [],
   "source": [
    "plot_actors_per_level(cascades_JDD, df_JDD, control=cascades2_JDD, save=true, filename=\"/home/ubuntu/Thesis/Figures/COP27/JDD_all_users/actor_level.pdf\", inner_spacing=0);"
   ]
  },
  {
   "cell_type": "code",
   "execution_count": null,
   "metadata": {},
   "outputs": [],
   "source": [
    "plot_actors_per_level(cascades_TE, df_TE, control=cascades2_TE, save=true, filename=\"/home/ubuntu/Thesis/Figures/COP27/TE_all_users/actor_level.pdf\", inner_spacing=0);"
   ]
  },
  {
   "cell_type": "markdown",
   "metadata": {},
   "source": [
    "# Cascades"
   ]
  },
  {
   "cell_type": "code",
   "execution_count": null,
   "metadata": {},
   "outputs": [],
   "source": [
    "cascades[3]\n",
    "PlotlyJS.plot(plot_cascade_sankey(cascades[3][6], df)...)\n",
    "# PlotlyJS.savefig(PlotlyJS.plot(plot_cascade_sankey(cascades[3][5], df)...), \"/home/ubuntu/Thesis/Figures/COP27/TE_all_users/cascade.pdf\")"
   ]
  },
  {
   "cell_type": "code",
   "execution_count": null,
   "metadata": {},
   "outputs": [],
   "source": []
  }
 ],
 "metadata": {
  "kernelspec": {
   "display_name": "Julia 1.8.1",
   "language": "julia",
   "name": "julia-1.8"
  },
  "language_info": {
   "file_extension": ".jl",
   "mimetype": "application/julia",
   "name": "julia",
   "version": "1.8.1"
  },
  "orig_nbformat": 4
 },
 "nbformat": 4,
 "nbformat_minor": 2
}
