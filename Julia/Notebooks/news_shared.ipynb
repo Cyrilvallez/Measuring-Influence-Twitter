{
 "cells": [
  {
   "cell_type": "code",
   "execution_count": 73,
   "metadata": {},
   "outputs": [
    {
     "name": "stderr",
     "output_type": "stream",
     "text": [
      "WARNING: replacing module Engine.\n",
      "WARNING: using Engine.PreProcessing in module Main conflicts with an existing identifier.\n"
     ]
    }
   ],
   "source": [
    "include(\"../Engine/Engine.jl\")\n",
    "using .Engine\n",
    "\n",
    "using StatsBase, DataFrames, CSV\n",
    "using JSON, Dates\n",
    "using DataStructures\n",
    "import PyPlot as plt\n",
    "import Seaborn as sns"
   ]
  },
  {
   "cell_type": "code",
   "execution_count": 74,
   "metadata": {},
   "outputs": [],
   "source": [
    "df = load_dataset(COP26)\n",
    "df = cop_26_dates(df)\n",
    "df = trust_score(df)\n",
    "f, _ = all_users()\n",
    "df = f(df);"
   ]
  },
  {
   "cell_type": "code",
   "execution_count": 75,
   "metadata": {},
   "outputs": [],
   "source": [
    "df_during = df[df.partition .== \"During COP26\", :]\n",
    "df_during = df_during[df_during.action .== \"U\", :]\n",
    "\n",
    "\n",
    "users_JDD_during = [\"globaltimesnews\", \"MSNBC\", \"PepperInVegas\", \"CGTNOfficial\", \"Chris_1791\"]\n",
    "df_JDD_during = df_during[in.(df_during.username, Ref(users_JDD_during)), :]\n",
    "users_TE_during = [\"delmartian4\", \"AdoreUSAalways\", \"JJDJ1187\", \"TheRebeluniter\", \"TimMelino\"]\n",
    "df_TE_during = df_during[in.(df_during.username, Ref(users_TE_during)), :];"
   ]
  },
  {
   "cell_type": "code",
   "execution_count": 76,
   "metadata": {},
   "outputs": [],
   "source": [
    "datafolder = \"/Users/cyrilvallez/Desktop/Thesis/Data/Twitter/COP26_processed\"\n",
    "files = [file for file in readdir(datafolder, join=true) if occursin(\".json\", file)]\n",
    "\n",
    "\n",
    "function remap(files, df1, df2)\n",
    "\n",
    "    to_datetime = x -> DateTime(split(x, '.')[1], \"yyyy-mm-ddTHH:MM:SS\")\n",
    "    df1_full_urls = [[] for i = 1:length(df1[!,1])]\n",
    "    df2_full_urls = [[] for i = 1:length(df2[!,1])]\n",
    "\n",
    "    for file in files\n",
    "\n",
    "        for line in eachline(file)\n",
    "\n",
    "            dic = JSON.parse(line, null=missing)\n",
    "            dic[\"created_at\"] = to_datetime(dic[\"created_at\"])\n",
    "\n",
    "            index1 = findfirst(dic[\"created_at\"] .== df1.created_at)\n",
    "            if !isnothing(index1)\n",
    "                if dic[\"username\"] == df1[index1, \"username\"] && dic[\"domain\"] == df1[index1, \"domain\"] && dic[\"sentiment\"] == df1[index1, \"sentiment\"] \n",
    "                    df1_full_urls[index1] = dic[\"urls\"]\n",
    "                end\n",
    "            end\n",
    "\n",
    "            index2 = findfirst(dic[\"created_at\"] .== df2.created_at)\n",
    "            if !isnothing(index2)\n",
    "                if dic[\"username\"] == df2[index2, \"username\"] && dic[\"domain\"] == df2[index2, \"domain\"] && dic[\"sentiment\"] == df2[index2, \"sentiment\"] \n",
    "                    df2_full_urls[index2] = dic[\"urls\"]\n",
    "                end\n",
    "            end\n",
    "\n",
    "        end\n",
    "\n",
    "    end\n",
    "                    \n",
    "    df1.urls = df1_full_urls\n",
    "    df2.urls = df2_full_urls\n",
    "\n",
    "    return df1, df2\n",
    "\n",
    "end\n",
    "\n",
    "\n",
    "df_JDD_during, df_TE_during = remap(files, df_JDD_during, df_TE_during);"
   ]
  },
  {
   "cell_type": "code",
   "execution_count": 77,
   "metadata": {},
   "outputs": [],
   "source": [
    "news = CSV.read(PreProcessing.FULL_NEWSGUARD_TABLE, DataFrame, header=1)\n",
    "\n",
    "function effective_domain_and_urls(df, news_outlet::DataFrame)\n",
    "\n",
    "    effective_domain = String[\"0\" for i = 1:length(df[!,1])]\n",
    "    effective_url = String[\"0\" for i = 1:length(df[!,1])]\n",
    "    \n",
    "    for (i, domains) in enumerate(df.domain)\n",
    "\n",
    "        for (j, domain) in enumerate(domains)\n",
    "            index = findfirst(domain .== news_outlet.\"domain\")\n",
    "            if !isnothing(index)\n",
    "                effective_domain[i] = domain\n",
    "                effective_url[i] = df.urls[i][j]\n",
    "            end\n",
    "        end\n",
    "\n",
    "\tend\n",
    "\n",
    "    df.effective_domain = effective_domain\n",
    "    df.effective_url = effective_url\n",
    "\n",
    "    return df\n",
    "\n",
    "end\n",
    "\n",
    "\n",
    "function effective_domain(df, news_outlet::DataFrame)\n",
    "\n",
    "    effective_domain = String[\"0\" for i = 1:length(df[!,1])]\n",
    "    \n",
    "    for (i, domains) in enumerate(df.domain)\n",
    "\n",
    "        for (j, domain) in enumerate(domains)\n",
    "            index = findfirst(domain .== news_outlet.\"domain\")\n",
    "            if !isnothing(index)\n",
    "                effective_domain[i] = domain\n",
    "            end\n",
    "        end\n",
    "\n",
    "\tend\n",
    "\n",
    "    df.effective_domain = effective_domain\n",
    "\n",
    "    return df\n",
    "\n",
    "end\n",
    "\n",
    "df_during = effective_domain(df_during, news)\n",
    "df_JDD_during = effective_domain_and_urls(df_JDD_during, news)\n",
    "df_TE_during = effective_domain_and_urls(df_TE_during, news);"
   ]
  },
  {
   "cell_type": "code",
   "execution_count": 78,
   "metadata": {},
   "outputs": [
    {
     "data": {
      "text/plain": [
       "33-element Vector{String}:\n",
       " \"https://www.thegatewaypundit.co\" ⋯ 197 bytes ⋯ \"campaign=websitesharingbuttons\"\n",
       " \"https://www.thegatewaypundit.co\" ⋯ 129 bytes ⋯ \"campaign=websitesharingbuttons\"\n",
       " \"https://www.thegatewaypundit.co\" ⋯ 163 bytes ⋯ \"campaign=websitesharingbuttons\"\n",
       " \"https://www.thegatewaypundit.co\" ⋯ 158 bytes ⋯ \"campaign=websitesharingbuttons\"\n",
       " \"https://www.foxnews.com/science\" ⋯ 26 bytes ⋯ \"-impact-world-crops-next-decade\"\n",
       " \"https://www.foxnews.com/politic\" ⋯ 58 bytes ⋯ \"sions-transport-glasgow-climate\"\n",
       " \"https://www.thegatewaypundit.co\" ⋯ 163 bytes ⋯ \"campaign=websitesharingbuttons\"\n",
       " \"https://www.foxnews.com/media/j\" ⋯ 18 bytes ⋯ \"leep-climate-summit-media-trump\"\n",
       " \"https://www.foxnews.com/media/j\" ⋯ 23 bytes ⋯ \"change-summit-falls-asleep-the-\"\n",
       " \"https://www.foxnews.com/politic\" ⋯ 23 bytes ⋯ \"t-glasgow-climate-change-summit\"\n",
       " \"https://www.foxnews.com/politic\" ⋯ 23 bytes ⋯ \"t-glasgow-climate-change-summit\"\n",
       " \"https://www.thegatewaypundit.co\" ⋯ 197 bytes ⋯ \"campaign=websitesharingbuttons\"\n",
       " \"https://www.breitbart.com/polit\" ⋯ 60 bytes ⋯ \"e-during-climate-change-summit/\"\n",
       " ⋮\n",
       " \"https://www.foxnews.com/media/biden-appears-nod-off-during-climate-speech\"\n",
       " \"https://www.thegatewaypundit.co\" ⋯ 162 bytes ⋯ \"campaign=websitesharingbuttons\"\n",
       " \"https://www.foxnews.com/media/n\" ⋯ 23 bytes ⋯ \"ate-summit-nothing-accomplished\"\n",
       " \"https://www.foxnews.com/media/n\" ⋯ 19 bytes ⋯ \"limate-change-hypocrisy-madness\"\n",
       " \"https://www.foxnews.com/politic\" ⋯ 29 bytes ⋯ \"emissions-un-climate-conference\"\n",
       " \"https://www.foxnews.com/politic\" ⋯ 19 bytes ⋯ \"te-house-glasgow-climate-summit\"\n",
       " \"https://www.foxnews.com/opinion\" ⋯ 40 bytes ⋯ \"pending-spree-sen-john-barrasso\"\n",
       " \"https://www.foxnews.com/politic\" ⋯ 57 bytes ⋯ \"claim-he-tried-to-run-them-over\"\n",
       " \"https://www.foxnews.com/world/china-mocks-biden-climate-summit-apology\"\n",
       " \"https://www.foxnews.com/politic\" ⋯ 43 bytes ⋯ \"china-more-drilling-competitive\"\n",
       " \"https://www.foxnews.com/politic\" ⋯ 79 bytes ⋯ \"on-future-pandemic-preparedness\"\n",
       " \"https://www.foxnews.com/politic\" ⋯ 41 bytes ⋯ \"ts-over-meat-and-fish-selection\""
      ]
     },
     "execution_count": 78,
     "metadata": {},
     "output_type": "execute_result"
    }
   ],
   "source": [
    "domains_JDD = df_JDD_during.effective_domain\n",
    "domains_TE = df_TE_during.effective_domain\n",
    "\n",
    "countmap_JDD = countmap(domains_JDD)\n",
    "countmap_TE = countmap(domains_TE)\n",
    "\n",
    "\n",
    "urls_JDD = df_JDD_during.effective_url\n",
    "urls_TE = df_TE_during.effective_url"
   ]
  },
  {
   "cell_type": "code",
   "execution_count": 79,
   "metadata": {},
   "outputs": [
    {
     "data": {
      "text/plain": [
       "OrderedDict{String, String} with 4 entries:\n",
       "  \"tab:red\"    => \"China affiliated\"\n",
       "  \"tab:orange\" => \"US far right\"\n",
       "  \"tab:purple\" => \"far right\"\n",
       "  \"tab:green\"  => \"other\""
      ]
     },
     "execution_count": 79,
     "metadata": {},
     "output_type": "execute_result"
    }
   ],
   "source": [
    "colormap = OrderedDict(\n",
    "    \"msnbc.com\" => \"tab:green\",\n",
    "    \"thegatewaypundit.com\" => \"tab:orange\",\n",
    "    \"zerohedge.com\" => \"tab:purple\",\n",
    "    \"foxnews.com\" => \"tab:green\",\n",
    "    \"breitbart.com\" => \"tab:orange\",\n",
    "    \"globaltimes.cn\" => \"tab:red\",\n",
    "    \"cgtn.com\" => \"tab:red\",\n",
    "    \"beckernews.com\" => \"tab:green\"\n",
    ")\n",
    "\n",
    "politicmap = OrderedDict(\n",
    "    \"tab:red\" => \"China affiliated\",\n",
    "    \"tab:orange\" => \"US far right\",\n",
    "    \"tab:purple\" => \"far right\",\n",
    "    \"tab:green\" => \"other\",\n",
    ")"
   ]
  },
  {
   "cell_type": "code",
   "execution_count": 82,
   "metadata": {},
   "outputs": [
    {
     "data": {
      "image/png": "[encoded data removed]",
      "text/plain": [
       "PyPlot.Figure(PyObject <Figure size 640x480 with 1 Axes>)"
      ]
     },
     "metadata": {},
     "output_type": "display_data"
    }
   ],
   "source": [
    "colors_JDD = [colormap[domain] for domain in keys(countmap_JDD)]\n",
    "legend_elements = [plt.matplotlib.patches.Patch(facecolor=color, label=politicmap[color]) for color in keys(politicmap) if color in unique(colors_JDD)]\n",
    "\n",
    "\n",
    "indices = sortperm(collect(values(countmap_JDD)), rev=false)\n",
    "vals = collect(values(countmap_JDD))[indices]\n",
    "names = collect(keys(countmap_JDD))[indices]\n",
    "colors_JDD = colors_JDD[indices]\n",
    "\n",
    "plt.figure()\n",
    "plt.barh(1:length(countmap_JDD), vals, color=colors_JDD)\n",
    "plt.xlabel(\"Number of tweets\")\n",
    "plt.ylabel(\"News sources\")\n",
    "plt.legend(handles=legend_elements, loc=\"best\")\n",
    "plt.yticks(1:length(countmap_JDD), names)\n",
    "lims = plt.xlim()\n",
    "# plt.savefig(\"/Users/cyrilvallez/Desktop/Thesis/Figures/news_source_study/JDD_COP_26_during.pdf\", bbox_inches=\"tight\");\n",
    "\n"
   ]
  },
  {
   "cell_type": "code",
   "execution_count": 83,
   "metadata": {},
   "outputs": [
    {
     "data": {
      "image/png": "[encoded data removed]",
      "text/plain": [
       "PyPlot.Figure(PyObject <Figure size 640x274.286 with 1 Axes>)"
      ]
     },
     "metadata": {},
     "output_type": "display_data"
    }
   ],
   "source": [
    "colors_TE = [colormap[domain] for domain in keys(countmap_TE)]\n",
    "legend_elements = [plt.matplotlib.patches.Patch(facecolor=color, label=politicmap[color]) for color in keys(politicmap) if color in unique(colors_TE)]\n",
    "\n",
    "\n",
    "indices = sortperm(collect(values(countmap_TE)), rev=false)\n",
    "vals = collect(values(countmap_TE))[indices]\n",
    "names = collect(keys(countmap_TE))[indices]\n",
    "colors_TE = colors_TE[indices]\n",
    "\n",
    "\n",
    "plt.figure(figsize=(6.4, 4.8*4/7))\n",
    "plt.barh(1:length(countmap_TE), vals, color=colors_TE)\n",
    "plt.xlabel(\"Number of tweets\")\n",
    "plt.ylabel(\"News sources\")\n",
    "plt.legend(handles=legend_elements, loc=\"best\")\n",
    "plt.yticks(1:length(countmap_TE), names)\n",
    "plt.xlim(lims)\n",
    "# plt.savefig(\"/Users/cyrilvallez/Desktop/Thesis/Figures/news_source_study/TE_COP_26_during.pdf\", bbox_inches=\"tight\");"
   ]
  },
  {
   "cell_type": "code",
   "execution_count": 72,
   "metadata": {},
   "outputs": [
    {
     "name": "stdout",
     "output_type": "stream",
     "text": [
      "[\"https://www.thegatewaypundit.com/2021/11/biden-insists-surging-gas-prices-caused-green-new-deal-policies-reason-double-green-energy-disastrous-climate-change-speech-video/?utm_source=Twitter&utm_medium=PostTopSharingButtons&utm_campaign=websitesharingbuttons\", \"https://www.thegatewaypundit.com/2021/11/bidens-build-back-better-includes-2-25-billion-climate-police/?utm_source=Twitter&utm_medium=PostTopSharingButtons&utm_campaign=websitesharingbuttons\", \"https://www.thegatewaypundit.com/2021/11/lost-exhausted-joe-biden-checks-watch-boris-johnson-concludes-remarks-global-warming-conference/?utm_source=Twitter&utm_medium=PostTopSharingButtons&utm_campaign=websitesharingbuttons\", \"https://www.thegatewaypundit.com/2021/11/climate-activist-joe-biden-brings-85-car-caravan-talk-threat-global-warming-scotland-video/?utm_source=Twitter&utm_medium=PostTopSharingButtons&utm_campaign=websitesharingbuttons\", \"https://www.thegatewaypundit.com/2021/10/breaking-archbishop-vigano-chastises-pope-calling-joe-biden-good-catholic-aligning-church-lynn-forester-de-rothschild-others-pushing-climate-change-world-depopulation/?utm_source=Twitter&utm_medium=PostTopSharingButtons&utm_campaign=websitesharingbuttons\", \"https://www.thegatewaypundit.com/2021/11/joe-biden-appears-fall-asleep-opening-statements-climate-change-conference-global-elites-video/?utm_source=Twitter&utm_medium=PostTopSharingButtons&utm_campaign=websitesharingbuttons\"]"
     ]
    }
   ],
   "source": [
    "unique_urls = unique(urls_TE)\n",
    "\n",
    "print(unique_urls[occursin.(\"thegatewaypundit\", unique_urls)])"
   ]
  },
  {
   "cell_type": "code",
   "execution_count": 34,
   "metadata": {},
   "outputs": [
    {
     "name": "stdout",
     "output_type": "stream",
     "text": [
      "[\"https://beckernews.com/watch-biden-falls-asleep-during-the-cop26-climate-change-conference-in-scotland-42846/\"]"
     ]
    }
   ],
   "source": []
  },
  {
   "cell_type": "code",
   "execution_count": null,
   "metadata": {},
   "outputs": [],
   "source": []
  }
 ],
 "metadata": {
  "kernelspec": {
   "display_name": "Julia 1.8.1",
   "language": "julia",
   "name": "julia-1.8"
  },
  "language_info": {
   "file_extension": ".jl",
   "mimetype": "application/julia",
   "name": "julia",
   "version": "1.8.1"
  },
  "orig_nbformat": 4,
  "vscode": {
   "interpreter": {
    "hash": "31f2aee4e71d21fbe5cf8b01ff0e069b9275f58929596ceb00d14d90e3e16cd6"
   }
  }
 },
 "nbformat": 4,
 "nbformat_minor": 2
}
