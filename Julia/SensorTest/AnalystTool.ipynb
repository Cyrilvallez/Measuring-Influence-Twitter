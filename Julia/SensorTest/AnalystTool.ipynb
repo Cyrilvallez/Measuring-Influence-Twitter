{
 "cells": [
  {
   "cell_type": "code",
   "execution_count": 7,
   "metadata": {},
   "outputs": [
    {
     "ename": "LoadError",
     "evalue": "LoadError: syntax: incomplete: premature end of input\nin expression starting at /Users/cyrilvallez/Desktop/Thesis/Julia/visualizations.jl:133",
     "output_type": "error",
     "traceback": [
      "LoadError: syntax: incomplete: premature end of input\nin expression starting at /Users/cyrilvallez/Desktop/Thesis/Julia/visualizations.jl:133",
      "",
      "Stacktrace:",
      " [1] top-level scope",
      "   @ ~/Desktop/Thesis/Julia/visualizations.jl:133",
      " [2] include(fname::String)",
      "   @ Base.MainInclude ./client.jl:476",
      " [3] top-level scope",
      "   @ In[7]:9",
      " [4] eval",
      "   @ ./boot.jl:368 [inlined]",
      " [5] include_string(mapexpr::typeof(REPL.softscope), mod::Module, code::String, filename::String)",
      "   @ Base ./loading.jl:1428"
     ]
    }
   ],
   "source": [
    "using CSV, DataFrames, TimeSeries, DataStructures, Clustering\n",
    "using GraphPlot, Graphs, URIs\n",
    "using StatsBase: maximum, minimum, median, mean, countmap\n",
    "import PyPlot as plt\n",
    "import PlotlyJS\n",
    "include(\"../influencecascade_platform.jl\")\n",
    "include(\"../entropy.jl\")\n",
    "include(\"../tool_helper.jl\")\n",
    "include(\"../visualizations.jl\");"
   ]
  },
  {
   "cell_type": "markdown",
   "metadata": {},
   "source": [
    "## Load the data and format it"
   ]
  },
  {
   "cell_type": "code",
   "execution_count": 2,
   "metadata": {},
   "outputs": [],
   "source": [
    "datafolder = \"../../Data/Twitter/\"\n",
    "datafile = datafolder * \"all_links_processed.json\"\n",
    "\n",
    "#=\n",
    "data = CSV.read(datafiles[1], DataFrame, header=1, types=String)\n",
    "\n",
    "#new_row = DataFrame(id = \"0006\", author_id = \"6\", username = \"?Cyril06\", created_at = \"2021-10-31T00:09:04.000Z\", lang = \"en\", text = \"test climate change\", original_text = \"test climate change\",\n",
    "#    hashtags = missing, category = \"['tweeted']\", URLs = \"['https://www.cnn.com/test']\", domain = \"['cnn']\", domain_suffix = \"['com']\", country = missing, country_code = missing, sentiment = \"neutral\")\n",
    "#append!(data, new_row);\n",
    "\n",
    "function str_to_vec(string)\n",
    "    if ismissing(string)\n",
    "        return missing\n",
    "    end\n",
    "    # remove `[]` characters at beginning and end, and split based on commas following a quote char\n",
    "    list = split(string[2:end-1], \"', \")\n",
    "    res = []\n",
    "    for str in list\n",
    "        if first(str) == '\\'' && last(str) == '\\''\n",
    "            push!(res, String(collect(str)[2:end-1]))\n",
    "        elseif first(str) == '\\''\n",
    "            push!(res, String(collect(str)[2:end]))\n",
    "        elseif last(str) == '\\''\n",
    "            push!(res, String(collect(str)[1:end-1]))\n",
    "        end\n",
    "    end\n",
    "    return res\n",
    "end\n",
    "\n",
    "data.\"hashtags\" = data.\"hashtags\" .|> str_to_vec\n",
    "data.\"category\" = data.\"category\" .|> str_to_vec\n",
    "data.\"URLs\" = data.\"URLs\" .|> str_to_vec\n",
    "data.\"domain\" = data.\"domain\" .|> str_to_vec\n",
    "data.\"domain_suffix\" = data.\"domain_suffix\" .|> str_to_vec\n",
    "\n",
    "=#\n",
    "\n",
    "data = load_json(datafile)\n",
    "data = data[.~ismissing.(data.\"urls\"), :]\n",
    "\n",
    "#clean_dates = x -> floor(DateTime(split(x, '.')[1], \"yyyy-mm-ddTHH:MM:SS\"), Dates.Minute(5))\n",
    "clean_dates = x -> floor(DateTime(split(x, '.')[1], \"yyyy-mm-ddTHH:MM:SS\"), Dates.Hour(5));\n",
    "data.time = clean_dates.(data.\"created_at\");"
   ]
  },
  {
   "cell_type": "markdown",
   "metadata": {},
   "source": [
    "## Define the partition, actors and actions"
   ]
  },
  {
   "cell_type": "code",
   "execution_count": 3,
   "metadata": {},
   "outputs": [],
   "source": [
    "part_fun = sentiment\n",
    "actor_fun = follower_count\n",
    "action_fun = trust_popularity_score_v2\n",
    "\n",
    "cuttoff = 0.5\n",
    "et = \"Any Edge\"\n",
    "part = \"neutral\"\n",
    "\n",
    "df = data |> part_fun |> action_fun |> actor_fun |> x->sort(x,:time);"
   ]
  },
  {
   "cell_type": "markdown",
   "metadata": {},
   "source": [
    "## Compute influence graph"
   ]
  },
  {
   "cell_type": "code",
   "execution_count": 6,
   "metadata": {},
   "outputs": [],
   "source": [
    "tsg = TimeSeriesGenerator(:actor, :action, :partition)\n",
    "time_series = observe(df, tsg)\n",
    "\n",
    "ig = InfluenceGrapher(unique(df[!, tsg.action_col]))\n",
    "influence_graph = observe(time_series, ig);\n"
   ]
  },
  {
   "cell_type": "markdown",
   "metadata": {},
   "source": [
    "## Compte influence cascade and plot influence graph"
   ]
  },
  {
   "cell_type": "code",
   "execution_count": null,
   "metadata": {},
   "outputs": [],
   "source": [
    "begin\n",
    "\tfunction make_simplifier(edge_type)\n",
    "\t\tif edge_type==\"Any Edge\"\n",
    "\t\t\treturn x->(maximum(x)>cuttoff)\n",
    "\t\telse\n",
    "\t\t\tidx = findfirst(x->(x==et), edgeTypes)\n",
    "\t\t\treturn x->(x[idx]>cuttoff)\n",
    "\t\tend\n",
    "\tend\n",
    "\ts = make_simplifier(et)\n",
    "\n",
    "\ticg = InfluenceCascadeGenerator(cuttoff)\n",
    "\tinfluence_cascades = observe.(influence_graph, Ref(icg))\n",
    "\tall_ics = vcat(influence_cascades...)\n",
    "\n",
    "\tpartitions = unique(df[!,tsg.part_col])\n",
    "\ti = (1:length(partitions))[findfirst(x->x==part, partitions)]\n",
    "\txs, ys, influencers = influence_layout(influence_graph[i]; simplifier=s)\n",
    "\tg = print_graph(influence_graph[i]; simplifier=s)\n",
    "\n",
    "\t# In this case we plot the graph on a world map\n",
    "\tif actor_fun == country\n",
    "\t\tPlotlyJS.plot(map_plot(df)...)\n",
    "\t# In this case we plot a simple graph of the actors\n",
    "\telse\n",
    "\t\tgplot(g, xs, ys, nodelabel=unique(df.actor))\n",
    "\tend\n",
    "end"
   ]
  },
  {
   "cell_type": "code",
   "execution_count": null,
   "metadata": {},
   "outputs": [],
   "source": [
    "infl = unique(df.actor)[influencers]\n",
    "influencer_node1 = infl[1]\n",
    "influencer_node2 = infl[1]\n",
    "\n",
    "PlotlyJS.plot(plot_cascade_sankey(\n",
    "\tinfluence_cascades[findfirst(x->x==part,unique(df[!, tsg.part_col]))][findfirst(x->x==influencer_node1, unique(df[!, tsg.actor_col])[influencers])],\n",
    "\tunique(df[!, tsg.action_col]))...)"
   ]
  },
  {
   "cell_type": "code",
   "execution_count": null,
   "metadata": {},
   "outputs": [],
   "source": [
    "PlotlyJS.plot(plot_cascade_sankey(\n",
    "\tinfluence_cascades[findfirst(x->x==part,unique(df[!, tsg.part_col]))][findfirst(x->x==influencer_node2, unique(df[!, tsg.actor_col])[influencers])],\n",
    "\tunique(df[!, tsg.action_col]))...)"
   ]
  },
  {
   "cell_type": "code",
   "execution_count": null,
   "metadata": {},
   "outputs": [],
   "source": [
    "plot_actors_per_level(influence_cascades, unique(df[!,:partition]))"
   ]
  },
  {
   "cell_type": "code",
   "execution_count": null,
   "metadata": {},
   "outputs": [],
   "source": [
    "actor_wordcloud(df, Nactor=300)"
   ]
  },
  {
   "cell_type": "code",
   "execution_count": 28,
   "metadata": {},
   "outputs": [
    {
     "name": "stdout",
     "output_type": "stream",
     "text": [
      "PyPlot.Figure(PyObject <Figure size 640x480 with 1 Axes>)"
     ]
    },
    {
     "data": {
      "image/png": "[encoded data removed]",
      "text/plain": [
       "PyPlot.Figure(PyObject <Figure size 640x480 with 1 Axes>)"
      ]
     },
     "metadata": {},
     "output_type": "display_data"
    }
   ],
   "source": [
    "include(\"../visualizations.jl\")\n",
    "show(actor_frequency(df, save=true, filename=\"test2.pdf\"))"
   ]
  },
  {
   "cell_type": "code",
   "execution_count": 35,
   "metadata": {},
   "outputs": [
    {
     "name": "stdout",
     "output_type": "stream",
     "text": [
      "PyPlot.Figure(PyObject <Figure size 640x480 with 1 Axes>)"
     ]
    },
    {
     "data": {
      "image/png": "[encoded data removed]",
      "text/plain": [
       "PyPlot.Figure(PyObject <Figure size 640x480 with 1 Axes>)"
      ]
     },
     "metadata": {},
     "output_type": "display_data"
    }
   ],
   "source": [
    "include(\"../visualizations.jl\")\n",
    "show(action_frequency(df, split_by_partition = false))"
   ]
  },
  {
   "cell_type": "code",
   "execution_count": 50,
   "metadata": {},
   "outputs": [
    {
     "name": "stdout",
     "output_type": "stream",
     "text": [
      "PyPlot.Figure(PyObject <Figure size 800x800 with 3 Axes>)"
     ]
    },
    {
     "data": {
      "image/png": "[encoded data removed]",
      "text/plain": [
       "PyPlot.Figure(PyObject <Figure size 800x800 with 3 Axes>)"
      ]
     },
     "metadata": {},
     "output_type": "display_data"
    }
   ],
   "source": [
    "include(\"../visualizations.jl\")\n",
    "show(action_frequency(df, split_by_partition = true))"
   ]
  },
  {
   "cell_type": "code",
   "execution_count": 39,
   "metadata": {},
   "outputs": [
    {
     "data": {
      "text/plain": [
       "3-element Vector{Vector{String}}:\n",
       " [\"UF\", \"TF\", \"TM\", \"UM\"]\n",
       " [\"UF\", \"TF\", \"TM\", \"UM\"]\n",
       " [\"UF\", \"TF\", \"TM\", \"UM\"]"
      ]
     },
     "execution_count": 39,
     "metadata": {},
     "output_type": "execute_result"
    }
   ],
   "source": [
    "countmaps = combine(groupby(df, \"partition\"), \"action\" => countmap => \"countmap\")\n",
    "partitions = countmaps.\"partition\"\n",
    "counts = collect.(values.(countmaps.\"countmap\"))\n",
    "actions = collect.(keys.(countmaps.\"countmap\"))\n",
    "# Sort to ensure that we get the same ordering of the actions each time\n",
    "\n"
   ]
  },
  {
   "cell_type": "code",
   "execution_count": 40,
   "metadata": {},
   "outputs": [
    {
     "data": {
      "text/plain": [
       "3-element Vector{Vector{String}}:\n",
       " [\"UF\", \"TF\", \"TM\", \"UM\"]\n",
       " [\"UF\", \"TF\", \"TM\", \"UM\"]\n",
       " [\"UF\", \"TF\", \"TM\", \"UM\"]"
      ]
     },
     "execution_count": 40,
     "metadata": {},
     "output_type": "execute_result"
    }
   ],
   "source": [
    "actions"
   ]
  },
  {
   "cell_type": "code",
   "execution_count": 41,
   "metadata": {},
   "outputs": [
    {
     "data": {
      "text/plain": [
       "3-element Vector{Vector{Int64}}:\n",
       " [125, 679, 27191, 364]\n",
       " [129, 476, 17602, 203]\n",
       " [50, 540, 38464, 618]"
      ]
     },
     "execution_count": 41,
     "metadata": {},
     "output_type": "execute_result"
    }
   ],
   "source": [
    "counts"
   ]
  },
  {
   "cell_type": "code",
   "execution_count": 42,
   "metadata": {},
   "outputs": [],
   "source": [
    "for i in 1:length(counts)\n",
    "    sorting = sortperm(actions[i])\n",
    "    counts[i] = counts[i][sorting]\n",
    "    actions[i] = actions[i][sorting]\n",
    "end"
   ]
  },
  {
   "cell_type": "code",
   "execution_count": 43,
   "metadata": {},
   "outputs": [
    {
     "data": {
      "text/plain": [
       "3-element Vector{Vector{String}}:\n",
       " [\"TF\", \"TM\", \"UF\", \"UM\"]\n",
       " [\"TF\", \"TM\", \"UF\", \"UM\"]\n",
       " [\"TF\", \"TM\", \"UF\", \"UM\"]"
      ]
     },
     "execution_count": 43,
     "metadata": {},
     "output_type": "execute_result"
    }
   ],
   "source": [
    "actions"
   ]
  },
  {
   "cell_type": "code",
   "execution_count": 44,
   "metadata": {},
   "outputs": [
    {
     "data": {
      "text/plain": [
       "3-element Vector{Vector{Int64}}:\n",
       " [679, 27191, 125, 364]\n",
       " [476, 17602, 129, 203]\n",
       " [540, 38464, 50, 618]"
      ]
     },
     "execution_count": 44,
     "metadata": {},
     "output_type": "execute_result"
    }
   ],
   "source": [
    "counts"
   ]
  },
  {
   "cell_type": "code",
   "execution_count": null,
   "metadata": {},
   "outputs": [],
   "source": []
  }
 ],
 "metadata": {
  "kernelspec": {
   "display_name": "Julia 1.8.1",
   "language": "julia",
   "name": "julia-1.8"
  },
  "language_info": {
   "file_extension": ".jl",
   "mimetype": "application/julia",
   "name": "julia",
   "version": "1.8.1"
  },
  "orig_nbformat": 4,
  "vscode": {
   "interpreter": {
    "hash": "76d3d9ea52ae0f582c7ab8c3bbc7d312c08f3afa3631e827e583225c1557aa69"
   }
  }
 },
 "nbformat": 4,
 "nbformat_minor": 2
}
