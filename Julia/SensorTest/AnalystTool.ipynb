{
 "cells": [
  {
   "cell_type": "code",
   "execution_count": 18,
   "metadata": {},
   "outputs": [
    {
     "data": {
      "text/plain": [
       "plot_actors_per_level (generic function with 1 method)"
      ]
     },
     "metadata": {},
     "output_type": "display_data"
    }
   ],
   "source": [
    "using CSV, DataFrames, TimeSeries, DataStructures, Plots, PlutoUI,  Clustering\n",
    "using GraphPlot, Graphs, Multigraphs, BSON, TextAnalysis, URIs, PyPlot\n",
    "using IterTools: product\n",
    "using StatsBase: maximum, minimum, median, mean\n",
    "import Base, Statistics.mean\n",
    "include(\"../influencecascade_platform.jl\")\n",
    "include(\"../entropy.jl\")\n",
    "include(\"../tool_helper.jl\")\n",
    "include(\"../visualizations.jl\")"
   ]
  },
  {
   "cell_type": "code",
   "execution_count": 7,
   "metadata": {},
   "outputs": [
    {
     "data": {
      "text/plain": [
       "1-element Vector{String}:\n",
       " \"../../Data/Twitter/cop26_whole_period_extended_2.csv\""
      ]
     },
     "metadata": {},
     "output_type": "display_data"
    }
   ],
   "source": [
    "datafolder = \"../../Data/Twitter/\"\n",
    "datafiles = [datafolder * file for file in readdir(datafolder) if occursin(\".csv\", file)]"
   ]
  },
  {
   "cell_type": "code",
   "execution_count": 68,
   "metadata": {},
   "outputs": [
    {
     "data": {
      "text/html": [
       "<div class=\"data-frame\"><p>15,785 rows × 13 columns (omitted printing of 9 columns)</p><table class=\"data-frame\"><thead><tr><th></th><th>id</th><th>author_id</th><th>username</th><th>created_at</th></tr><tr><th></th><th title=\"String\">String</th><th title=\"String\">String</th><th title=\"String\">String</th><th title=\"String\">String</th></tr></thead><tbody><tr><th>1</th><td>1459309016899887104</td><td>1120323655</td><td>ZenTaoPrincess</td><td>2021-11-12T23:55:56.000Z</td></tr><tr><th>2</th><td>1459306377814450181</td><td>77244409</td><td>deesbarbara</td><td>2021-11-12T23:45:27.000Z</td></tr><tr><th>3</th><td>1459302851902062593</td><td>1457421352135180288</td><td>GreenifyNow</td><td>2021-11-12T23:31:27.000Z</td></tr><tr><th>4</th><td>1459302367166447622</td><td>59119508</td><td>EricaDeGrace</td><td>2021-11-12T23:29:31.000Z</td></tr><tr><th>5</th><td>1459298061952462848</td><td>300379965</td><td>SW_London_GP</td><td>2021-11-12T23:12:25.000Z</td></tr><tr><th>6</th><td>1459297961016496134</td><td>300379965</td><td>SW_London_GP</td><td>2021-11-12T23:12:01.000Z</td></tr><tr><th>7</th><td>1459296426224242690</td><td>12552772</td><td>ajtrcbecg</td><td>2021-11-12T23:05:55.000Z</td></tr><tr><th>8</th><td>1459296223660326916</td><td>21392184</td><td>dan_grey</td><td>2021-11-12T23:05:06.000Z</td></tr><tr><th>9</th><td>1459290469310124041</td><td>879083139808800768</td><td>SovranitaLavoro</td><td>2021-11-12T22:42:14.000Z</td></tr><tr><th>10</th><td>1459289812561760262</td><td>826223047</td><td>JCLMUSTANG1951</td><td>2021-11-12T22:39:38.000Z</td></tr><tr><th>11</th><td>1459289409950420992</td><td>3320337036</td><td>TravisRayWatson</td><td>2021-11-12T22:38:02.000Z</td></tr><tr><th>12</th><td>1459289099634974726</td><td>44069890</td><td>bullreborn</td><td>2021-11-12T22:36:48.000Z</td></tr><tr><th>13</th><td>1459288411181887488</td><td>1451686290</td><td>GreenEdToday</td><td>2021-11-12T22:34:04.000Z</td></tr><tr><th>14</th><td>1459287616688246787</td><td>141220440</td><td>HelloImage80</td><td>2021-11-12T22:30:54.000Z</td></tr><tr><th>15</th><td>1459284804898377732</td><td>271471003</td><td>PabloMontesS</td><td>2021-11-12T22:19:44.000Z</td></tr><tr><th>16</th><td>1459284631178473480</td><td>14330177</td><td>hiphipharesh</td><td>2021-11-12T22:19:02.000Z</td></tr><tr><th>17</th><td>1459283453619412992</td><td>3906543852</td><td>Garpur666</td><td>2021-11-12T22:14:22.000Z</td></tr><tr><th>18</th><td>1459283154359959552</td><td>1339293893981036545</td><td>TonyBlackmore20</td><td>2021-11-12T22:13:10.000Z</td></tr><tr><th>19</th><td>1459282575369846792</td><td>715165206838702082</td><td>CharliePontoon</td><td>2021-11-12T22:10:52.000Z</td></tr><tr><th>20</th><td>1459280820728967173</td><td>1190279588850601989</td><td>DoYouHaveData</td><td>2021-11-12T22:03:54.000Z</td></tr><tr><th>21</th><td>1459280501655617547</td><td>193544431</td><td>Milo_barrera</td><td>2021-11-12T22:02:38.000Z</td></tr><tr><th>22</th><td>1459280124331839495</td><td>136115093</td><td>esmari143</td><td>2021-11-12T22:01:08.000Z</td></tr><tr><th>23</th><td>1459280046833774597</td><td>1268518472331526145</td><td>FBoversight</td><td>2021-11-12T22:00:49.000Z</td></tr><tr><th>24</th><td>1459279840138317828</td><td>1147942708272672773</td><td>stopfundingheat</td><td>2021-11-12T22:00:00.000Z</td></tr><tr><th>&vellip;</th><td>&vellip;</td><td>&vellip;</td><td>&vellip;</td><td>&vellip;</td></tr></tbody></table></div>"
      ],
      "text/latex": [
       "\\begin{tabular}{r|ccccc}\n",
       "\t& id & author\\_id & username & created\\_at & \\\\\n",
       "\t\\hline\n",
       "\t& String & String & String & String & \\\\\n",
       "\t\\hline\n",
       "\t1 & 1459309016899887104 & 1120323655 & ZenTaoPrincess & 2021-11-12T23:55:56.000Z & $\\dots$ \\\\\n",
       "\t2 & 1459306377814450181 & 77244409 & deesbarbara & 2021-11-12T23:45:27.000Z & $\\dots$ \\\\\n",
       "\t3 & 1459302851902062593 & 1457421352135180288 & GreenifyNow & 2021-11-12T23:31:27.000Z & $\\dots$ \\\\\n",
       "\t4 & 1459302367166447622 & 59119508 & EricaDeGrace & 2021-11-12T23:29:31.000Z & $\\dots$ \\\\\n",
       "\t5 & 1459298061952462848 & 300379965 & SW\\_London\\_GP & 2021-11-12T23:12:25.000Z & $\\dots$ \\\\\n",
       "\t6 & 1459297961016496134 & 300379965 & SW\\_London\\_GP & 2021-11-12T23:12:01.000Z & $\\dots$ \\\\\n",
       "\t7 & 1459296426224242690 & 12552772 & ajtrcbecg & 2021-11-12T23:05:55.000Z & $\\dots$ \\\\\n",
       "\t8 & 1459296223660326916 & 21392184 & dan\\_grey & 2021-11-12T23:05:06.000Z & $\\dots$ \\\\\n",
       "\t9 & 1459290469310124041 & 879083139808800768 & SovranitaLavoro & 2021-11-12T22:42:14.000Z & $\\dots$ \\\\\n",
       "\t10 & 1459289812561760262 & 826223047 & JCLMUSTANG1951 & 2021-11-12T22:39:38.000Z & $\\dots$ \\\\\n",
       "\t11 & 1459289409950420992 & 3320337036 & TravisRayWatson & 2021-11-12T22:38:02.000Z & $\\dots$ \\\\\n",
       "\t12 & 1459289099634974726 & 44069890 & bullreborn & 2021-11-12T22:36:48.000Z & $\\dots$ \\\\\n",
       "\t13 & 1459288411181887488 & 1451686290 & GreenEdToday & 2021-11-12T22:34:04.000Z & $\\dots$ \\\\\n",
       "\t14 & 1459287616688246787 & 141220440 & HelloImage80 & 2021-11-12T22:30:54.000Z & $\\dots$ \\\\\n",
       "\t15 & 1459284804898377732 & 271471003 & PabloMontesS & 2021-11-12T22:19:44.000Z & $\\dots$ \\\\\n",
       "\t16 & 1459284631178473480 & 14330177 & hiphipharesh & 2021-11-12T22:19:02.000Z & $\\dots$ \\\\\n",
       "\t17 & 1459283453619412992 & 3906543852 & Garpur666 & 2021-11-12T22:14:22.000Z & $\\dots$ \\\\\n",
       "\t18 & 1459283154359959552 & 1339293893981036545 & TonyBlackmore20 & 2021-11-12T22:13:10.000Z & $\\dots$ \\\\\n",
       "\t19 & 1459282575369846792 & 715165206838702082 & CharliePontoon & 2021-11-12T22:10:52.000Z & $\\dots$ \\\\\n",
       "\t20 & 1459280820728967173 & 1190279588850601989 & DoYouHaveData & 2021-11-12T22:03:54.000Z & $\\dots$ \\\\\n",
       "\t21 & 1459280501655617547 & 193544431 & Milo\\_barrera & 2021-11-12T22:02:38.000Z & $\\dots$ \\\\\n",
       "\t22 & 1459280124331839495 & 136115093 & esmari143 & 2021-11-12T22:01:08.000Z & $\\dots$ \\\\\n",
       "\t23 & 1459280046833774597 & 1268518472331526145 & FBoversight & 2021-11-12T22:00:49.000Z & $\\dots$ \\\\\n",
       "\t24 & 1459279840138317828 & 1147942708272672773 & stopfundingheat & 2021-11-12T22:00:00.000Z & $\\dots$ \\\\\n",
       "\t$\\dots$ & $\\dots$ & $\\dots$ & $\\dots$ & $\\dots$ &  \\\\\n",
       "\\end{tabular}\n"
      ],
      "text/plain": [
       "\u001b[1m15785×13 DataFrame\u001b[0m\n",
       "\u001b[1m   Row \u001b[0m│\u001b[1m id                  \u001b[0m\u001b[1m author_id           \u001b[0m\u001b[1m username        \u001b[0m\u001b[1m created_at\u001b[0m ⋯\n",
       "\u001b[1m       \u001b[0m│\u001b[90m String              \u001b[0m\u001b[90m String              \u001b[0m\u001b[90m String          \u001b[0m\u001b[90m String    \u001b[0m ⋯\n",
       "───────┼────────────────────────────────────────────────────────────────────────\n",
       "     1 │ 1459309016899887104  1120323655           ZenTaoPrincess   2021-11-12 ⋯\n",
       "     2 │ 1459306377814450181  77244409             deesbarbara      2021-11-12\n",
       "     3 │ 1459302851902062593  1457421352135180288  GreenifyNow      2021-11-12\n",
       "     4 │ 1459302367166447622  59119508             EricaDeGrace     2021-11-12\n",
       "     5 │ 1459298061952462848  300379965            SW_London_GP     2021-11-12 ⋯\n",
       "     6 │ 1459297961016496134  300379965            SW_London_GP     2021-11-12\n",
       "     7 │ 1459296426224242690  12552772             ajtrcbecg        2021-11-12\n",
       "     8 │ 1459296223660326916  21392184             dan_grey         2021-11-12\n",
       "   ⋮   │          ⋮                    ⋮                  ⋮                    ⋱\n",
       " 15779 │ 1454603084898914305  1165527750196613122  JaideepRaj5      2021-10-31 ⋯\n",
       " 15780 │ 1454603082554281989  1062399754687131648  ShigetomiL       2021-10-31\n",
       " 15781 │ 1454602030241107973  467632786            MercorOrg        2021-10-31\n",
       " 15782 │ 1454602029356044291  635238928            Alpha_Level      2021-10-31\n",
       " 15783 │ 1454601789928398850  564041052            MeloniFulvio     2021-10-31 ⋯\n",
       " 15784 │ 1454601789337051136  4725957312           TheRadioTFI      2021-10-31\n",
       " 15785 │ 1454601279934812164  1480257156           Javier7Carrera   2021-10-31\n",
       "\u001b[36m                                               10 columns and 15770 rows omitted\u001b[0m"
      ]
     },
     "metadata": {},
     "output_type": "display_data"
    }
   ],
   "source": [
    "df = CSV.read(datafiles[1], DataFrame, header=1, types=String)"
   ]
  },
  {
   "cell_type": "code",
   "execution_count": 70,
   "metadata": {},
   "outputs": [
    {
     "name": "stdout",
     "output_type": "stream",
     "text": [
      "\u001b[1m15785×13 DataFrame\u001b[0m\n",
      "\u001b[1m   Row \u001b[0m│\u001b[1m id                  \u001b[0m\u001b[1m author_id           \u001b[0m\u001b[1m username        \u001b[0m\u001b[1m created_at               \u001b[0m\u001b[1m lang   \u001b[0m\u001b[1m text                              \u001b[0m\u001b[1m original_text                     \u001b[0m\u001b[1m hashtags                          \u001b[0m\u001b[1m category      \u001b[0m\u001b[1m URLs                              \u001b[0m\u001b[1m country        \u001b[0m\u001b[1m country_code \u001b[0m\u001b[1m sentiment \u001b[0m\n",
      "\u001b[1m       \u001b[0m│\u001b[90m String              \u001b[0m\u001b[90m String              \u001b[0m\u001b[90m String          \u001b[0m\u001b[90m String                   \u001b[0m\u001b[90m String \u001b[0m\u001b[90m String                            \u001b[0m\u001b[90m String                            \u001b[0m\u001b[90m String?                           \u001b[0m\u001b[90m String        \u001b[0m\u001b[90m String                            \u001b[0m\u001b[90m String?        \u001b[0m\u001b[90m String?      \u001b[0m\u001b[90m String    \u001b[0m\n",
      "───────┼─────────────────────────────────────────────────────────────────────────────────────────────────────────────────────────────────────────────────────────────────────────────────────────────────────────────────────────────────────────────────────────────────────────────────────────────────\n",
      "     1 │ 1459309016899887104  1120323655           ZenTaoPrincess   2021-11-12T23:55:56.000Z  en      RT @cnni: As the world looks to …  As the world looks to curb clima… \u001b[90m missing                           \u001b[0m ['retweeted']  ['https://www.cnn.com/2021/11/11… \u001b[90m missing        \u001b[0m\u001b[90m missing      \u001b[0m neu\n",
      "     2 │ 1459306377814450181  77244409             deesbarbara      2021-11-12T23:45:27.000Z  en      The climate crisis is messing wi…  The climate crisis is messing wi… \u001b[90m missing                           \u001b[0m ['tweeted']    ['https://www.cnn.com/2021/11/12… \u001b[90m missing        \u001b[0m\u001b[90m missing      \u001b[0m neu\n",
      "     3 │ 1459302851902062593  1457421352135180288  GreenifyNow      2021-11-12T23:31:27.000Z  en      The facts are there- we need to …  The facts are there- we need to … \u001b[90m missing                           \u001b[0m ['tweeted']    ['https://www.cnn.com/2021/11/12… \u001b[90m missing        \u001b[0m\u001b[90m missing      \u001b[0m neu\n",
      "     4 │ 1459302367166447622  59119508             EricaDeGrace     2021-11-12T23:29:31.000Z  en      RT @groulx_lynne: With #COP26 co…  With #COP26 coming to a close, w…  ['COP26', 'reconciliation', 'dec…  ['retweeted']  ['https://edition.cnn.com/2021/1… \u001b[90m missing        \u001b[0m\u001b[90m missing      \u001b[0m neu\n",
      "     5 │ 1459298061952462848  300379965            SW_London_GP     2021-11-12T23:12:25.000Z  en      RT @Greenpeace: The climate cris…  The climate crisis is real so we… \u001b[90m missing                           \u001b[0m ['retweeted']  ['https://www.greenpeace.org/int… \u001b[90m missing        \u001b[0m\u001b[90m missing      \u001b[0m neu\n",
      "     6 │ 1459297961016496134  300379965            SW_London_GP     2021-11-12T23:12:01.000Z  en      Carbon offsets are a scam, via @…  Carbon offsets are a scam, via @…  ['COP26', 'StopFailingUs', 'NetZ…  ['tweeted']    ['https://www.greenpeace.org/int…  United Kingdom  GB            neu\n",
      "     7 │ 1459296426224242690  12552772             ajtrcbecg        2021-11-12T23:05:55.000Z  en      Opinion: The big hurdle to jump-…  Opinion: The big hurdle to jump-… \u001b[90m missing                           \u001b[0m ['tweeted']    ['https://www.cnn.com/2021/10/12… \u001b[90m missing        \u001b[0m\u001b[90m missing      \u001b[0m neu\n",
      "     8 │ 1459296223660326916  21392184             dan_grey         2021-11-12T23:05:06.000Z  en      \"In a conference that is trying …  \"In a conference that is trying … \u001b[90m missing                           \u001b[0m ['tweeted']    ['https://edition.cnn.com/2021/1… \u001b[90m missing        \u001b[0m\u001b[90m missing      \u001b[0m neu\n",
      "   ⋮   │          ⋮                    ⋮                  ⋮                    ⋮                ⋮                     ⋮                                  ⋮                                  ⋮                        ⋮                        ⋮                        ⋮              ⋮            ⋮\n",
      " 15779 │ 1454603084898914305  1165527750196613122  JaideepRaj5      2021-10-31T00:16:15.000Z  en      Flooding destroyed his home four…  Flooding destroyed his home four… \u001b[90m missing                           \u001b[0m ['tweeted']    ['https://edition.cnn.com/2021/1… \u001b[90m missing        \u001b[0m\u001b[90m missing      \u001b[0m neu\n",
      " 15780 │ 1454603082554281989  1062399754687131648  ShigetomiL       2021-10-31T00:16:14.000Z  en      Flooding destroyed his home four…  Flooding destroyed his home four… \u001b[90m missing                           \u001b[0m ['tweeted']    ['https://edition.cnn.com/2021/1… \u001b[90m missing        \u001b[0m\u001b[90m missing      \u001b[0m neu\n",
      " 15781 │ 1454602030241107973  467632786            MercorOrg        2021-10-31T00:12:03.000Z  en      RT @MeloniFulvio: Flooding destr…  Flooding destroyed his home four… \u001b[90m missing                           \u001b[0m ['retweeted']  ['https://www.cnn.com/2021/10/30… \u001b[90m missing        \u001b[0m\u001b[90m missing      \u001b[0m neu\n",
      " 15782 │ 1454602029356044291  635238928            Alpha_Level      2021-10-31T00:12:03.000Z  en      RT @MeloniFulvio: Flooding destr…  Flooding destroyed his home four… \u001b[90m missing                           \u001b[0m ['retweeted']  ['https://www.cnn.com/2021/10/30… \u001b[90m missing        \u001b[0m\u001b[90m missing      \u001b[0m neu\n",
      " 15783 │ 1454601789928398850  564041052            MeloniFulvio     2021-10-31T00:11:06.000Z  en      Flooding destroyed his home four…  Flooding destroyed his home four… \u001b[90m missing                           \u001b[0m ['tweeted']    ['https://www.cnn.com/2021/10/30… \u001b[90m missing        \u001b[0m\u001b[90m missing      \u001b[0m neu\n",
      " 15784 │ 1454601789337051136  4725957312           TheRadioTFI      2021-10-31T00:11:06.000Z  en      Flooding destroyed his home four…  Flooding destroyed his home four… \u001b[90m missing                           \u001b[0m ['tweeted']    ['https://www.cnn.com/2021/10/30… \u001b[90m missing        \u001b[0m\u001b[90m missing      \u001b[0m neu\n",
      " 15785 │ 1454601279934812164  1480257156           Javier7Carrera   2021-10-31T00:09:04.000Z  en      Islanders sue Australia for inac…  Islanders sue Australia for inac… \u001b[90m missing                           \u001b[0m ['tweeted']    ['https://www.cnn.com/2021/10/27… \u001b[90m missing        \u001b[0m\u001b[90m missing      \u001b[0m neu\n",
      "\u001b[36m                                                                                                                                                                                                                                                                                       15770 rows omitted\u001b[0m"
     ]
    }
   ],
   "source": [
    "show(df, allcols=true)"
   ]
  },
  {
   "cell_type": "code",
   "execution_count": 72,
   "metadata": {},
   "outputs": [
    {
     "data": {
      "text/plain": [
       "missing"
      ]
     },
     "metadata": {},
     "output_type": "display_data"
    }
   ],
   "source": [
    "a = missing"
   ]
  },
  {
   "cell_type": "code",
   "execution_count": 97,
   "metadata": {},
   "outputs": [
    {
     "data": {
      "text/plain": [
       "\"∀a ∀ x ∃ y∀\""
      ]
     },
     "metadata": {},
     "output_type": "display_data"
    }
   ],
   "source": [
    "a = \"'∀a ∀ x ∃ y∀'\"\n",
    "first(a) == '\\''\n",
    "String(collect(a)[2:end-1])"
   ]
  },
  {
   "cell_type": "code",
   "execution_count": 98,
   "metadata": {},
   "outputs": [
    {
     "data": {
      "text/plain": [
       "15785-element Vector{Vector{Any}}:\n",
       " [\"https://www.cnn.com/2021/11/11/tech/tidal-energy-climate-change-renewable/index.html?utm_term=link&utm_source=twCNNi&utm_medium=social&utm_content=2021-11-12T06%3A31%3A01\"]\n",
       " [\"https://www.cnn.com/2021/11/12/americas/birds-bodies-amazon-rainforest-climate-change-scn/index.html\"]\n",
       " [\"https://www.cnn.com/2021/11/12/americas/birds-bodies-amazon-rainforest-climate-change-scn/index.html\"]\n",
       " [\"https://edition.cnn.com/2021/11/09/world/cop26-climate-talks-race-intl/index.html\"]\n",
       " [\"https://www.greenpeace.org/international/story/50689/carbon-offsets-net-zero-greenwashing-scam/\"]\n",
       " [\"https://www.greenpeace.org/international/story/50689/carbon-offsets-net-zero-greenwashing-scam/?utm_medium=share&utm_content=postid-50689&utm_campaign=COP26&utm_source=twitter\"]\n",
       " [\"https://www.cnn.com/2021/10/12/opinions/climate-change-clean-energy-bader/index.html\"]\n",
       " [\"https://edition.cnn.com/2021/11/11/world/china-india-bolivia-cop26-climate-intl/index.html\"]\n",
       " [\"https://www.foxnews.com/politics/treasury-saule-omarova-energy-industries-bankrupt\"]\n",
       " [\"https://www.cnn.com/2021/11/12/americas/birds-bodies-amazon-rainforest-climate-change-scn/index.html\"]\n",
       " ⋮\n",
       " [\"https://www.foxnews.com/politics/biden-pope-francis-meeting-vatican-climate-change\", \"https://twitter.com/ohiomatt/status/1454130982416699406/photo/1\"]\n",
       " [\"https://edition.cnn.com/2021/10/30/india/india-flooding-climate-displacement-intl-hnk-dst/index.html\"]\n",
       " [\"https://edition.cnn.com/2021/10/30/india/india-flooding-climate-displacement-intl-hnk-dst/index.html\"]\n",
       " [\"https://edition.cnn.com/2021/10/30/india/india-flooding-climate-displacement-intl-hnk-dst/index.html\"]\n",
       " [\"https://www.cnn.com/2021/10/30/india/india-flooding-climate-displacement-intl-hnk-dst/index.html?utm_source=dlvr.it&utm_medium=twitter\"]\n",
       " [\"https://www.cnn.com/2021/10/30/india/india-flooding-climate-displacement-intl-hnk-dst/index.html?utm_source=dlvr.it&utm_medium=twitter\"]\n",
       " [\"https://www.cnn.com/2021/10/30/india/india-flooding-climate-displacement-intl-hnk-dst/index.html?utm_source=dlvr.it&utm_medium=twitter\"]\n",
       " [\"https://www.cnn.com/2021/10/30/india/india-flooding-climate-displacement-intl-hnk-dst/index.html?utm_source=dlvr.it&utm_medium=twitter\"]\n",
       " [\"https://www.cnn.com/2021/10/27/australia/islanders-sue-australia-climate-change-intl-hnk/index.html\"]"
      ]
     },
     "metadata": {},
     "output_type": "display_data"
    }
   ],
   "source": [
    "function str_to_vec(string)\n",
    "    if ismissing(string)\n",
    "        return missing\n",
    "    end\n",
    "    list = split(string[2:end-1], \"', \")\n",
    "    res = []\n",
    "    for str in list\n",
    "        if first(str) == '\\'' && last(str) == '\\''\n",
    "            push!(res, String(collect(str)[2:end-1]))\n",
    "        elseif first(str) == '\\''\n",
    "            push!(res, String(collect(str)[2:end]))\n",
    "        elseif last(str) == '\\''\n",
    "            push!(res, String(collect(str)[1:end-1]))\n",
    "        end\n",
    "    end\n",
    "    return res\n",
    "end\n",
    "\n",
    "df.\"hashtags\" = df.\"hashtags\" .|> str_to_vec\n",
    "df.\"category\" = df.\"category\" .|> str_to_vec\n",
    "df.\"URLs\" = df.\"URLs\" .|> str_to_vec"
   ]
  },
  {
   "cell_type": "code",
   "execution_count": 100,
   "metadata": {},
   "outputs": [
    {
     "name": "stdout",
     "output_type": "stream",
     "text": [
      "\u001b[1m15785×13 DataFrame\u001b[0m\n",
      "\u001b[1m   Row \u001b[0m│\u001b[1m id                  \u001b[0m\u001b[1m author_id           \u001b[0m\u001b[1m username        \u001b[0m\u001b[1m created_at               \u001b[0m\u001b[1m lang   \u001b[0m\u001b[1m text                              \u001b[0m\u001b[1m original_text                     \u001b[0m\u001b[1m hashtags                          \u001b[0m\u001b[1m category         \u001b[0m\u001b[1m URLs                              \u001b[0m\u001b[1m country        \u001b[0m\u001b[1m country_code \u001b[0m\u001b[1m sentiment \u001b[0m\n",
      "\u001b[1m       \u001b[0m│\u001b[90m String              \u001b[0m\u001b[90m String              \u001b[0m\u001b[90m String          \u001b[0m\u001b[90m String                   \u001b[0m\u001b[90m String \u001b[0m\u001b[90m String                            \u001b[0m\u001b[90m String                            \u001b[0m\u001b[90m Array…?                           \u001b[0m\u001b[90m Array…           \u001b[0m\u001b[90m Array…                            \u001b[0m\u001b[90m String?        \u001b[0m\u001b[90m String?      \u001b[0m\u001b[90m String    \u001b[0m\n",
      "───────┼────────────────────────────────────────────────────────────────────────────────────────────────────────────────────────────────────────────────────────────────────────────────────────────────────────────────────────────────────────────────────────────────────────────────────────────────────\n",
      "     1 │ 1459309016899887104  1120323655           ZenTaoPrincess   2021-11-12T23:55:56.000Z  en      RT @cnni: As the world looks to …  As the world looks to curb clima… \u001b[90m missing                           \u001b[0m Any[\"retweeted\"]  Any[\"https://www.cnn.com/2021/11… \u001b[90m missing        \u001b[0m\u001b[90m missing      \u001b[0m neu\n",
      "     2 │ 1459306377814450181  77244409             deesbarbara      2021-11-12T23:45:27.000Z  en      The climate crisis is messing wi…  The climate crisis is messing wi… \u001b[90m missing                           \u001b[0m Any[\"tweeted\"]    Any[\"https://www.cnn.com/2021/11… \u001b[90m missing        \u001b[0m\u001b[90m missing      \u001b[0m neu\n",
      "     3 │ 1459302851902062593  1457421352135180288  GreenifyNow      2021-11-12T23:31:27.000Z  en      The facts are there- we need to …  The facts are there- we need to … \u001b[90m missing                           \u001b[0m Any[\"tweeted\"]    Any[\"https://www.cnn.com/2021/11… \u001b[90m missing        \u001b[0m\u001b[90m missing      \u001b[0m neu\n",
      "     4 │ 1459302367166447622  59119508             EricaDeGrace     2021-11-12T23:29:31.000Z  en      RT @groulx_lynne: With #COP26 co…  With #COP26 coming to a close, w…  Any[\"COP26\", \"reconciliation\", \"…  Any[\"retweeted\"]  Any[\"https://edition.cnn.com/202… \u001b[90m missing        \u001b[0m\u001b[90m missing      \u001b[0m neu\n",
      "     5 │ 1459298061952462848  300379965            SW_London_GP     2021-11-12T23:12:25.000Z  en      RT @Greenpeace: The climate cris…  The climate crisis is real so we… \u001b[90m missing                           \u001b[0m Any[\"retweeted\"]  Any[\"https://www.greenpeace.org/… \u001b[90m missing        \u001b[0m\u001b[90m missing      \u001b[0m neu\n",
      "     6 │ 1459297961016496134  300379965            SW_London_GP     2021-11-12T23:12:01.000Z  en      Carbon offsets are a scam, via @…  Carbon offsets are a scam, via @…  Any[\"COP26\", \"StopFailingUs\", \"N…  Any[\"tweeted\"]    Any[\"https://www.greenpeace.org/…  United Kingdom  GB            neu\n",
      "     7 │ 1459296426224242690  12552772             ajtrcbecg        2021-11-12T23:05:55.000Z  en      Opinion: The big hurdle to jump-…  Opinion: The big hurdle to jump-… \u001b[90m missing                           \u001b[0m Any[\"tweeted\"]    Any[\"https://www.cnn.com/2021/10… \u001b[90m missing        \u001b[0m\u001b[90m missing      \u001b[0m neu\n",
      "     8 │ 1459296223660326916  21392184             dan_grey         2021-11-12T23:05:06.000Z  en      \"In a conference that is trying …  \"In a conference that is trying … \u001b[90m missing                           \u001b[0m Any[\"tweeted\"]    Any[\"https://edition.cnn.com/202… \u001b[90m missing        \u001b[0m\u001b[90m missing      \u001b[0m neu\n",
      "   ⋮   │          ⋮                    ⋮                  ⋮                    ⋮                ⋮                     ⋮                                  ⋮                                  ⋮                         ⋮                          ⋮                        ⋮              ⋮            ⋮\n",
      " 15779 │ 1454603084898914305  1165527750196613122  JaideepRaj5      2021-10-31T00:16:15.000Z  en      Flooding destroyed his home four…  Flooding destroyed his home four… \u001b[90m missing                           \u001b[0m Any[\"tweeted\"]    Any[\"https://edition.cnn.com/202… \u001b[90m missing        \u001b[0m\u001b[90m missing      \u001b[0m neu\n",
      " 15780 │ 1454603082554281989  1062399754687131648  ShigetomiL       2021-10-31T00:16:14.000Z  en      Flooding destroyed his home four…  Flooding destroyed his home four… \u001b[90m missing                           \u001b[0m Any[\"tweeted\"]    Any[\"https://edition.cnn.com/202… \u001b[90m missing        \u001b[0m\u001b[90m missing      \u001b[0m neu\n",
      " 15781 │ 1454602030241107973  467632786            MercorOrg        2021-10-31T00:12:03.000Z  en      RT @MeloniFulvio: Flooding destr…  Flooding destroyed his home four… \u001b[90m missing                           \u001b[0m Any[\"retweeted\"]  Any[\"https://www.cnn.com/2021/10… \u001b[90m missing        \u001b[0m\u001b[90m missing      \u001b[0m neu\n",
      " 15782 │ 1454602029356044291  635238928            Alpha_Level      2021-10-31T00:12:03.000Z  en      RT @MeloniFulvio: Flooding destr…  Flooding destroyed his home four… \u001b[90m missing                           \u001b[0m Any[\"retweeted\"]  Any[\"https://www.cnn.com/2021/10… \u001b[90m missing        \u001b[0m\u001b[90m missing      \u001b[0m neu\n",
      " 15783 │ 1454601789928398850  564041052            MeloniFulvio     2021-10-31T00:11:06.000Z  en      Flooding destroyed his home four…  Flooding destroyed his home four… \u001b[90m missing                           \u001b[0m Any[\"tweeted\"]    Any[\"https://www.cnn.com/2021/10… \u001b[90m missing        \u001b[0m\u001b[90m missing      \u001b[0m neu\n",
      " 15784 │ 1454601789337051136  4725957312           TheRadioTFI      2021-10-31T00:11:06.000Z  en      Flooding destroyed his home four…  Flooding destroyed his home four… \u001b[90m missing                           \u001b[0m Any[\"tweeted\"]    Any[\"https://www.cnn.com/2021/10… \u001b[90m missing        \u001b[0m\u001b[90m missing      \u001b[0m neu\n",
      " 15785 │ 1454601279934812164  1480257156           Javier7Carrera   2021-10-31T00:09:04.000Z  en      Islanders sue Australia for inac…  Islanders sue Australia for inac… \u001b[90m missing                           \u001b[0m Any[\"tweeted\"]    Any[\"https://www.cnn.com/2021/10… \u001b[90m missing        \u001b[0m\u001b[90m missing      \u001b[0m neu\n",
      "\u001b[36m                                                                                                                                                                                                                                                                                          15770 rows omitted\u001b[0m"
     ]
    },
    {
     "data": {
      "text/plain": [
       "5-element Vector{Any}:\n",
       " \"COP26\"\n",
       " \"reconciliation\"\n",
       " \"decolonization\"\n",
       " \"IndigenousKnowledge\"\n",
       " \"ClimateChange\""
      ]
     },
     "metadata": {},
     "output_type": "display_data"
    }
   ],
   "source": [
    "show(df, allcols=true)\n",
    "df.\"hashtags\"[4]"
   ]
  },
  {
   "cell_type": "code",
   "execution_count": 26,
   "metadata": {},
   "outputs": [
    {
     "data": {
      "text/plain": [
       "trust_popularity_score (generic function with 1 method)"
      ]
     },
     "execution_count": 26,
     "metadata": {},
     "output_type": "execute_result"
    }
   ],
   "source": [
    "frames = [CSV.read(file, DataFrame; header=7) for file in datafiles]\n",
    "data = vcat(frames...)\n",
    "clean_dates = x -> floor(DateTime(split(x, '.')[1], \"yyyy-mm-dd HH:MM:ss\"), Dates.Minute(5));\n",
    "data.time = clean_dates.(data.Date);\n",
    "data = data[.~ismissing.(data.\"Expanded URLs\"), :]\n",
    "\n",
    "part_fun = sentiment\n",
    "actor_fun = country\n",
    "action_fun = trust_popularity_score"
   ]
  },
  {
   "cell_type": "code",
   "execution_count": 28,
   "metadata": {},
   "outputs": [
    {
     "data": {
      "text/plain": [
       "\"neutral\""
      ]
     },
     "execution_count": 28,
     "metadata": {},
     "output_type": "execute_result"
    }
   ],
   "source": [
    "cuttoff = 0.5\n",
    "et = \"Any Edge\"\n",
    "part = \"neutral\""
   ]
  },
  {
   "cell_type": "code",
   "execution_count": 29,
   "metadata": {},
   "outputs": [
    {
     "data": {
      "text/plain": [
       "3-element Vector{Matrix{Matrix}}:\n",
       " [[0.0 0.0 0.0 0.0; 0.0 0.0 0.0 0.0; 0.0 0.0 0.0 0.0; 0.0 0.0 0.0 0.0] [2.1734384237242934 2.2928833138081335 0.0 0.0; 0.6630865757175509 0.0 0.0 0.0; 0.0 0.021977983729619868 0.0 0.0; 0.0 0.0 0.0 0.0] … [0.0 0.0 0.0 0.0; 0.0 0.0 0.0 0.0; 0.0 0.0 0.0 0.0; 0.0 0.0 0.0 0.0] [0.0 0.0 0.0 0.0; 0.0 0.0 0.0 0.0; 0.0 0.0 0.0 0.0; 0.0 0.0 0.0 0.0]; [2.174303051006484 0.6631473635730564 0.004272578488924856 0.0; 2.291287752469141 0.8407241700038918 0.02152154843897414 0.0; 3.5207385841834595 0.0 0.0 0.0; 0.0 0.0 0.0 0.0] [0.0 0.0 0.0 0.0; 0.0 0.0 0.0 0.0; 0.0 0.0 0.0 0.0; 0.0 0.0 0.0 0.0] … [0.0 0.0 0.0 0.0; 0.0 0.0 0.0 0.0; 0.0 0.0 0.0 0.0; 0.0 0.0 0.0 0.0] [0.0 0.0 0.0 0.0; 0.0 0.0 0.0 0.0; 0.0 0.0 0.0 0.0; 0.0 0.0 0.0 0.0]; … ; [0.0 0.0 0.0 0.0; 0.0 0.0 0.0 0.0; 0.0 0.0 0.0 0.0; 0.0 0.0 0.0 0.0] [0.0 0.0 0.0 0.0; 0.0 0.0 0.0 0.0; 0.0 0.0 0.0 0.0; 0.0 0.0 0.0 0.0] … [0.0 0.0 0.0 0.0; 0.0 0.0 0.0 0.0; 0.0 0.0 0.0 0.0; 0.0 0.0 0.0 0.0] [0.0 0.0 0.0 0.0; 0.0 0.0 0.0 0.0; 0.0 0.0 0.0 0.0; 0.0 0.0 0.0 0.0]; [0.0 0.0 0.0 0.0; 0.0 0.0 0.0 0.0; 0.0 0.0 0.0 0.0; 0.0 0.0 0.0 0.0] [0.0 0.0 0.0 0.0; 0.0 0.0 0.0 0.0; 0.0 0.0 0.0 0.0; 0.0 0.0 0.0 0.0] … [0.0 0.0 0.0 0.0; 0.0 0.0 0.0 0.0; 0.0 0.0 0.0 0.0; 0.0 0.0 0.0 0.0] [0.0 0.0 0.0 0.0; 0.0 0.0 0.0 0.0; 0.0 0.0 0.0 0.0; 0.0 0.0 0.0 0.0]]\n",
       " [[0.0 0.0 0.0 0.0; 0.0 0.0 0.0 0.0; 0.0 0.0 0.0 0.0; 0.0 0.0 0.0 0.0] [0.0 1.2379522006131056 0.0 0.0; 1.2838948465412277 1.1801266577701242 0.0 0.0; 0.0 0.0 0.0 0.0; 0.0 0.01126589513586115 0.0 0.0] … [0.0 0.0 0.0 0.0; 0.0 0.0 0.0 0.0; 0.0 0.0 0.0 0.0; 0.0 0.0 0.0 0.0] [0.0 0.0 0.0 0.0; 0.0 0.0 0.0 0.0; 0.0 0.0 0.0 0.0; 0.0 0.0 0.0 0.0]; [1.5264200194145856 1.28419686894435 0.0 0.00031931882196703303; 1.2335060603121704 1.181013551062823 0.0 0.011217142184592646; 0.0 0.0 0.0 0.0; 0.0 0.0 0.0 0.0] [0.0 0.0 0.0 0.0; 0.0 0.0 0.0 0.0; 0.0 0.0 0.0 0.0; 0.0 0.0 0.0 0.0] … [0.0 0.0 0.0 0.0; 0.0 0.0 0.0 0.0; 0.0 0.0 0.0 0.0; 0.0 0.0 0.0 0.0] [0.0 0.0 0.0 0.0; 0.0 0.0 0.0 0.0; 0.0 0.0 0.0 0.0; 0.0 0.0 0.0 0.0]; … ; [0.0 0.0 0.0 0.0; 0.0 0.0 0.0 0.0; 0.0 0.0 0.0 0.0; 0.0 0.0 0.0 0.0] [0.0 0.0 0.0 0.0; 0.0 0.0 0.0 0.0; 0.0 0.0 0.0 0.0; 0.0 0.0 0.0 0.0] … [0.0 0.0 0.0 0.0; 0.0 0.0 0.0 0.0; 0.0 0.0 0.0 0.0; 0.0 0.0 0.0 0.0] [0.0 0.0 0.0 0.0; 0.0 0.0 0.0 0.0; 0.0 0.0 0.0 0.0; 0.0 0.0 0.0 0.0]; [0.0 0.0 0.0 0.0; 0.0 0.0 0.0 0.0; 0.0 0.0 0.0 0.0; 0.0 0.0 0.0 0.0] [0.0 0.0 0.0 0.0; 0.0 0.0 0.0 0.0; 0.0 0.0 0.0 0.0; 0.0 0.0 0.0 0.0] … [0.0 0.0 0.0 0.0; 0.0 0.0 0.0 0.0; 0.0 0.0 0.0 0.0; 0.0 0.0 0.0 0.0] [0.0 0.0 0.0 0.0; 0.0 0.0 0.0 0.0; 0.0 0.0 0.0 0.0; 0.0 0.0 0.0 0.0]]\n",
       " [[0.0 0.0 0.0 0.0; 0.0 0.0 0.0 0.0; 0.0 0.0 0.0 0.0; 0.0 0.0 0.0 0.0] [0.0 0.0 0.0 0.0; 0.0 0.0 0.0 0.0; 0.0 0.0 0.0 0.0; 0.0 0.0 0.0 0.0] … [0.0 0.0 0.0 0.0; 0.0 0.0 0.0 0.0; 0.0 0.0 0.0 0.0; 0.0 0.0 0.0 0.0] [0.0 0.0 0.0 0.0; 0.0 0.0 0.0 0.0; 0.0 0.0 0.0 0.0; 0.0 0.0 0.0 0.0]; [0.0 0.0 0.0 0.0; 0.0 0.0 0.0 0.0; 0.0 0.0 0.0 0.0; 0.0 0.0 0.0 0.0] [0.0 0.0 0.0 0.0; 0.0 0.0 0.0 0.0; 0.0 0.0 0.0 0.0; 0.0 0.0 0.0 0.0] … [0.0 0.0 0.0 0.0; 0.0 0.0 0.0 0.0; 0.0 0.0 0.0 0.0; 0.0 0.0 0.0 0.0] [0.0 0.0 0.0 0.0; 0.0 0.0 0.0 0.0; 0.0 0.0 0.0 0.0; 0.0 0.0 0.0 0.0]; … ; [0.0 0.0 0.0 0.0; 0.0 0.0 0.0 0.0; 0.0 0.0 0.0 0.0; 0.0 0.0 0.0 0.0] [0.0 0.0 0.0 0.0; 0.0 0.0 0.0 0.0; 0.0 0.0 0.0 0.0; 0.0 0.0 0.0 0.0] … [0.0 0.0 0.0 0.0; 0.0 0.0 0.0 0.0; 0.0 0.0 0.0 0.0; 0.0 0.0 0.0 0.0] [0.0 0.0 0.0 0.0; 0.0 0.0 0.0 0.0; 0.0 0.0 0.0 0.0; 0.0 0.0 0.0 0.0]; [0.0 0.0 0.0 0.0; 0.0 0.0 0.0 0.0; 0.0 0.0 0.0 0.0; 0.0 0.0 0.0 0.0] [0.0 0.0 0.0 0.0; 0.0 0.0 0.0 0.0; 0.0 0.0 0.0 0.0; 0.0 0.0 0.0 0.0] … [0.0 0.0 0.0 0.0; 0.0 0.0 0.0 0.0; 0.0 0.0 0.0 0.0; 0.0 0.0 0.0 0.0] [0.0 0.0 0.0 0.0; 0.0 0.0 0.0 0.0; 0.0 0.0 0.0 0.0; 0.0 0.0 0.0 0.0]]"
      ]
     },
     "execution_count": 29,
     "metadata": {},
     "output_type": "execute_result"
    }
   ],
   "source": [
    "df = data |> part_fun |> action_fun |> actor_fun |> x->sort(x,:time)\n",
    "\t\n",
    "tsg = TimeSeriesGenerator(:actor, :action, :partition)\n",
    "time_series = observe(df, tsg)\n",
    "\n",
    "ig = InfluenceGrapher(unique(df[!, tsg.action_col]))\n",
    "influence_graph = observe(time_series, ig)\n"
   ]
  },
  {
   "cell_type": "code",
   "execution_count": 30,
   "metadata": {},
   "outputs": [
    {
     "data": {
      "image/svg+xml": "<?xml version=\"1.0\" encoding=\"UTF-8\"?>\n<svg xmlns=\"http://www.w3.org/2000/svg\"\n     xmlns:xlink=\"http://www.w3.org/1999/xlink\"\n     version=\"1.2\"\n     width=\"141.42mm\" height=\"100mm\" viewBox=\"0 0 141.42 100\"\n     stroke=\"none\"\n     fill=\"#000000\"\n     stroke-width=\"0.3\"\n     font-size=\"3.88\"\n>\n<defs>\n  <marker id=\"arrow\" markerWidth=\"15\" markerHeight=\"7\" refX=\"5\" refY=\"3.5\" orient=\"auto\" markerUnits=\"strokeWidth\">\n    <path d=\"M0,0 L15,3.5 L0,7 z\" stroke=\"context-stroke\" fill=\"context-stroke\"/>\n  </marker>\n</defs>\n<g stroke-width=\"0.23\" fill=\"#000000\" fill-opacity=\"0.000\" stroke=\"#D3D3D3\" id=\"img-de7acd6b-1\">\n  <g transform=\"translate(75.44,70.7)\">\n    <path fill=\"none\" d=\"M-3.58,0.1 L3.58,-0.1 \" class=\"primitive\"/>\n  </g>\n  <g transform=\"translate(80.04,70.3)\">\n    <path fill=\"none\" d=\"M-8.19,0.47 L8.19,-0.47 \" class=\"primitive\"/>\n  </g>\n  <g transform=\"translate(84.4,69.64)\">\n    <path fill=\"none\" d=\"M-12.55,1.09 L12.55,-1.09 \" class=\"primitive\"/>\n  </g>\n  <g transform=\"translate(88.41,68.74)\">\n    <path fill=\"none\" d=\"M-16.57,1.96 L16.57,-1.96 \" class=\"primitive\"/>\n  </g>\n  <g transform=\"translate(91.96,67.63)\">\n    <path fill=\"none\" d=\"M-20.13,3.03 L20.13,-3.03 \" class=\"primitive\"/>\n  </g>\n  <g transform=\"translate(94.96,66.33)\">\n    <path fill=\"none\" d=\"M-23.14,4.29 L23.14,-4.29 \" class=\"primitive\"/>\n  </g>\n  <g transform=\"translate(97.33,64.88)\">\n    <path fill=\"none\" d=\"M-25.52,5.71 L25.52,-5.71 \" class=\"primitive\"/>\n  </g>\n  <g transform=\"translate(99.01,63.31)\">\n    <path fill=\"none\" d=\"M-27.23,7.23 L27.23,-7.23 \" class=\"primitive\"/>\n  </g>\n  <g transform=\"translate(99.96,61.67)\">\n    <path fill=\"none\" d=\"M-28.2,8.83 L28.2,-8.83 \" class=\"primitive\"/>\n  </g>\n  <g transform=\"translate(100.15,60)\">\n    <path fill=\"none\" d=\"M-28.42,10.46 L28.42,-10.46 \" class=\"primitive\"/>\n  </g>\n  <g transform=\"translate(99.58,58.33)\">\n    <path fill=\"none\" d=\"M-27.89,12.08 L27.89,-12.08 \" class=\"primitive\"/>\n  </g>\n  <g transform=\"translate(98.26,56.72)\">\n    <path fill=\"none\" d=\"M-26.62,13.63 L26.62,-13.63 \" class=\"primitive\"/>\n  </g>\n  <g transform=\"translate(96.23,55.21)\">\n    <path fill=\"none\" d=\"M-24.65,15.09 L24.65,-15.09 \" class=\"primitive\"/>\n  </g>\n  <g transform=\"translate(93.53,53.83)\">\n    <path fill=\"none\" d=\"M-22.03,16.42 L22.03,-16.42 \" class=\"primitive\"/>\n  </g>\n  <g transform=\"translate(90.25,52.62)\">\n    <path fill=\"none\" d=\"M-18.84,17.57 L18.84,-17.57 \" class=\"primitive\"/>\n  </g>\n  <g transform=\"translate(86.46,51.61)\">\n    <path fill=\"none\" d=\"M-15.17,18.52 L15.17,-18.52 \" class=\"primitive\"/>\n  </g>\n  <g transform=\"translate(82.26,50.83)\">\n    <path fill=\"none\" d=\"M-11.11,19.25 L11.11,-19.25 \" class=\"primitive\"/>\n  </g>\n  <g transform=\"translate(77.76,50.3)\">\n    <path fill=\"none\" d=\"M-6.78,19.74 L6.78,-19.74 \" class=\"primitive\"/>\n  </g>\n  <g transform=\"translate(73.08,50.03)\">\n    <path fill=\"none\" d=\"M-2.28,19.99 L2.28,-19.99 \" class=\"primitive\"/>\n  </g>\n  <g transform=\"translate(68.34,50.03)\">\n    <path fill=\"none\" d=\"M2.28,19.99 L-2.28,-19.99 \" class=\"primitive\"/>\n  </g>\n  <g transform=\"translate(63.66,50.3)\">\n    <path fill=\"none\" d=\"M6.78,19.74 L-6.78,-19.74 \" class=\"primitive\"/>\n  </g>\n  <g transform=\"translate(59.16,50.83)\">\n    <path fill=\"none\" d=\"M11.11,19.25 L-11.11,-19.25 \" class=\"primitive\"/>\n  </g>\n  <g transform=\"translate(54.96,51.61)\">\n    <path fill=\"none\" d=\"M15.17,18.52 L-15.17,-18.52 \" class=\"primitive\"/>\n  </g>\n  <g transform=\"translate(47.89,53.83)\">\n    <path fill=\"none\" d=\"M22.03,16.42 L-22.03,-16.42 \" class=\"primitive\"/>\n  </g>\n  <g transform=\"translate(45.2,55.21)\">\n    <path fill=\"none\" d=\"M24.65,15.09 L-24.65,-15.09 \" class=\"primitive\"/>\n  </g>\n  <g transform=\"translate(43.16,56.72)\">\n    <path fill=\"none\" d=\"M26.62,13.63 L-26.62,-13.63 \" class=\"primitive\"/>\n  </g>\n  <g transform=\"translate(41.84,58.33)\">\n    <path fill=\"none\" d=\"M27.89,12.08 L-27.89,-12.08 \" class=\"primitive\"/>\n  </g>\n  <g transform=\"translate(41.27,60)\">\n    <path fill=\"none\" d=\"M28.42,10.46 L-28.42,-10.46 \" class=\"primitive\"/>\n  </g>\n  <g transform=\"translate(41.46,61.67)\">\n    <path fill=\"none\" d=\"M28.2,8.83 L-28.2,-8.83 \" class=\"primitive\"/>\n  </g>\n  <g transform=\"translate(44.09,64.88)\">\n    <path fill=\"none\" d=\"M25.52,5.71 L-25.52,-5.71 \" class=\"primitive\"/>\n  </g>\n  <g transform=\"translate(46.46,66.33)\">\n    <path fill=\"none\" d=\"M23.14,4.29 L-23.14,-4.29 \" class=\"primitive\"/>\n  </g>\n  <g transform=\"translate(49.46,67.63)\">\n    <path fill=\"none\" d=\"M20.13,3.03 L-20.13,-3.03 \" class=\"primitive\"/>\n  </g>\n  <g transform=\"translate(53.01,68.74)\">\n    <path fill=\"none\" d=\"M16.57,1.96 L-16.57,-1.96 \" class=\"primitive\"/>\n  </g>\n  <g transform=\"translate(57.02,69.64)\">\n    <path fill=\"none\" d=\"M12.55,1.09 L-12.55,-1.09 \" class=\"primitive\"/>\n  </g>\n  <g transform=\"translate(61.38,70.3)\">\n    <path fill=\"none\" d=\"M8.19,0.47 L-8.19,-0.47 \" class=\"primitive\"/>\n  </g>\n  <g transform=\"translate(75.44,70.7)\">\n    <path fill=\"none\" d=\"M3.58,-0.1 L-3.58,0.1 \" class=\"primitive\"/>\n  </g>\n  <g transform=\"translate(96.69,67.5)\">\n    <path fill=\"none\" d=\"M-15.41,2.86 L15.41,-2.86 \" class=\"primitive\"/>\n  </g>\n  <g transform=\"translate(80.04,70.3)\">\n    <path fill=\"none\" d=\"M8.19,-0.47 L-8.19,0.47 \" class=\"primitive\"/>\n  </g>\n  <g transform=\"translate(101.29,67.1)\">\n    <path fill=\"none\" d=\"M-10.83,2.42 L10.83,-2.42 \" class=\"primitive\"/>\n  </g>\n  <g transform=\"translate(84.4,69.64)\">\n    <path fill=\"none\" d=\"M12.55,-1.09 L-12.55,1.09 \" class=\"primitive\"/>\n  </g>\n  <g transform=\"translate(105.65,66.44)\">\n    <path fill=\"none\" d=\"M-6.48,1.72 L6.48,-1.72 \" class=\"primitive\"/>\n  </g>\n  <g transform=\"translate(88.41,68.74)\">\n    <path fill=\"none\" d=\"M16.57,-1.96 L-16.57,1.96 \" class=\"primitive\"/>\n  </g>\n  <g transform=\"translate(109.66,65.54)\">\n    <path fill=\"none\" d=\"M-2.5,0.78 L2.5,-0.78 \" class=\"primitive\"/>\n  </g>\n  <g transform=\"translate(91.96,67.63)\">\n    <path fill=\"none\" d=\"M20.13,-3.03 L-20.13,3.03 \" class=\"primitive\"/>\n  </g>\n  <g transform=\"translate(96.69,67.5)\">\n    <path fill=\"none\" d=\"M15.41,-2.86 L-15.41,2.86 \" class=\"primitive\"/>\n  </g>\n  <g transform=\"translate(105.65,66.44)\">\n    <path fill=\"none\" d=\"M6.48,-1.72 L-6.48,1.72 \" class=\"primitive\"/>\n  </g>\n  <g transform=\"translate(109.66,65.54)\">\n    <path fill=\"none\" d=\"M2.5,-0.78 L-2.5,0.78 \" class=\"primitive\"/>\n  </g>\n  <g transform=\"translate(116.21,63.13)\">\n    <path fill=\"none\" d=\"M-2.02,0.88 L2.02,-0.88 \" class=\"primitive\"/>\n  </g>\n  <g transform=\"translate(118.58,61.68)\">\n    <path fill=\"none\" d=\"M-4.44,2.27 L4.44,-2.27 \" class=\"primitive\"/>\n  </g>\n  <g transform=\"translate(120.26,60.11)\">\n    <path fill=\"none\" d=\"M-6.18,3.79 L6.18,-3.79 \" class=\"primitive\"/>\n  </g>\n  <g transform=\"translate(121.21,58.47)\">\n    <path fill=\"none\" d=\"M-7.21,5.37 L7.21,-5.37 \" class=\"primitive\"/>\n  </g>\n  <g transform=\"translate(121.4,56.8)\">\n    <path fill=\"none\" d=\"M-7.5,6.99 L7.5,-6.99 \" class=\"primitive\"/>\n  </g>\n  <g transform=\"translate(120.83,55.13)\">\n    <path fill=\"none\" d=\"M-7.04,8.6 L7.04,-8.6 \" class=\"primitive\"/>\n  </g>\n  <g transform=\"translate(119.51,53.52)\">\n    <path fill=\"none\" d=\"M-5.87,10.16 L5.87,-10.16 \" class=\"primitive\"/>\n  </g>\n  <g transform=\"translate(117.47,52.01)\">\n    <path fill=\"none\" d=\"M-4,11.64 L4,-11.64 \" class=\"primitive\"/>\n  </g>\n  <g transform=\"translate(114.78,50.63)\">\n    <path fill=\"none\" d=\"M-1.48,13 L1.48,-13 \" class=\"primitive\"/>\n  </g>\n  <g transform=\"translate(111.5,49.42)\">\n    <path fill=\"none\" d=\"M1.62,14.2 L-1.62,-14.2 \" class=\"primitive\"/>\n  </g>\n  <g transform=\"translate(107.71,48.41)\">\n    <path fill=\"none\" d=\"M5.23,15.23 L-5.23,-15.23 \" class=\"primitive\"/>\n  </g>\n  <g transform=\"translate(99.01,47.1)\">\n    <path fill=\"none\" d=\"M13.62,16.63 L-13.62,-16.63 \" class=\"primitive\"/>\n  </g>\n  <g transform=\"translate(89.59,46.83)\">\n    <path fill=\"none\" d=\"M22.83,17.01 L-22.83,-17.01 \" class=\"primitive\"/>\n  </g>\n  <g transform=\"translate(84.91,47.1)\">\n    <path fill=\"none\" d=\"M27.43,16.8 L-27.43,-16.8 \" class=\"primitive\"/>\n  </g>\n  <g transform=\"translate(80.41,47.63)\">\n    <path fill=\"none\" d=\"M31.87,16.32 L-31.87,-16.32 \" class=\"primitive\"/>\n  </g>\n  <g transform=\"translate(76.21,48.41)\">\n    <path fill=\"none\" d=\"M36.02,15.6 L-36.02,-15.6 \" class=\"primitive\"/>\n  </g>\n  <g transform=\"translate(72.42,49.42)\">\n    <path fill=\"none\" d=\"M39.77,14.64 L-39.77,-14.64 \" class=\"primitive\"/>\n  </g>\n  <g transform=\"translate(69.14,50.63)\">\n    <path fill=\"none\" d=\"M43.02,13.48 L-43.02,-13.48 \" class=\"primitive\"/>\n  </g>\n  <g transform=\"translate(66.44,52.01)\">\n    <path fill=\"none\" d=\"M45.69,12.14 L-45.69,-12.14 \" class=\"primitive\"/>\n  </g>\n  <g transform=\"translate(64.41,53.52)\">\n    <path fill=\"none\" d=\"M47.7,10.67 L-47.7,-10.67 \" class=\"primitive\"/>\n  </g>\n  <g transform=\"translate(63.09,55.13)\">\n    <path fill=\"none\" d=\"M49.01,9.09 L-49.01,-9.09 \" class=\"primitive\"/>\n  </g>\n  <g transform=\"translate(62.52,56.8)\">\n    <path fill=\"none\" d=\"M49.57,7.47 L-49.57,-7.47 \" class=\"primitive\"/>\n  </g>\n  <g transform=\"translate(62.71,58.47)\">\n    <path fill=\"none\" d=\"M49.37,5.83 L-49.37,-5.83 \" class=\"primitive\"/>\n  </g>\n  <g transform=\"translate(63.66,60.11)\">\n    <path fill=\"none\" d=\"M48.41,4.22 L-48.41,-4.22 \" class=\"primitive\"/>\n  </g>\n  <g transform=\"translate(67.71,63.13)\">\n    <path fill=\"none\" d=\"M44.35,1.27 L-44.35,-1.27 \" class=\"primitive\"/>\n  </g>\n  <g transform=\"translate(70.71,64.43)\">\n    <path fill=\"none\" d=\"M41.35,0 L-41.35,0 \" class=\"primitive\"/>\n  </g>\n  <g transform=\"translate(74.26,65.54)\">\n    <path fill=\"none\" d=\"M37.8,-1.08 L-37.8,1.08 \" class=\"primitive\"/>\n  </g>\n  <g transform=\"translate(82.63,67.1)\">\n    <path fill=\"none\" d=\"M29.44,-2.57 L-29.44,2.57 \" class=\"primitive\"/>\n  </g>\n  <g transform=\"translate(87.23,67.5)\">\n    <path fill=\"none\" d=\"M24.84,-2.93 L-24.84,2.93 \" class=\"primitive\"/>\n  </g>\n  <g transform=\"translate(94.96,66.33)\">\n    <path fill=\"none\" d=\"M23.14,-4.29 L-23.14,4.29 \" class=\"primitive\"/>\n  </g>\n  <g transform=\"translate(116.21,63.13)\">\n    <path fill=\"none\" d=\"M2.02,-0.88 L-2.02,0.88 \" class=\"primitive\"/>\n  </g>\n  <g transform=\"translate(97.33,64.88)\">\n    <path fill=\"none\" d=\"M25.52,-5.71 L-25.52,5.71 \" class=\"primitive\"/>\n  </g>\n  <g transform=\"translate(118.58,61.68)\">\n    <path fill=\"none\" d=\"M4.44,-2.27 L-4.44,2.27 \" class=\"primitive\"/>\n  </g>\n  <g transform=\"translate(99.01,63.31)\">\n    <path fill=\"none\" d=\"M27.23,-7.23 L-27.23,7.23 \" class=\"primitive\"/>\n  </g>\n  <g transform=\"translate(120.26,60.11)\">\n    <path fill=\"none\" d=\"M6.18,-3.79 L-6.18,3.79 \" class=\"primitive\"/>\n  </g>\n  <g transform=\"translate(99.96,61.67)\">\n    <path fill=\"none\" d=\"M28.2,-8.83 L-28.2,8.83 \" class=\"primitive\"/>\n  </g>\n  <g transform=\"translate(121.21,58.47)\">\n    <path fill=\"none\" d=\"M7.21,-5.37 L-7.21,5.37 \" class=\"primitive\"/>\n  </g>\n  <g transform=\"translate(100.15,60)\">\n    <path fill=\"none\" d=\"M28.42,-10.46 L-28.42,10.46 \" class=\"primitive\"/>\n  </g>\n  <g transform=\"translate(121.4,56.8)\">\n    <path fill=\"none\" d=\"M7.5,-6.99 L-7.5,6.99 \" class=\"primitive\"/>\n  </g>\n  <g transform=\"translate(99.58,58.33)\">\n    <path fill=\"none\" d=\"M27.89,-12.08 L-27.89,12.08 \" class=\"primitive\"/>\n  </g>\n  <g transform=\"translate(120.83,55.13)\">\n    <path fill=\"none\" d=\"M7.04,-8.6 L-7.04,8.6 \" class=\"primitive\"/>\n  </g>\n  <g transform=\"translate(98.26,56.72)\">\n    <path fill=\"none\" d=\"M26.62,-13.63 L-26.62,13.63 \" class=\"primitive\"/>\n  </g>\n  <g transform=\"translate(119.51,53.52)\">\n    <path fill=\"none\" d=\"M5.87,-10.16 L-5.87,10.16 \" class=\"primitive\"/>\n  </g>\n  <g transform=\"translate(96.23,55.21)\">\n    <path fill=\"none\" d=\"M24.65,-15.09 L-24.65,15.09 \" class=\"primitive\"/>\n  </g>\n  <g transform=\"translate(117.47,52.01)\">\n    <path fill=\"none\" d=\"M4,-11.64 L-4,11.64 \" class=\"primitive\"/>\n  </g>\n  <g transform=\"translate(93.53,53.83)\">\n    <path fill=\"none\" d=\"M22.03,-16.42 L-22.03,16.42 \" class=\"primitive\"/>\n  </g>\n  <g transform=\"translate(114.78,50.63)\">\n    <path fill=\"none\" d=\"M1.48,-13 L-1.48,13 \" class=\"primitive\"/>\n  </g>\n  <g transform=\"translate(90.25,52.62)\">\n    <path fill=\"none\" d=\"M18.84,-17.57 L-18.84,17.57 \" class=\"primitive\"/>\n  </g>\n  <g transform=\"translate(111.5,49.42)\">\n    <path fill=\"none\" d=\"M-1.62,-14.2 L1.62,14.2 \" class=\"primitive\"/>\n  </g>\n  <g transform=\"translate(41.25,39.58)\">\n    <path fill=\"none\" d=\"M-28.83,-30.58 L28.83,30.58 \" class=\"primitive\"/>\n  </g>\n  <g transform=\"translate(58.95,37.49)\">\n    <path fill=\"none\" d=\"M-46.3,-28.63 L46.3,28.63 \" class=\"primitive\"/>\n  </g>\n  <g transform=\"translate(62.5,36.38)\">\n    <path fill=\"none\" d=\"M-49.81,-27.55 L49.81,27.55 \" class=\"primitive\"/>\n  </g>\n  <g transform=\"translate(86.46,51.61)\">\n    <path fill=\"none\" d=\"M15.17,-18.52 L-15.17,18.52 \" class=\"primitive\"/>\n  </g>\n  <g transform=\"translate(107.71,48.41)\">\n    <path fill=\"none\" d=\"M-5.23,-15.23 L5.23,15.23 \" class=\"primitive\"/>\n  </g>\n  <g transform=\"translate(82.26,50.83)\">\n    <path fill=\"none\" d=\"M11.11,-19.25 L-11.11,19.25 \" class=\"primitive\"/>\n  </g>\n  <g transform=\"translate(103.51,47.63)\">\n    <path fill=\"none\" d=\"M-9.27,-16.05 L9.27,16.05 \" class=\"primitive\"/>\n  </g>\n  <g transform=\"translate(60.46,37.49)\">\n    <path fill=\"none\" d=\"M-44.8,-28.62 L44.8,28.62 \" class=\"primitive\"/>\n  </g>\n  <g transform=\"translate(64.01,36.38)\">\n    <path fill=\"none\" d=\"M-48.31,-27.54 L48.31,27.54 \" class=\"primitive\"/>\n  </g>\n  <g transform=\"translate(44.27,39.58)\">\n    <path fill=\"none\" d=\"M-25.85,-30.55 L25.85,30.55 \" class=\"primitive\"/>\n  </g>\n  <g transform=\"translate(65.52,36.38)\">\n    <path fill=\"none\" d=\"M-46.81,-27.53 L46.81,27.53 \" class=\"primitive\"/>\n  </g>\n  <g transform=\"translate(75.22,28.75)\">\n    <path fill=\"none\" d=\"M-53.36,-20.03 L53.36,20.03 \" class=\"primitive\"/>\n  </g>\n  <g transform=\"translate(77.76,50.3)\">\n    <path fill=\"none\" d=\"M6.78,-19.74 L-6.78,19.74 \" class=\"primitive\"/>\n  </g>\n  <g transform=\"translate(99.01,47.1)\">\n    <path fill=\"none\" d=\"M-13.62,-16.63 L13.62,16.63 \" class=\"primitive\"/>\n  </g>\n  <g transform=\"translate(73.08,50.03)\">\n    <path fill=\"none\" d=\"M2.28,-19.99 L-2.28,19.99 \" class=\"primitive\"/>\n  </g>\n  <g transform=\"translate(94.33,46.83)\">\n    <path fill=\"none\" d=\"M-18.18,-16.95 L18.18,16.95 \" class=\"primitive\"/>\n  </g>\n  <g transform=\"translate(68.34,50.03)\">\n    <path fill=\"none\" d=\"M-2.28,-19.99 L2.28,19.99 \" class=\"primitive\"/>\n  </g>\n  <g transform=\"translate(89.59,46.83)\">\n    <path fill=\"none\" d=\"M-22.83,-17.01 L22.83,17.01 \" class=\"primitive\"/>\n  </g>\n  <g transform=\"translate(47.29,39.58)\">\n    <path fill=\"none\" d=\"M-22.88,-30.53 L22.88,30.53 \" class=\"primitive\"/>\n  </g>\n  <g transform=\"translate(64.99,37.49)\">\n    <path fill=\"none\" d=\"M-40.31,-28.59 L40.31,28.59 \" class=\"primitive\"/>\n  </g>\n  <g transform=\"translate(68.54,36.38)\">\n    <path fill=\"none\" d=\"M-43.81,-27.51 L43.81,27.51 \" class=\"primitive\"/>\n  </g>\n  <g transform=\"translate(63.66,50.3)\">\n    <path fill=\"none\" d=\"M-6.78,-19.74 L6.78,19.74 \" class=\"primitive\"/>\n  </g>\n  <g transform=\"translate(84.91,47.1)\">\n    <path fill=\"none\" d=\"M-27.43,-16.8 L27.43,16.8 \" class=\"primitive\"/>\n  </g>\n  <g transform=\"translate(59.16,50.83)\">\n    <path fill=\"none\" d=\"M-11.11,-19.25 L11.11,19.25 \" class=\"primitive\"/>\n  </g>\n  <g transform=\"translate(80.41,47.63)\">\n    <path fill=\"none\" d=\"M-31.87,-16.32 L31.87,16.32 \" class=\"primitive\"/>\n  </g>\n  <g transform=\"translate(48.8,39.58)\">\n    <path fill=\"none\" d=\"M-21.4,-30.52 L21.4,30.52 \" class=\"primitive\"/>\n  </g>\n  <g transform=\"translate(70.05,36.38)\">\n    <path fill=\"none\" d=\"M-42.31,-27.5 L42.31,27.5 \" class=\"primitive\"/>\n  </g>\n  <g transform=\"translate(54.96,51.61)\">\n    <path fill=\"none\" d=\"M-15.17,-18.52 L15.17,18.52 \" class=\"primitive\"/>\n  </g>\n  <g transform=\"translate(76.21,48.41)\">\n    <path fill=\"none\" d=\"M-36.02,-15.6 L36.02,15.6 \" class=\"primitive\"/>\n  </g>\n  <g transform=\"translate(51.17,52.62)\">\n    <path fill=\"none\" d=\"M-18.84,-17.57 L18.84,17.57 \" class=\"primitive\"/>\n  </g>\n  <g transform=\"translate(68.87,50.53)\">\n    <path fill=\"none\" d=\"M-36.26,-15.7 L36.26,15.7 \" class=\"primitive\"/>\n  </g>\n  <g transform=\"translate(72.42,49.42)\">\n    <path fill=\"none\" d=\"M-39.77,-14.64 L39.77,14.64 \" class=\"primitive\"/>\n  </g>\n  <g transform=\"translate(68.01,37.49)\">\n    <path fill=\"none\" d=\"M-37.32,-28.57 L37.32,28.57 \" class=\"primitive\"/>\n  </g>\n  <g transform=\"translate(47.89,53.83)\">\n    <path fill=\"none\" d=\"M-22.03,-16.42 L22.03,16.42 \" class=\"primitive\"/>\n  </g>\n  <g transform=\"translate(69.14,50.63)\">\n    <path fill=\"none\" d=\"M-43.02,-13.48 L43.02,13.48 \" class=\"primitive\"/>\n  </g>\n  <g transform=\"translate(45.2,55.21)\">\n    <path fill=\"none\" d=\"M-24.65,-15.09 L24.65,15.09 \" class=\"primitive\"/>\n  </g>\n  <g transform=\"translate(66.44,52.01)\">\n    <path fill=\"none\" d=\"M-45.69,-12.14 L45.69,12.14 \" class=\"primitive\"/>\n  </g>\n  <g transform=\"translate(43.16,56.72)\">\n    <path fill=\"none\" d=\"M-26.62,-13.63 L26.62,13.63 \" class=\"primitive\"/>\n  </g>\n  <g transform=\"translate(64.41,53.52)\">\n    <path fill=\"none\" d=\"M-47.7,-10.67 L47.7,10.67 \" class=\"primitive\"/>\n  </g>\n  <g transform=\"translate(41.84,58.33)\">\n    <path fill=\"none\" d=\"M-27.89,-12.08 L27.89,12.08 \" class=\"primitive\"/>\n  </g>\n  <g transform=\"translate(63.09,55.13)\">\n    <path fill=\"none\" d=\"M-49.01,-9.09 L49.01,9.09 \" class=\"primitive\"/>\n  </g>\n  <g transform=\"translate(51.82,39.58)\">\n    <path fill=\"none\" d=\"M-18.44,-30.5 L18.44,30.5 \" class=\"primitive\"/>\n  </g>\n  <g transform=\"translate(69.52,37.49)\">\n    <path fill=\"none\" d=\"M-35.82,-28.55 L35.82,28.55 \" class=\"primitive\"/>\n  </g>\n  <g transform=\"translate(73.07,36.38)\">\n    <path fill=\"none\" d=\"M-39.32,-27.48 L39.32,27.48 \" class=\"primitive\"/>\n  </g>\n  <g transform=\"translate(53.34,39.58)\">\n    <path fill=\"none\" d=\"M-16.96,-30.5 L16.96,30.5 \" class=\"primitive\"/>\n  </g>\n  <g transform=\"translate(74.58,36.38)\">\n    <path fill=\"none\" d=\"M-37.82,-27.47 L37.82,27.47 \" class=\"primitive\"/>\n  </g>\n  <g transform=\"translate(54.85,39.58)\">\n    <path fill=\"none\" d=\"M-15.48,-30.49 L15.48,30.49 \" class=\"primitive\"/>\n  </g>\n  <g transform=\"translate(76.09,36.38)\">\n    <path fill=\"none\" d=\"M-36.33,-27.46 L36.33,27.46 \" class=\"primitive\"/>\n  </g>\n  <g transform=\"translate(41.27,60)\">\n    <path fill=\"none\" d=\"M-28.42,-10.46 L28.42,10.46 \" class=\"primitive\"/>\n  </g>\n  <g transform=\"translate(62.52,56.8)\">\n    <path fill=\"none\" d=\"M-49.57,-7.47 L49.57,7.47 \" class=\"primitive\"/>\n  </g>\n  <g transform=\"translate(41.46,61.67)\">\n    <path fill=\"none\" d=\"M-28.2,-8.83 L28.2,8.83 \" class=\"primitive\"/>\n  </g>\n  <g transform=\"translate(62.71,58.47)\">\n    <path fill=\"none\" d=\"M-49.37,-5.83 L49.37,5.83 \" class=\"primitive\"/>\n  </g>\n  <g transform=\"translate(42.41,63.31)\">\n    <path fill=\"none\" d=\"M-27.23,-7.23 L27.23,7.23 \" class=\"primitive\"/>\n  </g>\n  <g transform=\"translate(63.66,60.11)\">\n    <path fill=\"none\" d=\"M-48.41,-4.22 L48.41,4.22 \" class=\"primitive\"/>\n  </g>\n  <g transform=\"translate(44.09,64.88)\">\n    <path fill=\"none\" d=\"M-25.52,-5.71 L25.52,5.71 \" class=\"primitive\"/>\n  </g>\n  <g transform=\"translate(65.34,61.68)\">\n    <path fill=\"none\" d=\"M-46.72,-2.68 L46.72,2.68 \" class=\"primitive\"/>\n  </g>\n  <g transform=\"translate(46.46,66.33)\">\n    <path fill=\"none\" d=\"M-23.14,-4.29 L23.14,4.29 \" class=\"primitive\"/>\n  </g>\n  <g transform=\"translate(64.16,64.24)\">\n    <path fill=\"none\" d=\"M-40.8,-2.34 L40.8,2.34 \" class=\"primitive\"/>\n  </g>\n  <g transform=\"translate(67.71,63.13)\">\n    <path fill=\"none\" d=\"M-44.35,-1.27 L44.35,1.27 \" class=\"primitive\"/>\n  </g>\n  <g transform=\"translate(49.46,67.63)\">\n    <path fill=\"none\" d=\"M-20.13,-3.03 L20.13,3.03 \" class=\"primitive\"/>\n  </g>\n  <g transform=\"translate(70.71,64.43)\">\n    <path fill=\"none\" d=\"M-41.35,0 L41.35,0 \" class=\"primitive\"/>\n  </g>\n  <g transform=\"translate(53.01,68.74)\">\n    <path fill=\"none\" d=\"M-16.57,-1.96 L16.57,1.96 \" class=\"primitive\"/>\n  </g>\n  <g transform=\"translate(74.26,65.54)\">\n    <path fill=\"none\" d=\"M-37.8,1.08 L37.8,-1.08 \" class=\"primitive\"/>\n  </g>\n  <g transform=\"translate(56.36,39.58)\">\n    <path fill=\"none\" d=\"M-14,-30.48 L14,30.48 \" class=\"primitive\"/>\n  </g>\n  <g transform=\"translate(74.06,37.49)\">\n    <path fill=\"none\" d=\"M-31.35,-28.52 L31.35,28.52 \" class=\"primitive\"/>\n  </g>\n  <g transform=\"translate(77.61,36.38)\">\n    <path fill=\"none\" d=\"M-34.84,-27.45 L34.84,27.45 \" class=\"primitive\"/>\n  </g>\n  <g transform=\"translate(57.87,39.58)\">\n    <path fill=\"none\" d=\"M-12.52,-30.47 L12.52,30.47 \" class=\"primitive\"/>\n  </g>\n  <g transform=\"translate(75.57,37.49)\">\n    <path fill=\"none\" d=\"M-29.86,-28.51 L29.86,28.51 \" class=\"primitive\"/>\n  </g>\n  <g transform=\"translate(79.12,36.38)\">\n    <path fill=\"none\" d=\"M-33.34,-27.43 L33.34,27.43 \" class=\"primitive\"/>\n  </g>\n  <g transform=\"translate(77.08,37.49)\">\n    <path fill=\"none\" d=\"M-28.37,-28.5 L28.37,28.5 \" class=\"primitive\"/>\n  </g>\n  <g transform=\"translate(60.89,39.58)\">\n    <path fill=\"none\" d=\"M-9.57,-30.46 L9.57,30.46 \" class=\"primitive\"/>\n  </g>\n  <g transform=\"translate(78.59,37.49)\">\n    <path fill=\"none\" d=\"M-26.88,-28.49 L26.88,28.49 \" class=\"primitive\"/>\n  </g>\n  <g transform=\"translate(82.14,36.38)\">\n    <path fill=\"none\" d=\"M-30.36,-27.41 L30.36,27.41 \" class=\"primitive\"/>\n  </g>\n  <g transform=\"translate(62.4,39.58)\">\n    <path fill=\"none\" d=\"M-8.1,-30.45 L8.1,30.45 \" class=\"primitive\"/>\n  </g>\n  <g transform=\"translate(83.65,36.38)\">\n    <path fill=\"none\" d=\"M-28.87,-27.4 L28.87,27.4 \" class=\"primitive\"/>\n  </g>\n  <g transform=\"translate(63.91,39.58)\">\n    <path fill=\"none\" d=\"M-6.62,-30.45 L6.62,30.45 \" class=\"primitive\"/>\n  </g>\n  <g transform=\"translate(81.61,37.49)\">\n    <path fill=\"none\" d=\"M-23.91,-28.46 L23.91,28.46 \" class=\"primitive\"/>\n  </g>\n  <g transform=\"translate(85.16,36.38)\">\n    <path fill=\"none\" d=\"M-27.39,-27.39 L27.39,27.39 \" class=\"primitive\"/>\n  </g>\n  <g transform=\"translate(65.42,39.58)\">\n    <path fill=\"none\" d=\"M-5.15,-30.44 L5.15,30.44 \" class=\"primitive\"/>\n  </g>\n  <g transform=\"translate(86.67,36.38)\">\n    <path fill=\"none\" d=\"M-25.9,-27.38 L25.9,27.38 \" class=\"primitive\"/>\n  </g>\n  <g transform=\"translate(66.93,39.58)\">\n    <path fill=\"none\" d=\"M-3.68,-30.44 L3.68,30.44 \" class=\"primitive\"/>\n  </g>\n  <g transform=\"translate(88.18,36.38)\">\n    <path fill=\"none\" d=\"M-24.41,-27.36 L24.41,27.36 \" class=\"primitive\"/>\n  </g>\n  <g transform=\"translate(68.44,39.58)\">\n    <path fill=\"none\" d=\"M-2.21,-30.44 L2.21,30.44 \" class=\"primitive\"/>\n  </g>\n  <g transform=\"translate(86.14,37.49)\">\n    <path fill=\"none\" d=\"M-19.47,-28.43 L19.47,28.43 \" class=\"primitive\"/>\n  </g>\n  <g transform=\"translate(89.69,36.38)\">\n    <path fill=\"none\" d=\"M-22.93,-27.35 L22.93,27.35 \" class=\"primitive\"/>\n  </g>\n  <g transform=\"translate(91.2,36.38)\">\n    <path fill=\"none\" d=\"M-21.45,-27.34 L21.45,27.34 \" class=\"primitive\"/>\n  </g>\n  <g transform=\"translate(71.47,39.58)\">\n    <path fill=\"none\" d=\"M0.74,-30.44 L-0.74,30.44 \" class=\"primitive\"/>\n  </g>\n  <g transform=\"translate(89.17,37.49)\">\n    <path fill=\"none\" d=\"M-16.51,-28.41 L16.51,28.41 \" class=\"primitive\"/>\n  </g>\n  <g transform=\"translate(92.71,36.38)\">\n    <path fill=\"none\" d=\"M-19.97,-27.33 L19.97,27.33 \" class=\"primitive\"/>\n  </g>\n  <g transform=\"translate(72.98,39.58)\">\n    <path fill=\"none\" d=\"M2.21,-30.44 L-2.21,30.44 \" class=\"primitive\"/>\n  </g>\n  <g transform=\"translate(94.23,36.38)\">\n    <path fill=\"none\" d=\"M-18.49,-27.32 L18.49,27.32 \" class=\"primitive\"/>\n  </g>\n  <g transform=\"translate(74.49,39.58)\">\n    <path fill=\"none\" d=\"M3.68,-30.44 L-3.68,30.44 \" class=\"primitive\"/>\n  </g>\n  <g transform=\"translate(92.19,37.49)\">\n    <path fill=\"none\" d=\"M-13.56,-28.39 L13.56,28.39 \" class=\"primitive\"/>\n  </g>\n  <g transform=\"translate(95.74,36.38)\">\n    <path fill=\"none\" d=\"M-17.01,-27.31 L17.01,27.31 \" class=\"primitive\"/>\n  </g>\n  <g transform=\"translate(76,39.58)\">\n    <path fill=\"none\" d=\"M5.15,-30.44 L-5.15,30.44 \" class=\"primitive\"/>\n  </g>\n  <g transform=\"translate(97.25,36.38)\">\n    <path fill=\"none\" d=\"M-15.53,-27.3 L15.53,27.3 \" class=\"primitive\"/>\n  </g>\n  <g transform=\"translate(77.51,39.58)\">\n    <path fill=\"none\" d=\"M6.62,-30.45 L-6.62,30.45 \" class=\"primitive\"/>\n  </g>\n  <g transform=\"translate(98.76,36.38)\">\n    <path fill=\"none\" d=\"M-14.06,-27.29 L14.06,27.29 \" class=\"primitive\"/>\n  </g>\n  <g transform=\"translate(79.02,39.58)\">\n    <path fill=\"none\" d=\"M8.1,-30.45 L-8.1,30.45 \" class=\"primitive\"/>\n  </g>\n  <g transform=\"translate(96.72,37.49)\">\n    <path fill=\"none\" d=\"M-9.13,-28.37 L9.13,28.37 \" class=\"primitive\"/>\n  </g>\n  <g transform=\"translate(57.02,69.64)\">\n    <path fill=\"none\" d=\"M-12.55,-1.09 L12.55,1.09 \" class=\"primitive\"/>\n  </g>\n  <g transform=\"translate(78.27,66.44)\">\n    <path fill=\"none\" d=\"M-33.8,1.94 L33.8,-1.94 \" class=\"primitive\"/>\n  </g>\n  <g transform=\"translate(101.78,36.38)\">\n    <path fill=\"none\" d=\"M-11.11,-27.27 L11.11,27.27 \" class=\"primitive\"/>\n  </g>\n  <g transform=\"translate(82.04,39.58)\">\n    <path fill=\"none\" d=\"M11.05,-30.46 L-11.05,30.46 \" class=\"primitive\"/>\n  </g>\n  <g transform=\"translate(103.29,36.38)\">\n    <path fill=\"none\" d=\"M-9.64,-27.26 L9.64,27.26 \" class=\"primitive\"/>\n  </g>\n  <g transform=\"translate(61.38,70.3)\">\n    <path fill=\"none\" d=\"M-8.19,-0.47 L8.19,0.47 \" class=\"primitive\"/>\n  </g>\n  <g transform=\"translate(82.63,67.1)\">\n    <path fill=\"none\" d=\"M-29.44,2.57 L29.44,-2.57 \" class=\"primitive\"/>\n  </g>\n  <g transform=\"translate(83.55,39.58)\">\n    <path fill=\"none\" d=\"M12.52,-30.47 L-12.52,30.47 \" class=\"primitive\"/>\n  </g>\n  <g transform=\"translate(85.06,39.58)\">\n    <path fill=\"none\" d=\"M14,-30.48 L-14,30.48 \" class=\"primitive\"/>\n  </g>\n  <g transform=\"translate(106.31,36.38)\">\n    <path fill=\"none\" d=\"M-6.7,-27.25 L6.7,27.25 \" class=\"primitive\"/>\n  </g>\n  <g transform=\"translate(116.01,28.75)\">\n    <path fill=\"none\" d=\"M-13.09,-19.68 L13.09,19.68 \" class=\"primitive\"/>\n  </g>\n  <g transform=\"translate(88.09,39.58)\">\n    <path fill=\"none\" d=\"M16.96,-30.5 L-16.96,30.5 \" class=\"primitive\"/>\n  </g>\n  <g transform=\"translate(109.33,36.38)\">\n    <path fill=\"none\" d=\"M-3.76,-27.24 L3.76,27.24 \" class=\"primitive\"/>\n  </g>\n  <g transform=\"translate(89.6,39.58)\">\n    <path fill=\"none\" d=\"M18.44,-30.5 L-18.44,30.5 \" class=\"primitive\"/>\n  </g>\n  <g transform=\"translate(110.85,36.38)\">\n    <path fill=\"none\" d=\"M-2.29,-27.24 L2.29,27.24 \" class=\"primitive\"/>\n  </g>\n  <g transform=\"translate(91.11,39.58)\">\n    <path fill=\"none\" d=\"M19.92,-30.51 L-19.92,30.51 \" class=\"primitive\"/>\n  </g>\n  <g transform=\"translate(92.62,39.58)\">\n    <path fill=\"none\" d=\"M21.4,-30.52 L-21.4,30.52 \" class=\"primitive\"/>\n  </g>\n  <g transform=\"translate(110.32,37.49)\">\n    <path fill=\"none\" d=\"M4.09,-28.35 L-4.09,28.35 \" class=\"primitive\"/>\n  </g>\n  <g transform=\"translate(94.13,39.58)\">\n    <path fill=\"none\" d=\"M22.88,-30.53 L-22.88,30.53 \" class=\"primitive\"/>\n  </g>\n  <g transform=\"translate(116.89,36.38)\">\n    <path fill=\"none\" d=\"M3.58,-27.24 L-3.58,27.24 \" class=\"primitive\"/>\n  </g>\n  <g transform=\"translate(118.4,36.38)\">\n    <path fill=\"none\" d=\"M5.04,-27.25 L-5.04,27.25 \" class=\"primitive\"/>\n  </g>\n  <g transform=\"translate(65.98,70.7)\">\n    <path fill=\"none\" d=\"M-3.58,-0.1 L3.58,0.1 \" class=\"primitive\"/>\n  </g>\n  <g transform=\"translate(87.23,67.5)\">\n    <path fill=\"none\" d=\"M-24.84,2.93 L24.84,-2.93 \" class=\"primitive\"/>\n  </g>\n  <g transform=\"translate(98.66,39.58)\">\n    <path fill=\"none\" d=\"M27.34,-30.56 L-27.34,30.56 \" class=\"primitive\"/>\n  </g>\n  <g transform=\"translate(116.36,37.49)\">\n    <path fill=\"none\" d=\"M9.98,-28.37 L-9.98,28.37 \" class=\"primitive\"/>\n  </g>\n  <g transform=\"translate(119.91,36.38)\">\n    <path fill=\"none\" d=\"M6.51,-27.25 L-6.51,27.25 \" class=\"primitive\"/>\n  </g>\n  <g transform=\"translate(117.87,37.49)\">\n    <path fill=\"none\" d=\"M11.45,-28.38 L-11.45,28.38 \" class=\"primitive\"/>\n  </g>\n</g>\n<g stroke-width=\"0.23\" stroke=\"#D3D3D3\" id=\"img-de7acd6b-2\">\n  <g transform=\"translate(75.33,70.7)\">\n    <path fill=\"none\" d=\"M-1.93,-1.37 L3.69,-0.11 -1.76,1.48 \" class=\"primitive\"/>\n  </g>\n  <g transform=\"translate(84.55,70.04)\">\n    <path fill=\"none\" d=\"M-2,-1.31 L3.68,-0.21 -1.68,1.53 \" class=\"primitive\"/>\n  </g>\n  <g transform=\"translate(93.29,68.87)\">\n    <path fill=\"none\" d=\"M-2.08,-1.25 L3.66,-0.32 -1.59,1.57 \" class=\"primitive\"/>\n  </g>\n  <g transform=\"translate(101.34,67.22)\">\n    <path fill=\"none\" d=\"M-2.15,-1.19 L3.64,-0.43 -1.49,1.62 \" class=\"primitive\"/>\n  </g>\n  <g transform=\"translate(108.48,65.14)\">\n    <path fill=\"none\" d=\"M-2.23,-1.12 L3.61,-0.54 -1.39,1.67 \" class=\"primitive\"/>\n  </g>\n  <g transform=\"translate(114.53,62.7)\">\n    <path fill=\"none\" d=\"M-2.3,-1.05 L3.57,-0.66 -1.27,1.71 \" class=\"primitive\"/>\n  </g>\n  <g transform=\"translate(119.33,59.96)\">\n    <path fill=\"none\" d=\"M-2.37,-0.97 L3.52,-0.79 -1.15,1.75 \" class=\"primitive\"/>\n  </g>\n  <g transform=\"translate(122.78,57)\">\n    <path fill=\"none\" d=\"M-2.44,-0.87 L3.46,-0.92 -1.02,1.79 \" class=\"primitive\"/>\n  </g>\n  <g transform=\"translate(124.78,53.9)\">\n    <path fill=\"none\" d=\"M-2.5,-0.77 L3.38,-1.06 -0.87,1.83 \" class=\"primitive\"/>\n  </g>\n  <g transform=\"translate(125.3,50.74)\">\n    <path fill=\"none\" d=\"M-2.57,-0.66 L3.27,-1.21 -0.71,1.87 \" class=\"primitive\"/>\n  </g>\n  <g transform=\"translate(124.32,47.62)\">\n    <path fill=\"none\" d=\"M-2.63,-0.53 L3.15,-1.36 -0.52,1.9 \" class=\"primitive\"/>\n  </g>\n  <g transform=\"translate(121.89,44.62)\">\n    <path fill=\"none\" d=\"M-2.68,-0.39 L2.99,-1.53 -0.31,1.92 \" class=\"primitive\"/>\n  </g>\n  <g transform=\"translate(118.08,41.82)\">\n    <path fill=\"none\" d=\"M-2.71,-0.22 L2.79,-1.71 -0.08,1.93 \" class=\"primitive\"/>\n  </g>\n  <g transform=\"translate(113.02,39.31)\">\n    <path fill=\"none\" d=\"M-2.73,-0.03 L2.54,-1.89 0.19,1.93 \" class=\"primitive\"/>\n  </g>\n  <g transform=\"translate(106.86,37.13)\">\n    <path fill=\"none\" d=\"M-2.72,0.18 L2.23,-2.08 0.49,1.9 \" class=\"primitive\"/>\n  </g>\n  <g transform=\"translate(99.78,35.35)\">\n    <path fill=\"none\" d=\"M-2.67,0.41 L1.85,-2.26 0.82,1.84 \" class=\"primitive\"/>\n  </g>\n  <g transform=\"translate(91.98,34)\">\n    <path fill=\"none\" d=\"M-2.56,0.67 L1.4,-2.42 1.17,1.75 \" class=\"primitive\"/>\n  </g>\n  <g transform=\"translate(83.67,33.1)\">\n    <path fill=\"none\" d=\"M-2.39,0.93 L0.87,-2.54 1.52,1.6 \" class=\"primitive\"/>\n  </g>\n  <g transform=\"translate(75.06,32.64)\">\n    <path fill=\"none\" d=\"M-2.16,1.19 L0.3,-2.6 1.86,1.42 \" class=\"primitive\"/>\n  </g>\n  <g transform=\"translate(66.36,32.64)\">\n    <path fill=\"none\" d=\"M-1.86,1.42 L-0.3,-2.6 2.16,1.19 \" class=\"primitive\"/>\n  </g>\n  <g transform=\"translate(57.75,33.1)\">\n    <path fill=\"none\" d=\"M-1.52,1.6 L-0.87,-2.54 2.39,0.93 \" class=\"primitive\"/>\n  </g>\n  <g transform=\"translate(49.44,34)\">\n    <path fill=\"none\" d=\"M-1.17,1.75 L-1.4,-2.42 2.56,0.67 \" class=\"primitive\"/>\n  </g>\n  <g transform=\"translate(41.64,35.35)\">\n    <path fill=\"none\" d=\"M-0.82,1.84 L-1.85,-2.26 2.67,0.41 \" class=\"primitive\"/>\n  </g>\n  <g transform=\"translate(28.4,39.31)\">\n    <path fill=\"none\" d=\"M-0.19,1.93 L-2.54,-1.89 2.73,-0.03 \" class=\"primitive\"/>\n  </g>\n  <g transform=\"translate(23.34,41.82)\">\n    <path fill=\"none\" d=\"M0.08,1.93 L-2.79,-1.71 2.71,-0.22 \" class=\"primitive\"/>\n  </g>\n  <g transform=\"translate(19.53,44.62)\">\n    <path fill=\"none\" d=\"M0.31,1.92 L-2.99,-1.53 2.68,-0.39 \" class=\"primitive\"/>\n  </g>\n  <g transform=\"translate(17.1,47.62)\">\n    <path fill=\"none\" d=\"M0.52,1.9 L-3.15,-1.36 2.63,-0.53 \" class=\"primitive\"/>\n  </g>\n  <g transform=\"translate(16.12,50.74)\">\n    <path fill=\"none\" d=\"M0.71,1.87 L-3.27,-1.21 2.57,-0.66 \" class=\"primitive\"/>\n  </g>\n  <g transform=\"translate(16.64,53.9)\">\n    <path fill=\"none\" d=\"M0.87,1.83 L-3.38,-1.06 2.5,-0.77 \" class=\"primitive\"/>\n  </g>\n  <g transform=\"translate(22.09,59.96)\">\n    <path fill=\"none\" d=\"M1.15,1.75 L-3.52,-0.79 2.37,-0.97 \" class=\"primitive\"/>\n  </g>\n  <g transform=\"translate(26.9,62.7)\">\n    <path fill=\"none\" d=\"M1.27,1.71 L-3.57,-0.66 2.3,-1.05 \" class=\"primitive\"/>\n  </g>\n  <g transform=\"translate(32.95,65.14)\">\n    <path fill=\"none\" d=\"M1.39,1.67 L-3.61,-0.54 2.23,-1.12 \" class=\"primitive\"/>\n  </g>\n  <g transform=\"translate(40.08,67.22)\">\n    <path fill=\"none\" d=\"M1.49,1.62 L-3.64,-0.43 2.15,-1.19 \" class=\"primitive\"/>\n  </g>\n  <g transform=\"translate(48.13,68.87)\">\n    <path fill=\"none\" d=\"M1.59,1.57 L-3.66,-0.32 2.08,-1.25 \" class=\"primitive\"/>\n  </g>\n  <g transform=\"translate(56.87,70.04)\">\n    <path fill=\"none\" d=\"M1.68,1.53 L-3.68,-0.21 2,-1.31 \" class=\"primitive\"/>\n  </g>\n  <g transform=\"translate(75.55,70.7)\">\n    <path fill=\"none\" d=\"M1.93,1.37 L-3.69,0.11 1.76,-1.48 \" class=\"primitive\"/>\n  </g>\n  <g transform=\"translate(108.53,65.3)\">\n    <path fill=\"none\" d=\"M-2.3,-1.05 L3.57,-0.66 -1.27,1.71 \" class=\"primitive\"/>\n  </g>\n  <g transform=\"translate(75.53,70.56)\">\n    <path fill=\"none\" d=\"M2,1.31 L-3.68,0.21 1.68,-1.53 \" class=\"primitive\"/>\n  </g>\n  <g transform=\"translate(108.59,65.46)\">\n    <path fill=\"none\" d=\"M-2.37,-0.97 L3.52,-0.79 -1.15,1.75 \" class=\"primitive\"/>\n  </g>\n  <g transform=\"translate(75.51,70.41)\">\n    <path fill=\"none\" d=\"M2.08,1.25 L-3.66,0.32 1.59,-1.57 \" class=\"primitive\"/>\n  </g>\n  <g transform=\"translate(108.68,65.64)\">\n    <path fill=\"none\" d=\"M-2.44,-0.87 L3.46,-0.92 -1.02,1.79 \" class=\"primitive\"/>\n  </g>\n  <g transform=\"translate(75.48,70.27)\">\n    <path fill=\"none\" d=\"M2.15,1.19 L-3.64,0.43 1.49,-1.62 \" class=\"primitive\"/>\n  </g>\n  <g transform=\"translate(108.78,65.82)\">\n    <path fill=\"none\" d=\"M-2.5,-0.77 L3.38,-1.06 -0.87,1.83 \" class=\"primitive\"/>\n  </g>\n  <g transform=\"translate(75.44,70.12)\">\n    <path fill=\"none\" d=\"M2.23,1.12 L-3.61,0.54 1.39,-1.67 \" class=\"primitive\"/>\n  </g>\n  <g transform=\"translate(84.84,69.7)\">\n    <path fill=\"none\" d=\"M2.3,1.05 L-3.57,0.66 1.27,-1.71 \" class=\"primitive\"/>\n  </g>\n  <g transform=\"translate(102.62,67.24)\">\n    <path fill=\"none\" d=\"M2.44,0.87 L-3.46,0.92 1.02,-1.79 \" class=\"primitive\"/>\n  </g>\n  <g transform=\"translate(110.53,65.27)\">\n    <path fill=\"none\" d=\"M2.5,0.77 L-3.38,1.06 0.87,-1.83 \" class=\"primitive\"/>\n  </g>\n  <g transform=\"translate(115.08,63.62)\">\n    <path fill=\"none\" d=\"M-2.63,-0.53 L3.15,-1.36 -0.52,1.9 \" class=\"primitive\"/>\n  </g>\n  <g transform=\"translate(120.03,60.94)\">\n    <path fill=\"none\" d=\"M-2.68,-0.39 L2.99,-1.53 -0.31,1.92 \" class=\"primitive\"/>\n  </g>\n  <g transform=\"translate(123.65,58.04)\">\n    <path fill=\"none\" d=\"M-2.71,-0.22 L2.79,-1.71 -0.08,1.93 \" class=\"primitive\"/>\n  </g>\n  <g transform=\"translate(125.88,54.99)\">\n    <path fill=\"none\" d=\"M-2.73,-0.03 L2.54,-1.89 0.19,1.93 \" class=\"primitive\"/>\n  </g>\n  <g transform=\"translate(126.66,51.89)\">\n    <path fill=\"none\" d=\"M-2.72,0.18 L2.23,-2.08 0.49,1.9 \" class=\"primitive\"/>\n  </g>\n  <g transform=\"translate(126.02,48.79)\">\n    <path fill=\"none\" d=\"M-2.67,0.41 L1.85,-2.26 0.82,1.84 \" class=\"primitive\"/>\n  </g>\n  <g transform=\"translate(123.98,45.78)\">\n    <path fill=\"none\" d=\"M-2.56,0.67 L1.4,-2.42 1.17,1.75 \" class=\"primitive\"/>\n  </g>\n  <g transform=\"translate(120.6,42.91)\">\n    <path fill=\"none\" d=\"M-2.39,0.93 L0.87,-2.54 1.52,1.6 \" class=\"primitive\"/>\n  </g>\n  <g transform=\"translate(115.97,40.23)\">\n    <path fill=\"none\" d=\"M-2.16,1.19 L0.3,-2.6 1.86,1.42 \" class=\"primitive\"/>\n  </g>\n  <g transform=\"translate(110.17,37.82)\">\n    <path fill=\"none\" d=\"M-1.86,1.42 L-0.3,-2.6 2.16,1.19 \" class=\"primitive\"/>\n  </g>\n  <g transform=\"translate(103.35,35.72)\">\n    <path fill=\"none\" d=\"M-1.52,1.6 L-0.87,-2.54 2.39,0.93 \" class=\"primitive\"/>\n  </g>\n  <g transform=\"translate(87.24,32.73)\">\n    <path fill=\"none\" d=\"M-0.82,1.84 L-1.85,-2.26 2.67,0.41 \" class=\"primitive\"/>\n  </g>\n  <g transform=\"translate(69.3,31.72)\">\n    <path fill=\"none\" d=\"M-0.19,1.93 L-2.54,-1.89 2.73,-0.03 \" class=\"primitive\"/>\n  </g>\n  <g transform=\"translate(60.27,32.01)\">\n    <path fill=\"none\" d=\"M0.08,1.93 L-2.79,-1.71 2.71,-0.22 \" class=\"primitive\"/>\n  </g>\n  <g transform=\"translate(51.53,32.84)\">\n    <path fill=\"none\" d=\"M0.31,1.92 L-2.99,-1.53 2.68,-0.39 \" class=\"primitive\"/>\n  </g>\n  <g transform=\"translate(43.34,34.18)\">\n    <path fill=\"none\" d=\"M0.52,1.9 L-3.15,-1.36 2.63,-0.53 \" class=\"primitive\"/>\n  </g>\n  <g transform=\"translate(35.93,35.99)\">\n    <path fill=\"none\" d=\"M0.71,1.87 L-3.27,-1.21 2.57,-0.66 \" class=\"primitive\"/>\n  </g>\n  <g transform=\"translate(29.49,38.21)\">\n    <path fill=\"none\" d=\"M0.87,1.83 L-3.38,-1.06 2.5,-0.77 \" class=\"primitive\"/>\n  </g>\n  <g transform=\"translate(24.21,40.79)\">\n    <path fill=\"none\" d=\"M1.02,1.79 L-3.46,-0.92 2.44,-0.87 \" class=\"primitive\"/>\n  </g>\n  <g transform=\"translate(20.23,43.64)\">\n    <path fill=\"none\" d=\"M1.15,1.75 L-3.52,-0.79 2.37,-0.97 \" class=\"primitive\"/>\n  </g>\n  <g transform=\"translate(17.66,46.7)\">\n    <path fill=\"none\" d=\"M1.27,1.71 L-3.57,-0.66 2.3,-1.05 \" class=\"primitive\"/>\n  </g>\n  <g transform=\"translate(16.57,49.87)\">\n    <path fill=\"none\" d=\"M1.39,1.67 L-3.61,-0.54 2.23,-1.12 \" class=\"primitive\"/>\n  </g>\n  <g transform=\"translate(16.99,53.07)\">\n    <path fill=\"none\" d=\"M1.49,1.62 L-3.64,-0.43 2.15,-1.19 \" class=\"primitive\"/>\n  </g>\n  <g transform=\"translate(18.91,56.21)\">\n    <path fill=\"none\" d=\"M1.59,1.57 L-3.66,-0.32 2.08,-1.25 \" class=\"primitive\"/>\n  </g>\n  <g transform=\"translate(27.05,61.97)\">\n    <path fill=\"none\" d=\"M1.76,1.48 L-3.69,-0.11 1.93,-1.37 \" class=\"primitive\"/>\n  </g>\n  <g transform=\"translate(33.05,64.43)\">\n    <path fill=\"none\" d=\"M1.85,1.43 L-3.69,0 1.85,-1.43 \" class=\"primitive\"/>\n  </g>\n  <g transform=\"translate(40.15,66.52)\">\n    <path fill=\"none\" d=\"M1.93,1.37 L-3.69,0.11 1.76,-1.48 \" class=\"primitive\"/>\n  </g>\n  <g transform=\"translate(56.85,69.34)\">\n    <path fill=\"none\" d=\"M2.08,1.25 L-3.66,0.32 1.59,-1.57 \" class=\"primitive\"/>\n  </g>\n  <g transform=\"translate(66.03,70)\">\n    <path fill=\"none\" d=\"M2.15,1.19 L-3.64,0.43 1.49,-1.62 \" class=\"primitive\"/>\n  </g>\n  <g transform=\"translate(75.39,69.96)\">\n    <path fill=\"none\" d=\"M2.3,1.05 L-3.57,0.66 1.27,-1.71 \" class=\"primitive\"/>\n  </g>\n  <g transform=\"translate(117.33,62.65)\">\n    <path fill=\"none\" d=\"M2.63,0.53 L-3.15,1.36 0.52,-1.9 \" class=\"primitive\"/>\n  </g>\n  <g transform=\"translate(75.32,69.8)\">\n    <path fill=\"none\" d=\"M2.37,0.97 L-3.52,0.79 1.15,-1.75 \" class=\"primitive\"/>\n  </g>\n  <g transform=\"translate(117.13,62.42)\">\n    <path fill=\"none\" d=\"M2.68,0.39 L-2.99,1.53 0.31,-1.92 \" class=\"primitive\"/>\n  </g>\n  <g transform=\"translate(75.24,69.63)\">\n    <path fill=\"none\" d=\"M2.44,0.87 L-3.46,0.92 1.02,-1.79 \" class=\"primitive\"/>\n  </g>\n  <g transform=\"translate(116.87,62.19)\">\n    <path fill=\"none\" d=\"M2.71,0.22 L-2.79,1.71 0.08,-1.93 \" class=\"primitive\"/>\n  </g>\n  <g transform=\"translate(75.13,69.45)\">\n    <path fill=\"none\" d=\"M2.5,0.77 L-3.38,1.06 0.87,-1.83 \" class=\"primitive\"/>\n  </g>\n  <g transform=\"translate(116.54,61.95)\">\n    <path fill=\"none\" d=\"M2.73,0.03 L-2.54,1.89 -0.19,-1.93 \" class=\"primitive\"/>\n  </g>\n  <g transform=\"translate(75,69.25)\">\n    <path fill=\"none\" d=\"M2.57,0.66 L-3.27,1.21 0.71,-1.87 \" class=\"primitive\"/>\n  </g>\n  <g transform=\"translate(116.13,61.71)\">\n    <path fill=\"none\" d=\"M2.72,-0.18 L-2.23,2.08 -0.49,-1.9 \" class=\"primitive\"/>\n  </g>\n  <g transform=\"translate(74.84,69.05)\">\n    <path fill=\"none\" d=\"M2.63,0.53 L-3.15,1.36 0.52,-1.9 \" class=\"primitive\"/>\n  </g>\n  <g transform=\"translate(115.63,61.47)\">\n    <path fill=\"none\" d=\"M2.67,-0.41 L-1.85,2.26 -0.82,-1.84 \" class=\"primitive\"/>\n  </g>\n  <g transform=\"translate(74.63,68.83)\">\n    <path fill=\"none\" d=\"M2.68,0.39 L-2.99,1.53 0.31,-1.92 \" class=\"primitive\"/>\n  </g>\n  <g transform=\"translate(115.04,61.26)\">\n    <path fill=\"none\" d=\"M2.56,-0.67 L-1.4,2.42 -1.17,-1.75 \" class=\"primitive\"/>\n  </g>\n  <g transform=\"translate(74.37,68.59)\">\n    <path fill=\"none\" d=\"M2.71,0.22 L-2.79,1.71 0.08,-1.93 \" class=\"primitive\"/>\n  </g>\n  <g transform=\"translate(114.35,61.11)\">\n    <path fill=\"none\" d=\"M2.39,-0.93 L-0.87,2.54 -1.52,-1.6 \" class=\"primitive\"/>\n  </g>\n  <g transform=\"translate(74.04,68.35)\">\n    <path fill=\"none\" d=\"M2.73,0.03 L-2.54,1.89 -0.19,-1.93 \" class=\"primitive\"/>\n  </g>\n  <g transform=\"translate(113.6,61.02)\">\n    <path fill=\"none\" d=\"M2.16,-1.19 L-0.3,2.6 -1.86,-1.42 \" class=\"primitive\"/>\n  </g>\n  <g transform=\"translate(73.63,68.11)\">\n    <path fill=\"none\" d=\"M2.72,-0.18 L-2.23,2.08 -0.49,-1.9 \" class=\"primitive\"/>\n  </g>\n  <g transform=\"translate(112.82,61.02)\">\n    <path fill=\"none\" d=\"M1.86,-1.42 L0.3,2.6 -2.16,-1.19 \" class=\"primitive\"/>\n  </g>\n  <g transform=\"translate(68.03,67.99)\">\n    <path fill=\"none\" d=\"M0.65,-1.88 L2.05,2.17 -2.7,-0.3 \" class=\"primitive\"/>\n  </g>\n  <g transform=\"translate(102.47,64.4)\">\n    <path fill=\"none\" d=\"M-0.06,-1.93 L2.78,1.72 -2.72,0.21 \" class=\"primitive\"/>\n  </g>\n  <g transform=\"translate(109.4,62.32)\">\n    <path fill=\"none\" d=\"M-0.21,-1.93 L2.91,1.61 -2.7,0.32 \" class=\"primitive\"/>\n  </g>\n  <g transform=\"translate(73.14,67.87)\">\n    <path fill=\"none\" d=\"M2.67,-0.41 L-1.85,2.26 -0.82,-1.84 \" class=\"primitive\"/>\n  </g>\n  <g transform=\"translate(112.07,61.11)\">\n    <path fill=\"none\" d=\"M1.52,-1.6 L0.87,2.54 -2.39,-0.93 \" class=\"primitive\"/>\n  </g>\n  <g transform=\"translate(72.54,67.67)\">\n    <path fill=\"none\" d=\"M2.56,-0.67 L-1.4,2.42 -1.17,-1.75 \" class=\"primitive\"/>\n  </g>\n  <g transform=\"translate(111.38,61.26)\">\n    <path fill=\"none\" d=\"M1.17,-1.75 L1.4,2.42 -2.56,-0.67 \" class=\"primitive\"/>\n  </g>\n  <g transform=\"translate(102.52,64.36)\">\n    <path fill=\"none\" d=\"M-0.02,-1.93 L2.74,1.75 -2.72,0.18 \" class=\"primitive\"/>\n  </g>\n  <g transform=\"translate(109.44,62.28)\">\n    <path fill=\"none\" d=\"M-0.17,-1.93 L2.87,1.64 -2.7,0.29 \" class=\"primitive\"/>\n  </g>\n  <g transform=\"translate(68.23,67.9)\">\n    <path fill=\"none\" d=\"M0.78,-1.85 L1.9,2.24 -2.68,-0.39 \" class=\"primitive\"/>\n  </g>\n  <g transform=\"translate(109.49,62.24)\">\n    <path fill=\"none\" d=\"M-0.13,-1.93 L2.84,1.67 -2.71,0.26 \" class=\"primitive\"/>\n  </g>\n  <g transform=\"translate(125.32,47.56)\">\n    <path fill=\"none\" d=\"M-0.68,-1.87 L3.26,1.22 -2.58,0.65 \" class=\"primitive\"/>\n  </g>\n  <g transform=\"translate(71.85,67.51)\">\n    <path fill=\"none\" d=\"M2.39,-0.93 L-0.87,2.54 -1.52,-1.6 \" class=\"primitive\"/>\n  </g>\n  <g transform=\"translate(110.78,61.47)\">\n    <path fill=\"none\" d=\"M0.82,-1.84 L1.85,2.26 -2.67,-0.41 \" class=\"primitive\"/>\n  </g>\n  <g transform=\"translate(71.1,67.42)\">\n    <path fill=\"none\" d=\"M2.16,-1.19 L-0.3,2.6 -1.86,-1.42 \" class=\"primitive\"/>\n  </g>\n  <g transform=\"translate(110.28,61.71)\">\n    <path fill=\"none\" d=\"M0.49,-1.9 L2.23,2.08 -2.72,-0.18 \" class=\"primitive\"/>\n  </g>\n  <g transform=\"translate(70.32,67.42)\">\n    <path fill=\"none\" d=\"M1.86,-1.42 L0.3,2.6 -2.16,-1.19 \" class=\"primitive\"/>\n  </g>\n  <g transform=\"translate(109.88,61.95)\">\n    <path fill=\"none\" d=\"M0.19,-1.93 L2.54,1.89 -2.73,0.03 \" class=\"primitive\"/>\n  </g>\n  <g transform=\"translate(68.45,67.81)\">\n    <path fill=\"none\" d=\"M0.92,-1.82 L1.73,2.31 -2.65,-0.49 \" class=\"primitive\"/>\n  </g>\n  <g transform=\"translate(102.69,64.23)\">\n    <path fill=\"none\" d=\"M0.12,-1.93 L2.61,1.85 -2.73,0.08 \" class=\"primitive\"/>\n  </g>\n  <g transform=\"translate(109.59,62.16)\">\n    <path fill=\"none\" d=\"M-0.04,-1.93 L2.76,1.73 -2.72,0.2 \" class=\"primitive\"/>\n  </g>\n  <g transform=\"translate(69.57,67.51)\">\n    <path fill=\"none\" d=\"M1.52,-1.6 L0.87,2.54 -2.39,-0.93 \" class=\"primitive\"/>\n  </g>\n  <g transform=\"translate(109.55,62.19)\">\n    <path fill=\"none\" d=\"M-0.08,-1.93 L2.79,1.71 -2.71,0.22 \" class=\"primitive\"/>\n  </g>\n  <g transform=\"translate(68.88,67.67)\">\n    <path fill=\"none\" d=\"M1.17,-1.75 L1.4,2.42 -2.56,-0.67 \" class=\"primitive\"/>\n  </g>\n  <g transform=\"translate(109.29,62.42)\">\n    <path fill=\"none\" d=\"M-0.31,-1.92 L2.99,1.53 -2.68,0.39 \" class=\"primitive\"/>\n  </g>\n  <g transform=\"translate(68.56,67.77)\">\n    <path fill=\"none\" d=\"M0.99,-1.8 L1.64,2.34 -2.63,-0.54 \" class=\"primitive\"/>\n  </g>\n  <g transform=\"translate(109.65,62.12)\">\n    <path fill=\"none\" d=\"M0,-1.93 L2.72,1.77 -2.72,0.17 \" class=\"primitive\"/>\n  </g>\n  <g transform=\"translate(68.29,67.87)\">\n    <path fill=\"none\" d=\"M0.82,-1.84 L1.85,2.26 -2.67,-0.41 \" class=\"primitive\"/>\n  </g>\n  <g transform=\"translate(109.08,62.65)\">\n    <path fill=\"none\" d=\"M-0.52,-1.9 L3.15,1.36 -2.63,0.53 \" class=\"primitive\"/>\n  </g>\n  <g transform=\"translate(67.79,68.11)\">\n    <path fill=\"none\" d=\"M0.49,-1.9 L2.23,2.08 -2.72,-0.18 \" class=\"primitive\"/>\n  </g>\n  <g transform=\"translate(101.98,64.87)\">\n    <path fill=\"none\" d=\"M-0.52,-1.9 L3.15,1.36 -2.63,0.53 \" class=\"primitive\"/>\n  </g>\n  <g transform=\"translate(108.92,62.85)\">\n    <path fill=\"none\" d=\"M-0.71,-1.87 L3.27,1.21 -2.57,0.66 \" class=\"primitive\"/>\n  </g>\n  <g transform=\"translate(102.83,64.14)\">\n    <path fill=\"none\" d=\"M0.23,-1.93 L2.5,1.92 -2.73,0.01 \" class=\"primitive\"/>\n  </g>\n  <g transform=\"translate(67.38,68.35)\">\n    <path fill=\"none\" d=\"M0.19,-1.93 L2.54,1.89 -2.73,0.03 \" class=\"primitive\"/>\n  </g>\n  <g transform=\"translate(108.78,63.05)\">\n    <path fill=\"none\" d=\"M-0.87,-1.83 L3.38,1.06 -2.5,0.77 \" class=\"primitive\"/>\n  </g>\n  <g transform=\"translate(67.05,68.59)\">\n    <path fill=\"none\" d=\"M-0.08,-1.93 L2.79,1.71 -2.71,0.22 \" class=\"primitive\"/>\n  </g>\n  <g transform=\"translate(108.68,63.23)\">\n    <path fill=\"none\" d=\"M-1.02,-1.79 L3.46,0.92 -2.44,0.87 \" class=\"primitive\"/>\n  </g>\n  <g transform=\"translate(66.79,68.83)\">\n    <path fill=\"none\" d=\"M-0.31,-1.92 L2.99,1.53 -2.68,0.39 \" class=\"primitive\"/>\n  </g>\n  <g transform=\"translate(108.59,63.4)\">\n    <path fill=\"none\" d=\"M-1.15,-1.75 L3.52,0.79 -2.37,0.97 \" class=\"primitive\"/>\n  </g>\n  <g transform=\"translate(66.58,69.05)\">\n    <path fill=\"none\" d=\"M-0.52,-1.9 L3.15,1.36 -2.63,0.53 \" class=\"primitive\"/>\n  </g>\n  <g transform=\"translate(108.53,63.56)\">\n    <path fill=\"none\" d=\"M-1.27,-1.71 L3.57,0.66 -2.3,1.05 \" class=\"primitive\"/>\n  </g>\n  <g transform=\"translate(68.81,67.69)\">\n    <path fill=\"none\" d=\"M1.13,-1.76 L1.45,2.4 -2.58,-0.64 \" class=\"primitive\"/>\n  </g>\n  <g transform=\"translate(102.9,64.1)\">\n    <path fill=\"none\" d=\"M0.28,-1.92 L2.45,1.95 -2.73,-0.03 \" class=\"primitive\"/>\n  </g>\n  <g transform=\"translate(109.77,62.03)\">\n    <path fill=\"none\" d=\"M0.1,-1.93 L2.63,1.83 -2.73,0.1 \" class=\"primitive\"/>\n  </g>\n  <g transform=\"translate(68.94,67.65)\">\n    <path fill=\"none\" d=\"M1.2,-1.74 L1.35,2.43 -2.55,-0.69 \" class=\"primitive\"/>\n  </g>\n  <g transform=\"translate(109.83,61.98)\">\n    <path fill=\"none\" d=\"M0.16,-1.93 L2.58,1.87 -2.73,0.06 \" class=\"primitive\"/>\n  </g>\n  <g transform=\"translate(69.08,67.61)\">\n    <path fill=\"none\" d=\"M1.27,-1.71 L1.25,2.46 -2.52,-0.75 \" class=\"primitive\"/>\n  </g>\n  <g transform=\"translate(109.9,61.93)\">\n    <path fill=\"none\" d=\"M0.21,-1.93 L2.52,1.91 -2.73,0.02 \" class=\"primitive\"/>\n  </g>\n  <g transform=\"translate(66.42,69.25)\">\n    <path fill=\"none\" d=\"M-0.71,-1.87 L3.27,1.21 -2.57,0.66 \" class=\"primitive\"/>\n  </g>\n  <g transform=\"translate(108.48,63.72)\">\n    <path fill=\"none\" d=\"M-1.39,-1.67 L3.61,0.54 -2.23,1.12 \" class=\"primitive\"/>\n  </g>\n  <g transform=\"translate(66.29,69.45)\">\n    <path fill=\"none\" d=\"M-0.87,-1.83 L3.38,1.06 -2.5,0.77 \" class=\"primitive\"/>\n  </g>\n  <g transform=\"translate(108.44,63.87)\">\n    <path fill=\"none\" d=\"M-1.49,-1.62 L3.64,0.43 -2.15,1.19 \" class=\"primitive\"/>\n  </g>\n  <g transform=\"translate(66.18,69.63)\">\n    <path fill=\"none\" d=\"M-1.02,-1.79 L3.46,0.92 -2.44,0.87 \" class=\"primitive\"/>\n  </g>\n  <g transform=\"translate(108.41,64.01)\">\n    <path fill=\"none\" d=\"M-1.59,-1.57 L3.66,0.32 -2.08,1.25 \" class=\"primitive\"/>\n  </g>\n  <g transform=\"translate(66.1,69.8)\">\n    <path fill=\"none\" d=\"M-1.15,-1.75 L3.52,0.79 -2.37,0.97 \" class=\"primitive\"/>\n  </g>\n  <g transform=\"translate(108.39,64.15)\">\n    <path fill=\"none\" d=\"M-1.68,-1.53 L3.68,0.21 -2,1.31 \" class=\"primitive\"/>\n  </g>\n  <g transform=\"translate(66.03,69.96)\">\n    <path fill=\"none\" d=\"M-1.27,-1.71 L3.57,0.66 -2.3,1.05 \" class=\"primitive\"/>\n  </g>\n  <g transform=\"translate(101.29,66.38)\">\n    <path fill=\"none\" d=\"M-1.68,-1.53 L3.68,0.21 -2,1.31 \" class=\"primitive\"/>\n  </g>\n  <g transform=\"translate(108.37,64.29)\">\n    <path fill=\"none\" d=\"M-1.76,-1.48 L3.69,0.11 -1.93,1.37 \" class=\"primitive\"/>\n  </g>\n  <g transform=\"translate(65.98,70.12)\">\n    <path fill=\"none\" d=\"M-1.39,-1.67 L3.61,0.54 -2.23,1.12 \" class=\"primitive\"/>\n  </g>\n  <g transform=\"translate(108.37,64.43)\">\n    <path fill=\"none\" d=\"M-1.85,-1.43 L3.69,0 -1.85,1.43 \" class=\"primitive\"/>\n  </g>\n  <g transform=\"translate(65.94,70.27)\">\n    <path fill=\"none\" d=\"M-1.49,-1.62 L3.64,0.43 -2.15,1.19 \" class=\"primitive\"/>\n  </g>\n  <g transform=\"translate(108.37,64.57)\">\n    <path fill=\"none\" d=\"M-1.93,-1.37 L3.69,-0.11 -1.76,1.48 \" class=\"primitive\"/>\n  </g>\n  <g transform=\"translate(69.22,67.58)\">\n    <path fill=\"none\" d=\"M1.35,-1.68 L1.14,2.48 -2.49,-0.8 \" class=\"primitive\"/>\n  </g>\n  <g transform=\"translate(103.14,63.95)\">\n    <path fill=\"none\" d=\"M0.46,-1.91 L2.27,2.06 -2.72,-0.16 \" class=\"primitive\"/>\n  </g>\n  <g transform=\"translate(109.98,61.89)\">\n    <path fill=\"none\" d=\"M0.27,-1.92 L2.47,1.94 -2.73,-0.02 \" class=\"primitive\"/>\n  </g>\n  <g transform=\"translate(69.36,67.55)\">\n    <path fill=\"none\" d=\"M1.42,-1.65 L1.03,2.51 -2.45,-0.86 \" class=\"primitive\"/>\n  </g>\n  <g transform=\"translate(103.23,63.91)\">\n    <path fill=\"none\" d=\"M0.52,-1.9 L2.2,2.1 -2.72,-0.2 \" class=\"primitive\"/>\n  </g>\n  <g transform=\"translate(110.05,61.84)\">\n    <path fill=\"none\" d=\"M0.33,-1.92 L2.41,1.98 -2.73,-0.06 \" class=\"primitive\"/>\n  </g>\n  <g transform=\"translate(103.32,63.86)\">\n    <path fill=\"none\" d=\"M0.59,-1.89 L2.12,2.13 -2.71,-0.25 \" class=\"primitive\"/>\n  </g>\n  <g transform=\"translate(69.66,67.49)\">\n    <path fill=\"none\" d=\"M1.57,-1.58 L0.8,2.55 -2.37,-0.96 \" class=\"primitive\"/>\n  </g>\n  <g transform=\"translate(103.42,63.81)\">\n    <path fill=\"none\" d=\"M0.65,-1.88 L2.05,2.17 -2.7,-0.29 \" class=\"primitive\"/>\n  </g>\n  <g transform=\"translate(110.22,61.74)\">\n    <path fill=\"none\" d=\"M0.45,-1.91 L2.28,2.05 -2.72,-0.15 \" class=\"primitive\"/>\n  </g>\n  <g transform=\"translate(69.82,67.47)\">\n    <path fill=\"none\" d=\"M1.64,-1.55 L0.68,2.57 -2.32,-1.02 \" class=\"primitive\"/>\n  </g>\n  <g transform=\"translate(110.32,61.69)\">\n    <path fill=\"none\" d=\"M0.51,-1.9 L2.21,2.09 -2.72,-0.2 \" class=\"primitive\"/>\n  </g>\n  <g transform=\"translate(69.97,67.45)\">\n    <path fill=\"none\" d=\"M1.71,-1.51 L0.56,2.58 -2.27,-1.07 \" class=\"primitive\"/>\n  </g>\n  <g transform=\"translate(103.64,63.71)\">\n    <path fill=\"none\" d=\"M0.79,-1.85 L1.89,2.24 -2.68,-0.39 \" class=\"primitive\"/>\n  </g>\n  <g transform=\"translate(110.41,61.64)\">\n    <path fill=\"none\" d=\"M0.58,-1.89 L2.13,2.13 -2.71,-0.24 \" class=\"primitive\"/>\n  </g>\n  <g transform=\"translate(70.14,67.44)\">\n    <path fill=\"none\" d=\"M1.78,-1.47 L0.44,2.59 -2.22,-1.13 \" class=\"primitive\"/>\n  </g>\n  <g transform=\"translate(110.52,61.59)\">\n    <path fill=\"none\" d=\"M0.65,-1.88 L2.05,2.17 -2.7,-0.29 \" class=\"primitive\"/>\n  </g>\n  <g transform=\"translate(70.3,67.42)\">\n    <path fill=\"none\" d=\"M1.85,-1.42 L0.31,2.6 -2.17,-1.18 \" class=\"primitive\"/>\n  </g>\n  <g transform=\"translate(110.63,61.54)\">\n    <path fill=\"none\" d=\"M0.72,-1.86 L1.97,2.21 -2.69,-0.34 \" class=\"primitive\"/>\n  </g>\n  <g transform=\"translate(70.46,67.42)\">\n    <path fill=\"none\" d=\"M1.92,-1.38 L0.19,2.61 -2.11,-1.23 \" class=\"primitive\"/>\n  </g>\n  <g transform=\"translate(104,63.58)\">\n    <path fill=\"none\" d=\"M1.01,-1.8 L1.61,2.35 -2.62,-0.55 \" class=\"primitive\"/>\n  </g>\n  <g transform=\"translate(110.74,61.49)\">\n    <path fill=\"none\" d=\"M0.79,-1.85 L1.88,2.25 -2.67,-0.4 \" class=\"primitive\"/>\n  </g>\n  <g transform=\"translate(110.86,61.44)\">\n    <path fill=\"none\" d=\"M0.87,-1.83 L1.79,2.28 -2.66,-0.45 \" class=\"primitive\"/>\n  </g>\n  <g transform=\"translate(70.79,67.41)\">\n    <path fill=\"none\" d=\"M2.05,-1.28 L-0.06,2.61 -1.98,-1.33 \" class=\"primitive\"/>\n  </g>\n  <g transform=\"translate(104.27,63.49)\">\n    <path fill=\"none\" d=\"M1.16,-1.75 L1.4,2.41 -2.57,-0.67 \" class=\"primitive\"/>\n  </g>\n  <g transform=\"translate(110.99,61.39)\">\n    <path fill=\"none\" d=\"M0.94,-1.81 L1.69,2.32 -2.64,-0.51 \" class=\"primitive\"/>\n  </g>\n  <g transform=\"translate(70.96,67.42)\">\n    <path fill=\"none\" d=\"M2.11,-1.23 L-0.19,2.61 -1.92,-1.38 \" class=\"primitive\"/>\n  </g>\n  <g transform=\"translate(111.12,61.35)\">\n    <path fill=\"none\" d=\"M1.02,-1.79 L1.59,2.35 -2.61,-0.56 \" class=\"primitive\"/>\n  </g>\n  <g transform=\"translate(71.12,67.42)\">\n    <path fill=\"none\" d=\"M2.17,-1.18 L-0.31,2.6 -1.85,-1.42 \" class=\"primitive\"/>\n  </g>\n  <g transform=\"translate(104.56,63.41)\">\n    <path fill=\"none\" d=\"M1.32,-1.69 L1.18,2.47 -2.5,-0.78 \" class=\"primitive\"/>\n  </g>\n  <g transform=\"translate(111.26,61.3)\">\n    <path fill=\"none\" d=\"M1.1,-1.77 L1.49,2.39 -2.59,-0.62 \" class=\"primitive\"/>\n  </g>\n  <g transform=\"translate(71.29,67.44)\">\n    <path fill=\"none\" d=\"M2.22,-1.13 L-0.44,2.59 -1.78,-1.47 \" class=\"primitive\"/>\n  </g>\n  <g transform=\"translate(111.4,61.26)\">\n    <path fill=\"none\" d=\"M1.18,-1.74 L1.38,2.42 -2.56,-0.68 \" class=\"primitive\"/>\n  </g>\n  <g transform=\"translate(71.45,67.45)\">\n    <path fill=\"none\" d=\"M2.27,-1.07 L-0.56,2.58 -1.71,-1.51 \" class=\"primitive\"/>\n  </g>\n  <g transform=\"translate(111.55,61.22)\">\n    <path fill=\"none\" d=\"M1.26,-1.71 L1.26,2.45 -2.53,-0.74 \" class=\"primitive\"/>\n  </g>\n  <g transform=\"translate(71.6,67.47)\">\n    <path fill=\"none\" d=\"M2.32,-1.02 L-0.68,2.57 -1.64,-1.55 \" class=\"primitive\"/>\n  </g>\n  <g transform=\"translate(105.04,63.32)\">\n    <path fill=\"none\" d=\"M1.56,-1.59 L0.82,2.55 -2.37,-0.96 \" class=\"primitive\"/>\n  </g>\n  <g transform=\"translate(65.91,70.41)\">\n    <path fill=\"none\" d=\"M-1.59,-1.57 L3.66,0.32 -2.08,1.25 \" class=\"primitive\"/>\n  </g>\n  <g transform=\"translate(108.39,64.71)\">\n    <path fill=\"none\" d=\"M-2,-1.31 L3.68,-0.21 -1.68,1.53 \" class=\"primitive\"/>\n  </g>\n  <g transform=\"translate(111.87,61.14)\">\n    <path fill=\"none\" d=\"M1.43,-1.65 L1.02,2.51 -2.45,-0.86 \" class=\"primitive\"/>\n  </g>\n  <g transform=\"translate(71.91,67.52)\">\n    <path fill=\"none\" d=\"M2.41,-0.91 L-0.92,2.53 -1.49,-1.62 \" class=\"primitive\"/>\n  </g>\n  <g transform=\"translate(112.03,61.11)\">\n    <path fill=\"none\" d=\"M1.51,-1.61 L0.9,2.53 -2.4,-0.92 \" class=\"primitive\"/>\n  </g>\n  <g transform=\"translate(65.89,70.56)\">\n    <path fill=\"none\" d=\"M-1.68,-1.53 L3.68,0.21 -2,1.31 \" class=\"primitive\"/>\n  </g>\n  <g transform=\"translate(108.41,64.85)\">\n    <path fill=\"none\" d=\"M-2.08,-1.25 L3.66,-0.32 -1.59,1.57 \" class=\"primitive\"/>\n  </g>\n  <g transform=\"translate(72.06,67.55)\">\n    <path fill=\"none\" d=\"M2.45,-0.86 L-1.03,2.51 -1.42,-1.65 \" class=\"primitive\"/>\n  </g>\n  <g transform=\"translate(72.21,67.58)\">\n    <path fill=\"none\" d=\"M2.49,-0.8 L-1.14,2.48 -1.35,-1.68 \" class=\"primitive\"/>\n  </g>\n  <g transform=\"translate(112.38,61.06)\">\n    <path fill=\"none\" d=\"M1.67,-1.53 L0.63,2.57 -2.3,-1.04 \" class=\"primitive\"/>\n  </g>\n  <g transform=\"translate(127.53,46.07)\">\n    <path fill=\"none\" d=\"M1.04,-1.79 L1.57,2.36 -2.61,-0.57 \" class=\"primitive\"/>\n  </g>\n  <g transform=\"translate(72.48,67.65)\">\n    <path fill=\"none\" d=\"M2.55,-0.69 L-1.35,2.43 -1.2,-1.74 \" class=\"primitive\"/>\n  </g>\n  <g transform=\"translate(112.74,61.03)\">\n    <path fill=\"none\" d=\"M1.83,-1.44 L0.36,2.6 -2.19,-1.16 \" class=\"primitive\"/>\n  </g>\n  <g transform=\"translate(72.61,67.69)\">\n    <path fill=\"none\" d=\"M2.58,-0.64 L-1.45,2.4 -1.13,-1.76 \" class=\"primitive\"/>\n  </g>\n  <g transform=\"translate(112.92,61.02)\">\n    <path fill=\"none\" d=\"M1.9,-1.39 L0.22,2.61 -2.12,-1.22 \" class=\"primitive\"/>\n  </g>\n  <g transform=\"translate(72.74,67.73)\">\n    <path fill=\"none\" d=\"M2.6,-0.59 L-1.55,2.37 -1.06,-1.78 \" class=\"primitive\"/>\n  </g>\n  <g transform=\"translate(72.86,67.77)\">\n    <path fill=\"none\" d=\"M2.63,-0.54 L-1.64,2.34 -0.99,-1.8 \" class=\"primitive\"/>\n  </g>\n  <g transform=\"translate(106.6,63.25)\">\n    <path fill=\"none\" d=\"M2.19,-1.15 L-0.37,2.6 -1.82,-1.44 \" class=\"primitive\"/>\n  </g>\n  <g transform=\"translate(72.98,67.81)\">\n    <path fill=\"none\" d=\"M2.65,-0.49 L-1.73,2.31 -0.92,-1.82 \" class=\"primitive\"/>\n  </g>\n  <g transform=\"translate(113.66,61.03)\">\n    <path fill=\"none\" d=\"M2.18,-1.17 L-0.34,2.6 -1.84,-1.43 \" class=\"primitive\"/>\n  </g>\n  <g transform=\"translate(113.84,61.04)\">\n    <path fill=\"none\" d=\"M2.24,-1.11 L-0.48,2.59 -1.76,-1.48 \" class=\"primitive\"/>\n  </g>\n  <g transform=\"translate(65.88,70.7)\">\n    <path fill=\"none\" d=\"M-1.76,-1.48 L3.69,0.11 -1.93,1.37 \" class=\"primitive\"/>\n  </g>\n  <g transform=\"translate(108.44,65)\">\n    <path fill=\"none\" d=\"M-2.15,-1.19 L3.64,-0.43 -1.49,1.62 \" class=\"primitive\"/>\n  </g>\n  <g transform=\"translate(73.3,67.94)\">\n    <path fill=\"none\" d=\"M2.69,-0.34 L-1.97,2.21 -0.72,-1.86 \" class=\"primitive\"/>\n  </g>\n  <g transform=\"translate(107.28,63.33)\">\n    <path fill=\"none\" d=\"M2.4,-0.92 L-0.89,2.53 -1.51,-1.61 \" class=\"primitive\"/>\n  </g>\n  <g transform=\"translate(114.01,61.06)\">\n    <path fill=\"none\" d=\"M2.29,-1.05 L-0.62,2.57 -1.68,-1.52 \" class=\"primitive\"/>\n  </g>\n  <g transform=\"translate(107.44,63.37)\">\n    <path fill=\"none\" d=\"M2.44,-0.86 L-1.01,2.51 -1.43,-1.65 \" class=\"primitive\"/>\n  </g>\n</g>\n<g font-size=\"4\" stroke=\"#000000\" stroke-opacity=\"0.000\" fill=\"#000000\" id=\"img-de7acd6b-3\">\n</g>\n<g stroke-width=\"0\" stroke=\"#000000\" stroke-opacity=\"0.000\" fill=\"#40E0D0\" id=\"img-de7acd6b-4\">\n  <g transform=\"translate(70.71,70.83)\">\n    <circle cx=\"0\" cy=\"0\" r=\"1.1\" class=\"primitive\"/>\n  </g>\n  <g transform=\"translate(80.16,70.56)\">\n    <circle cx=\"0\" cy=\"0\" r=\"1.1\" class=\"primitive\"/>\n  </g>\n  <g transform=\"translate(89.37,69.76)\">\n    <circle cx=\"0\" cy=\"0\" r=\"1.1\" class=\"primitive\"/>\n  </g>\n  <g transform=\"translate(98.09,68.45)\">\n    <circle cx=\"0\" cy=\"0\" r=\"1.1\" class=\"primitive\"/>\n  </g>\n  <g transform=\"translate(11.79,91.67)\">\n    <circle cx=\"0\" cy=\"0\" r=\"1.1\" class=\"primitive\"/>\n  </g>\n  <g transform=\"translate(106.11,66.66)\">\n    <circle cx=\"0\" cy=\"0\" r=\"1.1\" class=\"primitive\"/>\n  </g>\n  <g transform=\"translate(113.21,64.43)\">\n    <circle cx=\"0\" cy=\"0\" r=\"1.1\" class=\"primitive\"/>\n  </g>\n  <g transform=\"translate(119.21,61.83)\">\n    <circle cx=\"0\" cy=\"0\" r=\"1.1\" class=\"primitive\"/>\n  </g>\n  <g transform=\"translate(123.95,58.93)\">\n    <circle cx=\"0\" cy=\"0\" r=\"1.1\" class=\"primitive\"/>\n  </g>\n  <g transform=\"translate(127.31,55.8)\">\n    <circle cx=\"0\" cy=\"0\" r=\"1.1\" class=\"primitive\"/>\n  </g>\n  <g transform=\"translate(129.21,52.51)\">\n    <circle cx=\"0\" cy=\"0\" r=\"1.1\" class=\"primitive\"/>\n  </g>\n  <g transform=\"translate(129.59,49.16)\">\n    <circle cx=\"0\" cy=\"0\" r=\"1.1\" class=\"primitive\"/>\n  </g>\n  <g transform=\"translate(128.45,45.83)\">\n    <circle cx=\"0\" cy=\"0\" r=\"1.1\" class=\"primitive\"/>\n  </g>\n  <g transform=\"translate(13.17,91.67)\">\n    <circle cx=\"0\" cy=\"0\" r=\"1.1\" class=\"primitive\"/>\n  </g>\n  <g transform=\"translate(125.81,42.61)\">\n    <circle cx=\"0\" cy=\"0\" r=\"1.1\" class=\"primitive\"/>\n  </g>\n  <g transform=\"translate(121.74,39.58)\">\n    <circle cx=\"0\" cy=\"0\" r=\"1.1\" class=\"primitive\"/>\n  </g>\n  <g transform=\"translate(116.35,36.82)\">\n    <circle cx=\"0\" cy=\"0\" r=\"1.1\" class=\"primitive\"/>\n  </g>\n  <g transform=\"translate(109.79,34.41)\">\n    <circle cx=\"0\" cy=\"0\" r=\"1.1\" class=\"primitive\"/>\n  </g>\n  <g transform=\"translate(11.79,8.33)\">\n    <circle cx=\"0\" cy=\"0\" r=\"1.1\" class=\"primitive\"/>\n  </g>\n  <g transform=\"translate(102.2,32.39)\">\n    <circle cx=\"0\" cy=\"0\" r=\"1.1\" class=\"primitive\"/>\n  </g>\n  <g transform=\"translate(93.81,30.83)\">\n    <circle cx=\"0\" cy=\"0\" r=\"1.1\" class=\"primitive\"/>\n  </g>\n  <g transform=\"translate(14.81,8.33)\">\n    <circle cx=\"0\" cy=\"0\" r=\"1.1\" class=\"primitive\"/>\n  </g>\n  <g transform=\"translate(17.83,8.33)\">\n    <circle cx=\"0\" cy=\"0\" r=\"1.1\" class=\"primitive\"/>\n  </g>\n  <g transform=\"translate(20.85,8.33)\">\n    <circle cx=\"0\" cy=\"0\" r=\"1.1\" class=\"primitive\"/>\n  </g>\n  <g transform=\"translate(84.81,29.77)\">\n    <circle cx=\"0\" cy=\"0\" r=\"1.1\" class=\"primitive\"/>\n  </g>\n  <g transform=\"translate(75.45,29.23)\">\n    <circle cx=\"0\" cy=\"0\" r=\"1.1\" class=\"primitive\"/>\n  </g>\n  <g transform=\"translate(65.97,29.23)\">\n    <circle cx=\"0\" cy=\"0\" r=\"1.1\" class=\"primitive\"/>\n  </g>\n  <g transform=\"translate(23.87,8.33)\">\n    <circle cx=\"0\" cy=\"0\" r=\"1.1\" class=\"primitive\"/>\n  </g>\n  <g transform=\"translate(14.56,91.67)\">\n    <circle cx=\"0\" cy=\"0\" r=\"1.1\" class=\"primitive\"/>\n  </g>\n  <g transform=\"translate(56.61,29.77)\">\n    <circle cx=\"0\" cy=\"0\" r=\"1.1\" class=\"primitive\"/>\n  </g>\n  <g transform=\"translate(47.61,30.83)\">\n    <circle cx=\"0\" cy=\"0\" r=\"1.1\" class=\"primitive\"/>\n  </g>\n  <g transform=\"translate(26.89,8.33)\">\n    <circle cx=\"0\" cy=\"0\" r=\"1.1\" class=\"primitive\"/>\n  </g>\n  <g transform=\"translate(39.22,32.39)\">\n    <circle cx=\"0\" cy=\"0\" r=\"1.1\" class=\"primitive\"/>\n  </g>\n  <g transform=\"translate(31.64,34.41)\">\n    <circle cx=\"0\" cy=\"0\" r=\"1.1\" class=\"primitive\"/>\n  </g>\n  <g transform=\"translate(29.92,8.33)\">\n    <circle cx=\"0\" cy=\"0\" r=\"1.1\" class=\"primitive\"/>\n  </g>\n  <g transform=\"translate(15.94,91.67)\">\n    <circle cx=\"0\" cy=\"0\" r=\"1.1\" class=\"primitive\"/>\n  </g>\n  <g transform=\"translate(25.07,36.82)\">\n    <circle cx=\"0\" cy=\"0\" r=\"1.1\" class=\"primitive\"/>\n  </g>\n  <g transform=\"translate(19.68,39.58)\">\n    <circle cx=\"0\" cy=\"0\" r=\"1.1\" class=\"primitive\"/>\n  </g>\n  <g transform=\"translate(15.61,42.61)\">\n    <circle cx=\"0\" cy=\"0\" r=\"1.1\" class=\"primitive\"/>\n  </g>\n  <g transform=\"translate(12.98,45.83)\">\n    <circle cx=\"0\" cy=\"0\" r=\"1.1\" class=\"primitive\"/>\n  </g>\n  <g transform=\"translate(32.94,8.33)\">\n    <circle cx=\"0\" cy=\"0\" r=\"1.1\" class=\"primitive\"/>\n  </g>\n  <g transform=\"translate(17.33,91.67)\">\n    <circle cx=\"0\" cy=\"0\" r=\"1.1\" class=\"primitive\"/>\n  </g>\n  <g transform=\"translate(35.96,8.33)\">\n    <circle cx=\"0\" cy=\"0\" r=\"1.1\" class=\"primitive\"/>\n  </g>\n  <g transform=\"translate(38.98,8.33)\">\n    <circle cx=\"0\" cy=\"0\" r=\"1.1\" class=\"primitive\"/>\n  </g>\n  <g transform=\"translate(11.83,49.16)\">\n    <circle cx=\"0\" cy=\"0\" r=\"1.1\" class=\"primitive\"/>\n  </g>\n  <g transform=\"translate(12.21,52.51)\">\n    <circle cx=\"0\" cy=\"0\" r=\"1.1\" class=\"primitive\"/>\n  </g>\n  <g transform=\"translate(14.11,55.8)\">\n    <circle cx=\"0\" cy=\"0\" r=\"1.1\" class=\"primitive\"/>\n  </g>\n  <g transform=\"translate(17.47,58.93)\">\n    <circle cx=\"0\" cy=\"0\" r=\"1.1\" class=\"primitive\"/>\n  </g>\n  <g transform=\"translate(22.22,61.83)\">\n    <circle cx=\"0\" cy=\"0\" r=\"1.1\" class=\"primitive\"/>\n  </g>\n  <g transform=\"translate(28.21,64.43)\">\n    <circle cx=\"0\" cy=\"0\" r=\"1.1\" class=\"primitive\"/>\n  </g>\n  <g transform=\"translate(35.31,66.66)\">\n    <circle cx=\"0\" cy=\"0\" r=\"1.1\" class=\"primitive\"/>\n  </g>\n  <g transform=\"translate(42,8.33)\">\n    <circle cx=\"0\" cy=\"0\" r=\"1.1\" class=\"primitive\"/>\n  </g>\n  <g transform=\"translate(45.03,8.33)\">\n    <circle cx=\"0\" cy=\"0\" r=\"1.1\" class=\"primitive\"/>\n  </g>\n  <g transform=\"translate(48.05,8.33)\">\n    <circle cx=\"0\" cy=\"0\" r=\"1.1\" class=\"primitive\"/>\n  </g>\n  <g transform=\"translate(18.72,91.67)\">\n    <circle cx=\"0\" cy=\"0\" r=\"1.1\" class=\"primitive\"/>\n  </g>\n  <g transform=\"translate(51.07,8.33)\">\n    <circle cx=\"0\" cy=\"0\" r=\"1.1\" class=\"primitive\"/>\n  </g>\n  <g transform=\"translate(54.09,8.33)\">\n    <circle cx=\"0\" cy=\"0\" r=\"1.1\" class=\"primitive\"/>\n  </g>\n  <g transform=\"translate(57.11,8.33)\">\n    <circle cx=\"0\" cy=\"0\" r=\"1.1\" class=\"primitive\"/>\n  </g>\n  <g transform=\"translate(60.13,8.33)\">\n    <circle cx=\"0\" cy=\"0\" r=\"1.1\" class=\"primitive\"/>\n  </g>\n  <g transform=\"translate(63.16,8.33)\">\n    <circle cx=\"0\" cy=\"0\" r=\"1.1\" class=\"primitive\"/>\n  </g>\n  <g transform=\"translate(66.18,8.33)\">\n    <circle cx=\"0\" cy=\"0\" r=\"1.1\" class=\"primitive\"/>\n  </g>\n  <g transform=\"translate(69.2,8.33)\">\n    <circle cx=\"0\" cy=\"0\" r=\"1.1\" class=\"primitive\"/>\n  </g>\n  <g transform=\"translate(72.22,8.33)\">\n    <circle cx=\"0\" cy=\"0\" r=\"1.1\" class=\"primitive\"/>\n  </g>\n  <g transform=\"translate(20.1,91.67)\">\n    <circle cx=\"0\" cy=\"0\" r=\"1.1\" class=\"primitive\"/>\n  </g>\n  <g transform=\"translate(21.49,91.67)\">\n    <circle cx=\"0\" cy=\"0\" r=\"1.1\" class=\"primitive\"/>\n  </g>\n  <g transform=\"translate(75.24,8.33)\">\n    <circle cx=\"0\" cy=\"0\" r=\"1.1\" class=\"primitive\"/>\n  </g>\n  <g transform=\"translate(78.27,8.33)\">\n    <circle cx=\"0\" cy=\"0\" r=\"1.1\" class=\"primitive\"/>\n  </g>\n  <g transform=\"translate(22.88,91.67)\">\n    <circle cx=\"0\" cy=\"0\" r=\"1.1\" class=\"primitive\"/>\n  </g>\n  <g transform=\"translate(81.29,8.33)\">\n    <circle cx=\"0\" cy=\"0\" r=\"1.1\" class=\"primitive\"/>\n  </g>\n  <g transform=\"translate(84.31,8.33)\">\n    <circle cx=\"0\" cy=\"0\" r=\"1.1\" class=\"primitive\"/>\n  </g>\n  <g transform=\"translate(87.33,8.33)\">\n    <circle cx=\"0\" cy=\"0\" r=\"1.1\" class=\"primitive\"/>\n  </g>\n  <g transform=\"translate(43.33,68.45)\">\n    <circle cx=\"0\" cy=\"0\" r=\"1.1\" class=\"primitive\"/>\n  </g>\n  <g transform=\"translate(90.35,8.33)\">\n    <circle cx=\"0\" cy=\"0\" r=\"1.1\" class=\"primitive\"/>\n  </g>\n  <g transform=\"translate(24.26,91.67)\">\n    <circle cx=\"0\" cy=\"0\" r=\"1.1\" class=\"primitive\"/>\n  </g>\n  <g transform=\"translate(93.37,8.33)\">\n    <circle cx=\"0\" cy=\"0\" r=\"1.1\" class=\"primitive\"/>\n  </g>\n  <g transform=\"translate(52.05,69.76)\">\n    <circle cx=\"0\" cy=\"0\" r=\"1.1\" class=\"primitive\"/>\n  </g>\n  <g transform=\"translate(96.4,8.33)\">\n    <circle cx=\"0\" cy=\"0\" r=\"1.1\" class=\"primitive\"/>\n  </g>\n  <g transform=\"translate(25.65,91.67)\">\n    <circle cx=\"0\" cy=\"0\" r=\"1.1\" class=\"primitive\"/>\n  </g>\n  <g transform=\"translate(99.42,8.33)\">\n    <circle cx=\"0\" cy=\"0\" r=\"1.1\" class=\"primitive\"/>\n  </g>\n  <g transform=\"translate(27.04,91.67)\">\n    <circle cx=\"0\" cy=\"0\" r=\"1.1\" class=\"primitive\"/>\n  </g>\n  <g transform=\"translate(102.44,8.33)\">\n    <circle cx=\"0\" cy=\"0\" r=\"1.1\" class=\"primitive\"/>\n  </g>\n  <g transform=\"translate(28.42,91.67)\">\n    <circle cx=\"0\" cy=\"0\" r=\"1.1\" class=\"primitive\"/>\n  </g>\n  <g transform=\"translate(105.46,8.33)\">\n    <circle cx=\"0\" cy=\"0\" r=\"1.1\" class=\"primitive\"/>\n  </g>\n  <g transform=\"translate(29.81,91.67)\">\n    <circle cx=\"0\" cy=\"0\" r=\"1.1\" class=\"primitive\"/>\n  </g>\n  <g transform=\"translate(108.48,8.33)\">\n    <circle cx=\"0\" cy=\"0\" r=\"1.1\" class=\"primitive\"/>\n  </g>\n  <g transform=\"translate(111.51,8.33)\">\n    <circle cx=\"0\" cy=\"0\" r=\"1.1\" class=\"primitive\"/>\n  </g>\n  <g transform=\"translate(114.53,8.33)\">\n    <circle cx=\"0\" cy=\"0\" r=\"1.1\" class=\"primitive\"/>\n  </g>\n  <g transform=\"translate(31.2,91.67)\">\n    <circle cx=\"0\" cy=\"0\" r=\"1.1\" class=\"primitive\"/>\n  </g>\n  <g transform=\"translate(117.55,8.33)\">\n    <circle cx=\"0\" cy=\"0\" r=\"1.1\" class=\"primitive\"/>\n  </g>\n  <g transform=\"translate(32.58,91.67)\">\n    <circle cx=\"0\" cy=\"0\" r=\"1.1\" class=\"primitive\"/>\n  </g>\n  <g transform=\"translate(33.97,91.67)\">\n    <circle cx=\"0\" cy=\"0\" r=\"1.1\" class=\"primitive\"/>\n  </g>\n  <g transform=\"translate(35.36,91.67)\">\n    <circle cx=\"0\" cy=\"0\" r=\"1.1\" class=\"primitive\"/>\n  </g>\n  <g transform=\"translate(36.74,91.67)\">\n    <circle cx=\"0\" cy=\"0\" r=\"1.1\" class=\"primitive\"/>\n  </g>\n  <g transform=\"translate(38.13,91.67)\">\n    <circle cx=\"0\" cy=\"0\" r=\"1.1\" class=\"primitive\"/>\n  </g>\n  <g transform=\"translate(39.51,91.67)\">\n    <circle cx=\"0\" cy=\"0\" r=\"1.1\" class=\"primitive\"/>\n  </g>\n  <g transform=\"translate(40.9,91.67)\">\n    <circle cx=\"0\" cy=\"0\" r=\"1.1\" class=\"primitive\"/>\n  </g>\n  <g transform=\"translate(42.29,91.67)\">\n    <circle cx=\"0\" cy=\"0\" r=\"1.1\" class=\"primitive\"/>\n  </g>\n  <g transform=\"translate(43.67,91.67)\">\n    <circle cx=\"0\" cy=\"0\" r=\"1.1\" class=\"primitive\"/>\n  </g>\n  <g transform=\"translate(120.57,8.33)\">\n    <circle cx=\"0\" cy=\"0\" r=\"1.1\" class=\"primitive\"/>\n  </g>\n  <g transform=\"translate(123.59,8.33)\">\n    <circle cx=\"0\" cy=\"0\" r=\"1.1\" class=\"primitive\"/>\n  </g>\n  <g transform=\"translate(45.06,91.67)\">\n    <circle cx=\"0\" cy=\"0\" r=\"1.1\" class=\"primitive\"/>\n  </g>\n  <g transform=\"translate(46.45,91.67)\">\n    <circle cx=\"0\" cy=\"0\" r=\"1.1\" class=\"primitive\"/>\n  </g>\n  <g transform=\"translate(47.83,91.67)\">\n    <circle cx=\"0\" cy=\"0\" r=\"1.1\" class=\"primitive\"/>\n  </g>\n  <g transform=\"translate(49.22,91.67)\">\n    <circle cx=\"0\" cy=\"0\" r=\"1.1\" class=\"primitive\"/>\n  </g>\n  <g transform=\"translate(50.61,91.67)\">\n    <circle cx=\"0\" cy=\"0\" r=\"1.1\" class=\"primitive\"/>\n  </g>\n  <g transform=\"translate(51.99,91.67)\">\n    <circle cx=\"0\" cy=\"0\" r=\"1.1\" class=\"primitive\"/>\n  </g>\n  <g transform=\"translate(53.38,91.67)\">\n    <circle cx=\"0\" cy=\"0\" r=\"1.1\" class=\"primitive\"/>\n  </g>\n  <g transform=\"translate(54.77,91.67)\">\n    <circle cx=\"0\" cy=\"0\" r=\"1.1\" class=\"primitive\"/>\n  </g>\n  <g transform=\"translate(56.15,91.67)\">\n    <circle cx=\"0\" cy=\"0\" r=\"1.1\" class=\"primitive\"/>\n  </g>\n  <g transform=\"translate(57.54,91.67)\">\n    <circle cx=\"0\" cy=\"0\" r=\"1.1\" class=\"primitive\"/>\n  </g>\n  <g transform=\"translate(58.93,91.67)\">\n    <circle cx=\"0\" cy=\"0\" r=\"1.1\" class=\"primitive\"/>\n  </g>\n  <g transform=\"translate(60.31,91.67)\">\n    <circle cx=\"0\" cy=\"0\" r=\"1.1\" class=\"primitive\"/>\n  </g>\n  <g transform=\"translate(61.7,91.67)\">\n    <circle cx=\"0\" cy=\"0\" r=\"1.1\" class=\"primitive\"/>\n  </g>\n  <g transform=\"translate(63.09,91.67)\">\n    <circle cx=\"0\" cy=\"0\" r=\"1.1\" class=\"primitive\"/>\n  </g>\n  <g transform=\"translate(61.26,70.56)\">\n    <circle cx=\"0\" cy=\"0\" r=\"1.1\" class=\"primitive\"/>\n  </g>\n  <g transform=\"translate(64.47,91.67)\">\n    <circle cx=\"0\" cy=\"0\" r=\"1.1\" class=\"primitive\"/>\n  </g>\n  <g transform=\"translate(65.86,91.67)\">\n    <circle cx=\"0\" cy=\"0\" r=\"1.1\" class=\"primitive\"/>\n  </g>\n  <g transform=\"translate(67.24,91.67)\">\n    <circle cx=\"0\" cy=\"0\" r=\"1.1\" class=\"primitive\"/>\n  </g>\n  <g transform=\"translate(68.63,91.67)\">\n    <circle cx=\"0\" cy=\"0\" r=\"1.1\" class=\"primitive\"/>\n  </g>\n  <g transform=\"translate(70.02,91.67)\">\n    <circle cx=\"0\" cy=\"0\" r=\"1.1\" class=\"primitive\"/>\n  </g>\n  <g transform=\"translate(126.61,8.33)\">\n    <circle cx=\"0\" cy=\"0\" r=\"1.1\" class=\"primitive\"/>\n  </g>\n  <g transform=\"translate(71.4,91.67)\">\n    <circle cx=\"0\" cy=\"0\" r=\"1.1\" class=\"primitive\"/>\n  </g>\n  <g transform=\"translate(72.79,91.67)\">\n    <circle cx=\"0\" cy=\"0\" r=\"1.1\" class=\"primitive\"/>\n  </g>\n  <g transform=\"translate(74.18,91.67)\">\n    <circle cx=\"0\" cy=\"0\" r=\"1.1\" class=\"primitive\"/>\n  </g>\n  <g transform=\"translate(75.56,91.67)\">\n    <circle cx=\"0\" cy=\"0\" r=\"1.1\" class=\"primitive\"/>\n  </g>\n  <g transform=\"translate(76.95,91.67)\">\n    <circle cx=\"0\" cy=\"0\" r=\"1.1\" class=\"primitive\"/>\n  </g>\n  <g transform=\"translate(78.34,91.67)\">\n    <circle cx=\"0\" cy=\"0\" r=\"1.1\" class=\"primitive\"/>\n  </g>\n  <g transform=\"translate(79.72,91.67)\">\n    <circle cx=\"0\" cy=\"0\" r=\"1.1\" class=\"primitive\"/>\n  </g>\n  <g transform=\"translate(81.11,91.67)\">\n    <circle cx=\"0\" cy=\"0\" r=\"1.1\" class=\"primitive\"/>\n  </g>\n  <g transform=\"translate(82.5,91.67)\">\n    <circle cx=\"0\" cy=\"0\" r=\"1.1\" class=\"primitive\"/>\n  </g>\n  <g transform=\"translate(83.88,91.67)\">\n    <circle cx=\"0\" cy=\"0\" r=\"1.1\" class=\"primitive\"/>\n  </g>\n  <g transform=\"translate(85.27,91.67)\">\n    <circle cx=\"0\" cy=\"0\" r=\"1.1\" class=\"primitive\"/>\n  </g>\n  <g transform=\"translate(86.66,91.67)\">\n    <circle cx=\"0\" cy=\"0\" r=\"1.1\" class=\"primitive\"/>\n  </g>\n  <g transform=\"translate(88.04,91.67)\">\n    <circle cx=\"0\" cy=\"0\" r=\"1.1\" class=\"primitive\"/>\n  </g>\n  <g transform=\"translate(129.64,8.33)\">\n    <circle cx=\"0\" cy=\"0\" r=\"1.1\" class=\"primitive\"/>\n  </g>\n  <g transform=\"translate(89.43,91.67)\">\n    <circle cx=\"0\" cy=\"0\" r=\"1.1\" class=\"primitive\"/>\n  </g>\n  <g transform=\"translate(90.81,91.67)\">\n    <circle cx=\"0\" cy=\"0\" r=\"1.1\" class=\"primitive\"/>\n  </g>\n  <g transform=\"translate(92.2,91.67)\">\n    <circle cx=\"0\" cy=\"0\" r=\"1.1\" class=\"primitive\"/>\n  </g>\n  <g transform=\"translate(93.59,91.67)\">\n    <circle cx=\"0\" cy=\"0\" r=\"1.1\" class=\"primitive\"/>\n  </g>\n  <g transform=\"translate(94.97,91.67)\">\n    <circle cx=\"0\" cy=\"0\" r=\"1.1\" class=\"primitive\"/>\n  </g>\n  <g transform=\"translate(96.36,91.67)\">\n    <circle cx=\"0\" cy=\"0\" r=\"1.1\" class=\"primitive\"/>\n  </g>\n  <g transform=\"translate(97.75,91.67)\">\n    <circle cx=\"0\" cy=\"0\" r=\"1.1\" class=\"primitive\"/>\n  </g>\n  <g transform=\"translate(99.13,91.67)\">\n    <circle cx=\"0\" cy=\"0\" r=\"1.1\" class=\"primitive\"/>\n  </g>\n  <g transform=\"translate(100.52,91.67)\">\n    <circle cx=\"0\" cy=\"0\" r=\"1.1\" class=\"primitive\"/>\n  </g>\n  <g transform=\"translate(101.91,91.67)\">\n    <circle cx=\"0\" cy=\"0\" r=\"1.1\" class=\"primitive\"/>\n  </g>\n  <g transform=\"translate(103.29,91.67)\">\n    <circle cx=\"0\" cy=\"0\" r=\"1.1\" class=\"primitive\"/>\n  </g>\n  <g transform=\"translate(104.68,91.67)\">\n    <circle cx=\"0\" cy=\"0\" r=\"1.1\" class=\"primitive\"/>\n  </g>\n  <g transform=\"translate(106.07,91.67)\">\n    <circle cx=\"0\" cy=\"0\" r=\"1.1\" class=\"primitive\"/>\n  </g>\n  <g transform=\"translate(107.45,91.67)\">\n    <circle cx=\"0\" cy=\"0\" r=\"1.1\" class=\"primitive\"/>\n  </g>\n  <g transform=\"translate(108.84,91.67)\">\n    <circle cx=\"0\" cy=\"0\" r=\"1.1\" class=\"primitive\"/>\n  </g>\n  <g transform=\"translate(110.23,91.67)\">\n    <circle cx=\"0\" cy=\"0\" r=\"1.1\" class=\"primitive\"/>\n  </g>\n  <g transform=\"translate(111.61,91.67)\">\n    <circle cx=\"0\" cy=\"0\" r=\"1.1\" class=\"primitive\"/>\n  </g>\n  <g transform=\"translate(113,91.67)\">\n    <circle cx=\"0\" cy=\"0\" r=\"1.1\" class=\"primitive\"/>\n  </g>\n  <g transform=\"translate(114.38,91.67)\">\n    <circle cx=\"0\" cy=\"0\" r=\"1.1\" class=\"primitive\"/>\n  </g>\n  <g transform=\"translate(115.77,91.67)\">\n    <circle cx=\"0\" cy=\"0\" r=\"1.1\" class=\"primitive\"/>\n  </g>\n  <g transform=\"translate(117.16,91.67)\">\n    <circle cx=\"0\" cy=\"0\" r=\"1.1\" class=\"primitive\"/>\n  </g>\n  <g transform=\"translate(118.54,91.67)\">\n    <circle cx=\"0\" cy=\"0\" r=\"1.1\" class=\"primitive\"/>\n  </g>\n  <g transform=\"translate(119.93,91.67)\">\n    <circle cx=\"0\" cy=\"0\" r=\"1.1\" class=\"primitive\"/>\n  </g>\n  <g transform=\"translate(121.32,91.67)\">\n    <circle cx=\"0\" cy=\"0\" r=\"1.1\" class=\"primitive\"/>\n  </g>\n  <g transform=\"translate(122.7,91.67)\">\n    <circle cx=\"0\" cy=\"0\" r=\"1.1\" class=\"primitive\"/>\n  </g>\n  <g transform=\"translate(124.09,91.67)\">\n    <circle cx=\"0\" cy=\"0\" r=\"1.1\" class=\"primitive\"/>\n  </g>\n  <g transform=\"translate(125.48,91.67)\">\n    <circle cx=\"0\" cy=\"0\" r=\"1.1\" class=\"primitive\"/>\n  </g>\n  <g transform=\"translate(126.86,91.67)\">\n    <circle cx=\"0\" cy=\"0\" r=\"1.1\" class=\"primitive\"/>\n  </g>\n  <g transform=\"translate(128.25,91.67)\">\n    <circle cx=\"0\" cy=\"0\" r=\"1.1\" class=\"primitive\"/>\n  </g>\n  <g transform=\"translate(129.64,91.67)\">\n    <circle cx=\"0\" cy=\"0\" r=\"1.1\" class=\"primitive\"/>\n  </g>\n</g>\n<g font-size=\"4\" stroke=\"#000000\" stroke-opacity=\"0.000\" fill=\"#000000\" id=\"img-de7acd6b-5\">\n  <g transform=\"translate(70.71,70.83)\">\n    <g class=\"primitive\">\n      <text text-anchor=\"middle\" dy=\"0.35em\">USA</text>\n    </g>\n  </g>\n  <g transform=\"translate(80.16,70.56)\">\n    <g class=\"primitive\">\n      <text text-anchor=\"middle\" dy=\"0.35em\">IRL</text>\n    </g>\n  </g>\n  <g transform=\"translate(89.37,69.76)\">\n    <g class=\"primitive\">\n      <text text-anchor=\"middle\" dy=\"0.35em\">MEX</text>\n    </g>\n  </g>\n  <g transform=\"translate(98.09,68.45)\">\n    <g class=\"primitive\">\n      <text text-anchor=\"middle\" dy=\"0.35em\">CHE</text>\n    </g>\n  </g>\n  <g transform=\"translate(11.79,91.67)\">\n    <g class=\"primitive\">\n      <text text-anchor=\"middle\" dy=\"0.35em\">PSE</text>\n    </g>\n  </g>\n  <g transform=\"translate(106.11,66.66)\">\n    <g class=\"primitive\">\n      <text text-anchor=\"middle\" dy=\"0.35em\">RUS</text>\n    </g>\n  </g>\n  <g transform=\"translate(113.21,64.43)\">\n    <g class=\"primitive\">\n      <text text-anchor=\"middle\" dy=\"0.35em\">GBR</text>\n    </g>\n  </g>\n  <g transform=\"translate(119.21,61.83)\">\n    <g class=\"primitive\">\n      <text text-anchor=\"middle\" dy=\"0.35em\">DEU</text>\n    </g>\n  </g>\n  <g transform=\"translate(123.95,58.93)\">\n    <g class=\"primitive\">\n      <text text-anchor=\"middle\" dy=\"0.35em\">IDN</text>\n    </g>\n  </g>\n  <g transform=\"translate(127.31,55.8)\">\n    <g class=\"primitive\">\n      <text text-anchor=\"middle\" dy=\"0.35em\">BEL</text>\n    </g>\n  </g>\n  <g transform=\"translate(129.21,52.51)\">\n    <g class=\"primitive\">\n      <text text-anchor=\"middle\" dy=\"0.35em\">ESP</text>\n    </g>\n  </g>\n  <g transform=\"translate(129.59,49.16)\">\n    <g class=\"primitive\">\n      <text text-anchor=\"middle\" dy=\"0.35em\">CAN</text>\n    </g>\n  </g>\n  <g transform=\"translate(128.45,45.83)\">\n    <g class=\"primitive\">\n      <text text-anchor=\"middle\" dy=\"0.35em\">NLD</text>\n    </g>\n  </g>\n  <g transform=\"translate(13.17,91.67)\">\n    <g class=\"primitive\">\n      <text text-anchor=\"middle\" dy=\"0.35em\">IRN</text>\n    </g>\n  </g>\n  <g transform=\"translate(125.81,42.61)\">\n    <g class=\"primitive\">\n      <text text-anchor=\"middle\" dy=\"0.35em\">NOR</text>\n    </g>\n  </g>\n  <g transform=\"translate(121.74,39.58)\">\n    <g class=\"primitive\">\n      <text text-anchor=\"middle\" dy=\"0.35em\">VNM</text>\n    </g>\n  </g>\n  <g transform=\"translate(116.35,36.82)\">\n    <g class=\"primitive\">\n      <text text-anchor=\"middle\" dy=\"0.35em\">AUS</text>\n    </g>\n  </g>\n  <g transform=\"translate(109.79,34.41)\">\n    <g class=\"primitive\">\n      <text text-anchor=\"middle\" dy=\"0.35em\">BRA</text>\n    </g>\n  </g>\n  <g transform=\"translate(11.79,8.33)\">\n    <g class=\"primitive\">\n      <text text-anchor=\"middle\" dy=\"0.35em\">DNK</text>\n    </g>\n  </g>\n  <g transform=\"translate(102.2,32.39)\">\n    <g class=\"primitive\">\n      <text text-anchor=\"middle\" dy=\"0.35em\">SWE</text>\n    </g>\n  </g>\n  <g transform=\"translate(93.81,30.83)\">\n    <g class=\"primitive\">\n      <text text-anchor=\"middle\" dy=\"0.35em\">THA</text>\n    </g>\n  </g>\n  <g transform=\"translate(14.81,8.33)\">\n    <g class=\"primitive\">\n      <text text-anchor=\"middle\" dy=\"0.35em\">SGP</text>\n    </g>\n  </g>\n  <g transform=\"translate(17.83,8.33)\">\n    <g class=\"primitive\">\n      <text text-anchor=\"middle\" dy=\"0.35em\">ARG</text>\n    </g>\n  </g>\n  <g transform=\"translate(20.85,8.33)\">\n    <g class=\"primitive\">\n      <text text-anchor=\"middle\" dy=\"0.35em\">AZE</text>\n    </g>\n  </g>\n  <g transform=\"translate(84.81,29.77)\">\n    <g class=\"primitive\">\n      <text text-anchor=\"middle\" dy=\"0.35em\">NZL</text>\n    </g>\n  </g>\n  <g transform=\"translate(75.45,29.23)\">\n    <g class=\"primitive\">\n      <text text-anchor=\"middle\" dy=\"0.35em\">PHL</text>\n    </g>\n  </g>\n  <g transform=\"translate(65.97,29.23)\">\n    <g class=\"primitive\">\n      <text text-anchor=\"middle\" dy=\"0.35em\">NGA</text>\n    </g>\n  </g>\n  <g transform=\"translate(23.87,8.33)\">\n    <g class=\"primitive\">\n      <text text-anchor=\"middle\" dy=\"0.35em\">EGY</text>\n    </g>\n  </g>\n  <g transform=\"translate(14.56,91.67)\">\n    <g class=\"primitive\">\n      <text text-anchor=\"middle\" dy=\"0.35em\">CYN</text>\n    </g>\n  </g>\n  <g transform=\"translate(56.61,29.77)\">\n    <g class=\"primitive\">\n      <text text-anchor=\"middle\" dy=\"0.35em\">JPN</text>\n    </g>\n  </g>\n  <g transform=\"translate(47.61,30.83)\">\n    <g class=\"primitive\">\n      <text text-anchor=\"middle\" dy=\"0.35em\">ITA</text>\n    </g>\n  </g>\n  <g transform=\"translate(26.89,8.33)\">\n    <g class=\"primitive\">\n      <text text-anchor=\"middle\" dy=\"0.35em\">GRC</text>\n    </g>\n  </g>\n  <g transform=\"translate(39.22,32.39)\">\n    <g class=\"primitive\">\n      <text text-anchor=\"middle\" dy=\"0.35em\">ZAF</text>\n    </g>\n  </g>\n  <g transform=\"translate(31.64,34.41)\">\n    <g class=\"primitive\">\n      <text text-anchor=\"middle\" dy=\"0.35em\">COL</text>\n    </g>\n  </g>\n  <g transform=\"translate(29.92,8.33)\">\n    <g class=\"primitive\">\n      <text text-anchor=\"middle\" dy=\"0.35em\">SLV</text>\n    </g>\n  </g>\n  <g transform=\"translate(15.94,91.67)\">\n    <g class=\"primitive\">\n      <text text-anchor=\"middle\" dy=\"0.35em\">KWT</text>\n    </g>\n  </g>\n  <g transform=\"translate(25.07,36.82)\">\n    <g class=\"primitive\">\n      <text text-anchor=\"middle\" dy=\"0.35em\">FIN</text>\n    </g>\n  </g>\n  <g transform=\"translate(19.68,39.58)\">\n    <g class=\"primitive\">\n      <text text-anchor=\"middle\" dy=\"0.35em\">TUR</text>\n    </g>\n  </g>\n  <g transform=\"translate(15.61,42.61)\">\n    <g class=\"primitive\">\n      <text text-anchor=\"middle\" dy=\"0.35em\">PAK</text>\n    </g>\n  </g>\n  <g transform=\"translate(12.98,45.83)\">\n    <g class=\"primitive\">\n      <text text-anchor=\"middle\" dy=\"0.35em\">IND</text>\n    </g>\n  </g>\n  <g transform=\"translate(32.94,8.33)\">\n    <g class=\"primitive\">\n      <text text-anchor=\"middle\" dy=\"0.35em\">SVN</text>\n    </g>\n  </g>\n  <g transform=\"translate(17.33,91.67)\">\n    <g class=\"primitive\">\n      <text text-anchor=\"middle\" dy=\"0.35em\">MAR</text>\n    </g>\n  </g>\n  <g transform=\"translate(35.96,8.33)\">\n    <g class=\"primitive\">\n      <text text-anchor=\"middle\" dy=\"0.35em\">HUN</text>\n    </g>\n  </g>\n  <g transform=\"translate(38.98,8.33)\">\n    <g class=\"primitive\">\n      <text text-anchor=\"middle\" dy=\"0.35em\">MYS</text>\n    </g>\n  </g>\n  <g transform=\"translate(11.83,49.16)\">\n    <g class=\"primitive\">\n      <text text-anchor=\"middle\" dy=\"0.35em\">FRA</text>\n    </g>\n  </g>\n  <g transform=\"translate(12.21,52.51)\">\n    <g class=\"primitive\">\n      <text text-anchor=\"middle\" dy=\"0.35em\">ARE</text>\n    </g>\n  </g>\n  <g transform=\"translate(14.11,55.8)\">\n    <g class=\"primitive\">\n      <text text-anchor=\"middle\" dy=\"0.35em\">VEN</text>\n    </g>\n  </g>\n  <g transform=\"translate(17.47,58.93)\">\n    <g class=\"primitive\">\n      <text text-anchor=\"middle\" dy=\"0.35em\">PRT</text>\n    </g>\n  </g>\n  <g transform=\"translate(22.22,61.83)\">\n    <g class=\"primitive\">\n      <text text-anchor=\"middle\" dy=\"0.35em\">UKR</text>\n    </g>\n  </g>\n  <g transform=\"translate(28.21,64.43)\">\n    <g class=\"primitive\">\n      <text text-anchor=\"middle\" dy=\"0.35em\">HKG</text>\n    </g>\n  </g>\n  <g transform=\"translate(35.31,66.66)\">\n    <g class=\"primitive\">\n      <text text-anchor=\"middle\" dy=\"0.35em\">KEN</text>\n    </g>\n  </g>\n  <g transform=\"translate(42,8.33)\">\n    <g class=\"primitive\">\n      <text text-anchor=\"middle\" dy=\"0.35em\">CHN</text>\n    </g>\n  </g>\n  <g transform=\"translate(45.03,8.33)\">\n    <g class=\"primitive\">\n      <text text-anchor=\"middle\" dy=\"0.35em\">CHL</text>\n    </g>\n  </g>\n  <g transform=\"translate(48.05,8.33)\">\n    <g class=\"primitive\">\n      <text text-anchor=\"middle\" dy=\"0.35em\">BOL</text>\n    </g>\n  </g>\n  <g transform=\"translate(18.72,91.67)\">\n    <g class=\"primitive\">\n      <text text-anchor=\"middle\" dy=\"0.35em\">LBN</text>\n    </g>\n  </g>\n  <g transform=\"translate(51.07,8.33)\">\n    <g class=\"primitive\">\n      <text text-anchor=\"middle\" dy=\"0.35em\">PAN</text>\n    </g>\n  </g>\n  <g transform=\"translate(54.09,8.33)\">\n    <g class=\"primitive\">\n      <text text-anchor=\"middle\" dy=\"0.35em\">ISR</text>\n    </g>\n  </g>\n  <g transform=\"translate(57.11,8.33)\">\n    <g class=\"primitive\">\n      <text text-anchor=\"middle\" dy=\"0.35em\">LVA</text>\n    </g>\n  </g>\n  <g transform=\"translate(60.13,8.33)\">\n    <g class=\"primitive\">\n      <text text-anchor=\"middle\" dy=\"0.35em\">POL</text>\n    </g>\n  </g>\n  <g transform=\"translate(63.16,8.33)\">\n    <g class=\"primitive\">\n      <text text-anchor=\"middle\" dy=\"0.35em\">MDV</text>\n    </g>\n  </g>\n  <g transform=\"translate(66.18,8.33)\">\n    <g class=\"primitive\">\n      <text text-anchor=\"middle\" dy=\"0.35em\">PER</text>\n    </g>\n  </g>\n  <g transform=\"translate(69.2,8.33)\">\n    <g class=\"primitive\">\n      <text text-anchor=\"middle\" dy=\"0.35em\">LKA</text>\n    </g>\n  </g>\n  <g transform=\"translate(72.22,8.33)\">\n    <g class=\"primitive\">\n      <text text-anchor=\"middle\" dy=\"0.35em\">AUT</text>\n    </g>\n  </g>\n  <g transform=\"translate(20.1,91.67)\">\n    <g class=\"primitive\">\n      <text text-anchor=\"middle\" dy=\"0.35em\">BGR</text>\n    </g>\n  </g>\n  <g transform=\"translate(21.49,91.67)\">\n    <g class=\"primitive\">\n      <text text-anchor=\"middle\" dy=\"0.35em\">GEO</text>\n    </g>\n  </g>\n  <g transform=\"translate(75.24,8.33)\">\n    <g class=\"primitive\">\n      <text text-anchor=\"middle\" dy=\"0.35em\">EST</text>\n    </g>\n  </g>\n  <g transform=\"translate(78.27,8.33)\">\n    <g class=\"primitive\">\n      <text text-anchor=\"middle\" dy=\"0.35em\">CZE</text>\n    </g>\n  </g>\n  <g transform=\"translate(22.88,91.67)\">\n    <g class=\"primitive\">\n      <text text-anchor=\"middle\" dy=\"0.35em\">KHM</text>\n    </g>\n  </g>\n  <g transform=\"translate(81.29,8.33)\">\n    <g class=\"primitive\">\n      <text text-anchor=\"middle\" dy=\"0.35em\">GHA</text>\n    </g>\n  </g>\n  <g transform=\"translate(84.31,8.33)\">\n    <g class=\"primitive\">\n      <text text-anchor=\"middle\" dy=\"0.35em\">KOR</text>\n    </g>\n  </g>\n  <g transform=\"translate(87.33,8.33)\">\n    <g class=\"primitive\">\n      <text text-anchor=\"middle\" dy=\"0.35em\">KAZ</text>\n    </g>\n  </g>\n  <g transform=\"translate(43.33,68.45)\">\n    <g class=\"primitive\">\n      <text text-anchor=\"middle\" dy=\"0.35em\">BGD</text>\n    </g>\n  </g>\n  <g transform=\"translate(90.35,8.33)\">\n    <g class=\"primitive\">\n      <text text-anchor=\"middle\" dy=\"0.35em\">TTO</text>\n    </g>\n  </g>\n  <g transform=\"translate(24.26,91.67)\">\n    <g class=\"primitive\">\n      <text text-anchor=\"middle\" dy=\"0.35em\">JOR</text>\n    </g>\n  </g>\n  <g transform=\"translate(93.37,8.33)\">\n    <g class=\"primitive\">\n      <text text-anchor=\"middle\" dy=\"0.35em\">SRB</text>\n    </g>\n  </g>\n  <g transform=\"translate(52.05,69.76)\">\n    <g class=\"primitive\">\n      <text text-anchor=\"middle\" dy=\"0.35em\">SAU</text>\n    </g>\n  </g>\n  <g transform=\"translate(96.4,8.33)\">\n    <g class=\"primitive\">\n      <text text-anchor=\"middle\" dy=\"0.35em\">MKD</text>\n    </g>\n  </g>\n  <g transform=\"translate(25.65,91.67)\">\n    <g class=\"primitive\">\n      <text text-anchor=\"middle\" dy=\"0.35em\">SYR</text>\n    </g>\n  </g>\n  <g transform=\"translate(99.42,8.33)\">\n    <g class=\"primitive\">\n      <text text-anchor=\"middle\" dy=\"0.35em\">TZA</text>\n    </g>\n  </g>\n  <g transform=\"translate(27.04,91.67)\">\n    <g class=\"primitive\">\n      <text text-anchor=\"middle\" dy=\"0.35em\">IRQ</text>\n    </g>\n  </g>\n  <g transform=\"translate(102.44,8.33)\">\n    <g class=\"primitive\">\n      <text text-anchor=\"middle\" dy=\"0.35em\">ROU</text>\n    </g>\n  </g>\n  <g transform=\"translate(28.42,91.67)\">\n    <g class=\"primitive\">\n      <text text-anchor=\"middle\" dy=\"0.35em\">BRN</text>\n    </g>\n  </g>\n  <g transform=\"translate(105.46,8.33)\">\n    <g class=\"primitive\">\n      <text text-anchor=\"middle\" dy=\"0.35em\">UGA</text>\n    </g>\n  </g>\n  <g transform=\"translate(29.81,91.67)\">\n    <g class=\"primitive\">\n      <text text-anchor=\"middle\" dy=\"0.35em\">GAB</text>\n    </g>\n  </g>\n  <g transform=\"translate(108.48,8.33)\">\n    <g class=\"primitive\">\n      <text text-anchor=\"middle\" dy=\"0.35em\">PRI</text>\n    </g>\n  </g>\n  <g transform=\"translate(111.51,8.33)\">\n    <g class=\"primitive\">\n      <text text-anchor=\"middle\" dy=\"0.35em\">NPL</text>\n    </g>\n  </g>\n  <g transform=\"translate(114.53,8.33)\">\n    <g class=\"primitive\">\n      <text text-anchor=\"middle\" dy=\"0.35em\">HRV</text>\n    </g>\n  </g>\n  <g transform=\"translate(31.2,91.67)\">\n    <g class=\"primitive\">\n      <text text-anchor=\"middle\" dy=\"0.35em\">MNE</text>\n    </g>\n  </g>\n  <g transform=\"translate(117.55,8.33)\">\n    <g class=\"primitive\">\n      <text text-anchor=\"middle\" dy=\"0.35em\">DZA</text>\n    </g>\n  </g>\n  <g transform=\"translate(32.58,91.67)\">\n    <g class=\"primitive\">\n      <text text-anchor=\"middle\" dy=\"0.35em\">MMR</text>\n    </g>\n  </g>\n  <g transform=\"translate(33.97,91.67)\">\n    <g class=\"primitive\">\n      <text text-anchor=\"middle\" dy=\"0.35em\">MOZ</text>\n    </g>\n  </g>\n  <g transform=\"translate(35.36,91.67)\">\n    <g class=\"primitive\">\n      <text text-anchor=\"middle\" dy=\"0.35em\">ARM</text>\n    </g>\n  </g>\n  <g transform=\"translate(36.74,91.67)\">\n    <g class=\"primitive\">\n      <text text-anchor=\"middle\" dy=\"0.35em\">MLT</text>\n    </g>\n  </g>\n  <g transform=\"translate(38.13,91.67)\">\n    <g class=\"primitive\">\n      <text text-anchor=\"middle\" dy=\"0.35em\">LBY</text>\n    </g>\n  </g>\n  <g transform=\"translate(39.51,91.67)\">\n    <g class=\"primitive\">\n      <text text-anchor=\"middle\" dy=\"0.35em\">CYP</text>\n    </g>\n  </g>\n  <g transform=\"translate(40.9,91.67)\">\n    <g class=\"primitive\">\n      <text text-anchor=\"middle\" dy=\"0.35em\">QAT</text>\n    </g>\n  </g>\n  <g transform=\"translate(42.29,91.67)\">\n    <g class=\"primitive\">\n      <text text-anchor=\"middle\" dy=\"0.35em\">JAM</text>\n    </g>\n  </g>\n  <g transform=\"translate(43.67,91.67)\">\n    <g class=\"primitive\">\n      <text text-anchor=\"middle\" dy=\"0.35em\">SVK</text>\n    </g>\n  </g>\n  <g transform=\"translate(120.57,8.33)\">\n    <g class=\"primitive\">\n      <text text-anchor=\"middle\" dy=\"0.35em\">ECU</text>\n    </g>\n  </g>\n  <g transform=\"translate(123.59,8.33)\">\n    <g class=\"primitive\">\n      <text text-anchor=\"middle\" dy=\"0.35em\">IMN</text>\n    </g>\n  </g>\n  <g transform=\"translate(45.06,91.67)\">\n    <g class=\"primitive\">\n      <text text-anchor=\"middle\" dy=\"0.35em\">BHS</text>\n    </g>\n  </g>\n  <g transform=\"translate(46.45,91.67)\">\n    <g class=\"primitive\">\n      <text text-anchor=\"middle\" dy=\"0.35em\">MCO</text>\n    </g>\n  </g>\n  <g transform=\"translate(47.83,91.67)\">\n    <g class=\"primitive\">\n      <text text-anchor=\"middle\" dy=\"0.35em\">DOM</text>\n    </g>\n  </g>\n  <g transform=\"translate(49.22,91.67)\">\n    <g class=\"primitive\">\n      <text text-anchor=\"middle\" dy=\"0.35em\">OMN</text>\n    </g>\n  </g>\n  <g transform=\"translate(50.61,91.67)\">\n    <g class=\"primitive\">\n      <text text-anchor=\"middle\" dy=\"0.35em\">BIH</text>\n    </g>\n  </g>\n  <g transform=\"translate(51.99,91.67)\">\n    <g class=\"primitive\">\n      <text text-anchor=\"middle\" dy=\"0.35em\">CRI</text>\n    </g>\n  </g>\n  <g transform=\"translate(53.38,91.67)\">\n    <g class=\"primitive\">\n      <text text-anchor=\"middle\" dy=\"0.35em\">GIB</text>\n    </g>\n  </g>\n  <g transform=\"translate(54.77,91.67)\">\n    <g class=\"primitive\">\n      <text text-anchor=\"middle\" dy=\"0.35em\">TWN</text>\n    </g>\n  </g>\n  <g transform=\"translate(56.15,91.67)\">\n    <g class=\"primitive\">\n      <text text-anchor=\"middle\" dy=\"0.35em\">GTM</text>\n    </g>\n  </g>\n  <g transform=\"translate(57.54,91.67)\">\n    <g class=\"primitive\">\n      <text text-anchor=\"middle\" dy=\"0.35em\">COD</text>\n    </g>\n  </g>\n  <g transform=\"translate(58.93,91.67)\">\n    <g class=\"primitive\">\n      <text text-anchor=\"middle\" dy=\"0.35em\">BLZ</text>\n    </g>\n  </g>\n  <g transform=\"translate(60.31,91.67)\">\n    <g class=\"primitive\">\n      <text text-anchor=\"middle\" dy=\"0.35em\">DJI</text>\n    </g>\n  </g>\n  <g transform=\"translate(61.7,91.67)\">\n    <g class=\"primitive\">\n      <text text-anchor=\"middle\" dy=\"0.35em\">ISL</text>\n    </g>\n  </g>\n  <g transform=\"translate(63.09,91.67)\">\n    <g class=\"primitive\">\n      <text text-anchor=\"middle\" dy=\"0.35em\">ALB</text>\n    </g>\n  </g>\n  <g transform=\"translate(61.26,70.56)\">\n    <g class=\"primitive\">\n      <text text-anchor=\"middle\" dy=\"0.35em\">BLR</text>\n    </g>\n  </g>\n  <g transform=\"translate(64.47,91.67)\">\n    <g class=\"primitive\">\n      <text text-anchor=\"middle\" dy=\"0.35em\">CYM</text>\n    </g>\n  </g>\n  <g transform=\"translate(65.86,91.67)\">\n    <g class=\"primitive\">\n      <text text-anchor=\"middle\" dy=\"0.35em\">MRT</text>\n    </g>\n  </g>\n  <g transform=\"translate(67.24,91.67)\">\n    <g class=\"primitive\">\n      <text text-anchor=\"middle\" dy=\"0.35em\">AFG</text>\n    </g>\n  </g>\n  <g transform=\"translate(68.63,91.67)\">\n    <g class=\"primitive\">\n      <text text-anchor=\"middle\" dy=\"0.35em\">ZMB</text>\n    </g>\n  </g>\n  <g transform=\"translate(70.02,91.67)\">\n    <g class=\"primitive\">\n      <text text-anchor=\"middle\" dy=\"0.35em\">GGY</text>\n    </g>\n  </g>\n  <g transform=\"translate(126.61,8.33)\">\n    <g class=\"primitive\">\n      <text text-anchor=\"middle\" dy=\"0.35em\">ZWE</text>\n    </g>\n  </g>\n  <g transform=\"translate(71.4,91.67)\">\n    <g class=\"primitive\">\n      <text text-anchor=\"middle\" dy=\"0.35em\">HTI</text>\n    </g>\n  </g>\n  <g transform=\"translate(72.79,91.67)\">\n    <g class=\"primitive\">\n      <text text-anchor=\"middle\" dy=\"0.35em\">BWA</text>\n    </g>\n  </g>\n  <g transform=\"translate(74.18,91.67)\">\n    <g class=\"primitive\">\n      <text text-anchor=\"middle\" dy=\"0.35em\">RWA</text>\n    </g>\n  </g>\n  <g transform=\"translate(75.56,91.67)\">\n    <g class=\"primitive\">\n      <text text-anchor=\"middle\" dy=\"0.35em\">PRY</text>\n    </g>\n  </g>\n  <g transform=\"translate(76.95,91.67)\">\n    <g class=\"primitive\">\n      <text text-anchor=\"middle\" dy=\"0.35em\">UZB</text>\n    </g>\n  </g>\n  <g transform=\"translate(78.34,91.67)\">\n    <g class=\"primitive\">\n      <text text-anchor=\"middle\" dy=\"0.35em\">ERI</text>\n    </g>\n  </g>\n  <g transform=\"translate(79.72,91.67)\">\n    <g class=\"primitive\">\n      <text text-anchor=\"middle\" dy=\"0.35em\">TUN</text>\n    </g>\n  </g>\n  <g transform=\"translate(81.11,91.67)\">\n    <g class=\"primitive\">\n      <text text-anchor=\"middle\" dy=\"0.35em\">CPV</text>\n    </g>\n  </g>\n  <g transform=\"translate(82.5,91.67)\">\n    <g class=\"primitive\">\n      <text text-anchor=\"middle\" dy=\"0.35em\">MNG</text>\n    </g>\n  </g>\n  <g transform=\"translate(83.88,91.67)\">\n    <g class=\"primitive\">\n      <text text-anchor=\"middle\" dy=\"0.35em\">CUB</text>\n    </g>\n  </g>\n  <g transform=\"translate(85.27,91.67)\">\n    <g class=\"primitive\">\n      <text text-anchor=\"middle\" dy=\"0.35em\">LSO</text>\n    </g>\n  </g>\n  <g transform=\"translate(86.66,91.67)\">\n    <g class=\"primitive\">\n      <text text-anchor=\"middle\" dy=\"0.35em\">SUR</text>\n    </g>\n  </g>\n  <g transform=\"translate(88.04,91.67)\">\n    <g class=\"primitive\">\n      <text text-anchor=\"middle\" dy=\"0.35em\">YEM</text>\n    </g>\n  </g>\n  <g transform=\"translate(129.64,8.33)\">\n    <g class=\"primitive\">\n      <text text-anchor=\"middle\" dy=\"0.35em\">MWI</text>\n    </g>\n  </g>\n  <g transform=\"translate(89.43,91.67)\">\n    <g class=\"primitive\">\n      <text text-anchor=\"middle\" dy=\"0.35em\">MLI</text>\n    </g>\n  </g>\n  <g transform=\"translate(90.81,91.67)\">\n    <g class=\"primitive\">\n      <text text-anchor=\"middle\" dy=\"0.35em\">GMB</text>\n    </g>\n  </g>\n  <g transform=\"translate(92.2,91.67)\">\n    <g class=\"primitive\">\n      <text text-anchor=\"middle\" dy=\"0.35em\">CMR</text>\n    </g>\n  </g>\n  <g transform=\"translate(93.59,91.67)\">\n    <g class=\"primitive\">\n      <text text-anchor=\"middle\" dy=\"0.35em\">NCL</text>\n    </g>\n  </g>\n  <g transform=\"translate(94.97,91.67)\">\n    <g class=\"primitive\">\n      <text text-anchor=\"middle\" dy=\"0.35em\">VAT</text>\n    </g>\n  </g>\n  <g transform=\"translate(96.36,91.67)\">\n    <g class=\"primitive\">\n      <text text-anchor=\"middle\" dy=\"0.35em\">HND</text>\n    </g>\n  </g>\n  <g transform=\"translate(97.75,91.67)\">\n    <g class=\"primitive\">\n      <text text-anchor=\"middle\" dy=\"0.35em\">SEN</text>\n    </g>\n  </g>\n  <g transform=\"translate(99.13,91.67)\">\n    <g class=\"primitive\">\n      <text text-anchor=\"middle\" dy=\"0.35em\">BHR</text>\n    </g>\n  </g>\n  <g transform=\"translate(100.52,91.67)\">\n    <g class=\"primitive\">\n      <text text-anchor=\"middle\" dy=\"0.35em\">BFA</text>\n    </g>\n  </g>\n  <g transform=\"translate(101.91,91.67)\">\n    <g class=\"primitive\">\n      <text text-anchor=\"middle\" dy=\"0.35em\">URY</text>\n    </g>\n  </g>\n  <g transform=\"translate(103.29,91.67)\">\n    <g class=\"primitive\">\n      <text text-anchor=\"middle\" dy=\"0.35em\">LCA</text>\n    </g>\n  </g>\n  <g transform=\"translate(104.68,91.67)\">\n    <g class=\"primitive\">\n      <text text-anchor=\"middle\" dy=\"0.35em\">GIN</text>\n    </g>\n  </g>\n  <g transform=\"translate(106.07,91.67)\">\n    <g class=\"primitive\">\n      <text text-anchor=\"middle\" dy=\"0.35em\">SOM</text>\n    </g>\n  </g>\n  <g transform=\"translate(107.45,91.67)\">\n    <g class=\"primitive\">\n      <text text-anchor=\"middle\" dy=\"0.35em\">LUX</text>\n    </g>\n  </g>\n  <g transform=\"translate(108.84,91.67)\">\n    <g class=\"primitive\">\n      <text text-anchor=\"middle\" dy=\"0.35em\">BRB</text>\n    </g>\n  </g>\n  <g transform=\"translate(110.23,91.67)\">\n    <g class=\"primitive\">\n      <text text-anchor=\"middle\" dy=\"0.35em\">LAO</text>\n    </g>\n  </g>\n  <g transform=\"translate(111.61,91.67)\">\n    <g class=\"primitive\">\n      <text text-anchor=\"middle\" dy=\"0.35em\">AGO</text>\n    </g>\n  </g>\n  <g transform=\"translate(113,91.67)\">\n    <g class=\"primitive\">\n      <text text-anchor=\"middle\" dy=\"0.35em\">FJI</text>\n    </g>\n  </g>\n  <g transform=\"translate(114.38,91.67)\">\n    <g class=\"primitive\">\n      <text text-anchor=\"middle\" dy=\"0.35em\">NAM</text>\n    </g>\n  </g>\n  <g transform=\"translate(115.77,91.67)\">\n    <g class=\"primitive\">\n      <text text-anchor=\"middle\" dy=\"0.35em\">KNA</text>\n    </g>\n  </g>\n  <g transform=\"translate(117.16,91.67)\">\n    <g class=\"primitive\">\n      <text text-anchor=\"middle\" dy=\"0.35em\">ETH</text>\n    </g>\n  </g>\n  <g transform=\"translate(118.54,91.67)\">\n    <g class=\"primitive\">\n      <text text-anchor=\"middle\" dy=\"0.35em\">CIV</text>\n    </g>\n  </g>\n  <g transform=\"translate(119.93,91.67)\">\n    <g class=\"primitive\">\n      <text text-anchor=\"middle\" dy=\"0.35em\">NIC</text>\n    </g>\n  </g>\n  <g transform=\"translate(121.32,91.67)\">\n    <g class=\"primitive\">\n      <text text-anchor=\"middle\" dy=\"0.35em\">BTN</text>\n    </g>\n  </g>\n  <g transform=\"translate(122.7,91.67)\">\n    <g class=\"primitive\">\n      <text text-anchor=\"middle\" dy=\"0.35em\">SLB</text>\n    </g>\n  </g>\n  <g transform=\"translate(124.09,91.67)\">\n    <g class=\"primitive\">\n      <text text-anchor=\"middle\" dy=\"0.35em\">MUS</text>\n    </g>\n  </g>\n  <g transform=\"translate(125.48,91.67)\">\n    <g class=\"primitive\">\n      <text text-anchor=\"middle\" dy=\"0.35em\">GUY</text>\n    </g>\n  </g>\n  <g transform=\"translate(126.86,91.67)\">\n    <g class=\"primitive\">\n      <text text-anchor=\"middle\" dy=\"0.35em\">BMU</text>\n    </g>\n  </g>\n  <g transform=\"translate(128.25,91.67)\">\n    <g class=\"primitive\">\n      <text text-anchor=\"middle\" dy=\"0.35em\">MAC</text>\n    </g>\n  </g>\n  <g transform=\"translate(129.64,91.67)\">\n    <g class=\"primitive\">\n      <text text-anchor=\"middle\" dy=\"0.35em\">LTU</text>\n    </g>\n  </g>\n</g>\n</svg>\n",
      "text/html": [
       "<?xml version=\"1.0\" encoding=\"UTF-8\"?>\n",
       "<svg xmlns=\"http://www.w3.org/2000/svg\"\n",
       "     xmlns:xlink=\"http://www.w3.org/1999/xlink\"\n",
       "     version=\"1.2\"\n",
       "     width=\"141.42mm\" height=\"100mm\" viewBox=\"0 0 141.42 100\"\n",
       "     stroke=\"none\"\n",
       "     fill=\"#000000\"\n",
       "     stroke-width=\"0.3\"\n",
       "     font-size=\"3.88\"\n",
       "\n",
       "     id=\"img-8fedf5f7\">\n",
       "<defs>\n",
       "  <marker id=\"arrow\" markerWidth=\"15\" markerHeight=\"7\" refX=\"5\" refY=\"3.5\" orient=\"auto\" markerUnits=\"strokeWidth\">\n",
       "    <path d=\"M0,0 L15,3.5 L0,7 z\" stroke=\"context-stroke\" fill=\"context-stroke\"/>\n",
       "  </marker>\n",
       "</defs>\n",
       "<g stroke-width=\"0.23\" fill=\"#000000\" fill-opacity=\"0.000\" stroke=\"#D3D3D3\" id=\"img-8fedf5f7-1\">\n",
       "  <g transform=\"translate(75.44,70.7)\">\n",
       "    <path fill=\"none\" d=\"M-3.58,0.1 L3.58,-0.1 \" class=\"primitive\"/>\n",
       "  </g>\n",
       "  <g transform=\"translate(80.04,70.3)\">\n",
       "    <path fill=\"none\" d=\"M-8.19,0.47 L8.19,-0.47 \" class=\"primitive\"/>\n",
       "  </g>\n",
       "  <g transform=\"translate(84.4,69.64)\">\n",
       "    <path fill=\"none\" d=\"M-12.55,1.09 L12.55,-1.09 \" class=\"primitive\"/>\n",
       "  </g>\n",
       "  <g transform=\"translate(88.41,68.74)\">\n",
       "    <path fill=\"none\" d=\"M-16.57,1.96 L16.57,-1.96 \" class=\"primitive\"/>\n",
       "  </g>\n",
       "  <g transform=\"translate(91.96,67.63)\">\n",
       "    <path fill=\"none\" d=\"M-20.13,3.03 L20.13,-3.03 \" class=\"primitive\"/>\n",
       "  </g>\n",
       "  <g transform=\"translate(94.96,66.33)\">\n",
       "    <path fill=\"none\" d=\"M-23.14,4.29 L23.14,-4.29 \" class=\"primitive\"/>\n",
       "  </g>\n",
       "  <g transform=\"translate(97.33,64.88)\">\n",
       "    <path fill=\"none\" d=\"M-25.52,5.71 L25.52,-5.71 \" class=\"primitive\"/>\n",
       "  </g>\n",
       "  <g transform=\"translate(99.01,63.31)\">\n",
       "    <path fill=\"none\" d=\"M-27.23,7.23 L27.23,-7.23 \" class=\"primitive\"/>\n",
       "  </g>\n",
       "  <g transform=\"translate(99.96,61.67)\">\n",
       "    <path fill=\"none\" d=\"M-28.2,8.83 L28.2,-8.83 \" class=\"primitive\"/>\n",
       "  </g>\n",
       "  <g transform=\"translate(100.15,60)\">\n",
       "    <path fill=\"none\" d=\"M-28.42,10.46 L28.42,-10.46 \" class=\"primitive\"/>\n",
       "  </g>\n",
       "  <g transform=\"translate(99.58,58.33)\">\n",
       "    <path fill=\"none\" d=\"M-27.89,12.08 L27.89,-12.08 \" class=\"primitive\"/>\n",
       "  </g>\n",
       "  <g transform=\"translate(98.26,56.72)\">\n",
       "    <path fill=\"none\" d=\"M-26.62,13.63 L26.62,-13.63 \" class=\"primitive\"/>\n",
       "  </g>\n",
       "  <g transform=\"translate(96.23,55.21)\">\n",
       "    <path fill=\"none\" d=\"M-24.65,15.09 L24.65,-15.09 \" class=\"primitive\"/>\n",
       "  </g>\n",
       "  <g transform=\"translate(93.53,53.83)\">\n",
       "    <path fill=\"none\" d=\"M-22.03,16.42 L22.03,-16.42 \" class=\"primitive\"/>\n",
       "  </g>\n",
       "  <g transform=\"translate(90.25,52.62)\">\n",
       "    <path fill=\"none\" d=\"M-18.84,17.57 L18.84,-17.57 \" class=\"primitive\"/>\n",
       "  </g>\n",
       "  <g transform=\"translate(86.46,51.61)\">\n",
       "    <path fill=\"none\" d=\"M-15.17,18.52 L15.17,-18.52 \" class=\"primitive\"/>\n",
       "  </g>\n",
       "  <g transform=\"translate(82.26,50.83)\">\n",
       "    <path fill=\"none\" d=\"M-11.11,19.25 L11.11,-19.25 \" class=\"primitive\"/>\n",
       "  </g>\n",
       "  <g transform=\"translate(77.76,50.3)\">\n",
       "    <path fill=\"none\" d=\"M-6.78,19.74 L6.78,-19.74 \" class=\"primitive\"/>\n",
       "  </g>\n",
       "  <g transform=\"translate(73.08,50.03)\">\n",
       "    <path fill=\"none\" d=\"M-2.28,19.99 L2.28,-19.99 \" class=\"primitive\"/>\n",
       "  </g>\n",
       "  <g transform=\"translate(68.34,50.03)\">\n",
       "    <path fill=\"none\" d=\"M2.28,19.99 L-2.28,-19.99 \" class=\"primitive\"/>\n",
       "  </g>\n",
       "  <g transform=\"translate(63.66,50.3)\">\n",
       "    <path fill=\"none\" d=\"M6.78,19.74 L-6.78,-19.74 \" class=\"primitive\"/>\n",
       "  </g>\n",
       "  <g transform=\"translate(59.16,50.83)\">\n",
       "    <path fill=\"none\" d=\"M11.11,19.25 L-11.11,-19.25 \" class=\"primitive\"/>\n",
       "  </g>\n",
       "  <g transform=\"translate(54.96,51.61)\">\n",
       "    <path fill=\"none\" d=\"M15.17,18.52 L-15.17,-18.52 \" class=\"primitive\"/>\n",
       "  </g>\n",
       "  <g transform=\"translate(47.89,53.83)\">\n",
       "    <path fill=\"none\" d=\"M22.03,16.42 L-22.03,-16.42 \" class=\"primitive\"/>\n",
       "  </g>\n",
       "  <g transform=\"translate(45.2,55.21)\">\n",
       "    <path fill=\"none\" d=\"M24.65,15.09 L-24.65,-15.09 \" class=\"primitive\"/>\n",
       "  </g>\n",
       "  <g transform=\"translate(43.16,56.72)\">\n",
       "    <path fill=\"none\" d=\"M26.62,13.63 L-26.62,-13.63 \" class=\"primitive\"/>\n",
       "  </g>\n",
       "  <g transform=\"translate(41.84,58.33)\">\n",
       "    <path fill=\"none\" d=\"M27.89,12.08 L-27.89,-12.08 \" class=\"primitive\"/>\n",
       "  </g>\n",
       "  <g transform=\"translate(41.27,60)\">\n",
       "    <path fill=\"none\" d=\"M28.42,10.46 L-28.42,-10.46 \" class=\"primitive\"/>\n",
       "  </g>\n",
       "  <g transform=\"translate(41.46,61.67)\">\n",
       "    <path fill=\"none\" d=\"M28.2,8.83 L-28.2,-8.83 \" class=\"primitive\"/>\n",
       "  </g>\n",
       "  <g transform=\"translate(44.09,64.88)\">\n",
       "    <path fill=\"none\" d=\"M25.52,5.71 L-25.52,-5.71 \" class=\"primitive\"/>\n",
       "  </g>\n",
       "  <g transform=\"translate(46.46,66.33)\">\n",
       "    <path fill=\"none\" d=\"M23.14,4.29 L-23.14,-4.29 \" class=\"primitive\"/>\n",
       "  </g>\n",
       "  <g transform=\"translate(49.46,67.63)\">\n",
       "    <path fill=\"none\" d=\"M20.13,3.03 L-20.13,-3.03 \" class=\"primitive\"/>\n",
       "  </g>\n",
       "  <g transform=\"translate(53.01,68.74)\">\n",
       "    <path fill=\"none\" d=\"M16.57,1.96 L-16.57,-1.96 \" class=\"primitive\"/>\n",
       "  </g>\n",
       "  <g transform=\"translate(57.02,69.64)\">\n",
       "    <path fill=\"none\" d=\"M12.55,1.09 L-12.55,-1.09 \" class=\"primitive\"/>\n",
       "  </g>\n",
       "  <g transform=\"translate(61.38,70.3)\">\n",
       "    <path fill=\"none\" d=\"M8.19,0.47 L-8.19,-0.47 \" class=\"primitive\"/>\n",
       "  </g>\n",
       "  <g transform=\"translate(75.44,70.7)\">\n",
       "    <path fill=\"none\" d=\"M3.58,-0.1 L-3.58,0.1 \" class=\"primitive\"/>\n",
       "  </g>\n",
       "  <g transform=\"translate(96.69,67.5)\">\n",
       "    <path fill=\"none\" d=\"M-15.41,2.86 L15.41,-2.86 \" class=\"primitive\"/>\n",
       "  </g>\n",
       "  <g transform=\"translate(80.04,70.3)\">\n",
       "    <path fill=\"none\" d=\"M8.19,-0.47 L-8.19,0.47 \" class=\"primitive\"/>\n",
       "  </g>\n",
       "  <g transform=\"translate(101.29,67.1)\">\n",
       "    <path fill=\"none\" d=\"M-10.83,2.42 L10.83,-2.42 \" class=\"primitive\"/>\n",
       "  </g>\n",
       "  <g transform=\"translate(84.4,69.64)\">\n",
       "    <path fill=\"none\" d=\"M12.55,-1.09 L-12.55,1.09 \" class=\"primitive\"/>\n",
       "  </g>\n",
       "  <g transform=\"translate(105.65,66.44)\">\n",
       "    <path fill=\"none\" d=\"M-6.48,1.72 L6.48,-1.72 \" class=\"primitive\"/>\n",
       "  </g>\n",
       "  <g transform=\"translate(88.41,68.74)\">\n",
       "    <path fill=\"none\" d=\"M16.57,-1.96 L-16.57,1.96 \" class=\"primitive\"/>\n",
       "  </g>\n",
       "  <g transform=\"translate(109.66,65.54)\">\n",
       "    <path fill=\"none\" d=\"M-2.5,0.78 L2.5,-0.78 \" class=\"primitive\"/>\n",
       "  </g>\n",
       "  <g transform=\"translate(91.96,67.63)\">\n",
       "    <path fill=\"none\" d=\"M20.13,-3.03 L-20.13,3.03 \" class=\"primitive\"/>\n",
       "  </g>\n",
       "  <g transform=\"translate(96.69,67.5)\">\n",
       "    <path fill=\"none\" d=\"M15.41,-2.86 L-15.41,2.86 \" class=\"primitive\"/>\n",
       "  </g>\n",
       "  <g transform=\"translate(105.65,66.44)\">\n",
       "    <path fill=\"none\" d=\"M6.48,-1.72 L-6.48,1.72 \" class=\"primitive\"/>\n",
       "  </g>\n",
       "  <g transform=\"translate(109.66,65.54)\">\n",
       "    <path fill=\"none\" d=\"M2.5,-0.78 L-2.5,0.78 \" class=\"primitive\"/>\n",
       "  </g>\n",
       "  <g transform=\"translate(116.21,63.13)\">\n",
       "    <path fill=\"none\" d=\"M-2.02,0.88 L2.02,-0.88 \" class=\"primitive\"/>\n",
       "  </g>\n",
       "  <g transform=\"translate(118.58,61.68)\">\n",
       "    <path fill=\"none\" d=\"M-4.44,2.27 L4.44,-2.27 \" class=\"primitive\"/>\n",
       "  </g>\n",
       "  <g transform=\"translate(120.26,60.11)\">\n",
       "    <path fill=\"none\" d=\"M-6.18,3.79 L6.18,-3.79 \" class=\"primitive\"/>\n",
       "  </g>\n",
       "  <g transform=\"translate(121.21,58.47)\">\n",
       "    <path fill=\"none\" d=\"M-7.21,5.37 L7.21,-5.37 \" class=\"primitive\"/>\n",
       "  </g>\n",
       "  <g transform=\"translate(121.4,56.8)\">\n",
       "    <path fill=\"none\" d=\"M-7.5,6.99 L7.5,-6.99 \" class=\"primitive\"/>\n",
       "  </g>\n",
       "  <g transform=\"translate(120.83,55.13)\">\n",
       "    <path fill=\"none\" d=\"M-7.04,8.6 L7.04,-8.6 \" class=\"primitive\"/>\n",
       "  </g>\n",
       "  <g transform=\"translate(119.51,53.52)\">\n",
       "    <path fill=\"none\" d=\"M-5.87,10.16 L5.87,-10.16 \" class=\"primitive\"/>\n",
       "  </g>\n",
       "  <g transform=\"translate(117.47,52.01)\">\n",
       "    <path fill=\"none\" d=\"M-4,11.64 L4,-11.64 \" class=\"primitive\"/>\n",
       "  </g>\n",
       "  <g transform=\"translate(114.78,50.63)\">\n",
       "    <path fill=\"none\" d=\"M-1.48,13 L1.48,-13 \" class=\"primitive\"/>\n",
       "  </g>\n",
       "  <g transform=\"translate(111.5,49.42)\">\n",
       "    <path fill=\"none\" d=\"M1.62,14.2 L-1.62,-14.2 \" class=\"primitive\"/>\n",
       "  </g>\n",
       "  <g transform=\"translate(107.71,48.41)\">\n",
       "    <path fill=\"none\" d=\"M5.23,15.23 L-5.23,-15.23 \" class=\"primitive\"/>\n",
       "  </g>\n",
       "  <g transform=\"translate(99.01,47.1)\">\n",
       "    <path fill=\"none\" d=\"M13.62,16.63 L-13.62,-16.63 \" class=\"primitive\"/>\n",
       "  </g>\n",
       "  <g transform=\"translate(89.59,46.83)\">\n",
       "    <path fill=\"none\" d=\"M22.83,17.01 L-22.83,-17.01 \" class=\"primitive\"/>\n",
       "  </g>\n",
       "  <g transform=\"translate(84.91,47.1)\">\n",
       "    <path fill=\"none\" d=\"M27.43,16.8 L-27.43,-16.8 \" class=\"primitive\"/>\n",
       "  </g>\n",
       "  <g transform=\"translate(80.41,47.63)\">\n",
       "    <path fill=\"none\" d=\"M31.87,16.32 L-31.87,-16.32 \" class=\"primitive\"/>\n",
       "  </g>\n",
       "  <g transform=\"translate(76.21,48.41)\">\n",
       "    <path fill=\"none\" d=\"M36.02,15.6 L-36.02,-15.6 \" class=\"primitive\"/>\n",
       "  </g>\n",
       "  <g transform=\"translate(72.42,49.42)\">\n",
       "    <path fill=\"none\" d=\"M39.77,14.64 L-39.77,-14.64 \" class=\"primitive\"/>\n",
       "  </g>\n",
       "  <g transform=\"translate(69.14,50.63)\">\n",
       "    <path fill=\"none\" d=\"M43.02,13.48 L-43.02,-13.48 \" class=\"primitive\"/>\n",
       "  </g>\n",
       "  <g transform=\"translate(66.44,52.01)\">\n",
       "    <path fill=\"none\" d=\"M45.69,12.14 L-45.69,-12.14 \" class=\"primitive\"/>\n",
       "  </g>\n",
       "  <g transform=\"translate(64.41,53.52)\">\n",
       "    <path fill=\"none\" d=\"M47.7,10.67 L-47.7,-10.67 \" class=\"primitive\"/>\n",
       "  </g>\n",
       "  <g transform=\"translate(63.09,55.13)\">\n",
       "    <path fill=\"none\" d=\"M49.01,9.09 L-49.01,-9.09 \" class=\"primitive\"/>\n",
       "  </g>\n",
       "  <g transform=\"translate(62.52,56.8)\">\n",
       "    <path fill=\"none\" d=\"M49.57,7.47 L-49.57,-7.47 \" class=\"primitive\"/>\n",
       "  </g>\n",
       "  <g transform=\"translate(62.71,58.47)\">\n",
       "    <path fill=\"none\" d=\"M49.37,5.83 L-49.37,-5.83 \" class=\"primitive\"/>\n",
       "  </g>\n",
       "  <g transform=\"translate(63.66,60.11)\">\n",
       "    <path fill=\"none\" d=\"M48.41,4.22 L-48.41,-4.22 \" class=\"primitive\"/>\n",
       "  </g>\n",
       "  <g transform=\"translate(67.71,63.13)\">\n",
       "    <path fill=\"none\" d=\"M44.35,1.27 L-44.35,-1.27 \" class=\"primitive\"/>\n",
       "  </g>\n",
       "  <g transform=\"translate(70.71,64.43)\">\n",
       "    <path fill=\"none\" d=\"M41.35,0 L-41.35,0 \" class=\"primitive\"/>\n",
       "  </g>\n",
       "  <g transform=\"translate(74.26,65.54)\">\n",
       "    <path fill=\"none\" d=\"M37.8,-1.08 L-37.8,1.08 \" class=\"primitive\"/>\n",
       "  </g>\n",
       "  <g transform=\"translate(82.63,67.1)\">\n",
       "    <path fill=\"none\" d=\"M29.44,-2.57 L-29.44,2.57 \" class=\"primitive\"/>\n",
       "  </g>\n",
       "  <g transform=\"translate(87.23,67.5)\">\n",
       "    <path fill=\"none\" d=\"M24.84,-2.93 L-24.84,2.93 \" class=\"primitive\"/>\n",
       "  </g>\n",
       "  <g transform=\"translate(94.96,66.33)\">\n",
       "    <path fill=\"none\" d=\"M23.14,-4.29 L-23.14,4.29 \" class=\"primitive\"/>\n",
       "  </g>\n",
       "  <g transform=\"translate(116.21,63.13)\">\n",
       "    <path fill=\"none\" d=\"M2.02,-0.88 L-2.02,0.88 \" class=\"primitive\"/>\n",
       "  </g>\n",
       "  <g transform=\"translate(97.33,64.88)\">\n",
       "    <path fill=\"none\" d=\"M25.52,-5.71 L-25.52,5.71 \" class=\"primitive\"/>\n",
       "  </g>\n",
       "  <g transform=\"translate(118.58,61.68)\">\n",
       "    <path fill=\"none\" d=\"M4.44,-2.27 L-4.44,2.27 \" class=\"primitive\"/>\n",
       "  </g>\n",
       "  <g transform=\"translate(99.01,63.31)\">\n",
       "    <path fill=\"none\" d=\"M27.23,-7.23 L-27.23,7.23 \" class=\"primitive\"/>\n",
       "  </g>\n",
       "  <g transform=\"translate(120.26,60.11)\">\n",
       "    <path fill=\"none\" d=\"M6.18,-3.79 L-6.18,3.79 \" class=\"primitive\"/>\n",
       "  </g>\n",
       "  <g transform=\"translate(99.96,61.67)\">\n",
       "    <path fill=\"none\" d=\"M28.2,-8.83 L-28.2,8.83 \" class=\"primitive\"/>\n",
       "  </g>\n",
       "  <g transform=\"translate(121.21,58.47)\">\n",
       "    <path fill=\"none\" d=\"M7.21,-5.37 L-7.21,5.37 \" class=\"primitive\"/>\n",
       "  </g>\n",
       "  <g transform=\"translate(100.15,60)\">\n",
       "    <path fill=\"none\" d=\"M28.42,-10.46 L-28.42,10.46 \" class=\"primitive\"/>\n",
       "  </g>\n",
       "  <g transform=\"translate(121.4,56.8)\">\n",
       "    <path fill=\"none\" d=\"M7.5,-6.99 L-7.5,6.99 \" class=\"primitive\"/>\n",
       "  </g>\n",
       "  <g transform=\"translate(99.58,58.33)\">\n",
       "    <path fill=\"none\" d=\"M27.89,-12.08 L-27.89,12.08 \" class=\"primitive\"/>\n",
       "  </g>\n",
       "  <g transform=\"translate(120.83,55.13)\">\n",
       "    <path fill=\"none\" d=\"M7.04,-8.6 L-7.04,8.6 \" class=\"primitive\"/>\n",
       "  </g>\n",
       "  <g transform=\"translate(98.26,56.72)\">\n",
       "    <path fill=\"none\" d=\"M26.62,-13.63 L-26.62,13.63 \" class=\"primitive\"/>\n",
       "  </g>\n",
       "  <g transform=\"translate(119.51,53.52)\">\n",
       "    <path fill=\"none\" d=\"M5.87,-10.16 L-5.87,10.16 \" class=\"primitive\"/>\n",
       "  </g>\n",
       "  <g transform=\"translate(96.23,55.21)\">\n",
       "    <path fill=\"none\" d=\"M24.65,-15.09 L-24.65,15.09 \" class=\"primitive\"/>\n",
       "  </g>\n",
       "  <g transform=\"translate(117.47,52.01)\">\n",
       "    <path fill=\"none\" d=\"M4,-11.64 L-4,11.64 \" class=\"primitive\"/>\n",
       "  </g>\n",
       "  <g transform=\"translate(93.53,53.83)\">\n",
       "    <path fill=\"none\" d=\"M22.03,-16.42 L-22.03,16.42 \" class=\"primitive\"/>\n",
       "  </g>\n",
       "  <g transform=\"translate(114.78,50.63)\">\n",
       "    <path fill=\"none\" d=\"M1.48,-13 L-1.48,13 \" class=\"primitive\"/>\n",
       "  </g>\n",
       "  <g transform=\"translate(90.25,52.62)\">\n",
       "    <path fill=\"none\" d=\"M18.84,-17.57 L-18.84,17.57 \" class=\"primitive\"/>\n",
       "  </g>\n",
       "  <g transform=\"translate(111.5,49.42)\">\n",
       "    <path fill=\"none\" d=\"M-1.62,-14.2 L1.62,14.2 \" class=\"primitive\"/>\n",
       "  </g>\n",
       "  <g transform=\"translate(41.25,39.58)\">\n",
       "    <path fill=\"none\" d=\"M-28.83,-30.58 L28.83,30.58 \" class=\"primitive\"/>\n",
       "  </g>\n",
       "  <g transform=\"translate(58.95,37.49)\">\n",
       "    <path fill=\"none\" d=\"M-46.3,-28.63 L46.3,28.63 \" class=\"primitive\"/>\n",
       "  </g>\n",
       "  <g transform=\"translate(62.5,36.38)\">\n",
       "    <path fill=\"none\" d=\"M-49.81,-27.55 L49.81,27.55 \" class=\"primitive\"/>\n",
       "  </g>\n",
       "  <g transform=\"translate(86.46,51.61)\">\n",
       "    <path fill=\"none\" d=\"M15.17,-18.52 L-15.17,18.52 \" class=\"primitive\"/>\n",
       "  </g>\n",
       "  <g transform=\"translate(107.71,48.41)\">\n",
       "    <path fill=\"none\" d=\"M-5.23,-15.23 L5.23,15.23 \" class=\"primitive\"/>\n",
       "  </g>\n",
       "  <g transform=\"translate(82.26,50.83)\">\n",
       "    <path fill=\"none\" d=\"M11.11,-19.25 L-11.11,19.25 \" class=\"primitive\"/>\n",
       "  </g>\n",
       "  <g transform=\"translate(103.51,47.63)\">\n",
       "    <path fill=\"none\" d=\"M-9.27,-16.05 L9.27,16.05 \" class=\"primitive\"/>\n",
       "  </g>\n",
       "  <g transform=\"translate(60.46,37.49)\">\n",
       "    <path fill=\"none\" d=\"M-44.8,-28.62 L44.8,28.62 \" class=\"primitive\"/>\n",
       "  </g>\n",
       "  <g transform=\"translate(64.01,36.38)\">\n",
       "    <path fill=\"none\" d=\"M-48.31,-27.54 L48.31,27.54 \" class=\"primitive\"/>\n",
       "  </g>\n",
       "  <g transform=\"translate(44.27,39.58)\">\n",
       "    <path fill=\"none\" d=\"M-25.85,-30.55 L25.85,30.55 \" class=\"primitive\"/>\n",
       "  </g>\n",
       "  <g transform=\"translate(65.52,36.38)\">\n",
       "    <path fill=\"none\" d=\"M-46.81,-27.53 L46.81,27.53 \" class=\"primitive\"/>\n",
       "  </g>\n",
       "  <g transform=\"translate(75.22,28.75)\">\n",
       "    <path fill=\"none\" d=\"M-53.36,-20.03 L53.36,20.03 \" class=\"primitive\"/>\n",
       "  </g>\n",
       "  <g transform=\"translate(77.76,50.3)\">\n",
       "    <path fill=\"none\" d=\"M6.78,-19.74 L-6.78,19.74 \" class=\"primitive\"/>\n",
       "  </g>\n",
       "  <g transform=\"translate(99.01,47.1)\">\n",
       "    <path fill=\"none\" d=\"M-13.62,-16.63 L13.62,16.63 \" class=\"primitive\"/>\n",
       "  </g>\n",
       "  <g transform=\"translate(73.08,50.03)\">\n",
       "    <path fill=\"none\" d=\"M2.28,-19.99 L-2.28,19.99 \" class=\"primitive\"/>\n",
       "  </g>\n",
       "  <g transform=\"translate(94.33,46.83)\">\n",
       "    <path fill=\"none\" d=\"M-18.18,-16.95 L18.18,16.95 \" class=\"primitive\"/>\n",
       "  </g>\n",
       "  <g transform=\"translate(68.34,50.03)\">\n",
       "    <path fill=\"none\" d=\"M-2.28,-19.99 L2.28,19.99 \" class=\"primitive\"/>\n",
       "  </g>\n",
       "  <g transform=\"translate(89.59,46.83)\">\n",
       "    <path fill=\"none\" d=\"M-22.83,-17.01 L22.83,17.01 \" class=\"primitive\"/>\n",
       "  </g>\n",
       "  <g transform=\"translate(47.29,39.58)\">\n",
       "    <path fill=\"none\" d=\"M-22.88,-30.53 L22.88,30.53 \" class=\"primitive\"/>\n",
       "  </g>\n",
       "  <g transform=\"translate(64.99,37.49)\">\n",
       "    <path fill=\"none\" d=\"M-40.31,-28.59 L40.31,28.59 \" class=\"primitive\"/>\n",
       "  </g>\n",
       "  <g transform=\"translate(68.54,36.38)\">\n",
       "    <path fill=\"none\" d=\"M-43.81,-27.51 L43.81,27.51 \" class=\"primitive\"/>\n",
       "  </g>\n",
       "  <g transform=\"translate(63.66,50.3)\">\n",
       "    <path fill=\"none\" d=\"M-6.78,-19.74 L6.78,19.74 \" class=\"primitive\"/>\n",
       "  </g>\n",
       "  <g transform=\"translate(84.91,47.1)\">\n",
       "    <path fill=\"none\" d=\"M-27.43,-16.8 L27.43,16.8 \" class=\"primitive\"/>\n",
       "  </g>\n",
       "  <g transform=\"translate(59.16,50.83)\">\n",
       "    <path fill=\"none\" d=\"M-11.11,-19.25 L11.11,19.25 \" class=\"primitive\"/>\n",
       "  </g>\n",
       "  <g transform=\"translate(80.41,47.63)\">\n",
       "    <path fill=\"none\" d=\"M-31.87,-16.32 L31.87,16.32 \" class=\"primitive\"/>\n",
       "  </g>\n",
       "  <g transform=\"translate(48.8,39.58)\">\n",
       "    <path fill=\"none\" d=\"M-21.4,-30.52 L21.4,30.52 \" class=\"primitive\"/>\n",
       "  </g>\n",
       "  <g transform=\"translate(70.05,36.38)\">\n",
       "    <path fill=\"none\" d=\"M-42.31,-27.5 L42.31,27.5 \" class=\"primitive\"/>\n",
       "  </g>\n",
       "  <g transform=\"translate(54.96,51.61)\">\n",
       "    <path fill=\"none\" d=\"M-15.17,-18.52 L15.17,18.52 \" class=\"primitive\"/>\n",
       "  </g>\n",
       "  <g transform=\"translate(76.21,48.41)\">\n",
       "    <path fill=\"none\" d=\"M-36.02,-15.6 L36.02,15.6 \" class=\"primitive\"/>\n",
       "  </g>\n",
       "  <g transform=\"translate(51.17,52.62)\">\n",
       "    <path fill=\"none\" d=\"M-18.84,-17.57 L18.84,17.57 \" class=\"primitive\"/>\n",
       "  </g>\n",
       "  <g transform=\"translate(68.87,50.53)\">\n",
       "    <path fill=\"none\" d=\"M-36.26,-15.7 L36.26,15.7 \" class=\"primitive\"/>\n",
       "  </g>\n",
       "  <g transform=\"translate(72.42,49.42)\">\n",
       "    <path fill=\"none\" d=\"M-39.77,-14.64 L39.77,14.64 \" class=\"primitive\"/>\n",
       "  </g>\n",
       "  <g transform=\"translate(68.01,37.49)\">\n",
       "    <path fill=\"none\" d=\"M-37.32,-28.57 L37.32,28.57 \" class=\"primitive\"/>\n",
       "  </g>\n",
       "  <g transform=\"translate(47.89,53.83)\">\n",
       "    <path fill=\"none\" d=\"M-22.03,-16.42 L22.03,16.42 \" class=\"primitive\"/>\n",
       "  </g>\n",
       "  <g transform=\"translate(69.14,50.63)\">\n",
       "    <path fill=\"none\" d=\"M-43.02,-13.48 L43.02,13.48 \" class=\"primitive\"/>\n",
       "  </g>\n",
       "  <g transform=\"translate(45.2,55.21)\">\n",
       "    <path fill=\"none\" d=\"M-24.65,-15.09 L24.65,15.09 \" class=\"primitive\"/>\n",
       "  </g>\n",
       "  <g transform=\"translate(66.44,52.01)\">\n",
       "    <path fill=\"none\" d=\"M-45.69,-12.14 L45.69,12.14 \" class=\"primitive\"/>\n",
       "  </g>\n",
       "  <g transform=\"translate(43.16,56.72)\">\n",
       "    <path fill=\"none\" d=\"M-26.62,-13.63 L26.62,13.63 \" class=\"primitive\"/>\n",
       "  </g>\n",
       "  <g transform=\"translate(64.41,53.52)\">\n",
       "    <path fill=\"none\" d=\"M-47.7,-10.67 L47.7,10.67 \" class=\"primitive\"/>\n",
       "  </g>\n",
       "  <g transform=\"translate(41.84,58.33)\">\n",
       "    <path fill=\"none\" d=\"M-27.89,-12.08 L27.89,12.08 \" class=\"primitive\"/>\n",
       "  </g>\n",
       "  <g transform=\"translate(63.09,55.13)\">\n",
       "    <path fill=\"none\" d=\"M-49.01,-9.09 L49.01,9.09 \" class=\"primitive\"/>\n",
       "  </g>\n",
       "  <g transform=\"translate(51.82,39.58)\">\n",
       "    <path fill=\"none\" d=\"M-18.44,-30.5 L18.44,30.5 \" class=\"primitive\"/>\n",
       "  </g>\n",
       "  <g transform=\"translate(69.52,37.49)\">\n",
       "    <path fill=\"none\" d=\"M-35.82,-28.55 L35.82,28.55 \" class=\"primitive\"/>\n",
       "  </g>\n",
       "  <g transform=\"translate(73.07,36.38)\">\n",
       "    <path fill=\"none\" d=\"M-39.32,-27.48 L39.32,27.48 \" class=\"primitive\"/>\n",
       "  </g>\n",
       "  <g transform=\"translate(53.34,39.58)\">\n",
       "    <path fill=\"none\" d=\"M-16.96,-30.5 L16.96,30.5 \" class=\"primitive\"/>\n",
       "  </g>\n",
       "  <g transform=\"translate(74.58,36.38)\">\n",
       "    <path fill=\"none\" d=\"M-37.82,-27.47 L37.82,27.47 \" class=\"primitive\"/>\n",
       "  </g>\n",
       "  <g transform=\"translate(54.85,39.58)\">\n",
       "    <path fill=\"none\" d=\"M-15.48,-30.49 L15.48,30.49 \" class=\"primitive\"/>\n",
       "  </g>\n",
       "  <g transform=\"translate(76.09,36.38)\">\n",
       "    <path fill=\"none\" d=\"M-36.33,-27.46 L36.33,27.46 \" class=\"primitive\"/>\n",
       "  </g>\n",
       "  <g transform=\"translate(41.27,60)\">\n",
       "    <path fill=\"none\" d=\"M-28.42,-10.46 L28.42,10.46 \" class=\"primitive\"/>\n",
       "  </g>\n",
       "  <g transform=\"translate(62.52,56.8)\">\n",
       "    <path fill=\"none\" d=\"M-49.57,-7.47 L49.57,7.47 \" class=\"primitive\"/>\n",
       "  </g>\n",
       "  <g transform=\"translate(41.46,61.67)\">\n",
       "    <path fill=\"none\" d=\"M-28.2,-8.83 L28.2,8.83 \" class=\"primitive\"/>\n",
       "  </g>\n",
       "  <g transform=\"translate(62.71,58.47)\">\n",
       "    <path fill=\"none\" d=\"M-49.37,-5.83 L49.37,5.83 \" class=\"primitive\"/>\n",
       "  </g>\n",
       "  <g transform=\"translate(42.41,63.31)\">\n",
       "    <path fill=\"none\" d=\"M-27.23,-7.23 L27.23,7.23 \" class=\"primitive\"/>\n",
       "  </g>\n",
       "  <g transform=\"translate(63.66,60.11)\">\n",
       "    <path fill=\"none\" d=\"M-48.41,-4.22 L48.41,4.22 \" class=\"primitive\"/>\n",
       "  </g>\n",
       "  <g transform=\"translate(44.09,64.88)\">\n",
       "    <path fill=\"none\" d=\"M-25.52,-5.71 L25.52,5.71 \" class=\"primitive\"/>\n",
       "  </g>\n",
       "  <g transform=\"translate(65.34,61.68)\">\n",
       "    <path fill=\"none\" d=\"M-46.72,-2.68 L46.72,2.68 \" class=\"primitive\"/>\n",
       "  </g>\n",
       "  <g transform=\"translate(46.46,66.33)\">\n",
       "    <path fill=\"none\" d=\"M-23.14,-4.29 L23.14,4.29 \" class=\"primitive\"/>\n",
       "  </g>\n",
       "  <g transform=\"translate(64.16,64.24)\">\n",
       "    <path fill=\"none\" d=\"M-40.8,-2.34 L40.8,2.34 \" class=\"primitive\"/>\n",
       "  </g>\n",
       "  <g transform=\"translate(67.71,63.13)\">\n",
       "    <path fill=\"none\" d=\"M-44.35,-1.27 L44.35,1.27 \" class=\"primitive\"/>\n",
       "  </g>\n",
       "  <g transform=\"translate(49.46,67.63)\">\n",
       "    <path fill=\"none\" d=\"M-20.13,-3.03 L20.13,3.03 \" class=\"primitive\"/>\n",
       "  </g>\n",
       "  <g transform=\"translate(70.71,64.43)\">\n",
       "    <path fill=\"none\" d=\"M-41.35,0 L41.35,0 \" class=\"primitive\"/>\n",
       "  </g>\n",
       "  <g transform=\"translate(53.01,68.74)\">\n",
       "    <path fill=\"none\" d=\"M-16.57,-1.96 L16.57,1.96 \" class=\"primitive\"/>\n",
       "  </g>\n",
       "  <g transform=\"translate(74.26,65.54)\">\n",
       "    <path fill=\"none\" d=\"M-37.8,1.08 L37.8,-1.08 \" class=\"primitive\"/>\n",
       "  </g>\n",
       "  <g transform=\"translate(56.36,39.58)\">\n",
       "    <path fill=\"none\" d=\"M-14,-30.48 L14,30.48 \" class=\"primitive\"/>\n",
       "  </g>\n",
       "  <g transform=\"translate(74.06,37.49)\">\n",
       "    <path fill=\"none\" d=\"M-31.35,-28.52 L31.35,28.52 \" class=\"primitive\"/>\n",
       "  </g>\n",
       "  <g transform=\"translate(77.61,36.38)\">\n",
       "    <path fill=\"none\" d=\"M-34.84,-27.45 L34.84,27.45 \" class=\"primitive\"/>\n",
       "  </g>\n",
       "  <g transform=\"translate(57.87,39.58)\">\n",
       "    <path fill=\"none\" d=\"M-12.52,-30.47 L12.52,30.47 \" class=\"primitive\"/>\n",
       "  </g>\n",
       "  <g transform=\"translate(75.57,37.49)\">\n",
       "    <path fill=\"none\" d=\"M-29.86,-28.51 L29.86,28.51 \" class=\"primitive\"/>\n",
       "  </g>\n",
       "  <g transform=\"translate(79.12,36.38)\">\n",
       "    <path fill=\"none\" d=\"M-33.34,-27.43 L33.34,27.43 \" class=\"primitive\"/>\n",
       "  </g>\n",
       "  <g transform=\"translate(77.08,37.49)\">\n",
       "    <path fill=\"none\" d=\"M-28.37,-28.5 L28.37,28.5 \" class=\"primitive\"/>\n",
       "  </g>\n",
       "  <g transform=\"translate(60.89,39.58)\">\n",
       "    <path fill=\"none\" d=\"M-9.57,-30.46 L9.57,30.46 \" class=\"primitive\"/>\n",
       "  </g>\n",
       "  <g transform=\"translate(78.59,37.49)\">\n",
       "    <path fill=\"none\" d=\"M-26.88,-28.49 L26.88,28.49 \" class=\"primitive\"/>\n",
       "  </g>\n",
       "  <g transform=\"translate(82.14,36.38)\">\n",
       "    <path fill=\"none\" d=\"M-30.36,-27.41 L30.36,27.41 \" class=\"primitive\"/>\n",
       "  </g>\n",
       "  <g transform=\"translate(62.4,39.58)\">\n",
       "    <path fill=\"none\" d=\"M-8.1,-30.45 L8.1,30.45 \" class=\"primitive\"/>\n",
       "  </g>\n",
       "  <g transform=\"translate(83.65,36.38)\">\n",
       "    <path fill=\"none\" d=\"M-28.87,-27.4 L28.87,27.4 \" class=\"primitive\"/>\n",
       "  </g>\n",
       "  <g transform=\"translate(63.91,39.58)\">\n",
       "    <path fill=\"none\" d=\"M-6.62,-30.45 L6.62,30.45 \" class=\"primitive\"/>\n",
       "  </g>\n",
       "  <g transform=\"translate(81.61,37.49)\">\n",
       "    <path fill=\"none\" d=\"M-23.91,-28.46 L23.91,28.46 \" class=\"primitive\"/>\n",
       "  </g>\n",
       "  <g transform=\"translate(85.16,36.38)\">\n",
       "    <path fill=\"none\" d=\"M-27.39,-27.39 L27.39,27.39 \" class=\"primitive\"/>\n",
       "  </g>\n",
       "  <g transform=\"translate(65.42,39.58)\">\n",
       "    <path fill=\"none\" d=\"M-5.15,-30.44 L5.15,30.44 \" class=\"primitive\"/>\n",
       "  </g>\n",
       "  <g transform=\"translate(86.67,36.38)\">\n",
       "    <path fill=\"none\" d=\"M-25.9,-27.38 L25.9,27.38 \" class=\"primitive\"/>\n",
       "  </g>\n",
       "  <g transform=\"translate(66.93,39.58)\">\n",
       "    <path fill=\"none\" d=\"M-3.68,-30.44 L3.68,30.44 \" class=\"primitive\"/>\n",
       "  </g>\n",
       "  <g transform=\"translate(88.18,36.38)\">\n",
       "    <path fill=\"none\" d=\"M-24.41,-27.36 L24.41,27.36 \" class=\"primitive\"/>\n",
       "  </g>\n",
       "  <g transform=\"translate(68.44,39.58)\">\n",
       "    <path fill=\"none\" d=\"M-2.21,-30.44 L2.21,30.44 \" class=\"primitive\"/>\n",
       "  </g>\n",
       "  <g transform=\"translate(86.14,37.49)\">\n",
       "    <path fill=\"none\" d=\"M-19.47,-28.43 L19.47,28.43 \" class=\"primitive\"/>\n",
       "  </g>\n",
       "  <g transform=\"translate(89.69,36.38)\">\n",
       "    <path fill=\"none\" d=\"M-22.93,-27.35 L22.93,27.35 \" class=\"primitive\"/>\n",
       "  </g>\n",
       "  <g transform=\"translate(91.2,36.38)\">\n",
       "    <path fill=\"none\" d=\"M-21.45,-27.34 L21.45,27.34 \" class=\"primitive\"/>\n",
       "  </g>\n",
       "  <g transform=\"translate(71.47,39.58)\">\n",
       "    <path fill=\"none\" d=\"M0.74,-30.44 L-0.74,30.44 \" class=\"primitive\"/>\n",
       "  </g>\n",
       "  <g transform=\"translate(89.17,37.49)\">\n",
       "    <path fill=\"none\" d=\"M-16.51,-28.41 L16.51,28.41 \" class=\"primitive\"/>\n",
       "  </g>\n",
       "  <g transform=\"translate(92.71,36.38)\">\n",
       "    <path fill=\"none\" d=\"M-19.97,-27.33 L19.97,27.33 \" class=\"primitive\"/>\n",
       "  </g>\n",
       "  <g transform=\"translate(72.98,39.58)\">\n",
       "    <path fill=\"none\" d=\"M2.21,-30.44 L-2.21,30.44 \" class=\"primitive\"/>\n",
       "  </g>\n",
       "  <g transform=\"translate(94.23,36.38)\">\n",
       "    <path fill=\"none\" d=\"M-18.49,-27.32 L18.49,27.32 \" class=\"primitive\"/>\n",
       "  </g>\n",
       "  <g transform=\"translate(74.49,39.58)\">\n",
       "    <path fill=\"none\" d=\"M3.68,-30.44 L-3.68,30.44 \" class=\"primitive\"/>\n",
       "  </g>\n",
       "  <g transform=\"translate(92.19,37.49)\">\n",
       "    <path fill=\"none\" d=\"M-13.56,-28.39 L13.56,28.39 \" class=\"primitive\"/>\n",
       "  </g>\n",
       "  <g transform=\"translate(95.74,36.38)\">\n",
       "    <path fill=\"none\" d=\"M-17.01,-27.31 L17.01,27.31 \" class=\"primitive\"/>\n",
       "  </g>\n",
       "  <g transform=\"translate(76,39.58)\">\n",
       "    <path fill=\"none\" d=\"M5.15,-30.44 L-5.15,30.44 \" class=\"primitive\"/>\n",
       "  </g>\n",
       "  <g transform=\"translate(97.25,36.38)\">\n",
       "    <path fill=\"none\" d=\"M-15.53,-27.3 L15.53,27.3 \" class=\"primitive\"/>\n",
       "  </g>\n",
       "  <g transform=\"translate(77.51,39.58)\">\n",
       "    <path fill=\"none\" d=\"M6.62,-30.45 L-6.62,30.45 \" class=\"primitive\"/>\n",
       "  </g>\n",
       "  <g transform=\"translate(98.76,36.38)\">\n",
       "    <path fill=\"none\" d=\"M-14.06,-27.29 L14.06,27.29 \" class=\"primitive\"/>\n",
       "  </g>\n",
       "  <g transform=\"translate(79.02,39.58)\">\n",
       "    <path fill=\"none\" d=\"M8.1,-30.45 L-8.1,30.45 \" class=\"primitive\"/>\n",
       "  </g>\n",
       "  <g transform=\"translate(96.72,37.49)\">\n",
       "    <path fill=\"none\" d=\"M-9.13,-28.37 L9.13,28.37 \" class=\"primitive\"/>\n",
       "  </g>\n",
       "  <g transform=\"translate(57.02,69.64)\">\n",
       "    <path fill=\"none\" d=\"M-12.55,-1.09 L12.55,1.09 \" class=\"primitive\"/>\n",
       "  </g>\n",
       "  <g transform=\"translate(78.27,66.44)\">\n",
       "    <path fill=\"none\" d=\"M-33.8,1.94 L33.8,-1.94 \" class=\"primitive\"/>\n",
       "  </g>\n",
       "  <g transform=\"translate(101.78,36.38)\">\n",
       "    <path fill=\"none\" d=\"M-11.11,-27.27 L11.11,27.27 \" class=\"primitive\"/>\n",
       "  </g>\n",
       "  <g transform=\"translate(82.04,39.58)\">\n",
       "    <path fill=\"none\" d=\"M11.05,-30.46 L-11.05,30.46 \" class=\"primitive\"/>\n",
       "  </g>\n",
       "  <g transform=\"translate(103.29,36.38)\">\n",
       "    <path fill=\"none\" d=\"M-9.64,-27.26 L9.64,27.26 \" class=\"primitive\"/>\n",
       "  </g>\n",
       "  <g transform=\"translate(61.38,70.3)\">\n",
       "    <path fill=\"none\" d=\"M-8.19,-0.47 L8.19,0.47 \" class=\"primitive\"/>\n",
       "  </g>\n",
       "  <g transform=\"translate(82.63,67.1)\">\n",
       "    <path fill=\"none\" d=\"M-29.44,2.57 L29.44,-2.57 \" class=\"primitive\"/>\n",
       "  </g>\n",
       "  <g transform=\"translate(83.55,39.58)\">\n",
       "    <path fill=\"none\" d=\"M12.52,-30.47 L-12.52,30.47 \" class=\"primitive\"/>\n",
       "  </g>\n",
       "  <g transform=\"translate(85.06,39.58)\">\n",
       "    <path fill=\"none\" d=\"M14,-30.48 L-14,30.48 \" class=\"primitive\"/>\n",
       "  </g>\n",
       "  <g transform=\"translate(106.31,36.38)\">\n",
       "    <path fill=\"none\" d=\"M-6.7,-27.25 L6.7,27.25 \" class=\"primitive\"/>\n",
       "  </g>\n",
       "  <g transform=\"translate(116.01,28.75)\">\n",
       "    <path fill=\"none\" d=\"M-13.09,-19.68 L13.09,19.68 \" class=\"primitive\"/>\n",
       "  </g>\n",
       "  <g transform=\"translate(88.09,39.58)\">\n",
       "    <path fill=\"none\" d=\"M16.96,-30.5 L-16.96,30.5 \" class=\"primitive\"/>\n",
       "  </g>\n",
       "  <g transform=\"translate(109.33,36.38)\">\n",
       "    <path fill=\"none\" d=\"M-3.76,-27.24 L3.76,27.24 \" class=\"primitive\"/>\n",
       "  </g>\n",
       "  <g transform=\"translate(89.6,39.58)\">\n",
       "    <path fill=\"none\" d=\"M18.44,-30.5 L-18.44,30.5 \" class=\"primitive\"/>\n",
       "  </g>\n",
       "  <g transform=\"translate(110.85,36.38)\">\n",
       "    <path fill=\"none\" d=\"M-2.29,-27.24 L2.29,27.24 \" class=\"primitive\"/>\n",
       "  </g>\n",
       "  <g transform=\"translate(91.11,39.58)\">\n",
       "    <path fill=\"none\" d=\"M19.92,-30.51 L-19.92,30.51 \" class=\"primitive\"/>\n",
       "  </g>\n",
       "  <g transform=\"translate(92.62,39.58)\">\n",
       "    <path fill=\"none\" d=\"M21.4,-30.52 L-21.4,30.52 \" class=\"primitive\"/>\n",
       "  </g>\n",
       "  <g transform=\"translate(110.32,37.49)\">\n",
       "    <path fill=\"none\" d=\"M4.09,-28.35 L-4.09,28.35 \" class=\"primitive\"/>\n",
       "  </g>\n",
       "  <g transform=\"translate(94.13,39.58)\">\n",
       "    <path fill=\"none\" d=\"M22.88,-30.53 L-22.88,30.53 \" class=\"primitive\"/>\n",
       "  </g>\n",
       "  <g transform=\"translate(116.89,36.38)\">\n",
       "    <path fill=\"none\" d=\"M3.58,-27.24 L-3.58,27.24 \" class=\"primitive\"/>\n",
       "  </g>\n",
       "  <g transform=\"translate(118.4,36.38)\">\n",
       "    <path fill=\"none\" d=\"M5.04,-27.25 L-5.04,27.25 \" class=\"primitive\"/>\n",
       "  </g>\n",
       "  <g transform=\"translate(65.98,70.7)\">\n",
       "    <path fill=\"none\" d=\"M-3.58,-0.1 L3.58,0.1 \" class=\"primitive\"/>\n",
       "  </g>\n",
       "  <g transform=\"translate(87.23,67.5)\">\n",
       "    <path fill=\"none\" d=\"M-24.84,2.93 L24.84,-2.93 \" class=\"primitive\"/>\n",
       "  </g>\n",
       "  <g transform=\"translate(98.66,39.58)\">\n",
       "    <path fill=\"none\" d=\"M27.34,-30.56 L-27.34,30.56 \" class=\"primitive\"/>\n",
       "  </g>\n",
       "  <g transform=\"translate(116.36,37.49)\">\n",
       "    <path fill=\"none\" d=\"M9.98,-28.37 L-9.98,28.37 \" class=\"primitive\"/>\n",
       "  </g>\n",
       "  <g transform=\"translate(119.91,36.38)\">\n",
       "    <path fill=\"none\" d=\"M6.51,-27.25 L-6.51,27.25 \" class=\"primitive\"/>\n",
       "  </g>\n",
       "  <g transform=\"translate(117.87,37.49)\">\n",
       "    <path fill=\"none\" d=\"M11.45,-28.38 L-11.45,28.38 \" class=\"primitive\"/>\n",
       "  </g>\n",
       "</g>\n",
       "<g stroke-width=\"0.23\" stroke=\"#D3D3D3\" id=\"img-8fedf5f7-2\">\n",
       "  <g transform=\"translate(75.33,70.7)\">\n",
       "    <path fill=\"none\" d=\"M-1.93,-1.37 L3.69,-0.11 -1.76,1.48 \" class=\"primitive\"/>\n",
       "  </g>\n",
       "  <g transform=\"translate(84.55,70.04)\">\n",
       "    <path fill=\"none\" d=\"M-2,-1.31 L3.68,-0.21 -1.68,1.53 \" class=\"primitive\"/>\n",
       "  </g>\n",
       "  <g transform=\"translate(93.29,68.87)\">\n",
       "    <path fill=\"none\" d=\"M-2.08,-1.25 L3.66,-0.32 -1.59,1.57 \" class=\"primitive\"/>\n",
       "  </g>\n",
       "  <g transform=\"translate(101.34,67.22)\">\n",
       "    <path fill=\"none\" d=\"M-2.15,-1.19 L3.64,-0.43 -1.49,1.62 \" class=\"primitive\"/>\n",
       "  </g>\n",
       "  <g transform=\"translate(108.48,65.14)\">\n",
       "    <path fill=\"none\" d=\"M-2.23,-1.12 L3.61,-0.54 -1.39,1.67 \" class=\"primitive\"/>\n",
       "  </g>\n",
       "  <g transform=\"translate(114.53,62.7)\">\n",
       "    <path fill=\"none\" d=\"M-2.3,-1.05 L3.57,-0.66 -1.27,1.71 \" class=\"primitive\"/>\n",
       "  </g>\n",
       "  <g transform=\"translate(119.33,59.96)\">\n",
       "    <path fill=\"none\" d=\"M-2.37,-0.97 L3.52,-0.79 -1.15,1.75 \" class=\"primitive\"/>\n",
       "  </g>\n",
       "  <g transform=\"translate(122.78,57)\">\n",
       "    <path fill=\"none\" d=\"M-2.44,-0.87 L3.46,-0.92 -1.02,1.79 \" class=\"primitive\"/>\n",
       "  </g>\n",
       "  <g transform=\"translate(124.78,53.9)\">\n",
       "    <path fill=\"none\" d=\"M-2.5,-0.77 L3.38,-1.06 -0.87,1.83 \" class=\"primitive\"/>\n",
       "  </g>\n",
       "  <g transform=\"translate(125.3,50.74)\">\n",
       "    <path fill=\"none\" d=\"M-2.57,-0.66 L3.27,-1.21 -0.71,1.87 \" class=\"primitive\"/>\n",
       "  </g>\n",
       "  <g transform=\"translate(124.32,47.62)\">\n",
       "    <path fill=\"none\" d=\"M-2.63,-0.53 L3.15,-1.36 -0.52,1.9 \" class=\"primitive\"/>\n",
       "  </g>\n",
       "  <g transform=\"translate(121.89,44.62)\">\n",
       "    <path fill=\"none\" d=\"M-2.68,-0.39 L2.99,-1.53 -0.31,1.92 \" class=\"primitive\"/>\n",
       "  </g>\n",
       "  <g transform=\"translate(118.08,41.82)\">\n",
       "    <path fill=\"none\" d=\"M-2.71,-0.22 L2.79,-1.71 -0.08,1.93 \" class=\"primitive\"/>\n",
       "  </g>\n",
       "  <g transform=\"translate(113.02,39.31)\">\n",
       "    <path fill=\"none\" d=\"M-2.73,-0.03 L2.54,-1.89 0.19,1.93 \" class=\"primitive\"/>\n",
       "  </g>\n",
       "  <g transform=\"translate(106.86,37.13)\">\n",
       "    <path fill=\"none\" d=\"M-2.72,0.18 L2.23,-2.08 0.49,1.9 \" class=\"primitive\"/>\n",
       "  </g>\n",
       "  <g transform=\"translate(99.78,35.35)\">\n",
       "    <path fill=\"none\" d=\"M-2.67,0.41 L1.85,-2.26 0.82,1.84 \" class=\"primitive\"/>\n",
       "  </g>\n",
       "  <g transform=\"translate(91.98,34)\">\n",
       "    <path fill=\"none\" d=\"M-2.56,0.67 L1.4,-2.42 1.17,1.75 \" class=\"primitive\"/>\n",
       "  </g>\n",
       "  <g transform=\"translate(83.67,33.1)\">\n",
       "    <path fill=\"none\" d=\"M-2.39,0.93 L0.87,-2.54 1.52,1.6 \" class=\"primitive\"/>\n",
       "  </g>\n",
       "  <g transform=\"translate(75.06,32.64)\">\n",
       "    <path fill=\"none\" d=\"M-2.16,1.19 L0.3,-2.6 1.86,1.42 \" class=\"primitive\"/>\n",
       "  </g>\n",
       "  <g transform=\"translate(66.36,32.64)\">\n",
       "    <path fill=\"none\" d=\"M-1.86,1.42 L-0.3,-2.6 2.16,1.19 \" class=\"primitive\"/>\n",
       "  </g>\n",
       "  <g transform=\"translate(57.75,33.1)\">\n",
       "    <path fill=\"none\" d=\"M-1.52,1.6 L-0.87,-2.54 2.39,0.93 \" class=\"primitive\"/>\n",
       "  </g>\n",
       "  <g transform=\"translate(49.44,34)\">\n",
       "    <path fill=\"none\" d=\"M-1.17,1.75 L-1.4,-2.42 2.56,0.67 \" class=\"primitive\"/>\n",
       "  </g>\n",
       "  <g transform=\"translate(41.64,35.35)\">\n",
       "    <path fill=\"none\" d=\"M-0.82,1.84 L-1.85,-2.26 2.67,0.41 \" class=\"primitive\"/>\n",
       "  </g>\n",
       "  <g transform=\"translate(28.4,39.31)\">\n",
       "    <path fill=\"none\" d=\"M-0.19,1.93 L-2.54,-1.89 2.73,-0.03 \" class=\"primitive\"/>\n",
       "  </g>\n",
       "  <g transform=\"translate(23.34,41.82)\">\n",
       "    <path fill=\"none\" d=\"M0.08,1.93 L-2.79,-1.71 2.71,-0.22 \" class=\"primitive\"/>\n",
       "  </g>\n",
       "  <g transform=\"translate(19.53,44.62)\">\n",
       "    <path fill=\"none\" d=\"M0.31,1.92 L-2.99,-1.53 2.68,-0.39 \" class=\"primitive\"/>\n",
       "  </g>\n",
       "  <g transform=\"translate(17.1,47.62)\">\n",
       "    <path fill=\"none\" d=\"M0.52,1.9 L-3.15,-1.36 2.63,-0.53 \" class=\"primitive\"/>\n",
       "  </g>\n",
       "  <g transform=\"translate(16.12,50.74)\">\n",
       "    <path fill=\"none\" d=\"M0.71,1.87 L-3.27,-1.21 2.57,-0.66 \" class=\"primitive\"/>\n",
       "  </g>\n",
       "  <g transform=\"translate(16.64,53.9)\">\n",
       "    <path fill=\"none\" d=\"M0.87,1.83 L-3.38,-1.06 2.5,-0.77 \" class=\"primitive\"/>\n",
       "  </g>\n",
       "  <g transform=\"translate(22.09,59.96)\">\n",
       "    <path fill=\"none\" d=\"M1.15,1.75 L-3.52,-0.79 2.37,-0.97 \" class=\"primitive\"/>\n",
       "  </g>\n",
       "  <g transform=\"translate(26.9,62.7)\">\n",
       "    <path fill=\"none\" d=\"M1.27,1.71 L-3.57,-0.66 2.3,-1.05 \" class=\"primitive\"/>\n",
       "  </g>\n",
       "  <g transform=\"translate(32.95,65.14)\">\n",
       "    <path fill=\"none\" d=\"M1.39,1.67 L-3.61,-0.54 2.23,-1.12 \" class=\"primitive\"/>\n",
       "  </g>\n",
       "  <g transform=\"translate(40.08,67.22)\">\n",
       "    <path fill=\"none\" d=\"M1.49,1.62 L-3.64,-0.43 2.15,-1.19 \" class=\"primitive\"/>\n",
       "  </g>\n",
       "  <g transform=\"translate(48.13,68.87)\">\n",
       "    <path fill=\"none\" d=\"M1.59,1.57 L-3.66,-0.32 2.08,-1.25 \" class=\"primitive\"/>\n",
       "  </g>\n",
       "  <g transform=\"translate(56.87,70.04)\">\n",
       "    <path fill=\"none\" d=\"M1.68,1.53 L-3.68,-0.21 2,-1.31 \" class=\"primitive\"/>\n",
       "  </g>\n",
       "  <g transform=\"translate(75.55,70.7)\">\n",
       "    <path fill=\"none\" d=\"M1.93,1.37 L-3.69,0.11 1.76,-1.48 \" class=\"primitive\"/>\n",
       "  </g>\n",
       "  <g transform=\"translate(108.53,65.3)\">\n",
       "    <path fill=\"none\" d=\"M-2.3,-1.05 L3.57,-0.66 -1.27,1.71 \" class=\"primitive\"/>\n",
       "  </g>\n",
       "  <g transform=\"translate(75.53,70.56)\">\n",
       "    <path fill=\"none\" d=\"M2,1.31 L-3.68,0.21 1.68,-1.53 \" class=\"primitive\"/>\n",
       "  </g>\n",
       "  <g transform=\"translate(108.59,65.46)\">\n",
       "    <path fill=\"none\" d=\"M-2.37,-0.97 L3.52,-0.79 -1.15,1.75 \" class=\"primitive\"/>\n",
       "  </g>\n",
       "  <g transform=\"translate(75.51,70.41)\">\n",
       "    <path fill=\"none\" d=\"M2.08,1.25 L-3.66,0.32 1.59,-1.57 \" class=\"primitive\"/>\n",
       "  </g>\n",
       "  <g transform=\"translate(108.68,65.64)\">\n",
       "    <path fill=\"none\" d=\"M-2.44,-0.87 L3.46,-0.92 -1.02,1.79 \" class=\"primitive\"/>\n",
       "  </g>\n",
       "  <g transform=\"translate(75.48,70.27)\">\n",
       "    <path fill=\"none\" d=\"M2.15,1.19 L-3.64,0.43 1.49,-1.62 \" class=\"primitive\"/>\n",
       "  </g>\n",
       "  <g transform=\"translate(108.78,65.82)\">\n",
       "    <path fill=\"none\" d=\"M-2.5,-0.77 L3.38,-1.06 -0.87,1.83 \" class=\"primitive\"/>\n",
       "  </g>\n",
       "  <g transform=\"translate(75.44,70.12)\">\n",
       "    <path fill=\"none\" d=\"M2.23,1.12 L-3.61,0.54 1.39,-1.67 \" class=\"primitive\"/>\n",
       "  </g>\n",
       "  <g transform=\"translate(84.84,69.7)\">\n",
       "    <path fill=\"none\" d=\"M2.3,1.05 L-3.57,0.66 1.27,-1.71 \" class=\"primitive\"/>\n",
       "  </g>\n",
       "  <g transform=\"translate(102.62,67.24)\">\n",
       "    <path fill=\"none\" d=\"M2.44,0.87 L-3.46,0.92 1.02,-1.79 \" class=\"primitive\"/>\n",
       "  </g>\n",
       "  <g transform=\"translate(110.53,65.27)\">\n",
       "    <path fill=\"none\" d=\"M2.5,0.77 L-3.38,1.06 0.87,-1.83 \" class=\"primitive\"/>\n",
       "  </g>\n",
       "  <g transform=\"translate(115.08,63.62)\">\n",
       "    <path fill=\"none\" d=\"M-2.63,-0.53 L3.15,-1.36 -0.52,1.9 \" class=\"primitive\"/>\n",
       "  </g>\n",
       "  <g transform=\"translate(120.03,60.94)\">\n",
       "    <path fill=\"none\" d=\"M-2.68,-0.39 L2.99,-1.53 -0.31,1.92 \" class=\"primitive\"/>\n",
       "  </g>\n",
       "  <g transform=\"translate(123.65,58.04)\">\n",
       "    <path fill=\"none\" d=\"M-2.71,-0.22 L2.79,-1.71 -0.08,1.93 \" class=\"primitive\"/>\n",
       "  </g>\n",
       "  <g transform=\"translate(125.88,54.99)\">\n",
       "    <path fill=\"none\" d=\"M-2.73,-0.03 L2.54,-1.89 0.19,1.93 \" class=\"primitive\"/>\n",
       "  </g>\n",
       "  <g transform=\"translate(126.66,51.89)\">\n",
       "    <path fill=\"none\" d=\"M-2.72,0.18 L2.23,-2.08 0.49,1.9 \" class=\"primitive\"/>\n",
       "  </g>\n",
       "  <g transform=\"translate(126.02,48.79)\">\n",
       "    <path fill=\"none\" d=\"M-2.67,0.41 L1.85,-2.26 0.82,1.84 \" class=\"primitive\"/>\n",
       "  </g>\n",
       "  <g transform=\"translate(123.98,45.78)\">\n",
       "    <path fill=\"none\" d=\"M-2.56,0.67 L1.4,-2.42 1.17,1.75 \" class=\"primitive\"/>\n",
       "  </g>\n",
       "  <g transform=\"translate(120.6,42.91)\">\n",
       "    <path fill=\"none\" d=\"M-2.39,0.93 L0.87,-2.54 1.52,1.6 \" class=\"primitive\"/>\n",
       "  </g>\n",
       "  <g transform=\"translate(115.97,40.23)\">\n",
       "    <path fill=\"none\" d=\"M-2.16,1.19 L0.3,-2.6 1.86,1.42 \" class=\"primitive\"/>\n",
       "  </g>\n",
       "  <g transform=\"translate(110.17,37.82)\">\n",
       "    <path fill=\"none\" d=\"M-1.86,1.42 L-0.3,-2.6 2.16,1.19 \" class=\"primitive\"/>\n",
       "  </g>\n",
       "  <g transform=\"translate(103.35,35.72)\">\n",
       "    <path fill=\"none\" d=\"M-1.52,1.6 L-0.87,-2.54 2.39,0.93 \" class=\"primitive\"/>\n",
       "  </g>\n",
       "  <g transform=\"translate(87.24,32.73)\">\n",
       "    <path fill=\"none\" d=\"M-0.82,1.84 L-1.85,-2.26 2.67,0.41 \" class=\"primitive\"/>\n",
       "  </g>\n",
       "  <g transform=\"translate(69.3,31.72)\">\n",
       "    <path fill=\"none\" d=\"M-0.19,1.93 L-2.54,-1.89 2.73,-0.03 \" class=\"primitive\"/>\n",
       "  </g>\n",
       "  <g transform=\"translate(60.27,32.01)\">\n",
       "    <path fill=\"none\" d=\"M0.08,1.93 L-2.79,-1.71 2.71,-0.22 \" class=\"primitive\"/>\n",
       "  </g>\n",
       "  <g transform=\"translate(51.53,32.84)\">\n",
       "    <path fill=\"none\" d=\"M0.31,1.92 L-2.99,-1.53 2.68,-0.39 \" class=\"primitive\"/>\n",
       "  </g>\n",
       "  <g transform=\"translate(43.34,34.18)\">\n",
       "    <path fill=\"none\" d=\"M0.52,1.9 L-3.15,-1.36 2.63,-0.53 \" class=\"primitive\"/>\n",
       "  </g>\n",
       "  <g transform=\"translate(35.93,35.99)\">\n",
       "    <path fill=\"none\" d=\"M0.71,1.87 L-3.27,-1.21 2.57,-0.66 \" class=\"primitive\"/>\n",
       "  </g>\n",
       "  <g transform=\"translate(29.49,38.21)\">\n",
       "    <path fill=\"none\" d=\"M0.87,1.83 L-3.38,-1.06 2.5,-0.77 \" class=\"primitive\"/>\n",
       "  </g>\n",
       "  <g transform=\"translate(24.21,40.79)\">\n",
       "    <path fill=\"none\" d=\"M1.02,1.79 L-3.46,-0.92 2.44,-0.87 \" class=\"primitive\"/>\n",
       "  </g>\n",
       "  <g transform=\"translate(20.23,43.64)\">\n",
       "    <path fill=\"none\" d=\"M1.15,1.75 L-3.52,-0.79 2.37,-0.97 \" class=\"primitive\"/>\n",
       "  </g>\n",
       "  <g transform=\"translate(17.66,46.7)\">\n",
       "    <path fill=\"none\" d=\"M1.27,1.71 L-3.57,-0.66 2.3,-1.05 \" class=\"primitive\"/>\n",
       "  </g>\n",
       "  <g transform=\"translate(16.57,49.87)\">\n",
       "    <path fill=\"none\" d=\"M1.39,1.67 L-3.61,-0.54 2.23,-1.12 \" class=\"primitive\"/>\n",
       "  </g>\n",
       "  <g transform=\"translate(16.99,53.07)\">\n",
       "    <path fill=\"none\" d=\"M1.49,1.62 L-3.64,-0.43 2.15,-1.19 \" class=\"primitive\"/>\n",
       "  </g>\n",
       "  <g transform=\"translate(18.91,56.21)\">\n",
       "    <path fill=\"none\" d=\"M1.59,1.57 L-3.66,-0.32 2.08,-1.25 \" class=\"primitive\"/>\n",
       "  </g>\n",
       "  <g transform=\"translate(27.05,61.97)\">\n",
       "    <path fill=\"none\" d=\"M1.76,1.48 L-3.69,-0.11 1.93,-1.37 \" class=\"primitive\"/>\n",
       "  </g>\n",
       "  <g transform=\"translate(33.05,64.43)\">\n",
       "    <path fill=\"none\" d=\"M1.85,1.43 L-3.69,0 1.85,-1.43 \" class=\"primitive\"/>\n",
       "  </g>\n",
       "  <g transform=\"translate(40.15,66.52)\">\n",
       "    <path fill=\"none\" d=\"M1.93,1.37 L-3.69,0.11 1.76,-1.48 \" class=\"primitive\"/>\n",
       "  </g>\n",
       "  <g transform=\"translate(56.85,69.34)\">\n",
       "    <path fill=\"none\" d=\"M2.08,1.25 L-3.66,0.32 1.59,-1.57 \" class=\"primitive\"/>\n",
       "  </g>\n",
       "  <g transform=\"translate(66.03,70)\">\n",
       "    <path fill=\"none\" d=\"M2.15,1.19 L-3.64,0.43 1.49,-1.62 \" class=\"primitive\"/>\n",
       "  </g>\n",
       "  <g transform=\"translate(75.39,69.96)\">\n",
       "    <path fill=\"none\" d=\"M2.3,1.05 L-3.57,0.66 1.27,-1.71 \" class=\"primitive\"/>\n",
       "  </g>\n",
       "  <g transform=\"translate(117.33,62.65)\">\n",
       "    <path fill=\"none\" d=\"M2.63,0.53 L-3.15,1.36 0.52,-1.9 \" class=\"primitive\"/>\n",
       "  </g>\n",
       "  <g transform=\"translate(75.32,69.8)\">\n",
       "    <path fill=\"none\" d=\"M2.37,0.97 L-3.52,0.79 1.15,-1.75 \" class=\"primitive\"/>\n",
       "  </g>\n",
       "  <g transform=\"translate(117.13,62.42)\">\n",
       "    <path fill=\"none\" d=\"M2.68,0.39 L-2.99,1.53 0.31,-1.92 \" class=\"primitive\"/>\n",
       "  </g>\n",
       "  <g transform=\"translate(75.24,69.63)\">\n",
       "    <path fill=\"none\" d=\"M2.44,0.87 L-3.46,0.92 1.02,-1.79 \" class=\"primitive\"/>\n",
       "  </g>\n",
       "  <g transform=\"translate(116.87,62.19)\">\n",
       "    <path fill=\"none\" d=\"M2.71,0.22 L-2.79,1.71 0.08,-1.93 \" class=\"primitive\"/>\n",
       "  </g>\n",
       "  <g transform=\"translate(75.13,69.45)\">\n",
       "    <path fill=\"none\" d=\"M2.5,0.77 L-3.38,1.06 0.87,-1.83 \" class=\"primitive\"/>\n",
       "  </g>\n",
       "  <g transform=\"translate(116.54,61.95)\">\n",
       "    <path fill=\"none\" d=\"M2.73,0.03 L-2.54,1.89 -0.19,-1.93 \" class=\"primitive\"/>\n",
       "  </g>\n",
       "  <g transform=\"translate(75,69.25)\">\n",
       "    <path fill=\"none\" d=\"M2.57,0.66 L-3.27,1.21 0.71,-1.87 \" class=\"primitive\"/>\n",
       "  </g>\n",
       "  <g transform=\"translate(116.13,61.71)\">\n",
       "    <path fill=\"none\" d=\"M2.72,-0.18 L-2.23,2.08 -0.49,-1.9 \" class=\"primitive\"/>\n",
       "  </g>\n",
       "  <g transform=\"translate(74.84,69.05)\">\n",
       "    <path fill=\"none\" d=\"M2.63,0.53 L-3.15,1.36 0.52,-1.9 \" class=\"primitive\"/>\n",
       "  </g>\n",
       "  <g transform=\"translate(115.63,61.47)\">\n",
       "    <path fill=\"none\" d=\"M2.67,-0.41 L-1.85,2.26 -0.82,-1.84 \" class=\"primitive\"/>\n",
       "  </g>\n",
       "  <g transform=\"translate(74.63,68.83)\">\n",
       "    <path fill=\"none\" d=\"M2.68,0.39 L-2.99,1.53 0.31,-1.92 \" class=\"primitive\"/>\n",
       "  </g>\n",
       "  <g transform=\"translate(115.04,61.26)\">\n",
       "    <path fill=\"none\" d=\"M2.56,-0.67 L-1.4,2.42 -1.17,-1.75 \" class=\"primitive\"/>\n",
       "  </g>\n",
       "  <g transform=\"translate(74.37,68.59)\">\n",
       "    <path fill=\"none\" d=\"M2.71,0.22 L-2.79,1.71 0.08,-1.93 \" class=\"primitive\"/>\n",
       "  </g>\n",
       "  <g transform=\"translate(114.35,61.11)\">\n",
       "    <path fill=\"none\" d=\"M2.39,-0.93 L-0.87,2.54 -1.52,-1.6 \" class=\"primitive\"/>\n",
       "  </g>\n",
       "  <g transform=\"translate(74.04,68.35)\">\n",
       "    <path fill=\"none\" d=\"M2.73,0.03 L-2.54,1.89 -0.19,-1.93 \" class=\"primitive\"/>\n",
       "  </g>\n",
       "  <g transform=\"translate(113.6,61.02)\">\n",
       "    <path fill=\"none\" d=\"M2.16,-1.19 L-0.3,2.6 -1.86,-1.42 \" class=\"primitive\"/>\n",
       "  </g>\n",
       "  <g transform=\"translate(73.63,68.11)\">\n",
       "    <path fill=\"none\" d=\"M2.72,-0.18 L-2.23,2.08 -0.49,-1.9 \" class=\"primitive\"/>\n",
       "  </g>\n",
       "  <g transform=\"translate(112.82,61.02)\">\n",
       "    <path fill=\"none\" d=\"M1.86,-1.42 L0.3,2.6 -2.16,-1.19 \" class=\"primitive\"/>\n",
       "  </g>\n",
       "  <g transform=\"translate(68.03,67.99)\">\n",
       "    <path fill=\"none\" d=\"M0.65,-1.88 L2.05,2.17 -2.7,-0.3 \" class=\"primitive\"/>\n",
       "  </g>\n",
       "  <g transform=\"translate(102.47,64.4)\">\n",
       "    <path fill=\"none\" d=\"M-0.06,-1.93 L2.78,1.72 -2.72,0.21 \" class=\"primitive\"/>\n",
       "  </g>\n",
       "  <g transform=\"translate(109.4,62.32)\">\n",
       "    <path fill=\"none\" d=\"M-0.21,-1.93 L2.91,1.61 -2.7,0.32 \" class=\"primitive\"/>\n",
       "  </g>\n",
       "  <g transform=\"translate(73.14,67.87)\">\n",
       "    <path fill=\"none\" d=\"M2.67,-0.41 L-1.85,2.26 -0.82,-1.84 \" class=\"primitive\"/>\n",
       "  </g>\n",
       "  <g transform=\"translate(112.07,61.11)\">\n",
       "    <path fill=\"none\" d=\"M1.52,-1.6 L0.87,2.54 -2.39,-0.93 \" class=\"primitive\"/>\n",
       "  </g>\n",
       "  <g transform=\"translate(72.54,67.67)\">\n",
       "    <path fill=\"none\" d=\"M2.56,-0.67 L-1.4,2.42 -1.17,-1.75 \" class=\"primitive\"/>\n",
       "  </g>\n",
       "  <g transform=\"translate(111.38,61.26)\">\n",
       "    <path fill=\"none\" d=\"M1.17,-1.75 L1.4,2.42 -2.56,-0.67 \" class=\"primitive\"/>\n",
       "  </g>\n",
       "  <g transform=\"translate(102.52,64.36)\">\n",
       "    <path fill=\"none\" d=\"M-0.02,-1.93 L2.74,1.75 -2.72,0.18 \" class=\"primitive\"/>\n",
       "  </g>\n",
       "  <g transform=\"translate(109.44,62.28)\">\n",
       "    <path fill=\"none\" d=\"M-0.17,-1.93 L2.87,1.64 -2.7,0.29 \" class=\"primitive\"/>\n",
       "  </g>\n",
       "  <g transform=\"translate(68.23,67.9)\">\n",
       "    <path fill=\"none\" d=\"M0.78,-1.85 L1.9,2.24 -2.68,-0.39 \" class=\"primitive\"/>\n",
       "  </g>\n",
       "  <g transform=\"translate(109.49,62.24)\">\n",
       "    <path fill=\"none\" d=\"M-0.13,-1.93 L2.84,1.67 -2.71,0.26 \" class=\"primitive\"/>\n",
       "  </g>\n",
       "  <g transform=\"translate(125.32,47.56)\">\n",
       "    <path fill=\"none\" d=\"M-0.68,-1.87 L3.26,1.22 -2.58,0.65 \" class=\"primitive\"/>\n",
       "  </g>\n",
       "  <g transform=\"translate(71.85,67.51)\">\n",
       "    <path fill=\"none\" d=\"M2.39,-0.93 L-0.87,2.54 -1.52,-1.6 \" class=\"primitive\"/>\n",
       "  </g>\n",
       "  <g transform=\"translate(110.78,61.47)\">\n",
       "    <path fill=\"none\" d=\"M0.82,-1.84 L1.85,2.26 -2.67,-0.41 \" class=\"primitive\"/>\n",
       "  </g>\n",
       "  <g transform=\"translate(71.1,67.42)\">\n",
       "    <path fill=\"none\" d=\"M2.16,-1.19 L-0.3,2.6 -1.86,-1.42 \" class=\"primitive\"/>\n",
       "  </g>\n",
       "  <g transform=\"translate(110.28,61.71)\">\n",
       "    <path fill=\"none\" d=\"M0.49,-1.9 L2.23,2.08 -2.72,-0.18 \" class=\"primitive\"/>\n",
       "  </g>\n",
       "  <g transform=\"translate(70.32,67.42)\">\n",
       "    <path fill=\"none\" d=\"M1.86,-1.42 L0.3,2.6 -2.16,-1.19 \" class=\"primitive\"/>\n",
       "  </g>\n",
       "  <g transform=\"translate(109.88,61.95)\">\n",
       "    <path fill=\"none\" d=\"M0.19,-1.93 L2.54,1.89 -2.73,0.03 \" class=\"primitive\"/>\n",
       "  </g>\n",
       "  <g transform=\"translate(68.45,67.81)\">\n",
       "    <path fill=\"none\" d=\"M0.92,-1.82 L1.73,2.31 -2.65,-0.49 \" class=\"primitive\"/>\n",
       "  </g>\n",
       "  <g transform=\"translate(102.69,64.23)\">\n",
       "    <path fill=\"none\" d=\"M0.12,-1.93 L2.61,1.85 -2.73,0.08 \" class=\"primitive\"/>\n",
       "  </g>\n",
       "  <g transform=\"translate(109.59,62.16)\">\n",
       "    <path fill=\"none\" d=\"M-0.04,-1.93 L2.76,1.73 -2.72,0.2 \" class=\"primitive\"/>\n",
       "  </g>\n",
       "  <g transform=\"translate(69.57,67.51)\">\n",
       "    <path fill=\"none\" d=\"M1.52,-1.6 L0.87,2.54 -2.39,-0.93 \" class=\"primitive\"/>\n",
       "  </g>\n",
       "  <g transform=\"translate(109.55,62.19)\">\n",
       "    <path fill=\"none\" d=\"M-0.08,-1.93 L2.79,1.71 -2.71,0.22 \" class=\"primitive\"/>\n",
       "  </g>\n",
       "  <g transform=\"translate(68.88,67.67)\">\n",
       "    <path fill=\"none\" d=\"M1.17,-1.75 L1.4,2.42 -2.56,-0.67 \" class=\"primitive\"/>\n",
       "  </g>\n",
       "  <g transform=\"translate(109.29,62.42)\">\n",
       "    <path fill=\"none\" d=\"M-0.31,-1.92 L2.99,1.53 -2.68,0.39 \" class=\"primitive\"/>\n",
       "  </g>\n",
       "  <g transform=\"translate(68.56,67.77)\">\n",
       "    <path fill=\"none\" d=\"M0.99,-1.8 L1.64,2.34 -2.63,-0.54 \" class=\"primitive\"/>\n",
       "  </g>\n",
       "  <g transform=\"translate(109.65,62.12)\">\n",
       "    <path fill=\"none\" d=\"M0,-1.93 L2.72,1.77 -2.72,0.17 \" class=\"primitive\"/>\n",
       "  </g>\n",
       "  <g transform=\"translate(68.29,67.87)\">\n",
       "    <path fill=\"none\" d=\"M0.82,-1.84 L1.85,2.26 -2.67,-0.41 \" class=\"primitive\"/>\n",
       "  </g>\n",
       "  <g transform=\"translate(109.08,62.65)\">\n",
       "    <path fill=\"none\" d=\"M-0.52,-1.9 L3.15,1.36 -2.63,0.53 \" class=\"primitive\"/>\n",
       "  </g>\n",
       "  <g transform=\"translate(67.79,68.11)\">\n",
       "    <path fill=\"none\" d=\"M0.49,-1.9 L2.23,2.08 -2.72,-0.18 \" class=\"primitive\"/>\n",
       "  </g>\n",
       "  <g transform=\"translate(101.98,64.87)\">\n",
       "    <path fill=\"none\" d=\"M-0.52,-1.9 L3.15,1.36 -2.63,0.53 \" class=\"primitive\"/>\n",
       "  </g>\n",
       "  <g transform=\"translate(108.92,62.85)\">\n",
       "    <path fill=\"none\" d=\"M-0.71,-1.87 L3.27,1.21 -2.57,0.66 \" class=\"primitive\"/>\n",
       "  </g>\n",
       "  <g transform=\"translate(102.83,64.14)\">\n",
       "    <path fill=\"none\" d=\"M0.23,-1.93 L2.5,1.92 -2.73,0.01 \" class=\"primitive\"/>\n",
       "  </g>\n",
       "  <g transform=\"translate(67.38,68.35)\">\n",
       "    <path fill=\"none\" d=\"M0.19,-1.93 L2.54,1.89 -2.73,0.03 \" class=\"primitive\"/>\n",
       "  </g>\n",
       "  <g transform=\"translate(108.78,63.05)\">\n",
       "    <path fill=\"none\" d=\"M-0.87,-1.83 L3.38,1.06 -2.5,0.77 \" class=\"primitive\"/>\n",
       "  </g>\n",
       "  <g transform=\"translate(67.05,68.59)\">\n",
       "    <path fill=\"none\" d=\"M-0.08,-1.93 L2.79,1.71 -2.71,0.22 \" class=\"primitive\"/>\n",
       "  </g>\n",
       "  <g transform=\"translate(108.68,63.23)\">\n",
       "    <path fill=\"none\" d=\"M-1.02,-1.79 L3.46,0.92 -2.44,0.87 \" class=\"primitive\"/>\n",
       "  </g>\n",
       "  <g transform=\"translate(66.79,68.83)\">\n",
       "    <path fill=\"none\" d=\"M-0.31,-1.92 L2.99,1.53 -2.68,0.39 \" class=\"primitive\"/>\n",
       "  </g>\n",
       "  <g transform=\"translate(108.59,63.4)\">\n",
       "    <path fill=\"none\" d=\"M-1.15,-1.75 L3.52,0.79 -2.37,0.97 \" class=\"primitive\"/>\n",
       "  </g>\n",
       "  <g transform=\"translate(66.58,69.05)\">\n",
       "    <path fill=\"none\" d=\"M-0.52,-1.9 L3.15,1.36 -2.63,0.53 \" class=\"primitive\"/>\n",
       "  </g>\n",
       "  <g transform=\"translate(108.53,63.56)\">\n",
       "    <path fill=\"none\" d=\"M-1.27,-1.71 L3.57,0.66 -2.3,1.05 \" class=\"primitive\"/>\n",
       "  </g>\n",
       "  <g transform=\"translate(68.81,67.69)\">\n",
       "    <path fill=\"none\" d=\"M1.13,-1.76 L1.45,2.4 -2.58,-0.64 \" class=\"primitive\"/>\n",
       "  </g>\n",
       "  <g transform=\"translate(102.9,64.1)\">\n",
       "    <path fill=\"none\" d=\"M0.28,-1.92 L2.45,1.95 -2.73,-0.03 \" class=\"primitive\"/>\n",
       "  </g>\n",
       "  <g transform=\"translate(109.77,62.03)\">\n",
       "    <path fill=\"none\" d=\"M0.1,-1.93 L2.63,1.83 -2.73,0.1 \" class=\"primitive\"/>\n",
       "  </g>\n",
       "  <g transform=\"translate(68.94,67.65)\">\n",
       "    <path fill=\"none\" d=\"M1.2,-1.74 L1.35,2.43 -2.55,-0.69 \" class=\"primitive\"/>\n",
       "  </g>\n",
       "  <g transform=\"translate(109.83,61.98)\">\n",
       "    <path fill=\"none\" d=\"M0.16,-1.93 L2.58,1.87 -2.73,0.06 \" class=\"primitive\"/>\n",
       "  </g>\n",
       "  <g transform=\"translate(69.08,67.61)\">\n",
       "    <path fill=\"none\" d=\"M1.27,-1.71 L1.25,2.46 -2.52,-0.75 \" class=\"primitive\"/>\n",
       "  </g>\n",
       "  <g transform=\"translate(109.9,61.93)\">\n",
       "    <path fill=\"none\" d=\"M0.21,-1.93 L2.52,1.91 -2.73,0.02 \" class=\"primitive\"/>\n",
       "  </g>\n",
       "  <g transform=\"translate(66.42,69.25)\">\n",
       "    <path fill=\"none\" d=\"M-0.71,-1.87 L3.27,1.21 -2.57,0.66 \" class=\"primitive\"/>\n",
       "  </g>\n",
       "  <g transform=\"translate(108.48,63.72)\">\n",
       "    <path fill=\"none\" d=\"M-1.39,-1.67 L3.61,0.54 -2.23,1.12 \" class=\"primitive\"/>\n",
       "  </g>\n",
       "  <g transform=\"translate(66.29,69.45)\">\n",
       "    <path fill=\"none\" d=\"M-0.87,-1.83 L3.38,1.06 -2.5,0.77 \" class=\"primitive\"/>\n",
       "  </g>\n",
       "  <g transform=\"translate(108.44,63.87)\">\n",
       "    <path fill=\"none\" d=\"M-1.49,-1.62 L3.64,0.43 -2.15,1.19 \" class=\"primitive\"/>\n",
       "  </g>\n",
       "  <g transform=\"translate(66.18,69.63)\">\n",
       "    <path fill=\"none\" d=\"M-1.02,-1.79 L3.46,0.92 -2.44,0.87 \" class=\"primitive\"/>\n",
       "  </g>\n",
       "  <g transform=\"translate(108.41,64.01)\">\n",
       "    <path fill=\"none\" d=\"M-1.59,-1.57 L3.66,0.32 -2.08,1.25 \" class=\"primitive\"/>\n",
       "  </g>\n",
       "  <g transform=\"translate(66.1,69.8)\">\n",
       "    <path fill=\"none\" d=\"M-1.15,-1.75 L3.52,0.79 -2.37,0.97 \" class=\"primitive\"/>\n",
       "  </g>\n",
       "  <g transform=\"translate(108.39,64.15)\">\n",
       "    <path fill=\"none\" d=\"M-1.68,-1.53 L3.68,0.21 -2,1.31 \" class=\"primitive\"/>\n",
       "  </g>\n",
       "  <g transform=\"translate(66.03,69.96)\">\n",
       "    <path fill=\"none\" d=\"M-1.27,-1.71 L3.57,0.66 -2.3,1.05 \" class=\"primitive\"/>\n",
       "  </g>\n",
       "  <g transform=\"translate(101.29,66.38)\">\n",
       "    <path fill=\"none\" d=\"M-1.68,-1.53 L3.68,0.21 -2,1.31 \" class=\"primitive\"/>\n",
       "  </g>\n",
       "  <g transform=\"translate(108.37,64.29)\">\n",
       "    <path fill=\"none\" d=\"M-1.76,-1.48 L3.69,0.11 -1.93,1.37 \" class=\"primitive\"/>\n",
       "  </g>\n",
       "  <g transform=\"translate(65.98,70.12)\">\n",
       "    <path fill=\"none\" d=\"M-1.39,-1.67 L3.61,0.54 -2.23,1.12 \" class=\"primitive\"/>\n",
       "  </g>\n",
       "  <g transform=\"translate(108.37,64.43)\">\n",
       "    <path fill=\"none\" d=\"M-1.85,-1.43 L3.69,0 -1.85,1.43 \" class=\"primitive\"/>\n",
       "  </g>\n",
       "  <g transform=\"translate(65.94,70.27)\">\n",
       "    <path fill=\"none\" d=\"M-1.49,-1.62 L3.64,0.43 -2.15,1.19 \" class=\"primitive\"/>\n",
       "  </g>\n",
       "  <g transform=\"translate(108.37,64.57)\">\n",
       "    <path fill=\"none\" d=\"M-1.93,-1.37 L3.69,-0.11 -1.76,1.48 \" class=\"primitive\"/>\n",
       "  </g>\n",
       "  <g transform=\"translate(69.22,67.58)\">\n",
       "    <path fill=\"none\" d=\"M1.35,-1.68 L1.14,2.48 -2.49,-0.8 \" class=\"primitive\"/>\n",
       "  </g>\n",
       "  <g transform=\"translate(103.14,63.95)\">\n",
       "    <path fill=\"none\" d=\"M0.46,-1.91 L2.27,2.06 -2.72,-0.16 \" class=\"primitive\"/>\n",
       "  </g>\n",
       "  <g transform=\"translate(109.98,61.89)\">\n",
       "    <path fill=\"none\" d=\"M0.27,-1.92 L2.47,1.94 -2.73,-0.02 \" class=\"primitive\"/>\n",
       "  </g>\n",
       "  <g transform=\"translate(69.36,67.55)\">\n",
       "    <path fill=\"none\" d=\"M1.42,-1.65 L1.03,2.51 -2.45,-0.86 \" class=\"primitive\"/>\n",
       "  </g>\n",
       "  <g transform=\"translate(103.23,63.91)\">\n",
       "    <path fill=\"none\" d=\"M0.52,-1.9 L2.2,2.1 -2.72,-0.2 \" class=\"primitive\"/>\n",
       "  </g>\n",
       "  <g transform=\"translate(110.05,61.84)\">\n",
       "    <path fill=\"none\" d=\"M0.33,-1.92 L2.41,1.98 -2.73,-0.06 \" class=\"primitive\"/>\n",
       "  </g>\n",
       "  <g transform=\"translate(103.32,63.86)\">\n",
       "    <path fill=\"none\" d=\"M0.59,-1.89 L2.12,2.13 -2.71,-0.25 \" class=\"primitive\"/>\n",
       "  </g>\n",
       "  <g transform=\"translate(69.66,67.49)\">\n",
       "    <path fill=\"none\" d=\"M1.57,-1.58 L0.8,2.55 -2.37,-0.96 \" class=\"primitive\"/>\n",
       "  </g>\n",
       "  <g transform=\"translate(103.42,63.81)\">\n",
       "    <path fill=\"none\" d=\"M0.65,-1.88 L2.05,2.17 -2.7,-0.29 \" class=\"primitive\"/>\n",
       "  </g>\n",
       "  <g transform=\"translate(110.22,61.74)\">\n",
       "    <path fill=\"none\" d=\"M0.45,-1.91 L2.28,2.05 -2.72,-0.15 \" class=\"primitive\"/>\n",
       "  </g>\n",
       "  <g transform=\"translate(69.82,67.47)\">\n",
       "    <path fill=\"none\" d=\"M1.64,-1.55 L0.68,2.57 -2.32,-1.02 \" class=\"primitive\"/>\n",
       "  </g>\n",
       "  <g transform=\"translate(110.32,61.69)\">\n",
       "    <path fill=\"none\" d=\"M0.51,-1.9 L2.21,2.09 -2.72,-0.2 \" class=\"primitive\"/>\n",
       "  </g>\n",
       "  <g transform=\"translate(69.97,67.45)\">\n",
       "    <path fill=\"none\" d=\"M1.71,-1.51 L0.56,2.58 -2.27,-1.07 \" class=\"primitive\"/>\n",
       "  </g>\n",
       "  <g transform=\"translate(103.64,63.71)\">\n",
       "    <path fill=\"none\" d=\"M0.79,-1.85 L1.89,2.24 -2.68,-0.39 \" class=\"primitive\"/>\n",
       "  </g>\n",
       "  <g transform=\"translate(110.41,61.64)\">\n",
       "    <path fill=\"none\" d=\"M0.58,-1.89 L2.13,2.13 -2.71,-0.24 \" class=\"primitive\"/>\n",
       "  </g>\n",
       "  <g transform=\"translate(70.14,67.44)\">\n",
       "    <path fill=\"none\" d=\"M1.78,-1.47 L0.44,2.59 -2.22,-1.13 \" class=\"primitive\"/>\n",
       "  </g>\n",
       "  <g transform=\"translate(110.52,61.59)\">\n",
       "    <path fill=\"none\" d=\"M0.65,-1.88 L2.05,2.17 -2.7,-0.29 \" class=\"primitive\"/>\n",
       "  </g>\n",
       "  <g transform=\"translate(70.3,67.42)\">\n",
       "    <path fill=\"none\" d=\"M1.85,-1.42 L0.31,2.6 -2.17,-1.18 \" class=\"primitive\"/>\n",
       "  </g>\n",
       "  <g transform=\"translate(110.63,61.54)\">\n",
       "    <path fill=\"none\" d=\"M0.72,-1.86 L1.97,2.21 -2.69,-0.34 \" class=\"primitive\"/>\n",
       "  </g>\n",
       "  <g transform=\"translate(70.46,67.42)\">\n",
       "    <path fill=\"none\" d=\"M1.92,-1.38 L0.19,2.61 -2.11,-1.23 \" class=\"primitive\"/>\n",
       "  </g>\n",
       "  <g transform=\"translate(104,63.58)\">\n",
       "    <path fill=\"none\" d=\"M1.01,-1.8 L1.61,2.35 -2.62,-0.55 \" class=\"primitive\"/>\n",
       "  </g>\n",
       "  <g transform=\"translate(110.74,61.49)\">\n",
       "    <path fill=\"none\" d=\"M0.79,-1.85 L1.88,2.25 -2.67,-0.4 \" class=\"primitive\"/>\n",
       "  </g>\n",
       "  <g transform=\"translate(110.86,61.44)\">\n",
       "    <path fill=\"none\" d=\"M0.87,-1.83 L1.79,2.28 -2.66,-0.45 \" class=\"primitive\"/>\n",
       "  </g>\n",
       "  <g transform=\"translate(70.79,67.41)\">\n",
       "    <path fill=\"none\" d=\"M2.05,-1.28 L-0.06,2.61 -1.98,-1.33 \" class=\"primitive\"/>\n",
       "  </g>\n",
       "  <g transform=\"translate(104.27,63.49)\">\n",
       "    <path fill=\"none\" d=\"M1.16,-1.75 L1.4,2.41 -2.57,-0.67 \" class=\"primitive\"/>\n",
       "  </g>\n",
       "  <g transform=\"translate(110.99,61.39)\">\n",
       "    <path fill=\"none\" d=\"M0.94,-1.81 L1.69,2.32 -2.64,-0.51 \" class=\"primitive\"/>\n",
       "  </g>\n",
       "  <g transform=\"translate(70.96,67.42)\">\n",
       "    <path fill=\"none\" d=\"M2.11,-1.23 L-0.19,2.61 -1.92,-1.38 \" class=\"primitive\"/>\n",
       "  </g>\n",
       "  <g transform=\"translate(111.12,61.35)\">\n",
       "    <path fill=\"none\" d=\"M1.02,-1.79 L1.59,2.35 -2.61,-0.56 \" class=\"primitive\"/>\n",
       "  </g>\n",
       "  <g transform=\"translate(71.12,67.42)\">\n",
       "    <path fill=\"none\" d=\"M2.17,-1.18 L-0.31,2.6 -1.85,-1.42 \" class=\"primitive\"/>\n",
       "  </g>\n",
       "  <g transform=\"translate(104.56,63.41)\">\n",
       "    <path fill=\"none\" d=\"M1.32,-1.69 L1.18,2.47 -2.5,-0.78 \" class=\"primitive\"/>\n",
       "  </g>\n",
       "  <g transform=\"translate(111.26,61.3)\">\n",
       "    <path fill=\"none\" d=\"M1.1,-1.77 L1.49,2.39 -2.59,-0.62 \" class=\"primitive\"/>\n",
       "  </g>\n",
       "  <g transform=\"translate(71.29,67.44)\">\n",
       "    <path fill=\"none\" d=\"M2.22,-1.13 L-0.44,2.59 -1.78,-1.47 \" class=\"primitive\"/>\n",
       "  </g>\n",
       "  <g transform=\"translate(111.4,61.26)\">\n",
       "    <path fill=\"none\" d=\"M1.18,-1.74 L1.38,2.42 -2.56,-0.68 \" class=\"primitive\"/>\n",
       "  </g>\n",
       "  <g transform=\"translate(71.45,67.45)\">\n",
       "    <path fill=\"none\" d=\"M2.27,-1.07 L-0.56,2.58 -1.71,-1.51 \" class=\"primitive\"/>\n",
       "  </g>\n",
       "  <g transform=\"translate(111.55,61.22)\">\n",
       "    <path fill=\"none\" d=\"M1.26,-1.71 L1.26,2.45 -2.53,-0.74 \" class=\"primitive\"/>\n",
       "  </g>\n",
       "  <g transform=\"translate(71.6,67.47)\">\n",
       "    <path fill=\"none\" d=\"M2.32,-1.02 L-0.68,2.57 -1.64,-1.55 \" class=\"primitive\"/>\n",
       "  </g>\n",
       "  <g transform=\"translate(105.04,63.32)\">\n",
       "    <path fill=\"none\" d=\"M1.56,-1.59 L0.82,2.55 -2.37,-0.96 \" class=\"primitive\"/>\n",
       "  </g>\n",
       "  <g transform=\"translate(65.91,70.41)\">\n",
       "    <path fill=\"none\" d=\"M-1.59,-1.57 L3.66,0.32 -2.08,1.25 \" class=\"primitive\"/>\n",
       "  </g>\n",
       "  <g transform=\"translate(108.39,64.71)\">\n",
       "    <path fill=\"none\" d=\"M-2,-1.31 L3.68,-0.21 -1.68,1.53 \" class=\"primitive\"/>\n",
       "  </g>\n",
       "  <g transform=\"translate(111.87,61.14)\">\n",
       "    <path fill=\"none\" d=\"M1.43,-1.65 L1.02,2.51 -2.45,-0.86 \" class=\"primitive\"/>\n",
       "  </g>\n",
       "  <g transform=\"translate(71.91,67.52)\">\n",
       "    <path fill=\"none\" d=\"M2.41,-0.91 L-0.92,2.53 -1.49,-1.62 \" class=\"primitive\"/>\n",
       "  </g>\n",
       "  <g transform=\"translate(112.03,61.11)\">\n",
       "    <path fill=\"none\" d=\"M1.51,-1.61 L0.9,2.53 -2.4,-0.92 \" class=\"primitive\"/>\n",
       "  </g>\n",
       "  <g transform=\"translate(65.89,70.56)\">\n",
       "    <path fill=\"none\" d=\"M-1.68,-1.53 L3.68,0.21 -2,1.31 \" class=\"primitive\"/>\n",
       "  </g>\n",
       "  <g transform=\"translate(108.41,64.85)\">\n",
       "    <path fill=\"none\" d=\"M-2.08,-1.25 L3.66,-0.32 -1.59,1.57 \" class=\"primitive\"/>\n",
       "  </g>\n",
       "  <g transform=\"translate(72.06,67.55)\">\n",
       "    <path fill=\"none\" d=\"M2.45,-0.86 L-1.03,2.51 -1.42,-1.65 \" class=\"primitive\"/>\n",
       "  </g>\n",
       "  <g transform=\"translate(72.21,67.58)\">\n",
       "    <path fill=\"none\" d=\"M2.49,-0.8 L-1.14,2.48 -1.35,-1.68 \" class=\"primitive\"/>\n",
       "  </g>\n",
       "  <g transform=\"translate(112.38,61.06)\">\n",
       "    <path fill=\"none\" d=\"M1.67,-1.53 L0.63,2.57 -2.3,-1.04 \" class=\"primitive\"/>\n",
       "  </g>\n",
       "  <g transform=\"translate(127.53,46.07)\">\n",
       "    <path fill=\"none\" d=\"M1.04,-1.79 L1.57,2.36 -2.61,-0.57 \" class=\"primitive\"/>\n",
       "  </g>\n",
       "  <g transform=\"translate(72.48,67.65)\">\n",
       "    <path fill=\"none\" d=\"M2.55,-0.69 L-1.35,2.43 -1.2,-1.74 \" class=\"primitive\"/>\n",
       "  </g>\n",
       "  <g transform=\"translate(112.74,61.03)\">\n",
       "    <path fill=\"none\" d=\"M1.83,-1.44 L0.36,2.6 -2.19,-1.16 \" class=\"primitive\"/>\n",
       "  </g>\n",
       "  <g transform=\"translate(72.61,67.69)\">\n",
       "    <path fill=\"none\" d=\"M2.58,-0.64 L-1.45,2.4 -1.13,-1.76 \" class=\"primitive\"/>\n",
       "  </g>\n",
       "  <g transform=\"translate(112.92,61.02)\">\n",
       "    <path fill=\"none\" d=\"M1.9,-1.39 L0.22,2.61 -2.12,-1.22 \" class=\"primitive\"/>\n",
       "  </g>\n",
       "  <g transform=\"translate(72.74,67.73)\">\n",
       "    <path fill=\"none\" d=\"M2.6,-0.59 L-1.55,2.37 -1.06,-1.78 \" class=\"primitive\"/>\n",
       "  </g>\n",
       "  <g transform=\"translate(72.86,67.77)\">\n",
       "    <path fill=\"none\" d=\"M2.63,-0.54 L-1.64,2.34 -0.99,-1.8 \" class=\"primitive\"/>\n",
       "  </g>\n",
       "  <g transform=\"translate(106.6,63.25)\">\n",
       "    <path fill=\"none\" d=\"M2.19,-1.15 L-0.37,2.6 -1.82,-1.44 \" class=\"primitive\"/>\n",
       "  </g>\n",
       "  <g transform=\"translate(72.98,67.81)\">\n",
       "    <path fill=\"none\" d=\"M2.65,-0.49 L-1.73,2.31 -0.92,-1.82 \" class=\"primitive\"/>\n",
       "  </g>\n",
       "  <g transform=\"translate(113.66,61.03)\">\n",
       "    <path fill=\"none\" d=\"M2.18,-1.17 L-0.34,2.6 -1.84,-1.43 \" class=\"primitive\"/>\n",
       "  </g>\n",
       "  <g transform=\"translate(113.84,61.04)\">\n",
       "    <path fill=\"none\" d=\"M2.24,-1.11 L-0.48,2.59 -1.76,-1.48 \" class=\"primitive\"/>\n",
       "  </g>\n",
       "  <g transform=\"translate(65.88,70.7)\">\n",
       "    <path fill=\"none\" d=\"M-1.76,-1.48 L3.69,0.11 -1.93,1.37 \" class=\"primitive\"/>\n",
       "  </g>\n",
       "  <g transform=\"translate(108.44,65)\">\n",
       "    <path fill=\"none\" d=\"M-2.15,-1.19 L3.64,-0.43 -1.49,1.62 \" class=\"primitive\"/>\n",
       "  </g>\n",
       "  <g transform=\"translate(73.3,67.94)\">\n",
       "    <path fill=\"none\" d=\"M2.69,-0.34 L-1.97,2.21 -0.72,-1.86 \" class=\"primitive\"/>\n",
       "  </g>\n",
       "  <g transform=\"translate(107.28,63.33)\">\n",
       "    <path fill=\"none\" d=\"M2.4,-0.92 L-0.89,2.53 -1.51,-1.61 \" class=\"primitive\"/>\n",
       "  </g>\n",
       "  <g transform=\"translate(114.01,61.06)\">\n",
       "    <path fill=\"none\" d=\"M2.29,-1.05 L-0.62,2.57 -1.68,-1.52 \" class=\"primitive\"/>\n",
       "  </g>\n",
       "  <g transform=\"translate(107.44,63.37)\">\n",
       "    <path fill=\"none\" d=\"M2.44,-0.86 L-1.01,2.51 -1.43,-1.65 \" class=\"primitive\"/>\n",
       "  </g>\n",
       "</g>\n",
       "<g font-size=\"4\" stroke=\"#000000\" stroke-opacity=\"0.000\" fill=\"#000000\" id=\"img-8fedf5f7-3\">\n",
       "</g>\n",
       "<g stroke-width=\"0\" stroke=\"#000000\" stroke-opacity=\"0.000\" fill=\"#40E0D0\" id=\"img-8fedf5f7-4\">\n",
       "  <g transform=\"translate(70.71,70.83)\">\n",
       "    <circle cx=\"0\" cy=\"0\" r=\"1.1\" class=\"primitive\"/>\n",
       "  </g>\n",
       "  <g transform=\"translate(80.16,70.56)\">\n",
       "    <circle cx=\"0\" cy=\"0\" r=\"1.1\" class=\"primitive\"/>\n",
       "  </g>\n",
       "  <g transform=\"translate(89.37,69.76)\">\n",
       "    <circle cx=\"0\" cy=\"0\" r=\"1.1\" class=\"primitive\"/>\n",
       "  </g>\n",
       "  <g transform=\"translate(98.09,68.45)\">\n",
       "    <circle cx=\"0\" cy=\"0\" r=\"1.1\" class=\"primitive\"/>\n",
       "  </g>\n",
       "  <g transform=\"translate(11.79,91.67)\">\n",
       "    <circle cx=\"0\" cy=\"0\" r=\"1.1\" class=\"primitive\"/>\n",
       "  </g>\n",
       "  <g transform=\"translate(106.11,66.66)\">\n",
       "    <circle cx=\"0\" cy=\"0\" r=\"1.1\" class=\"primitive\"/>\n",
       "  </g>\n",
       "  <g transform=\"translate(113.21,64.43)\">\n",
       "    <circle cx=\"0\" cy=\"0\" r=\"1.1\" class=\"primitive\"/>\n",
       "  </g>\n",
       "  <g transform=\"translate(119.21,61.83)\">\n",
       "    <circle cx=\"0\" cy=\"0\" r=\"1.1\" class=\"primitive\"/>\n",
       "  </g>\n",
       "  <g transform=\"translate(123.95,58.93)\">\n",
       "    <circle cx=\"0\" cy=\"0\" r=\"1.1\" class=\"primitive\"/>\n",
       "  </g>\n",
       "  <g transform=\"translate(127.31,55.8)\">\n",
       "    <circle cx=\"0\" cy=\"0\" r=\"1.1\" class=\"primitive\"/>\n",
       "  </g>\n",
       "  <g transform=\"translate(129.21,52.51)\">\n",
       "    <circle cx=\"0\" cy=\"0\" r=\"1.1\" class=\"primitive\"/>\n",
       "  </g>\n",
       "  <g transform=\"translate(129.59,49.16)\">\n",
       "    <circle cx=\"0\" cy=\"0\" r=\"1.1\" class=\"primitive\"/>\n",
       "  </g>\n",
       "  <g transform=\"translate(128.45,45.83)\">\n",
       "    <circle cx=\"0\" cy=\"0\" r=\"1.1\" class=\"primitive\"/>\n",
       "  </g>\n",
       "  <g transform=\"translate(13.17,91.67)\">\n",
       "    <circle cx=\"0\" cy=\"0\" r=\"1.1\" class=\"primitive\"/>\n",
       "  </g>\n",
       "  <g transform=\"translate(125.81,42.61)\">\n",
       "    <circle cx=\"0\" cy=\"0\" r=\"1.1\" class=\"primitive\"/>\n",
       "  </g>\n",
       "  <g transform=\"translate(121.74,39.58)\">\n",
       "    <circle cx=\"0\" cy=\"0\" r=\"1.1\" class=\"primitive\"/>\n",
       "  </g>\n",
       "  <g transform=\"translate(116.35,36.82)\">\n",
       "    <circle cx=\"0\" cy=\"0\" r=\"1.1\" class=\"primitive\"/>\n",
       "  </g>\n",
       "  <g transform=\"translate(109.79,34.41)\">\n",
       "    <circle cx=\"0\" cy=\"0\" r=\"1.1\" class=\"primitive\"/>\n",
       "  </g>\n",
       "  <g transform=\"translate(11.79,8.33)\">\n",
       "    <circle cx=\"0\" cy=\"0\" r=\"1.1\" class=\"primitive\"/>\n",
       "  </g>\n",
       "  <g transform=\"translate(102.2,32.39)\">\n",
       "    <circle cx=\"0\" cy=\"0\" r=\"1.1\" class=\"primitive\"/>\n",
       "  </g>\n",
       "  <g transform=\"translate(93.81,30.83)\">\n",
       "    <circle cx=\"0\" cy=\"0\" r=\"1.1\" class=\"primitive\"/>\n",
       "  </g>\n",
       "  <g transform=\"translate(14.81,8.33)\">\n",
       "    <circle cx=\"0\" cy=\"0\" r=\"1.1\" class=\"primitive\"/>\n",
       "  </g>\n",
       "  <g transform=\"translate(17.83,8.33)\">\n",
       "    <circle cx=\"0\" cy=\"0\" r=\"1.1\" class=\"primitive\"/>\n",
       "  </g>\n",
       "  <g transform=\"translate(20.85,8.33)\">\n",
       "    <circle cx=\"0\" cy=\"0\" r=\"1.1\" class=\"primitive\"/>\n",
       "  </g>\n",
       "  <g transform=\"translate(84.81,29.77)\">\n",
       "    <circle cx=\"0\" cy=\"0\" r=\"1.1\" class=\"primitive\"/>\n",
       "  </g>\n",
       "  <g transform=\"translate(75.45,29.23)\">\n",
       "    <circle cx=\"0\" cy=\"0\" r=\"1.1\" class=\"primitive\"/>\n",
       "  </g>\n",
       "  <g transform=\"translate(65.97,29.23)\">\n",
       "    <circle cx=\"0\" cy=\"0\" r=\"1.1\" class=\"primitive\"/>\n",
       "  </g>\n",
       "  <g transform=\"translate(23.87,8.33)\">\n",
       "    <circle cx=\"0\" cy=\"0\" r=\"1.1\" class=\"primitive\"/>\n",
       "  </g>\n",
       "  <g transform=\"translate(14.56,91.67)\">\n",
       "    <circle cx=\"0\" cy=\"0\" r=\"1.1\" class=\"primitive\"/>\n",
       "  </g>\n",
       "  <g transform=\"translate(56.61,29.77)\">\n",
       "    <circle cx=\"0\" cy=\"0\" r=\"1.1\" class=\"primitive\"/>\n",
       "  </g>\n",
       "  <g transform=\"translate(47.61,30.83)\">\n",
       "    <circle cx=\"0\" cy=\"0\" r=\"1.1\" class=\"primitive\"/>\n",
       "  </g>\n",
       "  <g transform=\"translate(26.89,8.33)\">\n",
       "    <circle cx=\"0\" cy=\"0\" r=\"1.1\" class=\"primitive\"/>\n",
       "  </g>\n",
       "  <g transform=\"translate(39.22,32.39)\">\n",
       "    <circle cx=\"0\" cy=\"0\" r=\"1.1\" class=\"primitive\"/>\n",
       "  </g>\n",
       "  <g transform=\"translate(31.64,34.41)\">\n",
       "    <circle cx=\"0\" cy=\"0\" r=\"1.1\" class=\"primitive\"/>\n",
       "  </g>\n",
       "  <g transform=\"translate(29.92,8.33)\">\n",
       "    <circle cx=\"0\" cy=\"0\" r=\"1.1\" class=\"primitive\"/>\n",
       "  </g>\n",
       "  <g transform=\"translate(15.94,91.67)\">\n",
       "    <circle cx=\"0\" cy=\"0\" r=\"1.1\" class=\"primitive\"/>\n",
       "  </g>\n",
       "  <g transform=\"translate(25.07,36.82)\">\n",
       "    <circle cx=\"0\" cy=\"0\" r=\"1.1\" class=\"primitive\"/>\n",
       "  </g>\n",
       "  <g transform=\"translate(19.68,39.58)\">\n",
       "    <circle cx=\"0\" cy=\"0\" r=\"1.1\" class=\"primitive\"/>\n",
       "  </g>\n",
       "  <g transform=\"translate(15.61,42.61)\">\n",
       "    <circle cx=\"0\" cy=\"0\" r=\"1.1\" class=\"primitive\"/>\n",
       "  </g>\n",
       "  <g transform=\"translate(12.98,45.83)\">\n",
       "    <circle cx=\"0\" cy=\"0\" r=\"1.1\" class=\"primitive\"/>\n",
       "  </g>\n",
       "  <g transform=\"translate(32.94,8.33)\">\n",
       "    <circle cx=\"0\" cy=\"0\" r=\"1.1\" class=\"primitive\"/>\n",
       "  </g>\n",
       "  <g transform=\"translate(17.33,91.67)\">\n",
       "    <circle cx=\"0\" cy=\"0\" r=\"1.1\" class=\"primitive\"/>\n",
       "  </g>\n",
       "  <g transform=\"translate(35.96,8.33)\">\n",
       "    <circle cx=\"0\" cy=\"0\" r=\"1.1\" class=\"primitive\"/>\n",
       "  </g>\n",
       "  <g transform=\"translate(38.98,8.33)\">\n",
       "    <circle cx=\"0\" cy=\"0\" r=\"1.1\" class=\"primitive\"/>\n",
       "  </g>\n",
       "  <g transform=\"translate(11.83,49.16)\">\n",
       "    <circle cx=\"0\" cy=\"0\" r=\"1.1\" class=\"primitive\"/>\n",
       "  </g>\n",
       "  <g transform=\"translate(12.21,52.51)\">\n",
       "    <circle cx=\"0\" cy=\"0\" r=\"1.1\" class=\"primitive\"/>\n",
       "  </g>\n",
       "  <g transform=\"translate(14.11,55.8)\">\n",
       "    <circle cx=\"0\" cy=\"0\" r=\"1.1\" class=\"primitive\"/>\n",
       "  </g>\n",
       "  <g transform=\"translate(17.47,58.93)\">\n",
       "    <circle cx=\"0\" cy=\"0\" r=\"1.1\" class=\"primitive\"/>\n",
       "  </g>\n",
       "  <g transform=\"translate(22.22,61.83)\">\n",
       "    <circle cx=\"0\" cy=\"0\" r=\"1.1\" class=\"primitive\"/>\n",
       "  </g>\n",
       "  <g transform=\"translate(28.21,64.43)\">\n",
       "    <circle cx=\"0\" cy=\"0\" r=\"1.1\" class=\"primitive\"/>\n",
       "  </g>\n",
       "  <g transform=\"translate(35.31,66.66)\">\n",
       "    <circle cx=\"0\" cy=\"0\" r=\"1.1\" class=\"primitive\"/>\n",
       "  </g>\n",
       "  <g transform=\"translate(42,8.33)\">\n",
       "    <circle cx=\"0\" cy=\"0\" r=\"1.1\" class=\"primitive\"/>\n",
       "  </g>\n",
       "  <g transform=\"translate(45.03,8.33)\">\n",
       "    <circle cx=\"0\" cy=\"0\" r=\"1.1\" class=\"primitive\"/>\n",
       "  </g>\n",
       "  <g transform=\"translate(48.05,8.33)\">\n",
       "    <circle cx=\"0\" cy=\"0\" r=\"1.1\" class=\"primitive\"/>\n",
       "  </g>\n",
       "  <g transform=\"translate(18.72,91.67)\">\n",
       "    <circle cx=\"0\" cy=\"0\" r=\"1.1\" class=\"primitive\"/>\n",
       "  </g>\n",
       "  <g transform=\"translate(51.07,8.33)\">\n",
       "    <circle cx=\"0\" cy=\"0\" r=\"1.1\" class=\"primitive\"/>\n",
       "  </g>\n",
       "  <g transform=\"translate(54.09,8.33)\">\n",
       "    <circle cx=\"0\" cy=\"0\" r=\"1.1\" class=\"primitive\"/>\n",
       "  </g>\n",
       "  <g transform=\"translate(57.11,8.33)\">\n",
       "    <circle cx=\"0\" cy=\"0\" r=\"1.1\" class=\"primitive\"/>\n",
       "  </g>\n",
       "  <g transform=\"translate(60.13,8.33)\">\n",
       "    <circle cx=\"0\" cy=\"0\" r=\"1.1\" class=\"primitive\"/>\n",
       "  </g>\n",
       "  <g transform=\"translate(63.16,8.33)\">\n",
       "    <circle cx=\"0\" cy=\"0\" r=\"1.1\" class=\"primitive\"/>\n",
       "  </g>\n",
       "  <g transform=\"translate(66.18,8.33)\">\n",
       "    <circle cx=\"0\" cy=\"0\" r=\"1.1\" class=\"primitive\"/>\n",
       "  </g>\n",
       "  <g transform=\"translate(69.2,8.33)\">\n",
       "    <circle cx=\"0\" cy=\"0\" r=\"1.1\" class=\"primitive\"/>\n",
       "  </g>\n",
       "  <g transform=\"translate(72.22,8.33)\">\n",
       "    <circle cx=\"0\" cy=\"0\" r=\"1.1\" class=\"primitive\"/>\n",
       "  </g>\n",
       "  <g transform=\"translate(20.1,91.67)\">\n",
       "    <circle cx=\"0\" cy=\"0\" r=\"1.1\" class=\"primitive\"/>\n",
       "  </g>\n",
       "  <g transform=\"translate(21.49,91.67)\">\n",
       "    <circle cx=\"0\" cy=\"0\" r=\"1.1\" class=\"primitive\"/>\n",
       "  </g>\n",
       "  <g transform=\"translate(75.24,8.33)\">\n",
       "    <circle cx=\"0\" cy=\"0\" r=\"1.1\" class=\"primitive\"/>\n",
       "  </g>\n",
       "  <g transform=\"translate(78.27,8.33)\">\n",
       "    <circle cx=\"0\" cy=\"0\" r=\"1.1\" class=\"primitive\"/>\n",
       "  </g>\n",
       "  <g transform=\"translate(22.88,91.67)\">\n",
       "    <circle cx=\"0\" cy=\"0\" r=\"1.1\" class=\"primitive\"/>\n",
       "  </g>\n",
       "  <g transform=\"translate(81.29,8.33)\">\n",
       "    <circle cx=\"0\" cy=\"0\" r=\"1.1\" class=\"primitive\"/>\n",
       "  </g>\n",
       "  <g transform=\"translate(84.31,8.33)\">\n",
       "    <circle cx=\"0\" cy=\"0\" r=\"1.1\" class=\"primitive\"/>\n",
       "  </g>\n",
       "  <g transform=\"translate(87.33,8.33)\">\n",
       "    <circle cx=\"0\" cy=\"0\" r=\"1.1\" class=\"primitive\"/>\n",
       "  </g>\n",
       "  <g transform=\"translate(43.33,68.45)\">\n",
       "    <circle cx=\"0\" cy=\"0\" r=\"1.1\" class=\"primitive\"/>\n",
       "  </g>\n",
       "  <g transform=\"translate(90.35,8.33)\">\n",
       "    <circle cx=\"0\" cy=\"0\" r=\"1.1\" class=\"primitive\"/>\n",
       "  </g>\n",
       "  <g transform=\"translate(24.26,91.67)\">\n",
       "    <circle cx=\"0\" cy=\"0\" r=\"1.1\" class=\"primitive\"/>\n",
       "  </g>\n",
       "  <g transform=\"translate(93.37,8.33)\">\n",
       "    <circle cx=\"0\" cy=\"0\" r=\"1.1\" class=\"primitive\"/>\n",
       "  </g>\n",
       "  <g transform=\"translate(52.05,69.76)\">\n",
       "    <circle cx=\"0\" cy=\"0\" r=\"1.1\" class=\"primitive\"/>\n",
       "  </g>\n",
       "  <g transform=\"translate(96.4,8.33)\">\n",
       "    <circle cx=\"0\" cy=\"0\" r=\"1.1\" class=\"primitive\"/>\n",
       "  </g>\n",
       "  <g transform=\"translate(25.65,91.67)\">\n",
       "    <circle cx=\"0\" cy=\"0\" r=\"1.1\" class=\"primitive\"/>\n",
       "  </g>\n",
       "  <g transform=\"translate(99.42,8.33)\">\n",
       "    <circle cx=\"0\" cy=\"0\" r=\"1.1\" class=\"primitive\"/>\n",
       "  </g>\n",
       "  <g transform=\"translate(27.04,91.67)\">\n",
       "    <circle cx=\"0\" cy=\"0\" r=\"1.1\" class=\"primitive\"/>\n",
       "  </g>\n",
       "  <g transform=\"translate(102.44,8.33)\">\n",
       "    <circle cx=\"0\" cy=\"0\" r=\"1.1\" class=\"primitive\"/>\n",
       "  </g>\n",
       "  <g transform=\"translate(28.42,91.67)\">\n",
       "    <circle cx=\"0\" cy=\"0\" r=\"1.1\" class=\"primitive\"/>\n",
       "  </g>\n",
       "  <g transform=\"translate(105.46,8.33)\">\n",
       "    <circle cx=\"0\" cy=\"0\" r=\"1.1\" class=\"primitive\"/>\n",
       "  </g>\n",
       "  <g transform=\"translate(29.81,91.67)\">\n",
       "    <circle cx=\"0\" cy=\"0\" r=\"1.1\" class=\"primitive\"/>\n",
       "  </g>\n",
       "  <g transform=\"translate(108.48,8.33)\">\n",
       "    <circle cx=\"0\" cy=\"0\" r=\"1.1\" class=\"primitive\"/>\n",
       "  </g>\n",
       "  <g transform=\"translate(111.51,8.33)\">\n",
       "    <circle cx=\"0\" cy=\"0\" r=\"1.1\" class=\"primitive\"/>\n",
       "  </g>\n",
       "  <g transform=\"translate(114.53,8.33)\">\n",
       "    <circle cx=\"0\" cy=\"0\" r=\"1.1\" class=\"primitive\"/>\n",
       "  </g>\n",
       "  <g transform=\"translate(31.2,91.67)\">\n",
       "    <circle cx=\"0\" cy=\"0\" r=\"1.1\" class=\"primitive\"/>\n",
       "  </g>\n",
       "  <g transform=\"translate(117.55,8.33)\">\n",
       "    <circle cx=\"0\" cy=\"0\" r=\"1.1\" class=\"primitive\"/>\n",
       "  </g>\n",
       "  <g transform=\"translate(32.58,91.67)\">\n",
       "    <circle cx=\"0\" cy=\"0\" r=\"1.1\" class=\"primitive\"/>\n",
       "  </g>\n",
       "  <g transform=\"translate(33.97,91.67)\">\n",
       "    <circle cx=\"0\" cy=\"0\" r=\"1.1\" class=\"primitive\"/>\n",
       "  </g>\n",
       "  <g transform=\"translate(35.36,91.67)\">\n",
       "    <circle cx=\"0\" cy=\"0\" r=\"1.1\" class=\"primitive\"/>\n",
       "  </g>\n",
       "  <g transform=\"translate(36.74,91.67)\">\n",
       "    <circle cx=\"0\" cy=\"0\" r=\"1.1\" class=\"primitive\"/>\n",
       "  </g>\n",
       "  <g transform=\"translate(38.13,91.67)\">\n",
       "    <circle cx=\"0\" cy=\"0\" r=\"1.1\" class=\"primitive\"/>\n",
       "  </g>\n",
       "  <g transform=\"translate(39.51,91.67)\">\n",
       "    <circle cx=\"0\" cy=\"0\" r=\"1.1\" class=\"primitive\"/>\n",
       "  </g>\n",
       "  <g transform=\"translate(40.9,91.67)\">\n",
       "    <circle cx=\"0\" cy=\"0\" r=\"1.1\" class=\"primitive\"/>\n",
       "  </g>\n",
       "  <g transform=\"translate(42.29,91.67)\">\n",
       "    <circle cx=\"0\" cy=\"0\" r=\"1.1\" class=\"primitive\"/>\n",
       "  </g>\n",
       "  <g transform=\"translate(43.67,91.67)\">\n",
       "    <circle cx=\"0\" cy=\"0\" r=\"1.1\" class=\"primitive\"/>\n",
       "  </g>\n",
       "  <g transform=\"translate(120.57,8.33)\">\n",
       "    <circle cx=\"0\" cy=\"0\" r=\"1.1\" class=\"primitive\"/>\n",
       "  </g>\n",
       "  <g transform=\"translate(123.59,8.33)\">\n",
       "    <circle cx=\"0\" cy=\"0\" r=\"1.1\" class=\"primitive\"/>\n",
       "  </g>\n",
       "  <g transform=\"translate(45.06,91.67)\">\n",
       "    <circle cx=\"0\" cy=\"0\" r=\"1.1\" class=\"primitive\"/>\n",
       "  </g>\n",
       "  <g transform=\"translate(46.45,91.67)\">\n",
       "    <circle cx=\"0\" cy=\"0\" r=\"1.1\" class=\"primitive\"/>\n",
       "  </g>\n",
       "  <g transform=\"translate(47.83,91.67)\">\n",
       "    <circle cx=\"0\" cy=\"0\" r=\"1.1\" class=\"primitive\"/>\n",
       "  </g>\n",
       "  <g transform=\"translate(49.22,91.67)\">\n",
       "    <circle cx=\"0\" cy=\"0\" r=\"1.1\" class=\"primitive\"/>\n",
       "  </g>\n",
       "  <g transform=\"translate(50.61,91.67)\">\n",
       "    <circle cx=\"0\" cy=\"0\" r=\"1.1\" class=\"primitive\"/>\n",
       "  </g>\n",
       "  <g transform=\"translate(51.99,91.67)\">\n",
       "    <circle cx=\"0\" cy=\"0\" r=\"1.1\" class=\"primitive\"/>\n",
       "  </g>\n",
       "  <g transform=\"translate(53.38,91.67)\">\n",
       "    <circle cx=\"0\" cy=\"0\" r=\"1.1\" class=\"primitive\"/>\n",
       "  </g>\n",
       "  <g transform=\"translate(54.77,91.67)\">\n",
       "    <circle cx=\"0\" cy=\"0\" r=\"1.1\" class=\"primitive\"/>\n",
       "  </g>\n",
       "  <g transform=\"translate(56.15,91.67)\">\n",
       "    <circle cx=\"0\" cy=\"0\" r=\"1.1\" class=\"primitive\"/>\n",
       "  </g>\n",
       "  <g transform=\"translate(57.54,91.67)\">\n",
       "    <circle cx=\"0\" cy=\"0\" r=\"1.1\" class=\"primitive\"/>\n",
       "  </g>\n",
       "  <g transform=\"translate(58.93,91.67)\">\n",
       "    <circle cx=\"0\" cy=\"0\" r=\"1.1\" class=\"primitive\"/>\n",
       "  </g>\n",
       "  <g transform=\"translate(60.31,91.67)\">\n",
       "    <circle cx=\"0\" cy=\"0\" r=\"1.1\" class=\"primitive\"/>\n",
       "  </g>\n",
       "  <g transform=\"translate(61.7,91.67)\">\n",
       "    <circle cx=\"0\" cy=\"0\" r=\"1.1\" class=\"primitive\"/>\n",
       "  </g>\n",
       "  <g transform=\"translate(63.09,91.67)\">\n",
       "    <circle cx=\"0\" cy=\"0\" r=\"1.1\" class=\"primitive\"/>\n",
       "  </g>\n",
       "  <g transform=\"translate(61.26,70.56)\">\n",
       "    <circle cx=\"0\" cy=\"0\" r=\"1.1\" class=\"primitive\"/>\n",
       "  </g>\n",
       "  <g transform=\"translate(64.47,91.67)\">\n",
       "    <circle cx=\"0\" cy=\"0\" r=\"1.1\" class=\"primitive\"/>\n",
       "  </g>\n",
       "  <g transform=\"translate(65.86,91.67)\">\n",
       "    <circle cx=\"0\" cy=\"0\" r=\"1.1\" class=\"primitive\"/>\n",
       "  </g>\n",
       "  <g transform=\"translate(67.24,91.67)\">\n",
       "    <circle cx=\"0\" cy=\"0\" r=\"1.1\" class=\"primitive\"/>\n",
       "  </g>\n",
       "  <g transform=\"translate(68.63,91.67)\">\n",
       "    <circle cx=\"0\" cy=\"0\" r=\"1.1\" class=\"primitive\"/>\n",
       "  </g>\n",
       "  <g transform=\"translate(70.02,91.67)\">\n",
       "    <circle cx=\"0\" cy=\"0\" r=\"1.1\" class=\"primitive\"/>\n",
       "  </g>\n",
       "  <g transform=\"translate(126.61,8.33)\">\n",
       "    <circle cx=\"0\" cy=\"0\" r=\"1.1\" class=\"primitive\"/>\n",
       "  </g>\n",
       "  <g transform=\"translate(71.4,91.67)\">\n",
       "    <circle cx=\"0\" cy=\"0\" r=\"1.1\" class=\"primitive\"/>\n",
       "  </g>\n",
       "  <g transform=\"translate(72.79,91.67)\">\n",
       "    <circle cx=\"0\" cy=\"0\" r=\"1.1\" class=\"primitive\"/>\n",
       "  </g>\n",
       "  <g transform=\"translate(74.18,91.67)\">\n",
       "    <circle cx=\"0\" cy=\"0\" r=\"1.1\" class=\"primitive\"/>\n",
       "  </g>\n",
       "  <g transform=\"translate(75.56,91.67)\">\n",
       "    <circle cx=\"0\" cy=\"0\" r=\"1.1\" class=\"primitive\"/>\n",
       "  </g>\n",
       "  <g transform=\"translate(76.95,91.67)\">\n",
       "    <circle cx=\"0\" cy=\"0\" r=\"1.1\" class=\"primitive\"/>\n",
       "  </g>\n",
       "  <g transform=\"translate(78.34,91.67)\">\n",
       "    <circle cx=\"0\" cy=\"0\" r=\"1.1\" class=\"primitive\"/>\n",
       "  </g>\n",
       "  <g transform=\"translate(79.72,91.67)\">\n",
       "    <circle cx=\"0\" cy=\"0\" r=\"1.1\" class=\"primitive\"/>\n",
       "  </g>\n",
       "  <g transform=\"translate(81.11,91.67)\">\n",
       "    <circle cx=\"0\" cy=\"0\" r=\"1.1\" class=\"primitive\"/>\n",
       "  </g>\n",
       "  <g transform=\"translate(82.5,91.67)\">\n",
       "    <circle cx=\"0\" cy=\"0\" r=\"1.1\" class=\"primitive\"/>\n",
       "  </g>\n",
       "  <g transform=\"translate(83.88,91.67)\">\n",
       "    <circle cx=\"0\" cy=\"0\" r=\"1.1\" class=\"primitive\"/>\n",
       "  </g>\n",
       "  <g transform=\"translate(85.27,91.67)\">\n",
       "    <circle cx=\"0\" cy=\"0\" r=\"1.1\" class=\"primitive\"/>\n",
       "  </g>\n",
       "  <g transform=\"translate(86.66,91.67)\">\n",
       "    <circle cx=\"0\" cy=\"0\" r=\"1.1\" class=\"primitive\"/>\n",
       "  </g>\n",
       "  <g transform=\"translate(88.04,91.67)\">\n",
       "    <circle cx=\"0\" cy=\"0\" r=\"1.1\" class=\"primitive\"/>\n",
       "  </g>\n",
       "  <g transform=\"translate(129.64,8.33)\">\n",
       "    <circle cx=\"0\" cy=\"0\" r=\"1.1\" class=\"primitive\"/>\n",
       "  </g>\n",
       "  <g transform=\"translate(89.43,91.67)\">\n",
       "    <circle cx=\"0\" cy=\"0\" r=\"1.1\" class=\"primitive\"/>\n",
       "  </g>\n",
       "  <g transform=\"translate(90.81,91.67)\">\n",
       "    <circle cx=\"0\" cy=\"0\" r=\"1.1\" class=\"primitive\"/>\n",
       "  </g>\n",
       "  <g transform=\"translate(92.2,91.67)\">\n",
       "    <circle cx=\"0\" cy=\"0\" r=\"1.1\" class=\"primitive\"/>\n",
       "  </g>\n",
       "  <g transform=\"translate(93.59,91.67)\">\n",
       "    <circle cx=\"0\" cy=\"0\" r=\"1.1\" class=\"primitive\"/>\n",
       "  </g>\n",
       "  <g transform=\"translate(94.97,91.67)\">\n",
       "    <circle cx=\"0\" cy=\"0\" r=\"1.1\" class=\"primitive\"/>\n",
       "  </g>\n",
       "  <g transform=\"translate(96.36,91.67)\">\n",
       "    <circle cx=\"0\" cy=\"0\" r=\"1.1\" class=\"primitive\"/>\n",
       "  </g>\n",
       "  <g transform=\"translate(97.75,91.67)\">\n",
       "    <circle cx=\"0\" cy=\"0\" r=\"1.1\" class=\"primitive\"/>\n",
       "  </g>\n",
       "  <g transform=\"translate(99.13,91.67)\">\n",
       "    <circle cx=\"0\" cy=\"0\" r=\"1.1\" class=\"primitive\"/>\n",
       "  </g>\n",
       "  <g transform=\"translate(100.52,91.67)\">\n",
       "    <circle cx=\"0\" cy=\"0\" r=\"1.1\" class=\"primitive\"/>\n",
       "  </g>\n",
       "  <g transform=\"translate(101.91,91.67)\">\n",
       "    <circle cx=\"0\" cy=\"0\" r=\"1.1\" class=\"primitive\"/>\n",
       "  </g>\n",
       "  <g transform=\"translate(103.29,91.67)\">\n",
       "    <circle cx=\"0\" cy=\"0\" r=\"1.1\" class=\"primitive\"/>\n",
       "  </g>\n",
       "  <g transform=\"translate(104.68,91.67)\">\n",
       "    <circle cx=\"0\" cy=\"0\" r=\"1.1\" class=\"primitive\"/>\n",
       "  </g>\n",
       "  <g transform=\"translate(106.07,91.67)\">\n",
       "    <circle cx=\"0\" cy=\"0\" r=\"1.1\" class=\"primitive\"/>\n",
       "  </g>\n",
       "  <g transform=\"translate(107.45,91.67)\">\n",
       "    <circle cx=\"0\" cy=\"0\" r=\"1.1\" class=\"primitive\"/>\n",
       "  </g>\n",
       "  <g transform=\"translate(108.84,91.67)\">\n",
       "    <circle cx=\"0\" cy=\"0\" r=\"1.1\" class=\"primitive\"/>\n",
       "  </g>\n",
       "  <g transform=\"translate(110.23,91.67)\">\n",
       "    <circle cx=\"0\" cy=\"0\" r=\"1.1\" class=\"primitive\"/>\n",
       "  </g>\n",
       "  <g transform=\"translate(111.61,91.67)\">\n",
       "    <circle cx=\"0\" cy=\"0\" r=\"1.1\" class=\"primitive\"/>\n",
       "  </g>\n",
       "  <g transform=\"translate(113,91.67)\">\n",
       "    <circle cx=\"0\" cy=\"0\" r=\"1.1\" class=\"primitive\"/>\n",
       "  </g>\n",
       "  <g transform=\"translate(114.38,91.67)\">\n",
       "    <circle cx=\"0\" cy=\"0\" r=\"1.1\" class=\"primitive\"/>\n",
       "  </g>\n",
       "  <g transform=\"translate(115.77,91.67)\">\n",
       "    <circle cx=\"0\" cy=\"0\" r=\"1.1\" class=\"primitive\"/>\n",
       "  </g>\n",
       "  <g transform=\"translate(117.16,91.67)\">\n",
       "    <circle cx=\"0\" cy=\"0\" r=\"1.1\" class=\"primitive\"/>\n",
       "  </g>\n",
       "  <g transform=\"translate(118.54,91.67)\">\n",
       "    <circle cx=\"0\" cy=\"0\" r=\"1.1\" class=\"primitive\"/>\n",
       "  </g>\n",
       "  <g transform=\"translate(119.93,91.67)\">\n",
       "    <circle cx=\"0\" cy=\"0\" r=\"1.1\" class=\"primitive\"/>\n",
       "  </g>\n",
       "  <g transform=\"translate(121.32,91.67)\">\n",
       "    <circle cx=\"0\" cy=\"0\" r=\"1.1\" class=\"primitive\"/>\n",
       "  </g>\n",
       "  <g transform=\"translate(122.7,91.67)\">\n",
       "    <circle cx=\"0\" cy=\"0\" r=\"1.1\" class=\"primitive\"/>\n",
       "  </g>\n",
       "  <g transform=\"translate(124.09,91.67)\">\n",
       "    <circle cx=\"0\" cy=\"0\" r=\"1.1\" class=\"primitive\"/>\n",
       "  </g>\n",
       "  <g transform=\"translate(125.48,91.67)\">\n",
       "    <circle cx=\"0\" cy=\"0\" r=\"1.1\" class=\"primitive\"/>\n",
       "  </g>\n",
       "  <g transform=\"translate(126.86,91.67)\">\n",
       "    <circle cx=\"0\" cy=\"0\" r=\"1.1\" class=\"primitive\"/>\n",
       "  </g>\n",
       "  <g transform=\"translate(128.25,91.67)\">\n",
       "    <circle cx=\"0\" cy=\"0\" r=\"1.1\" class=\"primitive\"/>\n",
       "  </g>\n",
       "  <g transform=\"translate(129.64,91.67)\">\n",
       "    <circle cx=\"0\" cy=\"0\" r=\"1.1\" class=\"primitive\"/>\n",
       "  </g>\n",
       "</g>\n",
       "<g font-size=\"4\" stroke=\"#000000\" stroke-opacity=\"0.000\" fill=\"#000000\" id=\"img-8fedf5f7-5\">\n",
       "  <g transform=\"translate(70.71,70.83)\">\n",
       "    <g class=\"primitive\">\n",
       "      <text text-anchor=\"middle\" dy=\"0.35em\">USA</text>\n",
       "    </g>\n",
       "  </g>\n",
       "  <g transform=\"translate(80.16,70.56)\">\n",
       "    <g class=\"primitive\">\n",
       "      <text text-anchor=\"middle\" dy=\"0.35em\">IRL</text>\n",
       "    </g>\n",
       "  </g>\n",
       "  <g transform=\"translate(89.37,69.76)\">\n",
       "    <g class=\"primitive\">\n",
       "      <text text-anchor=\"middle\" dy=\"0.35em\">MEX</text>\n",
       "    </g>\n",
       "  </g>\n",
       "  <g transform=\"translate(98.09,68.45)\">\n",
       "    <g class=\"primitive\">\n",
       "      <text text-anchor=\"middle\" dy=\"0.35em\">CHE</text>\n",
       "    </g>\n",
       "  </g>\n",
       "  <g transform=\"translate(11.79,91.67)\">\n",
       "    <g class=\"primitive\">\n",
       "      <text text-anchor=\"middle\" dy=\"0.35em\">PSE</text>\n",
       "    </g>\n",
       "  </g>\n",
       "  <g transform=\"translate(106.11,66.66)\">\n",
       "    <g class=\"primitive\">\n",
       "      <text text-anchor=\"middle\" dy=\"0.35em\">RUS</text>\n",
       "    </g>\n",
       "  </g>\n",
       "  <g transform=\"translate(113.21,64.43)\">\n",
       "    <g class=\"primitive\">\n",
       "      <text text-anchor=\"middle\" dy=\"0.35em\">GBR</text>\n",
       "    </g>\n",
       "  </g>\n",
       "  <g transform=\"translate(119.21,61.83)\">\n",
       "    <g class=\"primitive\">\n",
       "      <text text-anchor=\"middle\" dy=\"0.35em\">DEU</text>\n",
       "    </g>\n",
       "  </g>\n",
       "  <g transform=\"translate(123.95,58.93)\">\n",
       "    <g class=\"primitive\">\n",
       "      <text text-anchor=\"middle\" dy=\"0.35em\">IDN</text>\n",
       "    </g>\n",
       "  </g>\n",
       "  <g transform=\"translate(127.31,55.8)\">\n",
       "    <g class=\"primitive\">\n",
       "      <text text-anchor=\"middle\" dy=\"0.35em\">BEL</text>\n",
       "    </g>\n",
       "  </g>\n",
       "  <g transform=\"translate(129.21,52.51)\">\n",
       "    <g class=\"primitive\">\n",
       "      <text text-anchor=\"middle\" dy=\"0.35em\">ESP</text>\n",
       "    </g>\n",
       "  </g>\n",
       "  <g transform=\"translate(129.59,49.16)\">\n",
       "    <g class=\"primitive\">\n",
       "      <text text-anchor=\"middle\" dy=\"0.35em\">CAN</text>\n",
       "    </g>\n",
       "  </g>\n",
       "  <g transform=\"translate(128.45,45.83)\">\n",
       "    <g class=\"primitive\">\n",
       "      <text text-anchor=\"middle\" dy=\"0.35em\">NLD</text>\n",
       "    </g>\n",
       "  </g>\n",
       "  <g transform=\"translate(13.17,91.67)\">\n",
       "    <g class=\"primitive\">\n",
       "      <text text-anchor=\"middle\" dy=\"0.35em\">IRN</text>\n",
       "    </g>\n",
       "  </g>\n",
       "  <g transform=\"translate(125.81,42.61)\">\n",
       "    <g class=\"primitive\">\n",
       "      <text text-anchor=\"middle\" dy=\"0.35em\">NOR</text>\n",
       "    </g>\n",
       "  </g>\n",
       "  <g transform=\"translate(121.74,39.58)\">\n",
       "    <g class=\"primitive\">\n",
       "      <text text-anchor=\"middle\" dy=\"0.35em\">VNM</text>\n",
       "    </g>\n",
       "  </g>\n",
       "  <g transform=\"translate(116.35,36.82)\">\n",
       "    <g class=\"primitive\">\n",
       "      <text text-anchor=\"middle\" dy=\"0.35em\">AUS</text>\n",
       "    </g>\n",
       "  </g>\n",
       "  <g transform=\"translate(109.79,34.41)\">\n",
       "    <g class=\"primitive\">\n",
       "      <text text-anchor=\"middle\" dy=\"0.35em\">BRA</text>\n",
       "    </g>\n",
       "  </g>\n",
       "  <g transform=\"translate(11.79,8.33)\">\n",
       "    <g class=\"primitive\">\n",
       "      <text text-anchor=\"middle\" dy=\"0.35em\">DNK</text>\n",
       "    </g>\n",
       "  </g>\n",
       "  <g transform=\"translate(102.2,32.39)\">\n",
       "    <g class=\"primitive\">\n",
       "      <text text-anchor=\"middle\" dy=\"0.35em\">SWE</text>\n",
       "    </g>\n",
       "  </g>\n",
       "  <g transform=\"translate(93.81,30.83)\">\n",
       "    <g class=\"primitive\">\n",
       "      <text text-anchor=\"middle\" dy=\"0.35em\">THA</text>\n",
       "    </g>\n",
       "  </g>\n",
       "  <g transform=\"translate(14.81,8.33)\">\n",
       "    <g class=\"primitive\">\n",
       "      <text text-anchor=\"middle\" dy=\"0.35em\">SGP</text>\n",
       "    </g>\n",
       "  </g>\n",
       "  <g transform=\"translate(17.83,8.33)\">\n",
       "    <g class=\"primitive\">\n",
       "      <text text-anchor=\"middle\" dy=\"0.35em\">ARG</text>\n",
       "    </g>\n",
       "  </g>\n",
       "  <g transform=\"translate(20.85,8.33)\">\n",
       "    <g class=\"primitive\">\n",
       "      <text text-anchor=\"middle\" dy=\"0.35em\">AZE</text>\n",
       "    </g>\n",
       "  </g>\n",
       "  <g transform=\"translate(84.81,29.77)\">\n",
       "    <g class=\"primitive\">\n",
       "      <text text-anchor=\"middle\" dy=\"0.35em\">NZL</text>\n",
       "    </g>\n",
       "  </g>\n",
       "  <g transform=\"translate(75.45,29.23)\">\n",
       "    <g class=\"primitive\">\n",
       "      <text text-anchor=\"middle\" dy=\"0.35em\">PHL</text>\n",
       "    </g>\n",
       "  </g>\n",
       "  <g transform=\"translate(65.97,29.23)\">\n",
       "    <g class=\"primitive\">\n",
       "      <text text-anchor=\"middle\" dy=\"0.35em\">NGA</text>\n",
       "    </g>\n",
       "  </g>\n",
       "  <g transform=\"translate(23.87,8.33)\">\n",
       "    <g class=\"primitive\">\n",
       "      <text text-anchor=\"middle\" dy=\"0.35em\">EGY</text>\n",
       "    </g>\n",
       "  </g>\n",
       "  <g transform=\"translate(14.56,91.67)\">\n",
       "    <g class=\"primitive\">\n",
       "      <text text-anchor=\"middle\" dy=\"0.35em\">CYN</text>\n",
       "    </g>\n",
       "  </g>\n",
       "  <g transform=\"translate(56.61,29.77)\">\n",
       "    <g class=\"primitive\">\n",
       "      <text text-anchor=\"middle\" dy=\"0.35em\">JPN</text>\n",
       "    </g>\n",
       "  </g>\n",
       "  <g transform=\"translate(47.61,30.83)\">\n",
       "    <g class=\"primitive\">\n",
       "      <text text-anchor=\"middle\" dy=\"0.35em\">ITA</text>\n",
       "    </g>\n",
       "  </g>\n",
       "  <g transform=\"translate(26.89,8.33)\">\n",
       "    <g class=\"primitive\">\n",
       "      <text text-anchor=\"middle\" dy=\"0.35em\">GRC</text>\n",
       "    </g>\n",
       "  </g>\n",
       "  <g transform=\"translate(39.22,32.39)\">\n",
       "    <g class=\"primitive\">\n",
       "      <text text-anchor=\"middle\" dy=\"0.35em\">ZAF</text>\n",
       "    </g>\n",
       "  </g>\n",
       "  <g transform=\"translate(31.64,34.41)\">\n",
       "    <g class=\"primitive\">\n",
       "      <text text-anchor=\"middle\" dy=\"0.35em\">COL</text>\n",
       "    </g>\n",
       "  </g>\n",
       "  <g transform=\"translate(29.92,8.33)\">\n",
       "    <g class=\"primitive\">\n",
       "      <text text-anchor=\"middle\" dy=\"0.35em\">SLV</text>\n",
       "    </g>\n",
       "  </g>\n",
       "  <g transform=\"translate(15.94,91.67)\">\n",
       "    <g class=\"primitive\">\n",
       "      <text text-anchor=\"middle\" dy=\"0.35em\">KWT</text>\n",
       "    </g>\n",
       "  </g>\n",
       "  <g transform=\"translate(25.07,36.82)\">\n",
       "    <g class=\"primitive\">\n",
       "      <text text-anchor=\"middle\" dy=\"0.35em\">FIN</text>\n",
       "    </g>\n",
       "  </g>\n",
       "  <g transform=\"translate(19.68,39.58)\">\n",
       "    <g class=\"primitive\">\n",
       "      <text text-anchor=\"middle\" dy=\"0.35em\">TUR</text>\n",
       "    </g>\n",
       "  </g>\n",
       "  <g transform=\"translate(15.61,42.61)\">\n",
       "    <g class=\"primitive\">\n",
       "      <text text-anchor=\"middle\" dy=\"0.35em\">PAK</text>\n",
       "    </g>\n",
       "  </g>\n",
       "  <g transform=\"translate(12.98,45.83)\">\n",
       "    <g class=\"primitive\">\n",
       "      <text text-anchor=\"middle\" dy=\"0.35em\">IND</text>\n",
       "    </g>\n",
       "  </g>\n",
       "  <g transform=\"translate(32.94,8.33)\">\n",
       "    <g class=\"primitive\">\n",
       "      <text text-anchor=\"middle\" dy=\"0.35em\">SVN</text>\n",
       "    </g>\n",
       "  </g>\n",
       "  <g transform=\"translate(17.33,91.67)\">\n",
       "    <g class=\"primitive\">\n",
       "      <text text-anchor=\"middle\" dy=\"0.35em\">MAR</text>\n",
       "    </g>\n",
       "  </g>\n",
       "  <g transform=\"translate(35.96,8.33)\">\n",
       "    <g class=\"primitive\">\n",
       "      <text text-anchor=\"middle\" dy=\"0.35em\">HUN</text>\n",
       "    </g>\n",
       "  </g>\n",
       "  <g transform=\"translate(38.98,8.33)\">\n",
       "    <g class=\"primitive\">\n",
       "      <text text-anchor=\"middle\" dy=\"0.35em\">MYS</text>\n",
       "    </g>\n",
       "  </g>\n",
       "  <g transform=\"translate(11.83,49.16)\">\n",
       "    <g class=\"primitive\">\n",
       "      <text text-anchor=\"middle\" dy=\"0.35em\">FRA</text>\n",
       "    </g>\n",
       "  </g>\n",
       "  <g transform=\"translate(12.21,52.51)\">\n",
       "    <g class=\"primitive\">\n",
       "      <text text-anchor=\"middle\" dy=\"0.35em\">ARE</text>\n",
       "    </g>\n",
       "  </g>\n",
       "  <g transform=\"translate(14.11,55.8)\">\n",
       "    <g class=\"primitive\">\n",
       "      <text text-anchor=\"middle\" dy=\"0.35em\">VEN</text>\n",
       "    </g>\n",
       "  </g>\n",
       "  <g transform=\"translate(17.47,58.93)\">\n",
       "    <g class=\"primitive\">\n",
       "      <text text-anchor=\"middle\" dy=\"0.35em\">PRT</text>\n",
       "    </g>\n",
       "  </g>\n",
       "  <g transform=\"translate(22.22,61.83)\">\n",
       "    <g class=\"primitive\">\n",
       "      <text text-anchor=\"middle\" dy=\"0.35em\">UKR</text>\n",
       "    </g>\n",
       "  </g>\n",
       "  <g transform=\"translate(28.21,64.43)\">\n",
       "    <g class=\"primitive\">\n",
       "      <text text-anchor=\"middle\" dy=\"0.35em\">HKG</text>\n",
       "    </g>\n",
       "  </g>\n",
       "  <g transform=\"translate(35.31,66.66)\">\n",
       "    <g class=\"primitive\">\n",
       "      <text text-anchor=\"middle\" dy=\"0.35em\">KEN</text>\n",
       "    </g>\n",
       "  </g>\n",
       "  <g transform=\"translate(42,8.33)\">\n",
       "    <g class=\"primitive\">\n",
       "      <text text-anchor=\"middle\" dy=\"0.35em\">CHN</text>\n",
       "    </g>\n",
       "  </g>\n",
       "  <g transform=\"translate(45.03,8.33)\">\n",
       "    <g class=\"primitive\">\n",
       "      <text text-anchor=\"middle\" dy=\"0.35em\">CHL</text>\n",
       "    </g>\n",
       "  </g>\n",
       "  <g transform=\"translate(48.05,8.33)\">\n",
       "    <g class=\"primitive\">\n",
       "      <text text-anchor=\"middle\" dy=\"0.35em\">BOL</text>\n",
       "    </g>\n",
       "  </g>\n",
       "  <g transform=\"translate(18.72,91.67)\">\n",
       "    <g class=\"primitive\">\n",
       "      <text text-anchor=\"middle\" dy=\"0.35em\">LBN</text>\n",
       "    </g>\n",
       "  </g>\n",
       "  <g transform=\"translate(51.07,8.33)\">\n",
       "    <g class=\"primitive\">\n",
       "      <text text-anchor=\"middle\" dy=\"0.35em\">PAN</text>\n",
       "    </g>\n",
       "  </g>\n",
       "  <g transform=\"translate(54.09,8.33)\">\n",
       "    <g class=\"primitive\">\n",
       "      <text text-anchor=\"middle\" dy=\"0.35em\">ISR</text>\n",
       "    </g>\n",
       "  </g>\n",
       "  <g transform=\"translate(57.11,8.33)\">\n",
       "    <g class=\"primitive\">\n",
       "      <text text-anchor=\"middle\" dy=\"0.35em\">LVA</text>\n",
       "    </g>\n",
       "  </g>\n",
       "  <g transform=\"translate(60.13,8.33)\">\n",
       "    <g class=\"primitive\">\n",
       "      <text text-anchor=\"middle\" dy=\"0.35em\">POL</text>\n",
       "    </g>\n",
       "  </g>\n",
       "  <g transform=\"translate(63.16,8.33)\">\n",
       "    <g class=\"primitive\">\n",
       "      <text text-anchor=\"middle\" dy=\"0.35em\">MDV</text>\n",
       "    </g>\n",
       "  </g>\n",
       "  <g transform=\"translate(66.18,8.33)\">\n",
       "    <g class=\"primitive\">\n",
       "      <text text-anchor=\"middle\" dy=\"0.35em\">PER</text>\n",
       "    </g>\n",
       "  </g>\n",
       "  <g transform=\"translate(69.2,8.33)\">\n",
       "    <g class=\"primitive\">\n",
       "      <text text-anchor=\"middle\" dy=\"0.35em\">LKA</text>\n",
       "    </g>\n",
       "  </g>\n",
       "  <g transform=\"translate(72.22,8.33)\">\n",
       "    <g class=\"primitive\">\n",
       "      <text text-anchor=\"middle\" dy=\"0.35em\">AUT</text>\n",
       "    </g>\n",
       "  </g>\n",
       "  <g transform=\"translate(20.1,91.67)\">\n",
       "    <g class=\"primitive\">\n",
       "      <text text-anchor=\"middle\" dy=\"0.35em\">BGR</text>\n",
       "    </g>\n",
       "  </g>\n",
       "  <g transform=\"translate(21.49,91.67)\">\n",
       "    <g class=\"primitive\">\n",
       "      <text text-anchor=\"middle\" dy=\"0.35em\">GEO</text>\n",
       "    </g>\n",
       "  </g>\n",
       "  <g transform=\"translate(75.24,8.33)\">\n",
       "    <g class=\"primitive\">\n",
       "      <text text-anchor=\"middle\" dy=\"0.35em\">EST</text>\n",
       "    </g>\n",
       "  </g>\n",
       "  <g transform=\"translate(78.27,8.33)\">\n",
       "    <g class=\"primitive\">\n",
       "      <text text-anchor=\"middle\" dy=\"0.35em\">CZE</text>\n",
       "    </g>\n",
       "  </g>\n",
       "  <g transform=\"translate(22.88,91.67)\">\n",
       "    <g class=\"primitive\">\n",
       "      <text text-anchor=\"middle\" dy=\"0.35em\">KHM</text>\n",
       "    </g>\n",
       "  </g>\n",
       "  <g transform=\"translate(81.29,8.33)\">\n",
       "    <g class=\"primitive\">\n",
       "      <text text-anchor=\"middle\" dy=\"0.35em\">GHA</text>\n",
       "    </g>\n",
       "  </g>\n",
       "  <g transform=\"translate(84.31,8.33)\">\n",
       "    <g class=\"primitive\">\n",
       "      <text text-anchor=\"middle\" dy=\"0.35em\">KOR</text>\n",
       "    </g>\n",
       "  </g>\n",
       "  <g transform=\"translate(87.33,8.33)\">\n",
       "    <g class=\"primitive\">\n",
       "      <text text-anchor=\"middle\" dy=\"0.35em\">KAZ</text>\n",
       "    </g>\n",
       "  </g>\n",
       "  <g transform=\"translate(43.33,68.45)\">\n",
       "    <g class=\"primitive\">\n",
       "      <text text-anchor=\"middle\" dy=\"0.35em\">BGD</text>\n",
       "    </g>\n",
       "  </g>\n",
       "  <g transform=\"translate(90.35,8.33)\">\n",
       "    <g class=\"primitive\">\n",
       "      <text text-anchor=\"middle\" dy=\"0.35em\">TTO</text>\n",
       "    </g>\n",
       "  </g>\n",
       "  <g transform=\"translate(24.26,91.67)\">\n",
       "    <g class=\"primitive\">\n",
       "      <text text-anchor=\"middle\" dy=\"0.35em\">JOR</text>\n",
       "    </g>\n",
       "  </g>\n",
       "  <g transform=\"translate(93.37,8.33)\">\n",
       "    <g class=\"primitive\">\n",
       "      <text text-anchor=\"middle\" dy=\"0.35em\">SRB</text>\n",
       "    </g>\n",
       "  </g>\n",
       "  <g transform=\"translate(52.05,69.76)\">\n",
       "    <g class=\"primitive\">\n",
       "      <text text-anchor=\"middle\" dy=\"0.35em\">SAU</text>\n",
       "    </g>\n",
       "  </g>\n",
       "  <g transform=\"translate(96.4,8.33)\">\n",
       "    <g class=\"primitive\">\n",
       "      <text text-anchor=\"middle\" dy=\"0.35em\">MKD</text>\n",
       "    </g>\n",
       "  </g>\n",
       "  <g transform=\"translate(25.65,91.67)\">\n",
       "    <g class=\"primitive\">\n",
       "      <text text-anchor=\"middle\" dy=\"0.35em\">SYR</text>\n",
       "    </g>\n",
       "  </g>\n",
       "  <g transform=\"translate(99.42,8.33)\">\n",
       "    <g class=\"primitive\">\n",
       "      <text text-anchor=\"middle\" dy=\"0.35em\">TZA</text>\n",
       "    </g>\n",
       "  </g>\n",
       "  <g transform=\"translate(27.04,91.67)\">\n",
       "    <g class=\"primitive\">\n",
       "      <text text-anchor=\"middle\" dy=\"0.35em\">IRQ</text>\n",
       "    </g>\n",
       "  </g>\n",
       "  <g transform=\"translate(102.44,8.33)\">\n",
       "    <g class=\"primitive\">\n",
       "      <text text-anchor=\"middle\" dy=\"0.35em\">ROU</text>\n",
       "    </g>\n",
       "  </g>\n",
       "  <g transform=\"translate(28.42,91.67)\">\n",
       "    <g class=\"primitive\">\n",
       "      <text text-anchor=\"middle\" dy=\"0.35em\">BRN</text>\n",
       "    </g>\n",
       "  </g>\n",
       "  <g transform=\"translate(105.46,8.33)\">\n",
       "    <g class=\"primitive\">\n",
       "      <text text-anchor=\"middle\" dy=\"0.35em\">UGA</text>\n",
       "    </g>\n",
       "  </g>\n",
       "  <g transform=\"translate(29.81,91.67)\">\n",
       "    <g class=\"primitive\">\n",
       "      <text text-anchor=\"middle\" dy=\"0.35em\">GAB</text>\n",
       "    </g>\n",
       "  </g>\n",
       "  <g transform=\"translate(108.48,8.33)\">\n",
       "    <g class=\"primitive\">\n",
       "      <text text-anchor=\"middle\" dy=\"0.35em\">PRI</text>\n",
       "    </g>\n",
       "  </g>\n",
       "  <g transform=\"translate(111.51,8.33)\">\n",
       "    <g class=\"primitive\">\n",
       "      <text text-anchor=\"middle\" dy=\"0.35em\">NPL</text>\n",
       "    </g>\n",
       "  </g>\n",
       "  <g transform=\"translate(114.53,8.33)\">\n",
       "    <g class=\"primitive\">\n",
       "      <text text-anchor=\"middle\" dy=\"0.35em\">HRV</text>\n",
       "    </g>\n",
       "  </g>\n",
       "  <g transform=\"translate(31.2,91.67)\">\n",
       "    <g class=\"primitive\">\n",
       "      <text text-anchor=\"middle\" dy=\"0.35em\">MNE</text>\n",
       "    </g>\n",
       "  </g>\n",
       "  <g transform=\"translate(117.55,8.33)\">\n",
       "    <g class=\"primitive\">\n",
       "      <text text-anchor=\"middle\" dy=\"0.35em\">DZA</text>\n",
       "    </g>\n",
       "  </g>\n",
       "  <g transform=\"translate(32.58,91.67)\">\n",
       "    <g class=\"primitive\">\n",
       "      <text text-anchor=\"middle\" dy=\"0.35em\">MMR</text>\n",
       "    </g>\n",
       "  </g>\n",
       "  <g transform=\"translate(33.97,91.67)\">\n",
       "    <g class=\"primitive\">\n",
       "      <text text-anchor=\"middle\" dy=\"0.35em\">MOZ</text>\n",
       "    </g>\n",
       "  </g>\n",
       "  <g transform=\"translate(35.36,91.67)\">\n",
       "    <g class=\"primitive\">\n",
       "      <text text-anchor=\"middle\" dy=\"0.35em\">ARM</text>\n",
       "    </g>\n",
       "  </g>\n",
       "  <g transform=\"translate(36.74,91.67)\">\n",
       "    <g class=\"primitive\">\n",
       "      <text text-anchor=\"middle\" dy=\"0.35em\">MLT</text>\n",
       "    </g>\n",
       "  </g>\n",
       "  <g transform=\"translate(38.13,91.67)\">\n",
       "    <g class=\"primitive\">\n",
       "      <text text-anchor=\"middle\" dy=\"0.35em\">LBY</text>\n",
       "    </g>\n",
       "  </g>\n",
       "  <g transform=\"translate(39.51,91.67)\">\n",
       "    <g class=\"primitive\">\n",
       "      <text text-anchor=\"middle\" dy=\"0.35em\">CYP</text>\n",
       "    </g>\n",
       "  </g>\n",
       "  <g transform=\"translate(40.9,91.67)\">\n",
       "    <g class=\"primitive\">\n",
       "      <text text-anchor=\"middle\" dy=\"0.35em\">QAT</text>\n",
       "    </g>\n",
       "  </g>\n",
       "  <g transform=\"translate(42.29,91.67)\">\n",
       "    <g class=\"primitive\">\n",
       "      <text text-anchor=\"middle\" dy=\"0.35em\">JAM</text>\n",
       "    </g>\n",
       "  </g>\n",
       "  <g transform=\"translate(43.67,91.67)\">\n",
       "    <g class=\"primitive\">\n",
       "      <text text-anchor=\"middle\" dy=\"0.35em\">SVK</text>\n",
       "    </g>\n",
       "  </g>\n",
       "  <g transform=\"translate(120.57,8.33)\">\n",
       "    <g class=\"primitive\">\n",
       "      <text text-anchor=\"middle\" dy=\"0.35em\">ECU</text>\n",
       "    </g>\n",
       "  </g>\n",
       "  <g transform=\"translate(123.59,8.33)\">\n",
       "    <g class=\"primitive\">\n",
       "      <text text-anchor=\"middle\" dy=\"0.35em\">IMN</text>\n",
       "    </g>\n",
       "  </g>\n",
       "  <g transform=\"translate(45.06,91.67)\">\n",
       "    <g class=\"primitive\">\n",
       "      <text text-anchor=\"middle\" dy=\"0.35em\">BHS</text>\n",
       "    </g>\n",
       "  </g>\n",
       "  <g transform=\"translate(46.45,91.67)\">\n",
       "    <g class=\"primitive\">\n",
       "      <text text-anchor=\"middle\" dy=\"0.35em\">MCO</text>\n",
       "    </g>\n",
       "  </g>\n",
       "  <g transform=\"translate(47.83,91.67)\">\n",
       "    <g class=\"primitive\">\n",
       "      <text text-anchor=\"middle\" dy=\"0.35em\">DOM</text>\n",
       "    </g>\n",
       "  </g>\n",
       "  <g transform=\"translate(49.22,91.67)\">\n",
       "    <g class=\"primitive\">\n",
       "      <text text-anchor=\"middle\" dy=\"0.35em\">OMN</text>\n",
       "    </g>\n",
       "  </g>\n",
       "  <g transform=\"translate(50.61,91.67)\">\n",
       "    <g class=\"primitive\">\n",
       "      <text text-anchor=\"middle\" dy=\"0.35em\">BIH</text>\n",
       "    </g>\n",
       "  </g>\n",
       "  <g transform=\"translate(51.99,91.67)\">\n",
       "    <g class=\"primitive\">\n",
       "      <text text-anchor=\"middle\" dy=\"0.35em\">CRI</text>\n",
       "    </g>\n",
       "  </g>\n",
       "  <g transform=\"translate(53.38,91.67)\">\n",
       "    <g class=\"primitive\">\n",
       "      <text text-anchor=\"middle\" dy=\"0.35em\">GIB</text>\n",
       "    </g>\n",
       "  </g>\n",
       "  <g transform=\"translate(54.77,91.67)\">\n",
       "    <g class=\"primitive\">\n",
       "      <text text-anchor=\"middle\" dy=\"0.35em\">TWN</text>\n",
       "    </g>\n",
       "  </g>\n",
       "  <g transform=\"translate(56.15,91.67)\">\n",
       "    <g class=\"primitive\">\n",
       "      <text text-anchor=\"middle\" dy=\"0.35em\">GTM</text>\n",
       "    </g>\n",
       "  </g>\n",
       "  <g transform=\"translate(57.54,91.67)\">\n",
       "    <g class=\"primitive\">\n",
       "      <text text-anchor=\"middle\" dy=\"0.35em\">COD</text>\n",
       "    </g>\n",
       "  </g>\n",
       "  <g transform=\"translate(58.93,91.67)\">\n",
       "    <g class=\"primitive\">\n",
       "      <text text-anchor=\"middle\" dy=\"0.35em\">BLZ</text>\n",
       "    </g>\n",
       "  </g>\n",
       "  <g transform=\"translate(60.31,91.67)\">\n",
       "    <g class=\"primitive\">\n",
       "      <text text-anchor=\"middle\" dy=\"0.35em\">DJI</text>\n",
       "    </g>\n",
       "  </g>\n",
       "  <g transform=\"translate(61.7,91.67)\">\n",
       "    <g class=\"primitive\">\n",
       "      <text text-anchor=\"middle\" dy=\"0.35em\">ISL</text>\n",
       "    </g>\n",
       "  </g>\n",
       "  <g transform=\"translate(63.09,91.67)\">\n",
       "    <g class=\"primitive\">\n",
       "      <text text-anchor=\"middle\" dy=\"0.35em\">ALB</text>\n",
       "    </g>\n",
       "  </g>\n",
       "  <g transform=\"translate(61.26,70.56)\">\n",
       "    <g class=\"primitive\">\n",
       "      <text text-anchor=\"middle\" dy=\"0.35em\">BLR</text>\n",
       "    </g>\n",
       "  </g>\n",
       "  <g transform=\"translate(64.47,91.67)\">\n",
       "    <g class=\"primitive\">\n",
       "      <text text-anchor=\"middle\" dy=\"0.35em\">CYM</text>\n",
       "    </g>\n",
       "  </g>\n",
       "  <g transform=\"translate(65.86,91.67)\">\n",
       "    <g class=\"primitive\">\n",
       "      <text text-anchor=\"middle\" dy=\"0.35em\">MRT</text>\n",
       "    </g>\n",
       "  </g>\n",
       "  <g transform=\"translate(67.24,91.67)\">\n",
       "    <g class=\"primitive\">\n",
       "      <text text-anchor=\"middle\" dy=\"0.35em\">AFG</text>\n",
       "    </g>\n",
       "  </g>\n",
       "  <g transform=\"translate(68.63,91.67)\">\n",
       "    <g class=\"primitive\">\n",
       "      <text text-anchor=\"middle\" dy=\"0.35em\">ZMB</text>\n",
       "    </g>\n",
       "  </g>\n",
       "  <g transform=\"translate(70.02,91.67)\">\n",
       "    <g class=\"primitive\">\n",
       "      <text text-anchor=\"middle\" dy=\"0.35em\">GGY</text>\n",
       "    </g>\n",
       "  </g>\n",
       "  <g transform=\"translate(126.61,8.33)\">\n",
       "    <g class=\"primitive\">\n",
       "      <text text-anchor=\"middle\" dy=\"0.35em\">ZWE</text>\n",
       "    </g>\n",
       "  </g>\n",
       "  <g transform=\"translate(71.4,91.67)\">\n",
       "    <g class=\"primitive\">\n",
       "      <text text-anchor=\"middle\" dy=\"0.35em\">HTI</text>\n",
       "    </g>\n",
       "  </g>\n",
       "  <g transform=\"translate(72.79,91.67)\">\n",
       "    <g class=\"primitive\">\n",
       "      <text text-anchor=\"middle\" dy=\"0.35em\">BWA</text>\n",
       "    </g>\n",
       "  </g>\n",
       "  <g transform=\"translate(74.18,91.67)\">\n",
       "    <g class=\"primitive\">\n",
       "      <text text-anchor=\"middle\" dy=\"0.35em\">RWA</text>\n",
       "    </g>\n",
       "  </g>\n",
       "  <g transform=\"translate(75.56,91.67)\">\n",
       "    <g class=\"primitive\">\n",
       "      <text text-anchor=\"middle\" dy=\"0.35em\">PRY</text>\n",
       "    </g>\n",
       "  </g>\n",
       "  <g transform=\"translate(76.95,91.67)\">\n",
       "    <g class=\"primitive\">\n",
       "      <text text-anchor=\"middle\" dy=\"0.35em\">UZB</text>\n",
       "    </g>\n",
       "  </g>\n",
       "  <g transform=\"translate(78.34,91.67)\">\n",
       "    <g class=\"primitive\">\n",
       "      <text text-anchor=\"middle\" dy=\"0.35em\">ERI</text>\n",
       "    </g>\n",
       "  </g>\n",
       "  <g transform=\"translate(79.72,91.67)\">\n",
       "    <g class=\"primitive\">\n",
       "      <text text-anchor=\"middle\" dy=\"0.35em\">TUN</text>\n",
       "    </g>\n",
       "  </g>\n",
       "  <g transform=\"translate(81.11,91.67)\">\n",
       "    <g class=\"primitive\">\n",
       "      <text text-anchor=\"middle\" dy=\"0.35em\">CPV</text>\n",
       "    </g>\n",
       "  </g>\n",
       "  <g transform=\"translate(82.5,91.67)\">\n",
       "    <g class=\"primitive\">\n",
       "      <text text-anchor=\"middle\" dy=\"0.35em\">MNG</text>\n",
       "    </g>\n",
       "  </g>\n",
       "  <g transform=\"translate(83.88,91.67)\">\n",
       "    <g class=\"primitive\">\n",
       "      <text text-anchor=\"middle\" dy=\"0.35em\">CUB</text>\n",
       "    </g>\n",
       "  </g>\n",
       "  <g transform=\"translate(85.27,91.67)\">\n",
       "    <g class=\"primitive\">\n",
       "      <text text-anchor=\"middle\" dy=\"0.35em\">LSO</text>\n",
       "    </g>\n",
       "  </g>\n",
       "  <g transform=\"translate(86.66,91.67)\">\n",
       "    <g class=\"primitive\">\n",
       "      <text text-anchor=\"middle\" dy=\"0.35em\">SUR</text>\n",
       "    </g>\n",
       "  </g>\n",
       "  <g transform=\"translate(88.04,91.67)\">\n",
       "    <g class=\"primitive\">\n",
       "      <text text-anchor=\"middle\" dy=\"0.35em\">YEM</text>\n",
       "    </g>\n",
       "  </g>\n",
       "  <g transform=\"translate(129.64,8.33)\">\n",
       "    <g class=\"primitive\">\n",
       "      <text text-anchor=\"middle\" dy=\"0.35em\">MWI</text>\n",
       "    </g>\n",
       "  </g>\n",
       "  <g transform=\"translate(89.43,91.67)\">\n",
       "    <g class=\"primitive\">\n",
       "      <text text-anchor=\"middle\" dy=\"0.35em\">MLI</text>\n",
       "    </g>\n",
       "  </g>\n",
       "  <g transform=\"translate(90.81,91.67)\">\n",
       "    <g class=\"primitive\">\n",
       "      <text text-anchor=\"middle\" dy=\"0.35em\">GMB</text>\n",
       "    </g>\n",
       "  </g>\n",
       "  <g transform=\"translate(92.2,91.67)\">\n",
       "    <g class=\"primitive\">\n",
       "      <text text-anchor=\"middle\" dy=\"0.35em\">CMR</text>\n",
       "    </g>\n",
       "  </g>\n",
       "  <g transform=\"translate(93.59,91.67)\">\n",
       "    <g class=\"primitive\">\n",
       "      <text text-anchor=\"middle\" dy=\"0.35em\">NCL</text>\n",
       "    </g>\n",
       "  </g>\n",
       "  <g transform=\"translate(94.97,91.67)\">\n",
       "    <g class=\"primitive\">\n",
       "      <text text-anchor=\"middle\" dy=\"0.35em\">VAT</text>\n",
       "    </g>\n",
       "  </g>\n",
       "  <g transform=\"translate(96.36,91.67)\">\n",
       "    <g class=\"primitive\">\n",
       "      <text text-anchor=\"middle\" dy=\"0.35em\">HND</text>\n",
       "    </g>\n",
       "  </g>\n",
       "  <g transform=\"translate(97.75,91.67)\">\n",
       "    <g class=\"primitive\">\n",
       "      <text text-anchor=\"middle\" dy=\"0.35em\">SEN</text>\n",
       "    </g>\n",
       "  </g>\n",
       "  <g transform=\"translate(99.13,91.67)\">\n",
       "    <g class=\"primitive\">\n",
       "      <text text-anchor=\"middle\" dy=\"0.35em\">BHR</text>\n",
       "    </g>\n",
       "  </g>\n",
       "  <g transform=\"translate(100.52,91.67)\">\n",
       "    <g class=\"primitive\">\n",
       "      <text text-anchor=\"middle\" dy=\"0.35em\">BFA</text>\n",
       "    </g>\n",
       "  </g>\n",
       "  <g transform=\"translate(101.91,91.67)\">\n",
       "    <g class=\"primitive\">\n",
       "      <text text-anchor=\"middle\" dy=\"0.35em\">URY</text>\n",
       "    </g>\n",
       "  </g>\n",
       "  <g transform=\"translate(103.29,91.67)\">\n",
       "    <g class=\"primitive\">\n",
       "      <text text-anchor=\"middle\" dy=\"0.35em\">LCA</text>\n",
       "    </g>\n",
       "  </g>\n",
       "  <g transform=\"translate(104.68,91.67)\">\n",
       "    <g class=\"primitive\">\n",
       "      <text text-anchor=\"middle\" dy=\"0.35em\">GIN</text>\n",
       "    </g>\n",
       "  </g>\n",
       "  <g transform=\"translate(106.07,91.67)\">\n",
       "    <g class=\"primitive\">\n",
       "      <text text-anchor=\"middle\" dy=\"0.35em\">SOM</text>\n",
       "    </g>\n",
       "  </g>\n",
       "  <g transform=\"translate(107.45,91.67)\">\n",
       "    <g class=\"primitive\">\n",
       "      <text text-anchor=\"middle\" dy=\"0.35em\">LUX</text>\n",
       "    </g>\n",
       "  </g>\n",
       "  <g transform=\"translate(108.84,91.67)\">\n",
       "    <g class=\"primitive\">\n",
       "      <text text-anchor=\"middle\" dy=\"0.35em\">BRB</text>\n",
       "    </g>\n",
       "  </g>\n",
       "  <g transform=\"translate(110.23,91.67)\">\n",
       "    <g class=\"primitive\">\n",
       "      <text text-anchor=\"middle\" dy=\"0.35em\">LAO</text>\n",
       "    </g>\n",
       "  </g>\n",
       "  <g transform=\"translate(111.61,91.67)\">\n",
       "    <g class=\"primitive\">\n",
       "      <text text-anchor=\"middle\" dy=\"0.35em\">AGO</text>\n",
       "    </g>\n",
       "  </g>\n",
       "  <g transform=\"translate(113,91.67)\">\n",
       "    <g class=\"primitive\">\n",
       "      <text text-anchor=\"middle\" dy=\"0.35em\">FJI</text>\n",
       "    </g>\n",
       "  </g>\n",
       "  <g transform=\"translate(114.38,91.67)\">\n",
       "    <g class=\"primitive\">\n",
       "      <text text-anchor=\"middle\" dy=\"0.35em\">NAM</text>\n",
       "    </g>\n",
       "  </g>\n",
       "  <g transform=\"translate(115.77,91.67)\">\n",
       "    <g class=\"primitive\">\n",
       "      <text text-anchor=\"middle\" dy=\"0.35em\">KNA</text>\n",
       "    </g>\n",
       "  </g>\n",
       "  <g transform=\"translate(117.16,91.67)\">\n",
       "    <g class=\"primitive\">\n",
       "      <text text-anchor=\"middle\" dy=\"0.35em\">ETH</text>\n",
       "    </g>\n",
       "  </g>\n",
       "  <g transform=\"translate(118.54,91.67)\">\n",
       "    <g class=\"primitive\">\n",
       "      <text text-anchor=\"middle\" dy=\"0.35em\">CIV</text>\n",
       "    </g>\n",
       "  </g>\n",
       "  <g transform=\"translate(119.93,91.67)\">\n",
       "    <g class=\"primitive\">\n",
       "      <text text-anchor=\"middle\" dy=\"0.35em\">NIC</text>\n",
       "    </g>\n",
       "  </g>\n",
       "  <g transform=\"translate(121.32,91.67)\">\n",
       "    <g class=\"primitive\">\n",
       "      <text text-anchor=\"middle\" dy=\"0.35em\">BTN</text>\n",
       "    </g>\n",
       "  </g>\n",
       "  <g transform=\"translate(122.7,91.67)\">\n",
       "    <g class=\"primitive\">\n",
       "      <text text-anchor=\"middle\" dy=\"0.35em\">SLB</text>\n",
       "    </g>\n",
       "  </g>\n",
       "  <g transform=\"translate(124.09,91.67)\">\n",
       "    <g class=\"primitive\">\n",
       "      <text text-anchor=\"middle\" dy=\"0.35em\">MUS</text>\n",
       "    </g>\n",
       "  </g>\n",
       "  <g transform=\"translate(125.48,91.67)\">\n",
       "    <g class=\"primitive\">\n",
       "      <text text-anchor=\"middle\" dy=\"0.35em\">GUY</text>\n",
       "    </g>\n",
       "  </g>\n",
       "  <g transform=\"translate(126.86,91.67)\">\n",
       "    <g class=\"primitive\">\n",
       "      <text text-anchor=\"middle\" dy=\"0.35em\">BMU</text>\n",
       "    </g>\n",
       "  </g>\n",
       "  <g transform=\"translate(128.25,91.67)\">\n",
       "    <g class=\"primitive\">\n",
       "      <text text-anchor=\"middle\" dy=\"0.35em\">MAC</text>\n",
       "    </g>\n",
       "  </g>\n",
       "  <g transform=\"translate(129.64,91.67)\">\n",
       "    <g class=\"primitive\">\n",
       "      <text text-anchor=\"middle\" dy=\"0.35em\">LTU</text>\n",
       "    </g>\n",
       "  </g>\n",
       "</g>\n",
       "<script> <![CDATA[\n",
       "(function(N){var k=/[\\.\\/]/,L=/\\s*,\\s*/,C=function(a,d){return a-d},a,v,y={n:{}},M=function(){for(var a=0,d=this.length;a<d;a++)if(\"undefined\"!=typeof this[a])return this[a]},A=function(){for(var a=this.length;--a;)if(\"undefined\"!=typeof this[a])return this[a]},w=function(k,d){k=String(k);var f=v,n=Array.prototype.slice.call(arguments,2),u=w.listeners(k),p=0,b,q=[],e={},l=[],r=a;l.firstDefined=M;l.lastDefined=A;a=k;for(var s=v=0,x=u.length;s<x;s++)\"zIndex\"in u[s]&&(q.push(u[s].zIndex),0>u[s].zIndex&&\n",
       "(e[u[s].zIndex]=u[s]));for(q.sort(C);0>q[p];)if(b=e[q[p++] ],l.push(b.apply(d,n)),v)return v=f,l;for(s=0;s<x;s++)if(b=u[s],\"zIndex\"in b)if(b.zIndex==q[p]){l.push(b.apply(d,n));if(v)break;do if(p++,(b=e[q[p] ])&&l.push(b.apply(d,n)),v)break;while(b)}else e[b.zIndex]=b;else if(l.push(b.apply(d,n)),v)break;v=f;a=r;return l};w._events=y;w.listeners=function(a){a=a.split(k);var d=y,f,n,u,p,b,q,e,l=[d],r=[];u=0;for(p=a.length;u<p;u++){e=[];b=0;for(q=l.length;b<q;b++)for(d=l[b].n,f=[d[a[u] ],d[\"*\"] ],n=2;n--;)if(d=\n",
       "f[n])e.push(d),r=r.concat(d.f||[]);l=e}return r};w.on=function(a,d){a=String(a);if(\"function\"!=typeof d)return function(){};for(var f=a.split(L),n=0,u=f.length;n<u;n++)(function(a){a=a.split(k);for(var b=y,f,e=0,l=a.length;e<l;e++)b=b.n,b=b.hasOwnProperty(a[e])&&b[a[e] ]||(b[a[e] ]={n:{}});b.f=b.f||[];e=0;for(l=b.f.length;e<l;e++)if(b.f[e]==d){f=!0;break}!f&&b.f.push(d)})(f[n]);return function(a){+a==+a&&(d.zIndex=+a)}};w.f=function(a){var d=[].slice.call(arguments,1);return function(){w.apply(null,\n",
       "[a,null].concat(d).concat([].slice.call(arguments,0)))}};w.stop=function(){v=1};w.nt=function(k){return k?(new RegExp(\"(?:\\\\.|\\\\/|^)\"+k+\"(?:\\\\.|\\\\/|$)\")).test(a):a};w.nts=function(){return a.split(k)};w.off=w.unbind=function(a,d){if(a){var f=a.split(L);if(1<f.length)for(var n=0,u=f.length;n<u;n++)w.off(f[n],d);else{for(var f=a.split(k),p,b,q,e,l=[y],n=0,u=f.length;n<u;n++)for(e=0;e<l.length;e+=q.length-2){q=[e,1];p=l[e].n;if(\"*\"!=f[n])p[f[n] ]&&q.push(p[f[n] ]);else for(b in p)p.hasOwnProperty(b)&&\n",
       "q.push(p[b]);l.splice.apply(l,q)}n=0;for(u=l.length;n<u;n++)for(p=l[n];p.n;){if(d){if(p.f){e=0;for(f=p.f.length;e<f;e++)if(p.f[e]==d){p.f.splice(e,1);break}!p.f.length&&delete p.f}for(b in p.n)if(p.n.hasOwnProperty(b)&&p.n[b].f){q=p.n[b].f;e=0;for(f=q.length;e<f;e++)if(q[e]==d){q.splice(e,1);break}!q.length&&delete p.n[b].f}}else for(b in delete p.f,p.n)p.n.hasOwnProperty(b)&&p.n[b].f&&delete p.n[b].f;p=p.n}}}else w._events=y={n:{}}};w.once=function(a,d){var f=function(){w.unbind(a,f);return d.apply(this,\n",
       "arguments)};return w.on(a,f)};w.version=\"0.4.2\";w.toString=function(){return\"You are running Eve 0.4.2\"};\"undefined\"!=typeof module&&module.exports?module.exports=w:\"function\"===typeof define&&define.amd?define(\"eve\",[],function(){return w}):N.eve=w})(this);\n",
       "(function(N,k){\"function\"===typeof define&&define.amd?define(\"Snap.svg\",[\"eve\"],function(L){return k(N,L)}):k(N,N.eve)})(this,function(N,k){var L=function(a){var k={},y=N.requestAnimationFrame||N.webkitRequestAnimationFrame||N.mozRequestAnimationFrame||N.oRequestAnimationFrame||N.msRequestAnimationFrame||function(a){setTimeout(a,16)},M=Array.isArray||function(a){return a instanceof Array||\"[object Array]\"==Object.prototype.toString.call(a)},A=0,w=\"M\"+(+new Date).toString(36),z=function(a){if(null==\n",
       "a)return this.s;var b=this.s-a;this.b+=this.dur*b;this.B+=this.dur*b;this.s=a},d=function(a){if(null==a)return this.spd;this.spd=a},f=function(a){if(null==a)return this.dur;this.s=this.s*a/this.dur;this.dur=a},n=function(){delete k[this.id];this.update();a(\"mina.stop.\"+this.id,this)},u=function(){this.pdif||(delete k[this.id],this.update(),this.pdif=this.get()-this.b)},p=function(){this.pdif&&(this.b=this.get()-this.pdif,delete this.pdif,k[this.id]=this)},b=function(){var a;if(M(this.start)){a=[];\n",
       "for(var b=0,e=this.start.length;b<e;b++)a[b]=+this.start[b]+(this.end[b]-this.start[b])*this.easing(this.s)}else a=+this.start+(this.end-this.start)*this.easing(this.s);this.set(a)},q=function(){var l=0,b;for(b in k)if(k.hasOwnProperty(b)){var e=k[b],f=e.get();l++;e.s=(f-e.b)/(e.dur/e.spd);1<=e.s&&(delete k[b],e.s=1,l--,function(b){setTimeout(function(){a(\"mina.finish.\"+b.id,b)})}(e));e.update()}l&&y(q)},e=function(a,r,s,x,G,h,J){a={id:w+(A++).toString(36),start:a,end:r,b:s,s:0,dur:x-s,spd:1,get:G,\n",
       "set:h,easing:J||e.linear,status:z,speed:d,duration:f,stop:n,pause:u,resume:p,update:b};k[a.id]=a;r=0;for(var K in k)if(k.hasOwnProperty(K)&&(r++,2==r))break;1==r&&y(q);return a};e.time=Date.now||function(){return+new Date};e.getById=function(a){return k[a]||null};e.linear=function(a){return a};e.easeout=function(a){return Math.pow(a,1.7)};e.easein=function(a){return Math.pow(a,0.48)};e.easeinout=function(a){if(1==a)return 1;if(0==a)return 0;var b=0.48-a/1.04,e=Math.sqrt(0.1734+b*b);a=e-b;a=Math.pow(Math.abs(a),\n",
       "1/3)*(0>a?-1:1);b=-e-b;b=Math.pow(Math.abs(b),1/3)*(0>b?-1:1);a=a+b+0.5;return 3*(1-a)*a*a+a*a*a};e.backin=function(a){return 1==a?1:a*a*(2.70158*a-1.70158)};e.backout=function(a){if(0==a)return 0;a-=1;return a*a*(2.70158*a+1.70158)+1};e.elastic=function(a){return a==!!a?a:Math.pow(2,-10*a)*Math.sin(2*(a-0.075)*Math.PI/0.3)+1};e.bounce=function(a){a<1/2.75?a*=7.5625*a:a<2/2.75?(a-=1.5/2.75,a=7.5625*a*a+0.75):a<2.5/2.75?(a-=2.25/2.75,a=7.5625*a*a+0.9375):(a-=2.625/2.75,a=7.5625*a*a+0.984375);return a};\n",
       "return N.mina=e}(\"undefined\"==typeof k?function(){}:k),C=function(){function a(c,t){if(c){if(c.tagName)return x(c);if(y(c,\"array\")&&a.set)return a.set.apply(a,c);if(c instanceof e)return c;if(null==t)return c=G.doc.querySelector(c),x(c)}return new s(null==c?\"100%\":c,null==t?\"100%\":t)}function v(c,a){if(a){\"#text\"==c&&(c=G.doc.createTextNode(a.text||\"\"));\"string\"==typeof c&&(c=v(c));if(\"string\"==typeof a)return\"xlink:\"==a.substring(0,6)?c.getAttributeNS(m,a.substring(6)):\"xml:\"==a.substring(0,4)?c.getAttributeNS(la,\n",
       "a.substring(4)):c.getAttribute(a);for(var da in a)if(a[h](da)){var b=J(a[da]);b?\"xlink:\"==da.substring(0,6)?c.setAttributeNS(m,da.substring(6),b):\"xml:\"==da.substring(0,4)?c.setAttributeNS(la,da.substring(4),b):c.setAttribute(da,b):c.removeAttribute(da)}}else c=G.doc.createElementNS(la,c);return c}function y(c,a){a=J.prototype.toLowerCase.call(a);return\"finite\"==a?isFinite(c):\"array\"==a&&(c instanceof Array||Array.isArray&&Array.isArray(c))?!0:\"null\"==a&&null===c||a==typeof c&&null!==c||\"object\"==\n",
       "a&&c===Object(c)||$.call(c).slice(8,-1).toLowerCase()==a}function M(c){if(\"function\"==typeof c||Object(c)!==c)return c;var a=new c.constructor,b;for(b in c)c[h](b)&&(a[b]=M(c[b]));return a}function A(c,a,b){function m(){var e=Array.prototype.slice.call(arguments,0),f=e.join(\"\\u2400\"),d=m.cache=m.cache||{},l=m.count=m.count||[];if(d[h](f)){a:for(var e=l,l=f,B=0,H=e.length;B<H;B++)if(e[B]===l){e.push(e.splice(B,1)[0]);break a}return b?b(d[f]):d[f]}1E3<=l.length&&delete d[l.shift()];l.push(f);d[f]=c.apply(a,\n",
       "e);return b?b(d[f]):d[f]}return m}function w(c,a,b,m,e,f){return null==e?(c-=b,a-=m,c||a?(180*I.atan2(-a,-c)/C+540)%360:0):w(c,a,e,f)-w(b,m,e,f)}function z(c){return c%360*C/180}function d(c){var a=[];c=c.replace(/(?:^|\\s)(\\w+)\\(([^)]+)\\)/g,function(c,b,m){m=m.split(/\\s*,\\s*|\\s+/);\"rotate\"==b&&1==m.length&&m.push(0,0);\"scale\"==b&&(2<m.length?m=m.slice(0,2):2==m.length&&m.push(0,0),1==m.length&&m.push(m[0],0,0));\"skewX\"==b?a.push([\"m\",1,0,I.tan(z(m[0])),1,0,0]):\"skewY\"==b?a.push([\"m\",1,I.tan(z(m[0])),\n",
       "0,1,0,0]):a.push([b.charAt(0)].concat(m));return c});return a}function f(c,t){var b=O(c),m=new a.Matrix;if(b)for(var e=0,f=b.length;e<f;e++){var h=b[e],d=h.length,B=J(h[0]).toLowerCase(),H=h[0]!=B,l=H?m.invert():0,E;\"t\"==B&&2==d?m.translate(h[1],0):\"t\"==B&&3==d?H?(d=l.x(0,0),B=l.y(0,0),H=l.x(h[1],h[2]),l=l.y(h[1],h[2]),m.translate(H-d,l-B)):m.translate(h[1],h[2]):\"r\"==B?2==d?(E=E||t,m.rotate(h[1],E.x+E.width/2,E.y+E.height/2)):4==d&&(H?(H=l.x(h[2],h[3]),l=l.y(h[2],h[3]),m.rotate(h[1],H,l)):m.rotate(h[1],\n",
       "h[2],h[3])):\"s\"==B?2==d||3==d?(E=E||t,m.scale(h[1],h[d-1],E.x+E.width/2,E.y+E.height/2)):4==d?H?(H=l.x(h[2],h[3]),l=l.y(h[2],h[3]),m.scale(h[1],h[1],H,l)):m.scale(h[1],h[1],h[2],h[3]):5==d&&(H?(H=l.x(h[3],h[4]),l=l.y(h[3],h[4]),m.scale(h[1],h[2],H,l)):m.scale(h[1],h[2],h[3],h[4])):\"m\"==B&&7==d&&m.add(h[1],h[2],h[3],h[4],h[5],h[6])}return m}function n(c,t){if(null==t){var m=!0;t=\"linearGradient\"==c.type||\"radialGradient\"==c.type?c.node.getAttribute(\"gradientTransform\"):\"pattern\"==c.type?c.node.getAttribute(\"patternTransform\"):\n",
       "c.node.getAttribute(\"transform\");if(!t)return new a.Matrix;t=d(t)}else t=a._.rgTransform.test(t)?J(t).replace(/\\.{3}|\\u2026/g,c._.transform||aa):d(t),y(t,\"array\")&&(t=a.path?a.path.toString.call(t):J(t)),c._.transform=t;var b=f(t,c.getBBox(1));if(m)return b;c.matrix=b}function u(c){c=c.node.ownerSVGElement&&x(c.node.ownerSVGElement)||c.node.parentNode&&x(c.node.parentNode)||a.select(\"svg\")||a(0,0);var t=c.select(\"defs\"),t=null==t?!1:t.node;t||(t=r(\"defs\",c.node).node);return t}function p(c){return c.node.ownerSVGElement&&\n",
       "x(c.node.ownerSVGElement)||a.select(\"svg\")}function b(c,a,m){function b(c){if(null==c)return aa;if(c==+c)return c;v(B,{width:c});try{return B.getBBox().width}catch(a){return 0}}function h(c){if(null==c)return aa;if(c==+c)return c;v(B,{height:c});try{return B.getBBox().height}catch(a){return 0}}function e(b,B){null==a?d[b]=B(c.attr(b)||0):b==a&&(d=B(null==m?c.attr(b)||0:m))}var f=p(c).node,d={},B=f.querySelector(\".svg---mgr\");B||(B=v(\"rect\"),v(B,{x:-9E9,y:-9E9,width:10,height:10,\"class\":\"svg---mgr\",\n",
       "fill:\"none\"}),f.appendChild(B));switch(c.type){case \"rect\":e(\"rx\",b),e(\"ry\",h);case \"image\":e(\"width\",b),e(\"height\",h);case \"text\":e(\"x\",b);e(\"y\",h);break;case \"circle\":e(\"cx\",b);e(\"cy\",h);e(\"r\",b);break;case \"ellipse\":e(\"cx\",b);e(\"cy\",h);e(\"rx\",b);e(\"ry\",h);break;case \"line\":e(\"x1\",b);e(\"x2\",b);e(\"y1\",h);e(\"y2\",h);break;case \"marker\":e(\"refX\",b);e(\"markerWidth\",b);e(\"refY\",h);e(\"markerHeight\",h);break;case \"radialGradient\":e(\"fx\",b);e(\"fy\",h);break;case \"tspan\":e(\"dx\",b);e(\"dy\",h);break;default:e(a,\n",
       "b)}f.removeChild(B);return d}function q(c){y(c,\"array\")||(c=Array.prototype.slice.call(arguments,0));for(var a=0,b=0,m=this.node;this[a];)delete this[a++];for(a=0;a<c.length;a++)\"set\"==c[a].type?c[a].forEach(function(c){m.appendChild(c.node)}):m.appendChild(c[a].node);for(var h=m.childNodes,a=0;a<h.length;a++)this[b++]=x(h[a]);return this}function e(c){if(c.snap in E)return E[c.snap];var a=this.id=V(),b;try{b=c.ownerSVGElement}catch(m){}this.node=c;b&&(this.paper=new s(b));this.type=c.tagName;this.anims=\n",
       "{};this._={transform:[]};c.snap=a;E[a]=this;\"g\"==this.type&&(this.add=q);if(this.type in{g:1,mask:1,pattern:1})for(var e in s.prototype)s.prototype[h](e)&&(this[e]=s.prototype[e])}function l(c){this.node=c}function r(c,a){var b=v(c);a.appendChild(b);return x(b)}function s(c,a){var b,m,f,d=s.prototype;if(c&&\"svg\"==c.tagName){if(c.snap in E)return E[c.snap];var l=c.ownerDocument;b=new e(c);m=c.getElementsByTagName(\"desc\")[0];f=c.getElementsByTagName(\"defs\")[0];m||(m=v(\"desc\"),m.appendChild(l.createTextNode(\"Created with Snap\")),\n",
       "b.node.appendChild(m));f||(f=v(\"defs\"),b.node.appendChild(f));b.defs=f;for(var ca in d)d[h](ca)&&(b[ca]=d[ca]);b.paper=b.root=b}else b=r(\"svg\",G.doc.body),v(b.node,{height:a,version:1.1,width:c,xmlns:la});return b}function x(c){return!c||c instanceof e||c instanceof l?c:c.tagName&&\"svg\"==c.tagName.toLowerCase()?new s(c):c.tagName&&\"object\"==c.tagName.toLowerCase()&&\"image/svg+xml\"==c.type?new s(c.contentDocument.getElementsByTagName(\"svg\")[0]):new e(c)}a.version=\"0.3.0\";a.toString=function(){return\"Snap v\"+\n",
       "this.version};a._={};var G={win:N,doc:N.document};a._.glob=G;var h=\"hasOwnProperty\",J=String,K=parseFloat,U=parseInt,I=Math,P=I.max,Q=I.min,Y=I.abs,C=I.PI,aa=\"\",$=Object.prototype.toString,F=/^\\s*((#[a-f\\d]{6})|(#[a-f\\d]{3})|rgba?\\(\\s*([\\d\\.]+%?\\s*,\\s*[\\d\\.]+%?\\s*,\\s*[\\d\\.]+%?(?:\\s*,\\s*[\\d\\.]+%?)?)\\s*\\)|hsba?\\(\\s*([\\d\\.]+(?:deg|\\xb0|%)?\\s*,\\s*[\\d\\.]+%?\\s*,\\s*[\\d\\.]+(?:%?\\s*,\\s*[\\d\\.]+)?%?)\\s*\\)|hsla?\\(\\s*([\\d\\.]+(?:deg|\\xb0|%)?\\s*,\\s*[\\d\\.]+%?\\s*,\\s*[\\d\\.]+(?:%?\\s*,\\s*[\\d\\.]+)?%?)\\s*\\))\\s*$/i;a._.separator=\n",
       "RegExp(\"[,\\t\\n\\x0B\\f\\r \\u00a0\\u1680\\u180e\\u2000\\u2001\\u2002\\u2003\\u2004\\u2005\\u2006\\u2007\\u2008\\u2009\\u200a\\u202f\\u205f\\u3000\\u2028\\u2029]+\");var S=RegExp(\"[\\t\\n\\x0B\\f\\r \\u00a0\\u1680\\u180e\\u2000\\u2001\\u2002\\u2003\\u2004\\u2005\\u2006\\u2007\\u2008\\u2009\\u200a\\u202f\\u205f\\u3000\\u2028\\u2029]*,[\\t\\n\\x0B\\f\\r \\u00a0\\u1680\\u180e\\u2000\\u2001\\u2002\\u2003\\u2004\\u2005\\u2006\\u2007\\u2008\\u2009\\u200a\\u202f\\u205f\\u3000\\u2028\\u2029]*\"),X={hs:1,rg:1},W=RegExp(\"([a-z])[\\t\\n\\x0B\\f\\r \\u00a0\\u1680\\u180e\\u2000\\u2001\\u2002\\u2003\\u2004\\u2005\\u2006\\u2007\\u2008\\u2009\\u200a\\u202f\\u205f\\u3000\\u2028\\u2029,]*((-?\\\\d*\\\\.?\\\\d*(?:e[\\\\-+]?\\\\d+)?[\\t\\n\\x0B\\f\\r \\u00a0\\u1680\\u180e\\u2000\\u2001\\u2002\\u2003\\u2004\\u2005\\u2006\\u2007\\u2008\\u2009\\u200a\\u202f\\u205f\\u3000\\u2028\\u2029]*,?[\\t\\n\\x0B\\f\\r \\u00a0\\u1680\\u180e\\u2000\\u2001\\u2002\\u2003\\u2004\\u2005\\u2006\\u2007\\u2008\\u2009\\u200a\\u202f\\u205f\\u3000\\u2028\\u2029]*)+)\",\n",
       "\"ig\"),ma=RegExp(\"([rstm])[\\t\\n\\x0B\\f\\r \\u00a0\\u1680\\u180e\\u2000\\u2001\\u2002\\u2003\\u2004\\u2005\\u2006\\u2007\\u2008\\u2009\\u200a\\u202f\\u205f\\u3000\\u2028\\u2029,]*((-?\\\\d*\\\\.?\\\\d*(?:e[\\\\-+]?\\\\d+)?[\\t\\n\\x0B\\f\\r \\u00a0\\u1680\\u180e\\u2000\\u2001\\u2002\\u2003\\u2004\\u2005\\u2006\\u2007\\u2008\\u2009\\u200a\\u202f\\u205f\\u3000\\u2028\\u2029]*,?[\\t\\n\\x0B\\f\\r \\u00a0\\u1680\\u180e\\u2000\\u2001\\u2002\\u2003\\u2004\\u2005\\u2006\\u2007\\u2008\\u2009\\u200a\\u202f\\u205f\\u3000\\u2028\\u2029]*)+)\",\"ig\"),Z=RegExp(\"(-?\\\\d*\\\\.?\\\\d*(?:e[\\\\-+]?\\\\d+)?)[\\t\\n\\x0B\\f\\r \\u00a0\\u1680\\u180e\\u2000\\u2001\\u2002\\u2003\\u2004\\u2005\\u2006\\u2007\\u2008\\u2009\\u200a\\u202f\\u205f\\u3000\\u2028\\u2029]*,?[\\t\\n\\x0B\\f\\r \\u00a0\\u1680\\u180e\\u2000\\u2001\\u2002\\u2003\\u2004\\u2005\\u2006\\u2007\\u2008\\u2009\\u200a\\u202f\\u205f\\u3000\\u2028\\u2029]*\",\n",
       "\"ig\"),na=0,ba=\"S\"+(+new Date).toString(36),V=function(){return ba+(na++).toString(36)},m=\"http://www.w3.org/1999/xlink\",la=\"http://www.w3.org/2000/svg\",E={},ca=a.url=function(c){return\"url('#\"+c+\"')\"};a._.$=v;a._.id=V;a.format=function(){var c=/\\{([^\\}]+)\\}/g,a=/(?:(?:^|\\.)(.+?)(?=\\[|\\.|$|\\()|\\[('|\")(.+?)\\2\\])(\\(\\))?/g,b=function(c,b,m){var h=m;b.replace(a,function(c,a,b,m,t){a=a||m;h&&(a in h&&(h=h[a]),\"function\"==typeof h&&t&&(h=h()))});return h=(null==h||h==m?c:h)+\"\"};return function(a,m){return J(a).replace(c,\n",
       "function(c,a){return b(c,a,m)})}}();a._.clone=M;a._.cacher=A;a.rad=z;a.deg=function(c){return 180*c/C%360};a.angle=w;a.is=y;a.snapTo=function(c,a,b){b=y(b,\"finite\")?b:10;if(y(c,\"array\"))for(var m=c.length;m--;){if(Y(c[m]-a)<=b)return c[m]}else{c=+c;m=a%c;if(m<b)return a-m;if(m>c-b)return a-m+c}return a};a.getRGB=A(function(c){if(!c||(c=J(c)).indexOf(\"-\")+1)return{r:-1,g:-1,b:-1,hex:\"none\",error:1,toString:ka};if(\"none\"==c)return{r:-1,g:-1,b:-1,hex:\"none\",toString:ka};!X[h](c.toLowerCase().substring(0,\n",
       "2))&&\"#\"!=c.charAt()&&(c=T(c));if(!c)return{r:-1,g:-1,b:-1,hex:\"none\",error:1,toString:ka};var b,m,e,f,d;if(c=c.match(F)){c[2]&&(e=U(c[2].substring(5),16),m=U(c[2].substring(3,5),16),b=U(c[2].substring(1,3),16));c[3]&&(e=U((d=c[3].charAt(3))+d,16),m=U((d=c[3].charAt(2))+d,16),b=U((d=c[3].charAt(1))+d,16));c[4]&&(d=c[4].split(S),b=K(d[0]),\"%\"==d[0].slice(-1)&&(b*=2.55),m=K(d[1]),\"%\"==d[1].slice(-1)&&(m*=2.55),e=K(d[2]),\"%\"==d[2].slice(-1)&&(e*=2.55),\"rgba\"==c[1].toLowerCase().slice(0,4)&&(f=K(d[3])),\n",
       "d[3]&&\"%\"==d[3].slice(-1)&&(f/=100));if(c[5])return d=c[5].split(S),b=K(d[0]),\"%\"==d[0].slice(-1)&&(b/=100),m=K(d[1]),\"%\"==d[1].slice(-1)&&(m/=100),e=K(d[2]),\"%\"==d[2].slice(-1)&&(e/=100),\"deg\"!=d[0].slice(-3)&&\"\\u00b0\"!=d[0].slice(-1)||(b/=360),\"hsba\"==c[1].toLowerCase().slice(0,4)&&(f=K(d[3])),d[3]&&\"%\"==d[3].slice(-1)&&(f/=100),a.hsb2rgb(b,m,e,f);if(c[6])return d=c[6].split(S),b=K(d[0]),\"%\"==d[0].slice(-1)&&(b/=100),m=K(d[1]),\"%\"==d[1].slice(-1)&&(m/=100),e=K(d[2]),\"%\"==d[2].slice(-1)&&(e/=100),\n",
       "\"deg\"!=d[0].slice(-3)&&\"\\u00b0\"!=d[0].slice(-1)||(b/=360),\"hsla\"==c[1].toLowerCase().slice(0,4)&&(f=K(d[3])),d[3]&&\"%\"==d[3].slice(-1)&&(f/=100),a.hsl2rgb(b,m,e,f);b=Q(I.round(b),255);m=Q(I.round(m),255);e=Q(I.round(e),255);f=Q(P(f,0),1);c={r:b,g:m,b:e,toString:ka};c.hex=\"#\"+(16777216|e|m<<8|b<<16).toString(16).slice(1);c.opacity=y(f,\"finite\")?f:1;return c}return{r:-1,g:-1,b:-1,hex:\"none\",error:1,toString:ka}},a);a.hsb=A(function(c,b,m){return a.hsb2rgb(c,b,m).hex});a.hsl=A(function(c,b,m){return a.hsl2rgb(c,\n",
       "b,m).hex});a.rgb=A(function(c,a,b,m){if(y(m,\"finite\")){var e=I.round;return\"rgba(\"+[e(c),e(a),e(b),+m.toFixed(2)]+\")\"}return\"#\"+(16777216|b|a<<8|c<<16).toString(16).slice(1)});var T=function(c){var a=G.doc.getElementsByTagName(\"head\")[0]||G.doc.getElementsByTagName(\"svg\")[0];T=A(function(c){if(\"red\"==c.toLowerCase())return\"rgb(255, 0, 0)\";a.style.color=\"rgb(255, 0, 0)\";a.style.color=c;c=G.doc.defaultView.getComputedStyle(a,aa).getPropertyValue(\"color\");return\"rgb(255, 0, 0)\"==c?null:c});return T(c)},\n",
       "qa=function(){return\"hsb(\"+[this.h,this.s,this.b]+\")\"},ra=function(){return\"hsl(\"+[this.h,this.s,this.l]+\")\"},ka=function(){return 1==this.opacity||null==this.opacity?this.hex:\"rgba(\"+[this.r,this.g,this.b,this.opacity]+\")\"},D=function(c,b,m){null==b&&y(c,\"object\")&&\"r\"in c&&\"g\"in c&&\"b\"in c&&(m=c.b,b=c.g,c=c.r);null==b&&y(c,string)&&(m=a.getRGB(c),c=m.r,b=m.g,m=m.b);if(1<c||1<b||1<m)c/=255,b/=255,m/=255;return[c,b,m]},oa=function(c,b,m,e){c=I.round(255*c);b=I.round(255*b);m=I.round(255*m);c={r:c,\n",
       "g:b,b:m,opacity:y(e,\"finite\")?e:1,hex:a.rgb(c,b,m),toString:ka};y(e,\"finite\")&&(c.opacity=e);return c};a.color=function(c){var b;y(c,\"object\")&&\"h\"in c&&\"s\"in c&&\"b\"in c?(b=a.hsb2rgb(c),c.r=b.r,c.g=b.g,c.b=b.b,c.opacity=1,c.hex=b.hex):y(c,\"object\")&&\"h\"in c&&\"s\"in c&&\"l\"in c?(b=a.hsl2rgb(c),c.r=b.r,c.g=b.g,c.b=b.b,c.opacity=1,c.hex=b.hex):(y(c,\"string\")&&(c=a.getRGB(c)),y(c,\"object\")&&\"r\"in c&&\"g\"in c&&\"b\"in c&&!(\"error\"in c)?(b=a.rgb2hsl(c),c.h=b.h,c.s=b.s,c.l=b.l,b=a.rgb2hsb(c),c.v=b.b):(c={hex:\"none\"},\n",
       "c.r=c.g=c.b=c.h=c.s=c.v=c.l=-1,c.error=1));c.toString=ka;return c};a.hsb2rgb=function(c,a,b,m){y(c,\"object\")&&\"h\"in c&&\"s\"in c&&\"b\"in c&&(b=c.b,a=c.s,c=c.h,m=c.o);var e,h,d;c=360*c%360/60;d=b*a;a=d*(1-Y(c%2-1));b=e=h=b-d;c=~~c;b+=[d,a,0,0,a,d][c];e+=[a,d,d,a,0,0][c];h+=[0,0,a,d,d,a][c];return oa(b,e,h,m)};a.hsl2rgb=function(c,a,b,m){y(c,\"object\")&&\"h\"in c&&\"s\"in c&&\"l\"in c&&(b=c.l,a=c.s,c=c.h);if(1<c||1<a||1<b)c/=360,a/=100,b/=100;var e,h,d;c=360*c%360/60;d=2*a*(0.5>b?b:1-b);a=d*(1-Y(c%2-1));b=e=\n",
       "h=b-d/2;c=~~c;b+=[d,a,0,0,a,d][c];e+=[a,d,d,a,0,0][c];h+=[0,0,a,d,d,a][c];return oa(b,e,h,m)};a.rgb2hsb=function(c,a,b){b=D(c,a,b);c=b[0];a=b[1];b=b[2];var m,e;m=P(c,a,b);e=m-Q(c,a,b);c=((0==e?0:m==c?(a-b)/e:m==a?(b-c)/e+2:(c-a)/e+4)+360)%6*60/360;return{h:c,s:0==e?0:e/m,b:m,toString:qa}};a.rgb2hsl=function(c,a,b){b=D(c,a,b);c=b[0];a=b[1];b=b[2];var m,e,h;m=P(c,a,b);e=Q(c,a,b);h=m-e;c=((0==h?0:m==c?(a-b)/h:m==a?(b-c)/h+2:(c-a)/h+4)+360)%6*60/360;m=(m+e)/2;return{h:c,s:0==h?0:0.5>m?h/(2*m):h/(2-2*\n",
       "m),l:m,toString:ra}};a.parsePathString=function(c){if(!c)return null;var b=a.path(c);if(b.arr)return a.path.clone(b.arr);var m={a:7,c:6,o:2,h:1,l:2,m:2,r:4,q:4,s:4,t:2,v:1,u:3,z:0},e=[];y(c,\"array\")&&y(c[0],\"array\")&&(e=a.path.clone(c));e.length||J(c).replace(W,function(c,a,b){var h=[];c=a.toLowerCase();b.replace(Z,function(c,a){a&&h.push(+a)});\"m\"==c&&2<h.length&&(e.push([a].concat(h.splice(0,2))),c=\"l\",a=\"m\"==a?\"l\":\"L\");\"o\"==c&&1==h.length&&e.push([a,h[0] ]);if(\"r\"==c)e.push([a].concat(h));else for(;h.length>=\n",
       "m[c]&&(e.push([a].concat(h.splice(0,m[c]))),m[c]););});e.toString=a.path.toString;b.arr=a.path.clone(e);return e};var O=a.parseTransformString=function(c){if(!c)return null;var b=[];y(c,\"array\")&&y(c[0],\"array\")&&(b=a.path.clone(c));b.length||J(c).replace(ma,function(c,a,m){var e=[];a.toLowerCase();m.replace(Z,function(c,a){a&&e.push(+a)});b.push([a].concat(e))});b.toString=a.path.toString;return b};a._.svgTransform2string=d;a._.rgTransform=RegExp(\"^[a-z][\\t\\n\\x0B\\f\\r \\u00a0\\u1680\\u180e\\u2000\\u2001\\u2002\\u2003\\u2004\\u2005\\u2006\\u2007\\u2008\\u2009\\u200a\\u202f\\u205f\\u3000\\u2028\\u2029]*-?\\\\.?\\\\d\",\n",
       "\"i\");a._.transform2matrix=f;a._unit2px=b;a._.getSomeDefs=u;a._.getSomeSVG=p;a.select=function(c){return x(G.doc.querySelector(c))};a.selectAll=function(c){c=G.doc.querySelectorAll(c);for(var b=(a.set||Array)(),m=0;m<c.length;m++)b.push(x(c[m]));return b};setInterval(function(){for(var c in E)if(E[h](c)){var a=E[c],b=a.node;(\"svg\"!=a.type&&!b.ownerSVGElement||\"svg\"==a.type&&(!b.parentNode||\"ownerSVGElement\"in b.parentNode&&!b.ownerSVGElement))&&delete E[c]}},1E4);(function(c){function m(c){function a(c,\n",
       "b){var m=v(c.node,b);(m=(m=m&&m.match(d))&&m[2])&&\"#\"==m.charAt()&&(m=m.substring(1))&&(f[m]=(f[m]||[]).concat(function(a){var m={};m[b]=ca(a);v(c.node,m)}))}function b(c){var a=v(c.node,\"xlink:href\");a&&\"#\"==a.charAt()&&(a=a.substring(1))&&(f[a]=(f[a]||[]).concat(function(a){c.attr(\"xlink:href\",\"#\"+a)}))}var e=c.selectAll(\"*\"),h,d=/^\\s*url\\((\"|'|)(.*)\\1\\)\\s*$/;c=[];for(var f={},l=0,E=e.length;l<E;l++){h=e[l];a(h,\"fill\");a(h,\"stroke\");a(h,\"filter\");a(h,\"mask\");a(h,\"clip-path\");b(h);var t=v(h.node,\n",
       "\"id\");t&&(v(h.node,{id:h.id}),c.push({old:t,id:h.id}))}l=0;for(E=c.length;l<E;l++)if(e=f[c[l].old])for(h=0,t=e.length;h<t;h++)e[h](c[l].id)}function e(c,a,b){return function(m){m=m.slice(c,a);1==m.length&&(m=m[0]);return b?b(m):m}}function d(c){return function(){var a=c?\"<\"+this.type:\"\",b=this.node.attributes,m=this.node.childNodes;if(c)for(var e=0,h=b.length;e<h;e++)a+=\" \"+b[e].name+'=\"'+b[e].value.replace(/\"/g,'\\\\\"')+'\"';if(m.length){c&&(a+=\">\");e=0;for(h=m.length;e<h;e++)3==m[e].nodeType?a+=m[e].nodeValue:\n",
       "1==m[e].nodeType&&(a+=x(m[e]).toString());c&&(a+=\"</\"+this.type+\">\")}else c&&(a+=\"/>\");return a}}c.attr=function(c,a){if(!c)return this;if(y(c,\"string\"))if(1<arguments.length){var b={};b[c]=a;c=b}else return k(\"snap.util.getattr.\"+c,this).firstDefined();for(var m in c)c[h](m)&&k(\"snap.util.attr.\"+m,this,c[m]);return this};c.getBBox=function(c){if(!a.Matrix||!a.path)return this.node.getBBox();var b=this,m=new a.Matrix;if(b.removed)return a._.box();for(;\"use\"==b.type;)if(c||(m=m.add(b.transform().localMatrix.translate(b.attr(\"x\")||\n",
       "0,b.attr(\"y\")||0))),b.original)b=b.original;else var e=b.attr(\"xlink:href\"),b=b.original=b.node.ownerDocument.getElementById(e.substring(e.indexOf(\"#\")+1));var e=b._,h=a.path.get[b.type]||a.path.get.deflt;try{if(c)return e.bboxwt=h?a.path.getBBox(b.realPath=h(b)):a._.box(b.node.getBBox()),a._.box(e.bboxwt);b.realPath=h(b);b.matrix=b.transform().localMatrix;e.bbox=a.path.getBBox(a.path.map(b.realPath,m.add(b.matrix)));return a._.box(e.bbox)}catch(d){return a._.box()}};var f=function(){return this.string};\n",
       "c.transform=function(c){var b=this._;if(null==c){var m=this;c=new a.Matrix(this.node.getCTM());for(var e=n(this),h=[e],d=new a.Matrix,l=e.toTransformString(),b=J(e)==J(this.matrix)?J(b.transform):l;\"svg\"!=m.type&&(m=m.parent());)h.push(n(m));for(m=h.length;m--;)d.add(h[m]);return{string:b,globalMatrix:c,totalMatrix:d,localMatrix:e,diffMatrix:c.clone().add(e.invert()),global:c.toTransformString(),total:d.toTransformString(),local:l,toString:f}}c instanceof a.Matrix?this.matrix=c:n(this,c);this.node&&\n",
       "(\"linearGradient\"==this.type||\"radialGradient\"==this.type?v(this.node,{gradientTransform:this.matrix}):\"pattern\"==this.type?v(this.node,{patternTransform:this.matrix}):v(this.node,{transform:this.matrix}));return this};c.parent=function(){return x(this.node.parentNode)};c.append=c.add=function(c){if(c){if(\"set\"==c.type){var a=this;c.forEach(function(c){a.add(c)});return this}c=x(c);this.node.appendChild(c.node);c.paper=this.paper}return this};c.appendTo=function(c){c&&(c=x(c),c.append(this));return this};\n",
       "c.prepend=function(c){if(c){if(\"set\"==c.type){var a=this,b;c.forEach(function(c){b?b.after(c):a.prepend(c);b=c});return this}c=x(c);var m=c.parent();this.node.insertBefore(c.node,this.node.firstChild);this.add&&this.add();c.paper=this.paper;this.parent()&&this.parent().add();m&&m.add()}return this};c.prependTo=function(c){c=x(c);c.prepend(this);return this};c.before=function(c){if(\"set\"==c.type){var a=this;c.forEach(function(c){var b=c.parent();a.node.parentNode.insertBefore(c.node,a.node);b&&b.add()});\n",
       "this.parent().add();return this}c=x(c);var b=c.parent();this.node.parentNode.insertBefore(c.node,this.node);this.parent()&&this.parent().add();b&&b.add();c.paper=this.paper;return this};c.after=function(c){c=x(c);var a=c.parent();this.node.nextSibling?this.node.parentNode.insertBefore(c.node,this.node.nextSibling):this.node.parentNode.appendChild(c.node);this.parent()&&this.parent().add();a&&a.add();c.paper=this.paper;return this};c.insertBefore=function(c){c=x(c);var a=this.parent();c.node.parentNode.insertBefore(this.node,\n",
       "c.node);this.paper=c.paper;a&&a.add();c.parent()&&c.parent().add();return this};c.insertAfter=function(c){c=x(c);var a=this.parent();c.node.parentNode.insertBefore(this.node,c.node.nextSibling);this.paper=c.paper;a&&a.add();c.parent()&&c.parent().add();return this};c.remove=function(){var c=this.parent();this.node.parentNode&&this.node.parentNode.removeChild(this.node);delete this.paper;this.removed=!0;c&&c.add();return this};c.select=function(c){return x(this.node.querySelector(c))};c.selectAll=\n",
       "function(c){c=this.node.querySelectorAll(c);for(var b=(a.set||Array)(),m=0;m<c.length;m++)b.push(x(c[m]));return b};c.asPX=function(c,a){null==a&&(a=this.attr(c));return+b(this,c,a)};c.use=function(){var c,a=this.node.id;a||(a=this.id,v(this.node,{id:a}));c=\"linearGradient\"==this.type||\"radialGradient\"==this.type||\"pattern\"==this.type?r(this.type,this.node.parentNode):r(\"use\",this.node.parentNode);v(c.node,{\"xlink:href\":\"#\"+a});c.original=this;return c};var l=/\\S+/g;c.addClass=function(c){var a=(c||\n",
       "\"\").match(l)||[];c=this.node;var b=c.className.baseVal,m=b.match(l)||[],e,h,d;if(a.length){for(e=0;d=a[e++];)h=m.indexOf(d),~h||m.push(d);a=m.join(\" \");b!=a&&(c.className.baseVal=a)}return this};c.removeClass=function(c){var a=(c||\"\").match(l)||[];c=this.node;var b=c.className.baseVal,m=b.match(l)||[],e,h;if(m.length){for(e=0;h=a[e++];)h=m.indexOf(h),~h&&m.splice(h,1);a=m.join(\" \");b!=a&&(c.className.baseVal=a)}return this};c.hasClass=function(c){return!!~(this.node.className.baseVal.match(l)||[]).indexOf(c)};\n",
       "c.toggleClass=function(c,a){if(null!=a)return a?this.addClass(c):this.removeClass(c);var b=(c||\"\").match(l)||[],m=this.node,e=m.className.baseVal,h=e.match(l)||[],d,f,E;for(d=0;E=b[d++];)f=h.indexOf(E),~f?h.splice(f,1):h.push(E);b=h.join(\" \");e!=b&&(m.className.baseVal=b);return this};c.clone=function(){var c=x(this.node.cloneNode(!0));v(c.node,\"id\")&&v(c.node,{id:c.id});m(c);c.insertAfter(this);return c};c.toDefs=function(){u(this).appendChild(this.node);return this};c.pattern=c.toPattern=function(c,\n",
       "a,b,m){var e=r(\"pattern\",u(this));null==c&&(c=this.getBBox());y(c,\"object\")&&\"x\"in c&&(a=c.y,b=c.width,m=c.height,c=c.x);v(e.node,{x:c,y:a,width:b,height:m,patternUnits:\"userSpaceOnUse\",id:e.id,viewBox:[c,a,b,m].join(\" \")});e.node.appendChild(this.node);return e};c.marker=function(c,a,b,m,e,h){var d=r(\"marker\",u(this));null==c&&(c=this.getBBox());y(c,\"object\")&&\"x\"in c&&(a=c.y,b=c.width,m=c.height,e=c.refX||c.cx,h=c.refY||c.cy,c=c.x);v(d.node,{viewBox:[c,a,b,m].join(\" \"),markerWidth:b,markerHeight:m,\n",
       "orient:\"auto\",refX:e||0,refY:h||0,id:d.id});d.node.appendChild(this.node);return d};var E=function(c,a,b,m){\"function\"!=typeof b||b.length||(m=b,b=L.linear);this.attr=c;this.dur=a;b&&(this.easing=b);m&&(this.callback=m)};a._.Animation=E;a.animation=function(c,a,b,m){return new E(c,a,b,m)};c.inAnim=function(){var c=[],a;for(a in this.anims)this.anims[h](a)&&function(a){c.push({anim:new E(a._attrs,a.dur,a.easing,a._callback),mina:a,curStatus:a.status(),status:function(c){return a.status(c)},stop:function(){a.stop()}})}(this.anims[a]);\n",
       "return c};a.animate=function(c,a,b,m,e,h){\"function\"!=typeof e||e.length||(h=e,e=L.linear);var d=L.time();c=L(c,a,d,d+m,L.time,b,e);h&&k.once(\"mina.finish.\"+c.id,h);return c};c.stop=function(){for(var c=this.inAnim(),a=0,b=c.length;a<b;a++)c[a].stop();return this};c.animate=function(c,a,b,m){\"function\"!=typeof b||b.length||(m=b,b=L.linear);c instanceof E&&(m=c.callback,b=c.easing,a=b.dur,c=c.attr);var d=[],f=[],l={},t,ca,n,T=this,q;for(q in c)if(c[h](q)){T.equal?(n=T.equal(q,J(c[q])),t=n.from,ca=\n",
       "n.to,n=n.f):(t=+T.attr(q),ca=+c[q]);var la=y(t,\"array\")?t.length:1;l[q]=e(d.length,d.length+la,n);d=d.concat(t);f=f.concat(ca)}t=L.time();var p=L(d,f,t,t+a,L.time,function(c){var a={},b;for(b in l)l[h](b)&&(a[b]=l[b](c));T.attr(a)},b);T.anims[p.id]=p;p._attrs=c;p._callback=m;k(\"snap.animcreated.\"+T.id,p);k.once(\"mina.finish.\"+p.id,function(){delete T.anims[p.id];m&&m.call(T)});k.once(\"mina.stop.\"+p.id,function(){delete T.anims[p.id]});return T};var T={};c.data=function(c,b){var m=T[this.id]=T[this.id]||\n",
       "{};if(0==arguments.length)return k(\"snap.data.get.\"+this.id,this,m,null),m;if(1==arguments.length){if(a.is(c,\"object\")){for(var e in c)c[h](e)&&this.data(e,c[e]);return this}k(\"snap.data.get.\"+this.id,this,m[c],c);return m[c]}m[c]=b;k(\"snap.data.set.\"+this.id,this,b,c);return this};c.removeData=function(c){null==c?T[this.id]={}:T[this.id]&&delete T[this.id][c];return this};c.outerSVG=c.toString=d(1);c.innerSVG=d()})(e.prototype);a.parse=function(c){var a=G.doc.createDocumentFragment(),b=!0,m=G.doc.createElement(\"div\");\n",
       "c=J(c);c.match(/^\\s*<\\s*svg(?:\\s|>)/)||(c=\"<svg>\"+c+\"</svg>\",b=!1);m.innerHTML=c;if(c=m.getElementsByTagName(\"svg\")[0])if(b)a=c;else for(;c.firstChild;)a.appendChild(c.firstChild);m.innerHTML=aa;return new l(a)};l.prototype.select=e.prototype.select;l.prototype.selectAll=e.prototype.selectAll;a.fragment=function(){for(var c=Array.prototype.slice.call(arguments,0),b=G.doc.createDocumentFragment(),m=0,e=c.length;m<e;m++){var h=c[m];h.node&&h.node.nodeType&&b.appendChild(h.node);h.nodeType&&b.appendChild(h);\n",
       "\"string\"==typeof h&&b.appendChild(a.parse(h).node)}return new l(b)};a._.make=r;a._.wrap=x;s.prototype.el=function(c,a){var b=r(c,this.node);a&&b.attr(a);return b};k.on(\"snap.util.getattr\",function(){var c=k.nt(),c=c.substring(c.lastIndexOf(\".\")+1),a=c.replace(/[A-Z]/g,function(c){return\"-\"+c.toLowerCase()});return pa[h](a)?this.node.ownerDocument.defaultView.getComputedStyle(this.node,null).getPropertyValue(a):v(this.node,c)});var pa={\"alignment-baseline\":0,\"baseline-shift\":0,clip:0,\"clip-path\":0,\n",
       "\"clip-rule\":0,color:0,\"color-interpolation\":0,\"color-interpolation-filters\":0,\"color-profile\":0,\"color-rendering\":0,cursor:0,direction:0,display:0,\"dominant-baseline\":0,\"enable-background\":0,fill:0,\"fill-opacity\":0,\"fill-rule\":0,filter:0,\"flood-color\":0,\"flood-opacity\":0,font:0,\"font-family\":0,\"font-size\":0,\"font-size-adjust\":0,\"font-stretch\":0,\"font-style\":0,\"font-variant\":0,\"font-weight\":0,\"glyph-orientation-horizontal\":0,\"glyph-orientation-vertical\":0,\"image-rendering\":0,kerning:0,\"letter-spacing\":0,\n",
       "\"lighting-color\":0,marker:0,\"marker-end\":0,\"marker-mid\":0,\"marker-start\":0,mask:0,opacity:0,overflow:0,\"pointer-events\":0,\"shape-rendering\":0,\"stop-color\":0,\"stop-opacity\":0,stroke:0,\"stroke-dasharray\":0,\"stroke-dashoffset\":0,\"stroke-linecap\":0,\"stroke-linejoin\":0,\"stroke-miterlimit\":0,\"stroke-opacity\":0,\"stroke-width\":0,\"text-anchor\":0,\"text-decoration\":0,\"text-rendering\":0,\"unicode-bidi\":0,visibility:0,\"word-spacing\":0,\"writing-mode\":0};k.on(\"snap.util.attr\",function(c){var a=k.nt(),b={},a=a.substring(a.lastIndexOf(\".\")+\n",
       "1);b[a]=c;var m=a.replace(/-(\\w)/gi,function(c,a){return a.toUpperCase()}),a=a.replace(/[A-Z]/g,function(c){return\"-\"+c.toLowerCase()});pa[h](a)?this.node.style[m]=null==c?aa:c:v(this.node,b)});a.ajax=function(c,a,b,m){var e=new XMLHttpRequest,h=V();if(e){if(y(a,\"function\"))m=b,b=a,a=null;else if(y(a,\"object\")){var d=[],f;for(f in a)a.hasOwnProperty(f)&&d.push(encodeURIComponent(f)+\"=\"+encodeURIComponent(a[f]));a=d.join(\"&\")}e.open(a?\"POST\":\"GET\",c,!0);a&&(e.setRequestHeader(\"X-Requested-With\",\"XMLHttpRequest\"),\n",
       "e.setRequestHeader(\"Content-type\",\"application/x-www-form-urlencoded\"));b&&(k.once(\"snap.ajax.\"+h+\".0\",b),k.once(\"snap.ajax.\"+h+\".200\",b),k.once(\"snap.ajax.\"+h+\".304\",b));e.onreadystatechange=function(){4==e.readyState&&k(\"snap.ajax.\"+h+\".\"+e.status,m,e)};if(4==e.readyState)return e;e.send(a);return e}};a.load=function(c,b,m){a.ajax(c,function(c){c=a.parse(c.responseText);m?b.call(m,c):b(c)})};a.getElementByPoint=function(c,a){var b,m,e=G.doc.elementFromPoint(c,a);if(G.win.opera&&\"svg\"==e.tagName){b=\n",
       "e;m=b.getBoundingClientRect();b=b.ownerDocument;var h=b.body,d=b.documentElement;b=m.top+(g.win.pageYOffset||d.scrollTop||h.scrollTop)-(d.clientTop||h.clientTop||0);m=m.left+(g.win.pageXOffset||d.scrollLeft||h.scrollLeft)-(d.clientLeft||h.clientLeft||0);h=e.createSVGRect();h.x=c-m;h.y=a-b;h.width=h.height=1;b=e.getIntersectionList(h,null);b.length&&(e=b[b.length-1])}return e?x(e):null};a.plugin=function(c){c(a,e,s,G,l)};return G.win.Snap=a}();C.plugin(function(a,k,y,M,A){function w(a,d,f,b,q,e){null==\n",
       "d&&\"[object SVGMatrix]\"==z.call(a)?(this.a=a.a,this.b=a.b,this.c=a.c,this.d=a.d,this.e=a.e,this.f=a.f):null!=a?(this.a=+a,this.b=+d,this.c=+f,this.d=+b,this.e=+q,this.f=+e):(this.a=1,this.c=this.b=0,this.d=1,this.f=this.e=0)}var z=Object.prototype.toString,d=String,f=Math;(function(n){function k(a){return a[0]*a[0]+a[1]*a[1]}function p(a){var d=f.sqrt(k(a));a[0]&&(a[0]/=d);a[1]&&(a[1]/=d)}n.add=function(a,d,e,f,n,p){var k=[[],[],[] ],u=[[this.a,this.c,this.e],[this.b,this.d,this.f],[0,0,1] ];d=[[a,\n",
       "e,n],[d,f,p],[0,0,1] ];a&&a instanceof w&&(d=[[a.a,a.c,a.e],[a.b,a.d,a.f],[0,0,1] ]);for(a=0;3>a;a++)for(e=0;3>e;e++){for(f=n=0;3>f;f++)n+=u[a][f]*d[f][e];k[a][e]=n}this.a=k[0][0];this.b=k[1][0];this.c=k[0][1];this.d=k[1][1];this.e=k[0][2];this.f=k[1][2];return this};n.invert=function(){var a=this.a*this.d-this.b*this.c;return new w(this.d/a,-this.b/a,-this.c/a,this.a/a,(this.c*this.f-this.d*this.e)/a,(this.b*this.e-this.a*this.f)/a)};n.clone=function(){return new w(this.a,this.b,this.c,this.d,this.e,\n",
       "this.f)};n.translate=function(a,d){return this.add(1,0,0,1,a,d)};n.scale=function(a,d,e,f){null==d&&(d=a);(e||f)&&this.add(1,0,0,1,e,f);this.add(a,0,0,d,0,0);(e||f)&&this.add(1,0,0,1,-e,-f);return this};n.rotate=function(b,d,e){b=a.rad(b);d=d||0;e=e||0;var l=+f.cos(b).toFixed(9);b=+f.sin(b).toFixed(9);this.add(l,b,-b,l,d,e);return this.add(1,0,0,1,-d,-e)};n.x=function(a,d){return a*this.a+d*this.c+this.e};n.y=function(a,d){return a*this.b+d*this.d+this.f};n.get=function(a){return+this[d.fromCharCode(97+\n",
       "a)].toFixed(4)};n.toString=function(){return\"matrix(\"+[this.get(0),this.get(1),this.get(2),this.get(3),this.get(4),this.get(5)].join()+\")\"};n.offset=function(){return[this.e.toFixed(4),this.f.toFixed(4)]};n.determinant=function(){return this.a*this.d-this.b*this.c};n.split=function(){var b={};b.dx=this.e;b.dy=this.f;var d=[[this.a,this.c],[this.b,this.d] ];b.scalex=f.sqrt(k(d[0]));p(d[0]);b.shear=d[0][0]*d[1][0]+d[0][1]*d[1][1];d[1]=[d[1][0]-d[0][0]*b.shear,d[1][1]-d[0][1]*b.shear];b.scaley=f.sqrt(k(d[1]));\n",
       "p(d[1]);b.shear/=b.scaley;0>this.determinant()&&(b.scalex=-b.scalex);var e=-d[0][1],d=d[1][1];0>d?(b.rotate=a.deg(f.acos(d)),0>e&&(b.rotate=360-b.rotate)):b.rotate=a.deg(f.asin(e));b.isSimple=!+b.shear.toFixed(9)&&(b.scalex.toFixed(9)==b.scaley.toFixed(9)||!b.rotate);b.isSuperSimple=!+b.shear.toFixed(9)&&b.scalex.toFixed(9)==b.scaley.toFixed(9)&&!b.rotate;b.noRotation=!+b.shear.toFixed(9)&&!b.rotate;return b};n.toTransformString=function(a){a=a||this.split();if(+a.shear.toFixed(9))return\"m\"+[this.get(0),\n",
       "this.get(1),this.get(2),this.get(3),this.get(4),this.get(5)];a.scalex=+a.scalex.toFixed(4);a.scaley=+a.scaley.toFixed(4);a.rotate=+a.rotate.toFixed(4);return(a.dx||a.dy?\"t\"+[+a.dx.toFixed(4),+a.dy.toFixed(4)]:\"\")+(1!=a.scalex||1!=a.scaley?\"s\"+[a.scalex,a.scaley,0,0]:\"\")+(a.rotate?\"r\"+[+a.rotate.toFixed(4),0,0]:\"\")}})(w.prototype);a.Matrix=w;a.matrix=function(a,d,f,b,k,e){return new w(a,d,f,b,k,e)}});C.plugin(function(a,v,y,M,A){function w(h){return function(d){k.stop();d instanceof A&&1==d.node.childNodes.length&&\n",
       "(\"radialGradient\"==d.node.firstChild.tagName||\"linearGradient\"==d.node.firstChild.tagName||\"pattern\"==d.node.firstChild.tagName)&&(d=d.node.firstChild,b(this).appendChild(d),d=u(d));if(d instanceof v)if(\"radialGradient\"==d.type||\"linearGradient\"==d.type||\"pattern\"==d.type){d.node.id||e(d.node,{id:d.id});var f=l(d.node.id)}else f=d.attr(h);else f=a.color(d),f.error?(f=a(b(this).ownerSVGElement).gradient(d))?(f.node.id||e(f.node,{id:f.id}),f=l(f.node.id)):f=d:f=r(f);d={};d[h]=f;e(this.node,d);this.node.style[h]=\n",
       "x}}function z(a){k.stop();a==+a&&(a+=\"px\");this.node.style.fontSize=a}function d(a){var b=[];a=a.childNodes;for(var e=0,f=a.length;e<f;e++){var l=a[e];3==l.nodeType&&b.push(l.nodeValue);\"tspan\"==l.tagName&&(1==l.childNodes.length&&3==l.firstChild.nodeType?b.push(l.firstChild.nodeValue):b.push(d(l)))}return b}function f(){k.stop();return this.node.style.fontSize}var n=a._.make,u=a._.wrap,p=a.is,b=a._.getSomeDefs,q=/^url\\(#?([^)]+)\\)$/,e=a._.$,l=a.url,r=String,s=a._.separator,x=\"\";k.on(\"snap.util.attr.mask\",\n",
       "function(a){if(a instanceof v||a instanceof A){k.stop();a instanceof A&&1==a.node.childNodes.length&&(a=a.node.firstChild,b(this).appendChild(a),a=u(a));if(\"mask\"==a.type)var d=a;else d=n(\"mask\",b(this)),d.node.appendChild(a.node);!d.node.id&&e(d.node,{id:d.id});e(this.node,{mask:l(d.id)})}});(function(a){k.on(\"snap.util.attr.clip\",a);k.on(\"snap.util.attr.clip-path\",a);k.on(\"snap.util.attr.clipPath\",a)})(function(a){if(a instanceof v||a instanceof A){k.stop();if(\"clipPath\"==a.type)var d=a;else d=\n",
       "n(\"clipPath\",b(this)),d.node.appendChild(a.node),!d.node.id&&e(d.node,{id:d.id});e(this.node,{\"clip-path\":l(d.id)})}});k.on(\"snap.util.attr.fill\",w(\"fill\"));k.on(\"snap.util.attr.stroke\",w(\"stroke\"));var G=/^([lr])(?:\\(([^)]*)\\))?(.*)$/i;k.on(\"snap.util.grad.parse\",function(a){a=r(a);var b=a.match(G);if(!b)return null;a=b[1];var e=b[2],b=b[3],e=e.split(/\\s*,\\s*/).map(function(a){return+a==a?+a:a});1==e.length&&0==e[0]&&(e=[]);b=b.split(\"-\");b=b.map(function(a){a=a.split(\":\");var b={color:a[0]};a[1]&&\n",
       "(b.offset=parseFloat(a[1]));return b});return{type:a,params:e,stops:b}});k.on(\"snap.util.attr.d\",function(b){k.stop();p(b,\"array\")&&p(b[0],\"array\")&&(b=a.path.toString.call(b));b=r(b);b.match(/[ruo]/i)&&(b=a.path.toAbsolute(b));e(this.node,{d:b})})(-1);k.on(\"snap.util.attr.#text\",function(a){k.stop();a=r(a);for(a=M.doc.createTextNode(a);this.node.firstChild;)this.node.removeChild(this.node.firstChild);this.node.appendChild(a)})(-1);k.on(\"snap.util.attr.path\",function(a){k.stop();this.attr({d:a})})(-1);\n",
       "k.on(\"snap.util.attr.class\",function(a){k.stop();this.node.className.baseVal=a})(-1);k.on(\"snap.util.attr.viewBox\",function(a){a=p(a,\"object\")&&\"x\"in a?[a.x,a.y,a.width,a.height].join(\" \"):p(a,\"array\")?a.join(\" \"):a;e(this.node,{viewBox:a});k.stop()})(-1);k.on(\"snap.util.attr.transform\",function(a){this.transform(a);k.stop()})(-1);k.on(\"snap.util.attr.r\",function(a){\"rect\"==this.type&&(k.stop(),e(this.node,{rx:a,ry:a}))})(-1);k.on(\"snap.util.attr.textpath\",function(a){k.stop();if(\"text\"==this.type){var d,\n",
       "f;if(!a&&this.textPath){for(a=this.textPath;a.node.firstChild;)this.node.appendChild(a.node.firstChild);a.remove();delete this.textPath}else if(p(a,\"string\")?(d=b(this),a=u(d.parentNode).path(a),d.appendChild(a.node),d=a.id,a.attr({id:d})):(a=u(a),a instanceof v&&(d=a.attr(\"id\"),d||(d=a.id,a.attr({id:d})))),d)if(a=this.textPath,f=this.node,a)a.attr({\"xlink:href\":\"#\"+d});else{for(a=e(\"textPath\",{\"xlink:href\":\"#\"+d});f.firstChild;)a.appendChild(f.firstChild);f.appendChild(a);this.textPath=u(a)}}})(-1);\n",
       "k.on(\"snap.util.attr.text\",function(a){if(\"text\"==this.type){for(var b=this.node,d=function(a){var b=e(\"tspan\");if(p(a,\"array\"))for(var f=0;f<a.length;f++)b.appendChild(d(a[f]));else b.appendChild(M.doc.createTextNode(a));b.normalize&&b.normalize();return b};b.firstChild;)b.removeChild(b.firstChild);for(a=d(a);a.firstChild;)b.appendChild(a.firstChild)}k.stop()})(-1);k.on(\"snap.util.attr.fontSize\",z)(-1);k.on(\"snap.util.attr.font-size\",z)(-1);k.on(\"snap.util.getattr.transform\",function(){k.stop();\n",
       "return this.transform()})(-1);k.on(\"snap.util.getattr.textpath\",function(){k.stop();return this.textPath})(-1);(function(){function b(d){return function(){k.stop();var b=M.doc.defaultView.getComputedStyle(this.node,null).getPropertyValue(\"marker-\"+d);return\"none\"==b?b:a(M.doc.getElementById(b.match(q)[1]))}}function d(a){return function(b){k.stop();var d=\"marker\"+a.charAt(0).toUpperCase()+a.substring(1);if(\"\"==b||!b)this.node.style[d]=\"none\";else if(\"marker\"==b.type){var f=b.node.id;f||e(b.node,{id:b.id});\n",
       "this.node.style[d]=l(f)}}}k.on(\"snap.util.getattr.marker-end\",b(\"end\"))(-1);k.on(\"snap.util.getattr.markerEnd\",b(\"end\"))(-1);k.on(\"snap.util.getattr.marker-start\",b(\"start\"))(-1);k.on(\"snap.util.getattr.markerStart\",b(\"start\"))(-1);k.on(\"snap.util.getattr.marker-mid\",b(\"mid\"))(-1);k.on(\"snap.util.getattr.markerMid\",b(\"mid\"))(-1);k.on(\"snap.util.attr.marker-end\",d(\"end\"))(-1);k.on(\"snap.util.attr.markerEnd\",d(\"end\"))(-1);k.on(\"snap.util.attr.marker-start\",d(\"start\"))(-1);k.on(\"snap.util.attr.markerStart\",\n",
       "d(\"start\"))(-1);k.on(\"snap.util.attr.marker-mid\",d(\"mid\"))(-1);k.on(\"snap.util.attr.markerMid\",d(\"mid\"))(-1)})();k.on(\"snap.util.getattr.r\",function(){if(\"rect\"==this.type&&e(this.node,\"rx\")==e(this.node,\"ry\"))return k.stop(),e(this.node,\"rx\")})(-1);k.on(\"snap.util.getattr.text\",function(){if(\"text\"==this.type||\"tspan\"==this.type){k.stop();var a=d(this.node);return 1==a.length?a[0]:a}})(-1);k.on(\"snap.util.getattr.#text\",function(){return this.node.textContent})(-1);k.on(\"snap.util.getattr.viewBox\",\n",
       "function(){k.stop();var b=e(this.node,\"viewBox\");if(b)return b=b.split(s),a._.box(+b[0],+b[1],+b[2],+b[3])})(-1);k.on(\"snap.util.getattr.points\",function(){var a=e(this.node,\"points\");k.stop();if(a)return a.split(s)})(-1);k.on(\"snap.util.getattr.path\",function(){var a=e(this.node,\"d\");k.stop();return a})(-1);k.on(\"snap.util.getattr.class\",function(){return this.node.className.baseVal})(-1);k.on(\"snap.util.getattr.fontSize\",f)(-1);k.on(\"snap.util.getattr.font-size\",f)(-1)});C.plugin(function(a,v,y,\n",
       "M,A){function w(a){return a}function z(a){return function(b){return+b.toFixed(3)+a}}var d={\"+\":function(a,b){return a+b},\"-\":function(a,b){return a-b},\"/\":function(a,b){return a/b},\"*\":function(a,b){return a*b}},f=String,n=/[a-z]+$/i,u=/^\\s*([+\\-\\/*])\\s*=\\s*([\\d.eE+\\-]+)\\s*([^\\d\\s]+)?\\s*$/;k.on(\"snap.util.attr\",function(a){if(a=f(a).match(u)){var b=k.nt(),b=b.substring(b.lastIndexOf(\".\")+1),q=this.attr(b),e={};k.stop();var l=a[3]||\"\",r=q.match(n),s=d[a[1] ];r&&r==l?a=s(parseFloat(q),+a[2]):(q=this.asPX(b),\n",
       "a=s(this.asPX(b),this.asPX(b,a[2]+l)));isNaN(q)||isNaN(a)||(e[b]=a,this.attr(e))}})(-10);k.on(\"snap.util.equal\",function(a,b){var q=f(this.attr(a)||\"\"),e=f(b).match(u);if(e){k.stop();var l=e[3]||\"\",r=q.match(n),s=d[e[1] ];if(r&&r==l)return{from:parseFloat(q),to:s(parseFloat(q),+e[2]),f:z(r)};q=this.asPX(a);return{from:q,to:s(q,this.asPX(a,e[2]+l)),f:w}}})(-10)});C.plugin(function(a,v,y,M,A){var w=y.prototype,z=a.is;w.rect=function(a,d,k,p,b,q){var e;null==q&&(q=b);z(a,\"object\")&&\"[object Object]\"==\n",
       "a?e=a:null!=a&&(e={x:a,y:d,width:k,height:p},null!=b&&(e.rx=b,e.ry=q));return this.el(\"rect\",e)};w.circle=function(a,d,k){var p;z(a,\"object\")&&\"[object Object]\"==a?p=a:null!=a&&(p={cx:a,cy:d,r:k});return this.el(\"circle\",p)};var d=function(){function a(){this.parentNode.removeChild(this)}return function(d,k){var p=M.doc.createElement(\"img\"),b=M.doc.body;p.style.cssText=\"position:absolute;left:-9999em;top:-9999em\";p.onload=function(){k.call(p);p.onload=p.onerror=null;b.removeChild(p)};p.onerror=a;\n",
       "b.appendChild(p);p.src=d}}();w.image=function(f,n,k,p,b){var q=this.el(\"image\");if(z(f,\"object\")&&\"src\"in f)q.attr(f);else if(null!=f){var e={\"xlink:href\":f,preserveAspectRatio:\"none\"};null!=n&&null!=k&&(e.x=n,e.y=k);null!=p&&null!=b?(e.width=p,e.height=b):d(f,function(){a._.$(q.node,{width:this.offsetWidth,height:this.offsetHeight})});a._.$(q.node,e)}return q};w.ellipse=function(a,d,k,p){var b;z(a,\"object\")&&\"[object Object]\"==a?b=a:null!=a&&(b={cx:a,cy:d,rx:k,ry:p});return this.el(\"ellipse\",b)};\n",
       "w.path=function(a){var d;z(a,\"object\")&&!z(a,\"array\")?d=a:a&&(d={d:a});return this.el(\"path\",d)};w.group=w.g=function(a){var d=this.el(\"g\");1==arguments.length&&a&&!a.type?d.attr(a):arguments.length&&d.add(Array.prototype.slice.call(arguments,0));return d};w.svg=function(a,d,k,p,b,q,e,l){var r={};z(a,\"object\")&&null==d?r=a:(null!=a&&(r.x=a),null!=d&&(r.y=d),null!=k&&(r.width=k),null!=p&&(r.height=p),null!=b&&null!=q&&null!=e&&null!=l&&(r.viewBox=[b,q,e,l]));return this.el(\"svg\",r)};w.mask=function(a){var d=\n",
       "this.el(\"mask\");1==arguments.length&&a&&!a.type?d.attr(a):arguments.length&&d.add(Array.prototype.slice.call(arguments,0));return d};w.ptrn=function(a,d,k,p,b,q,e,l){if(z(a,\"object\"))var r=a;else arguments.length?(r={},null!=a&&(r.x=a),null!=d&&(r.y=d),null!=k&&(r.width=k),null!=p&&(r.height=p),null!=b&&null!=q&&null!=e&&null!=l&&(r.viewBox=[b,q,e,l])):r={patternUnits:\"userSpaceOnUse\"};return this.el(\"pattern\",r)};w.use=function(a){return null!=a?(make(\"use\",this.node),a instanceof v&&(a.attr(\"id\")||\n",
       "a.attr({id:ID()}),a=a.attr(\"id\")),this.el(\"use\",{\"xlink:href\":a})):v.prototype.use.call(this)};w.text=function(a,d,k){var p={};z(a,\"object\")?p=a:null!=a&&(p={x:a,y:d,text:k||\"\"});return this.el(\"text\",p)};w.line=function(a,d,k,p){var b={};z(a,\"object\")?b=a:null!=a&&(b={x1:a,x2:k,y1:d,y2:p});return this.el(\"line\",b)};w.polyline=function(a){1<arguments.length&&(a=Array.prototype.slice.call(arguments,0));var d={};z(a,\"object\")&&!z(a,\"array\")?d=a:null!=a&&(d={points:a});return this.el(\"polyline\",d)};\n",
       "w.polygon=function(a){1<arguments.length&&(a=Array.prototype.slice.call(arguments,0));var d={};z(a,\"object\")&&!z(a,\"array\")?d=a:null!=a&&(d={points:a});return this.el(\"polygon\",d)};(function(){function d(){return this.selectAll(\"stop\")}function n(b,d){var f=e(\"stop\"),k={offset:+d+\"%\"};b=a.color(b);k[\"stop-color\"]=b.hex;1>b.opacity&&(k[\"stop-opacity\"]=b.opacity);e(f,k);this.node.appendChild(f);return this}function u(){if(\"linearGradient\"==this.type){var b=e(this.node,\"x1\")||0,d=e(this.node,\"x2\")||\n",
       "1,f=e(this.node,\"y1\")||0,k=e(this.node,\"y2\")||0;return a._.box(b,f,math.abs(d-b),math.abs(k-f))}b=this.node.r||0;return a._.box((this.node.cx||0.5)-b,(this.node.cy||0.5)-b,2*b,2*b)}function p(a,d){function f(a,b){for(var d=(b-u)/(a-w),e=w;e<a;e++)h[e].offset=+(+u+d*(e-w)).toFixed(2);w=a;u=b}var n=k(\"snap.util.grad.parse\",null,d).firstDefined(),p;if(!n)return null;n.params.unshift(a);p=\"l\"==n.type.toLowerCase()?b.apply(0,n.params):q.apply(0,n.params);n.type!=n.type.toLowerCase()&&e(p.node,{gradientUnits:\"userSpaceOnUse\"});\n",
       "var h=n.stops,n=h.length,u=0,w=0;n--;for(var v=0;v<n;v++)\"offset\"in h[v]&&f(v,h[v].offset);h[n].offset=h[n].offset||100;f(n,h[n].offset);for(v=0;v<=n;v++){var y=h[v];p.addStop(y.color,y.offset)}return p}function b(b,k,p,q,w){b=a._.make(\"linearGradient\",b);b.stops=d;b.addStop=n;b.getBBox=u;null!=k&&e(b.node,{x1:k,y1:p,x2:q,y2:w});return b}function q(b,k,p,q,w,h){b=a._.make(\"radialGradient\",b);b.stops=d;b.addStop=n;b.getBBox=u;null!=k&&e(b.node,{cx:k,cy:p,r:q});null!=w&&null!=h&&e(b.node,{fx:w,fy:h});\n",
       "return b}var e=a._.$;w.gradient=function(a){return p(this.defs,a)};w.gradientLinear=function(a,d,e,f){return b(this.defs,a,d,e,f)};w.gradientRadial=function(a,b,d,e,f){return q(this.defs,a,b,d,e,f)};w.toString=function(){var b=this.node.ownerDocument,d=b.createDocumentFragment(),b=b.createElement(\"div\"),e=this.node.cloneNode(!0);d.appendChild(b);b.appendChild(e);a._.$(e,{xmlns:\"http://www.w3.org/2000/svg\"});b=b.innerHTML;d.removeChild(d.firstChild);return b};w.clear=function(){for(var a=this.node.firstChild,\n",
       "b;a;)b=a.nextSibling,\"defs\"!=a.tagName?a.parentNode.removeChild(a):w.clear.call({node:a}),a=b}})()});C.plugin(function(a,k,y,M){function A(a){var b=A.ps=A.ps||{};b[a]?b[a].sleep=100:b[a]={sleep:100};setTimeout(function(){for(var d in b)b[L](d)&&d!=a&&(b[d].sleep--,!b[d].sleep&&delete b[d])});return b[a]}function w(a,b,d,e){null==a&&(a=b=d=e=0);null==b&&(b=a.y,d=a.width,e=a.height,a=a.x);return{x:a,y:b,width:d,w:d,height:e,h:e,x2:a+d,y2:b+e,cx:a+d/2,cy:b+e/2,r1:F.min(d,e)/2,r2:F.max(d,e)/2,r0:F.sqrt(d*\n",
       "d+e*e)/2,path:s(a,b,d,e),vb:[a,b,d,e].join(\" \")}}function z(){return this.join(\",\").replace(N,\"$1\")}function d(a){a=C(a);a.toString=z;return a}function f(a,b,d,h,f,k,l,n,p){if(null==p)return e(a,b,d,h,f,k,l,n);if(0>p||e(a,b,d,h,f,k,l,n)<p)p=void 0;else{var q=0.5,O=1-q,s;for(s=e(a,b,d,h,f,k,l,n,O);0.01<Z(s-p);)q/=2,O+=(s<p?1:-1)*q,s=e(a,b,d,h,f,k,l,n,O);p=O}return u(a,b,d,h,f,k,l,n,p)}function n(b,d){function e(a){return+(+a).toFixed(3)}return a._.cacher(function(a,h,l){a instanceof k&&(a=a.attr(\"d\"));\n",
       "a=I(a);for(var n,p,D,q,O=\"\",s={},c=0,t=0,r=a.length;t<r;t++){D=a[t];if(\"M\"==D[0])n=+D[1],p=+D[2];else{q=f(n,p,D[1],D[2],D[3],D[4],D[5],D[6]);if(c+q>h){if(d&&!s.start){n=f(n,p,D[1],D[2],D[3],D[4],D[5],D[6],h-c);O+=[\"C\"+e(n.start.x),e(n.start.y),e(n.m.x),e(n.m.y),e(n.x),e(n.y)];if(l)return O;s.start=O;O=[\"M\"+e(n.x),e(n.y)+\"C\"+e(n.n.x),e(n.n.y),e(n.end.x),e(n.end.y),e(D[5]),e(D[6])].join();c+=q;n=+D[5];p=+D[6];continue}if(!b&&!d)return n=f(n,p,D[1],D[2],D[3],D[4],D[5],D[6],h-c)}c+=q;n=+D[5];p=+D[6]}O+=\n",
       "D.shift()+D}s.end=O;return n=b?c:d?s:u(n,p,D[0],D[1],D[2],D[3],D[4],D[5],1)},null,a._.clone)}function u(a,b,d,e,h,f,k,l,n){var p=1-n,q=ma(p,3),s=ma(p,2),c=n*n,t=c*n,r=q*a+3*s*n*d+3*p*n*n*h+t*k,q=q*b+3*s*n*e+3*p*n*n*f+t*l,s=a+2*n*(d-a)+c*(h-2*d+a),t=b+2*n*(e-b)+c*(f-2*e+b),x=d+2*n*(h-d)+c*(k-2*h+d),c=e+2*n*(f-e)+c*(l-2*f+e);a=p*a+n*d;b=p*b+n*e;h=p*h+n*k;f=p*f+n*l;l=90-180*F.atan2(s-x,t-c)/S;return{x:r,y:q,m:{x:s,y:t},n:{x:x,y:c},start:{x:a,y:b},end:{x:h,y:f},alpha:l}}function p(b,d,e,h,f,n,k,l){a.is(b,\n",
       "\"array\")||(b=[b,d,e,h,f,n,k,l]);b=U.apply(null,b);return w(b.min.x,b.min.y,b.max.x-b.min.x,b.max.y-b.min.y)}function b(a,b,d){return b>=a.x&&b<=a.x+a.width&&d>=a.y&&d<=a.y+a.height}function q(a,d){a=w(a);d=w(d);return b(d,a.x,a.y)||b(d,a.x2,a.y)||b(d,a.x,a.y2)||b(d,a.x2,a.y2)||b(a,d.x,d.y)||b(a,d.x2,d.y)||b(a,d.x,d.y2)||b(a,d.x2,d.y2)||(a.x<d.x2&&a.x>d.x||d.x<a.x2&&d.x>a.x)&&(a.y<d.y2&&a.y>d.y||d.y<a.y2&&d.y>a.y)}function e(a,b,d,e,h,f,n,k,l){null==l&&(l=1);l=(1<l?1:0>l?0:l)/2;for(var p=[-0.1252,\n",
       "0.1252,-0.3678,0.3678,-0.5873,0.5873,-0.7699,0.7699,-0.9041,0.9041,-0.9816,0.9816],q=[0.2491,0.2491,0.2335,0.2335,0.2032,0.2032,0.1601,0.1601,0.1069,0.1069,0.0472,0.0472],s=0,c=0;12>c;c++)var t=l*p[c]+l,r=t*(t*(-3*a+9*d-9*h+3*n)+6*a-12*d+6*h)-3*a+3*d,t=t*(t*(-3*b+9*e-9*f+3*k)+6*b-12*e+6*f)-3*b+3*e,s=s+q[c]*F.sqrt(r*r+t*t);return l*s}function l(a,b,d){a=I(a);b=I(b);for(var h,f,l,n,k,s,r,O,x,c,t=d?0:[],w=0,v=a.length;w<v;w++)if(x=a[w],\"M\"==x[0])h=k=x[1],f=s=x[2];else{\"C\"==x[0]?(x=[h,f].concat(x.slice(1)),\n",
       "h=x[6],f=x[7]):(x=[h,f,h,f,k,s,k,s],h=k,f=s);for(var G=0,y=b.length;G<y;G++)if(c=b[G],\"M\"==c[0])l=r=c[1],n=O=c[2];else{\"C\"==c[0]?(c=[l,n].concat(c.slice(1)),l=c[6],n=c[7]):(c=[l,n,l,n,r,O,r,O],l=r,n=O);var z;var K=x,B=c;z=d;var H=p(K),J=p(B);if(q(H,J)){for(var H=e.apply(0,K),J=e.apply(0,B),H=~~(H/8),J=~~(J/8),U=[],A=[],F={},M=z?0:[],P=0;P<H+1;P++){var C=u.apply(0,K.concat(P/H));U.push({x:C.x,y:C.y,t:P/H})}for(P=0;P<J+1;P++)C=u.apply(0,B.concat(P/J)),A.push({x:C.x,y:C.y,t:P/J});for(P=0;P<H;P++)for(K=\n",
       "0;K<J;K++){var Q=U[P],L=U[P+1],B=A[K],C=A[K+1],N=0.001>Z(L.x-Q.x)?\"y\":\"x\",S=0.001>Z(C.x-B.x)?\"y\":\"x\",R;R=Q.x;var Y=Q.y,V=L.x,ea=L.y,fa=B.x,ga=B.y,ha=C.x,ia=C.y;if(W(R,V)<X(fa,ha)||X(R,V)>W(fa,ha)||W(Y,ea)<X(ga,ia)||X(Y,ea)>W(ga,ia))R=void 0;else{var $=(R*ea-Y*V)*(fa-ha)-(R-V)*(fa*ia-ga*ha),aa=(R*ea-Y*V)*(ga-ia)-(Y-ea)*(fa*ia-ga*ha),ja=(R-V)*(ga-ia)-(Y-ea)*(fa-ha);if(ja){var $=$/ja,aa=aa/ja,ja=+$.toFixed(2),ba=+aa.toFixed(2);R=ja<+X(R,V).toFixed(2)||ja>+W(R,V).toFixed(2)||ja<+X(fa,ha).toFixed(2)||\n",
       "ja>+W(fa,ha).toFixed(2)||ba<+X(Y,ea).toFixed(2)||ba>+W(Y,ea).toFixed(2)||ba<+X(ga,ia).toFixed(2)||ba>+W(ga,ia).toFixed(2)?void 0:{x:$,y:aa}}else R=void 0}R&&F[R.x.toFixed(4)]!=R.y.toFixed(4)&&(F[R.x.toFixed(4)]=R.y.toFixed(4),Q=Q.t+Z((R[N]-Q[N])/(L[N]-Q[N]))*(L.t-Q.t),B=B.t+Z((R[S]-B[S])/(C[S]-B[S]))*(C.t-B.t),0<=Q&&1>=Q&&0<=B&&1>=B&&(z?M++:M.push({x:R.x,y:R.y,t1:Q,t2:B})))}z=M}else z=z?0:[];if(d)t+=z;else{H=0;for(J=z.length;H<J;H++)z[H].segment1=w,z[H].segment2=G,z[H].bez1=x,z[H].bez2=c;t=t.concat(z)}}}return t}\n",
       "function r(a){var b=A(a);if(b.bbox)return C(b.bbox);if(!a)return w();a=I(a);for(var d=0,e=0,h=[],f=[],l,n=0,k=a.length;n<k;n++)l=a[n],\"M\"==l[0]?(d=l[1],e=l[2],h.push(d),f.push(e)):(d=U(d,e,l[1],l[2],l[3],l[4],l[5],l[6]),h=h.concat(d.min.x,d.max.x),f=f.concat(d.min.y,d.max.y),d=l[5],e=l[6]);a=X.apply(0,h);l=X.apply(0,f);h=W.apply(0,h);f=W.apply(0,f);f=w(a,l,h-a,f-l);b.bbox=C(f);return f}function s(a,b,d,e,h){if(h)return[[\"M\",+a+ +h,b],[\"l\",d-2*h,0],[\"a\",h,h,0,0,1,h,h],[\"l\",0,e-2*h],[\"a\",h,h,0,0,1,\n",
       "-h,h],[\"l\",2*h-d,0],[\"a\",h,h,0,0,1,-h,-h],[\"l\",0,2*h-e],[\"a\",h,h,0,0,1,h,-h],[\"z\"] ];a=[[\"M\",a,b],[\"l\",d,0],[\"l\",0,e],[\"l\",-d,0],[\"z\"] ];a.toString=z;return a}function x(a,b,d,e,h){null==h&&null==e&&(e=d);a=+a;b=+b;d=+d;e=+e;if(null!=h){var f=Math.PI/180,l=a+d*Math.cos(-e*f);a+=d*Math.cos(-h*f);var n=b+d*Math.sin(-e*f);b+=d*Math.sin(-h*f);d=[[\"M\",l,n],[\"A\",d,d,0,+(180<h-e),0,a,b] ]}else d=[[\"M\",a,b],[\"m\",0,-e],[\"a\",d,e,0,1,1,0,2*e],[\"a\",d,e,0,1,1,0,-2*e],[\"z\"] ];d.toString=z;return d}function G(b){var e=\n",
       "A(b);if(e.abs)return d(e.abs);Q(b,\"array\")&&Q(b&&b[0],\"array\")||(b=a.parsePathString(b));if(!b||!b.length)return[[\"M\",0,0] ];var h=[],f=0,l=0,n=0,k=0,p=0;\"M\"==b[0][0]&&(f=+b[0][1],l=+b[0][2],n=f,k=l,p++,h[0]=[\"M\",f,l]);for(var q=3==b.length&&\"M\"==b[0][0]&&\"R\"==b[1][0].toUpperCase()&&\"Z\"==b[2][0].toUpperCase(),s,r,w=p,c=b.length;w<c;w++){h.push(s=[]);r=b[w];p=r[0];if(p!=p.toUpperCase())switch(s[0]=p.toUpperCase(),s[0]){case \"A\":s[1]=r[1];s[2]=r[2];s[3]=r[3];s[4]=r[4];s[5]=r[5];s[6]=+r[6]+f;s[7]=+r[7]+\n",
       "l;break;case \"V\":s[1]=+r[1]+l;break;case \"H\":s[1]=+r[1]+f;break;case \"R\":for(var t=[f,l].concat(r.slice(1)),u=2,v=t.length;u<v;u++)t[u]=+t[u]+f,t[++u]=+t[u]+l;h.pop();h=h.concat(P(t,q));break;case \"O\":h.pop();t=x(f,l,r[1],r[2]);t.push(t[0]);h=h.concat(t);break;case \"U\":h.pop();h=h.concat(x(f,l,r[1],r[2],r[3]));s=[\"U\"].concat(h[h.length-1].slice(-2));break;case \"M\":n=+r[1]+f,k=+r[2]+l;default:for(u=1,v=r.length;u<v;u++)s[u]=+r[u]+(u%2?f:l)}else if(\"R\"==p)t=[f,l].concat(r.slice(1)),h.pop(),h=h.concat(P(t,\n",
       "q)),s=[\"R\"].concat(r.slice(-2));else if(\"O\"==p)h.pop(),t=x(f,l,r[1],r[2]),t.push(t[0]),h=h.concat(t);else if(\"U\"==p)h.pop(),h=h.concat(x(f,l,r[1],r[2],r[3])),s=[\"U\"].concat(h[h.length-1].slice(-2));else for(t=0,u=r.length;t<u;t++)s[t]=r[t];p=p.toUpperCase();if(\"O\"!=p)switch(s[0]){case \"Z\":f=+n;l=+k;break;case \"H\":f=s[1];break;case \"V\":l=s[1];break;case \"M\":n=s[s.length-2],k=s[s.length-1];default:f=s[s.length-2],l=s[s.length-1]}}h.toString=z;e.abs=d(h);return h}function h(a,b,d,e){return[a,b,d,e,d,\n",
       "e]}function J(a,b,d,e,h,f){var l=1/3,n=2/3;return[l*a+n*d,l*b+n*e,l*h+n*d,l*f+n*e,h,f]}function K(b,d,e,h,f,l,n,k,p,s){var r=120*S/180,q=S/180*(+f||0),c=[],t,x=a._.cacher(function(a,b,c){var d=a*F.cos(c)-b*F.sin(c);a=a*F.sin(c)+b*F.cos(c);return{x:d,y:a}});if(s)v=s[0],t=s[1],l=s[2],u=s[3];else{t=x(b,d,-q);b=t.x;d=t.y;t=x(k,p,-q);k=t.x;p=t.y;F.cos(S/180*f);F.sin(S/180*f);t=(b-k)/2;v=(d-p)/2;u=t*t/(e*e)+v*v/(h*h);1<u&&(u=F.sqrt(u),e*=u,h*=u);var u=e*e,w=h*h,u=(l==n?-1:1)*F.sqrt(Z((u*w-u*v*v-w*t*t)/\n",
       "(u*v*v+w*t*t)));l=u*e*v/h+(b+k)/2;var u=u*-h*t/e+(d+p)/2,v=F.asin(((d-u)/h).toFixed(9));t=F.asin(((p-u)/h).toFixed(9));v=b<l?S-v:v;t=k<l?S-t:t;0>v&&(v=2*S+v);0>t&&(t=2*S+t);n&&v>t&&(v-=2*S);!n&&t>v&&(t-=2*S)}if(Z(t-v)>r){var c=t,w=k,G=p;t=v+r*(n&&t>v?1:-1);k=l+e*F.cos(t);p=u+h*F.sin(t);c=K(k,p,e,h,f,0,n,w,G,[t,c,l,u])}l=t-v;f=F.cos(v);r=F.sin(v);n=F.cos(t);t=F.sin(t);l=F.tan(l/4);e=4/3*e*l;l*=4/3*h;h=[b,d];b=[b+e*r,d-l*f];d=[k+e*t,p-l*n];k=[k,p];b[0]=2*h[0]-b[0];b[1]=2*h[1]-b[1];if(s)return[b,d,k].concat(c);\n",
       "c=[b,d,k].concat(c).join().split(\",\");s=[];k=0;for(p=c.length;k<p;k++)s[k]=k%2?x(c[k-1],c[k],q).y:x(c[k],c[k+1],q).x;return s}function U(a,b,d,e,h,f,l,k){for(var n=[],p=[[],[] ],s,r,c,t,q=0;2>q;++q)0==q?(r=6*a-12*d+6*h,s=-3*a+9*d-9*h+3*l,c=3*d-3*a):(r=6*b-12*e+6*f,s=-3*b+9*e-9*f+3*k,c=3*e-3*b),1E-12>Z(s)?1E-12>Z(r)||(s=-c/r,0<s&&1>s&&n.push(s)):(t=r*r-4*c*s,c=F.sqrt(t),0>t||(t=(-r+c)/(2*s),0<t&&1>t&&n.push(t),s=(-r-c)/(2*s),0<s&&1>s&&n.push(s)));for(r=q=n.length;q--;)s=n[q],c=1-s,p[0][q]=c*c*c*a+3*\n",
       "c*c*s*d+3*c*s*s*h+s*s*s*l,p[1][q]=c*c*c*b+3*c*c*s*e+3*c*s*s*f+s*s*s*k;p[0][r]=a;p[1][r]=b;p[0][r+1]=l;p[1][r+1]=k;p[0].length=p[1].length=r+2;return{min:{x:X.apply(0,p[0]),y:X.apply(0,p[1])},max:{x:W.apply(0,p[0]),y:W.apply(0,p[1])}}}function I(a,b){var e=!b&&A(a);if(!b&&e.curve)return d(e.curve);var f=G(a),l=b&&G(b),n={x:0,y:0,bx:0,by:0,X:0,Y:0,qx:null,qy:null},k={x:0,y:0,bx:0,by:0,X:0,Y:0,qx:null,qy:null},p=function(a,b,c){if(!a)return[\"C\",b.x,b.y,b.x,b.y,b.x,b.y];a[0]in{T:1,Q:1}||(b.qx=b.qy=null);\n",
       "switch(a[0]){case \"M\":b.X=a[1];b.Y=a[2];break;case \"A\":a=[\"C\"].concat(K.apply(0,[b.x,b.y].concat(a.slice(1))));break;case \"S\":\"C\"==c||\"S\"==c?(c=2*b.x-b.bx,b=2*b.y-b.by):(c=b.x,b=b.y);a=[\"C\",c,b].concat(a.slice(1));break;case \"T\":\"Q\"==c||\"T\"==c?(b.qx=2*b.x-b.qx,b.qy=2*b.y-b.qy):(b.qx=b.x,b.qy=b.y);a=[\"C\"].concat(J(b.x,b.y,b.qx,b.qy,a[1],a[2]));break;case \"Q\":b.qx=a[1];b.qy=a[2];a=[\"C\"].concat(J(b.x,b.y,a[1],a[2],a[3],a[4]));break;case \"L\":a=[\"C\"].concat(h(b.x,b.y,a[1],a[2]));break;case \"H\":a=[\"C\"].concat(h(b.x,\n",
       "b.y,a[1],b.y));break;case \"V\":a=[\"C\"].concat(h(b.x,b.y,b.x,a[1]));break;case \"Z\":a=[\"C\"].concat(h(b.x,b.y,b.X,b.Y))}return a},s=function(a,b){if(7<a[b].length){a[b].shift();for(var c=a[b];c.length;)q[b]=\"A\",l&&(u[b]=\"A\"),a.splice(b++,0,[\"C\"].concat(c.splice(0,6)));a.splice(b,1);v=W(f.length,l&&l.length||0)}},r=function(a,b,c,d,e){a&&b&&\"M\"==a[e][0]&&\"M\"!=b[e][0]&&(b.splice(e,0,[\"M\",d.x,d.y]),c.bx=0,c.by=0,c.x=a[e][1],c.y=a[e][2],v=W(f.length,l&&l.length||0))},q=[],u=[],c=\"\",t=\"\",x=0,v=W(f.length,\n",
       "l&&l.length||0);for(;x<v;x++){f[x]&&(c=f[x][0]);\"C\"!=c&&(q[x]=c,x&&(t=q[x-1]));f[x]=p(f[x],n,t);\"A\"!=q[x]&&\"C\"==c&&(q[x]=\"C\");s(f,x);l&&(l[x]&&(c=l[x][0]),\"C\"!=c&&(u[x]=c,x&&(t=u[x-1])),l[x]=p(l[x],k,t),\"A\"!=u[x]&&\"C\"==c&&(u[x]=\"C\"),s(l,x));r(f,l,n,k,x);r(l,f,k,n,x);var w=f[x],z=l&&l[x],y=w.length,U=l&&z.length;n.x=w[y-2];n.y=w[y-1];n.bx=$(w[y-4])||n.x;n.by=$(w[y-3])||n.y;k.bx=l&&($(z[U-4])||k.x);k.by=l&&($(z[U-3])||k.y);k.x=l&&z[U-2];k.y=l&&z[U-1]}l||(e.curve=d(f));return l?[f,l]:f}function P(a,\n",
       "b){for(var d=[],e=0,h=a.length;h-2*!b>e;e+=2){var f=[{x:+a[e-2],y:+a[e-1]},{x:+a[e],y:+a[e+1]},{x:+a[e+2],y:+a[e+3]},{x:+a[e+4],y:+a[e+5]}];b?e?h-4==e?f[3]={x:+a[0],y:+a[1]}:h-2==e&&(f[2]={x:+a[0],y:+a[1]},f[3]={x:+a[2],y:+a[3]}):f[0]={x:+a[h-2],y:+a[h-1]}:h-4==e?f[3]=f[2]:e||(f[0]={x:+a[e],y:+a[e+1]});d.push([\"C\",(-f[0].x+6*f[1].x+f[2].x)/6,(-f[0].y+6*f[1].y+f[2].y)/6,(f[1].x+6*f[2].x-f[3].x)/6,(f[1].y+6*f[2].y-f[3].y)/6,f[2].x,f[2].y])}return d}y=k.prototype;var Q=a.is,C=a._.clone,L=\"hasOwnProperty\",\n",
       "N=/,?([a-z]),?/gi,$=parseFloat,F=Math,S=F.PI,X=F.min,W=F.max,ma=F.pow,Z=F.abs;M=n(1);var na=n(),ba=n(0,1),V=a._unit2px;a.path=A;a.path.getTotalLength=M;a.path.getPointAtLength=na;a.path.getSubpath=function(a,b,d){if(1E-6>this.getTotalLength(a)-d)return ba(a,b).end;a=ba(a,d,1);return b?ba(a,b).end:a};y.getTotalLength=function(){if(this.node.getTotalLength)return this.node.getTotalLength()};y.getPointAtLength=function(a){return na(this.attr(\"d\"),a)};y.getSubpath=function(b,d){return a.path.getSubpath(this.attr(\"d\"),\n",
       "b,d)};a._.box=w;a.path.findDotsAtSegment=u;a.path.bezierBBox=p;a.path.isPointInsideBBox=b;a.path.isBBoxIntersect=q;a.path.intersection=function(a,b){return l(a,b)};a.path.intersectionNumber=function(a,b){return l(a,b,1)};a.path.isPointInside=function(a,d,e){var h=r(a);return b(h,d,e)&&1==l(a,[[\"M\",d,e],[\"H\",h.x2+10] ],1)%2};a.path.getBBox=r;a.path.get={path:function(a){return a.attr(\"path\")},circle:function(a){a=V(a);return x(a.cx,a.cy,a.r)},ellipse:function(a){a=V(a);return x(a.cx||0,a.cy||0,a.rx,\n",
       "a.ry)},rect:function(a){a=V(a);return s(a.x||0,a.y||0,a.width,a.height,a.rx,a.ry)},image:function(a){a=V(a);return s(a.x||0,a.y||0,a.width,a.height)},line:function(a){return\"M\"+[a.attr(\"x1\")||0,a.attr(\"y1\")||0,a.attr(\"x2\"),a.attr(\"y2\")]},polyline:function(a){return\"M\"+a.attr(\"points\")},polygon:function(a){return\"M\"+a.attr(\"points\")+\"z\"},deflt:function(a){a=a.node.getBBox();return s(a.x,a.y,a.width,a.height)}};a.path.toRelative=function(b){var e=A(b),h=String.prototype.toLowerCase;if(e.rel)return d(e.rel);\n",
       "a.is(b,\"array\")&&a.is(b&&b[0],\"array\")||(b=a.parsePathString(b));var f=[],l=0,n=0,k=0,p=0,s=0;\"M\"==b[0][0]&&(l=b[0][1],n=b[0][2],k=l,p=n,s++,f.push([\"M\",l,n]));for(var r=b.length;s<r;s++){var q=f[s]=[],x=b[s];if(x[0]!=h.call(x[0]))switch(q[0]=h.call(x[0]),q[0]){case \"a\":q[1]=x[1];q[2]=x[2];q[3]=x[3];q[4]=x[4];q[5]=x[5];q[6]=+(x[6]-l).toFixed(3);q[7]=+(x[7]-n).toFixed(3);break;case \"v\":q[1]=+(x[1]-n).toFixed(3);break;case \"m\":k=x[1],p=x[2];default:for(var c=1,t=x.length;c<t;c++)q[c]=+(x[c]-(c%2?l:\n",
       "n)).toFixed(3)}else for(f[s]=[],\"m\"==x[0]&&(k=x[1]+l,p=x[2]+n),q=0,c=x.length;q<c;q++)f[s][q]=x[q];x=f[s].length;switch(f[s][0]){case \"z\":l=k;n=p;break;case \"h\":l+=+f[s][x-1];break;case \"v\":n+=+f[s][x-1];break;default:l+=+f[s][x-2],n+=+f[s][x-1]}}f.toString=z;e.rel=d(f);return f};a.path.toAbsolute=G;a.path.toCubic=I;a.path.map=function(a,b){if(!b)return a;var d,e,h,f,l,n,k;a=I(a);h=0;for(l=a.length;h<l;h++)for(k=a[h],f=1,n=k.length;f<n;f+=2)d=b.x(k[f],k[f+1]),e=b.y(k[f],k[f+1]),k[f]=d,k[f+1]=e;return a};\n",
       "a.path.toString=z;a.path.clone=d});C.plugin(function(a,v,y,C){var A=Math.max,w=Math.min,z=function(a){this.items=[];this.bindings={};this.length=0;this.type=\"set\";if(a)for(var f=0,n=a.length;f<n;f++)a[f]&&(this[this.items.length]=this.items[this.items.length]=a[f],this.length++)};v=z.prototype;v.push=function(){for(var a,f,n=0,k=arguments.length;n<k;n++)if(a=arguments[n])f=this.items.length,this[f]=this.items[f]=a,this.length++;return this};v.pop=function(){this.length&&delete this[this.length--];\n",
       "return this.items.pop()};v.forEach=function(a,f){for(var n=0,k=this.items.length;n<k&&!1!==a.call(f,this.items[n],n);n++);return this};v.animate=function(d,f,n,u){\"function\"!=typeof n||n.length||(u=n,n=L.linear);d instanceof a._.Animation&&(u=d.callback,n=d.easing,f=n.dur,d=d.attr);var p=arguments;if(a.is(d,\"array\")&&a.is(p[p.length-1],\"array\"))var b=!0;var q,e=function(){q?this.b=q:q=this.b},l=0,r=u&&function(){l++==this.length&&u.call(this)};return this.forEach(function(a,l){k.once(\"snap.animcreated.\"+\n",
       "a.id,e);b?p[l]&&a.animate.apply(a,p[l]):a.animate(d,f,n,r)})};v.remove=function(){for(;this.length;)this.pop().remove();return this};v.bind=function(a,f,k){var u={};if(\"function\"==typeof f)this.bindings[a]=f;else{var p=k||a;this.bindings[a]=function(a){u[p]=a;f.attr(u)}}return this};v.attr=function(a){var f={},k;for(k in a)if(this.bindings[k])this.bindings[k](a[k]);else f[k]=a[k];a=0;for(k=this.items.length;a<k;a++)this.items[a].attr(f);return this};v.clear=function(){for(;this.length;)this.pop()};\n",
       "v.splice=function(a,f,k){a=0>a?A(this.length+a,0):a;f=A(0,w(this.length-a,f));var u=[],p=[],b=[],q;for(q=2;q<arguments.length;q++)b.push(arguments[q]);for(q=0;q<f;q++)p.push(this[a+q]);for(;q<this.length-a;q++)u.push(this[a+q]);var e=b.length;for(q=0;q<e+u.length;q++)this.items[a+q]=this[a+q]=q<e?b[q]:u[q-e];for(q=this.items.length=this.length-=f-e;this[q];)delete this[q++];return new z(p)};v.exclude=function(a){for(var f=0,k=this.length;f<k;f++)if(this[f]==a)return this.splice(f,1),!0;return!1};\n",
       "v.insertAfter=function(a){for(var f=this.items.length;f--;)this.items[f].insertAfter(a);return this};v.getBBox=function(){for(var a=[],f=[],k=[],u=[],p=this.items.length;p--;)if(!this.items[p].removed){var b=this.items[p].getBBox();a.push(b.x);f.push(b.y);k.push(b.x+b.width);u.push(b.y+b.height)}a=w.apply(0,a);f=w.apply(0,f);k=A.apply(0,k);u=A.apply(0,u);return{x:a,y:f,x2:k,y2:u,width:k-a,height:u-f,cx:a+(k-a)/2,cy:f+(u-f)/2}};v.clone=function(a){a=new z;for(var f=0,k=this.items.length;f<k;f++)a.push(this.items[f].clone());\n",
       "return a};v.toString=function(){return\"Snap\\u2018s set\"};v.type=\"set\";a.set=function(){var a=new z;arguments.length&&a.push.apply(a,Array.prototype.slice.call(arguments,0));return a}});C.plugin(function(a,v,y,C){function A(a){var b=a[0];switch(b.toLowerCase()){case \"t\":return[b,0,0];case \"m\":return[b,1,0,0,1,0,0];case \"r\":return 4==a.length?[b,0,a[2],a[3] ]:[b,0];case \"s\":return 5==a.length?[b,1,1,a[3],a[4] ]:3==a.length?[b,1,1]:[b,1]}}function w(b,d,f){d=q(d).replace(/\\.{3}|\\u2026/g,b);b=a.parseTransformString(b)||\n",
       "[];d=a.parseTransformString(d)||[];for(var k=Math.max(b.length,d.length),p=[],v=[],h=0,w,z,y,I;h<k;h++){y=b[h]||A(d[h]);I=d[h]||A(y);if(y[0]!=I[0]||\"r\"==y[0].toLowerCase()&&(y[2]!=I[2]||y[3]!=I[3])||\"s\"==y[0].toLowerCase()&&(y[3]!=I[3]||y[4]!=I[4])){b=a._.transform2matrix(b,f());d=a._.transform2matrix(d,f());p=[[\"m\",b.a,b.b,b.c,b.d,b.e,b.f] ];v=[[\"m\",d.a,d.b,d.c,d.d,d.e,d.f] ];break}p[h]=[];v[h]=[];w=0;for(z=Math.max(y.length,I.length);w<z;w++)w in y&&(p[h][w]=y[w]),w in I&&(v[h][w]=I[w])}return{from:u(p),\n",
       "to:u(v),f:n(p)}}function z(a){return a}function d(a){return function(b){return+b.toFixed(3)+a}}function f(b){return a.rgb(b[0],b[1],b[2])}function n(a){var b=0,d,f,k,n,h,p,q=[];d=0;for(f=a.length;d<f;d++){h=\"[\";p=['\"'+a[d][0]+'\"'];k=1;for(n=a[d].length;k<n;k++)p[k]=\"val[\"+b++ +\"]\";h+=p+\"]\";q[d]=h}return Function(\"val\",\"return Snap.path.toString.call([\"+q+\"])\")}function u(a){for(var b=[],d=0,f=a.length;d<f;d++)for(var k=1,n=a[d].length;k<n;k++)b.push(a[d][k]);return b}var p={},b=/[a-z]+$/i,q=String;\n",
       "p.stroke=p.fill=\"colour\";v.prototype.equal=function(a,b){return k(\"snap.util.equal\",this,a,b).firstDefined()};k.on(\"snap.util.equal\",function(e,k){var r,s;r=q(this.attr(e)||\"\");var x=this;if(r==+r&&k==+k)return{from:+r,to:+k,f:z};if(\"colour\"==p[e])return r=a.color(r),s=a.color(k),{from:[r.r,r.g,r.b,r.opacity],to:[s.r,s.g,s.b,s.opacity],f:f};if(\"transform\"==e||\"gradientTransform\"==e||\"patternTransform\"==e)return k instanceof a.Matrix&&(k=k.toTransformString()),a._.rgTransform.test(k)||(k=a._.svgTransform2string(k)),\n",
       "w(r,k,function(){return x.getBBox(1)});if(\"d\"==e||\"path\"==e)return r=a.path.toCubic(r,k),{from:u(r[0]),to:u(r[1]),f:n(r[0])};if(\"points\"==e)return r=q(r).split(a._.separator),s=q(k).split(a._.separator),{from:r,to:s,f:function(a){return a}};aUnit=r.match(b);s=q(k).match(b);return aUnit&&aUnit==s?{from:parseFloat(r),to:parseFloat(k),f:d(aUnit)}:{from:this.asPX(e),to:this.asPX(e,k),f:z}})});C.plugin(function(a,v,y,C){var A=v.prototype,w=\"createTouch\"in C.doc;v=\"click dblclick mousedown mousemove mouseout mouseover mouseup touchstart touchmove touchend touchcancel\".split(\" \");\n",
       "var z={mousedown:\"touchstart\",mousemove:\"touchmove\",mouseup:\"touchend\"},d=function(a,b){var d=\"y\"==a?\"scrollTop\":\"scrollLeft\",e=b&&b.node?b.node.ownerDocument:C.doc;return e[d in e.documentElement?\"documentElement\":\"body\"][d]},f=function(){this.returnValue=!1},n=function(){return this.originalEvent.preventDefault()},u=function(){this.cancelBubble=!0},p=function(){return this.originalEvent.stopPropagation()},b=function(){if(C.doc.addEventListener)return function(a,b,e,f){var k=w&&z[b]?z[b]:b,l=function(k){var l=\n",
       "d(\"y\",f),q=d(\"x\",f);if(w&&z.hasOwnProperty(b))for(var r=0,u=k.targetTouches&&k.targetTouches.length;r<u;r++)if(k.targetTouches[r].target==a||a.contains(k.targetTouches[r].target)){u=k;k=k.targetTouches[r];k.originalEvent=u;k.preventDefault=n;k.stopPropagation=p;break}return e.call(f,k,k.clientX+q,k.clientY+l)};b!==k&&a.addEventListener(b,l,!1);a.addEventListener(k,l,!1);return function(){b!==k&&a.removeEventListener(b,l,!1);a.removeEventListener(k,l,!1);return!0}};if(C.doc.attachEvent)return function(a,\n",
       "b,e,h){var k=function(a){a=a||h.node.ownerDocument.window.event;var b=d(\"y\",h),k=d(\"x\",h),k=a.clientX+k,b=a.clientY+b;a.preventDefault=a.preventDefault||f;a.stopPropagation=a.stopPropagation||u;return e.call(h,a,k,b)};a.attachEvent(\"on\"+b,k);return function(){a.detachEvent(\"on\"+b,k);return!0}}}(),q=[],e=function(a){for(var b=a.clientX,e=a.clientY,f=d(\"y\"),l=d(\"x\"),n,p=q.length;p--;){n=q[p];if(w)for(var r=a.touches&&a.touches.length,u;r--;){if(u=a.touches[r],u.identifier==n.el._drag.id||n.el.node.contains(u.target)){b=\n",
       "u.clientX;e=u.clientY;(a.originalEvent?a.originalEvent:a).preventDefault();break}}else a.preventDefault();b+=l;e+=f;k(\"snap.drag.move.\"+n.el.id,n.move_scope||n.el,b-n.el._drag.x,e-n.el._drag.y,b,e,a)}},l=function(b){a.unmousemove(e).unmouseup(l);for(var d=q.length,f;d--;)f=q[d],f.el._drag={},k(\"snap.drag.end.\"+f.el.id,f.end_scope||f.start_scope||f.move_scope||f.el,b);q=[]};for(y=v.length;y--;)(function(d){a[d]=A[d]=function(e,f){a.is(e,\"function\")&&(this.events=this.events||[],this.events.push({name:d,\n",
       "f:e,unbind:b(this.node||document,d,e,f||this)}));return this};a[\"un\"+d]=A[\"un\"+d]=function(a){for(var b=this.events||[],e=b.length;e--;)if(b[e].name==d&&(b[e].f==a||!a)){b[e].unbind();b.splice(e,1);!b.length&&delete this.events;break}return this}})(v[y]);A.hover=function(a,b,d,e){return this.mouseover(a,d).mouseout(b,e||d)};A.unhover=function(a,b){return this.unmouseover(a).unmouseout(b)};var r=[];A.drag=function(b,d,f,h,n,p){function u(r,v,w){(r.originalEvent||r).preventDefault();this._drag.x=v;\n",
       "this._drag.y=w;this._drag.id=r.identifier;!q.length&&a.mousemove(e).mouseup(l);q.push({el:this,move_scope:h,start_scope:n,end_scope:p});d&&k.on(\"snap.drag.start.\"+this.id,d);b&&k.on(\"snap.drag.move.\"+this.id,b);f&&k.on(\"snap.drag.end.\"+this.id,f);k(\"snap.drag.start.\"+this.id,n||h||this,v,w,r)}if(!arguments.length){var v;return this.drag(function(a,b){this.attr({transform:v+(v?\"T\":\"t\")+[a,b]})},function(){v=this.transform().local})}this._drag={};r.push({el:this,start:u});this.mousedown(u);return this};\n",
       "A.undrag=function(){for(var b=r.length;b--;)r[b].el==this&&(this.unmousedown(r[b].start),r.splice(b,1),k.unbind(\"snap.drag.*.\"+this.id));!r.length&&a.unmousemove(e).unmouseup(l);return this}});C.plugin(function(a,v,y,C){y=y.prototype;var A=/^\\s*url\\((.+)\\)/,w=String,z=a._.$;a.filter={};y.filter=function(d){var f=this;\"svg\"!=f.type&&(f=f.paper);d=a.parse(w(d));var k=a._.id(),u=z(\"filter\");z(u,{id:k,filterUnits:\"userSpaceOnUse\"});u.appendChild(d.node);f.defs.appendChild(u);return new v(u)};k.on(\"snap.util.getattr.filter\",\n",
       "function(){k.stop();var d=z(this.node,\"filter\");if(d)return(d=w(d).match(A))&&a.select(d[1])});k.on(\"snap.util.attr.filter\",function(d){if(d instanceof v&&\"filter\"==d.type){k.stop();var f=d.node.id;f||(z(d.node,{id:d.id}),f=d.id);z(this.node,{filter:a.url(f)})}d&&\"none\"!=d||(k.stop(),this.node.removeAttribute(\"filter\"))});a.filter.blur=function(d,f){null==d&&(d=2);return a.format('<feGaussianBlur stdDeviation=\"{def}\"/>',{def:null==f?d:[d,f]})};a.filter.blur.toString=function(){return this()};a.filter.shadow=\n",
       "function(d,f,k,u,p){\"string\"==typeof k&&(p=u=k,k=4);\"string\"!=typeof u&&(p=u,u=\"#000\");null==k&&(k=4);null==p&&(p=1);null==d&&(d=0,f=2);null==f&&(f=d);u=a.color(u||\"#000\");return a.format('<feGaussianBlur in=\"SourceAlpha\" stdDeviation=\"{blur}\"/><feOffset dx=\"{dx}\" dy=\"{dy}\" result=\"offsetblur\"/><feFlood flood-color=\"{color}\"/><feComposite in2=\"offsetblur\" operator=\"in\"/><feComponentTransfer><feFuncA type=\"linear\" slope=\"{opacity}\"/></feComponentTransfer><feMerge><feMergeNode/><feMergeNode in=\"SourceGraphic\"/></feMerge>',\n",
       "{color:u,dx:d,dy:f,blur:k,opacity:p})};a.filter.shadow.toString=function(){return this()};a.filter.grayscale=function(d){null==d&&(d=1);return a.format('<feColorMatrix type=\"matrix\" values=\"{a} {b} {c} 0 0 {d} {e} {f} 0 0 {g} {b} {h} 0 0 0 0 0 1 0\"/>',{a:0.2126+0.7874*(1-d),b:0.7152-0.7152*(1-d),c:0.0722-0.0722*(1-d),d:0.2126-0.2126*(1-d),e:0.7152+0.2848*(1-d),f:0.0722-0.0722*(1-d),g:0.2126-0.2126*(1-d),h:0.0722+0.9278*(1-d)})};a.filter.grayscale.toString=function(){return this()};a.filter.sepia=\n",
       "function(d){null==d&&(d=1);return a.format('<feColorMatrix type=\"matrix\" values=\"{a} {b} {c} 0 0 {d} {e} {f} 0 0 {g} {h} {i} 0 0 0 0 0 1 0\"/>',{a:0.393+0.607*(1-d),b:0.769-0.769*(1-d),c:0.189-0.189*(1-d),d:0.349-0.349*(1-d),e:0.686+0.314*(1-d),f:0.168-0.168*(1-d),g:0.272-0.272*(1-d),h:0.534-0.534*(1-d),i:0.131+0.869*(1-d)})};a.filter.sepia.toString=function(){return this()};a.filter.saturate=function(d){null==d&&(d=1);return a.format('<feColorMatrix type=\"saturate\" values=\"{amount}\"/>',{amount:1-\n",
       "d})};a.filter.saturate.toString=function(){return this()};a.filter.hueRotate=function(d){return a.format('<feColorMatrix type=\"hueRotate\" values=\"{angle}\"/>',{angle:d||0})};a.filter.hueRotate.toString=function(){return this()};a.filter.invert=function(d){null==d&&(d=1);return a.format('<feComponentTransfer><feFuncR type=\"table\" tableValues=\"{amount} {amount2}\"/><feFuncG type=\"table\" tableValues=\"{amount} {amount2}\"/><feFuncB type=\"table\" tableValues=\"{amount} {amount2}\"/></feComponentTransfer>',{amount:d,\n",
       "amount2:1-d})};a.filter.invert.toString=function(){return this()};a.filter.brightness=function(d){null==d&&(d=1);return a.format('<feComponentTransfer><feFuncR type=\"linear\" slope=\"{amount}\"/><feFuncG type=\"linear\" slope=\"{amount}\"/><feFuncB type=\"linear\" slope=\"{amount}\"/></feComponentTransfer>',{amount:d})};a.filter.brightness.toString=function(){return this()};a.filter.contrast=function(d){null==d&&(d=1);return a.format('<feComponentTransfer><feFuncR type=\"linear\" slope=\"{amount}\" intercept=\"{amount2}\"/><feFuncG type=\"linear\" slope=\"{amount}\" intercept=\"{amount2}\"/><feFuncB type=\"linear\" slope=\"{amount}\" intercept=\"{amount2}\"/></feComponentTransfer>',\n",
       "{amount:d,amount2:0.5-d/2})};a.filter.contrast.toString=function(){return this()}});return C});\n",
       "\n",
       "]]> </script>\n",
       "</svg>\n"
      ],
      "text/plain": [
       "Compose.Context(BBox{l,t,r,b,w,h = 0.0w,0.0h, 1.0w,1.0h, 1.0w,1.0h}, Compose.UnitBox{Float64, Float64, Float64, Float64}(-1.2, -1.2, 2.4, 2.4, 0.0mm, 0.0mm, 0.0mm, 0.0mm), nothing, nothing, nothing, List([Compose.Context(BBox{l,t,r,b,w,h = 0.0w,0.0h, 1.0w,1.0h, 1.0w,1.0h}, nothing, nothing, nothing, nothing, List([]), List([Compose.Form{Compose.LinePrimitive}(Compose.LinePrimitive[Compose.LinePrimitive{Tuple{Measures.Measure, Measures.Measure}}(Tuple{Measures.Measure, Measures.Measure}[(0.01944663817381158cx, 0.499215052533775cy), (0.14096464268394865cx, 0.49431007878518135cy)]), Compose.LinePrimitive{Tuple{Measures.Measure, Measures.Measure}}(Tuple{Measures.Measure, Measures.Measure}[(0.01939853618190899cx, 0.4984237155120199cy), (0.29726945761956347cx, 0.47584450546155277cy)]), Compose.LinePrimitive{Tuple{Measures.Measure, Measures.Measure}}(Tuple{Measures.Measure, Measures.Measure}[(0.019316339694771784cx, 0.49761947493521647cy), (0.4454068323489968cx, 0.4451085378913885cy)]), Compose.LinePrimitive{Tuple{Measures.Measure, Measures.Measure}}(Tuple{Measures.Measure, Measures.Measure}[(0.01919686238121783cx, 0.49679557282740544cy), (0.5815454018567611cx, 0.4029258088743452cy)]), Compose.LinePrimitive{Tuple{Measures.Measure, Measures.Measure}}(Tuple{Measures.Measure, Measures.Measure}[(0.019035336785907665cx, 0.4959449004654695cy), (0.7021671105579069cx, 0.3504172762893302cy)]), Compose.LinePrimitive{Tuple{Measures.Measure, Measures.Measure}}(Tuple{Measures.Measure, Measures.Measure}[(0.018825075795907083cx, 0.4950599190223001cy), (0.8041587900977493cx, 0.28897245434327773cy)]), Compose.LinePrimitive{Tuple{Measures.Measure, Measures.Measure}}(Tuple{Measures.Measure, Measures.Measure}[(0.018556990786051122cx, 0.494132635024622cy), (0.8848934438243311cx, 0.22021364567690507cy)]), Compose.LinePrimitive{Tuple{Measures.Measure, Measures.Measure}}(Tuple{Measures.Measure, Measures.Measure}[(0.018218931877615595cx, 0.4931546804291778cy), (0.9422991797537565cx, 0.14595405152904845cy)]), Compose.LinePrimitive{Tuple{Measures.Measure, Measures.Measure}}(Tuple{Measures.Measure, Measures.Measure}[(0.017794814253547633cx, 0.49211758511180637cy), (0.9749140598445062cx, 0.06815075501585523cy)]), Compose.LinePrimitive{Tuple{Measures.Measure, Measures.Measure}}(Tuple{Measures.Measure, Measures.Measure}[(0.017263509133969394cx, 0.4910133915647095cy), (0.9819254890376002cx, -0.011146361619417115cy)])  …  Compose.LinePrimitive{Tuple{Measures.Measure, Measures.Measure}}(Tuple{Measures.Measure, Measures.Measure}[(0.7416137791945607cx, -0.9806380929788192cy), (0.6027182286331618cx, 0.3803594746805699cy)]), Compose.LinePrimitive{Tuple{Measures.Measure, Measures.Measure}}(Tuple{Measures.Measure, Measures.Measure}[(0.7857587898486349cx, -0.9828028776175854cy), (0.009113005023159822cx, 0.48280287761758545cy)]), Compose.LinePrimitive{Tuple{Measures.Measure, Measures.Measure}}(Tuple{Measures.Measure, Measures.Measure}[(0.8443553274503065cx, -0.980620804731339cy), (0.7230009660473543cx, 0.32698298148613864cy)]), Compose.LinePrimitive{Tuple{Measures.Measure, Measures.Measure}}(Tuple{Measures.Measure, Measures.Measure}[(0.8949098852515857cx, -0.9807021467195808cy), (0.7237284595281263cx, 0.3270643234743805cy)]), Compose.LinePrimitive{Tuple{Measures.Measure, Measures.Measure}}(Tuple{Measures.Measure, Measures.Measure}[(-0.1409646426839491cx, 0.49431007878518135cy), (-0.01944663817381158cx, 0.499215052533775cy)]), Compose.LinePrimitive{Tuple{Measures.Measure, Measures.Measure}}(Tuple{Measures.Measure, Measures.Measure}[(-0.14121441847654284cx, 0.4903207041463618cy), (0.7020055849625967cx, 0.3495666039273943cy)]), Compose.LinePrimitive{Tuple{Measures.Measure, Measures.Measure}}(Tuple{Measures.Measure, Measures.Measure}[(0.9383145475796891cx, -0.9835513792814006cy), (0.0104034011382595cx, 0.4835513792814005cy)]), Compose.LinePrimitive{Tuple{Measures.Measure, Measures.Measure}}(Tuple{Measures.Measure, Measures.Measure}[(0.9440224338862083cx, -0.9811124374454303cy), (0.6054377790697193cx, 0.3808338191471809cy)]), Compose.LinePrimitive{Tuple{Measures.Measure, Measures.Measure}}(Tuple{Measures.Measure, Measures.Measure}[(0.9454750518014153cx, -0.9808095987958402cy), (0.7244453442603479cx, 0.32717177555064cy)]), Compose.LinePrimitive{Tuple{Measures.Measure, Measures.Measure}}(Tuple{Measures.Measure, Measures.Measure}[(0.9946614396459528cx, -0.9812840268184079cy), (0.6060808245920262cx, 0.3810054085201586cy)])], Symbol(\"\"))]), List([Compose.Property{Compose.LineWidthPrimitive}(Compose.LineWidthPrimitive[Compose.LineWidthPrimitive(0.23354968324845687mm)]), Compose.Property{Compose.FillPrimitive}(Compose.FillPrimitive[Compose.FillPrimitive(RGBA{Float64}(0.0,0.0,0.0,0.0))]), Compose.Property{Compose.StrokePrimitive}(Compose.StrokePrimitive[Compose.StrokePrimitive(RGBA{Float64}(0.8274509803921568,0.8274509803921568,0.8274509803921568,1.0))])]), 0, false, false, false, false, nothing, nothing, 0.0, Symbol(\"\")), Compose.Context(BBox{l,t,r,b,w,h = 0.0w,0.0h, 1.0w,1.0h, 1.0w,1.0h}, nothing, nothing, nothing, nothing, List([]), List([Compose.Form{Compose.LinePrimitive}(Compose.LinePrimitive[Compose.LinePrimitive{Tuple{Measures.Measure, Measures.Measure}}(Tuple{Measures.Measure, Measures.Measure}[(0.04569242491159664cx, 0.4639257979686549cy), (0.14096464268394865cx, 0.49431007878518135cy), (0.048451250437717655cx, 0.5322741704389403cy)]), Compose.LinePrimitive{Tuple{Measures.Measure, Measures.Measure}}(Tuple{Measures.Measure, Measures.Measure}[(0.2008388459074152cx, 0.4493655114319282cy), (0.29726945761956347cx, 0.47584450546155277cy), (0.20637895409170193cx, 0.5175448216288409cy)]), Compose.LinePrimitive{Tuple{Measures.Measure, Measures.Measure}}(Tuple{Measures.Measure, Measures.Measure}[(0.34795976687586183cx, 0.4226570472799714cy), (0.4454068323489968cx, 0.4451085378913885cy), (0.35632650936103794cx, 0.4905474645552186cy)]), Compose.LinePrimitive{Tuple{Measures.Measure, Measures.Measure}}(Tuple{Measures.Measure, Measures.Measure}[(0.4832273311324401cx, 0.38466226680147736cy), (0.5815454018567611cx, 0.4029258088743452cy), (0.494489811566788cx, 0.45213276162763355cy)]), Compose.LinePrimitive{Tuple{Measures.Measure, Measures.Measure}}(Tuple{Measures.Measure, Measures.Measure}[(0.6031340090723233cx, 0.3365448284106717cy), (0.7021671105579069cx, 0.3504172762893302cy), (0.6173863158676137cx, 0.40344761526318895cy)]), Compose.LinePrimitive{Tuple{Measures.Measure, Measures.Measure}}(Tuple{Measures.Measure, Measures.Measure}[(0.7045856710304906cx, 0.27974239696439146cy), (0.8041587900977493cx, 0.28897245434327773cy), (0.7219483890324075cx, 0.34590618737278894cy)]), Compose.LinePrimitive{Tuple{Measures.Measure, Measures.Measure}}(Tuple{Measures.Measure, Measures.Measure}[(0.7849851551295541cx, 0.21593184114130376cy), (0.8848934438243311cx, 0.22021364567690507cy), (0.8056069635455865cx, 0.28115340318387444cy)]), Compose.LinePrimitive{Tuple{Measures.Measure, Measures.Measure}}(Tuple{Measures.Measure, Measures.Measure}[(0.8423045263471038cx, 0.14698811636425274cy), (0.9422991797537565cx, 0.14595405152904845cy), (0.866363515233664cx, 0.21102151539457767cy)]), Compose.LinePrimitive{Tuple{Measures.Measure, Measures.Measure}}(Tuple{Measures.Measure, Measures.Measure}[(0.8751446229929735cx, 0.07493746779363122cy), (0.9749140598445062cx, 0.06815075501585523cy), (0.9028486520353355cx, 0.13748023645988394cy)]), Compose.LinePrimitive{Tuple{Measures.Measure, Measures.Measure}}(Tuple{Measures.Measure, Measures.Measure}[(0.8827808805994038cx, 0.0019053286020335892cy), (0.9819254890376002cx, -0.011146361619417115cy), (0.9143657774381284cx, 0.06258073901933167cy)])  …  Compose.LinePrimitive{Tuple{Measures.Measure, Measures.Measure}}(Tuple{Measures.Measure, Measures.Measure}[(0.6462839209908505cx, 0.2903481951129778cy), (0.6027182286331618cx, 0.3803594746805699cy), (0.5782333499363208cx, 0.2834033468948493cy)]), Compose.LinePrimitive{Tuple{Measures.Measure, Measures.Measure}}(Tuple{Measures.Measure, Measures.Measure}[(0.08333371370262388cx, 0.41578581707985274cy), (0.009113005023159822cx, 0.48280287761758545cy), (0.022891630320148473cx, 0.38375667887717346cy)]), Compose.LinePrimitive{Tuple{Measures.Measure, Measures.Measure}}(Tuple{Measures.Measure, Measures.Measure}[(0.7657402913079392cx, 0.23657639944550435cy), (0.7230009660473543cx, 0.32698298148613864cy), (0.6976289578960506cx, 0.23025521296866389cy)]), Compose.LinePrimitive{Tuple{Measures.Measure, Measures.Measure}}(Tuple{Measures.Measure, Measures.Measure}[(0.7698373444367631cx, 0.23832892618287077cy), (0.7237284595281263cx, 0.3270643234743805cy), (0.7020119006712051cx, 0.2294508455555302cy)]), Compose.LinePrimitive{Tuple{Measures.Measure, Measures.Measure}}(Tuple{Measures.Measure, Measures.Measure}[(-0.11196003042004259cx, 0.4612509608800161cy), (-0.01944663817381158cx, 0.499215052533775cy), (-0.11471885594616359cx, 0.5295993333503015cy)]), Compose.LinePrimitive{Tuple{Measures.Measure, Measures.Measure}}(Tuple{Measures.Measure, Measures.Measure}[(0.6036875142382757cx, 0.33130306185452646cy), (0.7020055849625967cx, 0.3495666039273943cy), (0.6149499946726236cx, 0.39877355668068265cy)]), Compose.LinePrimitive{Tuple{Measures.Measure, Measures.Measure}}(Tuple{Measures.Measure, Measures.Measure}[(0.0895390711960859cx, 0.42241590901659565cy), (0.0104034011382595cx, 0.4835513792814005cy), (0.03172771863997789cx, 0.3858514638101684cy)]), Compose.LinePrimitive{Tuple{Measures.Measure, Measures.Measure}}(Tuple{Measures.Measure, Measures.Measure}[(0.6613005008971641cx, 0.297891934010481cy), (0.6054377790697193cx, 0.3808338191471809cy), (0.5949170906132198cx, 0.2813887835023521cy)]), Compose.LinePrimitive{Tuple{Measures.Measure, Measures.Measure}}(Tuple{Measures.Measure, Measures.Measure}[(0.773826683283798cx, 0.24021498538304537cy), (0.7244453442603479cx, 0.32717177555064cy), (0.7063788973151941cx, 0.228817296777287cy)]), Compose.LinePrimitive{Tuple{Measures.Measure, Measures.Measure}}(Tuple{Measures.Measure, Measures.Measure}[(0.6647467775056214cx, 0.3000220400502077cy), (0.6060808245920262cx, 0.3810054085201586cy), (0.5989664459786015cx, 0.2812588014753831cy)])], Symbol(\"\"))]), List([Compose.Property{Compose.LineWidthPrimitive}(Compose.LineWidthPrimitive[Compose.LineWidthPrimitive(0.23354968324845687mm)]), Compose.Property{Compose.StrokePrimitive}(Compose.StrokePrimitive[Compose.StrokePrimitive(RGBA{Float64}(0.8274509803921568,0.8274509803921568,0.8274509803921568,1.0))])]), 0, false, false, false, false, nothing, nothing, 0.0, Symbol(\"\")), Compose.Context(BBox{l,t,r,b,w,h = 0.0w,0.0h, 1.0w,1.0h, 1.0w,1.0h}, nothing, nothing, nothing, nothing, List([]), List([]), List([Compose.Property{Compose.FontSizePrimitive}(Compose.FontSizePrimitive[Compose.FontSizePrimitive(4.0mm)]), Compose.Property{Compose.StrokePrimitive}(Compose.StrokePrimitive[Compose.StrokePrimitive(RGBA{Float64}(0.0,0.0,0.0,0.0))]), Compose.Property{Compose.FillPrimitive}(Compose.FillPrimitive[Compose.FillPrimitive(RGBA{Float64}(0.0,0.0,0.0,1.0))])]), 0, false, false, false, false, nothing, nothing, 0.0, Symbol(\"\")), Compose.Context(BBox{l,t,r,b,w,h = 0.0w,0.0h, 1.0w,1.0h, 1.0w,1.0h}, nothing, nothing, nothing, nothing, List([]), List([Compose.Form{Compose.CirclePrimitive{Tuple{Measures.Measure, Measures.Measure}, Measures.Measure}}(Compose.CirclePrimitive{Tuple{Measures.Measure, Measures.Measure}, Measures.Measure}[Compose.CirclePrimitive{Tuple{Measures.Measure, Measures.Measure}, Measures.Measure}((0.0cx, 0.5cy), 0.00778498944161523w), Compose.CirclePrimitive{Tuple{Measures.Measure, Measures.Measure}, Measures.Measure}((0.16041128085776024cx, 0.49352513131895637cy), 0.00778498944161523w), Compose.CirclePrimitive{Tuple{Measures.Measure, Measures.Measure}, Measures.Measure}((0.3166679938014725cx, 0.4742682209735727cy), 0.00778498944161523w), Compose.CirclePrimitive{Tuple{Measures.Measure, Measures.Measure}, Measures.Measure}((0.46472317204376856cx, 0.4427280128266049cy), 0.00778498944161523w), Compose.CirclePrimitive{Tuple{Measures.Measure, Measures.Measure}, Measures.Measure}((-1.0cx, 1.0cy), 0.00778498944161523w), Compose.CirclePrimitive{Tuple{Measures.Measure, Measures.Measure}, Measures.Measure}((0.6007422642379789cx, 0.39972138170175064cy), 0.00778498944161523w), Compose.CirclePrimitive{Tuple{Measures.Measure, Measures.Measure}, Measures.Measure}((0.7212024473438146cx, 0.34636217675479974cy), 0.00778498944161523w), Compose.CirclePrimitive{Tuple{Measures.Measure, Measures.Measure}, Measures.Measure}((0.8229838658936564cx, 0.28403237336557785cy), 0.00778498944161523w), Compose.CirclePrimitive{Tuple{Measures.Measure, Measures.Measure}, Measures.Measure}((0.9034504346103822cx, 0.21434628070152706cy), 0.00778498944161523w), Compose.CirclePrimitive{Tuple{Measures.Measure, Measures.Measure}, Measures.Measure}((0.9605181116313721cx, 0.13910873195822626cy), 0.00778498944161523w)  …  Compose.CirclePrimitive{Tuple{Measures.Measure, Measures.Measure}, Measures.Measure}((0.7882352941176469cx, 1.0cy), 0.00778498944161523w), Compose.CirclePrimitive{Tuple{Measures.Measure, Measures.Measure}, Measures.Measure}((0.8117647058823529cx, 1.0cy), 0.00778498944161523w), Compose.CirclePrimitive{Tuple{Measures.Measure, Measures.Measure}, Measures.Measure}((0.835294117647059cx, 1.0cy), 0.00778498944161523w), Compose.CirclePrimitive{Tuple{Measures.Measure, Measures.Measure}, Measures.Measure}((0.8588235294117648cx, 1.0cy), 0.00778498944161523w), Compose.CirclePrimitive{Tuple{Measures.Measure, Measures.Measure}, Measures.Measure}((0.8823529411764706cx, 1.0cy), 0.00778498944161523w), Compose.CirclePrimitive{Tuple{Measures.Measure, Measures.Measure}, Measures.Measure}((0.9058823529411764cx, 1.0cy), 0.00778498944161523w), Compose.CirclePrimitive{Tuple{Measures.Measure, Measures.Measure}, Measures.Measure}((0.9294117647058824cx, 1.0cy), 0.00778498944161523w), Compose.CirclePrimitive{Tuple{Measures.Measure, Measures.Measure}, Measures.Measure}((0.9529411764705882cx, 1.0cy), 0.00778498944161523w), Compose.CirclePrimitive{Tuple{Measures.Measure, Measures.Measure}, Measures.Measure}((0.9764705882352942cx, 1.0cy), 0.00778498944161523w), Compose.CirclePrimitive{Tuple{Measures.Measure, Measures.Measure}, Measures.Measure}((1.0cx, 1.0cy), 0.00778498944161523w)], Symbol(\"\"))]), List([Compose.Property{Compose.LineWidthPrimitive}(Compose.LineWidthPrimitive[Compose.LineWidthPrimitive(0.0mm)]), Compose.Property{Compose.StrokePrimitive}(Compose.StrokePrimitive[Compose.StrokePrimitive(RGBA{Float64}(0.0,0.0,0.0,0.0))]), Compose.Property{Compose.FillPrimitive}(Compose.FillPrimitive[Compose.FillPrimitive(RGBA{Float64}(0.25098039215686274,0.8784313725490196,0.8156862745098039,1.0))])]), 0, false, false, false, false, nothing, nothing, 0.0, Symbol(\"\")), Compose.Context(BBox{l,t,r,b,w,h = 0.0w,0.0h, 1.0w,1.0h, 1.0w,1.0h}, nothing, nothing, nothing, nothing, List([]), List([Compose.Form{Compose.TextPrimitive{Tuple{Measures.Length{:cx, Float64}, Measures.Length{:cy, Float64}}, Compose.Rotation{Tuple{Measures.Length{:w, Float64}, Measures.Length{:h, Float64}}}, Tuple{Measures.AbsoluteLength, Measures.AbsoluteLength}}}(Compose.TextPrimitive{Tuple{Measures.Length{:cx, Float64}, Measures.Length{:cy, Float64}}, Compose.Rotation{Tuple{Measures.Length{:w, Float64}, Measures.Length{:h, Float64}}}, Tuple{Measures.AbsoluteLength, Measures.AbsoluteLength}}[Compose.TextPrimitive{Tuple{Measures.Length{:cx, Float64}, Measures.Length{:cy, Float64}}, Compose.Rotation{Tuple{Measures.Length{:w, Float64}, Measures.Length{:h, Float64}}}, Tuple{Measures.AbsoluteLength, Measures.AbsoluteLength}}((0.0cx, 0.5cy), \"USA\", Compose.HCenter(), Compose.VCenter(), Compose.Rotation{Tuple{Measures.Length{:w, Float64}, Measures.Length{:h, Float64}}}(0.0, (0.5w, 0.5h)), (0.0mm, 0.0mm)), Compose.TextPrimitive{Tuple{Measures.Length{:cx, Float64}, Measures.Length{:cy, Float64}}, Compose.Rotation{Tuple{Measures.Length{:w, Float64}, Measures.Length{:h, Float64}}}, Tuple{Measures.AbsoluteLength, Measures.AbsoluteLength}}((0.16041128085776024cx, 0.49352513131895637cy), \"IRL\", Compose.HCenter(), Compose.VCenter(), Compose.Rotation{Tuple{Measures.Length{:w, Float64}, Measures.Length{:h, Float64}}}(0.0, (0.5w, 0.5h)), (0.0mm, 0.0mm)), Compose.TextPrimitive{Tuple{Measures.Length{:cx, Float64}, Measures.Length{:cy, Float64}}, Compose.Rotation{Tuple{Measures.Length{:w, Float64}, Measures.Length{:h, Float64}}}, Tuple{Measures.AbsoluteLength, Measures.AbsoluteLength}}((0.3166679938014725cx, 0.4742682209735727cy), \"MEX\", Compose.HCenter(), Compose.VCenter(), Compose.Rotation{Tuple{Measures.Length{:w, Float64}, Measures.Length{:h, Float64}}}(0.0, (0.5w, 0.5h)), (0.0mm, 0.0mm)), Compose.TextPrimitive{Tuple{Measures.Length{:cx, Float64}, Measures.Length{:cy, Float64}}, Compose.Rotation{Tuple{Measures.Length{:w, Float64}, Measures.Length{:h, Float64}}}, Tuple{Measures.AbsoluteLength, Measures.AbsoluteLength}}((0.46472317204376856cx, 0.4427280128266049cy), \"CHE\", Compose.HCenter(), Compose.VCenter(), Compose.Rotation{Tuple{Measures.Length{:w, Float64}, Measures.Length{:h, Float64}}}(0.0, (0.5w, 0.5h)), (0.0mm, 0.0mm)), Compose.TextPrimitive{Tuple{Measures.Length{:cx, Float64}, Measures.Length{:cy, Float64}}, Compose.Rotation{Tuple{Measures.Length{:w, Float64}, Measures.Length{:h, Float64}}}, Tuple{Measures.AbsoluteLength, Measures.AbsoluteLength}}((-1.0cx, 1.0cy), \"PSE\", Compose.HCenter(), Compose.VCenter(), Compose.Rotation{Tuple{Measures.Length{:w, Float64}, Measures.Length{:h, Float64}}}(0.0, (0.5w, 0.5h)), (0.0mm, 0.0mm)), Compose.TextPrimitive{Tuple{Measures.Length{:cx, Float64}, Measures.Length{:cy, Float64}}, Compose.Rotation{Tuple{Measures.Length{:w, Float64}, Measures.Length{:h, Float64}}}, Tuple{Measures.AbsoluteLength, Measures.AbsoluteLength}}((0.6007422642379789cx, 0.39972138170175064cy), \"RUS\", Compose.HCenter(), Compose.VCenter(), Compose.Rotation{Tuple{Measures.Length{:w, Float64}, Measures.Length{:h, Float64}}}(0.0, (0.5w, 0.5h)), (0.0mm, 0.0mm)), Compose.TextPrimitive{Tuple{Measures.Length{:cx, Float64}, Measures.Length{:cy, Float64}}, Compose.Rotation{Tuple{Measures.Length{:w, Float64}, Measures.Length{:h, Float64}}}, Tuple{Measures.AbsoluteLength, Measures.AbsoluteLength}}((0.7212024473438146cx, 0.34636217675479974cy), \"GBR\", Compose.HCenter(), Compose.VCenter(), Compose.Rotation{Tuple{Measures.Length{:w, Float64}, Measures.Length{:h, Float64}}}(0.0, (0.5w, 0.5h)), (0.0mm, 0.0mm)), Compose.TextPrimitive{Tuple{Measures.Length{:cx, Float64}, Measures.Length{:cy, Float64}}, Compose.Rotation{Tuple{Measures.Length{:w, Float64}, Measures.Length{:h, Float64}}}, Tuple{Measures.AbsoluteLength, Measures.AbsoluteLength}}((0.8229838658936564cx, 0.28403237336557785cy), \"DEU\", Compose.HCenter(), Compose.VCenter(), Compose.Rotation{Tuple{Measures.Length{:w, Float64}, Measures.Length{:h, Float64}}}(0.0, (0.5w, 0.5h)), (0.0mm, 0.0mm)), Compose.TextPrimitive{Tuple{Measures.Length{:cx, Float64}, Measures.Length{:cy, Float64}}, Compose.Rotation{Tuple{Measures.Length{:w, Float64}, Measures.Length{:h, Float64}}}, Tuple{Measures.AbsoluteLength, Measures.AbsoluteLength}}((0.9034504346103822cx, 0.21434628070152706cy), \"IDN\", Compose.HCenter(), Compose.VCenter(), Compose.Rotation{Tuple{Measures.Length{:w, Float64}, Measures.Length{:h, Float64}}}(0.0, (0.5w, 0.5h)), (0.0mm, 0.0mm)), Compose.TextPrimitive{Tuple{Measures.Length{:cx, Float64}, Measures.Length{:cy, Float64}}, Compose.Rotation{Tuple{Measures.Length{:w, Float64}, Measures.Length{:h, Float64}}}, Tuple{Measures.AbsoluteLength, Measures.AbsoluteLength}}((0.9605181116313721cx, 0.13910873195822626cy), \"BEL\", Compose.HCenter(), Compose.VCenter(), Compose.Rotation{Tuple{Measures.Length{:w, Float64}, Measures.Length{:h, Float64}}}(0.0, (0.5w, 0.5h)), (0.0mm, 0.0mm))  …  Compose.TextPrimitive{Tuple{Measures.Length{:cx, Float64}, Measures.Length{:cy, Float64}}, Compose.Rotation{Tuple{Measures.Length{:w, Float64}, Measures.Length{:h, Float64}}}, Tuple{Measures.AbsoluteLength, Measures.AbsoluteLength}}((0.7882352941176469cx, 1.0cy), \"ETH\", Compose.HCenter(), Compose.VCenter(), Compose.Rotation{Tuple{Measures.Length{:w, Float64}, Measures.Length{:h, Float64}}}(0.0, (0.5w, 0.5h)), (0.0mm, 0.0mm)), Compose.TextPrimitive{Tuple{Measures.Length{:cx, Float64}, Measures.Length{:cy, Float64}}, Compose.Rotation{Tuple{Measures.Length{:w, Float64}, Measures.Length{:h, Float64}}}, Tuple{Measures.AbsoluteLength, Measures.AbsoluteLength}}((0.8117647058823529cx, 1.0cy), \"CIV\", Compose.HCenter(), Compose.VCenter(), Compose.Rotation{Tuple{Measures.Length{:w, Float64}, Measures.Length{:h, Float64}}}(0.0, (0.5w, 0.5h)), (0.0mm, 0.0mm)), Compose.TextPrimitive{Tuple{Measures.Length{:cx, Float64}, Measures.Length{:cy, Float64}}, Compose.Rotation{Tuple{Measures.Length{:w, Float64}, Measures.Length{:h, Float64}}}, Tuple{Measures.AbsoluteLength, Measures.AbsoluteLength}}((0.835294117647059cx, 1.0cy), \"NIC\", Compose.HCenter(), Compose.VCenter(), Compose.Rotation{Tuple{Measures.Length{:w, Float64}, Measures.Length{:h, Float64}}}(0.0, (0.5w, 0.5h)), (0.0mm, 0.0mm)), Compose.TextPrimitive{Tuple{Measures.Length{:cx, Float64}, Measures.Length{:cy, Float64}}, Compose.Rotation{Tuple{Measures.Length{:w, Float64}, Measures.Length{:h, Float64}}}, Tuple{Measures.AbsoluteLength, Measures.AbsoluteLength}}((0.8588235294117648cx, 1.0cy), \"BTN\", Compose.HCenter(), Compose.VCenter(), Compose.Rotation{Tuple{Measures.Length{:w, Float64}, Measures.Length{:h, Float64}}}(0.0, (0.5w, 0.5h)), (0.0mm, 0.0mm)), Compose.TextPrimitive{Tuple{Measures.Length{:cx, Float64}, Measures.Length{:cy, Float64}}, Compose.Rotation{Tuple{Measures.Length{:w, Float64}, Measures.Length{:h, Float64}}}, Tuple{Measures.AbsoluteLength, Measures.AbsoluteLength}}((0.8823529411764706cx, 1.0cy), \"SLB\", Compose.HCenter(), Compose.VCenter(), Compose.Rotation{Tuple{Measures.Length{:w, Float64}, Measures.Length{:h, Float64}}}(0.0, (0.5w, 0.5h)), (0.0mm, 0.0mm)), Compose.TextPrimitive{Tuple{Measures.Length{:cx, Float64}, Measures.Length{:cy, Float64}}, Compose.Rotation{Tuple{Measures.Length{:w, Float64}, Measures.Length{:h, Float64}}}, Tuple{Measures.AbsoluteLength, Measures.AbsoluteLength}}((0.9058823529411764cx, 1.0cy), \"MUS\", Compose.HCenter(), Compose.VCenter(), Compose.Rotation{Tuple{Measures.Length{:w, Float64}, Measures.Length{:h, Float64}}}(0.0, (0.5w, 0.5h)), (0.0mm, 0.0mm)), Compose.TextPrimitive{Tuple{Measures.Length{:cx, Float64}, Measures.Length{:cy, Float64}}, Compose.Rotation{Tuple{Measures.Length{:w, Float64}, Measures.Length{:h, Float64}}}, Tuple{Measures.AbsoluteLength, Measures.AbsoluteLength}}((0.9294117647058824cx, 1.0cy), \"GUY\", Compose.HCenter(), Compose.VCenter(), Compose.Rotation{Tuple{Measures.Length{:w, Float64}, Measures.Length{:h, Float64}}}(0.0, (0.5w, 0.5h)), (0.0mm, 0.0mm)), Compose.TextPrimitive{Tuple{Measures.Length{:cx, Float64}, Measures.Length{:cy, Float64}}, Compose.Rotation{Tuple{Measures.Length{:w, Float64}, Measures.Length{:h, Float64}}}, Tuple{Measures.AbsoluteLength, Measures.AbsoluteLength}}((0.9529411764705882cx, 1.0cy), \"BMU\", Compose.HCenter(), Compose.VCenter(), Compose.Rotation{Tuple{Measures.Length{:w, Float64}, Measures.Length{:h, Float64}}}(0.0, (0.5w, 0.5h)), (0.0mm, 0.0mm)), Compose.TextPrimitive{Tuple{Measures.Length{:cx, Float64}, Measures.Length{:cy, Float64}}, Compose.Rotation{Tuple{Measures.Length{:w, Float64}, Measures.Length{:h, Float64}}}, Tuple{Measures.AbsoluteLength, Measures.AbsoluteLength}}((0.9764705882352942cx, 1.0cy), \"MAC\", Compose.HCenter(), Compose.VCenter(), Compose.Rotation{Tuple{Measures.Length{:w, Float64}, Measures.Length{:h, Float64}}}(0.0, (0.5w, 0.5h)), (0.0mm, 0.0mm)), Compose.TextPrimitive{Tuple{Measures.Length{:cx, Float64}, Measures.Length{:cy, Float64}}, Compose.Rotation{Tuple{Measures.Length{:w, Float64}, Measures.Length{:h, Float64}}}, Tuple{Measures.AbsoluteLength, Measures.AbsoluteLength}}((1.0cx, 1.0cy), \"LTU\", Compose.HCenter(), Compose.VCenter(), Compose.Rotation{Tuple{Measures.Length{:w, Float64}, Measures.Length{:h, Float64}}}(0.0, (0.5w, 0.5h)), (0.0mm, 0.0mm))], Symbol(\"\"))]), List([Compose.Property{Compose.FontSizePrimitive}(Compose.FontSizePrimitive[Compose.FontSizePrimitive(4.0mm)]), Compose.Property{Compose.StrokePrimitive}(Compose.StrokePrimitive[Compose.StrokePrimitive(RGBA{Float64}(0.0,0.0,0.0,0.0))]), Compose.Property{Compose.FillPrimitive}(Compose.FillPrimitive[Compose.FillPrimitive(RGBA{Float64}(0.0,0.0,0.0,1.0))])]), 0, false, false, false, false, nothing, nothing, 0.0, Symbol(\"\"))]), List([]), List([]), 0, false, false, false, false, nothing, nothing, 0.0, Symbol(\"\"))"
      ]
     },
     "execution_count": 30,
     "metadata": {},
     "output_type": "execute_result"
    }
   ],
   "source": [
    "begin\n",
    "\tfunction make_simplifier(edge_type)\n",
    "\t\tif edge_type==\"Any Edge\"\n",
    "\t\t\treturn x->(maximum(x)>cuttoff)\n",
    "\t\telse\n",
    "\t\t\tidx = findfirst(x->(x==et), edgeTypes)\n",
    "\t\t\treturn x->(x[idx]>cuttoff)\n",
    "\t\tend\n",
    "\tend\n",
    "\ts = make_simplifier(et)\n",
    "\n",
    "\ticg = InfluenceCascadeGenerator(s)\n",
    "\tinfluence_cascades = observe.(influence_graph, Ref(icg));\n",
    "\tall_ics = vcat(influence_cascades...);\n",
    "\t\n",
    "\ti = (1:length(unique(df[!,tsg.part_col])))[findfirst(x->x==part, unique(df[!,tsg.part_col]))]\n",
    "\txs, ys, influencers = influence_layout(influence_graph[i]; simplifier=s)\n",
    "\tg = print_graph(influence_graph[i]; simplifier=s)\n",
    "\tgplot(g, xs, ys, nodelabel=unique(df.actor))\t\n",
    "end"
   ]
  },
  {
   "cell_type": "code",
   "execution_count": 156,
   "metadata": {},
   "outputs": [
    {
     "data": {
      "application/vnd.plotly.v1+json": {
       "config": {
        "editable": false,
        "responsive": true,
        "scrollZoom": true,
        "showLink": false,
        "staticPlot": false
       },
       "data": [
        {
         "hovertext": [
          "United States of America",
          "Republic of Ireland"
         ],
         "line": {
          "color": "red",
          "width": 1
         },
         "locations": [
          "USA",
          "IRL"
         ],
         "marker": {
          "color": "blue",
          "size": 8
         },
         "mode": "markers+lines",
         "name": "",
         "showlegend": false,
         "type": "scattergeo"
        },
        {
         "hovertext": [
          "United States of America",
          "Mexico"
         ],
         "line": {
          "color": "red",
          "width": 1
         },
         "locations": [
          "USA",
          "MEX"
         ],
         "marker": {
          "color": "blue",
          "size": 8
         },
         "mode": "markers+lines",
         "name": "",
         "showlegend": false,
         "type": "scattergeo"
        },
        {
         "hovertext": [
          "United States of America",
          "Switzerland"
         ],
         "line": {
          "color": "red",
          "width": 1
         },
         "locations": [
          "USA",
          "CHE"
         ],
         "marker": {
          "color": "blue",
          "size": 8
         },
         "mode": "markers+lines",
         "name": "",
         "showlegend": false,
         "type": "scattergeo"
        },
        {
         "hovertext": [
          "United States of America",
          "Russia"
         ],
         "line": {
          "color": "red",
          "width": 1
         },
         "locations": [
          "USA",
          "RUS"
         ],
         "marker": {
          "color": "blue",
          "size": 8
         },
         "mode": "markers+lines",
         "name": "",
         "showlegend": false,
         "type": "scattergeo"
        },
        {
         "hovertext": [
          "United States of America",
          "United Kingdom"
         ],
         "line": {
          "color": "red",
          "width": 1
         },
         "locations": [
          "USA",
          "GBR"
         ],
         "marker": {
          "color": "blue",
          "size": 8
         },
         "mode": "markers+lines",
         "name": "",
         "showlegend": false,
         "type": "scattergeo"
        },
        {
         "hovertext": [
          "United States of America",
          "Germany"
         ],
         "line": {
          "color": "red",
          "width": 1
         },
         "locations": [
          "USA",
          "DEU"
         ],
         "marker": {
          "color": "blue",
          "size": 8
         },
         "mode": "markers+lines",
         "name": "",
         "showlegend": false,
         "type": "scattergeo"
        },
        {
         "hovertext": [
          "United States of America",
          "Indonesia"
         ],
         "line": {
          "color": "red",
          "width": 1
         },
         "locations": [
          "USA",
          "IDN"
         ],
         "marker": {
          "color": "blue",
          "size": 8
         },
         "mode": "markers+lines",
         "name": "",
         "showlegend": false,
         "type": "scattergeo"
        },
        {
         "hovertext": [
          "United States of America",
          "Belgium"
         ],
         "line": {
          "color": "red",
          "width": 1
         },
         "locations": [
          "USA",
          "BEL"
         ],
         "marker": {
          "color": "blue",
          "size": 8
         },
         "mode": "markers+lines",
         "name": "",
         "showlegend": false,
         "type": "scattergeo"
        },
        {
         "hovertext": [
          "United States of America",
          "Spain"
         ],
         "line": {
          "color": "red",
          "width": 1
         },
         "locations": [
          "USA",
          "ESP"
         ],
         "marker": {
          "color": "blue",
          "size": 8
         },
         "mode": "markers+lines",
         "name": "",
         "showlegend": false,
         "type": "scattergeo"
        },
        {
         "hovertext": [
          "United States of America",
          "Canada"
         ],
         "line": {
          "color": "red",
          "width": 1
         },
         "locations": [
          "USA",
          "CAN"
         ],
         "marker": {
          "color": "blue",
          "size": 8
         },
         "mode": "markers+lines",
         "name": "",
         "showlegend": false,
         "type": "scattergeo"
        },
        {
         "hovertext": [
          "United States of America",
          "Netherlands"
         ],
         "line": {
          "color": "red",
          "width": 1
         },
         "locations": [
          "USA",
          "NLD"
         ],
         "marker": {
          "color": "blue",
          "size": 8
         },
         "mode": "markers+lines",
         "name": "",
         "showlegend": false,
         "type": "scattergeo"
        },
        {
         "hovertext": [
          "United States of America",
          "Norway"
         ],
         "line": {
          "color": "red",
          "width": 1
         },
         "locations": [
          "USA",
          "NOR"
         ],
         "marker": {
          "color": "blue",
          "size": 8
         },
         "mode": "markers+lines",
         "name": "",
         "showlegend": false,
         "type": "scattergeo"
        },
        {
         "hovertext": [
          "United States of America",
          "Vietnam"
         ],
         "line": {
          "color": "red",
          "width": 1
         },
         "locations": [
          "USA",
          "VNM"
         ],
         "marker": {
          "color": "blue",
          "size": 8
         },
         "mode": "markers+lines",
         "name": "",
         "showlegend": false,
         "type": "scattergeo"
        },
        {
         "hovertext": [
          "United States of America",
          "Australia"
         ],
         "line": {
          "color": "red",
          "width": 1
         },
         "locations": [
          "USA",
          "AUS"
         ],
         "marker": {
          "color": "blue",
          "size": 8
         },
         "mode": "markers+lines",
         "name": "",
         "showlegend": false,
         "type": "scattergeo"
        },
        {
         "hovertext": [
          "United States of America",
          "Brazil"
         ],
         "line": {
          "color": "red",
          "width": 1
         },
         "locations": [
          "USA",
          "BRA"
         ],
         "marker": {
          "color": "blue",
          "size": 8
         },
         "mode": "markers+lines",
         "name": "",
         "showlegend": false,
         "type": "scattergeo"
        },
        {
         "hovertext": [
          "United States of America",
          "Sweden"
         ],
         "line": {
          "color": "red",
          "width": 1
         },
         "locations": [
          "USA",
          "SWE"
         ],
         "marker": {
          "color": "blue",
          "size": 8
         },
         "mode": "markers+lines",
         "name": "",
         "showlegend": false,
         "type": "scattergeo"
        },
        {
         "hovertext": [
          "United States of America",
          "Thailand"
         ],
         "line": {
          "color": "red",
          "width": 1
         },
         "locations": [
          "USA",
          "THA"
         ],
         "marker": {
          "color": "blue",
          "size": 8
         },
         "mode": "markers+lines",
         "name": "",
         "showlegend": false,
         "type": "scattergeo"
        },
        {
         "hovertext": [
          "United States of America",
          "New Zealand"
         ],
         "line": {
          "color": "red",
          "width": 1
         },
         "locations": [
          "USA",
          "NZL"
         ],
         "marker": {
          "color": "blue",
          "size": 8
         },
         "mode": "markers+lines",
         "name": "",
         "showlegend": false,
         "type": "scattergeo"
        },
        {
         "hovertext": [
          "United States of America",
          "Philippines"
         ],
         "line": {
          "color": "red",
          "width": 1
         },
         "locations": [
          "USA",
          "PHL"
         ],
         "marker": {
          "color": "blue",
          "size": 8
         },
         "mode": "markers+lines",
         "name": "",
         "showlegend": false,
         "type": "scattergeo"
        },
        {
         "hovertext": [
          "United States of America",
          "Nigeria"
         ],
         "line": {
          "color": "red",
          "width": 1
         },
         "locations": [
          "USA",
          "NGA"
         ],
         "marker": {
          "color": "blue",
          "size": 8
         },
         "mode": "markers+lines",
         "name": "",
         "showlegend": false,
         "type": "scattergeo"
        },
        {
         "hovertext": [
          "United States of America",
          "Japan"
         ],
         "line": {
          "color": "red",
          "width": 1
         },
         "locations": [
          "USA",
          "JPN"
         ],
         "marker": {
          "color": "blue",
          "size": 8
         },
         "mode": "markers+lines",
         "name": "",
         "showlegend": false,
         "type": "scattergeo"
        },
        {
         "hovertext": [
          "United States of America",
          "Italy"
         ],
         "line": {
          "color": "red",
          "width": 1
         },
         "locations": [
          "USA",
          "ITA"
         ],
         "marker": {
          "color": "blue",
          "size": 8
         },
         "mode": "markers+lines",
         "name": "",
         "showlegend": false,
         "type": "scattergeo"
        },
        {
         "hovertext": [
          "United States of America",
          "South Africa"
         ],
         "line": {
          "color": "red",
          "width": 1
         },
         "locations": [
          "USA",
          "ZAF"
         ],
         "marker": {
          "color": "blue",
          "size": 8
         },
         "mode": "markers+lines",
         "name": "",
         "showlegend": false,
         "type": "scattergeo"
        },
        {
         "hovertext": [
          "United States of America",
          "Finland"
         ],
         "line": {
          "color": "red",
          "width": 1
         },
         "locations": [
          "USA",
          "FIN"
         ],
         "marker": {
          "color": "blue",
          "size": 8
         },
         "mode": "markers+lines",
         "name": "",
         "showlegend": false,
         "type": "scattergeo"
        },
        {
         "hovertext": [
          "United States of America",
          "Turkey"
         ],
         "line": {
          "color": "red",
          "width": 1
         },
         "locations": [
          "USA",
          "TUR"
         ],
         "marker": {
          "color": "blue",
          "size": 8
         },
         "mode": "markers+lines",
         "name": "",
         "showlegend": false,
         "type": "scattergeo"
        },
        {
         "hovertext": [
          "United States of America",
          "Pakistan"
         ],
         "line": {
          "color": "red",
          "width": 1
         },
         "locations": [
          "USA",
          "PAK"
         ],
         "marker": {
          "color": "blue",
          "size": 8
         },
         "mode": "markers+lines",
         "name": "",
         "showlegend": false,
         "type": "scattergeo"
        },
        {
         "hovertext": [
          "United States of America",
          "India"
         ],
         "line": {
          "color": "red",
          "width": 1
         },
         "locations": [
          "USA",
          "IND"
         ],
         "marker": {
          "color": "blue",
          "size": 8
         },
         "mode": "markers+lines",
         "name": "",
         "showlegend": false,
         "type": "scattergeo"
        },
        {
         "hovertext": [
          "United States of America",
          "France"
         ],
         "line": {
          "color": "red",
          "width": 1
         },
         "locations": [
          "USA",
          "FRA"
         ],
         "marker": {
          "color": "blue",
          "size": 8
         },
         "mode": "markers+lines",
         "name": "",
         "showlegend": false,
         "type": "scattergeo"
        },
        {
         "hovertext": [
          "United States of America",
          "United Arab Emirates"
         ],
         "line": {
          "color": "red",
          "width": 1
         },
         "locations": [
          "USA",
          "ARE"
         ],
         "marker": {
          "color": "blue",
          "size": 8
         },
         "mode": "markers+lines",
         "name": "",
         "showlegend": false,
         "type": "scattergeo"
        },
        {
         "hovertext": [
          "United States of America",
          "Portugal"
         ],
         "line": {
          "color": "red",
          "width": 1
         },
         "locations": [
          "USA",
          "PRT"
         ],
         "marker": {
          "color": "blue",
          "size": 8
         },
         "mode": "markers+lines",
         "name": "",
         "showlegend": false,
         "type": "scattergeo"
        },
        {
         "hovertext": [
          "United States of America",
          "Ukraine"
         ],
         "line": {
          "color": "red",
          "width": 1
         },
         "locations": [
          "USA",
          "UKR"
         ],
         "marker": {
          "color": "blue",
          "size": 8
         },
         "mode": "markers+lines",
         "name": "",
         "showlegend": false,
         "type": "scattergeo"
        },
        {
         "hovertext": [
          "United States of America",
          "Hong Kong S.A.R."
         ],
         "line": {
          "color": "red",
          "width": 1
         },
         "locations": [
          "USA",
          "HKG"
         ],
         "marker": {
          "color": "blue",
          "size": 8
         },
         "mode": "markers+lines",
         "name": "",
         "showlegend": false,
         "type": "scattergeo"
        },
        {
         "hovertext": [
          "United States of America",
          "Kenya"
         ],
         "line": {
          "color": "red",
          "width": 1
         },
         "locations": [
          "USA",
          "KEN"
         ],
         "marker": {
          "color": "blue",
          "size": 8
         },
         "mode": "markers+lines",
         "name": "",
         "showlegend": false,
         "type": "scattergeo"
        },
        {
         "hovertext": [
          "United States of America",
          "Bangladesh"
         ],
         "line": {
          "color": "red",
          "width": 1
         },
         "locations": [
          "USA",
          "BGD"
         ],
         "marker": {
          "color": "blue",
          "size": 8
         },
         "mode": "markers+lines",
         "name": "",
         "showlegend": false,
         "type": "scattergeo"
        },
        {
         "hovertext": [
          "United States of America",
          "Saudi Arabia"
         ],
         "line": {
          "color": "red",
          "width": 1
         },
         "locations": [
          "USA",
          "SAU"
         ],
         "marker": {
          "color": "blue",
          "size": 8
         },
         "mode": "markers+lines",
         "name": "",
         "showlegend": false,
         "type": "scattergeo"
        },
        {
         "hovertext": [
          "Republic of Ireland",
          "United States of America"
         ],
         "line": {
          "color": "red",
          "width": 1
         },
         "locations": [
          "IRL",
          "USA"
         ],
         "marker": {
          "color": "blue",
          "size": 8
         },
         "mode": "markers+lines",
         "name": "",
         "showlegend": false,
         "type": "scattergeo"
        },
        {
         "hovertext": [
          "Republic of Ireland",
          "United Kingdom"
         ],
         "line": {
          "color": "red",
          "width": 1
         },
         "locations": [
          "IRL",
          "GBR"
         ],
         "marker": {
          "color": "blue",
          "size": 8
         },
         "mode": "markers+lines",
         "name": "",
         "showlegend": false,
         "type": "scattergeo"
        },
        {
         "hovertext": [
          "Mexico",
          "United States of America"
         ],
         "line": {
          "color": "red",
          "width": 1
         },
         "locations": [
          "MEX",
          "USA"
         ],
         "marker": {
          "color": "blue",
          "size": 8
         },
         "mode": "markers+lines",
         "name": "",
         "showlegend": false,
         "type": "scattergeo"
        },
        {
         "hovertext": [
          "Mexico",
          "United Kingdom"
         ],
         "line": {
          "color": "red",
          "width": 1
         },
         "locations": [
          "MEX",
          "GBR"
         ],
         "marker": {
          "color": "blue",
          "size": 8
         },
         "mode": "markers+lines",
         "name": "",
         "showlegend": false,
         "type": "scattergeo"
        },
        {
         "hovertext": [
          "Switzerland",
          "United States of America"
         ],
         "line": {
          "color": "red",
          "width": 1
         },
         "locations": [
          "CHE",
          "USA"
         ],
         "marker": {
          "color": "blue",
          "size": 8
         },
         "mode": "markers+lines",
         "name": "",
         "showlegend": false,
         "type": "scattergeo"
        },
        {
         "hovertext": [
          "Switzerland",
          "United Kingdom"
         ],
         "line": {
          "color": "red",
          "width": 1
         },
         "locations": [
          "CHE",
          "GBR"
         ],
         "marker": {
          "color": "blue",
          "size": 8
         },
         "mode": "markers+lines",
         "name": "",
         "showlegend": false,
         "type": "scattergeo"
        },
        {
         "hovertext": [
          "Russia",
          "United States of America"
         ],
         "line": {
          "color": "red",
          "width": 1
         },
         "locations": [
          "RUS",
          "USA"
         ],
         "marker": {
          "color": "blue",
          "size": 8
         },
         "mode": "markers+lines",
         "name": "",
         "showlegend": false,
         "type": "scattergeo"
        },
        {
         "hovertext": [
          "Russia",
          "United Kingdom"
         ],
         "line": {
          "color": "red",
          "width": 1
         },
         "locations": [
          "RUS",
          "GBR"
         ],
         "marker": {
          "color": "blue",
          "size": 8
         },
         "mode": "markers+lines",
         "name": "",
         "showlegend": false,
         "type": "scattergeo"
        },
        {
         "hovertext": [
          "United Kingdom",
          "United States of America"
         ],
         "line": {
          "color": "red",
          "width": 1
         },
         "locations": [
          "GBR",
          "USA"
         ],
         "marker": {
          "color": "blue",
          "size": 8
         },
         "mode": "markers+lines",
         "name": "",
         "showlegend": false,
         "type": "scattergeo"
        },
        {
         "hovertext": [
          "United Kingdom",
          "Republic of Ireland"
         ],
         "line": {
          "color": "red",
          "width": 1
         },
         "locations": [
          "GBR",
          "IRL"
         ],
         "marker": {
          "color": "blue",
          "size": 8
         },
         "mode": "markers+lines",
         "name": "",
         "showlegend": false,
         "type": "scattergeo"
        },
        {
         "hovertext": [
          "United Kingdom",
          "Switzerland"
         ],
         "line": {
          "color": "red",
          "width": 1
         },
         "locations": [
          "GBR",
          "CHE"
         ],
         "marker": {
          "color": "blue",
          "size": 8
         },
         "mode": "markers+lines",
         "name": "",
         "showlegend": false,
         "type": "scattergeo"
        },
        {
         "hovertext": [
          "United Kingdom",
          "Russia"
         ],
         "line": {
          "color": "red",
          "width": 1
         },
         "locations": [
          "GBR",
          "RUS"
         ],
         "marker": {
          "color": "blue",
          "size": 8
         },
         "mode": "markers+lines",
         "name": "",
         "showlegend": false,
         "type": "scattergeo"
        },
        {
         "hovertext": [
          "United Kingdom",
          "Germany"
         ],
         "line": {
          "color": "red",
          "width": 1
         },
         "locations": [
          "GBR",
          "DEU"
         ],
         "marker": {
          "color": "blue",
          "size": 8
         },
         "mode": "markers+lines",
         "name": "",
         "showlegend": false,
         "type": "scattergeo"
        },
        {
         "hovertext": [
          "United Kingdom",
          "Indonesia"
         ],
         "line": {
          "color": "red",
          "width": 1
         },
         "locations": [
          "GBR",
          "IDN"
         ],
         "marker": {
          "color": "blue",
          "size": 8
         },
         "mode": "markers+lines",
         "name": "",
         "showlegend": false,
         "type": "scattergeo"
        },
        {
         "hovertext": [
          "United Kingdom",
          "Belgium"
         ],
         "line": {
          "color": "red",
          "width": 1
         },
         "locations": [
          "GBR",
          "BEL"
         ],
         "marker": {
          "color": "blue",
          "size": 8
         },
         "mode": "markers+lines",
         "name": "",
         "showlegend": false,
         "type": "scattergeo"
        },
        {
         "hovertext": [
          "United Kingdom",
          "Spain"
         ],
         "line": {
          "color": "red",
          "width": 1
         },
         "locations": [
          "GBR",
          "ESP"
         ],
         "marker": {
          "color": "blue",
          "size": 8
         },
         "mode": "markers+lines",
         "name": "",
         "showlegend": false,
         "type": "scattergeo"
        },
        {
         "hovertext": [
          "United Kingdom",
          "Canada"
         ],
         "line": {
          "color": "red",
          "width": 1
         },
         "locations": [
          "GBR",
          "CAN"
         ],
         "marker": {
          "color": "blue",
          "size": 8
         },
         "mode": "markers+lines",
         "name": "",
         "showlegend": false,
         "type": "scattergeo"
        },
        {
         "hovertext": [
          "United Kingdom",
          "Netherlands"
         ],
         "line": {
          "color": "red",
          "width": 1
         },
         "locations": [
          "GBR",
          "NLD"
         ],
         "marker": {
          "color": "blue",
          "size": 8
         },
         "mode": "markers+lines",
         "name": "",
         "showlegend": false,
         "type": "scattergeo"
        },
        {
         "hovertext": [
          "United Kingdom",
          "Norway"
         ],
         "line": {
          "color": "red",
          "width": 1
         },
         "locations": [
          "GBR",
          "NOR"
         ],
         "marker": {
          "color": "blue",
          "size": 8
         },
         "mode": "markers+lines",
         "name": "",
         "showlegend": false,
         "type": "scattergeo"
        },
        {
         "hovertext": [
          "United Kingdom",
          "Vietnam"
         ],
         "line": {
          "color": "red",
          "width": 1
         },
         "locations": [
          "GBR",
          "VNM"
         ],
         "marker": {
          "color": "blue",
          "size": 8
         },
         "mode": "markers+lines",
         "name": "",
         "showlegend": false,
         "type": "scattergeo"
        },
        {
         "hovertext": [
          "United Kingdom",
          "Australia"
         ],
         "line": {
          "color": "red",
          "width": 1
         },
         "locations": [
          "GBR",
          "AUS"
         ],
         "marker": {
          "color": "blue",
          "size": 8
         },
         "mode": "markers+lines",
         "name": "",
         "showlegend": false,
         "type": "scattergeo"
        },
        {
         "hovertext": [
          "United Kingdom",
          "Brazil"
         ],
         "line": {
          "color": "red",
          "width": 1
         },
         "locations": [
          "GBR",
          "BRA"
         ],
         "marker": {
          "color": "blue",
          "size": 8
         },
         "mode": "markers+lines",
         "name": "",
         "showlegend": false,
         "type": "scattergeo"
        },
        {
         "hovertext": [
          "United Kingdom",
          "Sweden"
         ],
         "line": {
          "color": "red",
          "width": 1
         },
         "locations": [
          "GBR",
          "SWE"
         ],
         "marker": {
          "color": "blue",
          "size": 8
         },
         "mode": "markers+lines",
         "name": "",
         "showlegend": false,
         "type": "scattergeo"
        },
        {
         "hovertext": [
          "United Kingdom",
          "New Zealand"
         ],
         "line": {
          "color": "red",
          "width": 1
         },
         "locations": [
          "GBR",
          "NZL"
         ],
         "marker": {
          "color": "blue",
          "size": 8
         },
         "mode": "markers+lines",
         "name": "",
         "showlegend": false,
         "type": "scattergeo"
        },
        {
         "hovertext": [
          "United Kingdom",
          "Nigeria"
         ],
         "line": {
          "color": "red",
          "width": 1
         },
         "locations": [
          "GBR",
          "NGA"
         ],
         "marker": {
          "color": "blue",
          "size": 8
         },
         "mode": "markers+lines",
         "name": "",
         "showlegend": false,
         "type": "scattergeo"
        },
        {
         "hovertext": [
          "United Kingdom",
          "Japan"
         ],
         "line": {
          "color": "red",
          "width": 1
         },
         "locations": [
          "GBR",
          "JPN"
         ],
         "marker": {
          "color": "blue",
          "size": 8
         },
         "mode": "markers+lines",
         "name": "",
         "showlegend": false,
         "type": "scattergeo"
        },
        {
         "hovertext": [
          "United Kingdom",
          "Italy"
         ],
         "line": {
          "color": "red",
          "width": 1
         },
         "locations": [
          "GBR",
          "ITA"
         ],
         "marker": {
          "color": "blue",
          "size": 8
         },
         "mode": "markers+lines",
         "name": "",
         "showlegend": false,
         "type": "scattergeo"
        },
        {
         "hovertext": [
          "United Kingdom",
          "South Africa"
         ],
         "line": {
          "color": "red",
          "width": 1
         },
         "locations": [
          "GBR",
          "ZAF"
         ],
         "marker": {
          "color": "blue",
          "size": 8
         },
         "mode": "markers+lines",
         "name": "",
         "showlegend": false,
         "type": "scattergeo"
        },
        {
         "hovertext": [
          "United Kingdom",
          "Colombia"
         ],
         "line": {
          "color": "red",
          "width": 1
         },
         "locations": [
          "GBR",
          "COL"
         ],
         "marker": {
          "color": "blue",
          "size": 8
         },
         "mode": "markers+lines",
         "name": "",
         "showlegend": false,
         "type": "scattergeo"
        },
        {
         "hovertext": [
          "United Kingdom",
          "Finland"
         ],
         "line": {
          "color": "red",
          "width": 1
         },
         "locations": [
          "GBR",
          "FIN"
         ],
         "marker": {
          "color": "blue",
          "size": 8
         },
         "mode": "markers+lines",
         "name": "",
         "showlegend": false,
         "type": "scattergeo"
        },
        {
         "hovertext": [
          "United Kingdom",
          "Turkey"
         ],
         "line": {
          "color": "red",
          "width": 1
         },
         "locations": [
          "GBR",
          "TUR"
         ],
         "marker": {
          "color": "blue",
          "size": 8
         },
         "mode": "markers+lines",
         "name": "",
         "showlegend": false,
         "type": "scattergeo"
        },
        {
         "hovertext": [
          "United Kingdom",
          "Pakistan"
         ],
         "line": {
          "color": "red",
          "width": 1
         },
         "locations": [
          "GBR",
          "PAK"
         ],
         "marker": {
          "color": "blue",
          "size": 8
         },
         "mode": "markers+lines",
         "name": "",
         "showlegend": false,
         "type": "scattergeo"
        },
        {
         "hovertext": [
          "United Kingdom",
          "India"
         ],
         "line": {
          "color": "red",
          "width": 1
         },
         "locations": [
          "GBR",
          "IND"
         ],
         "marker": {
          "color": "blue",
          "size": 8
         },
         "mode": "markers+lines",
         "name": "",
         "showlegend": false,
         "type": "scattergeo"
        },
        {
         "hovertext": [
          "United Kingdom",
          "France"
         ],
         "line": {
          "color": "red",
          "width": 1
         },
         "locations": [
          "GBR",
          "FRA"
         ],
         "marker": {
          "color": "blue",
          "size": 8
         },
         "mode": "markers+lines",
         "name": "",
         "showlegend": false,
         "type": "scattergeo"
        },
        {
         "hovertext": [
          "United Kingdom",
          "United Arab Emirates"
         ],
         "line": {
          "color": "red",
          "width": 1
         },
         "locations": [
          "GBR",
          "ARE"
         ],
         "marker": {
          "color": "blue",
          "size": 8
         },
         "mode": "markers+lines",
         "name": "",
         "showlegend": false,
         "type": "scattergeo"
        },
        {
         "hovertext": [
          "United Kingdom",
          "Venezuela"
         ],
         "line": {
          "color": "red",
          "width": 1
         },
         "locations": [
          "GBR",
          "VEN"
         ],
         "marker": {
          "color": "blue",
          "size": 8
         },
         "mode": "markers+lines",
         "name": "",
         "showlegend": false,
         "type": "scattergeo"
        },
        {
         "hovertext": [
          "United Kingdom",
          "Ukraine"
         ],
         "line": {
          "color": "red",
          "width": 1
         },
         "locations": [
          "GBR",
          "UKR"
         ],
         "marker": {
          "color": "blue",
          "size": 8
         },
         "mode": "markers+lines",
         "name": "",
         "showlegend": false,
         "type": "scattergeo"
        },
        {
         "hovertext": [
          "United Kingdom",
          "Hong Kong S.A.R."
         ],
         "line": {
          "color": "red",
          "width": 1
         },
         "locations": [
          "GBR",
          "HKG"
         ],
         "marker": {
          "color": "blue",
          "size": 8
         },
         "mode": "markers+lines",
         "name": "",
         "showlegend": false,
         "type": "scattergeo"
        },
        {
         "hovertext": [
          "United Kingdom",
          "Kenya"
         ],
         "line": {
          "color": "red",
          "width": 1
         },
         "locations": [
          "GBR",
          "KEN"
         ],
         "marker": {
          "color": "blue",
          "size": 8
         },
         "mode": "markers+lines",
         "name": "",
         "showlegend": false,
         "type": "scattergeo"
        },
        {
         "hovertext": [
          "United Kingdom",
          "Saudi Arabia"
         ],
         "line": {
          "color": "red",
          "width": 1
         },
         "locations": [
          "GBR",
          "SAU"
         ],
         "marker": {
          "color": "blue",
          "size": 8
         },
         "mode": "markers+lines",
         "name": "",
         "showlegend": false,
         "type": "scattergeo"
        },
        {
         "hovertext": [
          "United Kingdom",
          "Belarus"
         ],
         "line": {
          "color": "red",
          "width": 1
         },
         "locations": [
          "GBR",
          "BLR"
         ],
         "marker": {
          "color": "blue",
          "size": 8
         },
         "mode": "markers+lines",
         "name": "",
         "showlegend": false,
         "type": "scattergeo"
        },
        {
         "hovertext": [
          "Germany",
          "United States of America"
         ],
         "line": {
          "color": "red",
          "width": 1
         },
         "locations": [
          "DEU",
          "USA"
         ],
         "marker": {
          "color": "blue",
          "size": 8
         },
         "mode": "markers+lines",
         "name": "",
         "showlegend": false,
         "type": "scattergeo"
        },
        {
         "hovertext": [
          "Germany",
          "United Kingdom"
         ],
         "line": {
          "color": "red",
          "width": 1
         },
         "locations": [
          "DEU",
          "GBR"
         ],
         "marker": {
          "color": "blue",
          "size": 8
         },
         "mode": "markers+lines",
         "name": "",
         "showlegend": false,
         "type": "scattergeo"
        },
        {
         "hovertext": [
          "Indonesia",
          "United States of America"
         ],
         "line": {
          "color": "red",
          "width": 1
         },
         "locations": [
          "IDN",
          "USA"
         ],
         "marker": {
          "color": "blue",
          "size": 8
         },
         "mode": "markers+lines",
         "name": "",
         "showlegend": false,
         "type": "scattergeo"
        },
        {
         "hovertext": [
          "Indonesia",
          "United Kingdom"
         ],
         "line": {
          "color": "red",
          "width": 1
         },
         "locations": [
          "IDN",
          "GBR"
         ],
         "marker": {
          "color": "blue",
          "size": 8
         },
         "mode": "markers+lines",
         "name": "",
         "showlegend": false,
         "type": "scattergeo"
        },
        {
         "hovertext": [
          "Belgium",
          "United States of America"
         ],
         "line": {
          "color": "red",
          "width": 1
         },
         "locations": [
          "BEL",
          "USA"
         ],
         "marker": {
          "color": "blue",
          "size": 8
         },
         "mode": "markers+lines",
         "name": "",
         "showlegend": false,
         "type": "scattergeo"
        },
        {
         "hovertext": [
          "Belgium",
          "United Kingdom"
         ],
         "line": {
          "color": "red",
          "width": 1
         },
         "locations": [
          "BEL",
          "GBR"
         ],
         "marker": {
          "color": "blue",
          "size": 8
         },
         "mode": "markers+lines",
         "name": "",
         "showlegend": false,
         "type": "scattergeo"
        },
        {
         "hovertext": [
          "Spain",
          "United States of America"
         ],
         "line": {
          "color": "red",
          "width": 1
         },
         "locations": [
          "ESP",
          "USA"
         ],
         "marker": {
          "color": "blue",
          "size": 8
         },
         "mode": "markers+lines",
         "name": "",
         "showlegend": false,
         "type": "scattergeo"
        },
        {
         "hovertext": [
          "Spain",
          "United Kingdom"
         ],
         "line": {
          "color": "red",
          "width": 1
         },
         "locations": [
          "ESP",
          "GBR"
         ],
         "marker": {
          "color": "blue",
          "size": 8
         },
         "mode": "markers+lines",
         "name": "",
         "showlegend": false,
         "type": "scattergeo"
        },
        {
         "hovertext": [
          "Canada",
          "United States of America"
         ],
         "line": {
          "color": "red",
          "width": 1
         },
         "locations": [
          "CAN",
          "USA"
         ],
         "marker": {
          "color": "blue",
          "size": 8
         },
         "mode": "markers+lines",
         "name": "",
         "showlegend": false,
         "type": "scattergeo"
        },
        {
         "hovertext": [
          "Canada",
          "United Kingdom"
         ],
         "line": {
          "color": "red",
          "width": 1
         },
         "locations": [
          "CAN",
          "GBR"
         ],
         "marker": {
          "color": "blue",
          "size": 8
         },
         "mode": "markers+lines",
         "name": "",
         "showlegend": false,
         "type": "scattergeo"
        },
        {
         "hovertext": [
          "Netherlands",
          "United States of America"
         ],
         "line": {
          "color": "red",
          "width": 1
         },
         "locations": [
          "NLD",
          "USA"
         ],
         "marker": {
          "color": "blue",
          "size": 8
         },
         "mode": "markers+lines",
         "name": "",
         "showlegend": false,
         "type": "scattergeo"
        },
        {
         "hovertext": [
          "Netherlands",
          "United Kingdom"
         ],
         "line": {
          "color": "red",
          "width": 1
         },
         "locations": [
          "NLD",
          "GBR"
         ],
         "marker": {
          "color": "blue",
          "size": 8
         },
         "mode": "markers+lines",
         "name": "",
         "showlegend": false,
         "type": "scattergeo"
        },
        {
         "hovertext": [
          "Norway",
          "United States of America"
         ],
         "line": {
          "color": "red",
          "width": 1
         },
         "locations": [
          "NOR",
          "USA"
         ],
         "marker": {
          "color": "blue",
          "size": 8
         },
         "mode": "markers+lines",
         "name": "",
         "showlegend": false,
         "type": "scattergeo"
        },
        {
         "hovertext": [
          "Norway",
          "United Kingdom"
         ],
         "line": {
          "color": "red",
          "width": 1
         },
         "locations": [
          "NOR",
          "GBR"
         ],
         "marker": {
          "color": "blue",
          "size": 8
         },
         "mode": "markers+lines",
         "name": "",
         "showlegend": false,
         "type": "scattergeo"
        },
        {
         "hovertext": [
          "Vietnam",
          "United States of America"
         ],
         "line": {
          "color": "red",
          "width": 1
         },
         "locations": [
          "VNM",
          "USA"
         ],
         "marker": {
          "color": "blue",
          "size": 8
         },
         "mode": "markers+lines",
         "name": "",
         "showlegend": false,
         "type": "scattergeo"
        },
        {
         "hovertext": [
          "Vietnam",
          "United Kingdom"
         ],
         "line": {
          "color": "red",
          "width": 1
         },
         "locations": [
          "VNM",
          "GBR"
         ],
         "marker": {
          "color": "blue",
          "size": 8
         },
         "mode": "markers+lines",
         "name": "",
         "showlegend": false,
         "type": "scattergeo"
        },
        {
         "hovertext": [
          "Australia",
          "United States of America"
         ],
         "line": {
          "color": "red",
          "width": 1
         },
         "locations": [
          "AUS",
          "USA"
         ],
         "marker": {
          "color": "blue",
          "size": 8
         },
         "mode": "markers+lines",
         "name": "",
         "showlegend": false,
         "type": "scattergeo"
        },
        {
         "hovertext": [
          "Australia",
          "United Kingdom"
         ],
         "line": {
          "color": "red",
          "width": 1
         },
         "locations": [
          "AUS",
          "GBR"
         ],
         "marker": {
          "color": "blue",
          "size": 8
         },
         "mode": "markers+lines",
         "name": "",
         "showlegend": false,
         "type": "scattergeo"
        },
        {
         "hovertext": [
          "Brazil",
          "United States of America"
         ],
         "line": {
          "color": "red",
          "width": 1
         },
         "locations": [
          "BRA",
          "USA"
         ],
         "marker": {
          "color": "blue",
          "size": 8
         },
         "mode": "markers+lines",
         "name": "",
         "showlegend": false,
         "type": "scattergeo"
        },
        {
         "hovertext": [
          "Brazil",
          "United Kingdom"
         ],
         "line": {
          "color": "red",
          "width": 1
         },
         "locations": [
          "BRA",
          "GBR"
         ],
         "marker": {
          "color": "blue",
          "size": 8
         },
         "mode": "markers+lines",
         "name": "",
         "showlegend": false,
         "type": "scattergeo"
        },
        {
         "hovertext": [
          "Denmark",
          "United States of America"
         ],
         "line": {
          "color": "red",
          "width": 1
         },
         "locations": [
          "DNK",
          "USA"
         ],
         "marker": {
          "color": "blue",
          "size": 8
         },
         "mode": "markers+lines",
         "name": "",
         "showlegend": false,
         "type": "scattergeo"
        },
        {
         "hovertext": [
          "Denmark",
          "Russia"
         ],
         "line": {
          "color": "red",
          "width": 1
         },
         "locations": [
          "DNK",
          "RUS"
         ],
         "marker": {
          "color": "blue",
          "size": 8
         },
         "mode": "markers+lines",
         "name": "",
         "showlegend": false,
         "type": "scattergeo"
        },
        {
         "hovertext": [
          "Denmark",
          "United Kingdom"
         ],
         "line": {
          "color": "red",
          "width": 1
         },
         "locations": [
          "DNK",
          "GBR"
         ],
         "marker": {
          "color": "blue",
          "size": 8
         },
         "mode": "markers+lines",
         "name": "",
         "showlegend": false,
         "type": "scattergeo"
        },
        {
         "hovertext": [
          "Sweden",
          "United States of America"
         ],
         "line": {
          "color": "red",
          "width": 1
         },
         "locations": [
          "SWE",
          "USA"
         ],
         "marker": {
          "color": "blue",
          "size": 8
         },
         "mode": "markers+lines",
         "name": "",
         "showlegend": false,
         "type": "scattergeo"
        },
        {
         "hovertext": [
          "Sweden",
          "United Kingdom"
         ],
         "line": {
          "color": "red",
          "width": 1
         },
         "locations": [
          "SWE",
          "GBR"
         ],
         "marker": {
          "color": "blue",
          "size": 8
         },
         "mode": "markers+lines",
         "name": "",
         "showlegend": false,
         "type": "scattergeo"
        },
        {
         "hovertext": [
          "Thailand",
          "United States of America"
         ],
         "line": {
          "color": "red",
          "width": 1
         },
         "locations": [
          "THA",
          "USA"
         ],
         "marker": {
          "color": "blue",
          "size": 8
         },
         "mode": "markers+lines",
         "name": "",
         "showlegend": false,
         "type": "scattergeo"
        },
        {
         "hovertext": [
          "Thailand",
          "United Kingdom"
         ],
         "line": {
          "color": "red",
          "width": 1
         },
         "locations": [
          "THA",
          "GBR"
         ],
         "marker": {
          "color": "blue",
          "size": 8
         },
         "mode": "markers+lines",
         "name": "",
         "showlegend": false,
         "type": "scattergeo"
        },
        {
         "hovertext": [
          "Singapore",
          "Russia"
         ],
         "line": {
          "color": "red",
          "width": 1
         },
         "locations": [
          "SGP",
          "RUS"
         ],
         "marker": {
          "color": "blue",
          "size": 8
         },
         "mode": "markers+lines",
         "name": "",
         "showlegend": false,
         "type": "scattergeo"
        },
        {
         "hovertext": [
          "Singapore",
          "United Kingdom"
         ],
         "line": {
          "color": "red",
          "width": 1
         },
         "locations": [
          "SGP",
          "GBR"
         ],
         "marker": {
          "color": "blue",
          "size": 8
         },
         "mode": "markers+lines",
         "name": "",
         "showlegend": false,
         "type": "scattergeo"
        },
        {
         "hovertext": [
          "Argentina",
          "United States of America"
         ],
         "line": {
          "color": "red",
          "width": 1
         },
         "locations": [
          "ARG",
          "USA"
         ],
         "marker": {
          "color": "blue",
          "size": 8
         },
         "mode": "markers+lines",
         "name": "",
         "showlegend": false,
         "type": "scattergeo"
        },
        {
         "hovertext": [
          "Argentina",
          "United Kingdom"
         ],
         "line": {
          "color": "red",
          "width": 1
         },
         "locations": [
          "ARG",
          "GBR"
         ],
         "marker": {
          "color": "blue",
          "size": 8
         },
         "mode": "markers+lines",
         "name": "",
         "showlegend": false,
         "type": "scattergeo"
        },
        {
         "hovertext": [
          "Azerbaijan",
          "Canada"
         ],
         "line": {
          "color": "red",
          "width": 1
         },
         "locations": [
          "AZE",
          "CAN"
         ],
         "marker": {
          "color": "blue",
          "size": 8
         },
         "mode": "markers+lines",
         "name": "",
         "showlegend": false,
         "type": "scattergeo"
        },
        {
         "hovertext": [
          "New Zealand",
          "United States of America"
         ],
         "line": {
          "color": "red",
          "width": 1
         },
         "locations": [
          "NZL",
          "USA"
         ],
         "marker": {
          "color": "blue",
          "size": 8
         },
         "mode": "markers+lines",
         "name": "",
         "showlegend": false,
         "type": "scattergeo"
        },
        {
         "hovertext": [
          "New Zealand",
          "United Kingdom"
         ],
         "line": {
          "color": "red",
          "width": 1
         },
         "locations": [
          "NZL",
          "GBR"
         ],
         "marker": {
          "color": "blue",
          "size": 8
         },
         "mode": "markers+lines",
         "name": "",
         "showlegend": false,
         "type": "scattergeo"
        },
        {
         "hovertext": [
          "Philippines",
          "United States of America"
         ],
         "line": {
          "color": "red",
          "width": 1
         },
         "locations": [
          "PHL",
          "USA"
         ],
         "marker": {
          "color": "blue",
          "size": 8
         },
         "mode": "markers+lines",
         "name": "",
         "showlegend": false,
         "type": "scattergeo"
        },
        {
         "hovertext": [
          "Philippines",
          "United Kingdom"
         ],
         "line": {
          "color": "red",
          "width": 1
         },
         "locations": [
          "PHL",
          "GBR"
         ],
         "marker": {
          "color": "blue",
          "size": 8
         },
         "mode": "markers+lines",
         "name": "",
         "showlegend": false,
         "type": "scattergeo"
        },
        {
         "hovertext": [
          "Nigeria",
          "United States of America"
         ],
         "line": {
          "color": "red",
          "width": 1
         },
         "locations": [
          "NGA",
          "USA"
         ],
         "marker": {
          "color": "blue",
          "size": 8
         },
         "mode": "markers+lines",
         "name": "",
         "showlegend": false,
         "type": "scattergeo"
        },
        {
         "hovertext": [
          "Nigeria",
          "United Kingdom"
         ],
         "line": {
          "color": "red",
          "width": 1
         },
         "locations": [
          "NGA",
          "GBR"
         ],
         "marker": {
          "color": "blue",
          "size": 8
         },
         "mode": "markers+lines",
         "name": "",
         "showlegend": false,
         "type": "scattergeo"
        },
        {
         "hovertext": [
          "Egypt",
          "United States of America"
         ],
         "line": {
          "color": "red",
          "width": 1
         },
         "locations": [
          "EGY",
          "USA"
         ],
         "marker": {
          "color": "blue",
          "size": 8
         },
         "mode": "markers+lines",
         "name": "",
         "showlegend": false,
         "type": "scattergeo"
        },
        {
         "hovertext": [
          "Egypt",
          "Russia"
         ],
         "line": {
          "color": "red",
          "width": 1
         },
         "locations": [
          "EGY",
          "RUS"
         ],
         "marker": {
          "color": "blue",
          "size": 8
         },
         "mode": "markers+lines",
         "name": "",
         "showlegend": false,
         "type": "scattergeo"
        },
        {
         "hovertext": [
          "Egypt",
          "United Kingdom"
         ],
         "line": {
          "color": "red",
          "width": 1
         },
         "locations": [
          "EGY",
          "GBR"
         ],
         "marker": {
          "color": "blue",
          "size": 8
         },
         "mode": "markers+lines",
         "name": "",
         "showlegend": false,
         "type": "scattergeo"
        },
        {
         "hovertext": [
          "Japan",
          "United States of America"
         ],
         "line": {
          "color": "red",
          "width": 1
         },
         "locations": [
          "JPN",
          "USA"
         ],
         "marker": {
          "color": "blue",
          "size": 8
         },
         "mode": "markers+lines",
         "name": "",
         "showlegend": false,
         "type": "scattergeo"
        },
        {
         "hovertext": [
          "Japan",
          "United Kingdom"
         ],
         "line": {
          "color": "red",
          "width": 1
         },
         "locations": [
          "JPN",
          "GBR"
         ],
         "marker": {
          "color": "blue",
          "size": 8
         },
         "mode": "markers+lines",
         "name": "",
         "showlegend": false,
         "type": "scattergeo"
        },
        {
         "hovertext": [
          "Italy",
          "United States of America"
         ],
         "line": {
          "color": "red",
          "width": 1
         },
         "locations": [
          "ITA",
          "USA"
         ],
         "marker": {
          "color": "blue",
          "size": 8
         },
         "mode": "markers+lines",
         "name": "",
         "showlegend": false,
         "type": "scattergeo"
        },
        {
         "hovertext": [
          "Italy",
          "United Kingdom"
         ],
         "line": {
          "color": "red",
          "width": 1
         },
         "locations": [
          "ITA",
          "GBR"
         ],
         "marker": {
          "color": "blue",
          "size": 8
         },
         "mode": "markers+lines",
         "name": "",
         "showlegend": false,
         "type": "scattergeo"
        },
        {
         "hovertext": [
          "Greece",
          "United States of America"
         ],
         "line": {
          "color": "red",
          "width": 1
         },
         "locations": [
          "GRC",
          "USA"
         ],
         "marker": {
          "color": "blue",
          "size": 8
         },
         "mode": "markers+lines",
         "name": "",
         "showlegend": false,
         "type": "scattergeo"
        },
        {
         "hovertext": [
          "Greece",
          "United Kingdom"
         ],
         "line": {
          "color": "red",
          "width": 1
         },
         "locations": [
          "GRC",
          "GBR"
         ],
         "marker": {
          "color": "blue",
          "size": 8
         },
         "mode": "markers+lines",
         "name": "",
         "showlegend": false,
         "type": "scattergeo"
        },
        {
         "hovertext": [
          "South Africa",
          "United States of America"
         ],
         "line": {
          "color": "red",
          "width": 1
         },
         "locations": [
          "ZAF",
          "USA"
         ],
         "marker": {
          "color": "blue",
          "size": 8
         },
         "mode": "markers+lines",
         "name": "",
         "showlegend": false,
         "type": "scattergeo"
        },
        {
         "hovertext": [
          "South Africa",
          "United Kingdom"
         ],
         "line": {
          "color": "red",
          "width": 1
         },
         "locations": [
          "ZAF",
          "GBR"
         ],
         "marker": {
          "color": "blue",
          "size": 8
         },
         "mode": "markers+lines",
         "name": "",
         "showlegend": false,
         "type": "scattergeo"
        },
        {
         "hovertext": [
          "Colombia",
          "United States of America"
         ],
         "line": {
          "color": "red",
          "width": 1
         },
         "locations": [
          "COL",
          "USA"
         ],
         "marker": {
          "color": "blue",
          "size": 8
         },
         "mode": "markers+lines",
         "name": "",
         "showlegend": false,
         "type": "scattergeo"
        },
        {
         "hovertext": [
          "Colombia",
          "Russia"
         ],
         "line": {
          "color": "red",
          "width": 1
         },
         "locations": [
          "COL",
          "RUS"
         ],
         "marker": {
          "color": "blue",
          "size": 8
         },
         "mode": "markers+lines",
         "name": "",
         "showlegend": false,
         "type": "scattergeo"
        },
        {
         "hovertext": [
          "Colombia",
          "United Kingdom"
         ],
         "line": {
          "color": "red",
          "width": 1
         },
         "locations": [
          "COL",
          "GBR"
         ],
         "marker": {
          "color": "blue",
          "size": 8
         },
         "mode": "markers+lines",
         "name": "",
         "showlegend": false,
         "type": "scattergeo"
        },
        {
         "hovertext": [
          "El Salvador",
          "Russia"
         ],
         "line": {
          "color": "red",
          "width": 1
         },
         "locations": [
          "SLV",
          "RUS"
         ],
         "marker": {
          "color": "blue",
          "size": 8
         },
         "mode": "markers+lines",
         "name": "",
         "showlegend": false,
         "type": "scattergeo"
        },
        {
         "hovertext": [
          "Finland",
          "United States of America"
         ],
         "line": {
          "color": "red",
          "width": 1
         },
         "locations": [
          "FIN",
          "USA"
         ],
         "marker": {
          "color": "blue",
          "size": 8
         },
         "mode": "markers+lines",
         "name": "",
         "showlegend": false,
         "type": "scattergeo"
        },
        {
         "hovertext": [
          "Finland",
          "United Kingdom"
         ],
         "line": {
          "color": "red",
          "width": 1
         },
         "locations": [
          "FIN",
          "GBR"
         ],
         "marker": {
          "color": "blue",
          "size": 8
         },
         "mode": "markers+lines",
         "name": "",
         "showlegend": false,
         "type": "scattergeo"
        },
        {
         "hovertext": [
          "Turkey",
          "United States of America"
         ],
         "line": {
          "color": "red",
          "width": 1
         },
         "locations": [
          "TUR",
          "USA"
         ],
         "marker": {
          "color": "blue",
          "size": 8
         },
         "mode": "markers+lines",
         "name": "",
         "showlegend": false,
         "type": "scattergeo"
        },
        {
         "hovertext": [
          "Turkey",
          "United Kingdom"
         ],
         "line": {
          "color": "red",
          "width": 1
         },
         "locations": [
          "TUR",
          "GBR"
         ],
         "marker": {
          "color": "blue",
          "size": 8
         },
         "mode": "markers+lines",
         "name": "",
         "showlegend": false,
         "type": "scattergeo"
        },
        {
         "hovertext": [
          "Pakistan",
          "United States of America"
         ],
         "line": {
          "color": "red",
          "width": 1
         },
         "locations": [
          "PAK",
          "USA"
         ],
         "marker": {
          "color": "blue",
          "size": 8
         },
         "mode": "markers+lines",
         "name": "",
         "showlegend": false,
         "type": "scattergeo"
        },
        {
         "hovertext": [
          "Pakistan",
          "United Kingdom"
         ],
         "line": {
          "color": "red",
          "width": 1
         },
         "locations": [
          "PAK",
          "GBR"
         ],
         "marker": {
          "color": "blue",
          "size": 8
         },
         "mode": "markers+lines",
         "name": "",
         "showlegend": false,
         "type": "scattergeo"
        },
        {
         "hovertext": [
          "India",
          "United States of America"
         ],
         "line": {
          "color": "red",
          "width": 1
         },
         "locations": [
          "IND",
          "USA"
         ],
         "marker": {
          "color": "blue",
          "size": 8
         },
         "mode": "markers+lines",
         "name": "",
         "showlegend": false,
         "type": "scattergeo"
        },
        {
         "hovertext": [
          "India",
          "United Kingdom"
         ],
         "line": {
          "color": "red",
          "width": 1
         },
         "locations": [
          "IND",
          "GBR"
         ],
         "marker": {
          "color": "blue",
          "size": 8
         },
         "mode": "markers+lines",
         "name": "",
         "showlegend": false,
         "type": "scattergeo"
        },
        {
         "hovertext": [
          "Slovenia",
          "United States of America"
         ],
         "line": {
          "color": "red",
          "width": 1
         },
         "locations": [
          "SVN",
          "USA"
         ],
         "marker": {
          "color": "blue",
          "size": 8
         },
         "mode": "markers+lines",
         "name": "",
         "showlegend": false,
         "type": "scattergeo"
        },
        {
         "hovertext": [
          "Slovenia",
          "Russia"
         ],
         "line": {
          "color": "red",
          "width": 1
         },
         "locations": [
          "SVN",
          "RUS"
         ],
         "marker": {
          "color": "blue",
          "size": 8
         },
         "mode": "markers+lines",
         "name": "",
         "showlegend": false,
         "type": "scattergeo"
        },
        {
         "hovertext": [
          "Slovenia",
          "United Kingdom"
         ],
         "line": {
          "color": "red",
          "width": 1
         },
         "locations": [
          "SVN",
          "GBR"
         ],
         "marker": {
          "color": "blue",
          "size": 8
         },
         "mode": "markers+lines",
         "name": "",
         "showlegend": false,
         "type": "scattergeo"
        },
        {
         "hovertext": [
          "Hungary",
          "United States of America"
         ],
         "line": {
          "color": "red",
          "width": 1
         },
         "locations": [
          "HUN",
          "USA"
         ],
         "marker": {
          "color": "blue",
          "size": 8
         },
         "mode": "markers+lines",
         "name": "",
         "showlegend": false,
         "type": "scattergeo"
        },
        {
         "hovertext": [
          "Hungary",
          "United Kingdom"
         ],
         "line": {
          "color": "red",
          "width": 1
         },
         "locations": [
          "HUN",
          "GBR"
         ],
         "marker": {
          "color": "blue",
          "size": 8
         },
         "mode": "markers+lines",
         "name": "",
         "showlegend": false,
         "type": "scattergeo"
        },
        {
         "hovertext": [
          "Malaysia",
          "United States of America"
         ],
         "line": {
          "color": "red",
          "width": 1
         },
         "locations": [
          "MYS",
          "USA"
         ],
         "marker": {
          "color": "blue",
          "size": 8
         },
         "mode": "markers+lines",
         "name": "",
         "showlegend": false,
         "type": "scattergeo"
        },
        {
         "hovertext": [
          "Malaysia",
          "United Kingdom"
         ],
         "line": {
          "color": "red",
          "width": 1
         },
         "locations": [
          "MYS",
          "GBR"
         ],
         "marker": {
          "color": "blue",
          "size": 8
         },
         "mode": "markers+lines",
         "name": "",
         "showlegend": false,
         "type": "scattergeo"
        },
        {
         "hovertext": [
          "France",
          "United States of America"
         ],
         "line": {
          "color": "red",
          "width": 1
         },
         "locations": [
          "FRA",
          "USA"
         ],
         "marker": {
          "color": "blue",
          "size": 8
         },
         "mode": "markers+lines",
         "name": "",
         "showlegend": false,
         "type": "scattergeo"
        },
        {
         "hovertext": [
          "France",
          "United Kingdom"
         ],
         "line": {
          "color": "red",
          "width": 1
         },
         "locations": [
          "FRA",
          "GBR"
         ],
         "marker": {
          "color": "blue",
          "size": 8
         },
         "mode": "markers+lines",
         "name": "",
         "showlegend": false,
         "type": "scattergeo"
        },
        {
         "hovertext": [
          "United Arab Emirates",
          "United States of America"
         ],
         "line": {
          "color": "red",
          "width": 1
         },
         "locations": [
          "ARE",
          "USA"
         ],
         "marker": {
          "color": "blue",
          "size": 8
         },
         "mode": "markers+lines",
         "name": "",
         "showlegend": false,
         "type": "scattergeo"
        },
        {
         "hovertext": [
          "United Arab Emirates",
          "United Kingdom"
         ],
         "line": {
          "color": "red",
          "width": 1
         },
         "locations": [
          "ARE",
          "GBR"
         ],
         "marker": {
          "color": "blue",
          "size": 8
         },
         "mode": "markers+lines",
         "name": "",
         "showlegend": false,
         "type": "scattergeo"
        },
        {
         "hovertext": [
          "Venezuela",
          "United States of America"
         ],
         "line": {
          "color": "red",
          "width": 1
         },
         "locations": [
          "VEN",
          "USA"
         ],
         "marker": {
          "color": "blue",
          "size": 8
         },
         "mode": "markers+lines",
         "name": "",
         "showlegend": false,
         "type": "scattergeo"
        },
        {
         "hovertext": [
          "Venezuela",
          "United Kingdom"
         ],
         "line": {
          "color": "red",
          "width": 1
         },
         "locations": [
          "VEN",
          "GBR"
         ],
         "marker": {
          "color": "blue",
          "size": 8
         },
         "mode": "markers+lines",
         "name": "",
         "showlegend": false,
         "type": "scattergeo"
        },
        {
         "hovertext": [
          "Portugal",
          "United States of America"
         ],
         "line": {
          "color": "red",
          "width": 1
         },
         "locations": [
          "PRT",
          "USA"
         ],
         "marker": {
          "color": "blue",
          "size": 8
         },
         "mode": "markers+lines",
         "name": "",
         "showlegend": false,
         "type": "scattergeo"
        },
        {
         "hovertext": [
          "Portugal",
          "United Kingdom"
         ],
         "line": {
          "color": "red",
          "width": 1
         },
         "locations": [
          "PRT",
          "GBR"
         ],
         "marker": {
          "color": "blue",
          "size": 8
         },
         "mode": "markers+lines",
         "name": "",
         "showlegend": false,
         "type": "scattergeo"
        },
        {
         "hovertext": [
          "Ukraine",
          "United States of America"
         ],
         "line": {
          "color": "red",
          "width": 1
         },
         "locations": [
          "UKR",
          "USA"
         ],
         "marker": {
          "color": "blue",
          "size": 8
         },
         "mode": "markers+lines",
         "name": "",
         "showlegend": false,
         "type": "scattergeo"
        },
        {
         "hovertext": [
          "Ukraine",
          "Russia"
         ],
         "line": {
          "color": "red",
          "width": 1
         },
         "locations": [
          "UKR",
          "RUS"
         ],
         "marker": {
          "color": "blue",
          "size": 8
         },
         "mode": "markers+lines",
         "name": "",
         "showlegend": false,
         "type": "scattergeo"
        },
        {
         "hovertext": [
          "Ukraine",
          "United Kingdom"
         ],
         "line": {
          "color": "red",
          "width": 1
         },
         "locations": [
          "UKR",
          "GBR"
         ],
         "marker": {
          "color": "blue",
          "size": 8
         },
         "mode": "markers+lines",
         "name": "",
         "showlegend": false,
         "type": "scattergeo"
        },
        {
         "hovertext": [
          "Hong Kong S.A.R.",
          "United States of America"
         ],
         "line": {
          "color": "red",
          "width": 1
         },
         "locations": [
          "HKG",
          "USA"
         ],
         "marker": {
          "color": "blue",
          "size": 8
         },
         "mode": "markers+lines",
         "name": "",
         "showlegend": false,
         "type": "scattergeo"
        },
        {
         "hovertext": [
          "Hong Kong S.A.R.",
          "United Kingdom"
         ],
         "line": {
          "color": "red",
          "width": 1
         },
         "locations": [
          "HKG",
          "GBR"
         ],
         "marker": {
          "color": "blue",
          "size": 8
         },
         "mode": "markers+lines",
         "name": "",
         "showlegend": false,
         "type": "scattergeo"
        },
        {
         "hovertext": [
          "Kenya",
          "United States of America"
         ],
         "line": {
          "color": "red",
          "width": 1
         },
         "locations": [
          "KEN",
          "USA"
         ],
         "marker": {
          "color": "blue",
          "size": 8
         },
         "mode": "markers+lines",
         "name": "",
         "showlegend": false,
         "type": "scattergeo"
        },
        {
         "hovertext": [
          "Kenya",
          "United Kingdom"
         ],
         "line": {
          "color": "red",
          "width": 1
         },
         "locations": [
          "KEN",
          "GBR"
         ],
         "marker": {
          "color": "blue",
          "size": 8
         },
         "mode": "markers+lines",
         "name": "",
         "showlegend": false,
         "type": "scattergeo"
        },
        {
         "hovertext": [
          "China",
          "United States of America"
         ],
         "line": {
          "color": "red",
          "width": 1
         },
         "locations": [
          "CHN",
          "USA"
         ],
         "marker": {
          "color": "blue",
          "size": 8
         },
         "mode": "markers+lines",
         "name": "",
         "showlegend": false,
         "type": "scattergeo"
        },
        {
         "hovertext": [
          "China",
          "Russia"
         ],
         "line": {
          "color": "red",
          "width": 1
         },
         "locations": [
          "CHN",
          "RUS"
         ],
         "marker": {
          "color": "blue",
          "size": 8
         },
         "mode": "markers+lines",
         "name": "",
         "showlegend": false,
         "type": "scattergeo"
        },
        {
         "hovertext": [
          "China",
          "United Kingdom"
         ],
         "line": {
          "color": "red",
          "width": 1
         },
         "locations": [
          "CHN",
          "GBR"
         ],
         "marker": {
          "color": "blue",
          "size": 8
         },
         "mode": "markers+lines",
         "name": "",
         "showlegend": false,
         "type": "scattergeo"
        },
        {
         "hovertext": [
          "Chile",
          "United States of America"
         ],
         "line": {
          "color": "red",
          "width": 1
         },
         "locations": [
          "CHL",
          "USA"
         ],
         "marker": {
          "color": "blue",
          "size": 8
         },
         "mode": "markers+lines",
         "name": "",
         "showlegend": false,
         "type": "scattergeo"
        },
        {
         "hovertext": [
          "Chile",
          "Russia"
         ],
         "line": {
          "color": "red",
          "width": 1
         },
         "locations": [
          "CHL",
          "RUS"
         ],
         "marker": {
          "color": "blue",
          "size": 8
         },
         "mode": "markers+lines",
         "name": "",
         "showlegend": false,
         "type": "scattergeo"
        },
        {
         "hovertext": [
          "Chile",
          "United Kingdom"
         ],
         "line": {
          "color": "red",
          "width": 1
         },
         "locations": [
          "CHL",
          "GBR"
         ],
         "marker": {
          "color": "blue",
          "size": 8
         },
         "mode": "markers+lines",
         "name": "",
         "showlegend": false,
         "type": "scattergeo"
        },
        {
         "hovertext": [
          "Bolivia",
          "Russia"
         ],
         "line": {
          "color": "red",
          "width": 1
         },
         "locations": [
          "BOL",
          "RUS"
         ],
         "marker": {
          "color": "blue",
          "size": 8
         },
         "mode": "markers+lines",
         "name": "",
         "showlegend": false,
         "type": "scattergeo"
        },
        {
         "hovertext": [
          "Panama",
          "United States of America"
         ],
         "line": {
          "color": "red",
          "width": 1
         },
         "locations": [
          "PAN",
          "USA"
         ],
         "marker": {
          "color": "blue",
          "size": 8
         },
         "mode": "markers+lines",
         "name": "",
         "showlegend": false,
         "type": "scattergeo"
        },
        {
         "hovertext": [
          "Panama",
          "Russia"
         ],
         "line": {
          "color": "red",
          "width": 1
         },
         "locations": [
          "PAN",
          "RUS"
         ],
         "marker": {
          "color": "blue",
          "size": 8
         },
         "mode": "markers+lines",
         "name": "",
         "showlegend": false,
         "type": "scattergeo"
        },
        {
         "hovertext": [
          "Panama",
          "United Kingdom"
         ],
         "line": {
          "color": "red",
          "width": 1
         },
         "locations": [
          "PAN",
          "GBR"
         ],
         "marker": {
          "color": "blue",
          "size": 8
         },
         "mode": "markers+lines",
         "name": "",
         "showlegend": false,
         "type": "scattergeo"
        },
        {
         "hovertext": [
          "Israel",
          "United States of America"
         ],
         "line": {
          "color": "red",
          "width": 1
         },
         "locations": [
          "ISR",
          "USA"
         ],
         "marker": {
          "color": "blue",
          "size": 8
         },
         "mode": "markers+lines",
         "name": "",
         "showlegend": false,
         "type": "scattergeo"
        },
        {
         "hovertext": [
          "Israel",
          "United Kingdom"
         ],
         "line": {
          "color": "red",
          "width": 1
         },
         "locations": [
          "ISR",
          "GBR"
         ],
         "marker": {
          "color": "blue",
          "size": 8
         },
         "mode": "markers+lines",
         "name": "",
         "showlegend": false,
         "type": "scattergeo"
        },
        {
         "hovertext": [
          "Latvia",
          "United States of America"
         ],
         "line": {
          "color": "red",
          "width": 1
         },
         "locations": [
          "LVA",
          "USA"
         ],
         "marker": {
          "color": "blue",
          "size": 8
         },
         "mode": "markers+lines",
         "name": "",
         "showlegend": false,
         "type": "scattergeo"
        },
        {
         "hovertext": [
          "Latvia",
          "Russia"
         ],
         "line": {
          "color": "red",
          "width": 1
         },
         "locations": [
          "LVA",
          "RUS"
         ],
         "marker": {
          "color": "blue",
          "size": 8
         },
         "mode": "markers+lines",
         "name": "",
         "showlegend": false,
         "type": "scattergeo"
        },
        {
         "hovertext": [
          "Latvia",
          "United Kingdom"
         ],
         "line": {
          "color": "red",
          "width": 1
         },
         "locations": [
          "LVA",
          "GBR"
         ],
         "marker": {
          "color": "blue",
          "size": 8
         },
         "mode": "markers+lines",
         "name": "",
         "showlegend": false,
         "type": "scattergeo"
        },
        {
         "hovertext": [
          "Poland",
          "United States of America"
         ],
         "line": {
          "color": "red",
          "width": 1
         },
         "locations": [
          "POL",
          "USA"
         ],
         "marker": {
          "color": "blue",
          "size": 8
         },
         "mode": "markers+lines",
         "name": "",
         "showlegend": false,
         "type": "scattergeo"
        },
        {
         "hovertext": [
          "Poland",
          "United Kingdom"
         ],
         "line": {
          "color": "red",
          "width": 1
         },
         "locations": [
          "POL",
          "GBR"
         ],
         "marker": {
          "color": "blue",
          "size": 8
         },
         "mode": "markers+lines",
         "name": "",
         "showlegend": false,
         "type": "scattergeo"
        },
        {
         "hovertext": [
          "Maldives",
          "United States of America"
         ],
         "line": {
          "color": "red",
          "width": 1
         },
         "locations": [
          "MDV",
          "USA"
         ],
         "marker": {
          "color": "blue",
          "size": 8
         },
         "mode": "markers+lines",
         "name": "",
         "showlegend": false,
         "type": "scattergeo"
        },
        {
         "hovertext": [
          "Maldives",
          "United Kingdom"
         ],
         "line": {
          "color": "red",
          "width": 1
         },
         "locations": [
          "MDV",
          "GBR"
         ],
         "marker": {
          "color": "blue",
          "size": 8
         },
         "mode": "markers+lines",
         "name": "",
         "showlegend": false,
         "type": "scattergeo"
        },
        {
         "hovertext": [
          "Peru",
          "United States of America"
         ],
         "line": {
          "color": "red",
          "width": 1
         },
         "locations": [
          "PER",
          "USA"
         ],
         "marker": {
          "color": "blue",
          "size": 8
         },
         "mode": "markers+lines",
         "name": "",
         "showlegend": false,
         "type": "scattergeo"
        },
        {
         "hovertext": [
          "Peru",
          "Russia"
         ],
         "line": {
          "color": "red",
          "width": 1
         },
         "locations": [
          "PER",
          "RUS"
         ],
         "marker": {
          "color": "blue",
          "size": 8
         },
         "mode": "markers+lines",
         "name": "",
         "showlegend": false,
         "type": "scattergeo"
        },
        {
         "hovertext": [
          "Peru",
          "United Kingdom"
         ],
         "line": {
          "color": "red",
          "width": 1
         },
         "locations": [
          "PER",
          "GBR"
         ],
         "marker": {
          "color": "blue",
          "size": 8
         },
         "mode": "markers+lines",
         "name": "",
         "showlegend": false,
         "type": "scattergeo"
        },
        {
         "hovertext": [
          "Sri Lanka",
          "United Kingdom"
         ],
         "line": {
          "color": "red",
          "width": 1
         },
         "locations": [
          "LKA",
          "GBR"
         ],
         "marker": {
          "color": "blue",
          "size": 8
         },
         "mode": "markers+lines",
         "name": "",
         "showlegend": false,
         "type": "scattergeo"
        },
        {
         "hovertext": [
          "Austria",
          "United States of America"
         ],
         "line": {
          "color": "red",
          "width": 1
         },
         "locations": [
          "AUT",
          "USA"
         ],
         "marker": {
          "color": "blue",
          "size": 8
         },
         "mode": "markers+lines",
         "name": "",
         "showlegend": false,
         "type": "scattergeo"
        },
        {
         "hovertext": [
          "Austria",
          "Russia"
         ],
         "line": {
          "color": "red",
          "width": 1
         },
         "locations": [
          "AUT",
          "RUS"
         ],
         "marker": {
          "color": "blue",
          "size": 8
         },
         "mode": "markers+lines",
         "name": "",
         "showlegend": false,
         "type": "scattergeo"
        },
        {
         "hovertext": [
          "Austria",
          "United Kingdom"
         ],
         "line": {
          "color": "red",
          "width": 1
         },
         "locations": [
          "AUT",
          "GBR"
         ],
         "marker": {
          "color": "blue",
          "size": 8
         },
         "mode": "markers+lines",
         "name": "",
         "showlegend": false,
         "type": "scattergeo"
        },
        {
         "hovertext": [
          "Estonia",
          "United States of America"
         ],
         "line": {
          "color": "red",
          "width": 1
         },
         "locations": [
          "EST",
          "USA"
         ],
         "marker": {
          "color": "blue",
          "size": 8
         },
         "mode": "markers+lines",
         "name": "",
         "showlegend": false,
         "type": "scattergeo"
        },
        {
         "hovertext": [
          "Estonia",
          "United Kingdom"
         ],
         "line": {
          "color": "red",
          "width": 1
         },
         "locations": [
          "EST",
          "GBR"
         ],
         "marker": {
          "color": "blue",
          "size": 8
         },
         "mode": "markers+lines",
         "name": "",
         "showlegend": false,
         "type": "scattergeo"
        },
        {
         "hovertext": [
          "Czech Republic",
          "United States of America"
         ],
         "line": {
          "color": "red",
          "width": 1
         },
         "locations": [
          "CZE",
          "USA"
         ],
         "marker": {
          "color": "blue",
          "size": 8
         },
         "mode": "markers+lines",
         "name": "",
         "showlegend": false,
         "type": "scattergeo"
        },
        {
         "hovertext": [
          "Czech Republic",
          "Russia"
         ],
         "line": {
          "color": "red",
          "width": 1
         },
         "locations": [
          "CZE",
          "RUS"
         ],
         "marker": {
          "color": "blue",
          "size": 8
         },
         "mode": "markers+lines",
         "name": "",
         "showlegend": false,
         "type": "scattergeo"
        },
        {
         "hovertext": [
          "Czech Republic",
          "United Kingdom"
         ],
         "line": {
          "color": "red",
          "width": 1
         },
         "locations": [
          "CZE",
          "GBR"
         ],
         "marker": {
          "color": "blue",
          "size": 8
         },
         "mode": "markers+lines",
         "name": "",
         "showlegend": false,
         "type": "scattergeo"
        },
        {
         "hovertext": [
          "Ghana",
          "United States of America"
         ],
         "line": {
          "color": "red",
          "width": 1
         },
         "locations": [
          "GHA",
          "USA"
         ],
         "marker": {
          "color": "blue",
          "size": 8
         },
         "mode": "markers+lines",
         "name": "",
         "showlegend": false,
         "type": "scattergeo"
        },
        {
         "hovertext": [
          "Ghana",
          "United Kingdom"
         ],
         "line": {
          "color": "red",
          "width": 1
         },
         "locations": [
          "GHA",
          "GBR"
         ],
         "marker": {
          "color": "blue",
          "size": 8
         },
         "mode": "markers+lines",
         "name": "",
         "showlegend": false,
         "type": "scattergeo"
        },
        {
         "hovertext": [
          "South Korea",
          "United States of America"
         ],
         "line": {
          "color": "red",
          "width": 1
         },
         "locations": [
          "KOR",
          "USA"
         ],
         "marker": {
          "color": "blue",
          "size": 8
         },
         "mode": "markers+lines",
         "name": "",
         "showlegend": false,
         "type": "scattergeo"
        },
        {
         "hovertext": [
          "South Korea",
          "United Kingdom"
         ],
         "line": {
          "color": "red",
          "width": 1
         },
         "locations": [
          "KOR",
          "GBR"
         ],
         "marker": {
          "color": "blue",
          "size": 8
         },
         "mode": "markers+lines",
         "name": "",
         "showlegend": false,
         "type": "scattergeo"
        },
        {
         "hovertext": [
          "Kazakhstan",
          "United States of America"
         ],
         "line": {
          "color": "red",
          "width": 1
         },
         "locations": [
          "KAZ",
          "USA"
         ],
         "marker": {
          "color": "blue",
          "size": 8
         },
         "mode": "markers+lines",
         "name": "",
         "showlegend": false,
         "type": "scattergeo"
        },
        {
         "hovertext": [
          "Kazakhstan",
          "Russia"
         ],
         "line": {
          "color": "red",
          "width": 1
         },
         "locations": [
          "KAZ",
          "RUS"
         ],
         "marker": {
          "color": "blue",
          "size": 8
         },
         "mode": "markers+lines",
         "name": "",
         "showlegend": false,
         "type": "scattergeo"
        },
        {
         "hovertext": [
          "Bangladesh",
          "United States of America"
         ],
         "line": {
          "color": "red",
          "width": 1
         },
         "locations": [
          "BGD",
          "USA"
         ],
         "marker": {
          "color": "blue",
          "size": 8
         },
         "mode": "markers+lines",
         "name": "",
         "showlegend": false,
         "type": "scattergeo"
        },
        {
         "hovertext": [
          "Bangladesh",
          "United Kingdom"
         ],
         "line": {
          "color": "red",
          "width": 1
         },
         "locations": [
          "BGD",
          "GBR"
         ],
         "marker": {
          "color": "blue",
          "size": 8
         },
         "mode": "markers+lines",
         "name": "",
         "showlegend": false,
         "type": "scattergeo"
        },
        {
         "hovertext": [
          "Trinidad and Tobago",
          "United Kingdom"
         ],
         "line": {
          "color": "red",
          "width": 1
         },
         "locations": [
          "TTO",
          "GBR"
         ],
         "marker": {
          "color": "blue",
          "size": 8
         },
         "mode": "markers+lines",
         "name": "",
         "showlegend": false,
         "type": "scattergeo"
        },
        {
         "hovertext": [
          "Republic of Serbia",
          "United States of America"
         ],
         "line": {
          "color": "red",
          "width": 1
         },
         "locations": [
          "SRB",
          "USA"
         ],
         "marker": {
          "color": "blue",
          "size": 8
         },
         "mode": "markers+lines",
         "name": "",
         "showlegend": false,
         "type": "scattergeo"
        },
        {
         "hovertext": [
          "Republic of Serbia",
          "United Kingdom"
         ],
         "line": {
          "color": "red",
          "width": 1
         },
         "locations": [
          "SRB",
          "GBR"
         ],
         "marker": {
          "color": "blue",
          "size": 8
         },
         "mode": "markers+lines",
         "name": "",
         "showlegend": false,
         "type": "scattergeo"
        },
        {
         "hovertext": [
          "Saudi Arabia",
          "United States of America"
         ],
         "line": {
          "color": "red",
          "width": 1
         },
         "locations": [
          "SAU",
          "USA"
         ],
         "marker": {
          "color": "blue",
          "size": 8
         },
         "mode": "markers+lines",
         "name": "",
         "showlegend": false,
         "type": "scattergeo"
        },
        {
         "hovertext": [
          "Saudi Arabia",
          "United Kingdom"
         ],
         "line": {
          "color": "red",
          "width": 1
         },
         "locations": [
          "SAU",
          "GBR"
         ],
         "marker": {
          "color": "blue",
          "size": 8
         },
         "mode": "markers+lines",
         "name": "",
         "showlegend": false,
         "type": "scattergeo"
        },
        {
         "hovertext": [
          "North Macedonia",
          "United States of America"
         ],
         "line": {
          "color": "red",
          "width": 1
         },
         "locations": [
          "MKD",
          "USA"
         ],
         "marker": {
          "color": "blue",
          "size": 8
         },
         "mode": "markers+lines",
         "name": "",
         "showlegend": false,
         "type": "scattergeo"
        },
        {
         "hovertext": [
          "United Republic of Tanzania",
          "United States of America"
         ],
         "line": {
          "color": "red",
          "width": 1
         },
         "locations": [
          "TZA",
          "USA"
         ],
         "marker": {
          "color": "blue",
          "size": 8
         },
         "mode": "markers+lines",
         "name": "",
         "showlegend": false,
         "type": "scattergeo"
        },
        {
         "hovertext": [
          "United Republic of Tanzania",
          "United Kingdom"
         ],
         "line": {
          "color": "red",
          "width": 1
         },
         "locations": [
          "TZA",
          "GBR"
         ],
         "marker": {
          "color": "blue",
          "size": 8
         },
         "mode": "markers+lines",
         "name": "",
         "showlegend": false,
         "type": "scattergeo"
        },
        {
         "hovertext": [
          "Romania",
          "Canada"
         ],
         "line": {
          "color": "red",
          "width": 1
         },
         "locations": [
          "ROU",
          "CAN"
         ],
         "marker": {
          "color": "blue",
          "size": 8
         },
         "mode": "markers+lines",
         "name": "",
         "showlegend": false,
         "type": "scattergeo"
        },
        {
         "hovertext": [
          "Uganda",
          "United States of America"
         ],
         "line": {
          "color": "red",
          "width": 1
         },
         "locations": [
          "UGA",
          "USA"
         ],
         "marker": {
          "color": "blue",
          "size": 8
         },
         "mode": "markers+lines",
         "name": "",
         "showlegend": false,
         "type": "scattergeo"
        },
        {
         "hovertext": [
          "Uganda",
          "United Kingdom"
         ],
         "line": {
          "color": "red",
          "width": 1
         },
         "locations": [
          "UGA",
          "GBR"
         ],
         "marker": {
          "color": "blue",
          "size": 8
         },
         "mode": "markers+lines",
         "name": "",
         "showlegend": false,
         "type": "scattergeo"
        },
        {
         "hovertext": [
          "Puerto Rico",
          "United States of America"
         ],
         "line": {
          "color": "red",
          "width": 1
         },
         "locations": [
          "PRI",
          "USA"
         ],
         "marker": {
          "color": "blue",
          "size": 8
         },
         "mode": "markers+lines",
         "name": "",
         "showlegend": false,
         "type": "scattergeo"
        },
        {
         "hovertext": [
          "Puerto Rico",
          "United Kingdom"
         ],
         "line": {
          "color": "red",
          "width": 1
         },
         "locations": [
          "PRI",
          "GBR"
         ],
         "marker": {
          "color": "blue",
          "size": 8
         },
         "mode": "markers+lines",
         "name": "",
         "showlegend": false,
         "type": "scattergeo"
        },
        {
         "hovertext": [
          "Nepal",
          "United States of America"
         ],
         "line": {
          "color": "red",
          "width": 1
         },
         "locations": [
          "NPL",
          "USA"
         ],
         "marker": {
          "color": "blue",
          "size": 8
         },
         "mode": "markers+lines",
         "name": "",
         "showlegend": false,
         "type": "scattergeo"
        },
        {
         "hovertext": [
          "Croatia",
          "United States of America"
         ],
         "line": {
          "color": "red",
          "width": 1
         },
         "locations": [
          "HRV",
          "USA"
         ],
         "marker": {
          "color": "blue",
          "size": 8
         },
         "mode": "markers+lines",
         "name": "",
         "showlegend": false,
         "type": "scattergeo"
        },
        {
         "hovertext": [
          "Croatia",
          "Russia"
         ],
         "line": {
          "color": "red",
          "width": 1
         },
         "locations": [
          "HRV",
          "RUS"
         ],
         "marker": {
          "color": "blue",
          "size": 8
         },
         "mode": "markers+lines",
         "name": "",
         "showlegend": false,
         "type": "scattergeo"
        },
        {
         "hovertext": [
          "Algeria",
          "United States of America"
         ],
         "line": {
          "color": "red",
          "width": 1
         },
         "locations": [
          "DZA",
          "USA"
         ],
         "marker": {
          "color": "blue",
          "size": 8
         },
         "mode": "markers+lines",
         "name": "",
         "showlegend": false,
         "type": "scattergeo"
        },
        {
         "hovertext": [
          "Ecuador",
          "United Kingdom"
         ],
         "line": {
          "color": "red",
          "width": 1
         },
         "locations": [
          "ECU",
          "GBR"
         ],
         "marker": {
          "color": "blue",
          "size": 8
         },
         "mode": "markers+lines",
         "name": "",
         "showlegend": false,
         "type": "scattergeo"
        },
        {
         "hovertext": [
          "Isle of Man",
          "United Kingdom"
         ],
         "line": {
          "color": "red",
          "width": 1
         },
         "locations": [
          "IMN",
          "GBR"
         ],
         "marker": {
          "color": "blue",
          "size": 8
         },
         "mode": "markers+lines",
         "name": "",
         "showlegend": false,
         "type": "scattergeo"
        },
        {
         "hovertext": [
          "Belarus",
          "United States of America"
         ],
         "line": {
          "color": "red",
          "width": 1
         },
         "locations": [
          "BLR",
          "USA"
         ],
         "marker": {
          "color": "blue",
          "size": 8
         },
         "mode": "markers+lines",
         "name": "",
         "showlegend": false,
         "type": "scattergeo"
        },
        {
         "hovertext": [
          "Belarus",
          "United Kingdom"
         ],
         "line": {
          "color": "red",
          "width": 1
         },
         "locations": [
          "BLR",
          "GBR"
         ],
         "marker": {
          "color": "blue",
          "size": 8
         },
         "mode": "markers+lines",
         "name": "",
         "showlegend": false,
         "type": "scattergeo"
        },
        {
         "hovertext": [
          "Zimbabwe",
          "United States of America"
         ],
         "line": {
          "color": "red",
          "width": 1
         },
         "locations": [
          "ZWE",
          "USA"
         ],
         "marker": {
          "color": "blue",
          "size": 8
         },
         "mode": "markers+lines",
         "name": "",
         "showlegend": false,
         "type": "scattergeo"
        },
        {
         "hovertext": [
          "Zimbabwe",
          "Russia"
         ],
         "line": {
          "color": "red",
          "width": 1
         },
         "locations": [
          "ZWE",
          "RUS"
         ],
         "marker": {
          "color": "blue",
          "size": 8
         },
         "mode": "markers+lines",
         "name": "",
         "showlegend": false,
         "type": "scattergeo"
        },
        {
         "hovertext": [
          "Zimbabwe",
          "United Kingdom"
         ],
         "line": {
          "color": "red",
          "width": 1
         },
         "locations": [
          "ZWE",
          "GBR"
         ],
         "marker": {
          "color": "blue",
          "size": 8
         },
         "mode": "markers+lines",
         "name": "",
         "showlegend": false,
         "type": "scattergeo"
        },
        {
         "hovertext": [
          "Malawi",
          "Russia"
         ],
         "line": {
          "color": "red",
          "width": 1
         },
         "locations": [
          "MWI",
          "RUS"
         ],
         "marker": {
          "color": "blue",
          "size": 8
         },
         "mode": "markers+lines",
         "name": "",
         "showlegend": false,
         "type": "scattergeo"
        }
       ],
       "frames": [],
       "layout": {
        "dragmode": "pan",
        "geo": {
         "countrywidth": 0.5,
         "lataxis": {
          "gridcolor": "rgb(102, 102, 102)",
          "gridwidth": 0.5,
          "showgrid": true
         },
         "lonaxis": {
          "gridcolor": "rgb(102, 102, 102)",
          "gridwidth": 0.5,
          "showgrid": true
         },
         "projection": {
          "type": "natural earth"
         },
         "showcountries": true,
         "showland": true,
         "showocean": true
        },
        "margin": {
         "b": 50,
         "l": 50,
         "r": 50,
         "t": 60
        },
        "modebar": {
         "remove": [
          "zoomOutGeo"
         ]
        },
        "showlegend": false,
        "template": {
         "data": {
          "bar": [
           {
            "error_x": {
             "color": "#2a3f5f"
            },
            "error_y": {
             "color": "#2a3f5f"
            },
            "marker": {
             "line": {
              "color": "#E5ECF6",
              "width": 0.5
             }
            },
            "type": "bar"
           }
          ],
          "barpolar": [
           {
            "marker": {
             "line": {
              "color": "#E5ECF6",
              "width": 0.5
             }
            },
            "type": "barpolar"
           }
          ],
          "carpet": [
           {
            "aaxis": {
             "endlinecolor": "#2a3f5f",
             "gridcolor": "white",
             "linecolor": "white",
             "minorgridcolor": "white",
             "startlinecolor": "#2a3f5f"
            },
            "baxis": {
             "endlinecolor": "#2a3f5f",
             "gridcolor": "white",
             "linecolor": "white",
             "minorgridcolor": "white",
             "startlinecolor": "#2a3f5f"
            },
            "type": "carpet"
           }
          ],
          "choropleth": [
           {
            "colorbar": {
             "outlinewidth": 0,
             "ticks": ""
            },
            "type": "choropleth"
           }
          ],
          "contour": [
           {
            "colorbar": {
             "outlinewidth": 0,
             "ticks": ""
            },
            "colorscale": [
             [
              0,
              "#0d0887"
             ],
             [
              0.1111111111111111,
              "#46039f"
             ],
             [
              0.2222222222222222,
              "#7201a8"
             ],
             [
              0.3333333333333333,
              "#9c179e"
             ],
             [
              0.4444444444444444,
              "#bd3786"
             ],
             [
              0.5555555555555556,
              "#d8576b"
             ],
             [
              0.6666666666666666,
              "#ed7953"
             ],
             [
              0.7777777777777778,
              "#fb9f3a"
             ],
             [
              0.8888888888888888,
              "#fdca26"
             ],
             [
              1,
              "#f0f921"
             ]
            ],
            "type": "contour"
           }
          ],
          "contourcarpet": [
           {
            "colorbar": {
             "outlinewidth": 0,
             "ticks": ""
            },
            "type": "contourcarpet"
           }
          ],
          "heatmap": [
           {
            "colorbar": {
             "outlinewidth": 0,
             "ticks": ""
            },
            "colorscale": [
             [
              0,
              "#0d0887"
             ],
             [
              0.1111111111111111,
              "#46039f"
             ],
             [
              0.2222222222222222,
              "#7201a8"
             ],
             [
              0.3333333333333333,
              "#9c179e"
             ],
             [
              0.4444444444444444,
              "#bd3786"
             ],
             [
              0.5555555555555556,
              "#d8576b"
             ],
             [
              0.6666666666666666,
              "#ed7953"
             ],
             [
              0.7777777777777778,
              "#fb9f3a"
             ],
             [
              0.8888888888888888,
              "#fdca26"
             ],
             [
              1,
              "#f0f921"
             ]
            ],
            "type": "heatmap"
           }
          ],
          "heatmapgl": [
           {
            "colorbar": {
             "outlinewidth": 0,
             "ticks": ""
            },
            "colorscale": [
             [
              0,
              "#0d0887"
             ],
             [
              0.1111111111111111,
              "#46039f"
             ],
             [
              0.2222222222222222,
              "#7201a8"
             ],
             [
              0.3333333333333333,
              "#9c179e"
             ],
             [
              0.4444444444444444,
              "#bd3786"
             ],
             [
              0.5555555555555556,
              "#d8576b"
             ],
             [
              0.6666666666666666,
              "#ed7953"
             ],
             [
              0.7777777777777778,
              "#fb9f3a"
             ],
             [
              0.8888888888888888,
              "#fdca26"
             ],
             [
              1,
              "#f0f921"
             ]
            ],
            "type": "heatmapgl"
           }
          ],
          "histogram": [
           {
            "marker": {
             "colorbar": {
              "outlinewidth": 0,
              "ticks": ""
             }
            },
            "type": "histogram"
           }
          ],
          "histogram2d": [
           {
            "colorbar": {
             "outlinewidth": 0,
             "ticks": ""
            },
            "colorscale": [
             [
              0,
              "#0d0887"
             ],
             [
              0.1111111111111111,
              "#46039f"
             ],
             [
              0.2222222222222222,
              "#7201a8"
             ],
             [
              0.3333333333333333,
              "#9c179e"
             ],
             [
              0.4444444444444444,
              "#bd3786"
             ],
             [
              0.5555555555555556,
              "#d8576b"
             ],
             [
              0.6666666666666666,
              "#ed7953"
             ],
             [
              0.7777777777777778,
              "#fb9f3a"
             ],
             [
              0.8888888888888888,
              "#fdca26"
             ],
             [
              1,
              "#f0f921"
             ]
            ],
            "type": "histogram2d"
           }
          ],
          "histogram2dcontour": [
           {
            "colorbar": {
             "outlinewidth": 0,
             "ticks": ""
            },
            "colorscale": [
             [
              0,
              "#0d0887"
             ],
             [
              0.1111111111111111,
              "#46039f"
             ],
             [
              0.2222222222222222,
              "#7201a8"
             ],
             [
              0.3333333333333333,
              "#9c179e"
             ],
             [
              0.4444444444444444,
              "#bd3786"
             ],
             [
              0.5555555555555556,
              "#d8576b"
             ],
             [
              0.6666666666666666,
              "#ed7953"
             ],
             [
              0.7777777777777778,
              "#fb9f3a"
             ],
             [
              0.8888888888888888,
              "#fdca26"
             ],
             [
              1,
              "#f0f921"
             ]
            ],
            "type": "histogram2dcontour"
           }
          ],
          "mesh3d": [
           {
            "colorbar": {
             "outlinewidth": 0,
             "ticks": ""
            },
            "type": "mesh3d"
           }
          ],
          "parcoords": [
           {
            "line": {
             "colorbar": {
              "outlinewidth": 0,
              "ticks": ""
             }
            },
            "type": "parcoords"
           }
          ],
          "pie": [
           {
            "automargin": true,
            "type": "pie"
           }
          ],
          "scatter": [
           {
            "marker": {
             "colorbar": {
              "outlinewidth": 0,
              "ticks": ""
             }
            },
            "type": "scatter"
           }
          ],
          "scatter3d": [
           {
            "line": {
             "colorbar": {
              "outlinewidth": 0,
              "ticks": ""
             }
            },
            "marker": {
             "colorbar": {
              "outlinewidth": 0,
              "ticks": ""
             }
            },
            "type": "scatter3d"
           }
          ],
          "scattercarpet": [
           {
            "marker": {
             "colorbar": {
              "outlinewidth": 0,
              "ticks": ""
             }
            },
            "type": "scattercarpet"
           }
          ],
          "scattergeo": [
           {
            "marker": {
             "colorbar": {
              "outlinewidth": 0,
              "ticks": ""
             }
            },
            "type": "scattergeo"
           }
          ],
          "scattergl": [
           {
            "marker": {
             "colorbar": {
              "outlinewidth": 0,
              "ticks": ""
             }
            },
            "type": "scattergl"
           }
          ],
          "scattermapbox": [
           {
            "marker": {
             "colorbar": {
              "outlinewidth": 0,
              "ticks": ""
             }
            },
            "type": "scattermapbox"
           }
          ],
          "scatterpolar": [
           {
            "marker": {
             "colorbar": {
              "outlinewidth": 0,
              "ticks": ""
             }
            },
            "type": "scatterpolar"
           }
          ],
          "scatterpolargl": [
           {
            "marker": {
             "colorbar": {
              "outlinewidth": 0,
              "ticks": ""
             }
            },
            "type": "scatterpolargl"
           }
          ],
          "scatterternary": [
           {
            "marker": {
             "colorbar": {
              "outlinewidth": 0,
              "ticks": ""
             }
            },
            "type": "scatterternary"
           }
          ],
          "surface": [
           {
            "colorbar": {
             "outlinewidth": 0,
             "ticks": ""
            },
            "colorscale": [
             [
              0,
              "#0d0887"
             ],
             [
              0.1111111111111111,
              "#46039f"
             ],
             [
              0.2222222222222222,
              "#7201a8"
             ],
             [
              0.3333333333333333,
              "#9c179e"
             ],
             [
              0.4444444444444444,
              "#bd3786"
             ],
             [
              0.5555555555555556,
              "#d8576b"
             ],
             [
              0.6666666666666666,
              "#ed7953"
             ],
             [
              0.7777777777777778,
              "#fb9f3a"
             ],
             [
              0.8888888888888888,
              "#fdca26"
             ],
             [
              1,
              "#f0f921"
             ]
            ],
            "type": "surface"
           }
          ],
          "table": [
           {
            "cells": {
             "fill": {
              "color": "#EBF0F8"
             },
             "line": {
              "color": "white"
             }
            },
            "header": {
             "fill": {
              "color": "#C8D4E3"
             },
             "line": {
              "color": "white"
             }
            },
            "type": "table"
           }
          ]
         },
         "layout": {
          "annotationdefaults": {
           "arrowcolor": "#2a3f5f",
           "arrowhead": 0,
           "arrowwidth": 1
          },
          "autotypenumbers": "strict",
          "coloraxis": {
           "colorbar": {
            "outlinewidth": 0,
            "ticks": ""
           }
          },
          "colorscale": {
           "diverging": [
            [
             0,
             "#8e0152"
            ],
            [
             0.1,
             "#c51b7d"
            ],
            [
             0.2,
             "#de77ae"
            ],
            [
             0.3,
             "#f1b6da"
            ],
            [
             0.4,
             "#fde0ef"
            ],
            [
             0.5,
             "#f7f7f7"
            ],
            [
             0.6,
             "#e6f5d0"
            ],
            [
             0.7,
             "#b8e186"
            ],
            [
             0.8,
             "#7fbc41"
            ],
            [
             0.9,
             "#4d9221"
            ],
            [
             1,
             "#276419"
            ]
           ],
           "sequential": [
            [
             0,
             "#0d0887"
            ],
            [
             0.1111111111111111,
             "#46039f"
            ],
            [
             0.2222222222222222,
             "#7201a8"
            ],
            [
             0.3333333333333333,
             "#9c179e"
            ],
            [
             0.4444444444444444,
             "#bd3786"
            ],
            [
             0.5555555555555556,
             "#d8576b"
            ],
            [
             0.6666666666666666,
             "#ed7953"
            ],
            [
             0.7777777777777778,
             "#fb9f3a"
            ],
            [
             0.8888888888888888,
             "#fdca26"
            ],
            [
             1,
             "#f0f921"
            ]
           ],
           "sequentialminus": [
            [
             0,
             "#0d0887"
            ],
            [
             0.1111111111111111,
             "#46039f"
            ],
            [
             0.2222222222222222,
             "#7201a8"
            ],
            [
             0.3333333333333333,
             "#9c179e"
            ],
            [
             0.4444444444444444,
             "#bd3786"
            ],
            [
             0.5555555555555556,
             "#d8576b"
            ],
            [
             0.6666666666666666,
             "#ed7953"
            ],
            [
             0.7777777777777778,
             "#fb9f3a"
            ],
            [
             0.8888888888888888,
             "#fdca26"
            ],
            [
             1,
             "#f0f921"
            ]
           ]
          },
          "colorway": [
           "#636efa",
           "#EF553B",
           "#00cc96",
           "#ab63fa",
           "#FFA15A",
           "#19d3f3",
           "#FF6692",
           "#B6E880",
           "#FF97FF",
           "#FECB52"
          ],
          "font": {
           "color": "#2a3f5f"
          },
          "geo": {
           "bgcolor": "white",
           "lakecolor": "white",
           "landcolor": "#E5ECF6",
           "showlakes": true,
           "showland": true,
           "subunitcolor": "white"
          },
          "hoverlabel": {
           "align": "left"
          },
          "hovermode": "closest",
          "mapbox": {
           "style": "light"
          },
          "paper_bgcolor": "white",
          "plot_bgcolor": "#E5ECF6",
          "polar": {
           "angularaxis": {
            "gridcolor": "white",
            "linecolor": "white",
            "ticks": ""
           },
           "bgcolor": "#E5ECF6",
           "radialaxis": {
            "gridcolor": "white",
            "linecolor": "white",
            "ticks": ""
           }
          },
          "scene": {
           "xaxis": {
            "backgroundcolor": "#E5ECF6",
            "gridcolor": "white",
            "gridwidth": 2,
            "linecolor": "white",
            "showbackground": true,
            "ticks": "",
            "zerolinecolor": "white"
           },
           "yaxis": {
            "backgroundcolor": "#E5ECF6",
            "gridcolor": "white",
            "gridwidth": 2,
            "linecolor": "white",
            "showbackground": true,
            "ticks": "",
            "zerolinecolor": "white"
           },
           "zaxis": {
            "backgroundcolor": "#E5ECF6",
            "gridcolor": "white",
            "gridwidth": 2,
            "linecolor": "white",
            "showbackground": true,
            "ticks": "",
            "zerolinecolor": "white"
           }
          },
          "shapedefaults": {
           "line": {
            "color": "#2a3f5f"
           }
          },
          "ternary": {
           "aaxis": {
            "gridcolor": "white",
            "linecolor": "white",
            "ticks": ""
           },
           "baxis": {
            "gridcolor": "white",
            "linecolor": "white",
            "ticks": ""
           },
           "bgcolor": "#E5ECF6",
           "caxis": {
            "gridcolor": "white",
            "linecolor": "white",
            "ticks": ""
           }
          },
          "title": {
           "x": 0.05
          },
          "xaxis": {
           "automargin": true,
           "gridcolor": "white",
           "linecolor": "white",
           "ticks": "",
           "title": {
            "standoff": 15
           },
           "zerolinecolor": "white",
           "zerolinewidth": 2
          },
          "yaxis": {
           "automargin": true,
           "gridcolor": "white",
           "linecolor": "white",
           "ticks": "",
           "title": {
            "standoff": 15
           },
           "zerolinecolor": "white",
           "zerolinewidth": 2
          }
         }
        }
       }
      },
      "text/html": [
       "<div\n",
       "    class=\"webio-mountpoint\"\n",
       "    data-webio-mountpoint=\"17809643575548316886\"\n",
       ">\n",
       "    <script>\n",
       "    (function(){\n",
       "    // Some integrations (namely, IJulia/Jupyter) use an alternate render pathway than\n",
       "    // just putting the html on the page. If WebIO isn't defined, then it's pretty likely\n",
       "    // that we're in one of those situations and the integration just isn't installed\n",
       "    // correctly.\n",
       "    if (typeof window.WebIO === \"undefined\") {\n",
       "        document\n",
       "            .querySelector('[data-webio-mountpoint=\"17809643575548316886\"]')\n",
       "            .innerHTML = (\n",
       "                '<div style=\"padding: 1em; background-color: #f8d6da; border: 1px solid #f5c6cb; font-weight: bold;\">' +\n",
       "                '<p><strong>WebIO not detected.</strong></p>' +\n",
       "                '<p>Please read ' +\n",
       "                '<a href=\"https://juliagizmos.github.io/WebIO.jl/latest/troubleshooting/not-detected/\" target=\"_blank\">the troubleshooting guide</a> ' +\n",
       "                'for more information on how to resolve this issue.</p>' +\n",
       "                '<p><a href=\"https://juliagizmos.github.io/WebIO.jl/latest/troubleshooting/not-detected/\" target=\"_blank\">https://juliagizmos.github.io/WebIO.jl/latest/troubleshooting/not-detected/</a></p>' +\n",
       "                '</div>'\n",
       "            );\n",
       "        return;\n",
       "    }\n",
       "    WebIO.mount(\n",
       "        document.querySelector('[data-webio-mountpoint=\"17809643575548316886\"]'),\n",
       "        {\"props\":{},\"nodeType\":\"Scope\",\"type\":\"node\",\"instanceArgs\":{\"imports\":{\"data\":[{\"name\":\"Plotly\",\"type\":\"js\",\"url\":\"\\/assetserver\\/bda7806b127bf51b9e2b8530371cec1e797b422f-plotly.min.js\"},{\"name\":null,\"type\":\"js\",\"url\":\"\\/assetserver\\/3674cc0bcda0672a356c8b6d28b7709d8f57f175-plotly_webio.bundle.js\"}],\"type\":\"async_block\"},\"id\":\"2772434228597023652\",\"handlers\":{\"_toImage\":[\"(function (options){return this.Plotly.toImage(this.plotElem,options).then((function (data){return WebIO.setval({\\\"name\\\":\\\"image\\\",\\\"scope\\\":\\\"2772434228597023652\\\",\\\"id\\\":\\\"14517101544811725918\\\",\\\"type\\\":\\\"observable\\\"},data)}))})\"],\"__get_gd_contents\":[\"(function (prop){prop==\\\"data\\\" ? (WebIO.setval({\\\"name\\\":\\\"__gd_contents\\\",\\\"scope\\\":\\\"2772434228597023652\\\",\\\"id\\\":\\\"10297606292640478504\\\",\\\"type\\\":\\\"observable\\\"},this.plotElem.data)) : undefined; return prop==\\\"layout\\\" ? (WebIO.setval({\\\"name\\\":\\\"__gd_contents\\\",\\\"scope\\\":\\\"2772434228597023652\\\",\\\"id\\\":\\\"10297606292640478504\\\",\\\"type\\\":\\\"observable\\\"},this.plotElem.layout)) : undefined})\"],\"_downloadImage\":[\"(function (options){return this.Plotly.downloadImage(this.plotElem,options)})\"],\"_commands\":[\"(function (args){var fn=args.shift(); var elem=this.plotElem; var Plotly=this.Plotly; args.unshift(elem); return Plotly[fn].apply(this,args)})\"]},\"systemjs_options\":null,\"mount_callbacks\":[\"function () {\\n    var handler = ((function (Plotly,PlotlyWebIO){PlotlyWebIO.init(WebIO); var gd=this.dom.querySelector(\\\"#plot-40a223ac-df4b-41c4-9c5d-54e7781d89c7\\\"); this.plotElem=gd; this.Plotly=Plotly; (window.Blink!==undefined) ? (gd.style.width=\\\"100%\\\", gd.style.height=\\\"100vh\\\", gd.style.marginLeft=\\\"0%\\\", gd.style.marginTop=\\\"0vh\\\") : undefined; window.onresize=(function (){return Plotly.Plots.resize(gd)}); Plotly.newPlot(gd,[{\\\"showlegend\\\":false,\\\"mode\\\":\\\"markers+lines\\\",\\\"line\\\":{\\\"color\\\":\\\"red\\\",\\\"width\\\":1},\\\"locations\\\":[\\\"USA\\\",\\\"IRL\\\"],\\\"hovertext\\\":[\\\"United States of America\\\",\\\"Republic of Ireland\\\"],\\\"type\\\":\\\"scattergeo\\\",\\\"name\\\":\\\"\\\",\\\"marker\\\":{\\\"color\\\":\\\"blue\\\",\\\"size\\\":8}},{\\\"showlegend\\\":false,\\\"mode\\\":\\\"markers+lines\\\",\\\"line\\\":{\\\"color\\\":\\\"red\\\",\\\"width\\\":1},\\\"locations\\\":[\\\"USA\\\",\\\"MEX\\\"],\\\"hovertext\\\":[\\\"United States of America\\\",\\\"Mexico\\\"],\\\"type\\\":\\\"scattergeo\\\",\\\"name\\\":\\\"\\\",\\\"marker\\\":{\\\"color\\\":\\\"blue\\\",\\\"size\\\":8}},{\\\"showlegend\\\":false,\\\"mode\\\":\\\"markers+lines\\\",\\\"line\\\":{\\\"color\\\":\\\"red\\\",\\\"width\\\":1},\\\"locations\\\":[\\\"USA\\\",\\\"CHE\\\"],\\\"hovertext\\\":[\\\"United States of America\\\",\\\"Switzerland\\\"],\\\"type\\\":\\\"scattergeo\\\",\\\"name\\\":\\\"\\\",\\\"marker\\\":{\\\"color\\\":\\\"blue\\\",\\\"size\\\":8}},{\\\"showlegend\\\":false,\\\"mode\\\":\\\"markers+lines\\\",\\\"line\\\":{\\\"color\\\":\\\"red\\\",\\\"width\\\":1},\\\"locations\\\":[\\\"USA\\\",\\\"RUS\\\"],\\\"hovertext\\\":[\\\"United States of America\\\",\\\"Russia\\\"],\\\"type\\\":\\\"scattergeo\\\",\\\"name\\\":\\\"\\\",\\\"marker\\\":{\\\"color\\\":\\\"blue\\\",\\\"size\\\":8}},{\\\"showlegend\\\":false,\\\"mode\\\":\\\"markers+lines\\\",\\\"line\\\":{\\\"color\\\":\\\"red\\\",\\\"width\\\":1},\\\"locations\\\":[\\\"USA\\\",\\\"GBR\\\"],\\\"hovertext\\\":[\\\"United States of America\\\",\\\"United Kingdom\\\"],\\\"type\\\":\\\"scattergeo\\\",\\\"name\\\":\\\"\\\",\\\"marker\\\":{\\\"color\\\":\\\"blue\\\",\\\"size\\\":8}},{\\\"showlegend\\\":false,\\\"mode\\\":\\\"markers+lines\\\",\\\"line\\\":{\\\"color\\\":\\\"red\\\",\\\"width\\\":1},\\\"locations\\\":[\\\"USA\\\",\\\"DEU\\\"],\\\"hovertext\\\":[\\\"United States of America\\\",\\\"Germany\\\"],\\\"type\\\":\\\"scattergeo\\\",\\\"name\\\":\\\"\\\",\\\"marker\\\":{\\\"color\\\":\\\"blue\\\",\\\"size\\\":8}},{\\\"showlegend\\\":false,\\\"mode\\\":\\\"markers+lines\\\",\\\"line\\\":{\\\"color\\\":\\\"red\\\",\\\"width\\\":1},\\\"locations\\\":[\\\"USA\\\",\\\"IDN\\\"],\\\"hovertext\\\":[\\\"United States of America\\\",\\\"Indonesia\\\"],\\\"type\\\":\\\"scattergeo\\\",\\\"name\\\":\\\"\\\",\\\"marker\\\":{\\\"color\\\":\\\"blue\\\",\\\"size\\\":8}},{\\\"showlegend\\\":false,\\\"mode\\\":\\\"markers+lines\\\",\\\"line\\\":{\\\"color\\\":\\\"red\\\",\\\"width\\\":1},\\\"locations\\\":[\\\"USA\\\",\\\"BEL\\\"],\\\"hovertext\\\":[\\\"United States of America\\\",\\\"Belgium\\\"],\\\"type\\\":\\\"scattergeo\\\",\\\"name\\\":\\\"\\\",\\\"marker\\\":{\\\"color\\\":\\\"blue\\\",\\\"size\\\":8}},{\\\"showlegend\\\":false,\\\"mode\\\":\\\"markers+lines\\\",\\\"line\\\":{\\\"color\\\":\\\"red\\\",\\\"width\\\":1},\\\"locations\\\":[\\\"USA\\\",\\\"ESP\\\"],\\\"hovertext\\\":[\\\"United States of America\\\",\\\"Spain\\\"],\\\"type\\\":\\\"scattergeo\\\",\\\"name\\\":\\\"\\\",\\\"marker\\\":{\\\"color\\\":\\\"blue\\\",\\\"size\\\":8}},{\\\"showlegend\\\":false,\\\"mode\\\":\\\"markers+lines\\\",\\\"line\\\":{\\\"color\\\":\\\"red\\\",\\\"width\\\":1},\\\"locations\\\":[\\\"USA\\\",\\\"CAN\\\"],\\\"hovertext\\\":[\\\"United States of America\\\",\\\"Canada\\\"],\\\"type\\\":\\\"scattergeo\\\",\\\"name\\\":\\\"\\\",\\\"marker\\\":{\\\"color\\\":\\\"blue\\\",\\\"size\\\":8}},{\\\"showlegend\\\":false,\\\"mode\\\":\\\"markers+lines\\\",\\\"line\\\":{\\\"color\\\":\\\"red\\\",\\\"width\\\":1},\\\"locations\\\":[\\\"USA\\\",\\\"NLD\\\"],\\\"hovertext\\\":[\\\"United States of America\\\",\\\"Netherlands\\\"],\\\"type\\\":\\\"scattergeo\\\",\\\"name\\\":\\\"\\\",\\\"marker\\\":{\\\"color\\\":\\\"blue\\\",\\\"size\\\":8}},{\\\"showlegend\\\":false,\\\"mode\\\":\\\"markers+lines\\\",\\\"line\\\":{\\\"color\\\":\\\"red\\\",\\\"width\\\":1},\\\"locations\\\":[\\\"USA\\\",\\\"NOR\\\"],\\\"hovertext\\\":[\\\"United States of America\\\",\\\"Norway\\\"],\\\"type\\\":\\\"scattergeo\\\",\\\"name\\\":\\\"\\\",\\\"marker\\\":{\\\"color\\\":\\\"blue\\\",\\\"size\\\":8}},{\\\"showlegend\\\":false,\\\"mode\\\":\\\"markers+lines\\\",\\\"line\\\":{\\\"color\\\":\\\"red\\\",\\\"width\\\":1},\\\"locations\\\":[\\\"USA\\\",\\\"VNM\\\"],\\\"hovertext\\\":[\\\"United States of America\\\",\\\"Vietnam\\\"],\\\"type\\\":\\\"scattergeo\\\",\\\"name\\\":\\\"\\\",\\\"marker\\\":{\\\"color\\\":\\\"blue\\\",\\\"size\\\":8}},{\\\"showlegend\\\":false,\\\"mode\\\":\\\"markers+lines\\\",\\\"line\\\":{\\\"color\\\":\\\"red\\\",\\\"width\\\":1},\\\"locations\\\":[\\\"USA\\\",\\\"AUS\\\"],\\\"hovertext\\\":[\\\"United States of America\\\",\\\"Australia\\\"],\\\"type\\\":\\\"scattergeo\\\",\\\"name\\\":\\\"\\\",\\\"marker\\\":{\\\"color\\\":\\\"blue\\\",\\\"size\\\":8}},{\\\"showlegend\\\":false,\\\"mode\\\":\\\"markers+lines\\\",\\\"line\\\":{\\\"color\\\":\\\"red\\\",\\\"width\\\":1},\\\"locations\\\":[\\\"USA\\\",\\\"BRA\\\"],\\\"hovertext\\\":[\\\"United States of America\\\",\\\"Brazil\\\"],\\\"type\\\":\\\"scattergeo\\\",\\\"name\\\":\\\"\\\",\\\"marker\\\":{\\\"color\\\":\\\"blue\\\",\\\"size\\\":8}},{\\\"showlegend\\\":false,\\\"mode\\\":\\\"markers+lines\\\",\\\"line\\\":{\\\"color\\\":\\\"red\\\",\\\"width\\\":1},\\\"locations\\\":[\\\"USA\\\",\\\"SWE\\\"],\\\"hovertext\\\":[\\\"United States of America\\\",\\\"Sweden\\\"],\\\"type\\\":\\\"scattergeo\\\",\\\"name\\\":\\\"\\\",\\\"marker\\\":{\\\"color\\\":\\\"blue\\\",\\\"size\\\":8}},{\\\"showlegend\\\":false,\\\"mode\\\":\\\"markers+lines\\\",\\\"line\\\":{\\\"color\\\":\\\"red\\\",\\\"width\\\":1},\\\"locations\\\":[\\\"USA\\\",\\\"THA\\\"],\\\"hovertext\\\":[\\\"United States of America\\\",\\\"Thailand\\\"],\\\"type\\\":\\\"scattergeo\\\",\\\"name\\\":\\\"\\\",\\\"marker\\\":{\\\"color\\\":\\\"blue\\\",\\\"size\\\":8}},{\\\"showlegend\\\":false,\\\"mode\\\":\\\"markers+lines\\\",\\\"line\\\":{\\\"color\\\":\\\"red\\\",\\\"width\\\":1},\\\"locations\\\":[\\\"USA\\\",\\\"NZL\\\"],\\\"hovertext\\\":[\\\"United States of America\\\",\\\"New Zealand\\\"],\\\"type\\\":\\\"scattergeo\\\",\\\"name\\\":\\\"\\\",\\\"marker\\\":{\\\"color\\\":\\\"blue\\\",\\\"size\\\":8}},{\\\"showlegend\\\":false,\\\"mode\\\":\\\"markers+lines\\\",\\\"line\\\":{\\\"color\\\":\\\"red\\\",\\\"width\\\":1},\\\"locations\\\":[\\\"USA\\\",\\\"PHL\\\"],\\\"hovertext\\\":[\\\"United States of America\\\",\\\"Philippines\\\"],\\\"type\\\":\\\"scattergeo\\\",\\\"name\\\":\\\"\\\",\\\"marker\\\":{\\\"color\\\":\\\"blue\\\",\\\"size\\\":8}},{\\\"showlegend\\\":false,\\\"mode\\\":\\\"markers+lines\\\",\\\"line\\\":{\\\"color\\\":\\\"red\\\",\\\"width\\\":1},\\\"locations\\\":[\\\"USA\\\",\\\"NGA\\\"],\\\"hovertext\\\":[\\\"United States of America\\\",\\\"Nigeria\\\"],\\\"type\\\":\\\"scattergeo\\\",\\\"name\\\":\\\"\\\",\\\"marker\\\":{\\\"color\\\":\\\"blue\\\",\\\"size\\\":8}},{\\\"showlegend\\\":false,\\\"mode\\\":\\\"markers+lines\\\",\\\"line\\\":{\\\"color\\\":\\\"red\\\",\\\"width\\\":1},\\\"locations\\\":[\\\"USA\\\",\\\"JPN\\\"],\\\"hovertext\\\":[\\\"United States of America\\\",\\\"Japan\\\"],\\\"type\\\":\\\"scattergeo\\\",\\\"name\\\":\\\"\\\",\\\"marker\\\":{\\\"color\\\":\\\"blue\\\",\\\"size\\\":8}},{\\\"showlegend\\\":false,\\\"mode\\\":\\\"markers+lines\\\",\\\"line\\\":{\\\"color\\\":\\\"red\\\",\\\"width\\\":1},\\\"locations\\\":[\\\"USA\\\",\\\"ITA\\\"],\\\"hovertext\\\":[\\\"United States of America\\\",\\\"Italy\\\"],\\\"type\\\":\\\"scattergeo\\\",\\\"name\\\":\\\"\\\",\\\"marker\\\":{\\\"color\\\":\\\"blue\\\",\\\"size\\\":8}},{\\\"showlegend\\\":false,\\\"mode\\\":\\\"markers+lines\\\",\\\"line\\\":{\\\"color\\\":\\\"red\\\",\\\"width\\\":1},\\\"locations\\\":[\\\"USA\\\",\\\"ZAF\\\"],\\\"hovertext\\\":[\\\"United States of America\\\",\\\"South Africa\\\"],\\\"type\\\":\\\"scattergeo\\\",\\\"name\\\":\\\"\\\",\\\"marker\\\":{\\\"color\\\":\\\"blue\\\",\\\"size\\\":8}},{\\\"showlegend\\\":false,\\\"mode\\\":\\\"markers+lines\\\",\\\"line\\\":{\\\"color\\\":\\\"red\\\",\\\"width\\\":1},\\\"locations\\\":[\\\"USA\\\",\\\"FIN\\\"],\\\"hovertext\\\":[\\\"United States of America\\\",\\\"Finland\\\"],\\\"type\\\":\\\"scattergeo\\\",\\\"name\\\":\\\"\\\",\\\"marker\\\":{\\\"color\\\":\\\"blue\\\",\\\"size\\\":8}},{\\\"showlegend\\\":false,\\\"mode\\\":\\\"markers+lines\\\",\\\"line\\\":{\\\"color\\\":\\\"red\\\",\\\"width\\\":1},\\\"locations\\\":[\\\"USA\\\",\\\"TUR\\\"],\\\"hovertext\\\":[\\\"United States of America\\\",\\\"Turkey\\\"],\\\"type\\\":\\\"scattergeo\\\",\\\"name\\\":\\\"\\\",\\\"marker\\\":{\\\"color\\\":\\\"blue\\\",\\\"size\\\":8}},{\\\"showlegend\\\":false,\\\"mode\\\":\\\"markers+lines\\\",\\\"line\\\":{\\\"color\\\":\\\"red\\\",\\\"width\\\":1},\\\"locations\\\":[\\\"USA\\\",\\\"PAK\\\"],\\\"hovertext\\\":[\\\"United States of America\\\",\\\"Pakistan\\\"],\\\"type\\\":\\\"scattergeo\\\",\\\"name\\\":\\\"\\\",\\\"marker\\\":{\\\"color\\\":\\\"blue\\\",\\\"size\\\":8}},{\\\"showlegend\\\":false,\\\"mode\\\":\\\"markers+lines\\\",\\\"line\\\":{\\\"color\\\":\\\"red\\\",\\\"width\\\":1},\\\"locations\\\":[\\\"USA\\\",\\\"IND\\\"],\\\"hovertext\\\":[\\\"United States of America\\\",\\\"India\\\"],\\\"type\\\":\\\"scattergeo\\\",\\\"name\\\":\\\"\\\",\\\"marker\\\":{\\\"color\\\":\\\"blue\\\",\\\"size\\\":8}},{\\\"showlegend\\\":false,\\\"mode\\\":\\\"markers+lines\\\",\\\"line\\\":{\\\"color\\\":\\\"red\\\",\\\"width\\\":1},\\\"locations\\\":[\\\"USA\\\",\\\"FRA\\\"],\\\"hovertext\\\":[\\\"United States of America\\\",\\\"France\\\"],\\\"type\\\":\\\"scattergeo\\\",\\\"name\\\":\\\"\\\",\\\"marker\\\":{\\\"color\\\":\\\"blue\\\",\\\"size\\\":8}},{\\\"showlegend\\\":false,\\\"mode\\\":\\\"markers+lines\\\",\\\"line\\\":{\\\"color\\\":\\\"red\\\",\\\"width\\\":1},\\\"locations\\\":[\\\"USA\\\",\\\"ARE\\\"],\\\"hovertext\\\":[\\\"United States of America\\\",\\\"United Arab Emirates\\\"],\\\"type\\\":\\\"scattergeo\\\",\\\"name\\\":\\\"\\\",\\\"marker\\\":{\\\"color\\\":\\\"blue\\\",\\\"size\\\":8}},{\\\"showlegend\\\":false,\\\"mode\\\":\\\"markers+lines\\\",\\\"line\\\":{\\\"color\\\":\\\"red\\\",\\\"width\\\":1},\\\"locations\\\":[\\\"USA\\\",\\\"PRT\\\"],\\\"hovertext\\\":[\\\"United States of America\\\",\\\"Portugal\\\"],\\\"type\\\":\\\"scattergeo\\\",\\\"name\\\":\\\"\\\",\\\"marker\\\":{\\\"color\\\":\\\"blue\\\",\\\"size\\\":8}},{\\\"showlegend\\\":false,\\\"mode\\\":\\\"markers+lines\\\",\\\"line\\\":{\\\"color\\\":\\\"red\\\",\\\"width\\\":1},\\\"locations\\\":[\\\"USA\\\",\\\"UKR\\\"],\\\"hovertext\\\":[\\\"United States of America\\\",\\\"Ukraine\\\"],\\\"type\\\":\\\"scattergeo\\\",\\\"name\\\":\\\"\\\",\\\"marker\\\":{\\\"color\\\":\\\"blue\\\",\\\"size\\\":8}},{\\\"showlegend\\\":false,\\\"mode\\\":\\\"markers+lines\\\",\\\"line\\\":{\\\"color\\\":\\\"red\\\",\\\"width\\\":1},\\\"locations\\\":[\\\"USA\\\",\\\"HKG\\\"],\\\"hovertext\\\":[\\\"United States of America\\\",\\\"Hong Kong S.A.R.\\\"],\\\"type\\\":\\\"scattergeo\\\",\\\"name\\\":\\\"\\\",\\\"marker\\\":{\\\"color\\\":\\\"blue\\\",\\\"size\\\":8}},{\\\"showlegend\\\":false,\\\"mode\\\":\\\"markers+lines\\\",\\\"line\\\":{\\\"color\\\":\\\"red\\\",\\\"width\\\":1},\\\"locations\\\":[\\\"USA\\\",\\\"KEN\\\"],\\\"hovertext\\\":[\\\"United States of America\\\",\\\"Kenya\\\"],\\\"type\\\":\\\"scattergeo\\\",\\\"name\\\":\\\"\\\",\\\"marker\\\":{\\\"color\\\":\\\"blue\\\",\\\"size\\\":8}},{\\\"showlegend\\\":false,\\\"mode\\\":\\\"markers+lines\\\",\\\"line\\\":{\\\"color\\\":\\\"red\\\",\\\"width\\\":1},\\\"locations\\\":[\\\"USA\\\",\\\"BGD\\\"],\\\"hovertext\\\":[\\\"United States of America\\\",\\\"Bangladesh\\\"],\\\"type\\\":\\\"scattergeo\\\",\\\"name\\\":\\\"\\\",\\\"marker\\\":{\\\"color\\\":\\\"blue\\\",\\\"size\\\":8}},{\\\"showlegend\\\":false,\\\"mode\\\":\\\"markers+lines\\\",\\\"line\\\":{\\\"color\\\":\\\"red\\\",\\\"width\\\":1},\\\"locations\\\":[\\\"USA\\\",\\\"SAU\\\"],\\\"hovertext\\\":[\\\"United States of America\\\",\\\"Saudi Arabia\\\"],\\\"type\\\":\\\"scattergeo\\\",\\\"name\\\":\\\"\\\",\\\"marker\\\":{\\\"color\\\":\\\"blue\\\",\\\"size\\\":8}},{\\\"showlegend\\\":false,\\\"mode\\\":\\\"markers+lines\\\",\\\"line\\\":{\\\"color\\\":\\\"red\\\",\\\"width\\\":1},\\\"locations\\\":[\\\"IRL\\\",\\\"USA\\\"],\\\"hovertext\\\":[\\\"Republic of Ireland\\\",\\\"United States of America\\\"],\\\"type\\\":\\\"scattergeo\\\",\\\"name\\\":\\\"\\\",\\\"marker\\\":{\\\"color\\\":\\\"blue\\\",\\\"size\\\":8}},{\\\"showlegend\\\":false,\\\"mode\\\":\\\"markers+lines\\\",\\\"line\\\":{\\\"color\\\":\\\"red\\\",\\\"width\\\":1},\\\"locations\\\":[\\\"IRL\\\",\\\"GBR\\\"],\\\"hovertext\\\":[\\\"Republic of Ireland\\\",\\\"United Kingdom\\\"],\\\"type\\\":\\\"scattergeo\\\",\\\"name\\\":\\\"\\\",\\\"marker\\\":{\\\"color\\\":\\\"blue\\\",\\\"size\\\":8}},{\\\"showlegend\\\":false,\\\"mode\\\":\\\"markers+lines\\\",\\\"line\\\":{\\\"color\\\":\\\"red\\\",\\\"width\\\":1},\\\"locations\\\":[\\\"MEX\\\",\\\"USA\\\"],\\\"hovertext\\\":[\\\"Mexico\\\",\\\"United States of America\\\"],\\\"type\\\":\\\"scattergeo\\\",\\\"name\\\":\\\"\\\",\\\"marker\\\":{\\\"color\\\":\\\"blue\\\",\\\"size\\\":8}},{\\\"showlegend\\\":false,\\\"mode\\\":\\\"markers+lines\\\",\\\"line\\\":{\\\"color\\\":\\\"red\\\",\\\"width\\\":1},\\\"locations\\\":[\\\"MEX\\\",\\\"GBR\\\"],\\\"hovertext\\\":[\\\"Mexico\\\",\\\"United Kingdom\\\"],\\\"type\\\":\\\"scattergeo\\\",\\\"name\\\":\\\"\\\",\\\"marker\\\":{\\\"color\\\":\\\"blue\\\",\\\"size\\\":8}},{\\\"showlegend\\\":false,\\\"mode\\\":\\\"markers+lines\\\",\\\"line\\\":{\\\"color\\\":\\\"red\\\",\\\"width\\\":1},\\\"locations\\\":[\\\"CHE\\\",\\\"USA\\\"],\\\"hovertext\\\":[\\\"Switzerland\\\",\\\"United States of America\\\"],\\\"type\\\":\\\"scattergeo\\\",\\\"name\\\":\\\"\\\",\\\"marker\\\":{\\\"color\\\":\\\"blue\\\",\\\"size\\\":8}},{\\\"showlegend\\\":false,\\\"mode\\\":\\\"markers+lines\\\",\\\"line\\\":{\\\"color\\\":\\\"red\\\",\\\"width\\\":1},\\\"locations\\\":[\\\"CHE\\\",\\\"GBR\\\"],\\\"hovertext\\\":[\\\"Switzerland\\\",\\\"United Kingdom\\\"],\\\"type\\\":\\\"scattergeo\\\",\\\"name\\\":\\\"\\\",\\\"marker\\\":{\\\"color\\\":\\\"blue\\\",\\\"size\\\":8}},{\\\"showlegend\\\":false,\\\"mode\\\":\\\"markers+lines\\\",\\\"line\\\":{\\\"color\\\":\\\"red\\\",\\\"width\\\":1},\\\"locations\\\":[\\\"RUS\\\",\\\"USA\\\"],\\\"hovertext\\\":[\\\"Russia\\\",\\\"United States of America\\\"],\\\"type\\\":\\\"scattergeo\\\",\\\"name\\\":\\\"\\\",\\\"marker\\\":{\\\"color\\\":\\\"blue\\\",\\\"size\\\":8}},{\\\"showlegend\\\":false,\\\"mode\\\":\\\"markers+lines\\\",\\\"line\\\":{\\\"color\\\":\\\"red\\\",\\\"width\\\":1},\\\"locations\\\":[\\\"RUS\\\",\\\"GBR\\\"],\\\"hovertext\\\":[\\\"Russia\\\",\\\"United Kingdom\\\"],\\\"type\\\":\\\"scattergeo\\\",\\\"name\\\":\\\"\\\",\\\"marker\\\":{\\\"color\\\":\\\"blue\\\",\\\"size\\\":8}},{\\\"showlegend\\\":false,\\\"mode\\\":\\\"markers+lines\\\",\\\"line\\\":{\\\"color\\\":\\\"red\\\",\\\"width\\\":1},\\\"locations\\\":[\\\"GBR\\\",\\\"USA\\\"],\\\"hovertext\\\":[\\\"United Kingdom\\\",\\\"United States of America\\\"],\\\"type\\\":\\\"scattergeo\\\",\\\"name\\\":\\\"\\\",\\\"marker\\\":{\\\"color\\\":\\\"blue\\\",\\\"size\\\":8}},{\\\"showlegend\\\":false,\\\"mode\\\":\\\"markers+lines\\\",\\\"line\\\":{\\\"color\\\":\\\"red\\\",\\\"width\\\":1},\\\"locations\\\":[\\\"GBR\\\",\\\"IRL\\\"],\\\"hovertext\\\":[\\\"United Kingdom\\\",\\\"Republic of Ireland\\\"],\\\"type\\\":\\\"scattergeo\\\",\\\"name\\\":\\\"\\\",\\\"marker\\\":{\\\"color\\\":\\\"blue\\\",\\\"size\\\":8}},{\\\"showlegend\\\":false,\\\"mode\\\":\\\"markers+lines\\\",\\\"line\\\":{\\\"color\\\":\\\"red\\\",\\\"width\\\":1},\\\"locations\\\":[\\\"GBR\\\",\\\"CHE\\\"],\\\"hovertext\\\":[\\\"United Kingdom\\\",\\\"Switzerland\\\"],\\\"type\\\":\\\"scattergeo\\\",\\\"name\\\":\\\"\\\",\\\"marker\\\":{\\\"color\\\":\\\"blue\\\",\\\"size\\\":8}},{\\\"showlegend\\\":false,\\\"mode\\\":\\\"markers+lines\\\",\\\"line\\\":{\\\"color\\\":\\\"red\\\",\\\"width\\\":1},\\\"locations\\\":[\\\"GBR\\\",\\\"RUS\\\"],\\\"hovertext\\\":[\\\"United Kingdom\\\",\\\"Russia\\\"],\\\"type\\\":\\\"scattergeo\\\",\\\"name\\\":\\\"\\\",\\\"marker\\\":{\\\"color\\\":\\\"blue\\\",\\\"size\\\":8}},{\\\"showlegend\\\":false,\\\"mode\\\":\\\"markers+lines\\\",\\\"line\\\":{\\\"color\\\":\\\"red\\\",\\\"width\\\":1},\\\"locations\\\":[\\\"GBR\\\",\\\"DEU\\\"],\\\"hovertext\\\":[\\\"United Kingdom\\\",\\\"Germany\\\"],\\\"type\\\":\\\"scattergeo\\\",\\\"name\\\":\\\"\\\",\\\"marker\\\":{\\\"color\\\":\\\"blue\\\",\\\"size\\\":8}},{\\\"showlegend\\\":false,\\\"mode\\\":\\\"markers+lines\\\",\\\"line\\\":{\\\"color\\\":\\\"red\\\",\\\"width\\\":1},\\\"locations\\\":[\\\"GBR\\\",\\\"IDN\\\"],\\\"hovertext\\\":[\\\"United Kingdom\\\",\\\"Indonesia\\\"],\\\"type\\\":\\\"scattergeo\\\",\\\"name\\\":\\\"\\\",\\\"marker\\\":{\\\"color\\\":\\\"blue\\\",\\\"size\\\":8}},{\\\"showlegend\\\":false,\\\"mode\\\":\\\"markers+lines\\\",\\\"line\\\":{\\\"color\\\":\\\"red\\\",\\\"width\\\":1},\\\"locations\\\":[\\\"GBR\\\",\\\"BEL\\\"],\\\"hovertext\\\":[\\\"United Kingdom\\\",\\\"Belgium\\\"],\\\"type\\\":\\\"scattergeo\\\",\\\"name\\\":\\\"\\\",\\\"marker\\\":{\\\"color\\\":\\\"blue\\\",\\\"size\\\":8}},{\\\"showlegend\\\":false,\\\"mode\\\":\\\"markers+lines\\\",\\\"line\\\":{\\\"color\\\":\\\"red\\\",\\\"width\\\":1},\\\"locations\\\":[\\\"GBR\\\",\\\"ESP\\\"],\\\"hovertext\\\":[\\\"United Kingdom\\\",\\\"Spain\\\"],\\\"type\\\":\\\"scattergeo\\\",\\\"name\\\":\\\"\\\",\\\"marker\\\":{\\\"color\\\":\\\"blue\\\",\\\"size\\\":8}},{\\\"showlegend\\\":false,\\\"mode\\\":\\\"markers+lines\\\",\\\"line\\\":{\\\"color\\\":\\\"red\\\",\\\"width\\\":1},\\\"locations\\\":[\\\"GBR\\\",\\\"CAN\\\"],\\\"hovertext\\\":[\\\"United Kingdom\\\",\\\"Canada\\\"],\\\"type\\\":\\\"scattergeo\\\",\\\"name\\\":\\\"\\\",\\\"marker\\\":{\\\"color\\\":\\\"blue\\\",\\\"size\\\":8}},{\\\"showlegend\\\":false,\\\"mode\\\":\\\"markers+lines\\\",\\\"line\\\":{\\\"color\\\":\\\"red\\\",\\\"width\\\":1},\\\"locations\\\":[\\\"GBR\\\",\\\"NLD\\\"],\\\"hovertext\\\":[\\\"United Kingdom\\\",\\\"Netherlands\\\"],\\\"type\\\":\\\"scattergeo\\\",\\\"name\\\":\\\"\\\",\\\"marker\\\":{\\\"color\\\":\\\"blue\\\",\\\"size\\\":8}},{\\\"showlegend\\\":false,\\\"mode\\\":\\\"markers+lines\\\",\\\"line\\\":{\\\"color\\\":\\\"red\\\",\\\"width\\\":1},\\\"locations\\\":[\\\"GBR\\\",\\\"NOR\\\"],\\\"hovertext\\\":[\\\"United Kingdom\\\",\\\"Norway\\\"],\\\"type\\\":\\\"scattergeo\\\",\\\"name\\\":\\\"\\\",\\\"marker\\\":{\\\"color\\\":\\\"blue\\\",\\\"size\\\":8}},{\\\"showlegend\\\":false,\\\"mode\\\":\\\"markers+lines\\\",\\\"line\\\":{\\\"color\\\":\\\"red\\\",\\\"width\\\":1},\\\"locations\\\":[\\\"GBR\\\",\\\"VNM\\\"],\\\"hovertext\\\":[\\\"United Kingdom\\\",\\\"Vietnam\\\"],\\\"type\\\":\\\"scattergeo\\\",\\\"name\\\":\\\"\\\",\\\"marker\\\":{\\\"color\\\":\\\"blue\\\",\\\"size\\\":8}},{\\\"showlegend\\\":false,\\\"mode\\\":\\\"markers+lines\\\",\\\"line\\\":{\\\"color\\\":\\\"red\\\",\\\"width\\\":1},\\\"locations\\\":[\\\"GBR\\\",\\\"AUS\\\"],\\\"hovertext\\\":[\\\"United Kingdom\\\",\\\"Australia\\\"],\\\"type\\\":\\\"scattergeo\\\",\\\"name\\\":\\\"\\\",\\\"marker\\\":{\\\"color\\\":\\\"blue\\\",\\\"size\\\":8}},{\\\"showlegend\\\":false,\\\"mode\\\":\\\"markers+lines\\\",\\\"line\\\":{\\\"color\\\":\\\"red\\\",\\\"width\\\":1},\\\"locations\\\":[\\\"GBR\\\",\\\"BRA\\\"],\\\"hovertext\\\":[\\\"United Kingdom\\\",\\\"Brazil\\\"],\\\"type\\\":\\\"scattergeo\\\",\\\"name\\\":\\\"\\\",\\\"marker\\\":{\\\"color\\\":\\\"blue\\\",\\\"size\\\":8}},{\\\"showlegend\\\":false,\\\"mode\\\":\\\"markers+lines\\\",\\\"line\\\":{\\\"color\\\":\\\"red\\\",\\\"width\\\":1},\\\"locations\\\":[\\\"GBR\\\",\\\"SWE\\\"],\\\"hovertext\\\":[\\\"United Kingdom\\\",\\\"Sweden\\\"],\\\"type\\\":\\\"scattergeo\\\",\\\"name\\\":\\\"\\\",\\\"marker\\\":{\\\"color\\\":\\\"blue\\\",\\\"size\\\":8}},{\\\"showlegend\\\":false,\\\"mode\\\":\\\"markers+lines\\\",\\\"line\\\":{\\\"color\\\":\\\"red\\\",\\\"width\\\":1},\\\"locations\\\":[\\\"GBR\\\",\\\"NZL\\\"],\\\"hovertext\\\":[\\\"United Kingdom\\\",\\\"New Zealand\\\"],\\\"type\\\":\\\"scattergeo\\\",\\\"name\\\":\\\"\\\",\\\"marker\\\":{\\\"color\\\":\\\"blue\\\",\\\"size\\\":8}},{\\\"showlegend\\\":false,\\\"mode\\\":\\\"markers+lines\\\",\\\"line\\\":{\\\"color\\\":\\\"red\\\",\\\"width\\\":1},\\\"locations\\\":[\\\"GBR\\\",\\\"NGA\\\"],\\\"hovertext\\\":[\\\"United Kingdom\\\",\\\"Nigeria\\\"],\\\"type\\\":\\\"scattergeo\\\",\\\"name\\\":\\\"\\\",\\\"marker\\\":{\\\"color\\\":\\\"blue\\\",\\\"size\\\":8}},{\\\"showlegend\\\":false,\\\"mode\\\":\\\"markers+lines\\\",\\\"line\\\":{\\\"color\\\":\\\"red\\\",\\\"width\\\":1},\\\"locations\\\":[\\\"GBR\\\",\\\"JPN\\\"],\\\"hovertext\\\":[\\\"United Kingdom\\\",\\\"Japan\\\"],\\\"type\\\":\\\"scattergeo\\\",\\\"name\\\":\\\"\\\",\\\"marker\\\":{\\\"color\\\":\\\"blue\\\",\\\"size\\\":8}},{\\\"showlegend\\\":false,\\\"mode\\\":\\\"markers+lines\\\",\\\"line\\\":{\\\"color\\\":\\\"red\\\",\\\"width\\\":1},\\\"locations\\\":[\\\"GBR\\\",\\\"ITA\\\"],\\\"hovertext\\\":[\\\"United Kingdom\\\",\\\"Italy\\\"],\\\"type\\\":\\\"scattergeo\\\",\\\"name\\\":\\\"\\\",\\\"marker\\\":{\\\"color\\\":\\\"blue\\\",\\\"size\\\":8}},{\\\"showlegend\\\":false,\\\"mode\\\":\\\"markers+lines\\\",\\\"line\\\":{\\\"color\\\":\\\"red\\\",\\\"width\\\":1},\\\"locations\\\":[\\\"GBR\\\",\\\"ZAF\\\"],\\\"hovertext\\\":[\\\"United Kingdom\\\",\\\"South Africa\\\"],\\\"type\\\":\\\"scattergeo\\\",\\\"name\\\":\\\"\\\",\\\"marker\\\":{\\\"color\\\":\\\"blue\\\",\\\"size\\\":8}},{\\\"showlegend\\\":false,\\\"mode\\\":\\\"markers+lines\\\",\\\"line\\\":{\\\"color\\\":\\\"red\\\",\\\"width\\\":1},\\\"locations\\\":[\\\"GBR\\\",\\\"COL\\\"],\\\"hovertext\\\":[\\\"United Kingdom\\\",\\\"Colombia\\\"],\\\"type\\\":\\\"scattergeo\\\",\\\"name\\\":\\\"\\\",\\\"marker\\\":{\\\"color\\\":\\\"blue\\\",\\\"size\\\":8}},{\\\"showlegend\\\":false,\\\"mode\\\":\\\"markers+lines\\\",\\\"line\\\":{\\\"color\\\":\\\"red\\\",\\\"width\\\":1},\\\"locations\\\":[\\\"GBR\\\",\\\"FIN\\\"],\\\"hovertext\\\":[\\\"United Kingdom\\\",\\\"Finland\\\"],\\\"type\\\":\\\"scattergeo\\\",\\\"name\\\":\\\"\\\",\\\"marker\\\":{\\\"color\\\":\\\"blue\\\",\\\"size\\\":8}},{\\\"showlegend\\\":false,\\\"mode\\\":\\\"markers+lines\\\",\\\"line\\\":{\\\"color\\\":\\\"red\\\",\\\"width\\\":1},\\\"locations\\\":[\\\"GBR\\\",\\\"TUR\\\"],\\\"hovertext\\\":[\\\"United Kingdom\\\",\\\"Turkey\\\"],\\\"type\\\":\\\"scattergeo\\\",\\\"name\\\":\\\"\\\",\\\"marker\\\":{\\\"color\\\":\\\"blue\\\",\\\"size\\\":8}},{\\\"showlegend\\\":false,\\\"mode\\\":\\\"markers+lines\\\",\\\"line\\\":{\\\"color\\\":\\\"red\\\",\\\"width\\\":1},\\\"locations\\\":[\\\"GBR\\\",\\\"PAK\\\"],\\\"hovertext\\\":[\\\"United Kingdom\\\",\\\"Pakistan\\\"],\\\"type\\\":\\\"scattergeo\\\",\\\"name\\\":\\\"\\\",\\\"marker\\\":{\\\"color\\\":\\\"blue\\\",\\\"size\\\":8}},{\\\"showlegend\\\":false,\\\"mode\\\":\\\"markers+lines\\\",\\\"line\\\":{\\\"color\\\":\\\"red\\\",\\\"width\\\":1},\\\"locations\\\":[\\\"GBR\\\",\\\"IND\\\"],\\\"hovertext\\\":[\\\"United Kingdom\\\",\\\"India\\\"],\\\"type\\\":\\\"scattergeo\\\",\\\"name\\\":\\\"\\\",\\\"marker\\\":{\\\"color\\\":\\\"blue\\\",\\\"size\\\":8}},{\\\"showlegend\\\":false,\\\"mode\\\":\\\"markers+lines\\\",\\\"line\\\":{\\\"color\\\":\\\"red\\\",\\\"width\\\":1},\\\"locations\\\":[\\\"GBR\\\",\\\"FRA\\\"],\\\"hovertext\\\":[\\\"United Kingdom\\\",\\\"France\\\"],\\\"type\\\":\\\"scattergeo\\\",\\\"name\\\":\\\"\\\",\\\"marker\\\":{\\\"color\\\":\\\"blue\\\",\\\"size\\\":8}},{\\\"showlegend\\\":false,\\\"mode\\\":\\\"markers+lines\\\",\\\"line\\\":{\\\"color\\\":\\\"red\\\",\\\"width\\\":1},\\\"locations\\\":[\\\"GBR\\\",\\\"ARE\\\"],\\\"hovertext\\\":[\\\"United Kingdom\\\",\\\"United Arab Emirates\\\"],\\\"type\\\":\\\"scattergeo\\\",\\\"name\\\":\\\"\\\",\\\"marker\\\":{\\\"color\\\":\\\"blue\\\",\\\"size\\\":8}},{\\\"showlegend\\\":false,\\\"mode\\\":\\\"markers+lines\\\",\\\"line\\\":{\\\"color\\\":\\\"red\\\",\\\"width\\\":1},\\\"locations\\\":[\\\"GBR\\\",\\\"VEN\\\"],\\\"hovertext\\\":[\\\"United Kingdom\\\",\\\"Venezuela\\\"],\\\"type\\\":\\\"scattergeo\\\",\\\"name\\\":\\\"\\\",\\\"marker\\\":{\\\"color\\\":\\\"blue\\\",\\\"size\\\":8}},{\\\"showlegend\\\":false,\\\"mode\\\":\\\"markers+lines\\\",\\\"line\\\":{\\\"color\\\":\\\"red\\\",\\\"width\\\":1},\\\"locations\\\":[\\\"GBR\\\",\\\"UKR\\\"],\\\"hovertext\\\":[\\\"United Kingdom\\\",\\\"Ukraine\\\"],\\\"type\\\":\\\"scattergeo\\\",\\\"name\\\":\\\"\\\",\\\"marker\\\":{\\\"color\\\":\\\"blue\\\",\\\"size\\\":8}},{\\\"showlegend\\\":false,\\\"mode\\\":\\\"markers+lines\\\",\\\"line\\\":{\\\"color\\\":\\\"red\\\",\\\"width\\\":1},\\\"locations\\\":[\\\"GBR\\\",\\\"HKG\\\"],\\\"hovertext\\\":[\\\"United Kingdom\\\",\\\"Hong Kong S.A.R.\\\"],\\\"type\\\":\\\"scattergeo\\\",\\\"name\\\":\\\"\\\",\\\"marker\\\":{\\\"color\\\":\\\"blue\\\",\\\"size\\\":8}},{\\\"showlegend\\\":false,\\\"mode\\\":\\\"markers+lines\\\",\\\"line\\\":{\\\"color\\\":\\\"red\\\",\\\"width\\\":1},\\\"locations\\\":[\\\"GBR\\\",\\\"KEN\\\"],\\\"hovertext\\\":[\\\"United Kingdom\\\",\\\"Kenya\\\"],\\\"type\\\":\\\"scattergeo\\\",\\\"name\\\":\\\"\\\",\\\"marker\\\":{\\\"color\\\":\\\"blue\\\",\\\"size\\\":8}},{\\\"showlegend\\\":false,\\\"mode\\\":\\\"markers+lines\\\",\\\"line\\\":{\\\"color\\\":\\\"red\\\",\\\"width\\\":1},\\\"locations\\\":[\\\"GBR\\\",\\\"SAU\\\"],\\\"hovertext\\\":[\\\"United Kingdom\\\",\\\"Saudi Arabia\\\"],\\\"type\\\":\\\"scattergeo\\\",\\\"name\\\":\\\"\\\",\\\"marker\\\":{\\\"color\\\":\\\"blue\\\",\\\"size\\\":8}},{\\\"showlegend\\\":false,\\\"mode\\\":\\\"markers+lines\\\",\\\"line\\\":{\\\"color\\\":\\\"red\\\",\\\"width\\\":1},\\\"locations\\\":[\\\"GBR\\\",\\\"BLR\\\"],\\\"hovertext\\\":[\\\"United Kingdom\\\",\\\"Belarus\\\"],\\\"type\\\":\\\"scattergeo\\\",\\\"name\\\":\\\"\\\",\\\"marker\\\":{\\\"color\\\":\\\"blue\\\",\\\"size\\\":8}},{\\\"showlegend\\\":false,\\\"mode\\\":\\\"markers+lines\\\",\\\"line\\\":{\\\"color\\\":\\\"red\\\",\\\"width\\\":1},\\\"locations\\\":[\\\"DEU\\\",\\\"USA\\\"],\\\"hovertext\\\":[\\\"Germany\\\",\\\"United States of America\\\"],\\\"type\\\":\\\"scattergeo\\\",\\\"name\\\":\\\"\\\",\\\"marker\\\":{\\\"color\\\":\\\"blue\\\",\\\"size\\\":8}},{\\\"showlegend\\\":false,\\\"mode\\\":\\\"markers+lines\\\",\\\"line\\\":{\\\"color\\\":\\\"red\\\",\\\"width\\\":1},\\\"locations\\\":[\\\"DEU\\\",\\\"GBR\\\"],\\\"hovertext\\\":[\\\"Germany\\\",\\\"United Kingdom\\\"],\\\"type\\\":\\\"scattergeo\\\",\\\"name\\\":\\\"\\\",\\\"marker\\\":{\\\"color\\\":\\\"blue\\\",\\\"size\\\":8}},{\\\"showlegend\\\":false,\\\"mode\\\":\\\"markers+lines\\\",\\\"line\\\":{\\\"color\\\":\\\"red\\\",\\\"width\\\":1},\\\"locations\\\":[\\\"IDN\\\",\\\"USA\\\"],\\\"hovertext\\\":[\\\"Indonesia\\\",\\\"United States of America\\\"],\\\"type\\\":\\\"scattergeo\\\",\\\"name\\\":\\\"\\\",\\\"marker\\\":{\\\"color\\\":\\\"blue\\\",\\\"size\\\":8}},{\\\"showlegend\\\":false,\\\"mode\\\":\\\"markers+lines\\\",\\\"line\\\":{\\\"color\\\":\\\"red\\\",\\\"width\\\":1},\\\"locations\\\":[\\\"IDN\\\",\\\"GBR\\\"],\\\"hovertext\\\":[\\\"Indonesia\\\",\\\"United Kingdom\\\"],\\\"type\\\":\\\"scattergeo\\\",\\\"name\\\":\\\"\\\",\\\"marker\\\":{\\\"color\\\":\\\"blue\\\",\\\"size\\\":8}},{\\\"showlegend\\\":false,\\\"mode\\\":\\\"markers+lines\\\",\\\"line\\\":{\\\"color\\\":\\\"red\\\",\\\"width\\\":1},\\\"locations\\\":[\\\"BEL\\\",\\\"USA\\\"],\\\"hovertext\\\":[\\\"Belgium\\\",\\\"United States of America\\\"],\\\"type\\\":\\\"scattergeo\\\",\\\"name\\\":\\\"\\\",\\\"marker\\\":{\\\"color\\\":\\\"blue\\\",\\\"size\\\":8}},{\\\"showlegend\\\":false,\\\"mode\\\":\\\"markers+lines\\\",\\\"line\\\":{\\\"color\\\":\\\"red\\\",\\\"width\\\":1},\\\"locations\\\":[\\\"BEL\\\",\\\"GBR\\\"],\\\"hovertext\\\":[\\\"Belgium\\\",\\\"United Kingdom\\\"],\\\"type\\\":\\\"scattergeo\\\",\\\"name\\\":\\\"\\\",\\\"marker\\\":{\\\"color\\\":\\\"blue\\\",\\\"size\\\":8}},{\\\"showlegend\\\":false,\\\"mode\\\":\\\"markers+lines\\\",\\\"line\\\":{\\\"color\\\":\\\"red\\\",\\\"width\\\":1},\\\"locations\\\":[\\\"ESP\\\",\\\"USA\\\"],\\\"hovertext\\\":[\\\"Spain\\\",\\\"United States of America\\\"],\\\"type\\\":\\\"scattergeo\\\",\\\"name\\\":\\\"\\\",\\\"marker\\\":{\\\"color\\\":\\\"blue\\\",\\\"size\\\":8}},{\\\"showlegend\\\":false,\\\"mode\\\":\\\"markers+lines\\\",\\\"line\\\":{\\\"color\\\":\\\"red\\\",\\\"width\\\":1},\\\"locations\\\":[\\\"ESP\\\",\\\"GBR\\\"],\\\"hovertext\\\":[\\\"Spain\\\",\\\"United Kingdom\\\"],\\\"type\\\":\\\"scattergeo\\\",\\\"name\\\":\\\"\\\",\\\"marker\\\":{\\\"color\\\":\\\"blue\\\",\\\"size\\\":8}},{\\\"showlegend\\\":false,\\\"mode\\\":\\\"markers+lines\\\",\\\"line\\\":{\\\"color\\\":\\\"red\\\",\\\"width\\\":1},\\\"locations\\\":[\\\"CAN\\\",\\\"USA\\\"],\\\"hovertext\\\":[\\\"Canada\\\",\\\"United States of America\\\"],\\\"type\\\":\\\"scattergeo\\\",\\\"name\\\":\\\"\\\",\\\"marker\\\":{\\\"color\\\":\\\"blue\\\",\\\"size\\\":8}},{\\\"showlegend\\\":false,\\\"mode\\\":\\\"markers+lines\\\",\\\"line\\\":{\\\"color\\\":\\\"red\\\",\\\"width\\\":1},\\\"locations\\\":[\\\"CAN\\\",\\\"GBR\\\"],\\\"hovertext\\\":[\\\"Canada\\\",\\\"United Kingdom\\\"],\\\"type\\\":\\\"scattergeo\\\",\\\"name\\\":\\\"\\\",\\\"marker\\\":{\\\"color\\\":\\\"blue\\\",\\\"size\\\":8}},{\\\"showlegend\\\":false,\\\"mode\\\":\\\"markers+lines\\\",\\\"line\\\":{\\\"color\\\":\\\"red\\\",\\\"width\\\":1},\\\"locations\\\":[\\\"NLD\\\",\\\"USA\\\"],\\\"hovertext\\\":[\\\"Netherlands\\\",\\\"United States of America\\\"],\\\"type\\\":\\\"scattergeo\\\",\\\"name\\\":\\\"\\\",\\\"marker\\\":{\\\"color\\\":\\\"blue\\\",\\\"size\\\":8}},{\\\"showlegend\\\":false,\\\"mode\\\":\\\"markers+lines\\\",\\\"line\\\":{\\\"color\\\":\\\"red\\\",\\\"width\\\":1},\\\"locations\\\":[\\\"NLD\\\",\\\"GBR\\\"],\\\"hovertext\\\":[\\\"Netherlands\\\",\\\"United Kingdom\\\"],\\\"type\\\":\\\"scattergeo\\\",\\\"name\\\":\\\"\\\",\\\"marker\\\":{\\\"color\\\":\\\"blue\\\",\\\"size\\\":8}},{\\\"showlegend\\\":false,\\\"mode\\\":\\\"markers+lines\\\",\\\"line\\\":{\\\"color\\\":\\\"red\\\",\\\"width\\\":1},\\\"locations\\\":[\\\"NOR\\\",\\\"USA\\\"],\\\"hovertext\\\":[\\\"Norway\\\",\\\"United States of America\\\"],\\\"type\\\":\\\"scattergeo\\\",\\\"name\\\":\\\"\\\",\\\"marker\\\":{\\\"color\\\":\\\"blue\\\",\\\"size\\\":8}},{\\\"showlegend\\\":false,\\\"mode\\\":\\\"markers+lines\\\",\\\"line\\\":{\\\"color\\\":\\\"red\\\",\\\"width\\\":1},\\\"locations\\\":[\\\"NOR\\\",\\\"GBR\\\"],\\\"hovertext\\\":[\\\"Norway\\\",\\\"United Kingdom\\\"],\\\"type\\\":\\\"scattergeo\\\",\\\"name\\\":\\\"\\\",\\\"marker\\\":{\\\"color\\\":\\\"blue\\\",\\\"size\\\":8}},{\\\"showlegend\\\":false,\\\"mode\\\":\\\"markers+lines\\\",\\\"line\\\":{\\\"color\\\":\\\"red\\\",\\\"width\\\":1},\\\"locations\\\":[\\\"VNM\\\",\\\"USA\\\"],\\\"hovertext\\\":[\\\"Vietnam\\\",\\\"United States of America\\\"],\\\"type\\\":\\\"scattergeo\\\",\\\"name\\\":\\\"\\\",\\\"marker\\\":{\\\"color\\\":\\\"blue\\\",\\\"size\\\":8}},{\\\"showlegend\\\":false,\\\"mode\\\":\\\"markers+lines\\\",\\\"line\\\":{\\\"color\\\":\\\"red\\\",\\\"width\\\":1},\\\"locations\\\":[\\\"VNM\\\",\\\"GBR\\\"],\\\"hovertext\\\":[\\\"Vietnam\\\",\\\"United Kingdom\\\"],\\\"type\\\":\\\"scattergeo\\\",\\\"name\\\":\\\"\\\",\\\"marker\\\":{\\\"color\\\":\\\"blue\\\",\\\"size\\\":8}},{\\\"showlegend\\\":false,\\\"mode\\\":\\\"markers+lines\\\",\\\"line\\\":{\\\"color\\\":\\\"red\\\",\\\"width\\\":1},\\\"locations\\\":[\\\"AUS\\\",\\\"USA\\\"],\\\"hovertext\\\":[\\\"Australia\\\",\\\"United States of America\\\"],\\\"type\\\":\\\"scattergeo\\\",\\\"name\\\":\\\"\\\",\\\"marker\\\":{\\\"color\\\":\\\"blue\\\",\\\"size\\\":8}},{\\\"showlegend\\\":false,\\\"mode\\\":\\\"markers+lines\\\",\\\"line\\\":{\\\"color\\\":\\\"red\\\",\\\"width\\\":1},\\\"locations\\\":[\\\"AUS\\\",\\\"GBR\\\"],\\\"hovertext\\\":[\\\"Australia\\\",\\\"United Kingdom\\\"],\\\"type\\\":\\\"scattergeo\\\",\\\"name\\\":\\\"\\\",\\\"marker\\\":{\\\"color\\\":\\\"blue\\\",\\\"size\\\":8}},{\\\"showlegend\\\":false,\\\"mode\\\":\\\"markers+lines\\\",\\\"line\\\":{\\\"color\\\":\\\"red\\\",\\\"width\\\":1},\\\"locations\\\":[\\\"BRA\\\",\\\"USA\\\"],\\\"hovertext\\\":[\\\"Brazil\\\",\\\"United States of America\\\"],\\\"type\\\":\\\"scattergeo\\\",\\\"name\\\":\\\"\\\",\\\"marker\\\":{\\\"color\\\":\\\"blue\\\",\\\"size\\\":8}},{\\\"showlegend\\\":false,\\\"mode\\\":\\\"markers+lines\\\",\\\"line\\\":{\\\"color\\\":\\\"red\\\",\\\"width\\\":1},\\\"locations\\\":[\\\"BRA\\\",\\\"GBR\\\"],\\\"hovertext\\\":[\\\"Brazil\\\",\\\"United Kingdom\\\"],\\\"type\\\":\\\"scattergeo\\\",\\\"name\\\":\\\"\\\",\\\"marker\\\":{\\\"color\\\":\\\"blue\\\",\\\"size\\\":8}},{\\\"showlegend\\\":false,\\\"mode\\\":\\\"markers+lines\\\",\\\"line\\\":{\\\"color\\\":\\\"red\\\",\\\"width\\\":1},\\\"locations\\\":[\\\"DNK\\\",\\\"USA\\\"],\\\"hovertext\\\":[\\\"Denmark\\\",\\\"United States of America\\\"],\\\"type\\\":\\\"scattergeo\\\",\\\"name\\\":\\\"\\\",\\\"marker\\\":{\\\"color\\\":\\\"blue\\\",\\\"size\\\":8}},{\\\"showlegend\\\":false,\\\"mode\\\":\\\"markers+lines\\\",\\\"line\\\":{\\\"color\\\":\\\"red\\\",\\\"width\\\":1},\\\"locations\\\":[\\\"DNK\\\",\\\"RUS\\\"],\\\"hovertext\\\":[\\\"Denmark\\\",\\\"Russia\\\"],\\\"type\\\":\\\"scattergeo\\\",\\\"name\\\":\\\"\\\",\\\"marker\\\":{\\\"color\\\":\\\"blue\\\",\\\"size\\\":8}},{\\\"showlegend\\\":false,\\\"mode\\\":\\\"markers+lines\\\",\\\"line\\\":{\\\"color\\\":\\\"red\\\",\\\"width\\\":1},\\\"locations\\\":[\\\"DNK\\\",\\\"GBR\\\"],\\\"hovertext\\\":[\\\"Denmark\\\",\\\"United Kingdom\\\"],\\\"type\\\":\\\"scattergeo\\\",\\\"name\\\":\\\"\\\",\\\"marker\\\":{\\\"color\\\":\\\"blue\\\",\\\"size\\\":8}},{\\\"showlegend\\\":false,\\\"mode\\\":\\\"markers+lines\\\",\\\"line\\\":{\\\"color\\\":\\\"red\\\",\\\"width\\\":1},\\\"locations\\\":[\\\"SWE\\\",\\\"USA\\\"],\\\"hovertext\\\":[\\\"Sweden\\\",\\\"United States of America\\\"],\\\"type\\\":\\\"scattergeo\\\",\\\"name\\\":\\\"\\\",\\\"marker\\\":{\\\"color\\\":\\\"blue\\\",\\\"size\\\":8}},{\\\"showlegend\\\":false,\\\"mode\\\":\\\"markers+lines\\\",\\\"line\\\":{\\\"color\\\":\\\"red\\\",\\\"width\\\":1},\\\"locations\\\":[\\\"SWE\\\",\\\"GBR\\\"],\\\"hovertext\\\":[\\\"Sweden\\\",\\\"United Kingdom\\\"],\\\"type\\\":\\\"scattergeo\\\",\\\"name\\\":\\\"\\\",\\\"marker\\\":{\\\"color\\\":\\\"blue\\\",\\\"size\\\":8}},{\\\"showlegend\\\":false,\\\"mode\\\":\\\"markers+lines\\\",\\\"line\\\":{\\\"color\\\":\\\"red\\\",\\\"width\\\":1},\\\"locations\\\":[\\\"THA\\\",\\\"USA\\\"],\\\"hovertext\\\":[\\\"Thailand\\\",\\\"United States of America\\\"],\\\"type\\\":\\\"scattergeo\\\",\\\"name\\\":\\\"\\\",\\\"marker\\\":{\\\"color\\\":\\\"blue\\\",\\\"size\\\":8}},{\\\"showlegend\\\":false,\\\"mode\\\":\\\"markers+lines\\\",\\\"line\\\":{\\\"color\\\":\\\"red\\\",\\\"width\\\":1},\\\"locations\\\":[\\\"THA\\\",\\\"GBR\\\"],\\\"hovertext\\\":[\\\"Thailand\\\",\\\"United Kingdom\\\"],\\\"type\\\":\\\"scattergeo\\\",\\\"name\\\":\\\"\\\",\\\"marker\\\":{\\\"color\\\":\\\"blue\\\",\\\"size\\\":8}},{\\\"showlegend\\\":false,\\\"mode\\\":\\\"markers+lines\\\",\\\"line\\\":{\\\"color\\\":\\\"red\\\",\\\"width\\\":1},\\\"locations\\\":[\\\"SGP\\\",\\\"RUS\\\"],\\\"hovertext\\\":[\\\"Singapore\\\",\\\"Russia\\\"],\\\"type\\\":\\\"scattergeo\\\",\\\"name\\\":\\\"\\\",\\\"marker\\\":{\\\"color\\\":\\\"blue\\\",\\\"size\\\":8}},{\\\"showlegend\\\":false,\\\"mode\\\":\\\"markers+lines\\\",\\\"line\\\":{\\\"color\\\":\\\"red\\\",\\\"width\\\":1},\\\"locations\\\":[\\\"SGP\\\",\\\"GBR\\\"],\\\"hovertext\\\":[\\\"Singapore\\\",\\\"United Kingdom\\\"],\\\"type\\\":\\\"scattergeo\\\",\\\"name\\\":\\\"\\\",\\\"marker\\\":{\\\"color\\\":\\\"blue\\\",\\\"size\\\":8}},{\\\"showlegend\\\":false,\\\"mode\\\":\\\"markers+lines\\\",\\\"line\\\":{\\\"color\\\":\\\"red\\\",\\\"width\\\":1},\\\"locations\\\":[\\\"ARG\\\",\\\"USA\\\"],\\\"hovertext\\\":[\\\"Argentina\\\",\\\"United States of America\\\"],\\\"type\\\":\\\"scattergeo\\\",\\\"name\\\":\\\"\\\",\\\"marker\\\":{\\\"color\\\":\\\"blue\\\",\\\"size\\\":8}},{\\\"showlegend\\\":false,\\\"mode\\\":\\\"markers+lines\\\",\\\"line\\\":{\\\"color\\\":\\\"red\\\",\\\"width\\\":1},\\\"locations\\\":[\\\"ARG\\\",\\\"GBR\\\"],\\\"hovertext\\\":[\\\"Argentina\\\",\\\"United Kingdom\\\"],\\\"type\\\":\\\"scattergeo\\\",\\\"name\\\":\\\"\\\",\\\"marker\\\":{\\\"color\\\":\\\"blue\\\",\\\"size\\\":8}},{\\\"showlegend\\\":false,\\\"mode\\\":\\\"markers+lines\\\",\\\"line\\\":{\\\"color\\\":\\\"red\\\",\\\"width\\\":1},\\\"locations\\\":[\\\"AZE\\\",\\\"CAN\\\"],\\\"hovertext\\\":[\\\"Azerbaijan\\\",\\\"Canada\\\"],\\\"type\\\":\\\"scattergeo\\\",\\\"name\\\":\\\"\\\",\\\"marker\\\":{\\\"color\\\":\\\"blue\\\",\\\"size\\\":8}},{\\\"showlegend\\\":false,\\\"mode\\\":\\\"markers+lines\\\",\\\"line\\\":{\\\"color\\\":\\\"red\\\",\\\"width\\\":1},\\\"locations\\\":[\\\"NZL\\\",\\\"USA\\\"],\\\"hovertext\\\":[\\\"New Zealand\\\",\\\"United States of America\\\"],\\\"type\\\":\\\"scattergeo\\\",\\\"name\\\":\\\"\\\",\\\"marker\\\":{\\\"color\\\":\\\"blue\\\",\\\"size\\\":8}},{\\\"showlegend\\\":false,\\\"mode\\\":\\\"markers+lines\\\",\\\"line\\\":{\\\"color\\\":\\\"red\\\",\\\"width\\\":1},\\\"locations\\\":[\\\"NZL\\\",\\\"GBR\\\"],\\\"hovertext\\\":[\\\"New Zealand\\\",\\\"United Kingdom\\\"],\\\"type\\\":\\\"scattergeo\\\",\\\"name\\\":\\\"\\\",\\\"marker\\\":{\\\"color\\\":\\\"blue\\\",\\\"size\\\":8}},{\\\"showlegend\\\":false,\\\"mode\\\":\\\"markers+lines\\\",\\\"line\\\":{\\\"color\\\":\\\"red\\\",\\\"width\\\":1},\\\"locations\\\":[\\\"PHL\\\",\\\"USA\\\"],\\\"hovertext\\\":[\\\"Philippines\\\",\\\"United States of America\\\"],\\\"type\\\":\\\"scattergeo\\\",\\\"name\\\":\\\"\\\",\\\"marker\\\":{\\\"color\\\":\\\"blue\\\",\\\"size\\\":8}},{\\\"showlegend\\\":false,\\\"mode\\\":\\\"markers+lines\\\",\\\"line\\\":{\\\"color\\\":\\\"red\\\",\\\"width\\\":1},\\\"locations\\\":[\\\"PHL\\\",\\\"GBR\\\"],\\\"hovertext\\\":[\\\"Philippines\\\",\\\"United Kingdom\\\"],\\\"type\\\":\\\"scattergeo\\\",\\\"name\\\":\\\"\\\",\\\"marker\\\":{\\\"color\\\":\\\"blue\\\",\\\"size\\\":8}},{\\\"showlegend\\\":false,\\\"mode\\\":\\\"markers+lines\\\",\\\"line\\\":{\\\"color\\\":\\\"red\\\",\\\"width\\\":1},\\\"locations\\\":[\\\"NGA\\\",\\\"USA\\\"],\\\"hovertext\\\":[\\\"Nigeria\\\",\\\"United States of America\\\"],\\\"type\\\":\\\"scattergeo\\\",\\\"name\\\":\\\"\\\",\\\"marker\\\":{\\\"color\\\":\\\"blue\\\",\\\"size\\\":8}},{\\\"showlegend\\\":false,\\\"mode\\\":\\\"markers+lines\\\",\\\"line\\\":{\\\"color\\\":\\\"red\\\",\\\"width\\\":1},\\\"locations\\\":[\\\"NGA\\\",\\\"GBR\\\"],\\\"hovertext\\\":[\\\"Nigeria\\\",\\\"United Kingdom\\\"],\\\"type\\\":\\\"scattergeo\\\",\\\"name\\\":\\\"\\\",\\\"marker\\\":{\\\"color\\\":\\\"blue\\\",\\\"size\\\":8}},{\\\"showlegend\\\":false,\\\"mode\\\":\\\"markers+lines\\\",\\\"line\\\":{\\\"color\\\":\\\"red\\\",\\\"width\\\":1},\\\"locations\\\":[\\\"EGY\\\",\\\"USA\\\"],\\\"hovertext\\\":[\\\"Egypt\\\",\\\"United States of America\\\"],\\\"type\\\":\\\"scattergeo\\\",\\\"name\\\":\\\"\\\",\\\"marker\\\":{\\\"color\\\":\\\"blue\\\",\\\"size\\\":8}},{\\\"showlegend\\\":false,\\\"mode\\\":\\\"markers+lines\\\",\\\"line\\\":{\\\"color\\\":\\\"red\\\",\\\"width\\\":1},\\\"locations\\\":[\\\"EGY\\\",\\\"RUS\\\"],\\\"hovertext\\\":[\\\"Egypt\\\",\\\"Russia\\\"],\\\"type\\\":\\\"scattergeo\\\",\\\"name\\\":\\\"\\\",\\\"marker\\\":{\\\"color\\\":\\\"blue\\\",\\\"size\\\":8}},{\\\"showlegend\\\":false,\\\"mode\\\":\\\"markers+lines\\\",\\\"line\\\":{\\\"color\\\":\\\"red\\\",\\\"width\\\":1},\\\"locations\\\":[\\\"EGY\\\",\\\"GBR\\\"],\\\"hovertext\\\":[\\\"Egypt\\\",\\\"United Kingdom\\\"],\\\"type\\\":\\\"scattergeo\\\",\\\"name\\\":\\\"\\\",\\\"marker\\\":{\\\"color\\\":\\\"blue\\\",\\\"size\\\":8}},{\\\"showlegend\\\":false,\\\"mode\\\":\\\"markers+lines\\\",\\\"line\\\":{\\\"color\\\":\\\"red\\\",\\\"width\\\":1},\\\"locations\\\":[\\\"JPN\\\",\\\"USA\\\"],\\\"hovertext\\\":[\\\"Japan\\\",\\\"United States of America\\\"],\\\"type\\\":\\\"scattergeo\\\",\\\"name\\\":\\\"\\\",\\\"marker\\\":{\\\"color\\\":\\\"blue\\\",\\\"size\\\":8}},{\\\"showlegend\\\":false,\\\"mode\\\":\\\"markers+lines\\\",\\\"line\\\":{\\\"color\\\":\\\"red\\\",\\\"width\\\":1},\\\"locations\\\":[\\\"JPN\\\",\\\"GBR\\\"],\\\"hovertext\\\":[\\\"Japan\\\",\\\"United Kingdom\\\"],\\\"type\\\":\\\"scattergeo\\\",\\\"name\\\":\\\"\\\",\\\"marker\\\":{\\\"color\\\":\\\"blue\\\",\\\"size\\\":8}},{\\\"showlegend\\\":false,\\\"mode\\\":\\\"markers+lines\\\",\\\"line\\\":{\\\"color\\\":\\\"red\\\",\\\"width\\\":1},\\\"locations\\\":[\\\"ITA\\\",\\\"USA\\\"],\\\"hovertext\\\":[\\\"Italy\\\",\\\"United States of America\\\"],\\\"type\\\":\\\"scattergeo\\\",\\\"name\\\":\\\"\\\",\\\"marker\\\":{\\\"color\\\":\\\"blue\\\",\\\"size\\\":8}},{\\\"showlegend\\\":false,\\\"mode\\\":\\\"markers+lines\\\",\\\"line\\\":{\\\"color\\\":\\\"red\\\",\\\"width\\\":1},\\\"locations\\\":[\\\"ITA\\\",\\\"GBR\\\"],\\\"hovertext\\\":[\\\"Italy\\\",\\\"United Kingdom\\\"],\\\"type\\\":\\\"scattergeo\\\",\\\"name\\\":\\\"\\\",\\\"marker\\\":{\\\"color\\\":\\\"blue\\\",\\\"size\\\":8}},{\\\"showlegend\\\":false,\\\"mode\\\":\\\"markers+lines\\\",\\\"line\\\":{\\\"color\\\":\\\"red\\\",\\\"width\\\":1},\\\"locations\\\":[\\\"GRC\\\",\\\"USA\\\"],\\\"hovertext\\\":[\\\"Greece\\\",\\\"United States of America\\\"],\\\"type\\\":\\\"scattergeo\\\",\\\"name\\\":\\\"\\\",\\\"marker\\\":{\\\"color\\\":\\\"blue\\\",\\\"size\\\":8}},{\\\"showlegend\\\":false,\\\"mode\\\":\\\"markers+lines\\\",\\\"line\\\":{\\\"color\\\":\\\"red\\\",\\\"width\\\":1},\\\"locations\\\":[\\\"GRC\\\",\\\"GBR\\\"],\\\"hovertext\\\":[\\\"Greece\\\",\\\"United Kingdom\\\"],\\\"type\\\":\\\"scattergeo\\\",\\\"name\\\":\\\"\\\",\\\"marker\\\":{\\\"color\\\":\\\"blue\\\",\\\"size\\\":8}},{\\\"showlegend\\\":false,\\\"mode\\\":\\\"markers+lines\\\",\\\"line\\\":{\\\"color\\\":\\\"red\\\",\\\"width\\\":1},\\\"locations\\\":[\\\"ZAF\\\",\\\"USA\\\"],\\\"hovertext\\\":[\\\"South Africa\\\",\\\"United States of America\\\"],\\\"type\\\":\\\"scattergeo\\\",\\\"name\\\":\\\"\\\",\\\"marker\\\":{\\\"color\\\":\\\"blue\\\",\\\"size\\\":8}},{\\\"showlegend\\\":false,\\\"mode\\\":\\\"markers+lines\\\",\\\"line\\\":{\\\"color\\\":\\\"red\\\",\\\"width\\\":1},\\\"locations\\\":[\\\"ZAF\\\",\\\"GBR\\\"],\\\"hovertext\\\":[\\\"South Africa\\\",\\\"United Kingdom\\\"],\\\"type\\\":\\\"scattergeo\\\",\\\"name\\\":\\\"\\\",\\\"marker\\\":{\\\"color\\\":\\\"blue\\\",\\\"size\\\":8}},{\\\"showlegend\\\":false,\\\"mode\\\":\\\"markers+lines\\\",\\\"line\\\":{\\\"color\\\":\\\"red\\\",\\\"width\\\":1},\\\"locations\\\":[\\\"COL\\\",\\\"USA\\\"],\\\"hovertext\\\":[\\\"Colombia\\\",\\\"United States of America\\\"],\\\"type\\\":\\\"scattergeo\\\",\\\"name\\\":\\\"\\\",\\\"marker\\\":{\\\"color\\\":\\\"blue\\\",\\\"size\\\":8}},{\\\"showlegend\\\":false,\\\"mode\\\":\\\"markers+lines\\\",\\\"line\\\":{\\\"color\\\":\\\"red\\\",\\\"width\\\":1},\\\"locations\\\":[\\\"COL\\\",\\\"RUS\\\"],\\\"hovertext\\\":[\\\"Colombia\\\",\\\"Russia\\\"],\\\"type\\\":\\\"scattergeo\\\",\\\"name\\\":\\\"\\\",\\\"marker\\\":{\\\"color\\\":\\\"blue\\\",\\\"size\\\":8}},{\\\"showlegend\\\":false,\\\"mode\\\":\\\"markers+lines\\\",\\\"line\\\":{\\\"color\\\":\\\"red\\\",\\\"width\\\":1},\\\"locations\\\":[\\\"COL\\\",\\\"GBR\\\"],\\\"hovertext\\\":[\\\"Colombia\\\",\\\"United Kingdom\\\"],\\\"type\\\":\\\"scattergeo\\\",\\\"name\\\":\\\"\\\",\\\"marker\\\":{\\\"color\\\":\\\"blue\\\",\\\"size\\\":8}},{\\\"showlegend\\\":false,\\\"mode\\\":\\\"markers+lines\\\",\\\"line\\\":{\\\"color\\\":\\\"red\\\",\\\"width\\\":1},\\\"locations\\\":[\\\"SLV\\\",\\\"RUS\\\"],\\\"hovertext\\\":[\\\"El Salvador\\\",\\\"Russia\\\"],\\\"type\\\":\\\"scattergeo\\\",\\\"name\\\":\\\"\\\",\\\"marker\\\":{\\\"color\\\":\\\"blue\\\",\\\"size\\\":8}},{\\\"showlegend\\\":false,\\\"mode\\\":\\\"markers+lines\\\",\\\"line\\\":{\\\"color\\\":\\\"red\\\",\\\"width\\\":1},\\\"locations\\\":[\\\"FIN\\\",\\\"USA\\\"],\\\"hovertext\\\":[\\\"Finland\\\",\\\"United States of America\\\"],\\\"type\\\":\\\"scattergeo\\\",\\\"name\\\":\\\"\\\",\\\"marker\\\":{\\\"color\\\":\\\"blue\\\",\\\"size\\\":8}},{\\\"showlegend\\\":false,\\\"mode\\\":\\\"markers+lines\\\",\\\"line\\\":{\\\"color\\\":\\\"red\\\",\\\"width\\\":1},\\\"locations\\\":[\\\"FIN\\\",\\\"GBR\\\"],\\\"hovertext\\\":[\\\"Finland\\\",\\\"United Kingdom\\\"],\\\"type\\\":\\\"scattergeo\\\",\\\"name\\\":\\\"\\\",\\\"marker\\\":{\\\"color\\\":\\\"blue\\\",\\\"size\\\":8}},{\\\"showlegend\\\":false,\\\"mode\\\":\\\"markers+lines\\\",\\\"line\\\":{\\\"color\\\":\\\"red\\\",\\\"width\\\":1},\\\"locations\\\":[\\\"TUR\\\",\\\"USA\\\"],\\\"hovertext\\\":[\\\"Turkey\\\",\\\"United States of America\\\"],\\\"type\\\":\\\"scattergeo\\\",\\\"name\\\":\\\"\\\",\\\"marker\\\":{\\\"color\\\":\\\"blue\\\",\\\"size\\\":8}},{\\\"showlegend\\\":false,\\\"mode\\\":\\\"markers+lines\\\",\\\"line\\\":{\\\"color\\\":\\\"red\\\",\\\"width\\\":1},\\\"locations\\\":[\\\"TUR\\\",\\\"GBR\\\"],\\\"hovertext\\\":[\\\"Turkey\\\",\\\"United Kingdom\\\"],\\\"type\\\":\\\"scattergeo\\\",\\\"name\\\":\\\"\\\",\\\"marker\\\":{\\\"color\\\":\\\"blue\\\",\\\"size\\\":8}},{\\\"showlegend\\\":false,\\\"mode\\\":\\\"markers+lines\\\",\\\"line\\\":{\\\"color\\\":\\\"red\\\",\\\"width\\\":1},\\\"locations\\\":[\\\"PAK\\\",\\\"USA\\\"],\\\"hovertext\\\":[\\\"Pakistan\\\",\\\"United States of America\\\"],\\\"type\\\":\\\"scattergeo\\\",\\\"name\\\":\\\"\\\",\\\"marker\\\":{\\\"color\\\":\\\"blue\\\",\\\"size\\\":8}},{\\\"showlegend\\\":false,\\\"mode\\\":\\\"markers+lines\\\",\\\"line\\\":{\\\"color\\\":\\\"red\\\",\\\"width\\\":1},\\\"locations\\\":[\\\"PAK\\\",\\\"GBR\\\"],\\\"hovertext\\\":[\\\"Pakistan\\\",\\\"United Kingdom\\\"],\\\"type\\\":\\\"scattergeo\\\",\\\"name\\\":\\\"\\\",\\\"marker\\\":{\\\"color\\\":\\\"blue\\\",\\\"size\\\":8}},{\\\"showlegend\\\":false,\\\"mode\\\":\\\"markers+lines\\\",\\\"line\\\":{\\\"color\\\":\\\"red\\\",\\\"width\\\":1},\\\"locations\\\":[\\\"IND\\\",\\\"USA\\\"],\\\"hovertext\\\":[\\\"India\\\",\\\"United States of America\\\"],\\\"type\\\":\\\"scattergeo\\\",\\\"name\\\":\\\"\\\",\\\"marker\\\":{\\\"color\\\":\\\"blue\\\",\\\"size\\\":8}},{\\\"showlegend\\\":false,\\\"mode\\\":\\\"markers+lines\\\",\\\"line\\\":{\\\"color\\\":\\\"red\\\",\\\"width\\\":1},\\\"locations\\\":[\\\"IND\\\",\\\"GBR\\\"],\\\"hovertext\\\":[\\\"India\\\",\\\"United Kingdom\\\"],\\\"type\\\":\\\"scattergeo\\\",\\\"name\\\":\\\"\\\",\\\"marker\\\":{\\\"color\\\":\\\"blue\\\",\\\"size\\\":8}},{\\\"showlegend\\\":false,\\\"mode\\\":\\\"markers+lines\\\",\\\"line\\\":{\\\"color\\\":\\\"red\\\",\\\"width\\\":1},\\\"locations\\\":[\\\"SVN\\\",\\\"USA\\\"],\\\"hovertext\\\":[\\\"Slovenia\\\",\\\"United States of America\\\"],\\\"type\\\":\\\"scattergeo\\\",\\\"name\\\":\\\"\\\",\\\"marker\\\":{\\\"color\\\":\\\"blue\\\",\\\"size\\\":8}},{\\\"showlegend\\\":false,\\\"mode\\\":\\\"markers+lines\\\",\\\"line\\\":{\\\"color\\\":\\\"red\\\",\\\"width\\\":1},\\\"locations\\\":[\\\"SVN\\\",\\\"RUS\\\"],\\\"hovertext\\\":[\\\"Slovenia\\\",\\\"Russia\\\"],\\\"type\\\":\\\"scattergeo\\\",\\\"name\\\":\\\"\\\",\\\"marker\\\":{\\\"color\\\":\\\"blue\\\",\\\"size\\\":8}},{\\\"showlegend\\\":false,\\\"mode\\\":\\\"markers+lines\\\",\\\"line\\\":{\\\"color\\\":\\\"red\\\",\\\"width\\\":1},\\\"locations\\\":[\\\"SVN\\\",\\\"GBR\\\"],\\\"hovertext\\\":[\\\"Slovenia\\\",\\\"United Kingdom\\\"],\\\"type\\\":\\\"scattergeo\\\",\\\"name\\\":\\\"\\\",\\\"marker\\\":{\\\"color\\\":\\\"blue\\\",\\\"size\\\":8}},{\\\"showlegend\\\":false,\\\"mode\\\":\\\"markers+lines\\\",\\\"line\\\":{\\\"color\\\":\\\"red\\\",\\\"width\\\":1},\\\"locations\\\":[\\\"HUN\\\",\\\"USA\\\"],\\\"hovertext\\\":[\\\"Hungary\\\",\\\"United States of America\\\"],\\\"type\\\":\\\"scattergeo\\\",\\\"name\\\":\\\"\\\",\\\"marker\\\":{\\\"color\\\":\\\"blue\\\",\\\"size\\\":8}},{\\\"showlegend\\\":false,\\\"mode\\\":\\\"markers+lines\\\",\\\"line\\\":{\\\"color\\\":\\\"red\\\",\\\"width\\\":1},\\\"locations\\\":[\\\"HUN\\\",\\\"GBR\\\"],\\\"hovertext\\\":[\\\"Hungary\\\",\\\"United Kingdom\\\"],\\\"type\\\":\\\"scattergeo\\\",\\\"name\\\":\\\"\\\",\\\"marker\\\":{\\\"color\\\":\\\"blue\\\",\\\"size\\\":8}},{\\\"showlegend\\\":false,\\\"mode\\\":\\\"markers+lines\\\",\\\"line\\\":{\\\"color\\\":\\\"red\\\",\\\"width\\\":1},\\\"locations\\\":[\\\"MYS\\\",\\\"USA\\\"],\\\"hovertext\\\":[\\\"Malaysia\\\",\\\"United States of America\\\"],\\\"type\\\":\\\"scattergeo\\\",\\\"name\\\":\\\"\\\",\\\"marker\\\":{\\\"color\\\":\\\"blue\\\",\\\"size\\\":8}},{\\\"showlegend\\\":false,\\\"mode\\\":\\\"markers+lines\\\",\\\"line\\\":{\\\"color\\\":\\\"red\\\",\\\"width\\\":1},\\\"locations\\\":[\\\"MYS\\\",\\\"GBR\\\"],\\\"hovertext\\\":[\\\"Malaysia\\\",\\\"United Kingdom\\\"],\\\"type\\\":\\\"scattergeo\\\",\\\"name\\\":\\\"\\\",\\\"marker\\\":{\\\"color\\\":\\\"blue\\\",\\\"size\\\":8}},{\\\"showlegend\\\":false,\\\"mode\\\":\\\"markers+lines\\\",\\\"line\\\":{\\\"color\\\":\\\"red\\\",\\\"width\\\":1},\\\"locations\\\":[\\\"FRA\\\",\\\"USA\\\"],\\\"hovertext\\\":[\\\"France\\\",\\\"United States of America\\\"],\\\"type\\\":\\\"scattergeo\\\",\\\"name\\\":\\\"\\\",\\\"marker\\\":{\\\"color\\\":\\\"blue\\\",\\\"size\\\":8}},{\\\"showlegend\\\":false,\\\"mode\\\":\\\"markers+lines\\\",\\\"line\\\":{\\\"color\\\":\\\"red\\\",\\\"width\\\":1},\\\"locations\\\":[\\\"FRA\\\",\\\"GBR\\\"],\\\"hovertext\\\":[\\\"France\\\",\\\"United Kingdom\\\"],\\\"type\\\":\\\"scattergeo\\\",\\\"name\\\":\\\"\\\",\\\"marker\\\":{\\\"color\\\":\\\"blue\\\",\\\"size\\\":8}},{\\\"showlegend\\\":false,\\\"mode\\\":\\\"markers+lines\\\",\\\"line\\\":{\\\"color\\\":\\\"red\\\",\\\"width\\\":1},\\\"locations\\\":[\\\"ARE\\\",\\\"USA\\\"],\\\"hovertext\\\":[\\\"United Arab Emirates\\\",\\\"United States of America\\\"],\\\"type\\\":\\\"scattergeo\\\",\\\"name\\\":\\\"\\\",\\\"marker\\\":{\\\"color\\\":\\\"blue\\\",\\\"size\\\":8}},{\\\"showlegend\\\":false,\\\"mode\\\":\\\"markers+lines\\\",\\\"line\\\":{\\\"color\\\":\\\"red\\\",\\\"width\\\":1},\\\"locations\\\":[\\\"ARE\\\",\\\"GBR\\\"],\\\"hovertext\\\":[\\\"United Arab Emirates\\\",\\\"United Kingdom\\\"],\\\"type\\\":\\\"scattergeo\\\",\\\"name\\\":\\\"\\\",\\\"marker\\\":{\\\"color\\\":\\\"blue\\\",\\\"size\\\":8}},{\\\"showlegend\\\":false,\\\"mode\\\":\\\"markers+lines\\\",\\\"line\\\":{\\\"color\\\":\\\"red\\\",\\\"width\\\":1},\\\"locations\\\":[\\\"VEN\\\",\\\"USA\\\"],\\\"hovertext\\\":[\\\"Venezuela\\\",\\\"United States of America\\\"],\\\"type\\\":\\\"scattergeo\\\",\\\"name\\\":\\\"\\\",\\\"marker\\\":{\\\"color\\\":\\\"blue\\\",\\\"size\\\":8}},{\\\"showlegend\\\":false,\\\"mode\\\":\\\"markers+lines\\\",\\\"line\\\":{\\\"color\\\":\\\"red\\\",\\\"width\\\":1},\\\"locations\\\":[\\\"VEN\\\",\\\"GBR\\\"],\\\"hovertext\\\":[\\\"Venezuela\\\",\\\"United Kingdom\\\"],\\\"type\\\":\\\"scattergeo\\\",\\\"name\\\":\\\"\\\",\\\"marker\\\":{\\\"color\\\":\\\"blue\\\",\\\"size\\\":8}},{\\\"showlegend\\\":false,\\\"mode\\\":\\\"markers+lines\\\",\\\"line\\\":{\\\"color\\\":\\\"red\\\",\\\"width\\\":1},\\\"locations\\\":[\\\"PRT\\\",\\\"USA\\\"],\\\"hovertext\\\":[\\\"Portugal\\\",\\\"United States of America\\\"],\\\"type\\\":\\\"scattergeo\\\",\\\"name\\\":\\\"\\\",\\\"marker\\\":{\\\"color\\\":\\\"blue\\\",\\\"size\\\":8}},{\\\"showlegend\\\":false,\\\"mode\\\":\\\"markers+lines\\\",\\\"line\\\":{\\\"color\\\":\\\"red\\\",\\\"width\\\":1},\\\"locations\\\":[\\\"PRT\\\",\\\"GBR\\\"],\\\"hovertext\\\":[\\\"Portugal\\\",\\\"United Kingdom\\\"],\\\"type\\\":\\\"scattergeo\\\",\\\"name\\\":\\\"\\\",\\\"marker\\\":{\\\"color\\\":\\\"blue\\\",\\\"size\\\":8}},{\\\"showlegend\\\":false,\\\"mode\\\":\\\"markers+lines\\\",\\\"line\\\":{\\\"color\\\":\\\"red\\\",\\\"width\\\":1},\\\"locations\\\":[\\\"UKR\\\",\\\"USA\\\"],\\\"hovertext\\\":[\\\"Ukraine\\\",\\\"United States of America\\\"],\\\"type\\\":\\\"scattergeo\\\",\\\"name\\\":\\\"\\\",\\\"marker\\\":{\\\"color\\\":\\\"blue\\\",\\\"size\\\":8}},{\\\"showlegend\\\":false,\\\"mode\\\":\\\"markers+lines\\\",\\\"line\\\":{\\\"color\\\":\\\"red\\\",\\\"width\\\":1},\\\"locations\\\":[\\\"UKR\\\",\\\"RUS\\\"],\\\"hovertext\\\":[\\\"Ukraine\\\",\\\"Russia\\\"],\\\"type\\\":\\\"scattergeo\\\",\\\"name\\\":\\\"\\\",\\\"marker\\\":{\\\"color\\\":\\\"blue\\\",\\\"size\\\":8}},{\\\"showlegend\\\":false,\\\"mode\\\":\\\"markers+lines\\\",\\\"line\\\":{\\\"color\\\":\\\"red\\\",\\\"width\\\":1},\\\"locations\\\":[\\\"UKR\\\",\\\"GBR\\\"],\\\"hovertext\\\":[\\\"Ukraine\\\",\\\"United Kingdom\\\"],\\\"type\\\":\\\"scattergeo\\\",\\\"name\\\":\\\"\\\",\\\"marker\\\":{\\\"color\\\":\\\"blue\\\",\\\"size\\\":8}},{\\\"showlegend\\\":false,\\\"mode\\\":\\\"markers+lines\\\",\\\"line\\\":{\\\"color\\\":\\\"red\\\",\\\"width\\\":1},\\\"locations\\\":[\\\"HKG\\\",\\\"USA\\\"],\\\"hovertext\\\":[\\\"Hong Kong S.A.R.\\\",\\\"United States of America\\\"],\\\"type\\\":\\\"scattergeo\\\",\\\"name\\\":\\\"\\\",\\\"marker\\\":{\\\"color\\\":\\\"blue\\\",\\\"size\\\":8}},{\\\"showlegend\\\":false,\\\"mode\\\":\\\"markers+lines\\\",\\\"line\\\":{\\\"color\\\":\\\"red\\\",\\\"width\\\":1},\\\"locations\\\":[\\\"HKG\\\",\\\"GBR\\\"],\\\"hovertext\\\":[\\\"Hong Kong S.A.R.\\\",\\\"United Kingdom\\\"],\\\"type\\\":\\\"scattergeo\\\",\\\"name\\\":\\\"\\\",\\\"marker\\\":{\\\"color\\\":\\\"blue\\\",\\\"size\\\":8}},{\\\"showlegend\\\":false,\\\"mode\\\":\\\"markers+lines\\\",\\\"line\\\":{\\\"color\\\":\\\"red\\\",\\\"width\\\":1},\\\"locations\\\":[\\\"KEN\\\",\\\"USA\\\"],\\\"hovertext\\\":[\\\"Kenya\\\",\\\"United States of America\\\"],\\\"type\\\":\\\"scattergeo\\\",\\\"name\\\":\\\"\\\",\\\"marker\\\":{\\\"color\\\":\\\"blue\\\",\\\"size\\\":8}},{\\\"showlegend\\\":false,\\\"mode\\\":\\\"markers+lines\\\",\\\"line\\\":{\\\"color\\\":\\\"red\\\",\\\"width\\\":1},\\\"locations\\\":[\\\"KEN\\\",\\\"GBR\\\"],\\\"hovertext\\\":[\\\"Kenya\\\",\\\"United Kingdom\\\"],\\\"type\\\":\\\"scattergeo\\\",\\\"name\\\":\\\"\\\",\\\"marker\\\":{\\\"color\\\":\\\"blue\\\",\\\"size\\\":8}},{\\\"showlegend\\\":false,\\\"mode\\\":\\\"markers+lines\\\",\\\"line\\\":{\\\"color\\\":\\\"red\\\",\\\"width\\\":1},\\\"locations\\\":[\\\"CHN\\\",\\\"USA\\\"],\\\"hovertext\\\":[\\\"China\\\",\\\"United States of America\\\"],\\\"type\\\":\\\"scattergeo\\\",\\\"name\\\":\\\"\\\",\\\"marker\\\":{\\\"color\\\":\\\"blue\\\",\\\"size\\\":8}},{\\\"showlegend\\\":false,\\\"mode\\\":\\\"markers+lines\\\",\\\"line\\\":{\\\"color\\\":\\\"red\\\",\\\"width\\\":1},\\\"locations\\\":[\\\"CHN\\\",\\\"RUS\\\"],\\\"hovertext\\\":[\\\"China\\\",\\\"Russia\\\"],\\\"type\\\":\\\"scattergeo\\\",\\\"name\\\":\\\"\\\",\\\"marker\\\":{\\\"color\\\":\\\"blue\\\",\\\"size\\\":8}},{\\\"showlegend\\\":false,\\\"mode\\\":\\\"markers+lines\\\",\\\"line\\\":{\\\"color\\\":\\\"red\\\",\\\"width\\\":1},\\\"locations\\\":[\\\"CHN\\\",\\\"GBR\\\"],\\\"hovertext\\\":[\\\"China\\\",\\\"United Kingdom\\\"],\\\"type\\\":\\\"scattergeo\\\",\\\"name\\\":\\\"\\\",\\\"marker\\\":{\\\"color\\\":\\\"blue\\\",\\\"size\\\":8}},{\\\"showlegend\\\":false,\\\"mode\\\":\\\"markers+lines\\\",\\\"line\\\":{\\\"color\\\":\\\"red\\\",\\\"width\\\":1},\\\"locations\\\":[\\\"CHL\\\",\\\"USA\\\"],\\\"hovertext\\\":[\\\"Chile\\\",\\\"United States of America\\\"],\\\"type\\\":\\\"scattergeo\\\",\\\"name\\\":\\\"\\\",\\\"marker\\\":{\\\"color\\\":\\\"blue\\\",\\\"size\\\":8}},{\\\"showlegend\\\":false,\\\"mode\\\":\\\"markers+lines\\\",\\\"line\\\":{\\\"color\\\":\\\"red\\\",\\\"width\\\":1},\\\"locations\\\":[\\\"CHL\\\",\\\"RUS\\\"],\\\"hovertext\\\":[\\\"Chile\\\",\\\"Russia\\\"],\\\"type\\\":\\\"scattergeo\\\",\\\"name\\\":\\\"\\\",\\\"marker\\\":{\\\"color\\\":\\\"blue\\\",\\\"size\\\":8}},{\\\"showlegend\\\":false,\\\"mode\\\":\\\"markers+lines\\\",\\\"line\\\":{\\\"color\\\":\\\"red\\\",\\\"width\\\":1},\\\"locations\\\":[\\\"CHL\\\",\\\"GBR\\\"],\\\"hovertext\\\":[\\\"Chile\\\",\\\"United Kingdom\\\"],\\\"type\\\":\\\"scattergeo\\\",\\\"name\\\":\\\"\\\",\\\"marker\\\":{\\\"color\\\":\\\"blue\\\",\\\"size\\\":8}},{\\\"showlegend\\\":false,\\\"mode\\\":\\\"markers+lines\\\",\\\"line\\\":{\\\"color\\\":\\\"red\\\",\\\"width\\\":1},\\\"locations\\\":[\\\"BOL\\\",\\\"RUS\\\"],\\\"hovertext\\\":[\\\"Bolivia\\\",\\\"Russia\\\"],\\\"type\\\":\\\"scattergeo\\\",\\\"name\\\":\\\"\\\",\\\"marker\\\":{\\\"color\\\":\\\"blue\\\",\\\"size\\\":8}},{\\\"showlegend\\\":false,\\\"mode\\\":\\\"markers+lines\\\",\\\"line\\\":{\\\"color\\\":\\\"red\\\",\\\"width\\\":1},\\\"locations\\\":[\\\"PAN\\\",\\\"USA\\\"],\\\"hovertext\\\":[\\\"Panama\\\",\\\"United States of America\\\"],\\\"type\\\":\\\"scattergeo\\\",\\\"name\\\":\\\"\\\",\\\"marker\\\":{\\\"color\\\":\\\"blue\\\",\\\"size\\\":8}},{\\\"showlegend\\\":false,\\\"mode\\\":\\\"markers+lines\\\",\\\"line\\\":{\\\"color\\\":\\\"red\\\",\\\"width\\\":1},\\\"locations\\\":[\\\"PAN\\\",\\\"RUS\\\"],\\\"hovertext\\\":[\\\"Panama\\\",\\\"Russia\\\"],\\\"type\\\":\\\"scattergeo\\\",\\\"name\\\":\\\"\\\",\\\"marker\\\":{\\\"color\\\":\\\"blue\\\",\\\"size\\\":8}},{\\\"showlegend\\\":false,\\\"mode\\\":\\\"markers+lines\\\",\\\"line\\\":{\\\"color\\\":\\\"red\\\",\\\"width\\\":1},\\\"locations\\\":[\\\"PAN\\\",\\\"GBR\\\"],\\\"hovertext\\\":[\\\"Panama\\\",\\\"United Kingdom\\\"],\\\"type\\\":\\\"scattergeo\\\",\\\"name\\\":\\\"\\\",\\\"marker\\\":{\\\"color\\\":\\\"blue\\\",\\\"size\\\":8}},{\\\"showlegend\\\":false,\\\"mode\\\":\\\"markers+lines\\\",\\\"line\\\":{\\\"color\\\":\\\"red\\\",\\\"width\\\":1},\\\"locations\\\":[\\\"ISR\\\",\\\"USA\\\"],\\\"hovertext\\\":[\\\"Israel\\\",\\\"United States of America\\\"],\\\"type\\\":\\\"scattergeo\\\",\\\"name\\\":\\\"\\\",\\\"marker\\\":{\\\"color\\\":\\\"blue\\\",\\\"size\\\":8}},{\\\"showlegend\\\":false,\\\"mode\\\":\\\"markers+lines\\\",\\\"line\\\":{\\\"color\\\":\\\"red\\\",\\\"width\\\":1},\\\"locations\\\":[\\\"ISR\\\",\\\"GBR\\\"],\\\"hovertext\\\":[\\\"Israel\\\",\\\"United Kingdom\\\"],\\\"type\\\":\\\"scattergeo\\\",\\\"name\\\":\\\"\\\",\\\"marker\\\":{\\\"color\\\":\\\"blue\\\",\\\"size\\\":8}},{\\\"showlegend\\\":false,\\\"mode\\\":\\\"markers+lines\\\",\\\"line\\\":{\\\"color\\\":\\\"red\\\",\\\"width\\\":1},\\\"locations\\\":[\\\"LVA\\\",\\\"USA\\\"],\\\"hovertext\\\":[\\\"Latvia\\\",\\\"United States of America\\\"],\\\"type\\\":\\\"scattergeo\\\",\\\"name\\\":\\\"\\\",\\\"marker\\\":{\\\"color\\\":\\\"blue\\\",\\\"size\\\":8}},{\\\"showlegend\\\":false,\\\"mode\\\":\\\"markers+lines\\\",\\\"line\\\":{\\\"color\\\":\\\"red\\\",\\\"width\\\":1},\\\"locations\\\":[\\\"LVA\\\",\\\"RUS\\\"],\\\"hovertext\\\":[\\\"Latvia\\\",\\\"Russia\\\"],\\\"type\\\":\\\"scattergeo\\\",\\\"name\\\":\\\"\\\",\\\"marker\\\":{\\\"color\\\":\\\"blue\\\",\\\"size\\\":8}},{\\\"showlegend\\\":false,\\\"mode\\\":\\\"markers+lines\\\",\\\"line\\\":{\\\"color\\\":\\\"red\\\",\\\"width\\\":1},\\\"locations\\\":[\\\"LVA\\\",\\\"GBR\\\"],\\\"hovertext\\\":[\\\"Latvia\\\",\\\"United Kingdom\\\"],\\\"type\\\":\\\"scattergeo\\\",\\\"name\\\":\\\"\\\",\\\"marker\\\":{\\\"color\\\":\\\"blue\\\",\\\"size\\\":8}},{\\\"showlegend\\\":false,\\\"mode\\\":\\\"markers+lines\\\",\\\"line\\\":{\\\"color\\\":\\\"red\\\",\\\"width\\\":1},\\\"locations\\\":[\\\"POL\\\",\\\"USA\\\"],\\\"hovertext\\\":[\\\"Poland\\\",\\\"United States of America\\\"],\\\"type\\\":\\\"scattergeo\\\",\\\"name\\\":\\\"\\\",\\\"marker\\\":{\\\"color\\\":\\\"blue\\\",\\\"size\\\":8}},{\\\"showlegend\\\":false,\\\"mode\\\":\\\"markers+lines\\\",\\\"line\\\":{\\\"color\\\":\\\"red\\\",\\\"width\\\":1},\\\"locations\\\":[\\\"POL\\\",\\\"GBR\\\"],\\\"hovertext\\\":[\\\"Poland\\\",\\\"United Kingdom\\\"],\\\"type\\\":\\\"scattergeo\\\",\\\"name\\\":\\\"\\\",\\\"marker\\\":{\\\"color\\\":\\\"blue\\\",\\\"size\\\":8}},{\\\"showlegend\\\":false,\\\"mode\\\":\\\"markers+lines\\\",\\\"line\\\":{\\\"color\\\":\\\"red\\\",\\\"width\\\":1},\\\"locations\\\":[\\\"MDV\\\",\\\"USA\\\"],\\\"hovertext\\\":[\\\"Maldives\\\",\\\"United States of America\\\"],\\\"type\\\":\\\"scattergeo\\\",\\\"name\\\":\\\"\\\",\\\"marker\\\":{\\\"color\\\":\\\"blue\\\",\\\"size\\\":8}},{\\\"showlegend\\\":false,\\\"mode\\\":\\\"markers+lines\\\",\\\"line\\\":{\\\"color\\\":\\\"red\\\",\\\"width\\\":1},\\\"locations\\\":[\\\"MDV\\\",\\\"GBR\\\"],\\\"hovertext\\\":[\\\"Maldives\\\",\\\"United Kingdom\\\"],\\\"type\\\":\\\"scattergeo\\\",\\\"name\\\":\\\"\\\",\\\"marker\\\":{\\\"color\\\":\\\"blue\\\",\\\"size\\\":8}},{\\\"showlegend\\\":false,\\\"mode\\\":\\\"markers+lines\\\",\\\"line\\\":{\\\"color\\\":\\\"red\\\",\\\"width\\\":1},\\\"locations\\\":[\\\"PER\\\",\\\"USA\\\"],\\\"hovertext\\\":[\\\"Peru\\\",\\\"United States of America\\\"],\\\"type\\\":\\\"scattergeo\\\",\\\"name\\\":\\\"\\\",\\\"marker\\\":{\\\"color\\\":\\\"blue\\\",\\\"size\\\":8}},{\\\"showlegend\\\":false,\\\"mode\\\":\\\"markers+lines\\\",\\\"line\\\":{\\\"color\\\":\\\"red\\\",\\\"width\\\":1},\\\"locations\\\":[\\\"PER\\\",\\\"RUS\\\"],\\\"hovertext\\\":[\\\"Peru\\\",\\\"Russia\\\"],\\\"type\\\":\\\"scattergeo\\\",\\\"name\\\":\\\"\\\",\\\"marker\\\":{\\\"color\\\":\\\"blue\\\",\\\"size\\\":8}},{\\\"showlegend\\\":false,\\\"mode\\\":\\\"markers+lines\\\",\\\"line\\\":{\\\"color\\\":\\\"red\\\",\\\"width\\\":1},\\\"locations\\\":[\\\"PER\\\",\\\"GBR\\\"],\\\"hovertext\\\":[\\\"Peru\\\",\\\"United Kingdom\\\"],\\\"type\\\":\\\"scattergeo\\\",\\\"name\\\":\\\"\\\",\\\"marker\\\":{\\\"color\\\":\\\"blue\\\",\\\"size\\\":8}},{\\\"showlegend\\\":false,\\\"mode\\\":\\\"markers+lines\\\",\\\"line\\\":{\\\"color\\\":\\\"red\\\",\\\"width\\\":1},\\\"locations\\\":[\\\"LKA\\\",\\\"GBR\\\"],\\\"hovertext\\\":[\\\"Sri Lanka\\\",\\\"United Kingdom\\\"],\\\"type\\\":\\\"scattergeo\\\",\\\"name\\\":\\\"\\\",\\\"marker\\\":{\\\"color\\\":\\\"blue\\\",\\\"size\\\":8}},{\\\"showlegend\\\":false,\\\"mode\\\":\\\"markers+lines\\\",\\\"line\\\":{\\\"color\\\":\\\"red\\\",\\\"width\\\":1},\\\"locations\\\":[\\\"AUT\\\",\\\"USA\\\"],\\\"hovertext\\\":[\\\"Austria\\\",\\\"United States of America\\\"],\\\"type\\\":\\\"scattergeo\\\",\\\"name\\\":\\\"\\\",\\\"marker\\\":{\\\"color\\\":\\\"blue\\\",\\\"size\\\":8}},{\\\"showlegend\\\":false,\\\"mode\\\":\\\"markers+lines\\\",\\\"line\\\":{\\\"color\\\":\\\"red\\\",\\\"width\\\":1},\\\"locations\\\":[\\\"AUT\\\",\\\"RUS\\\"],\\\"hovertext\\\":[\\\"Austria\\\",\\\"Russia\\\"],\\\"type\\\":\\\"scattergeo\\\",\\\"name\\\":\\\"\\\",\\\"marker\\\":{\\\"color\\\":\\\"blue\\\",\\\"size\\\":8}},{\\\"showlegend\\\":false,\\\"mode\\\":\\\"markers+lines\\\",\\\"line\\\":{\\\"color\\\":\\\"red\\\",\\\"width\\\":1},\\\"locations\\\":[\\\"AUT\\\",\\\"GBR\\\"],\\\"hovertext\\\":[\\\"Austria\\\",\\\"United Kingdom\\\"],\\\"type\\\":\\\"scattergeo\\\",\\\"name\\\":\\\"\\\",\\\"marker\\\":{\\\"color\\\":\\\"blue\\\",\\\"size\\\":8}},{\\\"showlegend\\\":false,\\\"mode\\\":\\\"markers+lines\\\",\\\"line\\\":{\\\"color\\\":\\\"red\\\",\\\"width\\\":1},\\\"locations\\\":[\\\"EST\\\",\\\"USA\\\"],\\\"hovertext\\\":[\\\"Estonia\\\",\\\"United States of America\\\"],\\\"type\\\":\\\"scattergeo\\\",\\\"name\\\":\\\"\\\",\\\"marker\\\":{\\\"color\\\":\\\"blue\\\",\\\"size\\\":8}},{\\\"showlegend\\\":false,\\\"mode\\\":\\\"markers+lines\\\",\\\"line\\\":{\\\"color\\\":\\\"red\\\",\\\"width\\\":1},\\\"locations\\\":[\\\"EST\\\",\\\"GBR\\\"],\\\"hovertext\\\":[\\\"Estonia\\\",\\\"United Kingdom\\\"],\\\"type\\\":\\\"scattergeo\\\",\\\"name\\\":\\\"\\\",\\\"marker\\\":{\\\"color\\\":\\\"blue\\\",\\\"size\\\":8}},{\\\"showlegend\\\":false,\\\"mode\\\":\\\"markers+lines\\\",\\\"line\\\":{\\\"color\\\":\\\"red\\\",\\\"width\\\":1},\\\"locations\\\":[\\\"CZE\\\",\\\"USA\\\"],\\\"hovertext\\\":[\\\"Czech Republic\\\",\\\"United States of America\\\"],\\\"type\\\":\\\"scattergeo\\\",\\\"name\\\":\\\"\\\",\\\"marker\\\":{\\\"color\\\":\\\"blue\\\",\\\"size\\\":8}},{\\\"showlegend\\\":false,\\\"mode\\\":\\\"markers+lines\\\",\\\"line\\\":{\\\"color\\\":\\\"red\\\",\\\"width\\\":1},\\\"locations\\\":[\\\"CZE\\\",\\\"RUS\\\"],\\\"hovertext\\\":[\\\"Czech Republic\\\",\\\"Russia\\\"],\\\"type\\\":\\\"scattergeo\\\",\\\"name\\\":\\\"\\\",\\\"marker\\\":{\\\"color\\\":\\\"blue\\\",\\\"size\\\":8}},{\\\"showlegend\\\":false,\\\"mode\\\":\\\"markers+lines\\\",\\\"line\\\":{\\\"color\\\":\\\"red\\\",\\\"width\\\":1},\\\"locations\\\":[\\\"CZE\\\",\\\"GBR\\\"],\\\"hovertext\\\":[\\\"Czech Republic\\\",\\\"United Kingdom\\\"],\\\"type\\\":\\\"scattergeo\\\",\\\"name\\\":\\\"\\\",\\\"marker\\\":{\\\"color\\\":\\\"blue\\\",\\\"size\\\":8}},{\\\"showlegend\\\":false,\\\"mode\\\":\\\"markers+lines\\\",\\\"line\\\":{\\\"color\\\":\\\"red\\\",\\\"width\\\":1},\\\"locations\\\":[\\\"GHA\\\",\\\"USA\\\"],\\\"hovertext\\\":[\\\"Ghana\\\",\\\"United States of America\\\"],\\\"type\\\":\\\"scattergeo\\\",\\\"name\\\":\\\"\\\",\\\"marker\\\":{\\\"color\\\":\\\"blue\\\",\\\"size\\\":8}},{\\\"showlegend\\\":false,\\\"mode\\\":\\\"markers+lines\\\",\\\"line\\\":{\\\"color\\\":\\\"red\\\",\\\"width\\\":1},\\\"locations\\\":[\\\"GHA\\\",\\\"GBR\\\"],\\\"hovertext\\\":[\\\"Ghana\\\",\\\"United Kingdom\\\"],\\\"type\\\":\\\"scattergeo\\\",\\\"name\\\":\\\"\\\",\\\"marker\\\":{\\\"color\\\":\\\"blue\\\",\\\"size\\\":8}},{\\\"showlegend\\\":false,\\\"mode\\\":\\\"markers+lines\\\",\\\"line\\\":{\\\"color\\\":\\\"red\\\",\\\"width\\\":1},\\\"locations\\\":[\\\"KOR\\\",\\\"USA\\\"],\\\"hovertext\\\":[\\\"South Korea\\\",\\\"United States of America\\\"],\\\"type\\\":\\\"scattergeo\\\",\\\"name\\\":\\\"\\\",\\\"marker\\\":{\\\"color\\\":\\\"blue\\\",\\\"size\\\":8}},{\\\"showlegend\\\":false,\\\"mode\\\":\\\"markers+lines\\\",\\\"line\\\":{\\\"color\\\":\\\"red\\\",\\\"width\\\":1},\\\"locations\\\":[\\\"KOR\\\",\\\"GBR\\\"],\\\"hovertext\\\":[\\\"South Korea\\\",\\\"United Kingdom\\\"],\\\"type\\\":\\\"scattergeo\\\",\\\"name\\\":\\\"\\\",\\\"marker\\\":{\\\"color\\\":\\\"blue\\\",\\\"size\\\":8}},{\\\"showlegend\\\":false,\\\"mode\\\":\\\"markers+lines\\\",\\\"line\\\":{\\\"color\\\":\\\"red\\\",\\\"width\\\":1},\\\"locations\\\":[\\\"KAZ\\\",\\\"USA\\\"],\\\"hovertext\\\":[\\\"Kazakhstan\\\",\\\"United States of America\\\"],\\\"type\\\":\\\"scattergeo\\\",\\\"name\\\":\\\"\\\",\\\"marker\\\":{\\\"color\\\":\\\"blue\\\",\\\"size\\\":8}},{\\\"showlegend\\\":false,\\\"mode\\\":\\\"markers+lines\\\",\\\"line\\\":{\\\"color\\\":\\\"red\\\",\\\"width\\\":1},\\\"locations\\\":[\\\"KAZ\\\",\\\"RUS\\\"],\\\"hovertext\\\":[\\\"Kazakhstan\\\",\\\"Russia\\\"],\\\"type\\\":\\\"scattergeo\\\",\\\"name\\\":\\\"\\\",\\\"marker\\\":{\\\"color\\\":\\\"blue\\\",\\\"size\\\":8}},{\\\"showlegend\\\":false,\\\"mode\\\":\\\"markers+lines\\\",\\\"line\\\":{\\\"color\\\":\\\"red\\\",\\\"width\\\":1},\\\"locations\\\":[\\\"BGD\\\",\\\"USA\\\"],\\\"hovertext\\\":[\\\"Bangladesh\\\",\\\"United States of America\\\"],\\\"type\\\":\\\"scattergeo\\\",\\\"name\\\":\\\"\\\",\\\"marker\\\":{\\\"color\\\":\\\"blue\\\",\\\"size\\\":8}},{\\\"showlegend\\\":false,\\\"mode\\\":\\\"markers+lines\\\",\\\"line\\\":{\\\"color\\\":\\\"red\\\",\\\"width\\\":1},\\\"locations\\\":[\\\"BGD\\\",\\\"GBR\\\"],\\\"hovertext\\\":[\\\"Bangladesh\\\",\\\"United Kingdom\\\"],\\\"type\\\":\\\"scattergeo\\\",\\\"name\\\":\\\"\\\",\\\"marker\\\":{\\\"color\\\":\\\"blue\\\",\\\"size\\\":8}},{\\\"showlegend\\\":false,\\\"mode\\\":\\\"markers+lines\\\",\\\"line\\\":{\\\"color\\\":\\\"red\\\",\\\"width\\\":1},\\\"locations\\\":[\\\"TTO\\\",\\\"GBR\\\"],\\\"hovertext\\\":[\\\"Trinidad and Tobago\\\",\\\"United Kingdom\\\"],\\\"type\\\":\\\"scattergeo\\\",\\\"name\\\":\\\"\\\",\\\"marker\\\":{\\\"color\\\":\\\"blue\\\",\\\"size\\\":8}},{\\\"showlegend\\\":false,\\\"mode\\\":\\\"markers+lines\\\",\\\"line\\\":{\\\"color\\\":\\\"red\\\",\\\"width\\\":1},\\\"locations\\\":[\\\"SRB\\\",\\\"USA\\\"],\\\"hovertext\\\":[\\\"Republic of Serbia\\\",\\\"United States of America\\\"],\\\"type\\\":\\\"scattergeo\\\",\\\"name\\\":\\\"\\\",\\\"marker\\\":{\\\"color\\\":\\\"blue\\\",\\\"size\\\":8}},{\\\"showlegend\\\":false,\\\"mode\\\":\\\"markers+lines\\\",\\\"line\\\":{\\\"color\\\":\\\"red\\\",\\\"width\\\":1},\\\"locations\\\":[\\\"SRB\\\",\\\"GBR\\\"],\\\"hovertext\\\":[\\\"Republic of Serbia\\\",\\\"United Kingdom\\\"],\\\"type\\\":\\\"scattergeo\\\",\\\"name\\\":\\\"\\\",\\\"marker\\\":{\\\"color\\\":\\\"blue\\\",\\\"size\\\":8}},{\\\"showlegend\\\":false,\\\"mode\\\":\\\"markers+lines\\\",\\\"line\\\":{\\\"color\\\":\\\"red\\\",\\\"width\\\":1},\\\"locations\\\":[\\\"SAU\\\",\\\"USA\\\"],\\\"hovertext\\\":[\\\"Saudi Arabia\\\",\\\"United States of America\\\"],\\\"type\\\":\\\"scattergeo\\\",\\\"name\\\":\\\"\\\",\\\"marker\\\":{\\\"color\\\":\\\"blue\\\",\\\"size\\\":8}},{\\\"showlegend\\\":false,\\\"mode\\\":\\\"markers+lines\\\",\\\"line\\\":{\\\"color\\\":\\\"red\\\",\\\"width\\\":1},\\\"locations\\\":[\\\"SAU\\\",\\\"GBR\\\"],\\\"hovertext\\\":[\\\"Saudi Arabia\\\",\\\"United Kingdom\\\"],\\\"type\\\":\\\"scattergeo\\\",\\\"name\\\":\\\"\\\",\\\"marker\\\":{\\\"color\\\":\\\"blue\\\",\\\"size\\\":8}},{\\\"showlegend\\\":false,\\\"mode\\\":\\\"markers+lines\\\",\\\"line\\\":{\\\"color\\\":\\\"red\\\",\\\"width\\\":1},\\\"locations\\\":[\\\"MKD\\\",\\\"USA\\\"],\\\"hovertext\\\":[\\\"North Macedonia\\\",\\\"United States of America\\\"],\\\"type\\\":\\\"scattergeo\\\",\\\"name\\\":\\\"\\\",\\\"marker\\\":{\\\"color\\\":\\\"blue\\\",\\\"size\\\":8}},{\\\"showlegend\\\":false,\\\"mode\\\":\\\"markers+lines\\\",\\\"line\\\":{\\\"color\\\":\\\"red\\\",\\\"width\\\":1},\\\"locations\\\":[\\\"TZA\\\",\\\"USA\\\"],\\\"hovertext\\\":[\\\"United Republic of Tanzania\\\",\\\"United States of America\\\"],\\\"type\\\":\\\"scattergeo\\\",\\\"name\\\":\\\"\\\",\\\"marker\\\":{\\\"color\\\":\\\"blue\\\",\\\"size\\\":8}},{\\\"showlegend\\\":false,\\\"mode\\\":\\\"markers+lines\\\",\\\"line\\\":{\\\"color\\\":\\\"red\\\",\\\"width\\\":1},\\\"locations\\\":[\\\"TZA\\\",\\\"GBR\\\"],\\\"hovertext\\\":[\\\"United Republic of Tanzania\\\",\\\"United Kingdom\\\"],\\\"type\\\":\\\"scattergeo\\\",\\\"name\\\":\\\"\\\",\\\"marker\\\":{\\\"color\\\":\\\"blue\\\",\\\"size\\\":8}},{\\\"showlegend\\\":false,\\\"mode\\\":\\\"markers+lines\\\",\\\"line\\\":{\\\"color\\\":\\\"red\\\",\\\"width\\\":1},\\\"locations\\\":[\\\"ROU\\\",\\\"CAN\\\"],\\\"hovertext\\\":[\\\"Romania\\\",\\\"Canada\\\"],\\\"type\\\":\\\"scattergeo\\\",\\\"name\\\":\\\"\\\",\\\"marker\\\":{\\\"color\\\":\\\"blue\\\",\\\"size\\\":8}},{\\\"showlegend\\\":false,\\\"mode\\\":\\\"markers+lines\\\",\\\"line\\\":{\\\"color\\\":\\\"red\\\",\\\"width\\\":1},\\\"locations\\\":[\\\"UGA\\\",\\\"USA\\\"],\\\"hovertext\\\":[\\\"Uganda\\\",\\\"United States of America\\\"],\\\"type\\\":\\\"scattergeo\\\",\\\"name\\\":\\\"\\\",\\\"marker\\\":{\\\"color\\\":\\\"blue\\\",\\\"size\\\":8}},{\\\"showlegend\\\":false,\\\"mode\\\":\\\"markers+lines\\\",\\\"line\\\":{\\\"color\\\":\\\"red\\\",\\\"width\\\":1},\\\"locations\\\":[\\\"UGA\\\",\\\"GBR\\\"],\\\"hovertext\\\":[\\\"Uganda\\\",\\\"United Kingdom\\\"],\\\"type\\\":\\\"scattergeo\\\",\\\"name\\\":\\\"\\\",\\\"marker\\\":{\\\"color\\\":\\\"blue\\\",\\\"size\\\":8}},{\\\"showlegend\\\":false,\\\"mode\\\":\\\"markers+lines\\\",\\\"line\\\":{\\\"color\\\":\\\"red\\\",\\\"width\\\":1},\\\"locations\\\":[\\\"PRI\\\",\\\"USA\\\"],\\\"hovertext\\\":[\\\"Puerto Rico\\\",\\\"United States of America\\\"],\\\"type\\\":\\\"scattergeo\\\",\\\"name\\\":\\\"\\\",\\\"marker\\\":{\\\"color\\\":\\\"blue\\\",\\\"size\\\":8}},{\\\"showlegend\\\":false,\\\"mode\\\":\\\"markers+lines\\\",\\\"line\\\":{\\\"color\\\":\\\"red\\\",\\\"width\\\":1},\\\"locations\\\":[\\\"PRI\\\",\\\"GBR\\\"],\\\"hovertext\\\":[\\\"Puerto Rico\\\",\\\"United Kingdom\\\"],\\\"type\\\":\\\"scattergeo\\\",\\\"name\\\":\\\"\\\",\\\"marker\\\":{\\\"color\\\":\\\"blue\\\",\\\"size\\\":8}},{\\\"showlegend\\\":false,\\\"mode\\\":\\\"markers+lines\\\",\\\"line\\\":{\\\"color\\\":\\\"red\\\",\\\"width\\\":1},\\\"locations\\\":[\\\"NPL\\\",\\\"USA\\\"],\\\"hovertext\\\":[\\\"Nepal\\\",\\\"United States of America\\\"],\\\"type\\\":\\\"scattergeo\\\",\\\"name\\\":\\\"\\\",\\\"marker\\\":{\\\"color\\\":\\\"blue\\\",\\\"size\\\":8}},{\\\"showlegend\\\":false,\\\"mode\\\":\\\"markers+lines\\\",\\\"line\\\":{\\\"color\\\":\\\"red\\\",\\\"width\\\":1},\\\"locations\\\":[\\\"HRV\\\",\\\"USA\\\"],\\\"hovertext\\\":[\\\"Croatia\\\",\\\"United States of America\\\"],\\\"type\\\":\\\"scattergeo\\\",\\\"name\\\":\\\"\\\",\\\"marker\\\":{\\\"color\\\":\\\"blue\\\",\\\"size\\\":8}},{\\\"showlegend\\\":false,\\\"mode\\\":\\\"markers+lines\\\",\\\"line\\\":{\\\"color\\\":\\\"red\\\",\\\"width\\\":1},\\\"locations\\\":[\\\"HRV\\\",\\\"RUS\\\"],\\\"hovertext\\\":[\\\"Croatia\\\",\\\"Russia\\\"],\\\"type\\\":\\\"scattergeo\\\",\\\"name\\\":\\\"\\\",\\\"marker\\\":{\\\"color\\\":\\\"blue\\\",\\\"size\\\":8}},{\\\"showlegend\\\":false,\\\"mode\\\":\\\"markers+lines\\\",\\\"line\\\":{\\\"color\\\":\\\"red\\\",\\\"width\\\":1},\\\"locations\\\":[\\\"DZA\\\",\\\"USA\\\"],\\\"hovertext\\\":[\\\"Algeria\\\",\\\"United States of America\\\"],\\\"type\\\":\\\"scattergeo\\\",\\\"name\\\":\\\"\\\",\\\"marker\\\":{\\\"color\\\":\\\"blue\\\",\\\"size\\\":8}},{\\\"showlegend\\\":false,\\\"mode\\\":\\\"markers+lines\\\",\\\"line\\\":{\\\"color\\\":\\\"red\\\",\\\"width\\\":1},\\\"locations\\\":[\\\"ECU\\\",\\\"GBR\\\"],\\\"hovertext\\\":[\\\"Ecuador\\\",\\\"United Kingdom\\\"],\\\"type\\\":\\\"scattergeo\\\",\\\"name\\\":\\\"\\\",\\\"marker\\\":{\\\"color\\\":\\\"blue\\\",\\\"size\\\":8}},{\\\"showlegend\\\":false,\\\"mode\\\":\\\"markers+lines\\\",\\\"line\\\":{\\\"color\\\":\\\"red\\\",\\\"width\\\":1},\\\"locations\\\":[\\\"IMN\\\",\\\"GBR\\\"],\\\"hovertext\\\":[\\\"Isle of Man\\\",\\\"United Kingdom\\\"],\\\"type\\\":\\\"scattergeo\\\",\\\"name\\\":\\\"\\\",\\\"marker\\\":{\\\"color\\\":\\\"blue\\\",\\\"size\\\":8}},{\\\"showlegend\\\":false,\\\"mode\\\":\\\"markers+lines\\\",\\\"line\\\":{\\\"color\\\":\\\"red\\\",\\\"width\\\":1},\\\"locations\\\":[\\\"BLR\\\",\\\"USA\\\"],\\\"hovertext\\\":[\\\"Belarus\\\",\\\"United States of America\\\"],\\\"type\\\":\\\"scattergeo\\\",\\\"name\\\":\\\"\\\",\\\"marker\\\":{\\\"color\\\":\\\"blue\\\",\\\"size\\\":8}},{\\\"showlegend\\\":false,\\\"mode\\\":\\\"markers+lines\\\",\\\"line\\\":{\\\"color\\\":\\\"red\\\",\\\"width\\\":1},\\\"locations\\\":[\\\"BLR\\\",\\\"GBR\\\"],\\\"hovertext\\\":[\\\"Belarus\\\",\\\"United Kingdom\\\"],\\\"type\\\":\\\"scattergeo\\\",\\\"name\\\":\\\"\\\",\\\"marker\\\":{\\\"color\\\":\\\"blue\\\",\\\"size\\\":8}},{\\\"showlegend\\\":false,\\\"mode\\\":\\\"markers+lines\\\",\\\"line\\\":{\\\"color\\\":\\\"red\\\",\\\"width\\\":1},\\\"locations\\\":[\\\"ZWE\\\",\\\"USA\\\"],\\\"hovertext\\\":[\\\"Zimbabwe\\\",\\\"United States of America\\\"],\\\"type\\\":\\\"scattergeo\\\",\\\"name\\\":\\\"\\\",\\\"marker\\\":{\\\"color\\\":\\\"blue\\\",\\\"size\\\":8}},{\\\"showlegend\\\":false,\\\"mode\\\":\\\"markers+lines\\\",\\\"line\\\":{\\\"color\\\":\\\"red\\\",\\\"width\\\":1},\\\"locations\\\":[\\\"ZWE\\\",\\\"RUS\\\"],\\\"hovertext\\\":[\\\"Zimbabwe\\\",\\\"Russia\\\"],\\\"type\\\":\\\"scattergeo\\\",\\\"name\\\":\\\"\\\",\\\"marker\\\":{\\\"color\\\":\\\"blue\\\",\\\"size\\\":8}},{\\\"showlegend\\\":false,\\\"mode\\\":\\\"markers+lines\\\",\\\"line\\\":{\\\"color\\\":\\\"red\\\",\\\"width\\\":1},\\\"locations\\\":[\\\"ZWE\\\",\\\"GBR\\\"],\\\"hovertext\\\":[\\\"Zimbabwe\\\",\\\"United Kingdom\\\"],\\\"type\\\":\\\"scattergeo\\\",\\\"name\\\":\\\"\\\",\\\"marker\\\":{\\\"color\\\":\\\"blue\\\",\\\"size\\\":8}},{\\\"showlegend\\\":false,\\\"mode\\\":\\\"markers+lines\\\",\\\"line\\\":{\\\"color\\\":\\\"red\\\",\\\"width\\\":1},\\\"locations\\\":[\\\"MWI\\\",\\\"RUS\\\"],\\\"hovertext\\\":[\\\"Malawi\\\",\\\"Russia\\\"],\\\"type\\\":\\\"scattergeo\\\",\\\"name\\\":\\\"\\\",\\\"marker\\\":{\\\"color\\\":\\\"blue\\\",\\\"size\\\":8}}],{\\\"showlegend\\\":false,\\\"modebar\\\":{\\\"remove\\\":[\\\"zoomOutGeo\\\"]},\\\"template\\\":{\\\"layout\\\":{\\\"coloraxis\\\":{\\\"colorbar\\\":{\\\"ticks\\\":\\\"\\\",\\\"outlinewidth\\\":0}},\\\"xaxis\\\":{\\\"gridcolor\\\":\\\"white\\\",\\\"zerolinewidth\\\":2,\\\"title\\\":{\\\"standoff\\\":15},\\\"ticks\\\":\\\"\\\",\\\"zerolinecolor\\\":\\\"white\\\",\\\"automargin\\\":true,\\\"linecolor\\\":\\\"white\\\"},\\\"hovermode\\\":\\\"closest\\\",\\\"paper_bgcolor\\\":\\\"white\\\",\\\"geo\\\":{\\\"showlakes\\\":true,\\\"showland\\\":true,\\\"landcolor\\\":\\\"#E5ECF6\\\",\\\"bgcolor\\\":\\\"white\\\",\\\"subunitcolor\\\":\\\"white\\\",\\\"lakecolor\\\":\\\"white\\\"},\\\"colorscale\\\":{\\\"sequential\\\":[[0.0,\\\"#0d0887\\\"],[0.1111111111111111,\\\"#46039f\\\"],[0.2222222222222222,\\\"#7201a8\\\"],[0.3333333333333333,\\\"#9c179e\\\"],[0.4444444444444444,\\\"#bd3786\\\"],[0.5555555555555556,\\\"#d8576b\\\"],[0.6666666666666666,\\\"#ed7953\\\"],[0.7777777777777778,\\\"#fb9f3a\\\"],[0.8888888888888888,\\\"#fdca26\\\"],[1.0,\\\"#f0f921\\\"]],\\\"diverging\\\":[[0,\\\"#8e0152\\\"],[0.1,\\\"#c51b7d\\\"],[0.2,\\\"#de77ae\\\"],[0.3,\\\"#f1b6da\\\"],[0.4,\\\"#fde0ef\\\"],[0.5,\\\"#f7f7f7\\\"],[0.6,\\\"#e6f5d0\\\"],[0.7,\\\"#b8e186\\\"],[0.8,\\\"#7fbc41\\\"],[0.9,\\\"#4d9221\\\"],[1,\\\"#276419\\\"]],\\\"sequentialminus\\\":[[0.0,\\\"#0d0887\\\"],[0.1111111111111111,\\\"#46039f\\\"],[0.2222222222222222,\\\"#7201a8\\\"],[0.3333333333333333,\\\"#9c179e\\\"],[0.4444444444444444,\\\"#bd3786\\\"],[0.5555555555555556,\\\"#d8576b\\\"],[0.6666666666666666,\\\"#ed7953\\\"],[0.7777777777777778,\\\"#fb9f3a\\\"],[0.8888888888888888,\\\"#fdca26\\\"],[1.0,\\\"#f0f921\\\"]]},\\\"yaxis\\\":{\\\"gridcolor\\\":\\\"white\\\",\\\"zerolinewidth\\\":2,\\\"title\\\":{\\\"standoff\\\":15},\\\"ticks\\\":\\\"\\\",\\\"zerolinecolor\\\":\\\"white\\\",\\\"automargin\\\":true,\\\"linecolor\\\":\\\"white\\\"},\\\"shapedefaults\\\":{\\\"line\\\":{\\\"color\\\":\\\"#2a3f5f\\\"}},\\\"hoverlabel\\\":{\\\"align\\\":\\\"left\\\"},\\\"mapbox\\\":{\\\"style\\\":\\\"light\\\"},\\\"polar\\\":{\\\"angularaxis\\\":{\\\"gridcolor\\\":\\\"white\\\",\\\"ticks\\\":\\\"\\\",\\\"linecolor\\\":\\\"white\\\"},\\\"bgcolor\\\":\\\"#E5ECF6\\\",\\\"radialaxis\\\":{\\\"gridcolor\\\":\\\"white\\\",\\\"ticks\\\":\\\"\\\",\\\"linecolor\\\":\\\"white\\\"}},\\\"autotypenumbers\\\":\\\"strict\\\",\\\"font\\\":{\\\"color\\\":\\\"#2a3f5f\\\"},\\\"ternary\\\":{\\\"baxis\\\":{\\\"gridcolor\\\":\\\"white\\\",\\\"ticks\\\":\\\"\\\",\\\"linecolor\\\":\\\"white\\\"},\\\"bgcolor\\\":\\\"#E5ECF6\\\",\\\"caxis\\\":{\\\"gridcolor\\\":\\\"white\\\",\\\"ticks\\\":\\\"\\\",\\\"linecolor\\\":\\\"white\\\"},\\\"aaxis\\\":{\\\"gridcolor\\\":\\\"white\\\",\\\"ticks\\\":\\\"\\\",\\\"linecolor\\\":\\\"white\\\"}},\\\"annotationdefaults\\\":{\\\"arrowhead\\\":0,\\\"arrowwidth\\\":1,\\\"arrowcolor\\\":\\\"#2a3f5f\\\"},\\\"plot_bgcolor\\\":\\\"#E5ECF6\\\",\\\"title\\\":{\\\"x\\\":0.05},\\\"scene\\\":{\\\"xaxis\\\":{\\\"gridcolor\\\":\\\"white\\\",\\\"gridwidth\\\":2,\\\"backgroundcolor\\\":\\\"#E5ECF6\\\",\\\"ticks\\\":\\\"\\\",\\\"showbackground\\\":true,\\\"zerolinecolor\\\":\\\"white\\\",\\\"linecolor\\\":\\\"white\\\"},\\\"zaxis\\\":{\\\"gridcolor\\\":\\\"white\\\",\\\"gridwidth\\\":2,\\\"backgroundcolor\\\":\\\"#E5ECF6\\\",\\\"ticks\\\":\\\"\\\",\\\"showbackground\\\":true,\\\"zerolinecolor\\\":\\\"white\\\",\\\"linecolor\\\":\\\"white\\\"},\\\"yaxis\\\":{\\\"gridcolor\\\":\\\"white\\\",\\\"gridwidth\\\":2,\\\"backgroundcolor\\\":\\\"#E5ECF6\\\",\\\"ticks\\\":\\\"\\\",\\\"showbackground\\\":true,\\\"zerolinecolor\\\":\\\"white\\\",\\\"linecolor\\\":\\\"white\\\"}},\\\"colorway\\\":[\\\"#636efa\\\",\\\"#EF553B\\\",\\\"#00cc96\\\",\\\"#ab63fa\\\",\\\"#FFA15A\\\",\\\"#19d3f3\\\",\\\"#FF6692\\\",\\\"#B6E880\\\",\\\"#FF97FF\\\",\\\"#FECB52\\\"]},\\\"data\\\":{\\\"barpolar\\\":[{\\\"type\\\":\\\"barpolar\\\",\\\"marker\\\":{\\\"line\\\":{\\\"color\\\":\\\"#E5ECF6\\\",\\\"width\\\":0.5}}}],\\\"carpet\\\":[{\\\"aaxis\\\":{\\\"gridcolor\\\":\\\"white\\\",\\\"endlinecolor\\\":\\\"#2a3f5f\\\",\\\"minorgridcolor\\\":\\\"white\\\",\\\"startlinecolor\\\":\\\"#2a3f5f\\\",\\\"linecolor\\\":\\\"white\\\"},\\\"type\\\":\\\"carpet\\\",\\\"baxis\\\":{\\\"gridcolor\\\":\\\"white\\\",\\\"endlinecolor\\\":\\\"#2a3f5f\\\",\\\"minorgridcolor\\\":\\\"white\\\",\\\"startlinecolor\\\":\\\"#2a3f5f\\\",\\\"linecolor\\\":\\\"white\\\"}}],\\\"scatterpolar\\\":[{\\\"type\\\":\\\"scatterpolar\\\",\\\"marker\\\":{\\\"colorbar\\\":{\\\"ticks\\\":\\\"\\\",\\\"outlinewidth\\\":0}}}],\\\"parcoords\\\":[{\\\"line\\\":{\\\"colorbar\\\":{\\\"ticks\\\":\\\"\\\",\\\"outlinewidth\\\":0}},\\\"type\\\":\\\"parcoords\\\"}],\\\"scatter\\\":[{\\\"type\\\":\\\"scatter\\\",\\\"marker\\\":{\\\"colorbar\\\":{\\\"ticks\\\":\\\"\\\",\\\"outlinewidth\\\":0}}}],\\\"histogram2dcontour\\\":[{\\\"colorbar\\\":{\\\"ticks\\\":\\\"\\\",\\\"outlinewidth\\\":0},\\\"type\\\":\\\"histogram2dcontour\\\",\\\"colorscale\\\":[[0.0,\\\"#0d0887\\\"],[0.1111111111111111,\\\"#46039f\\\"],[0.2222222222222222,\\\"#7201a8\\\"],[0.3333333333333333,\\\"#9c179e\\\"],[0.4444444444444444,\\\"#bd3786\\\"],[0.5555555555555556,\\\"#d8576b\\\"],[0.6666666666666666,\\\"#ed7953\\\"],[0.7777777777777778,\\\"#fb9f3a\\\"],[0.8888888888888888,\\\"#fdca26\\\"],[1.0,\\\"#f0f921\\\"]]}],\\\"contour\\\":[{\\\"colorbar\\\":{\\\"ticks\\\":\\\"\\\",\\\"outlinewidth\\\":0},\\\"type\\\":\\\"contour\\\",\\\"colorscale\\\":[[0.0,\\\"#0d0887\\\"],[0.1111111111111111,\\\"#46039f\\\"],[0.2222222222222222,\\\"#7201a8\\\"],[0.3333333333333333,\\\"#9c179e\\\"],[0.4444444444444444,\\\"#bd3786\\\"],[0.5555555555555556,\\\"#d8576b\\\"],[0.6666666666666666,\\\"#ed7953\\\"],[0.7777777777777778,\\\"#fb9f3a\\\"],[0.8888888888888888,\\\"#fdca26\\\"],[1.0,\\\"#f0f921\\\"]]}],\\\"scattercarpet\\\":[{\\\"type\\\":\\\"scattercarpet\\\",\\\"marker\\\":{\\\"colorbar\\\":{\\\"ticks\\\":\\\"\\\",\\\"outlinewidth\\\":0}}}],\\\"mesh3d\\\":[{\\\"colorbar\\\":{\\\"ticks\\\":\\\"\\\",\\\"outlinewidth\\\":0},\\\"type\\\":\\\"mesh3d\\\"}],\\\"surface\\\":[{\\\"colorbar\\\":{\\\"ticks\\\":\\\"\\\",\\\"outlinewidth\\\":0},\\\"type\\\":\\\"surface\\\",\\\"colorscale\\\":[[0.0,\\\"#0d0887\\\"],[0.1111111111111111,\\\"#46039f\\\"],[0.2222222222222222,\\\"#7201a8\\\"],[0.3333333333333333,\\\"#9c179e\\\"],[0.4444444444444444,\\\"#bd3786\\\"],[0.5555555555555556,\\\"#d8576b\\\"],[0.6666666666666666,\\\"#ed7953\\\"],[0.7777777777777778,\\\"#fb9f3a\\\"],[0.8888888888888888,\\\"#fdca26\\\"],[1.0,\\\"#f0f921\\\"]]}],\\\"scattermapbox\\\":[{\\\"type\\\":\\\"scattermapbox\\\",\\\"marker\\\":{\\\"colorbar\\\":{\\\"ticks\\\":\\\"\\\",\\\"outlinewidth\\\":0}}}],\\\"scattergeo\\\":[{\\\"type\\\":\\\"scattergeo\\\",\\\"marker\\\":{\\\"colorbar\\\":{\\\"ticks\\\":\\\"\\\",\\\"outlinewidth\\\":0}}}],\\\"histogram\\\":[{\\\"type\\\":\\\"histogram\\\",\\\"marker\\\":{\\\"colorbar\\\":{\\\"ticks\\\":\\\"\\\",\\\"outlinewidth\\\":0}}}],\\\"pie\\\":[{\\\"type\\\":\\\"pie\\\",\\\"automargin\\\":true}],\\\"choropleth\\\":[{\\\"colorbar\\\":{\\\"ticks\\\":\\\"\\\",\\\"outlinewidth\\\":0},\\\"type\\\":\\\"choropleth\\\"}],\\\"heatmapgl\\\":[{\\\"colorbar\\\":{\\\"ticks\\\":\\\"\\\",\\\"outlinewidth\\\":0},\\\"type\\\":\\\"heatmapgl\\\",\\\"colorscale\\\":[[0.0,\\\"#0d0887\\\"],[0.1111111111111111,\\\"#46039f\\\"],[0.2222222222222222,\\\"#7201a8\\\"],[0.3333333333333333,\\\"#9c179e\\\"],[0.4444444444444444,\\\"#bd3786\\\"],[0.5555555555555556,\\\"#d8576b\\\"],[0.6666666666666666,\\\"#ed7953\\\"],[0.7777777777777778,\\\"#fb9f3a\\\"],[0.8888888888888888,\\\"#fdca26\\\"],[1.0,\\\"#f0f921\\\"]]}],\\\"bar\\\":[{\\\"type\\\":\\\"bar\\\",\\\"error_y\\\":{\\\"color\\\":\\\"#2a3f5f\\\"},\\\"error_x\\\":{\\\"color\\\":\\\"#2a3f5f\\\"},\\\"marker\\\":{\\\"line\\\":{\\\"color\\\":\\\"#E5ECF6\\\",\\\"width\\\":0.5}}}],\\\"heatmap\\\":[{\\\"colorbar\\\":{\\\"ticks\\\":\\\"\\\",\\\"outlinewidth\\\":0},\\\"type\\\":\\\"heatmap\\\",\\\"colorscale\\\":[[0.0,\\\"#0d0887\\\"],[0.1111111111111111,\\\"#46039f\\\"],[0.2222222222222222,\\\"#7201a8\\\"],[0.3333333333333333,\\\"#9c179e\\\"],[0.4444444444444444,\\\"#bd3786\\\"],[0.5555555555555556,\\\"#d8576b\\\"],[0.6666666666666666,\\\"#ed7953\\\"],[0.7777777777777778,\\\"#fb9f3a\\\"],[0.8888888888888888,\\\"#fdca26\\\"],[1.0,\\\"#f0f921\\\"]]}],\\\"contourcarpet\\\":[{\\\"colorbar\\\":{\\\"ticks\\\":\\\"\\\",\\\"outlinewidth\\\":0},\\\"type\\\":\\\"contourcarpet\\\"}],\\\"table\\\":[{\\\"type\\\":\\\"table\\\",\\\"header\\\":{\\\"line\\\":{\\\"color\\\":\\\"white\\\"},\\\"fill\\\":{\\\"color\\\":\\\"#C8D4E3\\\"}},\\\"cells\\\":{\\\"line\\\":{\\\"color\\\":\\\"white\\\"},\\\"fill\\\":{\\\"color\\\":\\\"#EBF0F8\\\"}}}],\\\"scatter3d\\\":[{\\\"line\\\":{\\\"colorbar\\\":{\\\"ticks\\\":\\\"\\\",\\\"outlinewidth\\\":0}},\\\"type\\\":\\\"scatter3d\\\",\\\"marker\\\":{\\\"colorbar\\\":{\\\"ticks\\\":\\\"\\\",\\\"outlinewidth\\\":0}}}],\\\"scattergl\\\":[{\\\"type\\\":\\\"scattergl\\\",\\\"marker\\\":{\\\"colorbar\\\":{\\\"ticks\\\":\\\"\\\",\\\"outlinewidth\\\":0}}}],\\\"histogram2d\\\":[{\\\"colorbar\\\":{\\\"ticks\\\":\\\"\\\",\\\"outlinewidth\\\":0},\\\"type\\\":\\\"histogram2d\\\",\\\"colorscale\\\":[[0.0,\\\"#0d0887\\\"],[0.1111111111111111,\\\"#46039f\\\"],[0.2222222222222222,\\\"#7201a8\\\"],[0.3333333333333333,\\\"#9c179e\\\"],[0.4444444444444444,\\\"#bd3786\\\"],[0.5555555555555556,\\\"#d8576b\\\"],[0.6666666666666666,\\\"#ed7953\\\"],[0.7777777777777778,\\\"#fb9f3a\\\"],[0.8888888888888888,\\\"#fdca26\\\"],[1.0,\\\"#f0f921\\\"]]}],\\\"scatterternary\\\":[{\\\"type\\\":\\\"scatterternary\\\",\\\"marker\\\":{\\\"colorbar\\\":{\\\"ticks\\\":\\\"\\\",\\\"outlinewidth\\\":0}}}],\\\"scatterpolargl\\\":[{\\\"type\\\":\\\"scatterpolargl\\\",\\\"marker\\\":{\\\"colorbar\\\":{\\\"ticks\\\":\\\"\\\",\\\"outlinewidth\\\":0}}}]}},\\\"geo\\\":{\\\"countrywidth\\\":0.5,\\\"showland\\\":true,\\\"showcountries\\\":true,\\\"showocean\\\":true,\\\"projection\\\":{\\\"type\\\":\\\"natural earth\\\"},\\\"lonaxis\\\":{\\\"showgrid\\\":true,\\\"gridcolor\\\":\\\"rgb(102, 102, 102)\\\",\\\"gridwidth\\\":0.5},\\\"lataxis\\\":{\\\"showgrid\\\":true,\\\"gridcolor\\\":\\\"rgb(102, 102, 102)\\\",\\\"gridwidth\\\":0.5}},\\\"margin\\\":{\\\"l\\\":50,\\\"b\\\":50,\\\"r\\\":50,\\\"t\\\":60},\\\"dragmode\\\":\\\"pan\\\"},{\\\"showLink\\\":false,\\\"editable\\\":false,\\\"responsive\\\":true,\\\"staticPlot\\\":false,\\\"scrollZoom\\\":true}); gd.on(\\\"plotly_hover\\\",(function (data){var filtered_data=WebIO.PlotlyCommands.filterEventData(gd,data,\\\"hover\\\"); return !(filtered_data.isnil) ? (WebIO.setval({\\\"name\\\":\\\"hover\\\",\\\"scope\\\":\\\"2772434228597023652\\\",\\\"id\\\":\\\"4987526254749498567\\\",\\\"type\\\":\\\"observable\\\"},filtered_data.out)) : undefined})); gd.on(\\\"plotly_unhover\\\",(function (){return WebIO.setval({\\\"name\\\":\\\"hover\\\",\\\"scope\\\":\\\"2772434228597023652\\\",\\\"id\\\":\\\"4987526254749498567\\\",\\\"type\\\":\\\"observable\\\"},{})})); gd.on(\\\"plotly_selected\\\",(function (data){var filtered_data=WebIO.PlotlyCommands.filterEventData(gd,data,\\\"selected\\\"); return !(filtered_data.isnil) ? (WebIO.setval({\\\"name\\\":\\\"selected\\\",\\\"scope\\\":\\\"2772434228597023652\\\",\\\"id\\\":\\\"1823145931863948093\\\",\\\"type\\\":\\\"observable\\\"},filtered_data.out)) : undefined})); gd.on(\\\"plotly_deselect\\\",(function (){return WebIO.setval({\\\"name\\\":\\\"selected\\\",\\\"scope\\\":\\\"2772434228597023652\\\",\\\"id\\\":\\\"1823145931863948093\\\",\\\"type\\\":\\\"observable\\\"},{})})); gd.on(\\\"plotly_relayout\\\",(function (data){var filtered_data=WebIO.PlotlyCommands.filterEventData(gd,data,\\\"relayout\\\"); return !(filtered_data.isnil) ? (WebIO.setval({\\\"name\\\":\\\"relayout\\\",\\\"scope\\\":\\\"2772434228597023652\\\",\\\"id\\\":\\\"10692773428284458621\\\",\\\"type\\\":\\\"observable\\\"},filtered_data.out)) : undefined})); return gd.on(\\\"plotly_click\\\",(function (data){var filtered_data=WebIO.PlotlyCommands.filterEventData(gd,data,\\\"click\\\"); return !(filtered_data.isnil) ? (WebIO.setval({\\\"name\\\":\\\"click\\\",\\\"scope\\\":\\\"2772434228597023652\\\",\\\"id\\\":\\\"14869455916000778260\\\",\\\"type\\\":\\\"observable\\\"},filtered_data.out)) : undefined}))}));\\n    (WebIO.importBlock({\\\"data\\\":[{\\\"name\\\":\\\"Plotly\\\",\\\"type\\\":\\\"js\\\",\\\"url\\\":\\\"\\/assetserver\\/bda7806b127bf51b9e2b8530371cec1e797b422f-plotly.min.js\\\"},{\\\"name\\\":null,\\\"type\\\":\\\"js\\\",\\\"url\\\":\\\"\\/assetserver\\/3674cc0bcda0672a356c8b6d28b7709d8f57f175-plotly_webio.bundle.js\\\"}],\\\"type\\\":\\\"async_block\\\"})).then((imports) => handler.apply(this, imports));\\n}\\n\"],\"observables\":{\"_toImage\":{\"sync\":false,\"id\":\"5284232121932808695\",\"value\":{}},\"hover\":{\"sync\":false,\"id\":\"4987526254749498567\",\"value\":{}},\"selected\":{\"sync\":false,\"id\":\"1823145931863948093\",\"value\":{}},\"__gd_contents\":{\"sync\":false,\"id\":\"10297606292640478504\",\"value\":{}},\"click\":{\"sync\":false,\"id\":\"14869455916000778260\",\"value\":{}},\"image\":{\"sync\":true,\"id\":\"14517101544811725918\",\"value\":\"\"},\"__get_gd_contents\":{\"sync\":false,\"id\":\"14199957163060334101\",\"value\":\"\"},\"_downloadImage\":{\"sync\":false,\"id\":\"4597180561347426225\",\"value\":{}},\"relayout\":{\"sync\":false,\"id\":\"10692773428284458621\",\"value\":{}},\"_commands\":{\"sync\":false,\"id\":\"293765816439023076\",\"value\":[]}}},\"children\":[{\"props\":{\"id\":\"plot-40a223ac-df4b-41c4-9c5d-54e7781d89c7\"},\"nodeType\":\"DOM\",\"type\":\"node\",\"instanceArgs\":{\"namespace\":\"html\",\"tag\":\"div\"},\"children\":[]}]},\n",
       "        window,\n",
       "    );\n",
       "    })()\n",
       "    </script>\n",
       "</div>\n"
      ],
      "text/plain": [
       "data: [\n",
       "  \"scattergeo with fields hovertext, line, locations, marker, mode, name, showlegend, and type\",\n",
       "  \"scattergeo with fields hovertext, line, locations, marker, mode, name, showlegend, and type\",\n",
       "  \"scattergeo with fields hovertext, line, locations, marker, mode, name, showlegend, and type\",\n",
       "  \"scattergeo with fields hovertext, line, locations, marker, mode, name, showlegend, and type\",\n",
       "  \"scattergeo with fields hovertext, line, locations, marker, mode, name, showlegend, and type\",\n",
       "  \"scattergeo with fields hovertext, line, locations, marker, mode, name, showlegend, and type\",\n",
       "  \"scattergeo with fields hovertext, line, locations, marker, mode, name, showlegend, and type\",\n",
       "  \"scattergeo with fields hovertext, line, locations, marker, mode, name, showlegend, and type\",\n",
       "  \"scattergeo with fields hovertext, line, locations, marker, mode, name, showlegend, and type\",\n",
       "  \"scattergeo with fields hovertext, line, locations, marker, mode, name, showlegend, and type\",\n",
       "  \"scattergeo with fields hovertext, line, locations, marker, mode, name, showlegend, and type\",\n",
       "  \"scattergeo with fields hovertext, line, locations, marker, mode, name, showlegend, and type\",\n",
       "  \"scattergeo with fields hovertext, line, locations, marker, mode, name, showlegend, and type\",\n",
       "  \"scattergeo with fields hovertext, line, locations, marker, mode, name, showlegend, and type\",\n",
       "  \"scattergeo with fields hovertext, line, locations, marker, mode, name, showlegend, and type\",\n",
       "  \"scattergeo with fields hovertext, line, locations, marker, mode, name, showlegend, and type\",\n",
       "  \"scattergeo with fields hovertext, line, locations, marker, mode, name, showlegend, and type\",\n",
       "  \"scattergeo with fields hovertext, line, locations, marker, mode, name, showlegend, and type\",\n",
       "  \"scattergeo with fields hovertext, line, locations, marker, mode, name, showlegend, and type\",\n",
       "  \"scattergeo with fields hovertext, line, locations, marker, mode, name, showlegend, and type\",\n",
       "  \"scattergeo with fields hovertext, line, locations, marker, mode, name, showlegend, and type\",\n",
       "  \"scattergeo with fields hovertext, line, locations, marker, mode, name, showlegend, and type\",\n",
       "  \"scattergeo with fields hovertext, line, locations, marker, mode, name, showlegend, and type\",\n",
       "  \"scattergeo with fields hovertext, line, locations, marker, mode, name, showlegend, and type\",\n",
       "  \"scattergeo with fields hovertext, line, locations, marker, mode, name, showlegend, and type\",\n",
       "  \"scattergeo with fields hovertext, line, locations, marker, mode, name, showlegend, and type\",\n",
       "  \"scattergeo with fields hovertext, line, locations, marker, mode, name, showlegend, and type\",\n",
       "  \"scattergeo with fields hovertext, line, locations, marker, mode, name, showlegend, and type\",\n",
       "  \"scattergeo with fields hovertext, line, locations, marker, mode, name, showlegend, and type\",\n",
       "  \"scattergeo with fields hovertext, line, locations, marker, mode, name, showlegend, and type\",\n",
       "  \"scattergeo with fields hovertext, line, locations, marker, mode, name, showlegend, and type\",\n",
       "  \"scattergeo with fields hovertext, line, locations, marker, mode, name, showlegend, and type\",\n",
       "  \"scattergeo with fields hovertext, line, locations, marker, mode, name, showlegend, and type\",\n",
       "  \"scattergeo with fields hovertext, line, locations, marker, mode, name, showlegend, and type\",\n",
       "  \"scattergeo with fields hovertext, line, locations, marker, mode, name, showlegend, and type\",\n",
       "  \"scattergeo with fields hovertext, line, locations, marker, mode, name, showlegend, and type\",\n",
       "  \"scattergeo with fields hovertext, line, locations, marker, mode, name, showlegend, and type\",\n",
       "  \"scattergeo with fields hovertext, line, locations, marker, mode, name, showlegend, and type\",\n",
       "  \"scattergeo with fields hovertext, line, locations, marker, mode, name, showlegend, and type\",\n",
       "  \"scattergeo with fields hovertext, line, locations, marker, mode, name, showlegend, and type\",\n",
       "  \"scattergeo with fields hovertext, line, locations, marker, mode, name, showlegend, and type\",\n",
       "  \"scattergeo with fields hovertext, line, locations, marker, mode, name, showlegend, and type\",\n",
       "  \"scattergeo with fields hovertext, line, locations, marker, mode, name, showlegend, and type\",\n",
       "  \"scattergeo with fields hovertext, line, locations, marker, mode, name, showlegend, and type\",\n",
       "  \"scattergeo with fields hovertext, line, locations, marker, mode, name, showlegend, and type\",\n",
       "  \"scattergeo with fields hovertext, line, locations, marker, mode, name, showlegend, and type\",\n",
       "  \"scattergeo with fields hovertext, line, locations, marker, mode, name, showlegend, and type\",\n",
       "  \"scattergeo with fields hovertext, line, locations, marker, mode, name, showlegend, and type\",\n",
       "  \"scattergeo with fields hovertext, line, locations, marker, mode, name, showlegend, and type\",\n",
       "  \"scattergeo with fields hovertext, line, locations, marker, mode, name, showlegend, and type\",\n",
       "  \"scattergeo with fields hovertext, line, locations, marker, mode, name, showlegend, and type\",\n",
       "  \"scattergeo with fields hovertext, line, locations, marker, mode, name, showlegend, and type\",\n",
       "  \"scattergeo with fields hovertext, line, locations, marker, mode, name, showlegend, and type\",\n",
       "  \"scattergeo with fields hovertext, line, locations, marker, mode, name, showlegend, and type\",\n",
       "  \"scattergeo with fields hovertext, line, locations, marker, mode, name, showlegend, and type\",\n",
       "  \"scattergeo with fields hovertext, line, locations, marker, mode, name, showlegend, and type\",\n",
       "  \"scattergeo with fields hovertext, line, locations, marker, mode, name, showlegend, and type\",\n",
       "  \"scattergeo with fields hovertext, line, locations, marker, mode, name, showlegend, and type\",\n",
       "  \"scattergeo with fields hovertext, line, locations, marker, mode, name, showlegend, and type\",\n",
       "  \"scattergeo with fields hovertext, line, locations, marker, mode, name, showlegend, and type\",\n",
       "  \"scattergeo with fields hovertext, line, locations, marker, mode, name, showlegend, and type\",\n",
       "  \"scattergeo with fields hovertext, line, locations, marker, mode, name, showlegend, and type\",\n",
       "  \"scattergeo with fields hovertext, line, locations, marker, mode, name, showlegend, and type\",\n",
       "  \"scattergeo with fields hovertext, line, locations, marker, mode, name, showlegend, and type\",\n",
       "  \"scattergeo with fields hovertext, line, locations, marker, mode, name, showlegend, and type\",\n",
       "  \"scattergeo with fields hovertext, line, locations, marker, mode, name, showlegend, and type\",\n",
       "  \"scattergeo with fields hovertext, line, locations, marker, mode, name, showlegend, and type\",\n",
       "  \"scattergeo with fields hovertext, line, locations, marker, mode, name, showlegend, and type\",\n",
       "  \"scattergeo with fields hovertext, line, locations, marker, mode, name, showlegend, and type\",\n",
       "  \"scattergeo with fields hovertext, line, locations, marker, mode, name, showlegend, and type\",\n",
       "  \"scattergeo with fields hovertext, line, locations, marker, mode, name, showlegend, and type\",\n",
       "  \"scattergeo with fields hovertext, line, locations, marker, mode, name, showlegend, and type\",\n",
       "  \"scattergeo with fields hovertext, line, locations, marker, mode, name, showlegend, and type\",\n",
       "  \"scattergeo with fields hovertext, line, locations, marker, mode, name, showlegend, and type\",\n",
       "  \"scattergeo with fields hovertext, line, locations, marker, mode, name, showlegend, and type\",\n",
       "  \"scattergeo with fields hovertext, line, locations, marker, mode, name, showlegend, and type\",\n",
       "  \"scattergeo with fields hovertext, line, locations, marker, mode, name, showlegend, and type\",\n",
       "  \"scattergeo with fields hovertext, line, locations, marker, mode, name, showlegend, and type\",\n",
       "  \"scattergeo with fields hovertext, line, locations, marker, mode, name, showlegend, and type\",\n",
       "  \"scattergeo with fields hovertext, line, locations, marker, mode, name, showlegend, and type\",\n",
       "  \"scattergeo with fields hovertext, line, locations, marker, mode, name, showlegend, and type\",\n",
       "  \"scattergeo with fields hovertext, line, locations, marker, mode, name, showlegend, and type\",\n",
       "  \"scattergeo with fields hovertext, line, locations, marker, mode, name, showlegend, and type\",\n",
       "  \"scattergeo with fields hovertext, line, locations, marker, mode, name, showlegend, and type\",\n",
       "  \"scattergeo with fields hovertext, line, locations, marker, mode, name, showlegend, and type\",\n",
       "  \"scattergeo with fields hovertext, line, locations, marker, mode, name, showlegend, and type\",\n",
       "  \"scattergeo with fields hovertext, line, locations, marker, mode, name, showlegend, and type\",\n",
       "  \"scattergeo with fields hovertext, line, locations, marker, mode, name, showlegend, and type\",\n",
       "  \"scattergeo with fields hovertext, line, locations, marker, mode, name, showlegend, and type\",\n",
       "  \"scattergeo with fields hovertext, line, locations, marker, mode, name, showlegend, and type\",\n",
       "  \"scattergeo with fields hovertext, line, locations, marker, mode, name, showlegend, and type\",\n",
       "  \"scattergeo with fields hovertext, line, locations, marker, mode, name, showlegend, and type\",\n",
       "  \"scattergeo with fields hovertext, line, locations, marker, mode, name, showlegend, and type\",\n",
       "  \"scattergeo with fields hovertext, line, locations, marker, mode, name, showlegend, and type\",\n",
       "  \"scattergeo with fields hovertext, line, locations, marker, mode, name, showlegend, and type\",\n",
       "  \"scattergeo with fields hovertext, line, locations, marker, mode, name, showlegend, and type\",\n",
       "  \"scattergeo with fields hovertext, line, locations, marker, mode, name, showlegend, and type\",\n",
       "  \"scattergeo with fields hovertext, line, locations, marker, mode, name, showlegend, and type\",\n",
       "  \"scattergeo with fields hovertext, line, locations, marker, mode, name, showlegend, and type\",\n",
       "  \"scattergeo with fields hovertext, line, locations, marker, mode, name, showlegend, and type\",\n",
       "  \"scattergeo with fields hovertext, line, locations, marker, mode, name, showlegend, and type\",\n",
       "  \"scattergeo with fields hovertext, line, locations, marker, mode, name, showlegend, and type\",\n",
       "  \"scattergeo with fields hovertext, line, locations, marker, mode, name, showlegend, and type\",\n",
       "  \"scattergeo with fields hovertext, line, locations, marker, mode, name, showlegend, and type\",\n",
       "  \"scattergeo with fields hovertext, line, locations, marker, mode, name, showlegend, and type\",\n",
       "  \"scattergeo with fields hovertext, line, locations, marker, mode, name, showlegend, and type\",\n",
       "  \"scattergeo with fields hovertext, line, locations, marker, mode, name, showlegend, and type\",\n",
       "  \"scattergeo with fields hovertext, line, locations, marker, mode, name, showlegend, and type\",\n",
       "  \"scattergeo with fields hovertext, line, locations, marker, mode, name, showlegend, and type\",\n",
       "  \"scattergeo with fields hovertext, line, locations, marker, mode, name, showlegend, and type\",\n",
       "  \"scattergeo with fields hovertext, line, locations, marker, mode, name, showlegend, and type\",\n",
       "  \"scattergeo with fields hovertext, line, locations, marker, mode, name, showlegend, and type\",\n",
       "  \"scattergeo with fields hovertext, line, locations, marker, mode, name, showlegend, and type\",\n",
       "  \"scattergeo with fields hovertext, line, locations, marker, mode, name, showlegend, and type\",\n",
       "  \"scattergeo with fields hovertext, line, locations, marker, mode, name, showlegend, and type\",\n",
       "  \"scattergeo with fields hovertext, line, locations, marker, mode, name, showlegend, and type\",\n",
       "  \"scattergeo with fields hovertext, line, locations, marker, mode, name, showlegend, and type\",\n",
       "  \"scattergeo with fields hovertext, line, locations, marker, mode, name, showlegend, and type\",\n",
       "  \"scattergeo with fields hovertext, line, locations, marker, mode, name, showlegend, and type\",\n",
       "  \"scattergeo with fields hovertext, line, locations, marker, mode, name, showlegend, and type\",\n",
       "  \"scattergeo with fields hovertext, line, locations, marker, mode, name, showlegend, and type\",\n",
       "  \"scattergeo with fields hovertext, line, locations, marker, mode, name, showlegend, and type\",\n",
       "  \"scattergeo with fields hovertext, line, locations, marker, mode, name, showlegend, and type\",\n",
       "  \"scattergeo with fields hovertext, line, locations, marker, mode, name, showlegend, and type\",\n",
       "  \"scattergeo with fields hovertext, line, locations, marker, mode, name, showlegend, and type\",\n",
       "  \"scattergeo with fields hovertext, line, locations, marker, mode, name, showlegend, and type\",\n",
       "  \"scattergeo with fields hovertext, line, locations, marker, mode, name, showlegend, and type\",\n",
       "  \"scattergeo with fields hovertext, line, locations, marker, mode, name, showlegend, and type\",\n",
       "  \"scattergeo with fields hovertext, line, locations, marker, mode, name, showlegend, and type\",\n",
       "  \"scattergeo with fields hovertext, line, locations, marker, mode, name, showlegend, and type\",\n",
       "  \"scattergeo with fields hovertext, line, locations, marker, mode, name, showlegend, and type\",\n",
       "  \"scattergeo with fields hovertext, line, locations, marker, mode, name, showlegend, and type\",\n",
       "  \"scattergeo with fields hovertext, line, locations, marker, mode, name, showlegend, and type\",\n",
       "  \"scattergeo with fields hovertext, line, locations, marker, mode, name, showlegend, and type\",\n",
       "  \"scattergeo with fields hovertext, line, locations, marker, mode, name, showlegend, and type\",\n",
       "  \"scattergeo with fields hovertext, line, locations, marker, mode, name, showlegend, and type\",\n",
       "  \"scattergeo with fields hovertext, line, locations, marker, mode, name, showlegend, and type\",\n",
       "  \"scattergeo with fields hovertext, line, locations, marker, mode, name, showlegend, and type\",\n",
       "  \"scattergeo with fields hovertext, line, locations, marker, mode, name, showlegend, and type\",\n",
       "  \"scattergeo with fields hovertext, line, locations, marker, mode, name, showlegend, and type\",\n",
       "  \"scattergeo with fields hovertext, line, locations, marker, mode, name, showlegend, and type\",\n",
       "  \"scattergeo with fields hovertext, line, locations, marker, mode, name, showlegend, and type\",\n",
       "  \"scattergeo with fields hovertext, line, locations, marker, mode, name, showlegend, and type\",\n",
       "  \"scattergeo with fields hovertext, line, locations, marker, mode, name, showlegend, and type\",\n",
       "  \"scattergeo with fields hovertext, line, locations, marker, mode, name, showlegend, and type\",\n",
       "  \"scattergeo with fields hovertext, line, locations, marker, mode, name, showlegend, and type\",\n",
       "  \"scattergeo with fields hovertext, line, locations, marker, mode, name, showlegend, and type\",\n",
       "  \"scattergeo with fields hovertext, line, locations, marker, mode, name, showlegend, and type\",\n",
       "  \"scattergeo with fields hovertext, line, locations, marker, mode, name, showlegend, and type\",\n",
       "  \"scattergeo with fields hovertext, line, locations, marker, mode, name, showlegend, and type\",\n",
       "  \"scattergeo with fields hovertext, line, locations, marker, mode, name, showlegend, and type\",\n",
       "  \"scattergeo with fields hovertext, line, locations, marker, mode, name, showlegend, and type\",\n",
       "  \"scattergeo with fields hovertext, line, locations, marker, mode, name, showlegend, and type\",\n",
       "  \"scattergeo with fields hovertext, line, locations, marker, mode, name, showlegend, and type\",\n",
       "  \"scattergeo with fields hovertext, line, locations, marker, mode, name, showlegend, and type\",\n",
       "  \"scattergeo with fields hovertext, line, locations, marker, mode, name, showlegend, and type\",\n",
       "  \"scattergeo with fields hovertext, line, locations, marker, mode, name, showlegend, and type\",\n",
       "  \"scattergeo with fields hovertext, line, locations, marker, mode, name, showlegend, and type\",\n",
       "  \"scattergeo with fields hovertext, line, locations, marker, mode, name, showlegend, and type\",\n",
       "  \"scattergeo with fields hovertext, line, locations, marker, mode, name, showlegend, and type\",\n",
       "  \"scattergeo with fields hovertext, line, locations, marker, mode, name, showlegend, and type\",\n",
       "  \"scattergeo with fields hovertext, line, locations, marker, mode, name, showlegend, and type\",\n",
       "  \"scattergeo with fields hovertext, line, locations, marker, mode, name, showlegend, and type\",\n",
       "  \"scattergeo with fields hovertext, line, locations, marker, mode, name, showlegend, and type\",\n",
       "  \"scattergeo with fields hovertext, line, locations, marker, mode, name, showlegend, and type\",\n",
       "  \"scattergeo with fields hovertext, line, locations, marker, mode, name, showlegend, and type\",\n",
       "  \"scattergeo with fields hovertext, line, locations, marker, mode, name, showlegend, and type\",\n",
       "  \"scattergeo with fields hovertext, line, locations, marker, mode, name, showlegend, and type\",\n",
       "  \"scattergeo with fields hovertext, line, locations, marker, mode, name, showlegend, and type\",\n",
       "  \"scattergeo with fields hovertext, line, locations, marker, mode, name, showlegend, and type\",\n",
       "  \"scattergeo with fields hovertext, line, locations, marker, mode, name, showlegend, and type\",\n",
       "  \"scattergeo with fields hovertext, line, locations, marker, mode, name, showlegend, and type\",\n",
       "  \"scattergeo with fields hovertext, line, locations, marker, mode, name, showlegend, and type\",\n",
       "  \"scattergeo with fields hovertext, line, locations, marker, mode, name, showlegend, and type\",\n",
       "  \"scattergeo with fields hovertext, line, locations, marker, mode, name, showlegend, and type\",\n",
       "  \"scattergeo with fields hovertext, line, locations, marker, mode, name, showlegend, and type\",\n",
       "  \"scattergeo with fields hovertext, line, locations, marker, mode, name, showlegend, and type\",\n",
       "  \"scattergeo with fields hovertext, line, locations, marker, mode, name, showlegend, and type\",\n",
       "  \"scattergeo with fields hovertext, line, locations, marker, mode, name, showlegend, and type\",\n",
       "  \"scattergeo with fields hovertext, line, locations, marker, mode, name, showlegend, and type\",\n",
       "  \"scattergeo with fields hovertext, line, locations, marker, mode, name, showlegend, and type\",\n",
       "  \"scattergeo with fields hovertext, line, locations, marker, mode, name, showlegend, and type\",\n",
       "  \"scattergeo with fields hovertext, line, locations, marker, mode, name, showlegend, and type\",\n",
       "  \"scattergeo with fields hovertext, line, locations, marker, mode, name, showlegend, and type\",\n",
       "  \"scattergeo with fields hovertext, line, locations, marker, mode, name, showlegend, and type\",\n",
       "  \"scattergeo with fields hovertext, line, locations, marker, mode, name, showlegend, and type\",\n",
       "  \"scattergeo with fields hovertext, line, locations, marker, mode, name, showlegend, and type\",\n",
       "  \"scattergeo with fields hovertext, line, locations, marker, mode, name, showlegend, and type\",\n",
       "  \"scattergeo with fields hovertext, line, locations, marker, mode, name, showlegend, and type\",\n",
       "  \"scattergeo with fields hovertext, line, locations, marker, mode, name, showlegend, and type\",\n",
       "  \"scattergeo with fields hovertext, line, locations, marker, mode, name, showlegend, and type\",\n",
       "  \"scattergeo with fields hovertext, line, locations, marker, mode, name, showlegend, and type\",\n",
       "  \"scattergeo with fields hovertext, line, locations, marker, mode, name, showlegend, and type\",\n",
       "  \"scattergeo with fields hovertext, line, locations, marker, mode, name, showlegend, and type\",\n",
       "  \"scattergeo with fields hovertext, line, locations, marker, mode, name, showlegend, and type\",\n",
       "  \"scattergeo with fields hovertext, line, locations, marker, mode, name, showlegend, and type\",\n",
       "  \"scattergeo with fields hovertext, line, locations, marker, mode, name, showlegend, and type\",\n",
       "  \"scattergeo with fields hovertext, line, locations, marker, mode, name, showlegend, and type\",\n",
       "  \"scattergeo with fields hovertext, line, locations, marker, mode, name, showlegend, and type\",\n",
       "  \"scattergeo with fields hovertext, line, locations, marker, mode, name, showlegend, and type\",\n",
       "  \"scattergeo with fields hovertext, line, locations, marker, mode, name, showlegend, and type\",\n",
       "  \"scattergeo with fields hovertext, line, locations, marker, mode, name, showlegend, and type\",\n",
       "  \"scattergeo with fields hovertext, line, locations, marker, mode, name, showlegend, and type\",\n",
       "  \"scattergeo with fields hovertext, line, locations, marker, mode, name, showlegend, and type\",\n",
       "  \"scattergeo with fields hovertext, line, locations, marker, mode, name, showlegend, and type\",\n",
       "  \"scattergeo with fields hovertext, line, locations, marker, mode, name, showlegend, and type\",\n",
       "  \"scattergeo with fields hovertext, line, locations, marker, mode, name, showlegend, and type\",\n",
       "  \"scattergeo with fields hovertext, line, locations, marker, mode, name, showlegend, and type\",\n",
       "  \"scattergeo with fields hovertext, line, locations, marker, mode, name, showlegend, and type\",\n",
       "  \"scattergeo with fields hovertext, line, locations, marker, mode, name, showlegend, and type\",\n",
       "  \"scattergeo with fields hovertext, line, locations, marker, mode, name, showlegend, and type\",\n",
       "  \"scattergeo with fields hovertext, line, locations, marker, mode, name, showlegend, and type\",\n",
       "  \"scattergeo with fields hovertext, line, locations, marker, mode, name, showlegend, and type\",\n",
       "  \"scattergeo with fields hovertext, line, locations, marker, mode, name, showlegend, and type\",\n",
       "  \"scattergeo with fields hovertext, line, locations, marker, mode, name, showlegend, and type\",\n",
       "  \"scattergeo with fields hovertext, line, locations, marker, mode, name, showlegend, and type\",\n",
       "  \"scattergeo with fields hovertext, line, locations, marker, mode, name, showlegend, and type\",\n",
       "  \"scattergeo with fields hovertext, line, locations, marker, mode, name, showlegend, and type\",\n",
       "  \"scattergeo with fields hovertext, line, locations, marker, mode, name, showlegend, and type\",\n",
       "  \"scattergeo with fields hovertext, line, locations, marker, mode, name, showlegend, and type\",\n",
       "  \"scattergeo with fields hovertext, line, locations, marker, mode, name, showlegend, and type\",\n",
       "  \"scattergeo with fields hovertext, line, locations, marker, mode, name, showlegend, and type\",\n",
       "  \"scattergeo with fields hovertext, line, locations, marker, mode, name, showlegend, and type\"\n",
       "]\n",
       "\n",
       "layout: \"layout with fields dragmode, geo, margin, modebar, showlegend, and template\"\n",
       "\n"
      ]
     },
     "execution_count": 156,
     "metadata": {},
     "output_type": "execute_result"
    }
   ],
   "source": [
    "iso_codes = unique(df.actor)\n",
    "indices = indexin(iso_codes, df.actor)\n",
    "countries = df.\"Country\"[indices]\n",
    "\n",
    "for (i, e) in enumerate(edges(g))\n",
    "    trace = scattergeo(  \n",
    "\t    \tmode = \"markers+lines\",\n",
    "\t    \tlocations = [iso_codes[src(e)], iso_codes[dst(e)]],\n",
    "\t    \tmarker = attr(size = 8, color=\"blue\"),\n",
    "\t\t\tline = attr(color=\"red\", width=1),\n",
    "\t\t\tshowlegend=false,\n",
    "\t\t\tname=\"\",\n",
    "\t\t\thovertext = [countries[src(e)], countries[dst(e)]],\n",
    "\t\t\t)\n",
    "\tif i == 1\n",
    "\t\tplots = [trace]\n",
    "\telse\n",
    "    \tpush!(plots, trace)\n",
    "\tend\n",
    "end\n",
    "\n",
    "layout = Layout(\n",
    "\t#title_text = \"Contour lines over globe<br>(Click and drag to rotate)\",\n",
    "    showlegend = false,\n",
    "    geo = attr(\n",
    "        showland = true,\n",
    "        showcountries = true,\n",
    "        showocean = true,\n",
    "        countrywidth = 0.5,\n",
    "        #landcolor = \"rgb(230, 145, 56)\",\n",
    "        #lakecolor = \"rgb(0, 255, 255)\",\n",
    "        #oceancolor = \"rgb(0, 255, 255)\",\n",
    "\t\tprojection = attr(type = \"natural earth\"),\n",
    "\t\t#scope = \"africa\",\n",
    "        lonaxis = attr(\n",
    "        \tshowgrid = true,\n",
    "        \tgridcolor = \"rgb(102, 102, 102)\",\n",
    "        \tgridwidth = 0.5,\n",
    "\t\t\t#range = [0, 1]),\n",
    "\t\t),\n",
    "\t\tlataxis = attr(\n",
    "\t\t\tshowgrid = true,\n",
    "\t\t\tgridcolor = \"rgb(102, 102, 102)\",\n",
    "\t\t\tgridwidth = 0.5)\n",
    "\t),\n",
    "\tmodebar = attr(remove = [\"zoomOutGeo\"]),\n",
    "\tdragmode = \"pan\"\n",
    "\t)\n",
    "\n",
    "\t\n",
    "PlotlyJS.plot(plots, layout)"
   ]
  },
  {
   "cell_type": "code",
   "execution_count": null,
   "metadata": {},
   "outputs": [],
   "source": [
    "plot_cascade(\n",
    "\tinfluence_cascades[1][9],\n",
    "\tunique(df[!, tsg.action_col]),\n",
    "\tlength(unique(df[!, tsg.action_col])),\n",
    "\tcuttoff,\n",
    "\trange(colorant\"blue\", colorant\"red\", length(unique(df[!, tsg.action_col]))))"
   ]
  },
  {
   "cell_type": "code",
   "execution_count": null,
   "metadata": {},
   "outputs": [],
   "source": [
    "plot_cascade_sankey(influence_cascades[1][9],\n",
    "unique(df[!, tsg.action_col]),\n",
    "cuttoff)"
   ]
  },
  {
   "cell_type": "code",
   "execution_count": null,
   "metadata": {},
   "outputs": [],
   "source": [
    "actions = unique(df[!, tsg.action_col])"
   ]
  },
  {
   "cell_type": "code",
   "execution_count": null,
   "metadata": {},
   "outputs": [],
   "source": [
    "b = repeat(actions, 2)"
   ]
  },
  {
   "cell_type": "code",
   "execution_count": null,
   "metadata": {},
   "outputs": [],
   "source": [
    "nl = Vector{String}(undef, length(actions)*2)\n",
    "for i in eachindex(actions)\n",
    "    nl[i:length(actions):end] .= actions[i]\n",
    "end"
   ]
  },
  {
   "cell_type": "code",
   "execution_count": 45,
   "metadata": {},
   "outputs": [
    {
     "data": {
      "application/vnd.plotly.v1+json": {
       "config": {
        "editable": false,
        "responsive": true,
        "scrollZoom": true,
        "showLink": false,
        "staticPlot": false
       },
       "data": [
        {
         "lat": [
          46,
          42.8333
         ],
         "lon": [
          2,
          12.8333
         ],
         "marker": {
          "size": 10
         },
         "mode": "markers+lines",
         "showlegend": false,
         "type": "scattermapbox"
        },
        {
         "lat": [
          30,
          10,
          -20
         ],
         "lon": [
          -50,
          -60,
          40
         ],
         "marker": {
          "size": 10
         },
         "mode": "markers+lines",
         "showlegend": false,
         "type": "scattermapbox"
        }
       ],
       "frames": [],
       "layout": {
        "mapbox": {
         "center": {
          "lat": -20,
          "lon": -20
         },
         "style": "stamen-terrain",
         "zoom": 1
        },
        "margin": {
         "b": 0,
         "l": 0,
         "r": 0,
         "t": 0
        },
        "template": {
         "data": {
          "bar": [
           {
            "error_x": {
             "color": "#2a3f5f"
            },
            "error_y": {
             "color": "#2a3f5f"
            },
            "marker": {
             "line": {
              "color": "#E5ECF6",
              "width": 0.5
             }
            },
            "type": "bar"
           }
          ],
          "barpolar": [
           {
            "marker": {
             "line": {
              "color": "#E5ECF6",
              "width": 0.5
             }
            },
            "type": "barpolar"
           }
          ],
          "carpet": [
           {
            "aaxis": {
             "endlinecolor": "#2a3f5f",
             "gridcolor": "white",
             "linecolor": "white",
             "minorgridcolor": "white",
             "startlinecolor": "#2a3f5f"
            },
            "baxis": {
             "endlinecolor": "#2a3f5f",
             "gridcolor": "white",
             "linecolor": "white",
             "minorgridcolor": "white",
             "startlinecolor": "#2a3f5f"
            },
            "type": "carpet"
           }
          ],
          "choropleth": [
           {
            "colorbar": {
             "outlinewidth": 0,
             "ticks": ""
            },
            "type": "choropleth"
           }
          ],
          "contour": [
           {
            "colorbar": {
             "outlinewidth": 0,
             "ticks": ""
            },
            "colorscale": [
             [
              0,
              "#0d0887"
             ],
             [
              0.1111111111111111,
              "#46039f"
             ],
             [
              0.2222222222222222,
              "#7201a8"
             ],
             [
              0.3333333333333333,
              "#9c179e"
             ],
             [
              0.4444444444444444,
              "#bd3786"
             ],
             [
              0.5555555555555556,
              "#d8576b"
             ],
             [
              0.6666666666666666,
              "#ed7953"
             ],
             [
              0.7777777777777778,
              "#fb9f3a"
             ],
             [
              0.8888888888888888,
              "#fdca26"
             ],
             [
              1,
              "#f0f921"
             ]
            ],
            "type": "contour"
           }
          ],
          "contourcarpet": [
           {
            "colorbar": {
             "outlinewidth": 0,
             "ticks": ""
            },
            "type": "contourcarpet"
           }
          ],
          "heatmap": [
           {
            "colorbar": {
             "outlinewidth": 0,
             "ticks": ""
            },
            "colorscale": [
             [
              0,
              "#0d0887"
             ],
             [
              0.1111111111111111,
              "#46039f"
             ],
             [
              0.2222222222222222,
              "#7201a8"
             ],
             [
              0.3333333333333333,
              "#9c179e"
             ],
             [
              0.4444444444444444,
              "#bd3786"
             ],
             [
              0.5555555555555556,
              "#d8576b"
             ],
             [
              0.6666666666666666,
              "#ed7953"
             ],
             [
              0.7777777777777778,
              "#fb9f3a"
             ],
             [
              0.8888888888888888,
              "#fdca26"
             ],
             [
              1,
              "#f0f921"
             ]
            ],
            "type": "heatmap"
           }
          ],
          "heatmapgl": [
           {
            "colorbar": {
             "outlinewidth": 0,
             "ticks": ""
            },
            "colorscale": [
             [
              0,
              "#0d0887"
             ],
             [
              0.1111111111111111,
              "#46039f"
             ],
             [
              0.2222222222222222,
              "#7201a8"
             ],
             [
              0.3333333333333333,
              "#9c179e"
             ],
             [
              0.4444444444444444,
              "#bd3786"
             ],
             [
              0.5555555555555556,
              "#d8576b"
             ],
             [
              0.6666666666666666,
              "#ed7953"
             ],
             [
              0.7777777777777778,
              "#fb9f3a"
             ],
             [
              0.8888888888888888,
              "#fdca26"
             ],
             [
              1,
              "#f0f921"
             ]
            ],
            "type": "heatmapgl"
           }
          ],
          "histogram": [
           {
            "marker": {
             "colorbar": {
              "outlinewidth": 0,
              "ticks": ""
             }
            },
            "type": "histogram"
           }
          ],
          "histogram2d": [
           {
            "colorbar": {
             "outlinewidth": 0,
             "ticks": ""
            },
            "colorscale": [
             [
              0,
              "#0d0887"
             ],
             [
              0.1111111111111111,
              "#46039f"
             ],
             [
              0.2222222222222222,
              "#7201a8"
             ],
             [
              0.3333333333333333,
              "#9c179e"
             ],
             [
              0.4444444444444444,
              "#bd3786"
             ],
             [
              0.5555555555555556,
              "#d8576b"
             ],
             [
              0.6666666666666666,
              "#ed7953"
             ],
             [
              0.7777777777777778,
              "#fb9f3a"
             ],
             [
              0.8888888888888888,
              "#fdca26"
             ],
             [
              1,
              "#f0f921"
             ]
            ],
            "type": "histogram2d"
           }
          ],
          "histogram2dcontour": [
           {
            "colorbar": {
             "outlinewidth": 0,
             "ticks": ""
            },
            "colorscale": [
             [
              0,
              "#0d0887"
             ],
             [
              0.1111111111111111,
              "#46039f"
             ],
             [
              0.2222222222222222,
              "#7201a8"
             ],
             [
              0.3333333333333333,
              "#9c179e"
             ],
             [
              0.4444444444444444,
              "#bd3786"
             ],
             [
              0.5555555555555556,
              "#d8576b"
             ],
             [
              0.6666666666666666,
              "#ed7953"
             ],
             [
              0.7777777777777778,
              "#fb9f3a"
             ],
             [
              0.8888888888888888,
              "#fdca26"
             ],
             [
              1,
              "#f0f921"
             ]
            ],
            "type": "histogram2dcontour"
           }
          ],
          "mesh3d": [
           {
            "colorbar": {
             "outlinewidth": 0,
             "ticks": ""
            },
            "type": "mesh3d"
           }
          ],
          "parcoords": [
           {
            "line": {
             "colorbar": {
              "outlinewidth": 0,
              "ticks": ""
             }
            },
            "type": "parcoords"
           }
          ],
          "pie": [
           {
            "automargin": true,
            "type": "pie"
           }
          ],
          "scatter": [
           {
            "marker": {
             "colorbar": {
              "outlinewidth": 0,
              "ticks": ""
             }
            },
            "type": "scatter"
           }
          ],
          "scatter3d": [
           {
            "line": {
             "colorbar": {
              "outlinewidth": 0,
              "ticks": ""
             }
            },
            "marker": {
             "colorbar": {
              "outlinewidth": 0,
              "ticks": ""
             }
            },
            "type": "scatter3d"
           }
          ],
          "scattercarpet": [
           {
            "marker": {
             "colorbar": {
              "outlinewidth": 0,
              "ticks": ""
             }
            },
            "type": "scattercarpet"
           }
          ],
          "scattergeo": [
           {
            "marker": {
             "colorbar": {
              "outlinewidth": 0,
              "ticks": ""
             }
            },
            "type": "scattergeo"
           }
          ],
          "scattergl": [
           {
            "marker": {
             "colorbar": {
              "outlinewidth": 0,
              "ticks": ""
             }
            },
            "type": "scattergl"
           }
          ],
          "scattermapbox": [
           {
            "marker": {
             "colorbar": {
              "outlinewidth": 0,
              "ticks": ""
             }
            },
            "type": "scattermapbox"
           }
          ],
          "scatterpolar": [
           {
            "marker": {
             "colorbar": {
              "outlinewidth": 0,
              "ticks": ""
             }
            },
            "type": "scatterpolar"
           }
          ],
          "scatterpolargl": [
           {
            "marker": {
             "colorbar": {
              "outlinewidth": 0,
              "ticks": ""
             }
            },
            "type": "scatterpolargl"
           }
          ],
          "scatterternary": [
           {
            "marker": {
             "colorbar": {
              "outlinewidth": 0,
              "ticks": ""
             }
            },
            "type": "scatterternary"
           }
          ],
          "surface": [
           {
            "colorbar": {
             "outlinewidth": 0,
             "ticks": ""
            },
            "colorscale": [
             [
              0,
              "#0d0887"
             ],
             [
              0.1111111111111111,
              "#46039f"
             ],
             [
              0.2222222222222222,
              "#7201a8"
             ],
             [
              0.3333333333333333,
              "#9c179e"
             ],
             [
              0.4444444444444444,
              "#bd3786"
             ],
             [
              0.5555555555555556,
              "#d8576b"
             ],
             [
              0.6666666666666666,
              "#ed7953"
             ],
             [
              0.7777777777777778,
              "#fb9f3a"
             ],
             [
              0.8888888888888888,
              "#fdca26"
             ],
             [
              1,
              "#f0f921"
             ]
            ],
            "type": "surface"
           }
          ],
          "table": [
           {
            "cells": {
             "fill": {
              "color": "#EBF0F8"
             },
             "line": {
              "color": "white"
             }
            },
            "header": {
             "fill": {
              "color": "#C8D4E3"
             },
             "line": {
              "color": "white"
             }
            },
            "type": "table"
           }
          ]
         },
         "layout": {
          "annotationdefaults": {
           "arrowcolor": "#2a3f5f",
           "arrowhead": 0,
           "arrowwidth": 1
          },
          "autotypenumbers": "strict",
          "coloraxis": {
           "colorbar": {
            "outlinewidth": 0,
            "ticks": ""
           }
          },
          "colorscale": {
           "diverging": [
            [
             0,
             "#8e0152"
            ],
            [
             0.1,
             "#c51b7d"
            ],
            [
             0.2,
             "#de77ae"
            ],
            [
             0.3,
             "#f1b6da"
            ],
            [
             0.4,
             "#fde0ef"
            ],
            [
             0.5,
             "#f7f7f7"
            ],
            [
             0.6,
             "#e6f5d0"
            ],
            [
             0.7,
             "#b8e186"
            ],
            [
             0.8,
             "#7fbc41"
            ],
            [
             0.9,
             "#4d9221"
            ],
            [
             1,
             "#276419"
            ]
           ],
           "sequential": [
            [
             0,
             "#0d0887"
            ],
            [
             0.1111111111111111,
             "#46039f"
            ],
            [
             0.2222222222222222,
             "#7201a8"
            ],
            [
             0.3333333333333333,
             "#9c179e"
            ],
            [
             0.4444444444444444,
             "#bd3786"
            ],
            [
             0.5555555555555556,
             "#d8576b"
            ],
            [
             0.6666666666666666,
             "#ed7953"
            ],
            [
             0.7777777777777778,
             "#fb9f3a"
            ],
            [
             0.8888888888888888,
             "#fdca26"
            ],
            [
             1,
             "#f0f921"
            ]
           ],
           "sequentialminus": [
            [
             0,
             "#0d0887"
            ],
            [
             0.1111111111111111,
             "#46039f"
            ],
            [
             0.2222222222222222,
             "#7201a8"
            ],
            [
             0.3333333333333333,
             "#9c179e"
            ],
            [
             0.4444444444444444,
             "#bd3786"
            ],
            [
             0.5555555555555556,
             "#d8576b"
            ],
            [
             0.6666666666666666,
             "#ed7953"
            ],
            [
             0.7777777777777778,
             "#fb9f3a"
            ],
            [
             0.8888888888888888,
             "#fdca26"
            ],
            [
             1,
             "#f0f921"
            ]
           ]
          },
          "colorway": [
           "#636efa",
           "#EF553B",
           "#00cc96",
           "#ab63fa",
           "#FFA15A",
           "#19d3f3",
           "#FF6692",
           "#B6E880",
           "#FF97FF",
           "#FECB52"
          ],
          "font": {
           "color": "#2a3f5f"
          },
          "geo": {
           "bgcolor": "white",
           "lakecolor": "white",
           "landcolor": "#E5ECF6",
           "showlakes": true,
           "showland": true,
           "subunitcolor": "white"
          },
          "hoverlabel": {
           "align": "left"
          },
          "hovermode": "closest",
          "mapbox": {
           "style": "light"
          },
          "paper_bgcolor": "white",
          "plot_bgcolor": "#E5ECF6",
          "polar": {
           "angularaxis": {
            "gridcolor": "white",
            "linecolor": "white",
            "ticks": ""
           },
           "bgcolor": "#E5ECF6",
           "radialaxis": {
            "gridcolor": "white",
            "linecolor": "white",
            "ticks": ""
           }
          },
          "scene": {
           "xaxis": {
            "backgroundcolor": "#E5ECF6",
            "gridcolor": "white",
            "gridwidth": 2,
            "linecolor": "white",
            "showbackground": true,
            "ticks": "",
            "zerolinecolor": "white"
           },
           "yaxis": {
            "backgroundcolor": "#E5ECF6",
            "gridcolor": "white",
            "gridwidth": 2,
            "linecolor": "white",
            "showbackground": true,
            "ticks": "",
            "zerolinecolor": "white"
           },
           "zaxis": {
            "backgroundcolor": "#E5ECF6",
            "gridcolor": "white",
            "gridwidth": 2,
            "linecolor": "white",
            "showbackground": true,
            "ticks": "",
            "zerolinecolor": "white"
           }
          },
          "shapedefaults": {
           "line": {
            "color": "#2a3f5f"
           }
          },
          "ternary": {
           "aaxis": {
            "gridcolor": "white",
            "linecolor": "white",
            "ticks": ""
           },
           "baxis": {
            "gridcolor": "white",
            "linecolor": "white",
            "ticks": ""
           },
           "bgcolor": "#E5ECF6",
           "caxis": {
            "gridcolor": "white",
            "linecolor": "white",
            "ticks": ""
           }
          },
          "title": {
           "x": 0.05
          },
          "xaxis": {
           "automargin": true,
           "gridcolor": "white",
           "linecolor": "white",
           "ticks": "",
           "title": {
            "standoff": 15
           },
           "zerolinecolor": "white",
           "zerolinewidth": 2
          },
          "yaxis": {
           "automargin": true,
           "gridcolor": "white",
           "linecolor": "white",
           "ticks": "",
           "title": {
            "standoff": 15
           },
           "zerolinecolor": "white",
           "zerolinewidth": 2
          }
         }
        }
       }
      },
      "text/html": [
       "<div\n",
       "    class=\"webio-mountpoint\"\n",
       "    data-webio-mountpoint=\"1586670507724689339\"\n",
       ">\n",
       "    <script>\n",
       "    (function(){\n",
       "    // Some integrations (namely, IJulia/Jupyter) use an alternate render pathway than\n",
       "    // just putting the html on the page. If WebIO isn't defined, then it's pretty likely\n",
       "    // that we're in one of those situations and the integration just isn't installed\n",
       "    // correctly.\n",
       "    if (typeof window.WebIO === \"undefined\") {\n",
       "        document\n",
       "            .querySelector('[data-webio-mountpoint=\"1586670507724689339\"]')\n",
       "            .innerHTML = (\n",
       "                '<div style=\"padding: 1em; background-color: #f8d6da; border: 1px solid #f5c6cb; font-weight: bold;\">' +\n",
       "                '<p><strong>WebIO not detected.</strong></p>' +\n",
       "                '<p>Please read ' +\n",
       "                '<a href=\"https://juliagizmos.github.io/WebIO.jl/latest/troubleshooting/not-detected/\" target=\"_blank\">the troubleshooting guide</a> ' +\n",
       "                'for more information on how to resolve this issue.</p>' +\n",
       "                '<p><a href=\"https://juliagizmos.github.io/WebIO.jl/latest/troubleshooting/not-detected/\" target=\"_blank\">https://juliagizmos.github.io/WebIO.jl/latest/troubleshooting/not-detected/</a></p>' +\n",
       "                '</div>'\n",
       "            );\n",
       "        return;\n",
       "    }\n",
       "    WebIO.mount(\n",
       "        document.querySelector('[data-webio-mountpoint=\"1586670507724689339\"]'),\n",
       "        {\"props\":{},\"nodeType\":\"Scope\",\"type\":\"node\",\"instanceArgs\":{\"imports\":{\"data\":[{\"name\":\"Plotly\",\"type\":\"js\",\"url\":\"\\/assetserver\\/bda7806b127bf51b9e2b8530371cec1e797b422f-plotly.min.js\"},{\"name\":null,\"type\":\"js\",\"url\":\"\\/assetserver\\/3674cc0bcda0672a356c8b6d28b7709d8f57f175-plotly_webio.bundle.js\"}],\"type\":\"async_block\"},\"id\":\"13137869999244844697\",\"handlers\":{\"_toImage\":[\"(function (options){return this.Plotly.toImage(this.plotElem,options).then((function (data){return WebIO.setval({\\\"name\\\":\\\"image\\\",\\\"scope\\\":\\\"13137869999244844697\\\",\\\"id\\\":\\\"15118597114376390541\\\",\\\"type\\\":\\\"observable\\\"},data)}))})\"],\"__get_gd_contents\":[\"(function (prop){prop==\\\"data\\\" ? (WebIO.setval({\\\"name\\\":\\\"__gd_contents\\\",\\\"scope\\\":\\\"13137869999244844697\\\",\\\"id\\\":\\\"2231292972152174687\\\",\\\"type\\\":\\\"observable\\\"},this.plotElem.data)) : undefined; return prop==\\\"layout\\\" ? (WebIO.setval({\\\"name\\\":\\\"__gd_contents\\\",\\\"scope\\\":\\\"13137869999244844697\\\",\\\"id\\\":\\\"2231292972152174687\\\",\\\"type\\\":\\\"observable\\\"},this.plotElem.layout)) : undefined})\"],\"_downloadImage\":[\"(function (options){return this.Plotly.downloadImage(this.plotElem,options)})\"],\"_commands\":[\"(function (args){var fn=args.shift(); var elem=this.plotElem; var Plotly=this.Plotly; args.unshift(elem); return Plotly[fn].apply(this,args)})\"]},\"systemjs_options\":null,\"mount_callbacks\":[\"function () {\\n    var handler = ((function (Plotly,PlotlyWebIO){PlotlyWebIO.init(WebIO); var gd=this.dom.querySelector(\\\"#plot-39a1f639-4cd5-45cb-ab2c-cee33cb10b76\\\"); this.plotElem=gd; this.Plotly=Plotly; (window.Blink!==undefined) ? (gd.style.width=\\\"100%\\\", gd.style.height=\\\"100vh\\\", gd.style.marginLeft=\\\"0%\\\", gd.style.marginTop=\\\"0vh\\\") : undefined; window.onresize=(function (){return Plotly.Plots.resize(gd)}); Plotly.newPlot(gd,[{\\\"showlegend\\\":false,\\\"mode\\\":\\\"markers+lines\\\",\\\"type\\\":\\\"scattermapbox\\\",\\\"lat\\\":[46.0,42.8333],\\\"lon\\\":[2.0,12.8333],\\\"marker\\\":{\\\"size\\\":10}},{\\\"showlegend\\\":false,\\\"mode\\\":\\\"markers+lines\\\",\\\"type\\\":\\\"scattermapbox\\\",\\\"lat\\\":[30,10,-20],\\\"lon\\\":[-50,-60,40],\\\"marker\\\":{\\\"size\\\":10}}],{\\\"template\\\":{\\\"layout\\\":{\\\"coloraxis\\\":{\\\"colorbar\\\":{\\\"ticks\\\":\\\"\\\",\\\"outlinewidth\\\":0}},\\\"xaxis\\\":{\\\"gridcolor\\\":\\\"white\\\",\\\"zerolinewidth\\\":2,\\\"title\\\":{\\\"standoff\\\":15},\\\"ticks\\\":\\\"\\\",\\\"zerolinecolor\\\":\\\"white\\\",\\\"automargin\\\":true,\\\"linecolor\\\":\\\"white\\\"},\\\"hovermode\\\":\\\"closest\\\",\\\"paper_bgcolor\\\":\\\"white\\\",\\\"geo\\\":{\\\"showlakes\\\":true,\\\"showland\\\":true,\\\"landcolor\\\":\\\"#E5ECF6\\\",\\\"bgcolor\\\":\\\"white\\\",\\\"subunitcolor\\\":\\\"white\\\",\\\"lakecolor\\\":\\\"white\\\"},\\\"colorscale\\\":{\\\"sequential\\\":[[0.0,\\\"#0d0887\\\"],[0.1111111111111111,\\\"#46039f\\\"],[0.2222222222222222,\\\"#7201a8\\\"],[0.3333333333333333,\\\"#9c179e\\\"],[0.4444444444444444,\\\"#bd3786\\\"],[0.5555555555555556,\\\"#d8576b\\\"],[0.6666666666666666,\\\"#ed7953\\\"],[0.7777777777777778,\\\"#fb9f3a\\\"],[0.8888888888888888,\\\"#fdca26\\\"],[1.0,\\\"#f0f921\\\"]],\\\"diverging\\\":[[0,\\\"#8e0152\\\"],[0.1,\\\"#c51b7d\\\"],[0.2,\\\"#de77ae\\\"],[0.3,\\\"#f1b6da\\\"],[0.4,\\\"#fde0ef\\\"],[0.5,\\\"#f7f7f7\\\"],[0.6,\\\"#e6f5d0\\\"],[0.7,\\\"#b8e186\\\"],[0.8,\\\"#7fbc41\\\"],[0.9,\\\"#4d9221\\\"],[1,\\\"#276419\\\"]],\\\"sequentialminus\\\":[[0.0,\\\"#0d0887\\\"],[0.1111111111111111,\\\"#46039f\\\"],[0.2222222222222222,\\\"#7201a8\\\"],[0.3333333333333333,\\\"#9c179e\\\"],[0.4444444444444444,\\\"#bd3786\\\"],[0.5555555555555556,\\\"#d8576b\\\"],[0.6666666666666666,\\\"#ed7953\\\"],[0.7777777777777778,\\\"#fb9f3a\\\"],[0.8888888888888888,\\\"#fdca26\\\"],[1.0,\\\"#f0f921\\\"]]},\\\"yaxis\\\":{\\\"gridcolor\\\":\\\"white\\\",\\\"zerolinewidth\\\":2,\\\"title\\\":{\\\"standoff\\\":15},\\\"ticks\\\":\\\"\\\",\\\"zerolinecolor\\\":\\\"white\\\",\\\"automargin\\\":true,\\\"linecolor\\\":\\\"white\\\"},\\\"shapedefaults\\\":{\\\"line\\\":{\\\"color\\\":\\\"#2a3f5f\\\"}},\\\"hoverlabel\\\":{\\\"align\\\":\\\"left\\\"},\\\"mapbox\\\":{\\\"style\\\":\\\"light\\\"},\\\"polar\\\":{\\\"angularaxis\\\":{\\\"gridcolor\\\":\\\"white\\\",\\\"ticks\\\":\\\"\\\",\\\"linecolor\\\":\\\"white\\\"},\\\"bgcolor\\\":\\\"#E5ECF6\\\",\\\"radialaxis\\\":{\\\"gridcolor\\\":\\\"white\\\",\\\"ticks\\\":\\\"\\\",\\\"linecolor\\\":\\\"white\\\"}},\\\"autotypenumbers\\\":\\\"strict\\\",\\\"font\\\":{\\\"color\\\":\\\"#2a3f5f\\\"},\\\"ternary\\\":{\\\"baxis\\\":{\\\"gridcolor\\\":\\\"white\\\",\\\"ticks\\\":\\\"\\\",\\\"linecolor\\\":\\\"white\\\"},\\\"bgcolor\\\":\\\"#E5ECF6\\\",\\\"caxis\\\":{\\\"gridcolor\\\":\\\"white\\\",\\\"ticks\\\":\\\"\\\",\\\"linecolor\\\":\\\"white\\\"},\\\"aaxis\\\":{\\\"gridcolor\\\":\\\"white\\\",\\\"ticks\\\":\\\"\\\",\\\"linecolor\\\":\\\"white\\\"}},\\\"annotationdefaults\\\":{\\\"arrowhead\\\":0,\\\"arrowwidth\\\":1,\\\"arrowcolor\\\":\\\"#2a3f5f\\\"},\\\"plot_bgcolor\\\":\\\"#E5ECF6\\\",\\\"title\\\":{\\\"x\\\":0.05},\\\"scene\\\":{\\\"xaxis\\\":{\\\"gridcolor\\\":\\\"white\\\",\\\"gridwidth\\\":2,\\\"backgroundcolor\\\":\\\"#E5ECF6\\\",\\\"ticks\\\":\\\"\\\",\\\"showbackground\\\":true,\\\"zerolinecolor\\\":\\\"white\\\",\\\"linecolor\\\":\\\"white\\\"},\\\"zaxis\\\":{\\\"gridcolor\\\":\\\"white\\\",\\\"gridwidth\\\":2,\\\"backgroundcolor\\\":\\\"#E5ECF6\\\",\\\"ticks\\\":\\\"\\\",\\\"showbackground\\\":true,\\\"zerolinecolor\\\":\\\"white\\\",\\\"linecolor\\\":\\\"white\\\"},\\\"yaxis\\\":{\\\"gridcolor\\\":\\\"white\\\",\\\"gridwidth\\\":2,\\\"backgroundcolor\\\":\\\"#E5ECF6\\\",\\\"ticks\\\":\\\"\\\",\\\"showbackground\\\":true,\\\"zerolinecolor\\\":\\\"white\\\",\\\"linecolor\\\":\\\"white\\\"}},\\\"colorway\\\":[\\\"#636efa\\\",\\\"#EF553B\\\",\\\"#00cc96\\\",\\\"#ab63fa\\\",\\\"#FFA15A\\\",\\\"#19d3f3\\\",\\\"#FF6692\\\",\\\"#B6E880\\\",\\\"#FF97FF\\\",\\\"#FECB52\\\"]},\\\"data\\\":{\\\"barpolar\\\":[{\\\"type\\\":\\\"barpolar\\\",\\\"marker\\\":{\\\"line\\\":{\\\"color\\\":\\\"#E5ECF6\\\",\\\"width\\\":0.5}}}],\\\"carpet\\\":[{\\\"aaxis\\\":{\\\"gridcolor\\\":\\\"white\\\",\\\"endlinecolor\\\":\\\"#2a3f5f\\\",\\\"minorgridcolor\\\":\\\"white\\\",\\\"startlinecolor\\\":\\\"#2a3f5f\\\",\\\"linecolor\\\":\\\"white\\\"},\\\"type\\\":\\\"carpet\\\",\\\"baxis\\\":{\\\"gridcolor\\\":\\\"white\\\",\\\"endlinecolor\\\":\\\"#2a3f5f\\\",\\\"minorgridcolor\\\":\\\"white\\\",\\\"startlinecolor\\\":\\\"#2a3f5f\\\",\\\"linecolor\\\":\\\"white\\\"}}],\\\"scatterpolar\\\":[{\\\"type\\\":\\\"scatterpolar\\\",\\\"marker\\\":{\\\"colorbar\\\":{\\\"ticks\\\":\\\"\\\",\\\"outlinewidth\\\":0}}}],\\\"parcoords\\\":[{\\\"line\\\":{\\\"colorbar\\\":{\\\"ticks\\\":\\\"\\\",\\\"outlinewidth\\\":0}},\\\"type\\\":\\\"parcoords\\\"}],\\\"scatter\\\":[{\\\"type\\\":\\\"scatter\\\",\\\"marker\\\":{\\\"colorbar\\\":{\\\"ticks\\\":\\\"\\\",\\\"outlinewidth\\\":0}}}],\\\"histogram2dcontour\\\":[{\\\"colorbar\\\":{\\\"ticks\\\":\\\"\\\",\\\"outlinewidth\\\":0},\\\"type\\\":\\\"histogram2dcontour\\\",\\\"colorscale\\\":[[0.0,\\\"#0d0887\\\"],[0.1111111111111111,\\\"#46039f\\\"],[0.2222222222222222,\\\"#7201a8\\\"],[0.3333333333333333,\\\"#9c179e\\\"],[0.4444444444444444,\\\"#bd3786\\\"],[0.5555555555555556,\\\"#d8576b\\\"],[0.6666666666666666,\\\"#ed7953\\\"],[0.7777777777777778,\\\"#fb9f3a\\\"],[0.8888888888888888,\\\"#fdca26\\\"],[1.0,\\\"#f0f921\\\"]]}],\\\"contour\\\":[{\\\"colorbar\\\":{\\\"ticks\\\":\\\"\\\",\\\"outlinewidth\\\":0},\\\"type\\\":\\\"contour\\\",\\\"colorscale\\\":[[0.0,\\\"#0d0887\\\"],[0.1111111111111111,\\\"#46039f\\\"],[0.2222222222222222,\\\"#7201a8\\\"],[0.3333333333333333,\\\"#9c179e\\\"],[0.4444444444444444,\\\"#bd3786\\\"],[0.5555555555555556,\\\"#d8576b\\\"],[0.6666666666666666,\\\"#ed7953\\\"],[0.7777777777777778,\\\"#fb9f3a\\\"],[0.8888888888888888,\\\"#fdca26\\\"],[1.0,\\\"#f0f921\\\"]]}],\\\"scattercarpet\\\":[{\\\"type\\\":\\\"scattercarpet\\\",\\\"marker\\\":{\\\"colorbar\\\":{\\\"ticks\\\":\\\"\\\",\\\"outlinewidth\\\":0}}}],\\\"mesh3d\\\":[{\\\"colorbar\\\":{\\\"ticks\\\":\\\"\\\",\\\"outlinewidth\\\":0},\\\"type\\\":\\\"mesh3d\\\"}],\\\"surface\\\":[{\\\"colorbar\\\":{\\\"ticks\\\":\\\"\\\",\\\"outlinewidth\\\":0},\\\"type\\\":\\\"surface\\\",\\\"colorscale\\\":[[0.0,\\\"#0d0887\\\"],[0.1111111111111111,\\\"#46039f\\\"],[0.2222222222222222,\\\"#7201a8\\\"],[0.3333333333333333,\\\"#9c179e\\\"],[0.4444444444444444,\\\"#bd3786\\\"],[0.5555555555555556,\\\"#d8576b\\\"],[0.6666666666666666,\\\"#ed7953\\\"],[0.7777777777777778,\\\"#fb9f3a\\\"],[0.8888888888888888,\\\"#fdca26\\\"],[1.0,\\\"#f0f921\\\"]]}],\\\"scattermapbox\\\":[{\\\"type\\\":\\\"scattermapbox\\\",\\\"marker\\\":{\\\"colorbar\\\":{\\\"ticks\\\":\\\"\\\",\\\"outlinewidth\\\":0}}}],\\\"scattergeo\\\":[{\\\"type\\\":\\\"scattergeo\\\",\\\"marker\\\":{\\\"colorbar\\\":{\\\"ticks\\\":\\\"\\\",\\\"outlinewidth\\\":0}}}],\\\"histogram\\\":[{\\\"type\\\":\\\"histogram\\\",\\\"marker\\\":{\\\"colorbar\\\":{\\\"ticks\\\":\\\"\\\",\\\"outlinewidth\\\":0}}}],\\\"pie\\\":[{\\\"type\\\":\\\"pie\\\",\\\"automargin\\\":true}],\\\"choropleth\\\":[{\\\"colorbar\\\":{\\\"ticks\\\":\\\"\\\",\\\"outlinewidth\\\":0},\\\"type\\\":\\\"choropleth\\\"}],\\\"heatmapgl\\\":[{\\\"colorbar\\\":{\\\"ticks\\\":\\\"\\\",\\\"outlinewidth\\\":0},\\\"type\\\":\\\"heatmapgl\\\",\\\"colorscale\\\":[[0.0,\\\"#0d0887\\\"],[0.1111111111111111,\\\"#46039f\\\"],[0.2222222222222222,\\\"#7201a8\\\"],[0.3333333333333333,\\\"#9c179e\\\"],[0.4444444444444444,\\\"#bd3786\\\"],[0.5555555555555556,\\\"#d8576b\\\"],[0.6666666666666666,\\\"#ed7953\\\"],[0.7777777777777778,\\\"#fb9f3a\\\"],[0.8888888888888888,\\\"#fdca26\\\"],[1.0,\\\"#f0f921\\\"]]}],\\\"bar\\\":[{\\\"type\\\":\\\"bar\\\",\\\"error_y\\\":{\\\"color\\\":\\\"#2a3f5f\\\"},\\\"error_x\\\":{\\\"color\\\":\\\"#2a3f5f\\\"},\\\"marker\\\":{\\\"line\\\":{\\\"color\\\":\\\"#E5ECF6\\\",\\\"width\\\":0.5}}}],\\\"heatmap\\\":[{\\\"colorbar\\\":{\\\"ticks\\\":\\\"\\\",\\\"outlinewidth\\\":0},\\\"type\\\":\\\"heatmap\\\",\\\"colorscale\\\":[[0.0,\\\"#0d0887\\\"],[0.1111111111111111,\\\"#46039f\\\"],[0.2222222222222222,\\\"#7201a8\\\"],[0.3333333333333333,\\\"#9c179e\\\"],[0.4444444444444444,\\\"#bd3786\\\"],[0.5555555555555556,\\\"#d8576b\\\"],[0.6666666666666666,\\\"#ed7953\\\"],[0.7777777777777778,\\\"#fb9f3a\\\"],[0.8888888888888888,\\\"#fdca26\\\"],[1.0,\\\"#f0f921\\\"]]}],\\\"contourcarpet\\\":[{\\\"colorbar\\\":{\\\"ticks\\\":\\\"\\\",\\\"outlinewidth\\\":0},\\\"type\\\":\\\"contourcarpet\\\"}],\\\"table\\\":[{\\\"type\\\":\\\"table\\\",\\\"header\\\":{\\\"line\\\":{\\\"color\\\":\\\"white\\\"},\\\"fill\\\":{\\\"color\\\":\\\"#C8D4E3\\\"}},\\\"cells\\\":{\\\"line\\\":{\\\"color\\\":\\\"white\\\"},\\\"fill\\\":{\\\"color\\\":\\\"#EBF0F8\\\"}}}],\\\"scatter3d\\\":[{\\\"line\\\":{\\\"colorbar\\\":{\\\"ticks\\\":\\\"\\\",\\\"outlinewidth\\\":0}},\\\"type\\\":\\\"scatter3d\\\",\\\"marker\\\":{\\\"colorbar\\\":{\\\"ticks\\\":\\\"\\\",\\\"outlinewidth\\\":0}}}],\\\"scattergl\\\":[{\\\"type\\\":\\\"scattergl\\\",\\\"marker\\\":{\\\"colorbar\\\":{\\\"ticks\\\":\\\"\\\",\\\"outlinewidth\\\":0}}}],\\\"histogram2d\\\":[{\\\"colorbar\\\":{\\\"ticks\\\":\\\"\\\",\\\"outlinewidth\\\":0},\\\"type\\\":\\\"histogram2d\\\",\\\"colorscale\\\":[[0.0,\\\"#0d0887\\\"],[0.1111111111111111,\\\"#46039f\\\"],[0.2222222222222222,\\\"#7201a8\\\"],[0.3333333333333333,\\\"#9c179e\\\"],[0.4444444444444444,\\\"#bd3786\\\"],[0.5555555555555556,\\\"#d8576b\\\"],[0.6666666666666666,\\\"#ed7953\\\"],[0.7777777777777778,\\\"#fb9f3a\\\"],[0.8888888888888888,\\\"#fdca26\\\"],[1.0,\\\"#f0f921\\\"]]}],\\\"scatterternary\\\":[{\\\"type\\\":\\\"scatterternary\\\",\\\"marker\\\":{\\\"colorbar\\\":{\\\"ticks\\\":\\\"\\\",\\\"outlinewidth\\\":0}}}],\\\"scatterpolargl\\\":[{\\\"type\\\":\\\"scatterpolargl\\\",\\\"marker\\\":{\\\"colorbar\\\":{\\\"ticks\\\":\\\"\\\",\\\"outlinewidth\\\":0}}}]}},\\\"margin\\\":{\\\"l\\\":0,\\\"b\\\":0,\\\"r\\\":0,\\\"t\\\":0},\\\"mapbox\\\":{\\\"zoom\\\":1,\\\"center\\\":{\\\"lat\\\":-20,\\\"lon\\\":-20},\\\"style\\\":\\\"stamen-terrain\\\"}},{\\\"showLink\\\":false,\\\"editable\\\":false,\\\"responsive\\\":true,\\\"staticPlot\\\":false,\\\"scrollZoom\\\":true}); gd.on(\\\"plotly_hover\\\",(function (data){var filtered_data=WebIO.PlotlyCommands.filterEventData(gd,data,\\\"hover\\\"); return !(filtered_data.isnil) ? (WebIO.setval({\\\"name\\\":\\\"hover\\\",\\\"scope\\\":\\\"13137869999244844697\\\",\\\"id\\\":\\\"18091221842636856606\\\",\\\"type\\\":\\\"observable\\\"},filtered_data.out)) : undefined})); gd.on(\\\"plotly_unhover\\\",(function (){return WebIO.setval({\\\"name\\\":\\\"hover\\\",\\\"scope\\\":\\\"13137869999244844697\\\",\\\"id\\\":\\\"18091221842636856606\\\",\\\"type\\\":\\\"observable\\\"},{})})); gd.on(\\\"plotly_selected\\\",(function (data){var filtered_data=WebIO.PlotlyCommands.filterEventData(gd,data,\\\"selected\\\"); return !(filtered_data.isnil) ? (WebIO.setval({\\\"name\\\":\\\"selected\\\",\\\"scope\\\":\\\"13137869999244844697\\\",\\\"id\\\":\\\"7958380138149330892\\\",\\\"type\\\":\\\"observable\\\"},filtered_data.out)) : undefined})); gd.on(\\\"plotly_deselect\\\",(function (){return WebIO.setval({\\\"name\\\":\\\"selected\\\",\\\"scope\\\":\\\"13137869999244844697\\\",\\\"id\\\":\\\"7958380138149330892\\\",\\\"type\\\":\\\"observable\\\"},{})})); gd.on(\\\"plotly_relayout\\\",(function (data){var filtered_data=WebIO.PlotlyCommands.filterEventData(gd,data,\\\"relayout\\\"); return !(filtered_data.isnil) ? (WebIO.setval({\\\"name\\\":\\\"relayout\\\",\\\"scope\\\":\\\"13137869999244844697\\\",\\\"id\\\":\\\"11252075537613799159\\\",\\\"type\\\":\\\"observable\\\"},filtered_data.out)) : undefined})); return gd.on(\\\"plotly_click\\\",(function (data){var filtered_data=WebIO.PlotlyCommands.filterEventData(gd,data,\\\"click\\\"); return !(filtered_data.isnil) ? (WebIO.setval({\\\"name\\\":\\\"click\\\",\\\"scope\\\":\\\"13137869999244844697\\\",\\\"id\\\":\\\"9614694013452091431\\\",\\\"type\\\":\\\"observable\\\"},filtered_data.out)) : undefined}))}));\\n    (WebIO.importBlock({\\\"data\\\":[{\\\"name\\\":\\\"Plotly\\\",\\\"type\\\":\\\"js\\\",\\\"url\\\":\\\"\\/assetserver\\/bda7806b127bf51b9e2b8530371cec1e797b422f-plotly.min.js\\\"},{\\\"name\\\":null,\\\"type\\\":\\\"js\\\",\\\"url\\\":\\\"\\/assetserver\\/3674cc0bcda0672a356c8b6d28b7709d8f57f175-plotly_webio.bundle.js\\\"}],\\\"type\\\":\\\"async_block\\\"})).then((imports) => handler.apply(this, imports));\\n}\\n\"],\"observables\":{\"_toImage\":{\"sync\":false,\"id\":\"15852472414887016574\",\"value\":{}},\"hover\":{\"sync\":false,\"id\":\"18091221842636856606\",\"value\":{}},\"selected\":{\"sync\":false,\"id\":\"7958380138149330892\",\"value\":{}},\"__gd_contents\":{\"sync\":false,\"id\":\"2231292972152174687\",\"value\":{}},\"click\":{\"sync\":false,\"id\":\"9614694013452091431\",\"value\":{}},\"image\":{\"sync\":true,\"id\":\"15118597114376390541\",\"value\":\"\"},\"__get_gd_contents\":{\"sync\":false,\"id\":\"6812209503406786395\",\"value\":\"\"},\"_downloadImage\":{\"sync\":false,\"id\":\"1269855623995276614\",\"value\":{}},\"relayout\":{\"sync\":false,\"id\":\"11252075537613799159\",\"value\":{}},\"_commands\":{\"sync\":false,\"id\":\"4338875193837747433\",\"value\":[]}}},\"children\":[{\"props\":{\"id\":\"plot-39a1f639-4cd5-45cb-ab2c-cee33cb10b76\"},\"nodeType\":\"DOM\",\"type\":\"node\",\"instanceArgs\":{\"namespace\":\"html\",\"tag\":\"div\"},\"children\":[]}]},\n",
       "        window,\n",
       "    );\n",
       "    })()\n",
       "    </script>\n",
       "</div>\n"
      ],
      "text/plain": [
       "data: [\n",
       "  \"scattermapbox with fields lat, lon, marker, mode, showlegend, and type\",\n",
       "  \"scattermapbox with fields lat, lon, marker, mode, showlegend, and type\"\n",
       "]\n",
       "\n",
       "layout: \"layout with fields mapbox, margin, and template\"\n",
       "\n"
      ]
     },
     "execution_count": 45,
     "metadata": {},
     "output_type": "execute_result"
    }
   ],
   "source": [
    "begin\n",
    "    t1 = scattermapbox(\n",
    "            mode = \"markers+lines\",\n",
    "            lon = [france.\"Longitude (average)\"[1], italie.\"Longitude (average)\"[1]],\n",
    "            lat = [france.\"Latitude (average)\"[1], italie.\"Latitude (average)\"[1]],\n",
    "            marker = attr(size = 10),\n",
    "            showlegend=false)\n",
    "\n",
    "    t2 = scattermapbox(\n",
    "        mode = \"markers+lines\",\n",
    "        lon = [-50, -60, 40],\n",
    "        lat = [30, 10, -20],\n",
    "        marker = attr(size = 10),\n",
    "        showlegend=false)\n",
    "        \n",
    "    layout = Layout(\n",
    "            margin = attr(\n",
    "                l = 0, \n",
    "                t = 0,\n",
    "                b = 0,\n",
    "                r = 0),\n",
    "            mapbox = attr(\n",
    "                #center = attr(lon = 10, lat = 10),\n",
    "                style = \"stamen-terrain\",\n",
    "                center = attr(lon = -20, lat = -20),\n",
    "                zoom = 1),\n",
    "            )\n",
    "    \n",
    "    \n",
    "        PlotlyJS.plot([t1, t2], layout)\n",
    "    end"
   ]
  },
  {
   "cell_type": "code",
   "execution_count": null,
   "metadata": {},
   "outputs": [],
   "source": []
  }
 ],
 "metadata": {
  "kernelspec": {
   "display_name": "Julia 1.8.1",
   "language": "julia",
   "name": "julia-1.8"
  },
  "language_info": {
   "file_extension": ".jl",
   "mimetype": "application/julia",
   "name": "julia",
   "version": "1.8.1"
  },
  "orig_nbformat": 4,
  "vscode": {
   "interpreter": {
    "hash": "76d3d9ea52ae0f582c7ab8c3bbc7d312c08f3afa3631e827e583225c1557aa69"
   }
  }
 },
 "nbformat": 4,
 "nbformat_minor": 2
}
